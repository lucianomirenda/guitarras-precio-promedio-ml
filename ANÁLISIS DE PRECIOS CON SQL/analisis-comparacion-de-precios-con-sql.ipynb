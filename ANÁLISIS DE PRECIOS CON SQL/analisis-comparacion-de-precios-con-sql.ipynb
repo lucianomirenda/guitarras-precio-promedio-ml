{
 "cells": [
  {
   "cell_type": "code",
   "execution_count": 0,
   "metadata": {
    "application/vnd.databricks.v1+cell": {
     "cellMetadata": {
      "byteLimit": 2048000,
      "implicitDf": true,
      "rowLimit": 10000
     },
     "inputWidgets": {},
     "nuid": "09c527c0-b46a-4b95-96ca-f6247021adce",
     "showTitle": false,
     "tableResultSettingsMap": {},
     "title": ""
    }
   },
   "outputs": [
    {
     "output_type": "display_data",
     "data": {
      "text/html": [
       "<style scoped>\n",
       "  .table-result-container {\n",
       "    max-height: 300px;\n",
       "    overflow: auto;\n",
       "  }\n",
       "  table, th, td {\n",
       "    border: 1px solid black;\n",
       "    border-collapse: collapse;\n",
       "  }\n",
       "  th, td {\n",
       "    padding: 5px;\n",
       "  }\n",
       "  th {\n",
       "    text-align: left;\n",
       "  }\n",
       "</style><div class='table-result-container'><table class='table-result'><thead style='background-color: white'><tr></tr></thead><tbody></tbody></table></div>"
      ]
     },
     "metadata": {
      "application/vnd.databricks.v1+output": {
       "addedWidgets": {},
       "aggData": [],
       "aggError": "",
       "aggOverflow": false,
       "aggSchema": [],
       "aggSeriesLimitReached": false,
       "aggType": "",
       "arguments": {},
       "columnCustomDisplayInfos": {},
       "data": [],
       "datasetInfos": [],
       "dbfsResultPath": null,
       "isJsonSchema": true,
       "metadata": {},
       "overflow": false,
       "plotOptions": {
        "customPlotOptions": {},
        "displayType": "table",
        "pivotAggregation": null,
        "pivotColumns": null,
        "xColumns": null,
        "yColumns": null
       },
       "removedWidgets": [],
       "schema": [],
       "type": "table"
      }
     },
     "output_type": "display_data"
    }
   ],
   "source": [
    "%sql\n",
    "\n",
    "USE guitar_db;"
   ]
  },
  {
   "cell_type": "code",
   "execution_count": 0,
   "metadata": {
    "application/vnd.databricks.v1+cell": {
     "cellMetadata": {
      "byteLimit": 2048000,
      "implicitDf": true,
      "rowLimit": 10000
     },
     "inputWidgets": {},
     "nuid": "974e5da4-dc5c-4277-aa53-822e1bb418a3",
     "showTitle": false,
     "tableResultSettingsMap": {},
     "title": ""
    }
   },
   "outputs": [
    {
     "output_type": "display_data",
     "data": {
      "text/html": [
       "<style scoped>\n",
       "  .table-result-container {\n",
       "    max-height: 300px;\n",
       "    overflow: auto;\n",
       "  }\n",
       "  table, th, td {\n",
       "    border: 1px solid black;\n",
       "    border-collapse: collapse;\n",
       "  }\n",
       "  th, td {\n",
       "    padding: 5px;\n",
       "  }\n",
       "  th {\n",
       "    text-align: left;\n",
       "  }\n",
       "</style><div class='table-result-container'><table class='table-result'><thead style='background-color: white'><tr><th>database</th><th>tableName</th><th>isTemporary</th></tr></thead><tbody><tr><td>guitar_db</td><td>dim_brand</td><td>false</td></tr><tr><td>guitar_db</td><td>dim_model</td><td>false</td></tr><tr><td>guitar_db</td><td>dim_series</td><td>false</td></tr><tr><td>guitar_db</td><td>dim_type</td><td>false</td></tr><tr><td>guitar_db</td><td>fact_guitar</td><td>false</td></tr></tbody></table></div>"
      ]
     },
     "metadata": {
      "application/vnd.databricks.v1+output": {
       "addedWidgets": {},
       "aggData": [],
       "aggError": "",
       "aggOverflow": false,
       "aggSchema": [],
       "aggSeriesLimitReached": false,
       "aggType": "",
       "arguments": {},
       "columnCustomDisplayInfos": {},
       "data": [
        [
         "guitar_db",
         "dim_brand",
         false
        ],
        [
         "guitar_db",
         "dim_model",
         false
        ],
        [
         "guitar_db",
         "dim_series",
         false
        ],
        [
         "guitar_db",
         "dim_type",
         false
        ],
        [
         "guitar_db",
         "fact_guitar",
         false
        ]
       ],
       "datasetInfos": [],
       "dbfsResultPath": null,
       "isJsonSchema": true,
       "metadata": {},
       "overflow": false,
       "plotOptions": {
        "customPlotOptions": {},
        "displayType": "table",
        "pivotAggregation": null,
        "pivotColumns": null,
        "xColumns": null,
        "yColumns": null
       },
       "removedWidgets": [],
       "schema": [
        {
         "metadata": "{}",
         "name": "database",
         "type": "\"string\""
        },
        {
         "metadata": "{}",
         "name": "tableName",
         "type": "\"string\""
        },
        {
         "metadata": "{}",
         "name": "isTemporary",
         "type": "\"boolean\""
        }
       ],
       "type": "table"
      }
     },
     "output_type": "display_data"
    }
   ],
   "source": [
    "%sql\n",
    "\n",
    "SHOW TABLES IN guitar_db;"
   ]
  },
  {
   "cell_type": "markdown",
   "metadata": {
    "application/vnd.databricks.v1+cell": {
     "cellMetadata": {},
     "inputWidgets": {},
     "nuid": "71a894e9-661e-42c1-a6a0-a8e2316030da",
     "showTitle": false,
     "tableResultSettingsMap": {},
     "title": ""
    }
   },
   "source": [
    "# Promedio de precio por Marca"
   ]
  },
  {
   "cell_type": "markdown",
   "metadata": {
    "application/vnd.databricks.v1+cell": {
     "cellMetadata": {},
     "inputWidgets": {},
     "nuid": "f9714f10-06d2-49d6-9ac8-4b31017b0ad5",
     "showTitle": false,
     "tableResultSettingsMap": {},
     "title": ""
    }
   },
   "source": [
    "## Promedio de precio por Marca (Eléctricas)"
   ]
  },
  {
   "cell_type": "code",
   "execution_count": 0,
   "metadata": {
    "application/vnd.databricks.v1+cell": {
     "cellMetadata": {
      "byteLimit": 2048000,
      "implicitDf": true,
      "rowLimit": 10000
     },
     "inputWidgets": {},
     "nuid": "23d47934-5c90-4c09-b4ed-0965566552c4",
     "showTitle": false,
     "tableResultSettingsMap": {},
     "title": ""
    }
   },
   "outputs": [
    {
     "output_type": "display_data",
     "data": {
      "text/html": [
       "<style scoped>\n",
       "  .table-result-container {\n",
       "    max-height: 300px;\n",
       "    overflow: auto;\n",
       "  }\n",
       "  table, th, td {\n",
       "    border: 1px solid black;\n",
       "    border-collapse: collapse;\n",
       "  }\n",
       "  th, td {\n",
       "    padding: 5px;\n",
       "  }\n",
       "  th {\n",
       "    text-align: left;\n",
       "  }\n",
       "</style><div class='table-result-container'><table class='table-result'><thead style='background-color: white'><tr><th>brand</th><th>avg_price</th></tr></thead><tbody><tr><td>squier</td><td>838043.93</td></tr><tr><td>cort</td><td>1013683.7</td></tr><tr><td>epiphone</td><td>1391962.89</td></tr><tr><td>yamaha</td><td>1455666.03</td></tr></tbody></table></div>"
      ]
     },
     "metadata": {
      "application/vnd.databricks.v1+output": {
       "addedWidgets": {},
       "aggData": [],
       "aggError": "",
       "aggOverflow": false,
       "aggSchema": [],
       "aggSeriesLimitReached": false,
       "aggType": "",
       "arguments": {},
       "columnCustomDisplayInfos": {},
       "data": [
        [
         "squier",
         838043.93
        ],
        [
         "cort",
         1013683.7
        ],
        [
         "epiphone",
         1391962.89
        ],
        [
         "yamaha",
         1455666.03
        ]
       ],
       "datasetInfos": [],
       "dbfsResultPath": null,
       "isJsonSchema": true,
       "metadata": {},
       "overflow": false,
       "plotOptions": {
        "customPlotOptions": {},
        "displayType": "table",
        "pivotAggregation": null,
        "pivotColumns": null,
        "xColumns": null,
        "yColumns": null
       },
       "removedWidgets": [],
       "schema": [
        {
         "metadata": "{}",
         "name": "brand",
         "type": "\"string\""
        },
        {
         "metadata": "{}",
         "name": "avg_price",
         "type": "\"double\""
        }
       ],
       "type": "table"
      }
     },
     "output_type": "display_data"
    }
   ],
   "source": [
    "%sql\n",
    "SELECT db.brand, ROUND(AVG(fg.price),2) as avg_price FROM fact_guitar fg \n",
    "INNER JOIN dim_model dm ON fg.id_model = dm.id_model\n",
    "INNER JOIN dim_brand db ON dm.id_brand = db.id_brand\n",
    "INNER JOIN dim_series ds ON dm.id_series = ds.id_series\n",
    "INNER JOIN dim_type dt ON dm.id_type = dt.id_type\n",
    "WHERE dt.type = 'electric' \n",
    "GROUP BY db.brand\n",
    "ORDER BY avg_price"
   ]
  },
  {
   "cell_type": "markdown",
   "metadata": {
    "application/vnd.databricks.v1+cell": {
     "cellMetadata": {},
     "inputWidgets": {},
     "nuid": "f9d0ad58-b6d1-400d-ad34-78f32ccf2175",
     "showTitle": false,
     "tableResultSettingsMap": {},
     "title": ""
    }
   },
   "source": [
    "## Promedio de precio por Marca (Clasicas o Acústicas)"
   ]
  },
  {
   "cell_type": "code",
   "execution_count": 0,
   "metadata": {
    "application/vnd.databricks.v1+cell": {
     "cellMetadata": {
      "byteLimit": 2048000,
      "implicitDf": true,
      "rowLimit": 10000
     },
     "inputWidgets": {},
     "nuid": "1b627b10-7524-414d-a61e-0746ab9e63d4",
     "showTitle": false,
     "tableResultSettingsMap": {},
     "title": ""
    }
   },
   "outputs": [
    {
     "output_type": "display_data",
     "data": {
      "text/html": [
       "<style scoped>\n",
       "  .table-result-container {\n",
       "    max-height: 300px;\n",
       "    overflow: auto;\n",
       "  }\n",
       "  table, th, td {\n",
       "    border: 1px solid black;\n",
       "    border-collapse: collapse;\n",
       "  }\n",
       "  th, td {\n",
       "    padding: 5px;\n",
       "  }\n",
       "  th {\n",
       "    text-align: left;\n",
       "  }\n",
       "</style><div class='table-result-container'><table class='table-result'><thead style='background-color: white'><tr><th>brand</th><th>avg_price</th></tr></thead><tbody><tr><td>cort</td><td>502539.0</td></tr><tr><td>yamaha</td><td>761172.0</td></tr></tbody></table></div>"
      ]
     },
     "metadata": {
      "application/vnd.databricks.v1+output": {
       "addedWidgets": {},
       "aggData": [],
       "aggError": "",
       "aggOverflow": false,
       "aggSchema": [],
       "aggSeriesLimitReached": false,
       "aggType": "",
       "arguments": {},
       "columnCustomDisplayInfos": {},
       "data": [
        [
         "cort",
         502539.0
        ],
        [
         "yamaha",
         761172.0
        ]
       ],
       "datasetInfos": [],
       "dbfsResultPath": null,
       "isJsonSchema": true,
       "metadata": {},
       "overflow": false,
       "plotOptions": {
        "customPlotOptions": {},
        "displayType": "table",
        "pivotAggregation": null,
        "pivotColumns": null,
        "xColumns": null,
        "yColumns": null
       },
       "removedWidgets": [],
       "schema": [
        {
         "metadata": "{}",
         "name": "brand",
         "type": "\"string\""
        },
        {
         "metadata": "{}",
         "name": "avg_price",
         "type": "\"double\""
        }
       ],
       "type": "table"
      }
     },
     "output_type": "display_data"
    }
   ],
   "source": [
    "%sql\n",
    "SELECT db.brand, ROUND(AVG(fg.price),0) as avg_price FROM fact_guitar fg \n",
    "INNER JOIN dim_model dm ON fg.id_model = dm.id_model\n",
    "INNER JOIN dim_brand db ON dm.id_brand = db.id_brand\n",
    "INNER JOIN dim_series ds ON dm.id_series = ds.id_series\n",
    "INNER JOIN dim_type dt ON dm.id_type = dt.id_type\n",
    "WHERE dt.type != 'electric' \n",
    "GROUP BY db.brand\n",
    "ORDER BY avg_price"
   ]
  },
  {
   "cell_type": "markdown",
   "metadata": {
    "application/vnd.databricks.v1+cell": {
     "cellMetadata": {},
     "inputWidgets": {},
     "nuid": "9a612ede-5aaf-415d-be71-daa03eac8bca",
     "showTitle": false,
     "tableResultSettingsMap": {},
     "title": ""
    }
   },
   "source": [
    "# Promedio de precio por Modelo en cada Serie (Eléctricas)"
   ]
  },
  {
   "cell_type": "markdown",
   "metadata": {
    "application/vnd.databricks.v1+cell": {
     "cellMetadata": {},
     "inputWidgets": {},
     "nuid": "7b989817-38cc-477a-8b61-27d5f4c6f147",
     "showTitle": false,
     "tableResultSettingsMap": {},
     "title": ""
    }
   },
   "source": [
    "## Modelos de marca 'Squier'"
   ]
  },
  {
   "cell_type": "code",
   "execution_count": 0,
   "metadata": {
    "application/vnd.databricks.v1+cell": {
     "cellMetadata": {
      "byteLimit": 2048000,
      "implicitDf": true,
      "rowLimit": 10000
     },
     "inputWidgets": {},
     "nuid": "83d36379-2a84-412c-b063-b4972d149a39",
     "showTitle": false,
     "tableResultSettingsMap": {},
     "title": ""
    }
   },
   "outputs": [
    {
     "output_type": "display_data",
     "data": {
      "text/html": [
       "<style scoped>\n",
       "  .table-result-container {\n",
       "    max-height: 300px;\n",
       "    overflow: auto;\n",
       "  }\n",
       "  table, th, td {\n",
       "    border: 1px solid black;\n",
       "    border-collapse: collapse;\n",
       "  }\n",
       "  th, td {\n",
       "    padding: 5px;\n",
       "  }\n",
       "  th {\n",
       "    text-align: left;\n",
       "  }\n",
       "</style><div class='table-result-container'><table class='table-result'><thead style='background-color: white'><tr><th>model</th><th>series</th><th>type</th><th>avg_price</th></tr></thead><tbody><tr><td>stratocaster</td><td>bullet</td><td>electric</td><td>549956.0</td></tr><tr><td>telecaster</td><td>bullet</td><td>electric</td><td>597109.0</td></tr><tr><td>telecaster</td><td>affinity</td><td>electric</td><td>799292.0</td></tr><tr><td>telecaster</td><td>contemporary</td><td>electric</td><td>842768.0</td></tr><tr><td>stratocaster</td><td>affinity</td><td>electric</td><td>861020.0</td></tr><tr><td>stratocaster</td><td>contemporary</td><td>electric</td><td>1158801.0</td></tr><tr><td>telecaster</td><td>classic vibe</td><td>electric</td><td>1608127.0</td></tr><tr><td>stratocaster</td><td>classic vibe</td><td>electric</td><td>1655500.0</td></tr></tbody></table></div>"
      ]
     },
     "metadata": {
      "application/vnd.databricks.v1+output": {
       "addedWidgets": {},
       "aggData": [],
       "aggError": "",
       "aggOverflow": false,
       "aggSchema": [],
       "aggSeriesLimitReached": false,
       "aggType": "",
       "arguments": {},
       "columnCustomDisplayInfos": {},
       "data": [
        [
         "stratocaster",
         "bullet",
         "electric",
         549956.0
        ],
        [
         "telecaster",
         "bullet",
         "electric",
         597109.0
        ],
        [
         "telecaster",
         "affinity",
         "electric",
         799292.0
        ],
        [
         "telecaster",
         "contemporary",
         "electric",
         842768.0
        ],
        [
         "stratocaster",
         "affinity",
         "electric",
         861020.0
        ],
        [
         "stratocaster",
         "contemporary",
         "electric",
         1158801.0
        ],
        [
         "telecaster",
         "classic vibe",
         "electric",
         1608127.0
        ],
        [
         "stratocaster",
         "classic vibe",
         "electric",
         1655500.0
        ]
       ],
       "datasetInfos": [],
       "dbfsResultPath": null,
       "isJsonSchema": true,
       "metadata": {},
       "overflow": false,
       "plotOptions": {
        "customPlotOptions": {},
        "displayType": "table",
        "pivotAggregation": null,
        "pivotColumns": null,
        "xColumns": null,
        "yColumns": null
       },
       "removedWidgets": [],
       "schema": [
        {
         "metadata": "{}",
         "name": "model",
         "type": "\"string\""
        },
        {
         "metadata": "{}",
         "name": "series",
         "type": "\"string\""
        },
        {
         "metadata": "{}",
         "name": "type",
         "type": "\"string\""
        },
        {
         "metadata": "{}",
         "name": "avg_price",
         "type": "\"double\""
        }
       ],
       "type": "table"
      }
     },
     "output_type": "display_data"
    }
   ],
   "source": [
    "%sql\n",
    "\n",
    "SELECT dm.model,ds.series,dt.type, ROUND(AVG(fg.price),0) as avg_price\n",
    "FROM fact_guitar fg \n",
    "INNER JOIN dim_model dm ON fg.id_model = dm.id_model\n",
    "INNER JOIN dim_brand db ON db.id_brand = dm.id_brand\n",
    "INNER JOIN dim_series ds ON ds.id_series = dm.id_series\n",
    "INNER JOIN dim_type dt ON dt.id_type = dm.id_type\n",
    "WHERE dt.type = 'electric' AND db.brand = 'squier'\n",
    "GROUP BY dm.model,ds.series,dt.type\n",
    "ORDER BY avg_price"
   ]
  },
  {
   "cell_type": "markdown",
   "metadata": {
    "application/vnd.databricks.v1+cell": {
     "cellMetadata": {},
     "inputWidgets": {},
     "nuid": "ca7337bf-fab7-4833-a2da-af1319b4e84d",
     "showTitle": false,
     "tableResultSettingsMap": {},
     "title": ""
    }
   },
   "source": [
    "## Modelos de marca 'Cort'"
   ]
  },
  {
   "cell_type": "code",
   "execution_count": 0,
   "metadata": {
    "application/vnd.databricks.v1+cell": {
     "cellMetadata": {
      "byteLimit": 2048000,
      "implicitDf": true,
      "rowLimit": 10000
     },
     "inputWidgets": {},
     "nuid": "9f47a20b-39dc-4ec8-b441-cb9ac560bda2",
     "showTitle": false,
     "tableResultSettingsMap": {},
     "title": ""
    }
   },
   "outputs": [
    {
     "output_type": "display_data",
     "data": {
      "text/html": [
       "<style scoped>\n",
       "  .table-result-container {\n",
       "    max-height: 300px;\n",
       "    overflow: auto;\n",
       "  }\n",
       "  table, th, td {\n",
       "    border: 1px solid black;\n",
       "    border-collapse: collapse;\n",
       "  }\n",
       "  th, td {\n",
       "    padding: 5px;\n",
       "  }\n",
       "  th {\n",
       "    text-align: left;\n",
       "  }\n",
       "</style><div class='table-result-container'><table class='table-result'><thead style='background-color: white'><tr><th>model</th><th>series</th><th>type</th><th>avg_price</th></tr></thead><tbody><tr><td>g110</td><td>g</td><td>electric</td><td>412225.0</td></tr><tr><td>x100</td><td>x</td><td>electric</td><td>467727.0</td></tr><tr><td>kx100</td><td>kx</td><td>electric</td><td>535618.0</td></tr><tr><td>g200</td><td>g</td><td>electric</td><td>571600.0</td></tr><tr><td>cr100</td><td>cr</td><td>electric</td><td>589271.0</td></tr><tr><td>g250</td><td>g</td><td>electric</td><td>620994.0</td></tr><tr><td>cr200</td><td>cr</td><td>electric</td><td>862140.0</td></tr><tr><td>g260</td><td>g</td><td>electric</td><td>929638.0</td></tr><tr><td>kx300</td><td>kx</td><td>electric</td><td>948399.0</td></tr><tr><td>kx307</td><td>kx</td><td>electric</td><td>961002.0</td></tr><tr><td>x300</td><td>x</td><td>electric</td><td>1021639.0</td></tr><tr><td>cr250</td><td>cr</td><td>electric</td><td>1060148.0</td></tr><tr><td>g280</td><td>g</td><td>electric</td><td>1189230.0</td></tr><tr><td>g290</td><td>g</td><td>electric</td><td>1287888.0</td></tr><tr><td>g300</td><td>g</td><td>electric</td><td>1513896.0</td></tr><tr><td>x500</td><td>x</td><td>electric</td><td>1669065.0</td></tr><tr><td>kx507</td><td>kx</td><td>electric</td><td>1727644.0</td></tr><tr><td>kx500</td><td>kx</td><td>electric</td><td>1784485.0</td></tr><tr><td>kx508</td><td>kx</td><td>electric</td><td>1959007.0</td></tr><tr><td>x700</td><td>x</td><td>electric</td><td>2274812.0</td></tr><tr><td>kx700</td><td>kx</td><td>electric</td><td>2306338.0</td></tr></tbody></table></div>"
      ]
     },
     "metadata": {
      "application/vnd.databricks.v1+output": {
       "addedWidgets": {},
       "aggData": [],
       "aggError": "",
       "aggOverflow": false,
       "aggSchema": [],
       "aggSeriesLimitReached": false,
       "aggType": "",
       "arguments": {},
       "columnCustomDisplayInfos": {},
       "data": [
        [
         "g110",
         "g",
         "electric",
         412225.0
        ],
        [
         "x100",
         "x",
         "electric",
         467727.0
        ],
        [
         "kx100",
         "kx",
         "electric",
         535618.0
        ],
        [
         "g200",
         "g",
         "electric",
         571600.0
        ],
        [
         "cr100",
         "cr",
         "electric",
         589271.0
        ],
        [
         "g250",
         "g",
         "electric",
         620994.0
        ],
        [
         "cr200",
         "cr",
         "electric",
         862140.0
        ],
        [
         "g260",
         "g",
         "electric",
         929638.0
        ],
        [
         "kx300",
         "kx",
         "electric",
         948399.0
        ],
        [
         "kx307",
         "kx",
         "electric",
         961002.0
        ],
        [
         "x300",
         "x",
         "electric",
         1021639.0
        ],
        [
         "cr250",
         "cr",
         "electric",
         1060148.0
        ],
        [
         "g280",
         "g",
         "electric",
         1189230.0
        ],
        [
         "g290",
         "g",
         "electric",
         1287888.0
        ],
        [
         "g300",
         "g",
         "electric",
         1513896.0
        ],
        [
         "x500",
         "x",
         "electric",
         1669065.0
        ],
        [
         "kx507",
         "kx",
         "electric",
         1727644.0
        ],
        [
         "kx500",
         "kx",
         "electric",
         1784485.0
        ],
        [
         "kx508",
         "kx",
         "electric",
         1959007.0
        ],
        [
         "x700",
         "x",
         "electric",
         2274812.0
        ],
        [
         "kx700",
         "kx",
         "electric",
         2306338.0
        ]
       ],
       "datasetInfos": [],
       "dbfsResultPath": null,
       "isJsonSchema": true,
       "metadata": {},
       "overflow": false,
       "plotOptions": {
        "customPlotOptions": {},
        "displayType": "table",
        "pivotAggregation": null,
        "pivotColumns": null,
        "xColumns": null,
        "yColumns": null
       },
       "removedWidgets": [],
       "schema": [
        {
         "metadata": "{}",
         "name": "model",
         "type": "\"string\""
        },
        {
         "metadata": "{}",
         "name": "series",
         "type": "\"string\""
        },
        {
         "metadata": "{}",
         "name": "type",
         "type": "\"string\""
        },
        {
         "metadata": "{}",
         "name": "avg_price",
         "type": "\"double\""
        }
       ],
       "type": "table"
      }
     },
     "output_type": "display_data"
    }
   ],
   "source": [
    "%sql\n",
    "\n",
    "SELECT dm.model,ds.series,dt.type, ROUND(AVG(fg.price),0) as avg_price\n",
    "FROM fact_guitar fg \n",
    "INNER JOIN dim_model dm ON fg.id_model = dm.id_model\n",
    "INNER JOIN dim_brand db ON db.id_brand = dm.id_brand\n",
    "INNER JOIN dim_series ds ON ds.id_series = dm.id_series\n",
    "INNER JOIN dim_type dt ON dt.id_type = dm.id_type\n",
    "WHERE dt.type = 'electric' AND db.brand = 'cort'\n",
    "GROUP BY dm.model,ds.series,dt.type\n",
    "ORDER BY avg_price"
   ]
  },
  {
   "cell_type": "markdown",
   "metadata": {
    "application/vnd.databricks.v1+cell": {
     "cellMetadata": {},
     "inputWidgets": {},
     "nuid": "fb94a2d8-ad01-4ae1-a52e-e9b19037173f",
     "showTitle": false,
     "tableResultSettingsMap": {},
     "title": ""
    }
   },
   "source": [
    "##Modelos de marca 'Epiphone'"
   ]
  },
  {
   "cell_type": "code",
   "execution_count": 0,
   "metadata": {
    "application/vnd.databricks.v1+cell": {
     "cellMetadata": {
      "byteLimit": 2048000,
      "implicitDf": true,
      "rowLimit": 10000
     },
     "inputWidgets": {},
     "nuid": "524fb694-a6e4-44b6-85c2-79a1f394ba6d",
     "showTitle": false,
     "tableResultSettingsMap": {},
     "title": ""
    }
   },
   "outputs": [
    {
     "output_type": "display_data",
     "data": {
      "text/html": [
       "<style scoped>\n",
       "  .table-result-container {\n",
       "    max-height: 300px;\n",
       "    overflow: auto;\n",
       "  }\n",
       "  table, th, td {\n",
       "    border: 1px solid black;\n",
       "    border-collapse: collapse;\n",
       "  }\n",
       "  th, td {\n",
       "    padding: 5px;\n",
       "  }\n",
       "  th {\n",
       "    text-align: left;\n",
       "  }\n",
       "</style><div class='table-result-container'><table class='table-result'><thead style='background-color: white'><tr><th>model</th><th>series</th><th>type</th><th>avg_price</th></tr></thead><tbody><tr><td>sg</td><td>casino</td><td>electric</td><td>165423.0</td></tr><tr><td>les paul</td><td>melody maker</td><td>electric</td><td>433252.0</td></tr><tr><td>sg</td><td>modern</td><td>electric</td><td>804636.0</td></tr><tr><td>les paul</td><td>special</td><td>electric</td><td>810728.0</td></tr><tr><td>les paul</td><td>studio</td><td>electric</td><td>1027763.0</td></tr><tr><td>sg</td><td>special</td><td>electric</td><td>1235871.0</td></tr><tr><td>sg</td><td>standard</td><td>electric</td><td>1552295.0</td></tr><tr><td>les paul</td><td>modern</td><td>electric</td><td>1560750.0</td></tr><tr><td>dot</td><td>dot</td><td>electric</td><td>1590039.0</td></tr><tr><td>sg</td><td>custom</td><td>electric</td><td>1949230.0</td></tr><tr><td>casino</td><td>casino</td><td>electric</td><td>2047776.0</td></tr><tr><td>les paul</td><td>standard</td><td>electric</td><td>2124996.0</td></tr><tr><td>les paul</td><td>custom</td><td>electric</td><td>3940532.0</td></tr></tbody></table></div>"
      ]
     },
     "metadata": {
      "application/vnd.databricks.v1+output": {
       "addedWidgets": {},
       "aggData": [],
       "aggError": "",
       "aggOverflow": false,
       "aggSchema": [],
       "aggSeriesLimitReached": false,
       "aggType": "",
       "arguments": {},
       "columnCustomDisplayInfos": {},
       "data": [
        [
         "sg",
         "casino",
         "electric",
         165423.0
        ],
        [
         "les paul",
         "melody maker",
         "electric",
         433252.0
        ],
        [
         "sg",
         "modern",
         "electric",
         804636.0
        ],
        [
         "les paul",
         "special",
         "electric",
         810728.0
        ],
        [
         "les paul",
         "studio",
         "electric",
         1027763.0
        ],
        [
         "sg",
         "special",
         "electric",
         1235871.0
        ],
        [
         "sg",
         "standard",
         "electric",
         1552295.0
        ],
        [
         "les paul",
         "modern",
         "electric",
         1560750.0
        ],
        [
         "dot",
         "dot",
         "electric",
         1590039.0
        ],
        [
         "sg",
         "custom",
         "electric",
         1949230.0
        ],
        [
         "casino",
         "casino",
         "electric",
         2047776.0
        ],
        [
         "les paul",
         "standard",
         "electric",
         2124996.0
        ],
        [
         "les paul",
         "custom",
         "electric",
         3940532.0
        ]
       ],
       "datasetInfos": [],
       "dbfsResultPath": null,
       "isJsonSchema": true,
       "metadata": {},
       "overflow": false,
       "plotOptions": {
        "customPlotOptions": {},
        "displayType": "table",
        "pivotAggregation": null,
        "pivotColumns": null,
        "xColumns": null,
        "yColumns": null
       },
       "removedWidgets": [],
       "schema": [
        {
         "metadata": "{}",
         "name": "model",
         "type": "\"string\""
        },
        {
         "metadata": "{}",
         "name": "series",
         "type": "\"string\""
        },
        {
         "metadata": "{}",
         "name": "type",
         "type": "\"string\""
        },
        {
         "metadata": "{}",
         "name": "avg_price",
         "type": "\"double\""
        }
       ],
       "type": "table"
      }
     },
     "output_type": "display_data"
    }
   ],
   "source": [
    "%sql\n",
    "\n",
    "SELECT dm.model,ds.series,dt.type, ROUND(AVG(fg.price),0) as avg_price\n",
    "FROM fact_guitar fg \n",
    "INNER JOIN dim_model dm ON fg.id_model = dm.id_model\n",
    "INNER JOIN dim_brand db ON db.id_brand = dm.id_brand\n",
    "INNER JOIN dim_series ds ON ds.id_series = dm.id_series\n",
    "INNER JOIN dim_type dt ON dt.id_type = dm.id_type\n",
    "WHERE dt.type = 'electric' AND db.brand = 'epiphone'\n",
    "GROUP BY dm.model,ds.series,dt.type\n",
    "ORDER BY avg_price"
   ]
  },
  {
   "cell_type": "markdown",
   "metadata": {
    "application/vnd.databricks.v1+cell": {
     "cellMetadata": {},
     "inputWidgets": {},
     "nuid": "d3770abf-c698-49a6-be42-70eba7e0439c",
     "showTitle": false,
     "tableResultSettingsMap": {},
     "title": ""
    }
   },
   "source": [
    "##Modelos de marca 'Yamaha'"
   ]
  },
  {
   "cell_type": "code",
   "execution_count": 0,
   "metadata": {
    "application/vnd.databricks.v1+cell": {
     "cellMetadata": {
      "byteLimit": 2048000,
      "implicitDf": true,
      "rowLimit": 10000
     },
     "inputWidgets": {},
     "nuid": "b317bce8-b94c-4df0-aa8c-5f1247277848",
     "showTitle": false,
     "tableResultSettingsMap": {},
     "title": ""
    }
   },
   "outputs": [
    {
     "output_type": "display_data",
     "data": {
      "text/html": [
       "<style scoped>\n",
       "  .table-result-container {\n",
       "    max-height: 300px;\n",
       "    overflow: auto;\n",
       "  }\n",
       "  table, th, td {\n",
       "    border: 1px solid black;\n",
       "    border-collapse: collapse;\n",
       "  }\n",
       "  th, td {\n",
       "    padding: 5px;\n",
       "  }\n",
       "  th {\n",
       "    text-align: left;\n",
       "  }\n",
       "</style><div class='table-result-container'><table class='table-result'><thead style='background-color: white'><tr><th>model</th><th>series</th><th>type</th><th>avg_price</th></tr></thead><tbody><tr><td>012</td><td>pacifica</td><td>electric</td><td>742673.0</td></tr><tr><td>112v</td><td>pacifica</td><td>electric</td><td>1116112.0</td></tr><tr><td>element</td><td>revstar</td><td>electric</td><td>1767580.0</td></tr><tr><td>professional</td><td>revstar</td><td>electric</td><td>6748775.0</td></tr></tbody></table></div>"
      ]
     },
     "metadata": {
      "application/vnd.databricks.v1+output": {
       "addedWidgets": {},
       "aggData": [],
       "aggError": "",
       "aggOverflow": false,
       "aggSchema": [],
       "aggSeriesLimitReached": false,
       "aggType": "",
       "arguments": {},
       "columnCustomDisplayInfos": {},
       "data": [
        [
         "012",
         "pacifica",
         "electric",
         742673.0
        ],
        [
         "112v",
         "pacifica",
         "electric",
         1116112.0
        ],
        [
         "element",
         "revstar",
         "electric",
         1767580.0
        ],
        [
         "professional",
         "revstar",
         "electric",
         6748775.0
        ]
       ],
       "datasetInfos": [],
       "dbfsResultPath": null,
       "isJsonSchema": true,
       "metadata": {},
       "overflow": false,
       "plotOptions": {
        "customPlotOptions": {},
        "displayType": "table",
        "pivotAggregation": null,
        "pivotColumns": null,
        "xColumns": null,
        "yColumns": null
       },
       "removedWidgets": [],
       "schema": [
        {
         "metadata": "{}",
         "name": "model",
         "type": "\"string\""
        },
        {
         "metadata": "{}",
         "name": "series",
         "type": "\"string\""
        },
        {
         "metadata": "{}",
         "name": "type",
         "type": "\"string\""
        },
        {
         "metadata": "{}",
         "name": "avg_price",
         "type": "\"double\""
        }
       ],
       "type": "table"
      }
     },
     "output_type": "display_data"
    }
   ],
   "source": [
    "%sql\n",
    "\n",
    "SELECT dm.model,ds.series,dt.type, ROUND(AVG(fg.price),0) as avg_price\n",
    "FROM fact_guitar fg \n",
    "INNER JOIN dim_model dm ON fg.id_model = dm.id_model\n",
    "INNER JOIN dim_brand db ON db.id_brand = dm.id_brand\n",
    "INNER JOIN dim_series ds ON ds.id_series = dm.id_series\n",
    "INNER JOIN dim_type dt ON dt.id_type = dm.id_type\n",
    "WHERE dt.type = 'electric' AND db.brand = 'yamaha'\n",
    "GROUP BY dm.model,ds.series,dt.type\n",
    "ORDER BY avg_price"
   ]
  },
  {
   "cell_type": "markdown",
   "metadata": {
    "application/vnd.databricks.v1+cell": {
     "cellMetadata": {},
     "inputWidgets": {},
     "nuid": "6d8ca4aa-1f52-4be7-ab0e-c0e984d12d87",
     "showTitle": false,
     "tableResultSettingsMap": {},
     "title": ""
    }
   },
   "source": [
    "## Comparación de Promedio de Precios entre Todas las Marcas y Modelos"
   ]
  },
  {
   "cell_type": "markdown",
   "metadata": {
    "application/vnd.databricks.v1+cell": {
     "cellMetadata": {},
     "inputWidgets": {},
     "nuid": "e3f46a76-a9a8-4681-90b4-85eed130d128",
     "showTitle": false,
     "tableResultSettingsMap": {},
     "title": ""
    }
   },
   "source": [
    "## Costo menor a 600mil Pesos"
   ]
  },
  {
   "cell_type": "code",
   "execution_count": 0,
   "metadata": {
    "application/vnd.databricks.v1+cell": {
     "cellMetadata": {
      "byteLimit": 2048000,
      "implicitDf": true,
      "rowLimit": 10000
     },
     "inputWidgets": {},
     "nuid": "36a72095-02df-4623-9941-8d31cf0fbbb9",
     "showTitle": false,
     "tableResultSettingsMap": {},
     "title": ""
    }
   },
   "outputs": [
    {
     "output_type": "display_data",
     "data": {
      "text/html": [
       "<style scoped>\n",
       "  .table-result-container {\n",
       "    max-height: 300px;\n",
       "    overflow: auto;\n",
       "  }\n",
       "  table, th, td {\n",
       "    border: 1px solid black;\n",
       "    border-collapse: collapse;\n",
       "  }\n",
       "  th, td {\n",
       "    padding: 5px;\n",
       "  }\n",
       "  th {\n",
       "    text-align: left;\n",
       "  }\n",
       "</style><div class='table-result-container'><table class='table-result'><thead style='background-color: white'><tr><th>brand</th><th>model</th><th>series</th><th>avg_price</th></tr></thead><tbody><tr><td>cort</td><td>g110</td><td>g</td><td>412225.0</td></tr><tr><td>epiphone</td><td>les paul</td><td>melody maker</td><td>433252.0</td></tr><tr><td>cort</td><td>x100</td><td>x</td><td>467727.0</td></tr><tr><td>cort</td><td>kx100</td><td>kx</td><td>535618.0</td></tr><tr><td>squier</td><td>stratocaster</td><td>bullet</td><td>549956.0</td></tr><tr><td>cort</td><td>g200</td><td>g</td><td>571600.0</td></tr><tr><td>cort</td><td>cr100</td><td>cr</td><td>589271.0</td></tr><tr><td>squier</td><td>telecaster</td><td>bullet</td><td>597109.0</td></tr></tbody></table></div>"
      ]
     },
     "metadata": {
      "application/vnd.databricks.v1+output": {
       "addedWidgets": {},
       "aggData": [],
       "aggError": "",
       "aggOverflow": false,
       "aggSchema": [],
       "aggSeriesLimitReached": false,
       "aggType": "",
       "arguments": {},
       "columnCustomDisplayInfos": {},
       "data": [
        [
         "cort",
         "g110",
         "g",
         412225.0
        ],
        [
         "epiphone",
         "les paul",
         "melody maker",
         433252.0
        ],
        [
         "cort",
         "x100",
         "x",
         467727.0
        ],
        [
         "cort",
         "kx100",
         "kx",
         535618.0
        ],
        [
         "squier",
         "stratocaster",
         "bullet",
         549956.0
        ],
        [
         "cort",
         "g200",
         "g",
         571600.0
        ],
        [
         "cort",
         "cr100",
         "cr",
         589271.0
        ],
        [
         "squier",
         "telecaster",
         "bullet",
         597109.0
        ]
       ],
       "datasetInfos": [],
       "dbfsResultPath": null,
       "isJsonSchema": true,
       "metadata": {},
       "overflow": false,
       "plotOptions": {
        "customPlotOptions": {},
        "displayType": "table",
        "pivotAggregation": null,
        "pivotColumns": null,
        "xColumns": null,
        "yColumns": null
       },
       "removedWidgets": [],
       "schema": [
        {
         "metadata": "{}",
         "name": "brand",
         "type": "\"string\""
        },
        {
         "metadata": "{}",
         "name": "model",
         "type": "\"string\""
        },
        {
         "metadata": "{}",
         "name": "series",
         "type": "\"string\""
        },
        {
         "metadata": "{}",
         "name": "avg_price",
         "type": "\"double\""
        }
       ],
       "type": "table"
      }
     },
     "output_type": "display_data"
    }
   ],
   "source": [
    "%sql\n",
    "\n",
    "SELECT db.brand,dm.model,ds.series, ROUND(AVG(fg.price),0) as avg_price\n",
    "FROM fact_guitar fg \n",
    "INNER JOIN dim_model dm ON fg.id_model = dm.id_model\n",
    "INNER JOIN dim_brand db ON db.id_brand = dm.id_brand\n",
    "INNER JOIN dim_series ds ON ds.id_series = dm.id_series\n",
    "INNER JOIN dim_type dt ON dt.id_type = dm.id_type\n",
    "WHERE dt.type = 'electric' \n",
    "GROUP BY db.brand,dm.model,ds.series,dt.type\n",
    "HAVING avg_price <= 600000\n",
    "ORDER BY avg_price"
   ]
  },
  {
   "cell_type": "markdown",
   "metadata": {
    "application/vnd.databricks.v1+cell": {
     "cellMetadata": {},
     "inputWidgets": {},
     "nuid": "08ee25f4-9b89-45c3-9127-cf3b1c2d225a",
     "showTitle": false,
     "tableResultSettingsMap": {},
     "title": ""
    }
   },
   "source": [
    "## Costo entre 600mil y 1 M de pesos"
   ]
  },
  {
   "cell_type": "code",
   "execution_count": 0,
   "metadata": {
    "application/vnd.databricks.v1+cell": {
     "cellMetadata": {
      "byteLimit": 2048000,
      "implicitDf": true,
      "rowLimit": 10000
     },
     "inputWidgets": {},
     "nuid": "52324f67-6953-443c-be7c-c92a877001fe",
     "showTitle": false,
     "tableResultSettingsMap": {},
     "title": ""
    }
   },
   "outputs": [
    {
     "output_type": "display_data",
     "data": {
      "text/html": [
       "<style scoped>\n",
       "  .table-result-container {\n",
       "    max-height: 300px;\n",
       "    overflow: auto;\n",
       "  }\n",
       "  table, th, td {\n",
       "    border: 1px solid black;\n",
       "    border-collapse: collapse;\n",
       "  }\n",
       "  th, td {\n",
       "    padding: 5px;\n",
       "  }\n",
       "  th {\n",
       "    text-align: left;\n",
       "  }\n",
       "</style><div class='table-result-container'><table class='table-result'><thead style='background-color: white'><tr><th>brand</th><th>model</th><th>series</th><th>avg_price</th></tr></thead><tbody><tr><td>cort</td><td>g250</td><td>g</td><td>620994.0</td></tr><tr><td>yamaha</td><td>012</td><td>pacifica</td><td>742673.0</td></tr><tr><td>squier</td><td>telecaster</td><td>affinity</td><td>799292.0</td></tr><tr><td>epiphone</td><td>sg</td><td>modern</td><td>804636.0</td></tr><tr><td>epiphone</td><td>les paul</td><td>special</td><td>810728.0</td></tr><tr><td>squier</td><td>telecaster</td><td>contemporary</td><td>842768.0</td></tr><tr><td>squier</td><td>stratocaster</td><td>affinity</td><td>861020.0</td></tr><tr><td>cort</td><td>cr200</td><td>cr</td><td>862140.0</td></tr><tr><td>cort</td><td>g260</td><td>g</td><td>929638.0</td></tr><tr><td>cort</td><td>kx300</td><td>kx</td><td>948399.0</td></tr><tr><td>cort</td><td>kx307</td><td>kx</td><td>961002.0</td></tr></tbody></table></div>"
      ]
     },
     "metadata": {
      "application/vnd.databricks.v1+output": {
       "addedWidgets": {},
       "aggData": [],
       "aggError": "",
       "aggOverflow": false,
       "aggSchema": [],
       "aggSeriesLimitReached": false,
       "aggType": "",
       "arguments": {},
       "columnCustomDisplayInfos": {},
       "data": [
        [
         "cort",
         "g250",
         "g",
         620994.0
        ],
        [
         "yamaha",
         "012",
         "pacifica",
         742673.0
        ],
        [
         "squier",
         "telecaster",
         "affinity",
         799292.0
        ],
        [
         "epiphone",
         "sg",
         "modern",
         804636.0
        ],
        [
         "epiphone",
         "les paul",
         "special",
         810728.0
        ],
        [
         "squier",
         "telecaster",
         "contemporary",
         842768.0
        ],
        [
         "squier",
         "stratocaster",
         "affinity",
         861020.0
        ],
        [
         "cort",
         "cr200",
         "cr",
         862140.0
        ],
        [
         "cort",
         "g260",
         "g",
         929638.0
        ],
        [
         "cort",
         "kx300",
         "kx",
         948399.0
        ],
        [
         "cort",
         "kx307",
         "kx",
         961002.0
        ]
       ],
       "datasetInfos": [],
       "dbfsResultPath": null,
       "isJsonSchema": true,
       "metadata": {},
       "overflow": false,
       "plotOptions": {
        "customPlotOptions": {},
        "displayType": "table",
        "pivotAggregation": null,
        "pivotColumns": null,
        "xColumns": null,
        "yColumns": null
       },
       "removedWidgets": [],
       "schema": [
        {
         "metadata": "{}",
         "name": "brand",
         "type": "\"string\""
        },
        {
         "metadata": "{}",
         "name": "model",
         "type": "\"string\""
        },
        {
         "metadata": "{}",
         "name": "series",
         "type": "\"string\""
        },
        {
         "metadata": "{}",
         "name": "avg_price",
         "type": "\"double\""
        }
       ],
       "type": "table"
      }
     },
     "output_type": "display_data"
    }
   ],
   "source": [
    "%sql\n",
    "\n",
    "SELECT db.brand,dm.model,ds.series, ROUND(AVG(fg.price),0) as avg_price\n",
    "FROM fact_guitar fg \n",
    "INNER JOIN dim_model dm ON fg.id_model = dm.id_model\n",
    "INNER JOIN dim_brand db ON db.id_brand = dm.id_brand\n",
    "INNER JOIN dim_series ds ON ds.id_series = dm.id_series\n",
    "INNER JOIN dim_type dt ON dt.id_type = dm.id_type\n",
    "WHERE dt.type = 'electric' \n",
    "GROUP BY db.brand,dm.model,ds.series,dt.type\n",
    "HAVING avg_price <= 1000000 AND avg_price >= 600000 \n",
    "ORDER BY avg_price"
   ]
  },
  {
   "cell_type": "markdown",
   "metadata": {
    "application/vnd.databricks.v1+cell": {
     "cellMetadata": {},
     "inputWidgets": {},
     "nuid": "4720af88-2ed5-4db5-b903-13327be416e6",
     "showTitle": false,
     "tableResultSettingsMap": {},
     "title": ""
    }
   },
   "source": [
    "## Costo entre 1 M y 1.5 M de pesos"
   ]
  },
  {
   "cell_type": "code",
   "execution_count": 0,
   "metadata": {
    "application/vnd.databricks.v1+cell": {
     "cellMetadata": {
      "byteLimit": 2048000,
      "implicitDf": true,
      "rowLimit": 10000
     },
     "inputWidgets": {},
     "nuid": "fac87239-92f1-4319-9dc6-230103924ff5",
     "showTitle": false,
     "tableResultSettingsMap": {},
     "title": ""
    }
   },
   "outputs": [
    {
     "output_type": "display_data",
     "data": {
      "text/html": [
       "<style scoped>\n",
       "  .table-result-container {\n",
       "    max-height: 300px;\n",
       "    overflow: auto;\n",
       "  }\n",
       "  table, th, td {\n",
       "    border: 1px solid black;\n",
       "    border-collapse: collapse;\n",
       "  }\n",
       "  th, td {\n",
       "    padding: 5px;\n",
       "  }\n",
       "  th {\n",
       "    text-align: left;\n",
       "  }\n",
       "</style><div class='table-result-container'><table class='table-result'><thead style='background-color: white'><tr><th>brand</th><th>model</th><th>series</th><th>avg_price</th></tr></thead><tbody><tr><td>cort</td><td>x300</td><td>x</td><td>1021639.0</td></tr><tr><td>epiphone</td><td>les paul</td><td>studio</td><td>1027763.0</td></tr><tr><td>cort</td><td>cr250</td><td>cr</td><td>1060148.0</td></tr><tr><td>yamaha</td><td>112v</td><td>pacifica</td><td>1116112.0</td></tr><tr><td>squier</td><td>stratocaster</td><td>contemporary</td><td>1158801.0</td></tr><tr><td>cort</td><td>g280</td><td>g</td><td>1189230.0</td></tr><tr><td>epiphone</td><td>sg</td><td>special</td><td>1235871.0</td></tr><tr><td>cort</td><td>g290</td><td>g</td><td>1287888.0</td></tr></tbody></table></div>"
      ]
     },
     "metadata": {
      "application/vnd.databricks.v1+output": {
       "addedWidgets": {},
       "aggData": [],
       "aggError": "",
       "aggOverflow": false,
       "aggSchema": [],
       "aggSeriesLimitReached": false,
       "aggType": "",
       "arguments": {},
       "columnCustomDisplayInfos": {},
       "data": [
        [
         "cort",
         "x300",
         "x",
         1021639.0
        ],
        [
         "epiphone",
         "les paul",
         "studio",
         1027763.0
        ],
        [
         "cort",
         "cr250",
         "cr",
         1060148.0
        ],
        [
         "yamaha",
         "112v",
         "pacifica",
         1116112.0
        ],
        [
         "squier",
         "stratocaster",
         "contemporary",
         1158801.0
        ],
        [
         "cort",
         "g280",
         "g",
         1189230.0
        ],
        [
         "epiphone",
         "sg",
         "special",
         1235871.0
        ],
        [
         "cort",
         "g290",
         "g",
         1287888.0
        ]
       ],
       "datasetInfos": [],
       "dbfsResultPath": null,
       "isJsonSchema": true,
       "metadata": {},
       "overflow": false,
       "plotOptions": {
        "customPlotOptions": {},
        "displayType": "table",
        "pivotAggregation": null,
        "pivotColumns": null,
        "xColumns": null,
        "yColumns": null
       },
       "removedWidgets": [],
       "schema": [
        {
         "metadata": "{}",
         "name": "brand",
         "type": "\"string\""
        },
        {
         "metadata": "{}",
         "name": "model",
         "type": "\"string\""
        },
        {
         "metadata": "{}",
         "name": "series",
         "type": "\"string\""
        },
        {
         "metadata": "{}",
         "name": "avg_price",
         "type": "\"double\""
        }
       ],
       "type": "table"
      }
     },
     "output_type": "display_data"
    }
   ],
   "source": [
    "%sql\n",
    "\n",
    "SELECT db.brand,dm.model,ds.series, ROUND(AVG(fg.price),0) as avg_price\n",
    "FROM fact_guitar fg \n",
    "INNER JOIN dim_model dm ON fg.id_model = dm.id_model\n",
    "INNER JOIN dim_brand db ON db.id_brand = dm.id_brand\n",
    "INNER JOIN dim_series ds ON ds.id_series = dm.id_series\n",
    "INNER JOIN dim_type dt ON dt.id_type = dm.id_type\n",
    "WHERE dt.type = 'electric' \n",
    "GROUP BY db.brand,dm.model,ds.series,dt.type\n",
    "HAVING avg_price <= 1500000 AND avg_price >= 1000000 \n",
    "ORDER BY avg_price"
   ]
  },
  {
   "cell_type": "markdown",
   "metadata": {
    "application/vnd.databricks.v1+cell": {
     "cellMetadata": {},
     "inputWidgets": {},
     "nuid": "d07f9aba-6ecf-40d3-8565-77a794ab88ab",
     "showTitle": false,
     "tableResultSettingsMap": {},
     "title": ""
    }
   },
   "source": [
    "## Costo entre 1.5 M y 2 M de pesos"
   ]
  },
  {
   "cell_type": "code",
   "execution_count": 0,
   "metadata": {
    "application/vnd.databricks.v1+cell": {
     "cellMetadata": {
      "byteLimit": 2048000,
      "implicitDf": true,
      "rowLimit": 10000
     },
     "inputWidgets": {},
     "nuid": "e0a38a3c-85e8-4fd6-8a98-754ad1c71ff1",
     "showTitle": false,
     "tableResultSettingsMap": {},
     "title": ""
    }
   },
   "outputs": [
    {
     "output_type": "display_data",
     "data": {
      "text/html": [
       "<style scoped>\n",
       "  .table-result-container {\n",
       "    max-height: 300px;\n",
       "    overflow: auto;\n",
       "  }\n",
       "  table, th, td {\n",
       "    border: 1px solid black;\n",
       "    border-collapse: collapse;\n",
       "  }\n",
       "  th, td {\n",
       "    padding: 5px;\n",
       "  }\n",
       "  th {\n",
       "    text-align: left;\n",
       "  }\n",
       "</style><div class='table-result-container'><table class='table-result'><thead style='background-color: white'><tr><th>brand</th><th>model</th><th>series</th><th>avg_price</th></tr></thead><tbody><tr><td>cort</td><td>g300</td><td>g</td><td>1513896.0</td></tr><tr><td>epiphone</td><td>sg</td><td>standard</td><td>1552295.0</td></tr><tr><td>epiphone</td><td>les paul</td><td>modern</td><td>1560750.0</td></tr><tr><td>squier</td><td>telecaster</td><td>classic vibe</td><td>1608127.0</td></tr><tr><td>squier</td><td>stratocaster</td><td>classic vibe</td><td>1655500.0</td></tr><tr><td>cort</td><td>x500</td><td>x</td><td>1669065.0</td></tr><tr><td>cort</td><td>kx507</td><td>kx</td><td>1727644.0</td></tr><tr><td>yamaha</td><td>element</td><td>revstar</td><td>1767580.0</td></tr><tr><td>cort</td><td>kx500</td><td>kx</td><td>1784485.0</td></tr><tr><td>epiphone</td><td>sg</td><td>custom</td><td>1949230.0</td></tr><tr><td>cort</td><td>kx508</td><td>kx</td><td>1959007.0</td></tr></tbody></table></div>"
      ]
     },
     "metadata": {
      "application/vnd.databricks.v1+output": {
       "addedWidgets": {},
       "aggData": [],
       "aggError": "",
       "aggOverflow": false,
       "aggSchema": [],
       "aggSeriesLimitReached": false,
       "aggType": "",
       "arguments": {},
       "columnCustomDisplayInfos": {},
       "data": [
        [
         "cort",
         "g300",
         "g",
         1513896.0
        ],
        [
         "epiphone",
         "sg",
         "standard",
         1552295.0
        ],
        [
         "epiphone",
         "les paul",
         "modern",
         1560750.0
        ],
        [
         "squier",
         "telecaster",
         "classic vibe",
         1608127.0
        ],
        [
         "squier",
         "stratocaster",
         "classic vibe",
         1655500.0
        ],
        [
         "cort",
         "x500",
         "x",
         1669065.0
        ],
        [
         "cort",
         "kx507",
         "kx",
         1727644.0
        ],
        [
         "yamaha",
         "element",
         "revstar",
         1767580.0
        ],
        [
         "cort",
         "kx500",
         "kx",
         1784485.0
        ],
        [
         "epiphone",
         "sg",
         "custom",
         1949230.0
        ],
        [
         "cort",
         "kx508",
         "kx",
         1959007.0
        ]
       ],
       "datasetInfos": [],
       "dbfsResultPath": null,
       "isJsonSchema": true,
       "metadata": {},
       "overflow": false,
       "plotOptions": {
        "customPlotOptions": {},
        "displayType": "table",
        "pivotAggregation": null,
        "pivotColumns": null,
        "xColumns": null,
        "yColumns": null
       },
       "removedWidgets": [],
       "schema": [
        {
         "metadata": "{}",
         "name": "brand",
         "type": "\"string\""
        },
        {
         "metadata": "{}",
         "name": "model",
         "type": "\"string\""
        },
        {
         "metadata": "{}",
         "name": "series",
         "type": "\"string\""
        },
        {
         "metadata": "{}",
         "name": "avg_price",
         "type": "\"double\""
        }
       ],
       "type": "table"
      }
     },
     "output_type": "display_data"
    }
   ],
   "source": [
    "%sql\n",
    "\n",
    "SELECT db.brand,dm.model,ds.series, ROUND(AVG(fg.price),0) as avg_price\n",
    "FROM fact_guitar fg \n",
    "INNER JOIN dim_model dm ON fg.id_model = dm.id_model\n",
    "INNER JOIN dim_brand db ON db.id_brand = dm.id_brand\n",
    "INNER JOIN dim_series ds ON ds.id_series = dm.id_series\n",
    "INNER JOIN dim_type dt ON dt.id_type = dm.id_type\n",
    "WHERE dt.type = 'electric' \n",
    "GROUP BY db.brand,dm.model,ds.series,dt.type\n",
    "HAVING avg_price <= 2000000 AND avg_price >= 1500000 \n",
    "ORDER BY avg_price"
   ]
  },
  {
   "cell_type": "markdown",
   "metadata": {
    "application/vnd.databricks.v1+cell": {
     "cellMetadata": {},
     "inputWidgets": {},
     "nuid": "bd5889b9-6229-4986-9642-47b38f36a933",
     "showTitle": false,
     "tableResultSettingsMap": {},
     "title": ""
    }
   },
   "source": [
    "## Costo mayor 2 M de pesos"
   ]
  },
  {
   "cell_type": "code",
   "execution_count": 0,
   "metadata": {
    "application/vnd.databricks.v1+cell": {
     "cellMetadata": {
      "byteLimit": 2048000,
      "implicitDf": true,
      "rowLimit": 10000
     },
     "inputWidgets": {},
     "nuid": "071a2b74-2815-4dfd-b568-fdf84beb1bff",
     "showTitle": false,
     "tableResultSettingsMap": {},
     "title": ""
    }
   },
   "outputs": [
    {
     "output_type": "display_data",
     "data": {
      "text/html": [
       "<style scoped>\n",
       "  .table-result-container {\n",
       "    max-height: 300px;\n",
       "    overflow: auto;\n",
       "  }\n",
       "  table, th, td {\n",
       "    border: 1px solid black;\n",
       "    border-collapse: collapse;\n",
       "  }\n",
       "  th, td {\n",
       "    padding: 5px;\n",
       "  }\n",
       "  th {\n",
       "    text-align: left;\n",
       "  }\n",
       "</style><div class='table-result-container'><table class='table-result'><thead style='background-color: white'><tr><th>brand</th><th>model</th><th>series</th><th>avg_price</th></tr></thead><tbody><tr><td>epiphone</td><td>les paul</td><td>standard</td><td>2124996.0</td></tr><tr><td>cort</td><td>x700</td><td>x</td><td>2274812.0</td></tr><tr><td>cort</td><td>kx700</td><td>kx</td><td>2306338.0</td></tr><tr><td>epiphone</td><td>les paul</td><td>custom</td><td>3940532.0</td></tr><tr><td>yamaha</td><td>professional</td><td>revstar</td><td>6748775.0</td></tr></tbody></table></div>"
      ]
     },
     "metadata": {
      "application/vnd.databricks.v1+output": {
       "addedWidgets": {},
       "aggData": [],
       "aggError": "",
       "aggOverflow": false,
       "aggSchema": [],
       "aggSeriesLimitReached": false,
       "aggType": "",
       "arguments": {},
       "columnCustomDisplayInfos": {},
       "data": [
        [
         "epiphone",
         "les paul",
         "standard",
         2124996.0
        ],
        [
         "cort",
         "x700",
         "x",
         2274812.0
        ],
        [
         "cort",
         "kx700",
         "kx",
         2306338.0
        ],
        [
         "epiphone",
         "les paul",
         "custom",
         3940532.0
        ],
        [
         "yamaha",
         "professional",
         "revstar",
         6748775.0
        ]
       ],
       "datasetInfos": [],
       "dbfsResultPath": null,
       "isJsonSchema": true,
       "metadata": {},
       "overflow": false,
       "plotOptions": {
        "customPlotOptions": {},
        "displayType": "table",
        "pivotAggregation": null,
        "pivotColumns": null,
        "xColumns": null,
        "yColumns": null
       },
       "removedWidgets": [],
       "schema": [
        {
         "metadata": "{}",
         "name": "brand",
         "type": "\"string\""
        },
        {
         "metadata": "{}",
         "name": "model",
         "type": "\"string\""
        },
        {
         "metadata": "{}",
         "name": "series",
         "type": "\"string\""
        },
        {
         "metadata": "{}",
         "name": "avg_price",
         "type": "\"double\""
        }
       ],
       "type": "table"
      }
     },
     "output_type": "display_data"
    }
   ],
   "source": [
    "%sql\n",
    "\n",
    "SELECT db.brand,dm.model,ds.series, ROUND(AVG(fg.price),0) as avg_price\n",
    "FROM fact_guitar fg \n",
    "INNER JOIN dim_model dm ON fg.id_model = dm.id_model\n",
    "INNER JOIN dim_brand db ON db.id_brand = dm.id_brand\n",
    "INNER JOIN dim_series ds ON ds.id_series = dm.id_series\n",
    "INNER JOIN dim_type dt ON dt.id_type = dm.id_type\n",
    "WHERE dt.type = 'electric' \n",
    "GROUP BY db.brand,dm.model,ds.series,dt.type\n",
    "HAVING avg_price >= 2000000 \n",
    "ORDER BY avg_price"
   ]
  },
  {
   "cell_type": "markdown",
   "metadata": {
    "application/vnd.databricks.v1+cell": {
     "cellMetadata": {},
     "inputWidgets": {},
     "nuid": "de03b9b7-601a-4bb0-bb15-e965ef26a5a4",
     "showTitle": false,
     "tableResultSettingsMap": {},
     "title": ""
    }
   },
   "source": [
    "# Promedio de precio por Modelo en cada Serie (Acústicas)"
   ]
  },
  {
   "cell_type": "markdown",
   "metadata": {
    "application/vnd.databricks.v1+cell": {
     "cellMetadata": {},
     "inputWidgets": {},
     "nuid": "b4bf1528-7dc9-4b8e-94a6-41c84bd2641d",
     "showTitle": false,
     "tableResultSettingsMap": {},
     "title": ""
    }
   },
   "source": [
    "## Modelos de marca 'Cort'"
   ]
  },
  {
   "cell_type": "code",
   "execution_count": 0,
   "metadata": {
    "application/vnd.databricks.v1+cell": {
     "cellMetadata": {
      "byteLimit": 2048000,
      "implicitDf": true,
      "rowLimit": 10000
     },
     "inputWidgets": {},
     "nuid": "f1ff0177-ffa3-4ad3-bfd0-d6946ed20d74",
     "showTitle": false,
     "tableResultSettingsMap": {},
     "title": ""
    }
   },
   "outputs": [
    {
     "output_type": "display_data",
     "data": {
      "text/html": [
       "<style scoped>\n",
       "  .table-result-container {\n",
       "    max-height: 300px;\n",
       "    overflow: auto;\n",
       "  }\n",
       "  table, th, td {\n",
       "    border: 1px solid black;\n",
       "    border-collapse: collapse;\n",
       "  }\n",
       "  th, td {\n",
       "    padding: 5px;\n",
       "  }\n",
       "  th {\n",
       "    text-align: left;\n",
       "  }\n",
       "</style><div class='table-result-container'><table class='table-result'><thead style='background-color: white'><tr><th>model</th><th>series</th><th>type</th><th>avg_price</th></tr></thead><tbody><tr><td>ac200</td><td>ac</td><td>classic</td><td>458750.0</td></tr><tr><td>ac250</td><td>ac</td><td>acustic</td><td>125183.0</td></tr><tr><td>ac150</td><td>ac</td><td>classic</td><td>435420.0</td></tr><tr><td>ac250</td><td>ac</td><td>classic</td><td>686475.0</td></tr><tr><td>ac160</td><td>ac</td><td>classic</td><td>719822.0</td></tr><tr><td>ac120</td><td>ac</td><td>classic</td><td>512320.0</td></tr><tr><td>ac100</td><td>ac</td><td>classic</td><td>358614.0</td></tr><tr><td>ad810</td><td>ad</td><td>acustic</td><td>423378.0</td></tr><tr><td>ad880</td><td>ad</td><td>acustic</td><td>526414.0</td></tr><tr><td>af515</td><td>af</td><td>acustic</td><td>356318.0</td></tr><tr><td>af510</td><td>af</td><td>acustic</td><td>403067.0</td></tr><tr><td>af590</td><td>af</td><td>acustic</td><td>547526.0</td></tr><tr><td>l100</td><td>l</td><td>acustic</td><td>629155.0</td></tr><tr><td>l300</td><td>l</td><td>acustic</td><td>1106114.0</td></tr><tr><td>l450</td><td>l</td><td>acustic</td><td>957479.0</td></tr><tr><td>mr710</td><td>mr</td><td>acustic</td><td>939808.0</td></tr><tr><td>mr600</td><td>mr</td><td>acustic</td><td>843430.0</td></tr><tr><td>mr500</td><td>mr</td><td>acustic</td><td>691320.0</td></tr><tr><td>mr730</td><td>mr</td><td>acustic</td><td>1162448.0</td></tr><tr><td>th100</td><td>th</td><td>acustic</td><td>608362.0</td></tr></tbody></table></div>"
      ]
     },
     "metadata": {
      "application/vnd.databricks.v1+output": {
       "addedWidgets": {},
       "aggData": [],
       "aggError": "",
       "aggOverflow": false,
       "aggSchema": [],
       "aggSeriesLimitReached": false,
       "aggType": "",
       "arguments": {},
       "columnCustomDisplayInfos": {},
       "data": [
        [
         "ac200",
         "ac",
         "classic",
         458750.0
        ],
        [
         "ac250",
         "ac",
         "acustic",
         125183.0
        ],
        [
         "ac150",
         "ac",
         "classic",
         435420.0
        ],
        [
         "ac250",
         "ac",
         "classic",
         686475.0
        ],
        [
         "ac160",
         "ac",
         "classic",
         719822.0
        ],
        [
         "ac120",
         "ac",
         "classic",
         512320.0
        ],
        [
         "ac100",
         "ac",
         "classic",
         358614.0
        ],
        [
         "ad810",
         "ad",
         "acustic",
         423378.0
        ],
        [
         "ad880",
         "ad",
         "acustic",
         526414.0
        ],
        [
         "af515",
         "af",
         "acustic",
         356318.0
        ],
        [
         "af510",
         "af",
         "acustic",
         403067.0
        ],
        [
         "af590",
         "af",
         "acustic",
         547526.0
        ],
        [
         "l100",
         "l",
         "acustic",
         629155.0
        ],
        [
         "l300",
         "l",
         "acustic",
         1106114.0
        ],
        [
         "l450",
         "l",
         "acustic",
         957479.0
        ],
        [
         "mr710",
         "mr",
         "acustic",
         939808.0
        ],
        [
         "mr600",
         "mr",
         "acustic",
         843430.0
        ],
        [
         "mr500",
         "mr",
         "acustic",
         691320.0
        ],
        [
         "mr730",
         "mr",
         "acustic",
         1162448.0
        ],
        [
         "th100",
         "th",
         "acustic",
         608362.0
        ]
       ],
       "datasetInfos": [],
       "dbfsResultPath": null,
       "isJsonSchema": true,
       "metadata": {},
       "overflow": false,
       "plotOptions": {
        "customPlotOptions": {},
        "displayType": "table",
        "pivotAggregation": null,
        "pivotColumns": null,
        "xColumns": null,
        "yColumns": null
       },
       "removedWidgets": [],
       "schema": [
        {
         "metadata": "{}",
         "name": "model",
         "type": "\"string\""
        },
        {
         "metadata": "{}",
         "name": "series",
         "type": "\"string\""
        },
        {
         "metadata": "{}",
         "name": "type",
         "type": "\"string\""
        },
        {
         "metadata": "{}",
         "name": "avg_price",
         "type": "\"double\""
        }
       ],
       "type": "table"
      }
     },
     "output_type": "display_data"
    }
   ],
   "source": [
    "%sql\n",
    "\n",
    "SELECT dm.model,ds.series,dt.type, ROUND(AVG(fg.price),0) as avg_price\n",
    "FROM fact_guitar fg \n",
    "INNER JOIN dim_model dm ON fg.id_model = dm.id_model\n",
    "INNER JOIN dim_brand db ON db.id_brand = dm.id_brand\n",
    "INNER JOIN dim_series ds ON ds.id_series = dm.id_series\n",
    "INNER JOIN dim_type dt ON dt.id_type = dm.id_type\n",
    "WHERE dt.type != 'electric' AND db.brand = 'cort'\n",
    "GROUP BY dm.model,ds.series,dt.type\n",
    "ORDER BY ds.series"
   ]
  },
  {
   "cell_type": "markdown",
   "metadata": {
    "application/vnd.databricks.v1+cell": {
     "cellMetadata": {},
     "inputWidgets": {},
     "nuid": "0d2ecbc3-abce-4ae6-88b5-3adc8b2f2b81",
     "showTitle": false,
     "tableResultSettingsMap": {},
     "title": ""
    }
   },
   "source": [
    "##Modelos de marca 'Yamaha'"
   ]
  },
  {
   "cell_type": "code",
   "execution_count": 0,
   "metadata": {
    "application/vnd.databricks.v1+cell": {
     "cellMetadata": {
      "byteLimit": 2048000,
      "implicitDf": true,
      "rowLimit": 10000
     },
     "inputWidgets": {},
     "nuid": "2301012b-88ed-42a9-83c4-ff87d4537896",
     "showTitle": false,
     "tableResultSettingsMap": {},
     "title": ""
    }
   },
   "outputs": [
    {
     "output_type": "display_data",
     "data": {
      "text/html": [
       "<style scoped>\n",
       "  .table-result-container {\n",
       "    max-height: 300px;\n",
       "    overflow: auto;\n",
       "  }\n",
       "  table, th, td {\n",
       "    border: 1px solid black;\n",
       "    border-collapse: collapse;\n",
       "  }\n",
       "  th, td {\n",
       "    padding: 5px;\n",
       "  }\n",
       "  th {\n",
       "    text-align: left;\n",
       "  }\n",
       "</style><div class='table-result-container'><table class='table-result'><thead style='background-color: white'><tr><th>model</th><th>series</th><th>type</th><th>avg_price</th></tr></thead><tbody><tr><td>apx700ii</td><td>apx</td><td>acustic</td><td>1841927.0</td></tr><tr><td>apx700</td><td>apx</td><td>acustic</td><td>1706474.0</td></tr><tr><td>apx600</td><td>apx</td><td>acustic</td><td>1056283.0</td></tr><tr><td>c80</td><td>c</td><td>classic</td><td>531279.0</td></tr><tr><td>c40</td><td>c</td><td>classic</td><td>299310.0</td></tr><tr><td>c70</td><td>c</td><td>classic</td><td>362240.0</td></tr><tr><td>c80</td><td>c</td><td>acustic</td><td>1207352.0</td></tr><tr><td>f310</td><td>f</td><td>acustic</td><td>558819.0</td></tr><tr><td>f370</td><td>f</td><td>acustic</td><td>608758.0</td></tr><tr><td>fg830</td><td>fg</td><td>acustic</td><td>768839.0</td></tr><tr><td>fs800</td><td>fg</td><td>acustic</td><td>658143.0</td></tr><tr><td>fsx800c</td><td>fg</td><td>acustic</td><td>1207352.0</td></tr><tr><td>fgx800c</td><td>fg</td><td>acustic</td><td>943863.0</td></tr><tr><td>fg800</td><td>fg</td><td>acustic</td><td>753736.0</td></tr><tr><td>fsx800c</td><td>fs</td><td>acustic</td><td>1320760.0</td></tr><tr><td>fs800</td><td>fs</td><td>acustic</td><td>795776.0</td></tr><tr><td>fx310</td><td>fx</td><td>acustic</td><td>548168.0</td></tr><tr><td>fx370</td><td>fx</td><td>acustic</td><td>834613.0</td></tr></tbody></table></div>"
      ]
     },
     "metadata": {
      "application/vnd.databricks.v1+output": {
       "addedWidgets": {},
       "aggData": [],
       "aggError": "",
       "aggOverflow": false,
       "aggSchema": [],
       "aggSeriesLimitReached": false,
       "aggType": "",
       "arguments": {},
       "columnCustomDisplayInfos": {},
       "data": [
        [
         "apx700ii",
         "apx",
         "acustic",
         1841927.0
        ],
        [
         "apx700",
         "apx",
         "acustic",
         1706474.0
        ],
        [
         "apx600",
         "apx",
         "acustic",
         1056283.0
        ],
        [
         "c80",
         "c",
         "classic",
         531279.0
        ],
        [
         "c40",
         "c",
         "classic",
         299310.0
        ],
        [
         "c70",
         "c",
         "classic",
         362240.0
        ],
        [
         "c80",
         "c",
         "acustic",
         1207352.0
        ],
        [
         "f310",
         "f",
         "acustic",
         558819.0
        ],
        [
         "f370",
         "f",
         "acustic",
         608758.0
        ],
        [
         "fg830",
         "fg",
         "acustic",
         768839.0
        ],
        [
         "fs800",
         "fg",
         "acustic",
         658143.0
        ],
        [
         "fsx800c",
         "fg",
         "acustic",
         1207352.0
        ],
        [
         "fgx800c",
         "fg",
         "acustic",
         943863.0
        ],
        [
         "fg800",
         "fg",
         "acustic",
         753736.0
        ],
        [
         "fsx800c",
         "fs",
         "acustic",
         1320760.0
        ],
        [
         "fs800",
         "fs",
         "acustic",
         795776.0
        ],
        [
         "fx310",
         "fx",
         "acustic",
         548168.0
        ],
        [
         "fx370",
         "fx",
         "acustic",
         834613.0
        ]
       ],
       "datasetInfos": [],
       "dbfsResultPath": null,
       "isJsonSchema": true,
       "metadata": {},
       "overflow": false,
       "plotOptions": {
        "customPlotOptions": {},
        "displayType": "table",
        "pivotAggregation": null,
        "pivotColumns": null,
        "xColumns": null,
        "yColumns": null
       },
       "removedWidgets": [],
       "schema": [
        {
         "metadata": "{}",
         "name": "model",
         "type": "\"string\""
        },
        {
         "metadata": "{}",
         "name": "series",
         "type": "\"string\""
        },
        {
         "metadata": "{}",
         "name": "type",
         "type": "\"string\""
        },
        {
         "metadata": "{}",
         "name": "avg_price",
         "type": "\"double\""
        }
       ],
       "type": "table"
      }
     },
     "output_type": "display_data"
    }
   ],
   "source": [
    "%sql\n",
    "\n",
    "SELECT dm.model,ds.series,dt.type, ROUND(AVG(fg.price),0) as avg_price\n",
    "FROM fact_guitar fg \n",
    "INNER JOIN dim_model dm ON fg.id_model = dm.id_model\n",
    "INNER JOIN dim_brand db ON db.id_brand = dm.id_brand\n",
    "INNER JOIN dim_series ds ON ds.id_series = dm.id_series\n",
    "INNER JOIN dim_type dt ON dt.id_type = dm.id_type\n",
    "WHERE dt.type != 'electric' AND db.brand = 'yamaha'\n",
    "GROUP BY dm.model,ds.series,dt.type\n",
    "ORDER BY ds.series"
   ]
  },
  {
   "cell_type": "markdown",
   "metadata": {
    "application/vnd.databricks.v1+cell": {
     "cellMetadata": {},
     "inputWidgets": {},
     "nuid": "e2b5687d-7725-4491-b132-0c3820a5a27f",
     "showTitle": false,
     "tableResultSettingsMap": {},
     "title": ""
    }
   },
   "source": [
    "# Comparación de Promedio de Precios entre Todas las Marcas y Modelos (Acústicas)"
   ]
  },
  {
   "cell_type": "markdown",
   "metadata": {
    "application/vnd.databricks.v1+cell": {
     "cellMetadata": {},
     "inputWidgets": {},
     "nuid": "4fff1177-6c6b-497e-a72f-bc36604c8e44",
     "showTitle": false,
     "tableResultSettingsMap": {},
     "title": ""
    }
   },
   "source": [
    "## Costo menos a 600mil pesos"
   ]
  },
  {
   "cell_type": "code",
   "execution_count": 0,
   "metadata": {
    "application/vnd.databricks.v1+cell": {
     "cellMetadata": {
      "byteLimit": 2048000,
      "implicitDf": true,
      "rowLimit": 10000
     },
     "inputWidgets": {},
     "nuid": "730c1052-a295-4059-a07c-c7824afb09a6",
     "showTitle": false,
     "tableResultSettingsMap": {},
     "title": ""
    }
   },
   "outputs": [
    {
     "output_type": "display_data",
     "data": {
      "text/html": [
       "<style scoped>\n",
       "  .table-result-container {\n",
       "    max-height: 300px;\n",
       "    overflow: auto;\n",
       "  }\n",
       "  table, th, td {\n",
       "    border: 1px solid black;\n",
       "    border-collapse: collapse;\n",
       "  }\n",
       "  th, td {\n",
       "    padding: 5px;\n",
       "  }\n",
       "  th {\n",
       "    text-align: left;\n",
       "  }\n",
       "</style><div class='table-result-container'><table class='table-result'><thead style='background-color: white'><tr><th>brand</th><th>model</th><th>series</th><th>avg_price</th></tr></thead><tbody><tr><td>cort</td><td>ac250</td><td>ac</td><td>125183.0</td></tr><tr><td>yamaha</td><td>c40</td><td>c</td><td>299310.0</td></tr><tr><td>cort</td><td>af515</td><td>af</td><td>356318.0</td></tr><tr><td>cort</td><td>ac100</td><td>ac</td><td>358614.0</td></tr><tr><td>yamaha</td><td>c70</td><td>c</td><td>362240.0</td></tr><tr><td>cort</td><td>af510</td><td>af</td><td>403067.0</td></tr><tr><td>cort</td><td>ad810</td><td>ad</td><td>423378.0</td></tr><tr><td>cort</td><td>ac150</td><td>ac</td><td>435420.0</td></tr><tr><td>cort</td><td>ac200</td><td>ac</td><td>458750.0</td></tr><tr><td>cort</td><td>ac120</td><td>ac</td><td>512320.0</td></tr><tr><td>cort</td><td>ad880</td><td>ad</td><td>526414.0</td></tr><tr><td>yamaha</td><td>c80</td><td>c</td><td>531279.0</td></tr><tr><td>cort</td><td>af590</td><td>af</td><td>547526.0</td></tr><tr><td>yamaha</td><td>fx310</td><td>fx</td><td>548168.0</td></tr><tr><td>yamaha</td><td>f310</td><td>f</td><td>558819.0</td></tr></tbody></table></div>"
      ]
     },
     "metadata": {
      "application/vnd.databricks.v1+output": {
       "addedWidgets": {},
       "aggData": [],
       "aggError": "",
       "aggOverflow": false,
       "aggSchema": [],
       "aggSeriesLimitReached": false,
       "aggType": "",
       "arguments": {},
       "columnCustomDisplayInfos": {},
       "data": [
        [
         "cort",
         "ac250",
         "ac",
         125183.0
        ],
        [
         "yamaha",
         "c40",
         "c",
         299310.0
        ],
        [
         "cort",
         "af515",
         "af",
         356318.0
        ],
        [
         "cort",
         "ac100",
         "ac",
         358614.0
        ],
        [
         "yamaha",
         "c70",
         "c",
         362240.0
        ],
        [
         "cort",
         "af510",
         "af",
         403067.0
        ],
        [
         "cort",
         "ad810",
         "ad",
         423378.0
        ],
        [
         "cort",
         "ac150",
         "ac",
         435420.0
        ],
        [
         "cort",
         "ac200",
         "ac",
         458750.0
        ],
        [
         "cort",
         "ac120",
         "ac",
         512320.0
        ],
        [
         "cort",
         "ad880",
         "ad",
         526414.0
        ],
        [
         "yamaha",
         "c80",
         "c",
         531279.0
        ],
        [
         "cort",
         "af590",
         "af",
         547526.0
        ],
        [
         "yamaha",
         "fx310",
         "fx",
         548168.0
        ],
        [
         "yamaha",
         "f310",
         "f",
         558819.0
        ]
       ],
       "datasetInfos": [],
       "dbfsResultPath": null,
       "isJsonSchema": true,
       "metadata": {},
       "overflow": false,
       "plotOptions": {
        "customPlotOptions": {},
        "displayType": "table",
        "pivotAggregation": null,
        "pivotColumns": null,
        "xColumns": null,
        "yColumns": null
       },
       "removedWidgets": [],
       "schema": [
        {
         "metadata": "{}",
         "name": "brand",
         "type": "\"string\""
        },
        {
         "metadata": "{}",
         "name": "model",
         "type": "\"string\""
        },
        {
         "metadata": "{}",
         "name": "series",
         "type": "\"string\""
        },
        {
         "metadata": "{}",
         "name": "avg_price",
         "type": "\"double\""
        }
       ],
       "type": "table"
      }
     },
     "output_type": "display_data"
    }
   ],
   "source": [
    "%sql\n",
    "\n",
    "SELECT db.brand,dm.model,ds.series, ROUND(AVG(fg.price),0) as avg_price\n",
    "FROM fact_guitar fg \n",
    "INNER JOIN dim_model dm ON fg.id_model = dm.id_model\n",
    "INNER JOIN dim_brand db ON db.id_brand = dm.id_brand\n",
    "INNER JOIN dim_series ds ON ds.id_series = dm.id_series\n",
    "INNER JOIN dim_type dt ON dt.id_type = dm.id_type\n",
    "WHERE dt.type != 'electric' \n",
    "GROUP BY db.brand,dm.model,ds.series,dt.type\n",
    "HAVING avg_price <= 600000\n",
    "ORDER BY avg_price"
   ]
  },
  {
   "cell_type": "markdown",
   "metadata": {
    "application/vnd.databricks.v1+cell": {
     "cellMetadata": {},
     "inputWidgets": {},
     "nuid": "320c35ac-189e-4795-b406-c7a372dfd675",
     "showTitle": false,
     "tableResultSettingsMap": {},
     "title": ""
    }
   },
   "source": [
    "## Costo entre 600mil y 1 M de pesos"
   ]
  },
  {
   "cell_type": "code",
   "execution_count": 0,
   "metadata": {
    "application/vnd.databricks.v1+cell": {
     "cellMetadata": {
      "byteLimit": 2048000,
      "implicitDf": true,
      "rowLimit": 10000
     },
     "inputWidgets": {},
     "nuid": "d1481d32-909c-4c3b-a8e7-e50a83b01183",
     "showTitle": false,
     "tableResultSettingsMap": {},
     "title": ""
    }
   },
   "outputs": [
    {
     "output_type": "display_data",
     "data": {
      "text/html": [
       "<style scoped>\n",
       "  .table-result-container {\n",
       "    max-height: 300px;\n",
       "    overflow: auto;\n",
       "  }\n",
       "  table, th, td {\n",
       "    border: 1px solid black;\n",
       "    border-collapse: collapse;\n",
       "  }\n",
       "  th, td {\n",
       "    padding: 5px;\n",
       "  }\n",
       "  th {\n",
       "    text-align: left;\n",
       "  }\n",
       "</style><div class='table-result-container'><table class='table-result'><thead style='background-color: white'><tr><th>brand</th><th>model</th><th>series</th><th>avg_price</th></tr></thead><tbody><tr><td>cort</td><td>th100</td><td>th</td><td>608362.0</td></tr><tr><td>yamaha</td><td>f370</td><td>f</td><td>608758.0</td></tr><tr><td>cort</td><td>l100</td><td>l</td><td>629155.0</td></tr><tr><td>yamaha</td><td>fs800</td><td>fg</td><td>658143.0</td></tr><tr><td>cort</td><td>ac250</td><td>ac</td><td>686475.0</td></tr><tr><td>cort</td><td>mr500</td><td>mr</td><td>691320.0</td></tr><tr><td>cort</td><td>ac160</td><td>ac</td><td>719822.0</td></tr><tr><td>yamaha</td><td>fg800</td><td>fg</td><td>753736.0</td></tr><tr><td>yamaha</td><td>fg830</td><td>fg</td><td>768839.0</td></tr><tr><td>yamaha</td><td>fs800</td><td>fs</td><td>795776.0</td></tr><tr><td>yamaha</td><td>fx370</td><td>fx</td><td>834613.0</td></tr><tr><td>cort</td><td>mr600</td><td>mr</td><td>843430.0</td></tr><tr><td>cort</td><td>mr710</td><td>mr</td><td>939808.0</td></tr><tr><td>yamaha</td><td>fgx800c</td><td>fg</td><td>943863.0</td></tr><tr><td>cort</td><td>l450</td><td>l</td><td>957479.0</td></tr></tbody></table></div>"
      ]
     },
     "metadata": {
      "application/vnd.databricks.v1+output": {
       "addedWidgets": {},
       "aggData": [],
       "aggError": "",
       "aggOverflow": false,
       "aggSchema": [],
       "aggSeriesLimitReached": false,
       "aggType": "",
       "arguments": {},
       "columnCustomDisplayInfos": {},
       "data": [
        [
         "cort",
         "th100",
         "th",
         608362.0
        ],
        [
         "yamaha",
         "f370",
         "f",
         608758.0
        ],
        [
         "cort",
         "l100",
         "l",
         629155.0
        ],
        [
         "yamaha",
         "fs800",
         "fg",
         658143.0
        ],
        [
         "cort",
         "ac250",
         "ac",
         686475.0
        ],
        [
         "cort",
         "mr500",
         "mr",
         691320.0
        ],
        [
         "cort",
         "ac160",
         "ac",
         719822.0
        ],
        [
         "yamaha",
         "fg800",
         "fg",
         753736.0
        ],
        [
         "yamaha",
         "fg830",
         "fg",
         768839.0
        ],
        [
         "yamaha",
         "fs800",
         "fs",
         795776.0
        ],
        [
         "yamaha",
         "fx370",
         "fx",
         834613.0
        ],
        [
         "cort",
         "mr600",
         "mr",
         843430.0
        ],
        [
         "cort",
         "mr710",
         "mr",
         939808.0
        ],
        [
         "yamaha",
         "fgx800c",
         "fg",
         943863.0
        ],
        [
         "cort",
         "l450",
         "l",
         957479.0
        ]
       ],
       "datasetInfos": [],
       "dbfsResultPath": null,
       "isJsonSchema": true,
       "metadata": {},
       "overflow": false,
       "plotOptions": {
        "customPlotOptions": {},
        "displayType": "table",
        "pivotAggregation": null,
        "pivotColumns": null,
        "xColumns": null,
        "yColumns": null
       },
       "removedWidgets": [],
       "schema": [
        {
         "metadata": "{}",
         "name": "brand",
         "type": "\"string\""
        },
        {
         "metadata": "{}",
         "name": "model",
         "type": "\"string\""
        },
        {
         "metadata": "{}",
         "name": "series",
         "type": "\"string\""
        },
        {
         "metadata": "{}",
         "name": "avg_price",
         "type": "\"double\""
        }
       ],
       "type": "table"
      }
     },
     "output_type": "display_data"
    }
   ],
   "source": [
    "%sql\n",
    "\n",
    "SELECT db.brand,dm.model,ds.series, ROUND(AVG(fg.price),0) as avg_price\n",
    "FROM fact_guitar fg \n",
    "INNER JOIN dim_model dm ON fg.id_model = dm.id_model\n",
    "INNER JOIN dim_brand db ON db.id_brand = dm.id_brand\n",
    "INNER JOIN dim_series ds ON ds.id_series = dm.id_series\n",
    "INNER JOIN dim_type dt ON dt.id_type = dm.id_type\n",
    "WHERE dt.type != 'electric' \n",
    "GROUP BY db.brand,dm.model,ds.series,dt.type\n",
    "HAVING avg_price <= 1000000 AND avg_price >= 600000 \n",
    "ORDER BY avg_price"
   ]
  },
  {
   "cell_type": "markdown",
   "metadata": {
    "application/vnd.databricks.v1+cell": {
     "cellMetadata": {},
     "inputWidgets": {},
     "nuid": "0cd4b066-3662-4b2d-b904-c8f35aae66f3",
     "showTitle": false,
     "tableResultSettingsMap": {},
     "title": ""
    }
   },
   "source": [
    "## Costo entre 1 M y 2 M de pesos"
   ]
  },
  {
   "cell_type": "code",
   "execution_count": 0,
   "metadata": {
    "application/vnd.databricks.v1+cell": {
     "cellMetadata": {
      "byteLimit": 2048000,
      "implicitDf": true,
      "rowLimit": 10000
     },
     "inputWidgets": {},
     "nuid": "c177a169-6942-4c61-ae97-85185a143c07",
     "showTitle": false,
     "tableResultSettingsMap": {},
     "title": ""
    }
   },
   "outputs": [
    {
     "output_type": "display_data",
     "data": {
      "text/html": [
       "<style scoped>\n",
       "  .table-result-container {\n",
       "    max-height: 300px;\n",
       "    overflow: auto;\n",
       "  }\n",
       "  table, th, td {\n",
       "    border: 1px solid black;\n",
       "    border-collapse: collapse;\n",
       "  }\n",
       "  th, td {\n",
       "    padding: 5px;\n",
       "  }\n",
       "  th {\n",
       "    text-align: left;\n",
       "  }\n",
       "</style><div class='table-result-container'><table class='table-result'><thead style='background-color: white'><tr><th>brand</th><th>model</th><th>series</th><th>avg_price</th></tr></thead><tbody><tr><td>yamaha</td><td>apx600</td><td>apx</td><td>1056283.0</td></tr><tr><td>cort</td><td>l300</td><td>l</td><td>1106114.0</td></tr><tr><td>cort</td><td>mr730</td><td>mr</td><td>1162448.0</td></tr><tr><td>yamaha</td><td>fsx800c</td><td>fg</td><td>1207352.0</td></tr><tr><td>yamaha</td><td>c80</td><td>c</td><td>1207352.0</td></tr><tr><td>yamaha</td><td>fsx800c</td><td>fs</td><td>1320760.0</td></tr><tr><td>yamaha</td><td>apx700</td><td>apx</td><td>1706474.0</td></tr><tr><td>yamaha</td><td>apx700ii</td><td>apx</td><td>1841927.0</td></tr></tbody></table></div>"
      ]
     },
     "metadata": {
      "application/vnd.databricks.v1+output": {
       "addedWidgets": {},
       "aggData": [],
       "aggError": "",
       "aggOverflow": false,
       "aggSchema": [],
       "aggSeriesLimitReached": false,
       "aggType": "",
       "arguments": {},
       "columnCustomDisplayInfos": {},
       "data": [
        [
         "yamaha",
         "apx600",
         "apx",
         1056283.0
        ],
        [
         "cort",
         "l300",
         "l",
         1106114.0
        ],
        [
         "cort",
         "mr730",
         "mr",
         1162448.0
        ],
        [
         "yamaha",
         "fsx800c",
         "fg",
         1207352.0
        ],
        [
         "yamaha",
         "c80",
         "c",
         1207352.0
        ],
        [
         "yamaha",
         "fsx800c",
         "fs",
         1320760.0
        ],
        [
         "yamaha",
         "apx700",
         "apx",
         1706474.0
        ],
        [
         "yamaha",
         "apx700ii",
         "apx",
         1841927.0
        ]
       ],
       "datasetInfos": [],
       "dbfsResultPath": null,
       "isJsonSchema": true,
       "metadata": {},
       "overflow": false,
       "plotOptions": {
        "customPlotOptions": {},
        "displayType": "table",
        "pivotAggregation": null,
        "pivotColumns": null,
        "xColumns": null,
        "yColumns": null
       },
       "removedWidgets": [],
       "schema": [
        {
         "metadata": "{}",
         "name": "brand",
         "type": "\"string\""
        },
        {
         "metadata": "{}",
         "name": "model",
         "type": "\"string\""
        },
        {
         "metadata": "{}",
         "name": "series",
         "type": "\"string\""
        },
        {
         "metadata": "{}",
         "name": "avg_price",
         "type": "\"double\""
        }
       ],
       "type": "table"
      }
     },
     "output_type": "display_data"
    }
   ],
   "source": [
    "%sql\n",
    "\n",
    "SELECT db.brand,dm.model,ds.series, ROUND(AVG(fg.price),0) as avg_price\n",
    "FROM fact_guitar fg \n",
    "INNER JOIN dim_model dm ON fg.id_model = dm.id_model\n",
    "INNER JOIN dim_brand db ON db.id_brand = dm.id_brand\n",
    "INNER JOIN dim_series ds ON ds.id_series = dm.id_series\n",
    "INNER JOIN dim_type dt ON dt.id_type = dm.id_type\n",
    "WHERE dt.type != 'electric' \n",
    "GROUP BY db.brand,dm.model,ds.series,dt.type\n",
    "HAVING avg_price <= 2000000 AND avg_price >= 1000000 \n",
    "ORDER BY avg_price"
   ]
  }
 ],
 "metadata": {
  "application/vnd.databricks.v1+notebook": {
   "computePreferences": null,
   "dashboards": [],
   "environmentMetadata": {
    "base_environment": "",
    "environment_version": "1"
   },
   "inputWidgetPreferences": null,
   "language": "python",
   "notebookMetadata": {
    "mostRecentlyExecutedCommandWithImplicitDF": {
     "commandId": 3578132532327300,
     "dataframes": [
      "_sqldf"
     ]
    },
    "pythonIndentUnit": 4
   },
   "notebookName": "Analisis with a guitar database",
   "widgets": {}
  }
 },
 "nbformat": 4,
 "nbformat_minor": 0
}