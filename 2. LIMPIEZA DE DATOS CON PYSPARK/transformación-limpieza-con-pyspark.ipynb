{
 "cells": [
  {
   "cell_type": "code",
   "execution_count": 0,
   "metadata": {
    "application/vnd.databricks.v1+cell": {
     "cellMetadata": {
      "byteLimit": 2048000,
      "rowLimit": 10000
     },
     "inputWidgets": {},
     "nuid": "716385e7-d77f-4d49-a674-9c65e46476d8",
     "showTitle": false,
     "tableResultSettingsMap": {},
     "title": ""
    }
   },
   "outputs": [],
   "source": [
    "df_squier = spark.read.format(\"csv\")\\\n",
    "    .option(\"header\",\"true\")\\\n",
    "    .option(\"mode\",\"FAILFAST\")\\\n",
    "    .option(\"inferSchema\",\"true\")\\\n",
    "    .load(\"/FileStore/tables/guitar_squier.csv\")\n",
    "\n",
    "df_yamaha = spark.read.format(\"csv\")\\\n",
    "    .option(\"header\",\"true\")\\\n",
    "    .option(\"mode\",\"FAILFAST\")\\\n",
    "    .option(\"inferSchema\",\"true\")\\\n",
    "    .load(\"/FileStore/tables/guitar_yamaha.csv\")\n",
    "\n",
    "df_epiphone = spark.read.format(\"csv\")\\\n",
    "    .option(\"header\",\"true\")\\\n",
    "    .option(\"mode\",\"FAILFAST\")\\\n",
    "    .option(\"inferSchema\",\"true\")\\\n",
    "    .load(\"/FileStore/tables/guitar_epiphone.csv\")\n",
    "\n",
    "df_cort = spark.read.format(\"csv\")\\\n",
    "    .option(\"header\",\"true\")\\\n",
    "    .option(\"mode\",\"FAILFAST\")\\\n",
    "    .option(\"inferSchema\",\"true\")\\\n",
    "    .load(\"/FileStore/tables/guitar_cort.csv\")\n"
   ]
  },
  {
   "cell_type": "markdown",
   "metadata": {
    "application/vnd.databricks.v1+cell": {
     "cellMetadata": {
      "byteLimit": 2048000,
      "rowLimit": 10000
     },
     "inputWidgets": {},
     "nuid": "71b46e60-8662-4a9b-afe4-1ce77e42df72",
     "showTitle": false,
     "tableResultSettingsMap": {},
     "title": ""
    }
   },
   "source": [
    "# Limpiando los datos\n",
    "\n",
    "Primero procesamos cada data frame por separado para poder atender a los problemas particulares de cada uno.\n",
    "\n",
    "Cómo los titulos de las publicaciones extraidas tienen muchos datos, la idea es reducirlo a estos 4 campos:\n",
    "\n",
    "- Marca (Cort, Squier, Epiphone, Yamaha)\n",
    "- Tipo (Eléctrica, Acústica, Criolla)\n",
    "- Serie \n",
    "- Modelo\n",
    "\n",
    "Asi tener 4 columnas que correspondan a esos 4 campos y buscar llenarlas con las coincidencias que encuentre en el titulo. Y por otro lado tener la columna con el precio."
   ]
  },
  {
   "cell_type": "code",
   "execution_count": 0,
   "metadata": {
    "application/vnd.databricks.v1+cell": {
     "cellMetadata": {
      "byteLimit": 2048000,
      "rowLimit": 10000
     },
     "inputWidgets": {},
     "nuid": "4183d5b0-0f7b-4f09-bcbc-d16eed02e242",
     "showTitle": false,
     "tableResultSettingsMap": {},
     "title": ""
    }
   },
   "outputs": [],
   "source": [
    "from pyspark.sql.functions import col, when, lower, udf, regexp_replace, round, count, lit,avg, substring\n",
    "from pyspark.sql.types import StringType, ArrayType\n"
   ]
  },
  {
   "cell_type": "code",
   "execution_count": 0,
   "metadata": {
    "application/vnd.databricks.v1+cell": {
     "cellMetadata": {
      "byteLimit": 2048000,
      "rowLimit": 10000
     },
     "inputWidgets": {},
     "nuid": "110dddc0-03a4-4b4e-be2b-ec81f8b8005b",
     "showTitle": false,
     "tableResultSettingsMap": {},
     "title": ""
    }
   },
   "outputs": [],
   "source": [
    "# Acá esta la lógica para el match de palabras clave\n",
    "# 'extract_from_list_udf_creator' para crear la UDF correspondiente a cada lista de la palabras en particular\n",
    "# y la segunda 'extract_from_list' contiene la lógica para extraer la palabra coincidente en la lista, o en caso contrario, devolver null\n",
    "\n",
    "def extract_from_list_udf_creator(word_list):\n",
    "    def extract_from_list(text):\n",
    "        for word in word_list:\n",
    "            if word in text:\n",
    "                return word\n",
    "        return None\n",
    "    return udf(extract_from_list, StringType())"
   ]
  },
  {
   "cell_type": "markdown",
   "metadata": {
    "application/vnd.databricks.v1+cell": {
     "cellMetadata": {
      "byteLimit": 2048000,
      "rowLimit": 10000
     },
     "inputWidgets": {},
     "nuid": "91b0ddcc-83a2-4345-95c9-2fbcf86ab3c8",
     "showTitle": false,
     "tableResultSettingsMap": {},
     "title": ""
    }
   },
   "source": [
    "## 1. Guitarras marca 'Cort'"
   ]
  },
  {
   "cell_type": "code",
   "execution_count": 0,
   "metadata": {
    "application/vnd.databricks.v1+cell": {
     "cellMetadata": {
      "byteLimit": 2048000,
      "rowLimit": 10000
     },
     "inputWidgets": {},
     "nuid": "7f620a0d-2045-40e2-8287-0edcba074b8c",
     "showTitle": false,
     "tableResultSettingsMap": {},
     "title": ""
    }
   },
   "outputs": [],
   "source": [
    "guitar_type = [\"criolla\", \"acustica\", \"eléctrica\", \"clasica\", \"clásica\", \"electrica\", \"acústica\", \"concierto\", \"classic\", \"electric\", \"acustic\", \"electrocriolla\", \"electroacústica\", \"electroacustica\"]\n",
    "\n",
    "brand = [\"cort\"]\n",
    "\n",
    "cort_model = [\n",
    "    \"g100\", \"g200\", \"g250\", \n",
    "    \"m200\", \"m600\", \"m800\", \n",
    "    \"x100\", \"x11\", \"x500\",\"x280\",\"x300\" \n",
    "    \"earth 100\", \"earth 200\", \"earth 300\", \n",
    "    \"grand regal 100\", \"grand regal 200\"\n",
    "]\n",
    "\n",
    "cort_series = [\n",
    "    \" g \",\" x \", \n",
    "    \"earth\",\"grand regal\"\n",
    "]\n",
    "\n",
    "extract_type_udf = extract_from_list_udf_creator(guitar_type)\n",
    "extract_brand_udf = extract_from_list_udf_creator(brand)\n",
    "extract_model_udf = extract_from_list_udf_creator(cort_model)\n",
    "extract_series_udf = extract_from_list_udf_creator(cort_series)\n",
    "\n",
    "df_cort = df_cort.withColumn(\"title_lower\", lower(col(\"title\"))) \\\n",
    "    .withColumn(\"type\", extract_type_udf(col(\"title_lower\"))) \\\n",
    "    .withColumn(\"brand\", extract_brand_udf(col(\"title_lower\"))) \\\n",
    "    .withColumn(\"model\", extract_model_udf(col(\"title_lower\"))) \\\n",
    "    .withColumn(\"series\", extract_series_udf(col(\"title_lower\"))) "
   ]
  },
  {
   "cell_type": "markdown",
   "metadata": {
    "application/vnd.databricks.v1+cell": {
     "cellMetadata": {
      "byteLimit": 2048000,
      "rowLimit": 10000
     },
     "inputWidgets": {},
     "nuid": "353c0b47-d3cc-4122-9125-2a45fdc244b2",
     "showTitle": false,
     "tableResultSettingsMap": {},
     "title": ""
    }
   },
   "source": [
    "### Observo la cantidad de valores nulos"
   ]
  },
  {
   "cell_type": "code",
   "execution_count": 0,
   "metadata": {
    "application/vnd.databricks.v1+cell": {
     "cellMetadata": {
      "byteLimit": 2048000,
      "rowLimit": 10000
     },
     "inputWidgets": {},
     "nuid": "c13fbf07-af78-4927-9b0a-c7cce73f118d",
     "showTitle": false,
     "tableResultSettingsMap": {},
     "title": ""
    }
   },
   "outputs": [
    {
     "output_type": "stream",
     "name": "stdout",
     "output_type": "stream",
     "text": [
      "+--------------------+---------+-----+-----+------+\n|         title_lower|     type|brand|model|series|\n+--------------------+---------+-----+-----+------+\n|guitarra eléctric...|eléctrica| cort| x100|    x |\n|guitarra acústica...| acústica| cort| null|  null|\n|guitarra eléctric...|eléctrica| cort| null|  null|\n|guitarra stratoca...|     null| cort| null|  null|\n|guitarra eléctric...|eléctrica| cort| x100|    x |\n|guitarra acústica...| acústica| cort| null|  null|\n|guitarra eléctric...|eléctrica| cort| null|    g |\n|guitarra cort str...|     null| cort| null|  null|\n|guitarra acústica...| acústica| cort| null|  null|\n|guitarra eléctric...|eléctrica| cort| x100|    x |\n|guitarra cort x70...|     null| cort| null|  null|\n|guitarra eléctric...|eléctrica| null| null|  null|\n|guitarra eléctric...|eléctrica| cort| null|  null|\n|guitarra electroa...| acústica| cort| null|  null|\n|guitarra eléctric...|eléctrica| cort| null|  null|\n|guitarra eléctric...|eléctrica| cort| x100|  null|\n|guitarra electroa...| acústica| cort| null|  null|\n|guitarra eléctric...|eléctrica| cort| x100|  null|\n|guitarra eléctric...|eléctrica| cort| null|  null|\n|guitarra acustica...| acustica| cort| null|  null|\n|guitarra acústica...| acústica| cort| null|  null|\n|guitarra electric...|electrica| cort| null|  null|\n|guitarra eléctric...|eléctrica| cort| null|  null|\n|guitarra electric...|electrica| cort| null|  null|\n|guitarra electroa...| acústica| cort| null|  null|\n|guitarra electric...|electrica| cort| g200|  null|\n|guitarra acustica...| acustica| cort| null|  null|\n|guitarra acústica...| acústica| cort| null|  null|\n|guitarra eléctric...|eléctrica| cort| null|  null|\n|guitarra super st...|     null| cort| null|  null|\n|guitarra stratoca...|     null| cort| null|  null|\n|guitarra acústica...| acústica| cort| null|  null|\n|guitarra eléctric...|eléctrica| cort| null|  null|\n|guitarra electroa...| acustica| cort| null|  null|\n|guitarra eléctric...|eléctrica| cort| g200|  null|\n|guitarra eléctric...|eléctrica| cort| g250|    g |\n|guitarra electroa...| acustica| cort| null|  null|\n|guitarra eléctric...|eléctrica| cort| g250|    g |\n|guitarra eléctric...|eléctrica| cort| null|  null|\n|guitarra electroc...|  criolla| cort| null|  null|\n|guitarra acustica...| acustica| cort| null| earth|\n|guitarra eléctric...|eléctrica| cort| g250|    g |\n|guitarra eléctric...|eléctrica| cort| null|  null|\n|guitarra acústica...| acústica| cort| null|  null|\n|guitarra eléctric...|eléctrica| cort| null|    x |\n|guitarra cort sel...|     null| cort| null|  null|\n|guitarra acústica...| acústica| cort| null|  null|\n|guitarra eléctric...|eléctrica| cort| null|  null|\n|guitarra cort x s...|     null| cort| x100|    x |\n|guitarra acústica...| acústica| cort| null|  null|\n|guitarra eléctric...|eléctrica| cort| null|  null|\n|guitarra matthew ...|     null| cort| null|  null|\n|guitarra electroa...| acustica| cort| null|  null|\n|guitarra eléctric...|eléctrica| cort| null|  null|\n|guitarra acustica...| acustica| cort| null|  null|\n|guitarra electroa...| acustica| cort| null|  null|\n|guitarra cort vx2...|eléctrica| cort| null|  null|\n|guitarra acústica...| acústica| cort| null|  null|\n|guitarra eléctric...|eléctrica| cort| null|    g |\n|guitarra eléctric...|eléctrica| cort| null|  null|\n|guitarra electro ...| acustica| cort| null|  null|\n|guitarra eléctric...|eléctrica| cort| null|  null|\n|guitarra cort kx3...|     null| cort| null|  null|\n|guitarra electroa...| acustica| cort| null|  null|\n|cort x300 fpu ser...|eléctrica| cort| null|    x |\n|guitarra electric...|electrica| cort| null|  null|\n|cort ad810m mahog...| acustica| cort| null|  null|\n|guitarra eléctric...|eléctrica| cort| null|  null|\n|guitarra eléctric...|eléctrica| cort| null|  null|\n|guitarra acustica...| acustica| cort| null|  null|\n|guitarra cort kx5...|     null| cort| null|  null|\n|guitarra eléctric...|eléctrica| cort| g250|    g |\n|guitarra electroa...| acústica| cort| null|  null|\n|guitarra eléctric...|eléctrica| cort| g250|    g |\n|guitarra electroa...| acustica| cort| null|  null|\n|guitarra electric...|electrica| cort| null|  null|\n|guitarra eléctric...|eléctrica| cort| x100|    x |\n|guitarra acústica...| acústica| cort| null|  null|\n|guitarra eléctric...|eléctrica| cort| null|    g |\n|guitarra acústica...| acústica| cort| null|  null|\n|guitarra electric...|electrica| cort| null|  null|\n|guitarra eléctric...|eléctrica| cort| null|  null|\n|guitarra eléctric...|eléctrica| cort| null|  null|\n|guitarra electroa...| acustica| cort| null|  null|\n|guitarra eléctric...|eléctrica| cort| g250|    g |\n|guitarra cort kx5...|     null| cort| x500|  null|\n|guitarra eléctric...|eléctrica| cort| null|  null|\n|guitarra eléctric...|eléctrica| cort| null|    x |\n|guitarra electric...|electrica| cort| x100|  null|\n|guitarra electric...|electrica| cort| g250|  null|\n|guitarra electric...|electrica| cort| null|  null|\n|guitarra electroa...| acústica| cort| null|  null|\n|guitarra eléctric...|eléctrica| cort| null|  null|\n|guitarra cort g11...|     null| cort| null|  null|\n|guitarra acustica...| acustica| cort| null| earth|\n|cort jade1 guitar...| acustica| cort| null|  null|\n|guitarra cort kx5...|     null| cort| null|  null|\n|guitarra acústica...| acústica| cort| null|  null|\n|guitarra eléctric...|eléctrica| cort| g250|  null|\n|guitarra eléctric...|eléctrica| cort| x100|  null|\n|guitarra electric...|electrica| cort| null|  null|\n|guitarra stratoca...|     null| cort| null|  null|\n|cort ga pf bevel ...| acustica| cort| null|  null|\n|guitarra eléctric...|eléctrica| cort| g250|  null|\n|guitarra cort ele...|  clásica| cort| null|  null|\n|guitarra eléctric...|eléctrica| cort| null|    x |\n|guitarra cort clá...|  clásica| cort| null|  null|\n|guitarra eléctric...|eléctrica| cort| g250|  null|\n|guitarra criolla ...|  criolla| cort| null|  null|\n|guitarra eléctric...|eléctrica| cort| x100|  null|\n|guitarra eléctric...|eléctrica| cort| null|  null|\n|guitarra elec acú...| acústica| cort| null|  null|\n|guitarra eléctric...|eléctrica| cort| g200|  null|\n|guitarra cort elé...|eléctrica| cort| null|  null|\n|guitarra cort kx5...|     null| cort| x500|  null|\n|guitarra electric...|electrica| cort| null|  null|\n|guitarra eléctric...|eléctrica| cort| null|  null|\n|guitarra clásica ...|  clásica| cort| null|  null|\n|guitarra eléctric...|eléctrica| cort| null|    g |\n|guitarra eléctric...|eléctrica| cort| g250|  null|\n|guitarra eléctric...|eléctrica| cort| g250|  null|\n|guitarra criolla ...|  criolla| cort| null|  null|\n|guitarra eléctric...|eléctrica| cort| null|    x |\n|guitarra cort x70...|     null| cort| null|  null|\n|cort ad880 ns - g...| acústica| cort| null|  null|\n|guitarra eléctric...|eléctrica| cort| null|  null|\n|guitarra electroc...|  criolla| cort| null|  null|\n|guitarra eléctric...|eléctrica| cort| null|  null|\n| guitarra cort el...|eléctrica| cort| null|  null|\n|guitarra cort ele...| acústica| cort| null|  null|\n|guitarra g290fat ...|     null| cort| null|  null|\n|cort earth70 op -...| acústica| cort| null| earth|\n|guitarra cort x70...|     null| cort| null|  null|\n|guitarra clásica ...|  clásica| cort| null|  null|\n|guitarra cort mat...|     null| cort| null|  null|\n|guitarra cort mat...|     null| cort| null|  null|\n|guitarra eléctric...|eléctrica| cort| null|  null|\n|guitarra clasica ...|  criolla| cort| null|  null|\n|guitarra cort elé...|eléctrica| cort| null|  null|\n|guitarra acústica...| acústica| cort| null|  null|\n|guitarra electroa...| acústica| cort| null|  null|\n|guitarra eléctric...|eléctrica| cort| null|    g |\n|guitarra eléctric...|eléctrica| cort| x100|  null|\n|guitarra cort elé...|eléctrica| cort| null|  null|\n|guitarra electric...|electrica| cort| null|  null|\n|guitarra electric...|electrica| cort| null|  null|\n|guitarra eléctric...|eléctrica| cort| null|  null|\n|guitarra clasica ...|  clasica| cort| null|  null|\n|guitarra acústica...| acústica| cort| null|  null|\n|guitarra electric...|electrica| cort| x100|  null|\n|cort mr600f-ns gu...| acustica| cort| null|  null|\n|guitarra eléctric...|eléctrica| cort| null|  null|\n|guitarra clásica ...|  clásica| cort| null|  null|\n|guitarra cort g20...|     null| cort| g200|  null|\n|guitarra electric...|electrica| cort| null|  null|\n|cort ad810e guita...| acustica| cort| null|  null|\n|guitarra eléctric...|eléctrica| cort| null|  null|\n|guitarra acústica...| acústica| cort| null| earth|\n|guitarra cort elé...|eléctrica| cort| null|  null|\n|guitarra eléctric...|eléctrica| cort| null|  null|\n|guitarra electric...|electrica| cort| x100|  null|\n|guitarra electroa...| acustica| cort| null|  null|\n|guitarra clásica ...|  clásica| cort| null|  null|\n|guitarra electric...|electrica| cort| null|  null|\n|guitarra electric...|electrica| cort| null|  null|\n|guitarra eléctric...|eléctrica| cort| null|  null|\n|guitarra clásica ...|  clásica| cort| null|  null|\n|guitarra eléctric...|eléctrica| cort| null|  null|\n|guitarra eléctric...|eléctrica| cort| null|  null|\n|guitarra acústica...| acústica| cort| null| earth|\n|guitarra cort elé...|eléctrica| cort| null|  null|\n|guitarra electric...|electrica| cort| null|  null|\n|guitarra eléctric...|eléctrica| cort| g200|  null|\n|guitarra cort clá...|  clásica| cort| null|  null|\n|guitarra eléctric...|eléctrica| cort| null|  null|\n|guitarra tarraxas...|     null| cort| g200|  null|\n|guitarra cort clá...|  clásica| cort| null|  null|\n|guitarra electric...|electrica| cort| null|  null|\n|guitarra electric...|electrica| cort| null|  null|\n|guitarra cort elé...|eléctrica| cort| null|  null|\n|guitarra criolla ...|  criolla| cort| null|  null|\n|guitarra eléctric...|eléctrica| cort| g250|  null|\n|guitarra eléctric...|eléctrica| cort| null|  null|\n|guitarra criolla ...|  criolla| cort| null|  null|\n|guitarra electric...|electrica| cort| x100|  null|\n|guitarra eléctric...|eléctrica| cort| x100|  null|\n|guitarra acústica...| acústica| cort| null| earth|\n|guitarra g290fat ...|     null| cort| null|  null|\n|cort guitarra ele...| acústica| cort| null|  null|\n|guitarra cort g-c...|     null| cort| null|  null|\n|guit eléc cort cr...|     null| cort| null|  null|\n|guitarra eléctric...|eléctrica| cort| x100|  null|\n|guitarra acústica...| acústica| cort| null|  null|\n|guitarra eléctric...|eléctrica| cort| x100|  null|\n|guitarra eléctric...|eléctrica| cort| null|  null|\n|guitarra eléctric...|eléctrica| cort| x100|  null|\n|guitarra cort elé...|eléctrica| cort| null|  null|\n|guitarra cort kx5...|     null| cort| null|  null|\n|guitarra eléctric...|eléctrica| cort| x100|  null|\n|guitarra clasica ...|  criolla| cort| null|  null|\n+--------------------+---------+-----+-----+------+\nonly showing top 200 rows\n\n"
     ]
    }
   ],
   "source": [
    "df_cort.select('title_lower','type','brand','model','series').show(200)"
   ]
  },
  {
   "cell_type": "code",
   "execution_count": 0,
   "metadata": {
    "application/vnd.databricks.v1+cell": {
     "cellMetadata": {
      "byteLimit": 2048000,
      "rowLimit": 10000
     },
     "inputWidgets": {},
     "nuid": "ee7ef951-36af-44d8-86c1-9cadcd5d6e9b",
     "showTitle": false,
     "tableResultSettingsMap": {},
     "title": ""
    }
   },
   "outputs": [
    {
     "output_type": "stream",
     "name": "stdout",
     "output_type": "stream",
     "text": [
      "null types: 46\nnull series: 513\nnull models: 552\nde 608 resultados\n"
     ]
    }
   ],
   "source": [
    "nulos_tipo = df_cort.filter(col(\"type\").isNull()).count()\n",
    "\n",
    "nulos_serie = df_cort.filter(col(\"series\").isNull()).count()\n",
    "\n",
    "nulos_modelo = df_cort.filter(col(\"model\").isNull()).count()\n",
    "\n",
    "print(f\"null types: {nulos_tipo}\")\n",
    "print(f\"null series: {nulos_serie}\")\n",
    "print(f\"null models: {nulos_modelo}\")\n",
    "print(f\"de {df_cort.count()} resultados\")"
   ]
  },
  {
   "cell_type": "markdown",
   "metadata": {
    "application/vnd.databricks.v1+cell": {
     "cellMetadata": {
      "byteLimit": 2048000,
      "rowLimit": 10000
     },
     "inputWidgets": {},
     "nuid": "61ccbf76-552e-4c72-b47b-d36dfa52c2a1",
     "showTitle": false,
     "tableResultSettingsMap": {},
     "title": ""
    }
   },
   "source": [
    "### Problema 1: Demasiados valores nulos\n",
    "\n",
    "Muchos modelos y series no se seleccionaron porque no estan mi lista de modelos y series, lo que deja la tabla con demasiados valores nulos. Pero observando la columna 'title_lower' me doy cuenta que los modelos y series de estas guitarras tienen un patrón que puedo buscar:\n",
    "\n",
    "- una letra y 3 numeros\n",
    "- dos letras y 3 numeros\n",
    "\n",
    "Algo así como: g300 o kr120\n",
    "\n",
    "Por lo que la solución es buscar ese patrón en 'title_lower' para poder completar los modelos y series que faltan."
   ]
  },
  {
   "cell_type": "code",
   "execution_count": 0,
   "metadata": {
    "application/vnd.databricks.v1+cell": {
     "cellMetadata": {
      "byteLimit": 2048000,
      "rowLimit": 10000
     },
     "inputWidgets": {},
     "nuid": "6ec9e839-7485-412d-a139-db99e5cab348",
     "showTitle": false,
     "tableResultSettingsMap": {},
     "title": ""
    }
   },
   "outputs": [
    {
     "output_type": "stream",
     "name": "stdout",
     "output_type": "stream",
     "text": [
      "+--------------------+-----+\n|         title_lower|match|\n+--------------------+-----+\n|guitarra eléctric...| x100|\n|guitarra acústica...|af515|\n|guitarra eléctric...|kx507|\n|guitarra stratoca...| g110|\n|guitarra eléctric...| x100|\n|guitarra acústica...|af510|\n|guitarra eléctric...| g260|\n|guitarra cort str...| g110|\n|guitarra acústica...|ad810|\n|guitarra eléctric...| x100|\n|guitarra cort x70...| x700|\n|guitarra eléctric...|le362|\n|guitarra eléctric...| g110|\n|guitarra electroa...|ad880|\n|guitarra eléctric...|cr200|\n|guitarra eléctric...|kx100|\n|guitarra electroa...|ad880|\n|guitarra eléctric...|kx100|\n|guitarra eléctric...|kx307|\n|guitarra acustica...|af510|\n|guitarra acústica...|ad810|\n|guitarra electric...| g110|\n|guitarra eléctric...|cr100|\n|guitarra electric...| g110|\n|guitarra electroa...|af510|\n|guitarra electric...| g200|\n|guitarra acustica...|ad810|\n|guitarra acústica...|af510|\n|guitarra eléctric...|cr250|\n|guitarra super st...|     |\n|guitarra stratoca...| g110|\n|guitarra acústica...| l450|\n|guitarra eléctric...| x700|\n|guitarra electroa...|ad810|\n|guitarra eléctric...| g200|\n|guitarra eléctric...| g250|\n|guitarra electroa...|     |\n|guitarra eléctric...| g250|\n|guitarra eléctric...| x300|\n|guitarra electroc...|     |\n|guitarra acustica...|     |\n|guitarra eléctric...| g250|\n|guitarra eléctric...|cr250|\n|guitarra acústica...|af510|\n|guitarra eléctric...| x700|\n|guitarra cort sel...| g280|\n|guitarra acústica...|af510|\n|guitarra eléctric...|cr100|\n|guitarra cort x s...| x100|\n|guitarra acústica...|ad810|\n|guitarra eléctric...|     |\n|guitarra matthew ...|     |\n|guitarra electroa...|ad810|\n|guitarra eléctric...|kx307|\n|guitarra acustica...|af510|\n|guitarra electroa...|ad810|\n|guitarra cort vx2...|     |\n|guitarra acústica...|     |\n|guitarra eléctric...| g260|\n|guitarra eléctric...| g110|\n|guitarra electro ...|ad810|\n|guitarra eléctric...| g300|\n|guitarra cort kx3...|kx307|\n|guitarra electroa...|ad810|\n|cort x300 fpu ser...| x300|\n|guitarra electric...|kx300|\n|cort ad810m mahog...|ad810|\n|guitarra eléctric...|     |\n|guitarra eléctric...|     |\n|guitarra acustica...|ad810|\n|guitarra cort kx5...|kx508|\n|guitarra eléctric...| g250|\n|guitarra electroa...|af510|\n|guitarra eléctric...| g250|\n|guitarra electroa...|ad810|\n|guitarra electric...|kx300|\n|guitarra eléctric...| x100|\n|guitarra acústica...|     |\n|guitarra eléctric...| g260|\n|guitarra acústica...|     |\n|guitarra electric...|kx300|\n|guitarra eléctric...|     |\n|guitarra eléctric...|     |\n|guitarra electroa...|ad810|\n|guitarra eléctric...| g250|\n|guitarra cort kx5...|kx500|\n|guitarra eléctric...|cr250|\n|guitarra eléctric...| x300|\n|guitarra electric...| x100|\n|guitarra electric...| g250|\n|guitarra electric...|kx300|\n|guitarra electroa...|ad880|\n|guitarra eléctric...| g110|\n|guitarra cort g11...| g110|\n|guitarra acustica...|     |\n|cort jade1 guitar...|     |\n|guitarra cort kx5...|kx508|\n|guitarra acústica...|ad880|\n|guitarra eléctric...| g250|\n|guitarra eléctric...|kx100|\n|guitarra electric...|kx300|\n|guitarra stratoca...| g110|\n|cort ga pf bevel ...|     |\n|guitarra eléctric...| g250|\n|guitarra cort ele...|ac120|\n|guitarra eléctric...| x300|\n|guitarra cort clá...|     |\n|guitarra eléctric...| g250|\n|guitarra criolla ...|     |\n|guitarra eléctric...|kx100|\n|guitarra eléctric...|cr200|\n|guitarra elec acú...|     |\n|guitarra eléctric...| g200|\n|guitarra cort elé...| x300|\n|guitarra cort kx5...|kx500|\n|guitarra electric...|     |\n|guitarra eléctric...|     |\n|guitarra clásica ...|     |\n|guitarra eléctric...|     |\n|guitarra eléctric...| g250|\n|guitarra eléctric...| g250|\n|guitarra criolla ...|ac100|\n|guitarra eléctric...| x700|\n|guitarra cort x70...| x700|\n|cort ad880 ns - g...|ad880|\n|guitarra eléctric...|kx300|\n|guitarra electroc...|     |\n|guitarra eléctric...| g280|\n| guitarra cort el...| x700|\n|guitarra cort ele...|ad810|\n|guitarra g290fat ...| g290|\n|cort earth70 op -...|     |\n|guitarra cort x70...| x700|\n|guitarra clásica ...|ac100|\n|guitarra cort mat...|     |\n|guitarra cort mat...|     |\n|guitarra eléctric...|kx300|\n|guitarra clasica ...|     |\n|guitarra cort elé...|     |\n|guitarra acústica...|     |\n|guitarra electroa...|ad810|\n|guitarra eléctric...|     |\n|guitarra eléctric...|kx100|\n|guitarra cort elé...|     |\n|guitarra electric...| g260|\n|guitarra electric...| g110|\n|guitarra eléctric...| g260|\n|guitarra clasica ...|     |\n|guitarra acústica...|     |\n|guitarra electric...|kx100|\n|cort mr600f-ns gu...|mr600|\n|guitarra eléctric...| g260|\n|guitarra clásica ...|     |\n|guitarra cort g20...| g200|\n|guitarra electric...|     |\n|cort ad810e guita...|ad810|\n|guitarra eléctric...|kx300|\n|guitarra acústica...|     |\n|guitarra cort elé...|     |\n|guitarra eléctric...|cr250|\n|guitarra electric...|kx100|\n|guitarra electroa...|mr710|\n|guitarra clásica ...|     |\n|guitarra electric...| g260|\n|guitarra electric...|     |\n|guitarra eléctric...|     |\n|guitarra clásica ...|ac100|\n|guitarra eléctric...|kx300|\n|guitarra eléctric...|cr250|\n|guitarra acústica...|     |\n|guitarra cort elé...|     |\n|guitarra electric...|cr250|\n|guitarra eléctric...| g200|\n|guitarra cort clá...|     |\n|guitarra eléctric...|     |\n|guitarra tarraxas...| g200|\n|guitarra cort clá...|     |\n|guitarra electric...| x300|\n|guitarra electric...| g110|\n|guitarra cort elé...|     |\n|guitarra criolla ...|ac200|\n|guitarra eléctric...| g250|\n|guitarra eléctric...| g260|\n|guitarra criolla ...|     |\n|guitarra electric...|kx100|\n|guitarra eléctric...|kx100|\n|guitarra acústica...|     |\n|guitarra g290fat ...| g290|\n|cort guitarra ele...|     |\n|guitarra cort g-c...|     |\n|guit eléc cort cr...|cr250|\n|guitarra eléctric...|kx100|\n|guitarra acústica...|af510|\n|guitarra eléctric...|kx100|\n|guitarra eléctric...| g260|\n|guitarra eléctric...|kx100|\n|guitarra cort elé...|     |\n|guitarra cort kx5...|kx507|\n|guitarra eléctric...|kx100|\n|guitarra clasica ...|     |\n+--------------------+-----+\nonly showing top 200 rows\n\n"
     ]
    }
   ],
   "source": [
    "from pyspark.sql.functions import regexp_extract, col,avg\n",
    "\n",
    "# creo la expresión regular para encontrar el patrón 'una letra y 3 números' o 'dos letras y 3 números'\n",
    "pattern = r\"([a-zA-Z]\\d{3}|[a-zA-Z]{2}\\d{3})\"\n",
    "\n",
    "# Busco los matches\n",
    "df_cort_update = df_cort.withColumn(\"match\", regexp_extract(col(\"title_lower\"), pattern, 0))\n",
    "\n",
    "# Observo si funciono\n",
    "df_cort_update.select('title_lower','match').show(200)\n"
   ]
  },
  {
   "cell_type": "code",
   "execution_count": 0,
   "metadata": {
    "application/vnd.databricks.v1+cell": {
     "cellMetadata": {
      "byteLimit": 2048000,
      "rowLimit": 10000
     },
     "inputWidgets": {},
     "nuid": "2a46c4e1-6b22-4193-8ffd-5f392c9f1388",
     "showTitle": false,
     "tableResultSettingsMap": {},
     "title": ""
    }
   },
   "outputs": [
    {
     "output_type": "stream",
     "name": "stdout",
     "output_type": "stream",
     "text": [
      "+--------------------------------------------------------------------------------------------------------------------------------------+-----+-----+------+\n|title_lower                                                                                                                           |match|model|series|\n+--------------------------------------------------------------------------------------------------------------------------------------+-----+-----+------+\n|guitarra eléctrica cort x series x100 de meranti black poro abierto con diapasón de jatoba                                            |x100 |x100 |x     |\n|guitarra acústica cort standard af515ce para diestros natural open pore                                                               |af515|af515|af    |\n|guitarra eléctrica cort kx507 de caoba star dust green con diapasón de ébano                                                          |kx507|kx507|kx    |\n|guitarra stratocaster cort g110 opsb open pore sunburst                                                                               |g110 |g110 |g     |\n|guitarra eléctrica cort x series x100 de meranti black cherry poro abierto con diapasón de jatoba                                     |x100 |x100 |x     |\n|guitarra acústica cort standard af510 para diestros black satin merbau                                                                |af510|af510|af    |\n|guitarra eléctrica cort g series g260cs de aliso olympic white con diapasón de granadillo brasileño                                   |g260 |g260 |g     |\n|guitarra cort stratocaster g110 opbc open pore black cherry                                                                           |g110 |g110 |g     |\n|guitarra acústica cort standard ad810 para diestros black satin                                                                       |ad810|ad810|ad    |\n|guitarra eléctrica cort x series x100 de meranti black cherry burst poro abierto con diapasón de jatoba                               |x100 |x100 |x     |\n|guitarra cort x700dii pib polar ice burst con fishman y bolsa                                                                         |x700 |x700 |x     |\n|guitarra eléctrica leonard le362 stratocaster de aliso black con diapasón de palo de rosa                                             |le362|le362|le    |\n|guitarra eléctrica de 6 cuerdas cort g110 open pore strato red color                                                                  |g110 |g110 |g     |\n|guitarra electroacústica cort standard ad880ce para diestros natural glossy                                                           |ad880|ad880|ad    |\n|guitarra eléctrica cort cr series cr200 de caoba gold top con diapasón de jatoba                                                      |cr200|cr200|cr    |\n|guitarra eléctrica cort kx series kx100 de tilo metallic ash con diapasón de jatoba                                                   |kx100|kx100|kx    |\n|guitarra electroacústica cort standard ad880ce para diestros black                                                                    |ad880|ad880|ad    |\n|guitarra eléctrica cort kx series kx100 stratocaster de tilo iron oxide con diapasón de jatoba                                        |kx100|kx100|kx    |\n|guitarra eléctrica cort kx series kx307 multi scale de caoba 2018 open pore mahogany con diapasón de arce asado                       |kx307|kx307|kx    |\n|guitarra acustica cort af510m open pore tamaño concierto color poro abierto orientación de la mano derecha                            |af510|af510|af    |\n|guitarra acústica cort standard ad810 para diestros open pore                                                                         |ad810|ad810|ad    |\n|guitarra electrica cort g110 stratocaster hss - om color scarlet red material del diapasón palo de rosa orientación de la mano diestro|g110 |g110 |g     |\n|guitarra eléctrica cort cr series cr100 de caoba cherry red burst con diapasón de jatoba                                              |cr100|cr100|cr    |\n|guitarra electrica cort g110 strato hss + funda - plus                                                                                |g110 |g110 |g     |\n|guitarra electroacústica cort af510e microfono funda                                                                                  |af510|af510|af    |\n|guitarra electrica cort pink pastel g200-ppk                                                                                          |g200 |g200 |g     |\n|guitarra acustica cort ad810op funda de color natural material del diapasón wengué orientación de la mano derecha                     |ad810|ad810|ad    |\n|guitarra acústica cort standard af510 para diestros open pore merbau                                                                  |af510|af510|af    |\n|guitarra eléctrica cort cr series cr250 de caoba dark blue explosion con diapasón de jatoba                                           |cr250|cr250|cr    |\n|guitarra super strato cort floydrose brown burst, color negro, diapasón, material jatobá, guía para la mano derecha                   |     |null |null  |\n|guitarra stratocaster cort g110 opsb open pore sunburst                                                                               |g110 |g110 |g     |\n|guitarra acústica cort l450cl-ns satin natural                                                                                        |l450 |l450 |l     |\n|guitarra eléctrica cort x700 duality de caoba burst hielo polar con diapasón de ébano                                                 |x700 |x700 |x     |\n|guitarra electroacustica cort ad810 eop con funda cort color natural orientación de la mano derecha                                   |ad810|ad810|ad    |\n|guitarra eléctrica profesional cort strato g200 skb poplar color azul cielo                                                           |g200 |g200 |g     |\n|guitarra eléctrica cort g series g250 de tilo champagne gold metallic con diapasón de jatoba                                          |g250 |g250 |g     |\n|guitarra electroacustica cort sfx me eq black satin                                                                                   |     |null |null  |\n|guitarra eléctrica cort g series g250 de tilo tobacco explosion con diapasón de jatoba                                                |g250 |g250 |g     |\n|guitarra eléctrica cort x300 flip blue                                                                                                |x300 |x300 |x     |\n|guitarra electrocriolla cort cec3 ns funda corte  plus                                                                                |     |null |null  |\n|guitarra acustica cort earth 100 dreadnought caoba tapa stik                                                                          |     |null |earth |\n|guitarra eléctrica cort g series g250dx de tilo americano trans blue con diapasón de arce                                             |g250 |g250 |g     |\n|guitarra eléctrica cort cr series cr250 de caoba vintage explosion con diapasón de jatoba                                             |cr250|cr250|cr    |\n|guitarra acústica cort af510 m op brown con funda - om                                                                                |af510|af510|af    |\n|guitarra eléctrica cort x series x700 mutility de caoba black satin satin con diapasón de arce                                        |x700 |x700 |x     |\n|guitarra cort select g280 color ámbar                                                                                                 |g280 |g280 |g     |\n|guitarra acústica cort af510 tamaño concierto + funda                                                                                 |af510|af510|af    |\n|guitarra eléctrica cort cr series cr100 de caoba black con diapasón de jatoba                                                         |cr100|cr100|cr    |\n|guitarra cort x series x100 de meranti black poro abierto                                                                             |x100 |x100 |x     |\n|guitarra acústica cort standard ad810 para diestros natural satin                                                                     |ad810|ad810|ad    |\n|guitarra eléctrica cort cr series cr50 single-cutaway de arce black con diapasón de jatoba                                            |     |null |null  |\n|guitarra matthew bellamy muse mbm-2p starligth silver cort                                                                            |     |null |null  |\n|guitarra electroacustica cort ad810 eop funda acolchada                                                                               |ad810|ad810|ad    |\n|guitarra eléctrica cort kx series kx307 multi scale de caoba 2018 open pore black con diapasón de arce asado                          |kx307|kx307|kx    |\n|guitarra acustica cort af510 bks con funda de regalo                                                                                  |af510|af510|af    |\n|guitarra electroacustica cort ad810 e bks - funda - plus                                                                              |ad810|ad810|ad    |\n|guitarra cort vx2vwp eléctrica                                                                                                        |     |null |null  |\n|guitarra acústica cort standard ad mini m para diestros open pore                                                                     |     |null |null  |\n|guitarra eléctrica cort g series g260cs de aliso 3-tone sunburst con diapasón de granadillo brasileño                                 |g260 |g260 |g     |\n|guitarra eléctrica stratocaster cort g110 open pore material del diapasón jatoba orientación de la mano diestro color satin black     |g110 |g110 |g     |\n|guitarra electro acustica cort ad810e-bks con funda cort                                                                              |ad810|ad810|ad    |\n|guitarra eléctrica cort g300 pro vivid burgundy                                                                                       |g300 |g300 |g     |\n|guitarra cort kx307 zkx307ms-opm multi escala                                                                                         |kx307|kx307|kx    |\n|guitarra electroacustica cort ad810e satinada natural                                                                                 |ad810|ad810|ad    |\n|cort x300 fpu serie x guitarra eléctrica morado tornasol orientación de la mano diestro                                               |x300 |x300 |x     |\n|guitarra electrica cort kx300 opbc                                                                                                    |kx300|kx300|kx    |\n|cort ad810m mahogany guitarra acustica con funda orientación de la mano diestro                                                       |ad810|ad810|ad    |\n|guitarra eléctrica cort m custom bs                                                                                                   |     |null |null  |\n|guitarra eléctrica cort kx custom bb                                                                                                  |     |null |null  |\n|guitarra acustica cort ad810m-op mahogany open pore                                                                                   |ad810|ad810|ad    |\n|guitarra cort kx508ms mariana blue burst                                                                                              |kx508|kx508|kx    |\n|guitarra eléctrica cort g series g250 de tilo black con diapasón de jatoba                                                            |g250 |g250 |g     |\n|guitarra electroacústica cort standard af510e para diestros open pore                                                                 |af510|af510|af    |\n|guitarra eléctrica para zurdo cort g series g250 de tilo black con diapasón de jatoba                                                 |g250 |g250 |g     |\n|guitarra electroacustica cort ad810e negra afinador + funda                                                                           |ad810|ad810|ad    |\n|guitarra electrica cort kx300 oprb                                                                                                    |kx300|kx300|kx    |\n|guitarra eléctrica cort x series x100 de meranti black cherr                                                                          |x100 |x100 |x     |\n|guitarra acústica cort ad mini op 3/4 viajera con funda. color natural orientación de la mano derecha                                 |     |null |null  |\n|guitarra eléctrica cort g series g260cs de aliso black con diapasón de granadillo brasileño                                           |g260 |g260 |g     |\n|guitarra acústica cort ad mini m op caoba                                                                                             |     |null |null  |\n|guitarra electrica cort kx300 burst cobalto open pore                                                                                 |kx300|kx300|kx    |\n|guitarra eléctrica cort kx custom bb                                                                                                  |     |null |null  |\n|guitarra eléctrica cort sunset series sunset ii les paul de caoba black con diapasón de palo de rosa                                  |     |null |null  |\n|guitarra electroacustica cort ad810e op poro abierto funda                                                                            |ad810|ad810|ad    |\n|guitarra eléctrica cort g series g250 de tilo silver metallic con diapasón de jatoba                                                  |g250 |g250 |g     |\n|guitarra cort kx500 meneace x500 grey satin                                                                                           |kx500|kx500|kx    |\n|guitarra eléctrica cort cr series cr250 de caoba black transparent con diapasón de jatoba                                             |cr250|cr250|cr    |\n|guitarra eléctrica cort x series x300 de tilo gray explosion con diapasón de arce                                                     |x300 |x300 |x     |\n|guitarra electrica cort x100 opbc black cherry                                                                                        |x100 |x100 |x     |\n|guitarra electrica strato cort g250 con push pull - oddity                                                                            |g250 |g250 |g     |\n|guitarra electrica cort kx300 oprb                                                                                                    |kx300|kx300|kx    |\n|guitarra electroacústica cort standard ad880ce para diestros natural satin                                                            |ad880|ad880|ad    |\n|guitarra eléctrica stratocaster cort g110 open pore material                                                                          |g110 |g110 |g     |\n|guitarra cort g110 satin black cherry open pore                                                                                       |g110 |g110 |g     |\n|guitarra acustica cort earth 100 ns dreadnought color natural material del diapasón ovangkol orientación de la mano derecha           |     |null |earth |\n|cort jade1 guitarra acustica media caja corte funda color natural poro abierto orientación de la mano derecha                         |     |null |null  |\n|guitarra cort kx508ms mariana blue burst                                                                                              |kx508|kx508|kx    |\n|guitarra acústica cort standard ad880 para diestros natural satin                                                                     |ad880|ad880|ad    |\n|guitarra eléctrica cort g250 negra                                                                                                    |g250 |g250 |g     |\n|guitarra eléctrica cort kx series kx100 stratocaster de tilo metallic black barniz brillante con diapasón de jatoba                   |kx100|kx100|kx    |\n|guitarra electrica cort kx300 burst cobalto open pore                                                                                 |kx300|kx300|kx    |\n|guitarra stratocaster cort g110 opsb open pore sunburst                                                                               |g110 |g110 |g     |\n|cort ga pf bevel guitarra electro acustica lr baggs color natural material del diapasón pau ferro orientación de la mano diestro      |     |null |null  |\n|guitarra eléctrica cort g250 negra                                                                                                    |g250 |g250 |g     |\n|guitarra cort elec clásica ac120 ce op                                                                                                |ac120|ac120|ac    |\n|guitarra eléctrica cort x series x300 de tilo brown explosion con diapasón de arce                                                    |x300 |x300 |x     |\n|guitarra cort clásica cec5 natural                                                                                                    |     |null |null  |\n|guitarra eléctrica cort g250 champagne gold metallic                                                                                  |g250 |g250 |g     |\n|guitarra criolla clásica cort sunset nylectric para diestros natural                                                                  |     |null |null  |\n|guitarra eléctrica cort kx100 metallic ash - plus                                                                                     |kx100|kx100|kx    |\n|guitarra eléctrica cort cr series cr200 de caoba black con diapasón de jatoba                                                         |cr200|cr200|cr    |\n|guitarra elec acústica cort ad 880 ce bk negra                                                                                        |     |null |null  |\n|guitarra eléctrica cort g200 strato humbucker - oddity                                                                                |g200 |g200 |g     |\n|guitarra cort eléctrica x300-brb                                                                                                      |x300 |x300 |x     |\n|guitarra cort kx500 etched deep violet                                                                                                |kx500|kx500|kx    |\n|guitarra electrica cort m custom tes mics seymour duncan                                                                              |     |null |null  |\n|guitarra eléctrica cort m custom bs                                                                                                   |     |null |null  |\n|guitarra clásica cort jade e nylon-brb rojo burgundy                                                                                  |     |null |null  |\n|guitarra eléctrica cort g custom crs                                                                                                  |     |null | g    |\n|guitarra eléctrica cort g250 silver metallic                                                                                          |g250 |g250 |g     |\n|guitarra eléctrica cort g250 champagne gold metallic                                                                                  |g250 |g250 |g     |\n|guitarra criolla cort ac100 op c/ funda - oddity                                                                                      |ac100|ac100|ac    |\n|guitarra eléctrica cort x series x700 mutility black satin                                                                            |x700 |x700 |x     |\n|guitarra cort x700dii duality ii lvb lava burst con fishman                                                                           |x700 |x700 |x     |\n|cort ad880 ns - guitarra acústica - plus                                                                                              |ad880|ad880|ad    |\n|guitarra eléctrica cort kx series kx300 etched de caoba black red engraved con diapasón de granadillo brasileño                       |kx300|kx300|kx    |\n|guitarra electrocriolla cort cec5 natural glossy cuota                                                                                |     |null |null  |\n|guitarra eléctrica cort g280 select tbk                                                                                               |g280 |g280 |g     |\n| guitarra cort eléctrica x700 duality-lbb                                                                                             |x700 |x700 |x     |\n|guitarra cort electroacústica ad810e-op con funda                                                                                     |ad810|ad810|ad    |\n|guitarra g290fat ii tbb trans black burst - cort                                                                                      |g290 |g290 |g     |\n|cort earth70 op - guitarra acústica  - oddity                                                                                         |     |null |earth |\n|guitarra cort x700dii duality ii lvb lava burst con fishman                                                                           |x700 |x700 |x     |\n|guitarra clásica cort ac100 sg semi gloss                                                                                             |ac100|ac100|ac    |\n|guitarra cort matthew bellamy mbm-2h-sus-bbe azul                                                                                     |     |null |null  |\n|guitarra cort matthew bellamy mbm-2p-sblk                                                                                             |     |null |null  |\n|guitarra eléctrica cort kx series kx300 etched black gold                                                                             |kx300|kx300|kx    |\n|guitarra clasica criolla cort ac 100                                                                                                  |     |null |null  |\n|guitarra cort eléctrica garage 1 c/funda                                                                                              |     |null |null  |\n|guitarra acústica cort ad mini op little 3/4 funda - oddity                                                                           |     |null |null  |\n|guitarra electroacústica cort ad810e-bks eq funda                                                                                     |ad810|ad810|ad    |\n|guitarra eléctrica cort g custom crs                                                                                                  |     |null | g    |\n|guitarra eléctrica cort kx100 iron oxide + funda - plus                                                                               |kx100|kx100|kx    |\n|guitarra cort eléctrica aero custom bc                                                                                                |     |null |null  |\n|guitarra electrica cort g260cs-3ts - oddity                                                                                           |g260 |g260 |g     |\n|guitarra electrica cort g110 super strat prm                                                                                          |g110 |g110 |g     |\n|guitarra eléctricacort g260cs-3ts                                                                                                     |g260 |g260 |g     |\n|guitarra clasica cort ac50 open pore niño con funda - plus                                                                            |     |null |null  |\n|guitarra acústica mini cort ad mini m caoba con funda                                                                                 |     |null |null  |\n|guitarra electrica cort kx100 io                                                                                                      |kx100|kx100|kx    |\n|cort mr600f-ns guitarra electroacustica con funda - plus                                                                              |mr600|mr600|mr    |\n|guitarra eléctricacort g260cs-ow                                                                                                      |g260 |g260 |g     |\n|guitarra clásica cort jade e nylon-brb rojo burgundy                                                                                  |     |null |null  |\n|guitarra cort g200-skb sky blue                                                                                                       |g200 |g200 |g     |\n|guitarra electrica cort sunset 2 maple caoba humbuckers                                                                               |     |null |null  |\n|cort ad810e guitarra electro acustica negra satinada funda                                                                            |ad810|ad810|ad    |\n|guitarra eléctrica cort kx300-oprb emg retroactivos serie kx                                                                          |kx300|kx300|kx    |\n|guitarra acústica cort earth 100 natural satin cuerdas acero orientación de la mano derecha                                           |     |null |earth |\n|guitarra cort eléctrica aero custom bc                                                                                                |     |null |null  |\n|guitarra eléctrica cort cr series cr250 de caoba black transparent con diapasón de jatoba                                             |cr250|cr250|cr    |\n|guitarra electrica cort kx100 io                                                                                                      |kx100|kx100|kx    |\n|guitarra electroacustica cort mr710f + funda prm                                                                                      |mr710|mr710|mr    |\n|guitarra clásica electroacústica cort cec-3                                                                                           |     |null |null  |\n|guitarra electrica cort g260cs-3ts - plus                                                                                             |g260 |g260 |g     |\n|guitarra electrica cort sunset 2 maple caoba humbuckers                                                                               |     |null |null  |\n|guitarra eléctrica cort kx 500 ebony                                                                                                  |     |null |null  |\n|guitarra clásica cort ac100 sg semi gloss                                                                                             |ac100|ac100|ac    |\n|guitarra eléctrica cort kx300-oprb emg retroactivos serie kx                                                                          |kx300|kx300|kx    |\n|guitarra eléctrica cort cr series cr250 de caoba antique amber con diapasón de jatoba                                                 |cr250|cr250|cr    |\n|guitarra acústica cort earth pack correa funda afinador puas                                                                          |     |null |earth |\n|guitarra cort eléctrica aero custom bc                                                                                                |     |null |null  |\n|guitarra electrica les paul cort cr250vb std vintage brown                                                                            |cr250|cr250|cr    |\n|guitarra eléctrica cort g200 strato humbucker - plus                                                                                  |g200 |g200 |g     |\n|guitarra cort clásica ac 200 op                                                                                                       |     |null |null  |\n|guitarra eléctrica cort gene simmons gs-axe negra                                                                                     |     |null |null  |\n|guitarra tarraxas trava cort g200 black stratocaster                                                                                  |g200 |g200 |g     |\n|guitarra cort clásica cec5 natural                                                                                                    |     |null |null  |\n|guitarra electrica cort x300-brb cuerpo tilo americano                                                                                |x300 |x300 |x     |\n|guitarra electrica cort g110 stratocaster hss - oddity                                                                                |g110 |g110 |g     |\n|guitarra cort eléctrica sunset 2 bk                                                                                                   |     |null |null  |\n|guitarra criolla clasica cort ac200 natural                                                                                           |ac200|ac200|ac    |\n|guitarra eléctrica zurda cort g250 lh strato black - plus                                                                             |g250 |g250 |g     |\n|guitarra eléctricacort g260cs-ow                                                                                                      |g260 |g260 |g     |\n|guitarra criolla clásica cort classic cec1 brillante                                                                                  |     |null |null  |\n|guitarra electrica cort kx100-ma ceniza metalica                                                                                      |kx100|kx100|kx    |\n|guitarra eléctrica cort kx100 humbuckers dobles super st                                                                              |kx100|kx100|kx    |\n|guitarra acústica cort earth 100 nat  natural funda - oddity                                                                          |     |null |earth |\n|guitarra g290fat ii tbb trans black burst - cort                                                                                      |g290 |g290 |g     |\n|cort guitarra electroacústica serie mr natural color natural satin                                                                    |     |null |null  |\n|guitarra cort g-custom articulo a pedido musicapilar                                                                                  |     |null |null  |\n|guit eléc cort cr250 antique amber - les paul / en belgrano!                                                                          |cr250|cr250|cr    |\n|guitarra eléctrica cort kx series kx100 iron oxide - oddity                                                                           |kx100|kx100|kx    |\n|guitarra acústica cort af510 op natural c/funda - oddity                                                                              |af510|af510|af    |\n|guitarra eléctrica cort kx series kx100 iron oxide - plus                                                                             |kx100|kx100|kx    |\n|guitarra eléctrica cort g260cs-bk stratocaster en caja                                                                                |g260 |g260 |g     |\n|guitarra eléctrica cort kx100 iron oxide + funda - oddity                                                                             |kx100|kx100|kx    |\n|guitarra cort eléctrica garage 1 c/funda                                                                                              |     |null |null  |\n|guitarra cort kx507ms 7 cuerdas star dust black                                                                                       |kx507|kx507|kx    |\n|guitarra eléctrica cort kx100 metallic ash + funda - oddity                                                                           |kx100|kx100|kx    |\n|guitarra clasica criolla cort ac 100                                                                                                  |     |null |null  |\n+--------------------------------------------------------------------------------------------------------------------------------------+-----+-----+------+\nonly showing top 200 rows\n\n"
     ]
    }
   ],
   "source": [
    "# ahora que tenemos los matches correspondientes, tenemos que separar la serie (las letras) del match para completar la columna series\n",
    "# en la columna 'model' corresponde todo el match.\n",
    "\n",
    "df_cort_update = df_cort_update.withColumn(\n",
    "    \"model\", \n",
    "    when(col(\"match\") != \"\", col(\"match\")).otherwise(col(\"model\"))\n",
    ")\n",
    "\n",
    "# extraemos solo las letras\n",
    "df_cort_update = df_cort_update.withColumn(\n",
    "    \"series\",\n",
    "    when(col(\"match\") != \"\", regexp_replace(col(\"match\"), \"[^a-zA-Z]\", \"\"))\n",
    "    .otherwise(col(\"series\"))\n",
    ")\n",
    "\n",
    "# Observo el resultado\n",
    "df_cort_update.select(\"title_lower\", \"match\", \"model\", \"series\").show(200, False)\n"
   ]
  },
  {
   "cell_type": "code",
   "execution_count": 0,
   "metadata": {
    "application/vnd.databricks.v1+cell": {
     "cellMetadata": {
      "byteLimit": 2048000,
      "rowLimit": 10000
     },
     "inputWidgets": {},
     "nuid": "29032a24-1872-4651-8c35-85ff052b2b83",
     "showTitle": false,
     "tableResultSettingsMap": {},
     "title": ""
    }
   },
   "outputs": [
    {
     "output_type": "stream",
     "name": "stdout",
     "output_type": "stream",
     "text": [
      "null types: 46\nnull series: 181\nnull models: 254\nde 608 resultados\n"
     ]
    }
   ],
   "source": [
    "# y ahora vemos como logramos reducir la cantidad de nulos\n",
    "\n",
    "nulos_type = df_cort_update.filter(col(\"type\").isNull()).count()\n",
    "\n",
    "nulos_series = df_cort_update.filter(col(\"series\").isNull()).count()\n",
    "\n",
    "nulos_model = df_cort_update.filter(col(\"model\").isNull()).count()\n",
    "\n",
    "print(f\"null types: {nulos_type}\")\n",
    "print(f\"null series: {nulos_series}\")\n",
    "print(f\"null models: {nulos_model}\")\n",
    "print(f\"de {df_cort.count()} resultados\")"
   ]
  },
  {
   "cell_type": "markdown",
   "metadata": {
    "application/vnd.databricks.v1+cell": {
     "cellMetadata": {
      "byteLimit": 2048000,
      "rowLimit": 10000
     },
     "inputWidgets": {},
     "nuid": "5c5bca33-8b55-4820-8781-dc43e5d9895c",
     "showTitle": false,
     "tableResultSettingsMap": {},
     "title": ""
    }
   },
   "source": [
    "### Problema 2: Nulos en la columna 'Type'\n",
    "\n",
    "El único caso donde la columna 'type' puede ser null es un caso donde también sea null la columna 'series' ya que si conocemos la serie, conocemos si es 'eléctrica' o 'acústica'.\n",
    "\n",
    "No estoy seguro de cual serie corresponde a que tipo. Por eso sobre los datos que ya tengo intento averiguarlo agrupando tipos de guitarra por series. Luego a partir de esa información colocar el tipo corresponiente según la serie de la guitarra."
   ]
  },
  {
   "cell_type": "code",
   "execution_count": 0,
   "metadata": {
    "application/vnd.databricks.v1+cell": {
     "cellMetadata": {
      "byteLimit": 2048000,
      "rowLimit": 10000
     },
     "inputWidgets": {},
     "nuid": "3ab58e59-9a1d-4d83-9ef0-788e81439231",
     "showTitle": false,
     "tableResultSettingsMap": {},
     "title": ""
    }
   },
   "outputs": [
    {
     "output_type": "stream",
     "name": "stdout",
     "output_type": "stream",
     "text": [
      "+-----------+---------+------+\n|series     |type     |amount|\n+-----------+---------+------+\n|null       |null     |8     |\n|null       |acustica |42    |\n|null       |acústica |51    |\n|null       |clasica  |3     |\n|null       |clásica  |20    |\n|null       |criolla  |25    |\n|null       |electrica|9     |\n|null       |eléctrica|23    |\n| g         |eléctrica|2     |\n|ac         |acústica |1     |\n|ac         |clasica  |5     |\n|ac         |clásica  |11    |\n|ac         |criolla  |14    |\n|ad         |acustica |35    |\n|ad         |acústica |45    |\n|af         |acustica |20    |\n|af         |acústica |36    |\n|af         |eléctrica|1     |\n|ap         |null     |1     |\n|cr         |null     |1     |\n|cr         |electrica|2     |\n|cr         |eléctrica|10    |\n|earth      |null     |1     |\n|earth      |acustica |23    |\n|earth      |acústica |46    |\n|g          |null     |14    |\n|g          |electrica|12    |\n|g          |eléctrica|43    |\n|grand regal|acústica |1     |\n|kx         |null     |17    |\n|kx         |electrica|10    |\n|kx         |eléctrica|25    |\n|l          |acustica |3     |\n|l          |acústica |5     |\n|le         |eléctrica|1     |\n|mr         |acustica |9     |\n|mr         |acústica |8     |\n|th         |acústica |1     |\n|x          |null     |4     |\n|x          |electrica|2     |\n|x          |eléctrica|18    |\n+-----------+---------+------+\n\n"
     ]
    }
   ],
   "source": [
    "resultados = (\n",
    "    df_cort_update\n",
    "    .groupBy(\"series\", \"type\")\n",
    "    .agg(count(\"*\").alias(\"amount\"))\n",
    "    .orderBy(\"series\", \"type\") \n",
    ")\n",
    "\n",
    "resultados.show(200, False)"
   ]
  },
  {
   "cell_type": "code",
   "execution_count": 0,
   "metadata": {
    "application/vnd.databricks.v1+cell": {
     "cellMetadata": {
      "byteLimit": 2048000,
      "rowLimit": 10000
     },
     "inputWidgets": {},
     "nuid": "3d5eab26-a624-4852-932f-43b2da726581",
     "showTitle": false,
     "tableResultSettingsMap": {},
     "title": ""
    }
   },
   "outputs": [],
   "source": [
    "# puedo notar también que para la serie g la tengo escrita como 'g' y ' g'. Lo arreglo con lo siguiente:\n",
    "df_cort_update = df_cort_update.withColumn(\n",
    "    \"series\",\n",
    "    when(col('series').isin(' g '),'g').otherwise(col(\"series\")) \n",
    ")"
   ]
  },
  {
   "cell_type": "markdown",
   "metadata": {
    "application/vnd.databricks.v1+cell": {
     "cellMetadata": {
      "byteLimit": 2048000,
      "rowLimit": 10000
     },
     "inputWidgets": {},
     "nuid": "7ce00be6-4b01-4d7a-a38d-7d1775879d83",
     "showTitle": false,
     "tableResultSettingsMap": {},
     "title": ""
    }
   },
   "source": [
    "Podemos ver que las series y su tipo correspondiente es: \n",
    "\n",
    "- eléctrica: g, kr, kx, x, cr\n",
    "- acústica earth\n",
    "\n",
    "solamente me fijo en donde para esa serie existen tipos que son null, siendo asi que no existen types nulos para esa serie."
   ]
  },
  {
   "cell_type": "code",
   "execution_count": 0,
   "metadata": {
    "application/vnd.databricks.v1+cell": {
     "cellMetadata": {
      "byteLimit": 2048000,
      "rowLimit": 10000
     },
     "inputWidgets": {},
     "nuid": "95763a53-f38f-4a47-bb1f-ae8d0b775723",
     "showTitle": false,
     "tableResultSettingsMap": {},
     "title": ""
    }
   },
   "outputs": [],
   "source": [
    "df_cort_update = df_cort_update.withColumn(\n",
    "    \"type\",\n",
    "    when(col(\"series\").isin(\"x\", \"kr\", \"g\",\"kx\",\"cr\"), \"electrica\")\n",
    "    .when(col(\"series\").isin(\"earth\",\"af\"), \"acustica\")\n",
    "    .otherwise(col(\"type\")) \n",
    ")"
   ]
  },
  {
   "cell_type": "code",
   "execution_count": 0,
   "metadata": {
    "application/vnd.databricks.v1+cell": {
     "cellMetadata": {
      "byteLimit": 2048000,
      "rowLimit": 10000
     },
     "inputWidgets": {},
     "nuid": "60928bdb-98b9-4f67-8e6c-a9d97ec1f94c",
     "showTitle": false,
     "tableResultSettingsMap": {},
     "title": ""
    }
   },
   "outputs": [
    {
     "output_type": "stream",
     "name": "stdout",
     "output_type": "stream",
     "text": [
      "null types: 9\nDe 608 resultados\n"
     ]
    }
   ],
   "source": [
    "# Veo la diferencia\n",
    "nulos_type = df_cort_update.filter(col(\"type\").isNull()).count()\n",
    "print(f\"null types: {nulos_type}\")\n",
    "print(f\"De {df_cort_update.count()} resultados\")"
   ]
  },
  {
   "cell_type": "markdown",
   "metadata": {
    "application/vnd.databricks.v1+cell": {
     "cellMetadata": {
      "byteLimit": 2048000,
      "rowLimit": 10000
     },
     "inputWidgets": {},
     "nuid": "f0293762-736e-4be5-83be-49d411074bd6",
     "showTitle": false,
     "tableResultSettingsMap": {},
     "title": ""
    }
   },
   "source": [
    "### Filtramos los nulos restantes"
   ]
  },
  {
   "cell_type": "code",
   "execution_count": 0,
   "metadata": {
    "application/vnd.databricks.v1+cell": {
     "cellMetadata": {
      "byteLimit": 2048000,
      "rowLimit": 10000
     },
     "inputWidgets": {},
     "nuid": "7145b88a-62d4-4cf6-9d9c-c864141d3e18",
     "showTitle": false,
     "tableResultSettingsMap": {},
     "title": ""
    }
   },
   "outputs": [
    {
     "output_type": "stream",
     "name": "stdout",
     "output_type": "stream",
     "text": [
      "Out[14]: 182"
     ]
    }
   ],
   "source": [
    "# Veo cuantos casos con null me quedan en 'type' o 'series' para asegurarme de no estar perdiendo muchos datos. Considero que no saber el modelo es aceptable, pero no saber ni el tipo o la serie es prácticamente no saber nada de la guitarra.\n",
    "\n",
    "df_cort_update.filter(col(\"type\").isNull() | col(\"series\").isNull()).select('title_lower','model','series','type').count()"
   ]
  },
  {
   "cell_type": "code",
   "execution_count": 0,
   "metadata": {
    "application/vnd.databricks.v1+cell": {
     "cellMetadata": {
      "byteLimit": 2048000,
      "rowLimit": 10000
     },
     "inputWidgets": {},
     "nuid": "5e789184-fcaf-451d-93a6-fea837cbf1bb",
     "showTitle": false,
     "tableResultSettingsMap": {},
     "title": ""
    }
   },
   "outputs": [],
   "source": [
    "# Filtro estas ultimas filas donde no sabemos ni el tipo o la serie.\n",
    "df_cort_clean = df_cort_update.filter(~(col(\"series\").isNull() | col(\"type\").isNull()))\\\n",
    "    .select('brand','type','series','model','price','title_lower')"
   ]
  },
  {
   "cell_type": "markdown",
   "metadata": {
    "application/vnd.databricks.v1+cell": {
     "cellMetadata": {
      "byteLimit": 2048000,
      "rowLimit": 10000
     },
     "inputWidgets": {},
     "nuid": "c0f41b58-ad80-4d01-8b16-5e66ee0a1907",
     "showTitle": false,
     "tableResultSettingsMap": {},
     "title": ""
    }
   },
   "source": [
    "### Problema 3: más de 2 o 3 palabras para decir lo mismo en 'type'\n",
    "\n",
    "Cómo en las publicaciones algunas personas escriben 'acústica' con acento y otras 'acustica' sin acento. Asi como 'Criolla' y 'Clasica' que hacen referencia a lo mismo. Tenemos varias palabras para decir lo mismo por lo que la solución que se me ocurre es:\n",
    "1. Ver cuales son esas palabras\n",
    "2. Cambiarlas todas por su palabra en ingles (electric, acustic, classic)"
   ]
  },
  {
   "cell_type": "code",
   "execution_count": 0,
   "metadata": {
    "application/vnd.databricks.v1+cell": {
     "cellMetadata": {
      "byteLimit": 2048000,
      "rowLimit": 10000
     },
     "inputWidgets": {},
     "nuid": "00e4d8cb-4428-4be5-a7e2-02aa6e01a167",
     "showTitle": false,
     "tableResultSettingsMap": {},
     "title": ""
    }
   },
   "outputs": [
    {
     "output_type": "stream",
     "name": "stdout",
     "output_type": "stream",
     "text": [
      "+---------+-----+\n|     type|count|\n+---------+-----+\n|eléctrica|    1|\n|  criolla|   14|\n| acustica|  174|\n|electrica|  160|\n| acústica|   61|\n|  clásica|   11|\n|  clasica|    5|\n+---------+-----+\n\n"
     ]
    }
   ],
   "source": [
    "df_cort_clean.groupBy('type').count().show()\n",
    "\n",
    "#primero busco bien las palabras que se repiten para decir lo mismo "
   ]
  },
  {
   "cell_type": "code",
   "execution_count": 0,
   "metadata": {
    "application/vnd.databricks.v1+cell": {
     "cellMetadata": {
      "byteLimit": 2048000,
      "rowLimit": 10000
     },
     "inputWidgets": {},
     "nuid": "943a95fa-ecb9-460d-91be-0f51a73b1c2c",
     "showTitle": false,
     "tableResultSettingsMap": {},
     "title": ""
    }
   },
   "outputs": [],
   "source": [
    "# modifico las coincidencias\n",
    "\n",
    "df_cort_clean = df_cort_clean.withColumn(\n",
    "    \"type\",\n",
    "    when(col('type').isin(\"eléctrica\",\"electrica\"),\"electric\")\n",
    "    .when(col('type').isin(\"criolla\",\"clásica\",\"clasica\"),\"classic\")\n",
    "    .when(col('type').isin(\"acústica\",\"acustica\"),\"acustic\")\n",
    ")"
   ]
  },
  {
   "cell_type": "markdown",
   "metadata": {
    "application/vnd.databricks.v1+cell": {
     "cellMetadata": {
      "byteLimit": 2048000,
      "rowLimit": 10000
     },
     "inputWidgets": {},
     "nuid": "8ee6c646-dc6a-4d67-8228-98a013d7a0c4",
     "showTitle": false,
     "tableResultSettingsMap": {},
     "title": ""
    }
   },
   "source": [
    "### Problema 4: Nulos en 'brand'"
   ]
  },
  {
   "cell_type": "code",
   "execution_count": 0,
   "metadata": {
    "application/vnd.databricks.v1+cell": {
     "cellMetadata": {
      "byteLimit": 2048000,
      "rowLimit": 10000
     },
     "inputWidgets": {},
     "nuid": "7aa79335-86d2-42fe-915b-6c10cda3454f",
     "showTitle": false,
     "tableResultSettingsMap": {},
     "title": ""
    }
   },
   "outputs": [
    {
     "output_type": "stream",
     "name": "stdout",
     "output_type": "stream",
     "text": [
      "+-----+--------+------+-----+-------+--------------------+\n|brand|    type|series|model|  price|         title_lower|\n+-----+--------+------+-----+-------+--------------------+\n| null|electric|    le|le362|255.873|guitarra eléctric...|\n+-----+--------+------+-----+-------+--------------------+\n\n"
     ]
    }
   ],
   "source": [
    "# corroboro si me quedo alguna fila con 'brand' en null\n",
    "df_cort_clean.filter(col(\"brand\").isNull()).show()"
   ]
  },
  {
   "cell_type": "code",
   "execution_count": 0,
   "metadata": {
    "application/vnd.databricks.v1+cell": {
     "cellMetadata": {
      "byteLimit": 2048000,
      "rowLimit": 10000
     },
     "inputWidgets": {},
     "nuid": "6441f672-ff77-4680-a972-99b3009abd7f",
     "showTitle": false,
     "tableResultSettingsMap": {},
     "title": ""
    }
   },
   "outputs": [],
   "source": [
    "# la elimino, ya que no tengo seguridad que pertenezca a cort\n",
    "df_cort_clean = df_cort_clean.filter(col(\"brand\").isNotNull())"
   ]
  },
  {
   "cell_type": "markdown",
   "metadata": {
    "application/vnd.databricks.v1+cell": {
     "cellMetadata": {
      "byteLimit": 2048000,
      "rowLimit": 10000
     },
     "inputWidgets": {},
     "nuid": "d02bb3d2-e060-4fb2-80c2-b4451b5b8cca",
     "showTitle": false,
     "tableResultSettingsMap": {},
     "title": ""
    }
   },
   "source": [
    "### Problema 5: Cambiar el tipo de la columna de price de string a float"
   ]
  },
  {
   "cell_type": "code",
   "execution_count": 0,
   "metadata": {
    "application/vnd.databricks.v1+cell": {
     "cellMetadata": {
      "byteLimit": 2048000,
      "rowLimit": 10000
     },
     "inputWidgets": {},
     "nuid": "c67453ff-7ea1-4253-aeb9-264cea861f00",
     "showTitle": false,
     "tableResultSettingsMap": {},
     "title": ""
    }
   },
   "outputs": [],
   "source": [
    "#Transformamos la columna precio en una columna de tipo flotante, primero quitando el punto del string.\n",
    "df_cort_clean = df_cort_clean.withColumn(\"price\", regexp_replace(col(\"price\"), \"\\\\.\", \"\").cast(\"float\"))\n"
   ]
  },
  {
   "cell_type": "markdown",
   "metadata": {
    "application/vnd.databricks.v1+cell": {
     "cellMetadata": {
      "byteLimit": 2048000,
      "rowLimit": 10000
     },
     "inputWidgets": {},
     "nuid": "a53a4feb-f2f9-4051-8bf1-3b654fcec2c2",
     "showTitle": false,
     "tableResultSettingsMap": {},
     "title": ""
    }
   },
   "source": [
    "### Data Frame final"
   ]
  },
  {
   "cell_type": "code",
   "execution_count": 0,
   "metadata": {
    "application/vnd.databricks.v1+cell": {
     "cellMetadata": {
      "byteLimit": 2048000,
      "rowLimit": 10000
     },
     "inputWidgets": {},
     "nuid": "51f64e8d-96cd-49e1-be25-8bc4bbabf391",
     "showTitle": false,
     "tableResultSettingsMap": {},
     "title": ""
    }
   },
   "outputs": [
    {
     "output_type": "stream",
     "name": "stdout",
     "output_type": "stream",
     "text": [
      "de: 608 quedaron: 425\n+-----+--------+-----------+-----+---------+\n|brand|type    |series     |model|price    |\n+-----+--------+-----------+-----+---------+\n|cort |electric|x          |x100 |467727.0 |\n|cort |acustic |af         |af515|356318.0 |\n|cort |electric|kx         |kx507|1580162.0|\n|cort |electric|g          |g110 |449350.0 |\n|cort |electric|x          |x100 |467727.0 |\n|cort |acustic |af         |af510|349700.0 |\n|cort |electric|g          |g260 |1099793.0|\n|cort |electric|g          |g110 |442445.0 |\n|cort |acustic |ad         |ad810|381995.0 |\n|cort |electric|x          |x100 |467727.0 |\n|cort |electric|x          |x700 |2654673.0|\n|cort |electric|g          |g110 |345664.0 |\n|cort |acustic |ad         |ad880|614810.0 |\n|cort |electric|cr         |cr200|862140.0 |\n|cort |electric|kx         |kx100|474048.0 |\n|cort |acustic |ad         |ad880|543181.0 |\n|cort |electric|kx         |kx100|556840.0 |\n|cort |electric|kx         |kx307|1036586.0|\n|cort |acustic |af         |af510|302001.0 |\n|cort |acustic |ad         |ad810|388500.0 |\n|cort |electric|g          |g110 |428851.0 |\n|cort |electric|cr         |cr100|589296.0 |\n|cort |electric|g          |g110 |462705.0 |\n|cort |acustic |af         |af510|403662.0 |\n|cort |electric|g          |g200 |493801.0 |\n|cort |acustic |ad         |ad810|313312.0 |\n|cort |acustic |af         |af510|349808.0 |\n|cort |electric|cr         |cr250|978740.0 |\n|cort |electric|g          |g110 |345660.0 |\n|cort |acustic |l          |l450 |935456.0 |\n|cort |electric|x          |x700 |2515618.0|\n|cort |acustic |ad         |ad810|403995.0 |\n|cort |electric|g          |g200 |633065.0 |\n|cort |electric|g          |g250 |109788.0 |\n|cort |electric|g          |g250 |736500.0 |\n|cort |electric|x          |x300 |1137716.0|\n|cort |acustic |earth      |null |608362.0 |\n|cort |electric|g          |g250 |577999.0 |\n|cort |electric|cr         |cr250|1174500.0|\n|cort |acustic |af         |af510|375845.0 |\n|cort |electric|x          |x700 |2515618.0|\n|cort |electric|g          |g280 |1415826.0|\n|cort |acustic |af         |af510|385397.0 |\n|cort |electric|cr         |cr100|589246.0 |\n|cort |electric|x          |x100 |467727.0 |\n|cort |acustic |ad         |ad810|360308.0 |\n|cort |acustic |ad         |ad810|523172.0 |\n|cort |electric|kx         |kx307|809833.0 |\n|cort |acustic |af         |af510|315045.0 |\n|cort |acustic |ad         |ad810|540259.0 |\n|cort |electric|g          |g260 |1052519.0|\n|cort |electric|g          |g110 |442444.0 |\n|cort |acustic |ad         |ad810|437414.0 |\n|cort |electric|g          |g300 |1435972.0|\n|cort |electric|kx         |kx307|1036586.0|\n|cort |acustic |ad         |ad810|481319.0 |\n|cort |electric|x          |x300 |888841.0 |\n|cort |electric|kx         |kx300|1008774.0|\n|cort |acustic |ad         |ad810|313306.0 |\n|cort |acustic |ad         |ad810|398262.0 |\n|cort |electric|kx         |kx508|2199586.0|\n|cort |electric|g          |g250 |658731.0 |\n|cort |acustic |af         |af510|403662.0 |\n|cort |electric|g          |g250 |754125.0 |\n|cort |acustic |ad         |ad810|551124.0 |\n|cort |electric|kx         |kx300|788106.0 |\n|cort |electric|x          |x100 |467727.0 |\n|cort |electric|g          |g260 |1009273.0|\n|cort |electric|kx         |kx300|926025.0 |\n|cort |acustic |ad         |ad810|418545.0 |\n|cort |electric|g          |g250 |733195.0 |\n|cort |electric|kx         |kx500|1669047.0|\n|cort |electric|cr         |cr250|978740.0 |\n|cort |electric|x          |x300 |983442.0 |\n|cort |electric|x          |x100 |467727.0 |\n|cort |electric|g          |g250 |583357.0 |\n|cort |electric|kx         |kx300|1008774.0|\n|cort |acustic |ad         |ad880|469999.0 |\n|cort |electric|g          |g110 |442444.0 |\n|cort |electric|g          |g110 |442445.0 |\n|cort |acustic |earth      |null |744436.0 |\n|cort |electric|kx         |kx508|1718427.0|\n|cort |acustic |ad         |ad880|460925.0 |\n|cort |electric|g          |g250 |572809.0 |\n|cort |electric|kx         |kx100|606781.0 |\n|cort |electric|kx         |kx300|831452.0 |\n|cort |electric|g          |g110 |442445.0 |\n|cort |electric|g          |g250 |734195.0 |\n|cort |classic |ac         |ac120|477999.0 |\n|cort |electric|x          |x300 |1044389.0|\n|cort |electric|g          |g250 |733195.0 |\n|cort |electric|kx         |kx100|583348.0 |\n|cort |electric|cr         |cr200|862140.0 |\n|cort |electric|g          |g200 |506180.0 |\n|cort |electric|x          |x300 |1137716.0|\n|cort |electric|kx         |kx500|1870912.0|\n|cort |electric|g          |null |1461650.0|\n|cort |electric|g          |g250 |573809.0 |\n|cort |electric|g          |g250 |572809.0 |\n|cort |classic |ac         |ac100|327424.0 |\n|cort |electric|x          |x700 |1965327.0|\n|cort |electric|x          |x700 |2073964.0|\n|cort |acustic |ad         |ad880|488853.0 |\n|cort |electric|kx         |kx300|1183641.0|\n|cort |electric|g          |g280 |1106114.0|\n|cort |electric|x          |x700 |2515618.0|\n|cort |acustic |ad         |ad810|531037.0 |\n|cort |electric|g          |g290 |1516956.0|\n|cort |acustic |earth      |null |607171.0 |\n|cort |electric|x          |x700 |2654673.0|\n|cort |classic |ac         |ac100|315045.0 |\n|cort |electric|kx         |kx300|1289412.0|\n|cort |acustic |ad         |ad810|546768.0 |\n|cort |electric|g          |null |1870912.0|\n|cort |electric|kx         |kx100|617161.0 |\n|cort |electric|g          |g260 |871649.0 |\n|cort |electric|g          |g110 |397509.0 |\n|cort |electric|g          |g260 |859213.0 |\n|cort |electric|kx         |kx100|474048.0 |\n|cort |acustic |mr         |mr600|923854.0 |\n|cort |electric|g          |g260 |859213.0 |\n|cort |electric|g          |g200 |493801.0 |\n|cort |acustic |ad         |ad810|437413.0 |\n|cort |electric|kx         |kx300|831452.0 |\n|cort |acustic |earth      |null |608362.0 |\n|cort |electric|cr         |cr250|1174500.0|\n|cort |electric|kx         |kx100|474048.0 |\n|cort |acustic |mr         |mr710|965381.0 |\n|cort |electric|g          |g260 |1052519.0|\n|cort |classic |ac         |ac100|400472.0 |\n|cort |electric|kx         |kx300|831452.0 |\n|cort |electric|cr         |cr250|978740.0 |\n|cort |acustic |earth      |null |375288.0 |\n|cort |electric|cr         |cr250|1108611.0|\n|cort |electric|g          |g200 |610222.0 |\n|cort |electric|g          |g200 |632065.0 |\n|cort |electric|x          |x300 |937728.0 |\n|cort |electric|g          |g110 |354781.0 |\n|cort |classic |ac         |ac200|432364.0 |\n|cort |electric|g          |g250 |754125.0 |\n|cort |electric|g          |g260 |859213.0 |\n|cort |electric|kx         |kx100|606782.0 |\n|cort |electric|kx         |kx100|500121.0 |\n|cort |acustic |earth      |null |614073.0 |\n|cort |electric|g          |g290 |1185122.0|\n|cort |electric|cr         |cr250|978740.0 |\n|cort |electric|kx         |kx100|481766.0 |\n|cort |acustic |af         |af510|317672.0 |\n|cort |electric|kx         |kx100|583348.0 |\n|cort |electric|g          |g260 |1009273.0|\n|cort |electric|kx         |kx100|508617.0 |\n|cort |electric|kx         |kx507|2022608.0|\n|cort |electric|kx         |kx100|508617.0 |\n|cort |electric|kx         |kx100|617161.0 |\n|cort |electric|g          |g200 |632065.0 |\n|cort |acustic |earth      |null |474739.0 |\n|cort |electric|kx         |kx300|1008354.0|\n|cort |electric|kx         |kx300|788106.0 |\n|cort |electric|cr         |cr200|862140.0 |\n|cort |electric|kx         |kx500|1669047.0|\n|cort |acustic |af         |af510|333563.0 |\n|cort |acustic |af         |af510|396045.0 |\n|cort |electric|kx         |kx300|926025.0 |\n|cort |electric|g          |g300 |1838044.0|\n|cort |electric|kx         |kx500|2136380.0|\n|cort |electric|g          |g250 |572809.0 |\n|cort |classic |ac         |ac200|537397.0 |\n|cort |electric|kx         |kx100|481766.0 |\n|cort |electric|kx         |kx500|2136380.0|\n|cort |electric|g          |g290 |1516956.0|\n|cort |electric|g          |g290 |1186122.0|\n|cort |electric|kx         |kx100|474048.0 |\n|cort |classic |ac         |ac200|355535.0 |\n|cort |electric|g          |g260 |810579.0 |\n|cort |electric|kx         |kx700|2654673.0|\n|cort |electric|g          |g250 |706101.0 |\n|cort |electric|g          |g300 |1435972.0|\n|cort |electric|cr         |cr250|1108611.0|\n|cort |electric|kx         |kx100|557007.0 |\n|cort |electric|kx         |kx500|1461650.0|\n|cort |acustic |earth      |null |395743.0 |\n|cort |electric|kx         |kx700|2073964.0|\n|cort |electric|g          |g250 |572809.0 |\n|cort |electric|kx         |kx700|2190378.0|\n|cort |electric|g          |g110 |345560.0 |\n|cort |electric|g          |g250 |658730.0 |\n|cort |acustic |ad         |ad810|480419.0 |\n|cort |electric|kx         |kx300|1008354.0|\n|cort |acustic |af         |af510|314388.0 |\n|cort |acustic |earth      |null |608362.0 |\n|cort |classic |ac         |ac200|444747.0 |\n|cort |electric|g          |g280 |1116661.0|\n|cort |acustic |ad         |ad810|437400.0 |\n|cort |acustic |earth      |null |528405.0 |\n|cort |classic |ac         |ac200|445862.0 |\n|cort |electric|kx         |kx500|1547979.0|\n|cort |electric|kx         |kx300|802415.0 |\n|cort |electric|g          |g110 |428851.0 |\n|cort |electric|x          |x700 |2086178.0|\n|cort |acustic |ac         |ac250|125183.0 |\n|cort |acustic |mr         |mr710|839460.0 |\n|cort |electric|g          |g300 |1411312.0|\n|cort |electric|kx         |kx507|1580163.0|\n|cort |acustic |earth      |null |699617.0 |\n|cort |acustic |af         |af590|493801.0 |\n|cort |acustic |earth      |null |423367.0 |\n|cort |acustic |earth      |null |548213.0 |\n|cort |electric|g          |g300 |1448180.0|\n|cort |electric|g          |g290 |1197327.0|\n|cort |electric|g          |g260 |859222.0 |\n|cort |electric|g          |g290 |1240994.0|\n|cort |acustic |earth      |null |511894.0 |\n|cort |electric|g          |g290 |1274505.0|\n|cort |electric|kx         |kx300|798650.0 |\n|cort |acustic |af         |af510|362301.0 |\n|cort |electric|x          |x700 |1977540.0|\n|cort |electric|x          |x500 |1669065.0|\n|cort |electric|g          |g280 |1118318.0|\n|cort |electric|g          |g260 |871414.0 |\n|cort |electric|x          |x700 |2086178.0|\n|cort |electric|kx         |kx300|1017900.0|\n|cort |electric|x          |x700 |1977540.0|\n|cort |electric|g          |g260 |871414.0 |\n|cort |electric|kx         |kx300|1073890.0|\n|cort |electric|g          |g250 |572809.0 |\n|cort |acustic |ad         |ad810|463381.0 |\n|cort |electric|g          |g290 |1185122.0|\n|cort |acustic |ad         |ad810|463381.0 |\n|cort |acustic |earth      |null |478284.0 |\n|cort |acustic |ad         |ad810|418537.0 |\n|cort |acustic |l          |l300 |1106114.0|\n|cort |classic |ac         |ac120|607611.0 |\n|cort |acustic |earth      |null |385164.0 |\n|cort |acustic |ad         |ad810|418545.0 |\n|cort |acustic |earth      |null |480368.0 |\n|cort |acustic |af         |af510|386571.0 |\n|cort |acustic |mr         |mr730|1643368.0|\n|cort |classic |ac         |ac100|315045.0 |\n|cort |acustic |af         |af510|423681.0 |\n|cort |acustic |earth      |null |608362.0 |\n|cort |acustic |ad         |ad880|523416.0 |\n|cort |acustic |af         |af510|304181.0 |\n|cort |acustic |ad         |ad880|666616.0 |\n|cort |acustic |af         |af510|315045.0 |\n|cort |acustic |af         |af510|405516.0 |\n|cort |acustic |af         |af510|390567.0 |\n|cort |acustic |af         |af590|634040.0 |\n|cort |acustic |af         |af510|576645.0 |\n|cort |acustic |af         |af510|537411.0 |\n|cort |acustic |earth      |null |493010.0 |\n|cort |acustic |ad         |ad810|422239.0 |\n|cort |acustic |ad         |ad810|556015.0 |\n|cort |acustic |ad         |ad810|437408.0 |\n|cort |acustic |mr         |mr710|839461.0 |\n|cort |acustic |af         |af510|418545.0 |\n|cort |acustic |grand regal|null |1213564.0|\n|cort |classic |ac         |ac100|315045.0 |\n|cort |acustic |earth      |null |778703.0 |\n|cort |classic |ac         |ac100|400472.0 |\n|cort |acustic |ad         |ad810|331170.0 |\n|cort |acustic |l          |l450 |967849.0 |\n|cort |acustic |l          |l100 |619661.0 |\n|cort |acustic |earth      |null |733626.0 |\n|cort |classic |ac         |ac100|400472.0 |\n|cort |acustic |earth      |null |511827.0 |\n|cort |acustic |af         |af510|444865.0 |\n|cort |acustic |ad         |ad810|418500.0 |\n|cort |acustic |af         |af510|418537.0 |\n|cort |acustic |mr         |mr500|691320.0 |\n|cort |acustic |ad         |ad880|434464.0 |\n|cort |acustic |af         |af510|348822.0 |\n|cort |acustic |af         |af510|469106.0 |\n|cort |acustic |af         |af510|463420.0 |\n|cort |acustic |ad         |ad810|367783.0 |\n|cort |acustic |earth      |null |412817.0 |\n|cort |acustic |earth      |null |998794.0 |\n|cort |acustic |ad         |ad810|503026.0 |\n|cort |acustic |ad         |ad810|546768.0 |\n|cort |classic |ac         |ac120|485673.0 |\n|cort |acustic |af         |af510|439465.0 |\n|cort |acustic |ad         |ad810|437400.0 |\n|cort |acustic |ad         |ad810|313307.0 |\n|cort |classic |ac         |ac160|631599.0 |\n|cort |classic |ac         |ac160|765404.0 |\n|cort |acustic |ad         |ad880|404769.0 |\n|cort |acustic |ad         |ad810|344571.0 |\n|cort |acustic |earth      |null |601028.0 |\n|cort |acustic |ad         |ad880|647339.0 |\n|cort |acustic |earth      |null |397569.0 |\n|cort |acustic |l          |l450 |744319.0 |\n|cort |acustic |af         |af510|429095.0 |\n|cort |acustic |ad         |ad880|536790.0 |\n|cort |acustic |af         |af510|515908.0 |\n|cort |acustic |earth      |null |728282.0 |\n|cort |classic |ac         |ac120|477998.0 |\n|cort |acustic |earth      |null |614073.0 |\n|cort |acustic |ad         |ad810|415755.0 |\n|cort |acustic |af         |af510|526883.0 |\n|cort |acustic |earth      |null |725342.0 |\n|cort |classic |ac         |ac100|394934.0 |\n|cort |acustic |af         |af510|436088.0 |\n|cort |acustic |earth      |null |466314.0 |\n|cort |classic |ac         |ac200|537397.0 |\n|cort |acustic |l          |l450 |900925.0 |\n|cort |acustic |earth      |null |670124.0 |\n|cort |classic |ac         |ac250|620736.0 |\n|cort |acustic |earth      |null |390132.0 |\n|cort |classic |ac         |ac200|497219.0 |\n|cort |acustic |mr         |mr730|1476465.0|\n|cort |acustic |mr         |mr730|1283882.0|\n|cort |acustic |earth      |null |712620.0 |\n|cort |acustic |earth      |null |540568.0 |\n|cort |acustic |earth      |null |474740.0 |\n|cort |classic |ac         |ac200|445862.0 |\n|cort |acustic |af         |af510|598509.0 |\n|cort |acustic |af         |af510|423680.0 |\n|cort |acustic |ad         |ad810|439465.0 |\n|cort |acustic |af         |af510|317101.0 |\n|cort |acustic |ad         |ad810|598509.0 |\n|cort |acustic |af         |af510|605864.0 |\n|cort |acustic |af         |af510|431861.0 |\n|cort |acustic |af         |af510|393806.0 |\n|cort |acustic |ad         |ad810|332169.0 |\n|cort |acustic |ad         |ad810|415212.0 |\n|cort |acustic |ad         |ad810|360308.0 |\n|cort |classic |ac         |ac150|465798.0 |\n|cort |classic |ac         |ac150|465798.0 |\n|cort |acustic |earth      |null |543181.0 |\n|cort |acustic |earth      |null |624658.0 |\n|cort |classic |ac         |ac150|405041.0 |\n|cort |acustic |earth      |null |540568.0 |\n|cort |acustic |af         |af590|493800.0 |\n|cort |acustic |ad         |ad810|330544.0 |\n|cort |acustic |l          |l100 |638649.0 |\n|cort |acustic |ad         |ad810|330544.0 |\n|cort |acustic |ad         |ad810|368141.0 |\n|cort |classic |ac         |ac250|752213.0 |\n|cort |acustic |af         |af510|320911.0 |\n|cort |acustic |ad         |ad810|368141.0 |\n|cort |acustic |earth      |null |714826.0 |\n|cort |acustic |earth      |null |641822.0 |\n|cort |acustic |earth      |null |770795.0 |\n|cort |acustic |ad         |ad810|396966.0 |\n|cort |acustic |ad         |ad810|535064.0 |\n|cort |acustic |af         |af510|357413.0 |\n|cort |acustic |earth      |null |412817.0 |\n|cort |acustic |earth      |null |744436.0 |\n|cort |acustic |earth      |null |412818.0 |\n|cort |acustic |earth      |null |670124.0 |\n|cort |acustic |l          |l450 |1238847.0|\n|cort |classic |ac         |ac160|762463.0 |\n|cort |acustic |mr         |mr710|1074510.0|\n|cort |acustic |af         |af510|441557.0 |\n|cort |acustic |af         |af510|302008.0 |\n|cort |classic |ac         |ac150|405041.0 |\n|cort |acustic |earth      |null |385164.0 |\n|cort |acustic |af         |af590|493800.0 |\n|cort |classic |ac         |ac200|432364.0 |\n|cort |acustic |mr         |mr710|965380.0 |\n|cort |acustic |earth      |null |442938.0 |\n|cort |acustic |earth      |null |699616.0 |\n|cort |acustic |mr         |mr710|1074510.0|\n|cort |acustic |ad         |ad810|437414.0 |\n|cort |acustic |earth      |null |998794.0 |\n|cort |acustic |earth      |null |812990.0 |\n|cort |acustic |ad         |ad810|549990.0 |\n|cort |acustic |ad         |ad810|332169.0 |\n|cort |acustic |mr         |mr710|839461.0 |\n|cort |acustic |af         |af510|304181.0 |\n|cort |acustic |ad         |ad810|418538.0 |\n|cort |acustic |earth      |null |998794.0 |\n|cort |acustic |earth      |null |812990.0 |\n|cort |acustic |ad         |ad810|549990.0 |\n|cort |acustic |ad         |ad810|332169.0 |\n|cort |acustic |mr         |mr710|839461.0 |\n|cort |acustic |af         |af510|304181.0 |\n|cort |acustic |ad         |ad810|418538.0 |\n|cort |acustic |earth      |null |768610.0 |\n|cort |acustic |mr         |mr710|1120990.0|\n|cort |acustic |earth      |null |997990.0 |\n|cort |acustic |ad         |ad810|584990.0 |\n|cort |acustic |ad         |ad810|423990.0 |\n|cort |acustic |af         |af590|622188.0 |\n|cort |acustic |earth      |null |768610.0 |\n|cort |acustic |earth      |null |608362.0 |\n|cort |acustic |earth      |null |608362.0 |\n|cort |acustic |earth      |null |812990.0 |\n|cort |acustic |earth      |null |998794.0 |\n|cort |acustic |ad         |ad810|449990.0 |\n|cort |acustic |ad         |ad810|313312.0 |\n|cort |acustic |ad         |ad810|423990.0 |\n|cort |acustic |af         |af510|315045.0 |\n|cort |acustic |af         |af510|428990.0 |\n|cort |acustic |af         |af510|417990.0 |\n|cort |acustic |ad         |ad810|335784.0 |\n|cort |acustic |ad         |ad810|313312.0 |\n|cort |acustic |earth      |null |768610.0 |\n|cort |acustic |earth      |null |812990.0 |\n|cort |acustic |earth      |null |540568.0 |\n|cort |acustic |ad         |ad810|360308.0 |\n|cort |acustic |earth      |null |412817.0 |\n|cort |acustic |mr         |mr600|763005.0 |\n|cort |acustic |mr         |mr710|839461.0 |\n|cort |acustic |ad         |ad810|518996.0 |\n|cort |acustic |ad         |ad810|418500.0 |\n|cort |acustic |ad         |ad880|437409.0 |\n|cort |acustic |ad         |ad880|614810.0 |\n|cort |acustic |af         |af510|520297.0 |\n|cort |acustic |ad         |ad810|388500.0 |\n|cort |acustic |ad         |ad810|418545.0 |\n|cort |acustic |th         |th100|608362.0 |\n|cort |acustic |mr         |mr730|246077.0 |\n|cort |acustic |ad         |ad810|418538.0 |\n|cort |acustic |af         |af510|491782.0 |\n|cort |acustic |earth      |null |385164.0 |\n|cort |acustic |earth      |null |470059.0 |\n|cort |acustic |earth      |null |480109.0 |\n|cort |acustic |earth      |null |442939.0 |\n|cort |acustic |ad         |ad810|313312.0 |\n|cort |acustic |earth      |null |767457.0 |\n|cort |acustic |af         |af510|347301.0 |\n|cort |acustic |ad         |ad810|368031.0 |\n|cort |acustic |earth      |null |819513.0 |\n|cort |acustic |af         |af510|374491.0 |\n|cort |acustic |earth      |null |474740.0 |\n+-----+--------+-----------+-----+---------+\n\n"
     ]
    }
   ],
   "source": [
    "# Observo el data frame ahora ya procesado y cuantas filas me quedaron\n",
    "print(f\"de: {df_cort.count()} quedaron: {df_cort_clean.count()}\")\n",
    "df_cort_final = df_cort_clean.select(\"brand\",\"type\",\"series\",\"model\",\"price\")\n",
    "\n",
    "df_cort_final.show(df_cort_clean.count(),False)"
   ]
  },
  {
   "cell_type": "markdown",
   "metadata": {
    "application/vnd.databricks.v1+cell": {
     "cellMetadata": {
      "byteLimit": 2048000,
      "rowLimit": 10000
     },
     "inputWidgets": {},
     "nuid": "8a0f0ea1-700d-4e37-aba2-fcb237da67bd",
     "showTitle": false,
     "tableResultSettingsMap": {},
     "title": ""
    }
   },
   "source": [
    "## 2. Guitarras marca 'Squier'\n",
    "\n",
    "En el caso de las squier pasa lo mismo puede aceptarse que falte el modelo, pero no la serie, el tipo o la marca."
   ]
  },
  {
   "cell_type": "code",
   "execution_count": 0,
   "metadata": {
    "application/vnd.databricks.v1+cell": {
     "cellMetadata": {
      "byteLimit": 2048000,
      "rowLimit": 10000
     },
     "inputWidgets": {},
     "nuid": "f04b287e-b80d-470c-bfa8-cce2dc73f7b3",
     "showTitle": false,
     "tableResultSettingsMap": {},
     "title": ""
    }
   },
   "outputs": [
    {
     "output_type": "stream",
     "name": "stdout",
     "output_type": "stream",
     "text": [
      "221\n+-----------------------------------------------------------------------------------------------------------------------------------------------+---------+\n|title                                                                                                                                          |price    |\n+-----------------------------------------------------------------------------------------------------------------------------------------------+---------+\n|Guitarra Eléctrica Fender Squier Bullet Telecaster Black Mástil Laurel Indio                                                                   |521.039  |\n|Guitarra eléctrica Squier by Fender Bullet Stratocaster HT de álamo black brillante con diapasón de laurel indio                               |453.077  |\n|Guitarra eléctrica Squier by Fender Bullet Stratocaster HT de álamo brown sunburst brillante con diapasón de laurel indio                      |453.077  |\n|Guitarra eléctrica Squier by Fender Affinity Series Stratocaster HH de Álamo Charcoal Frost Metallic brillante Diapasón de Laurel Indio        |786.028  |\n|Guitarra eléctrica Squier by Fender Bullet Telecaster de álamo brown sunburst poliuretano brillante                                            |521.039  |\n|Guitarra eléctrica Squier by Fender Contemporary Telecaster HH de álamo black metallic brillante con diapasón de arce                          |184.825  |\n|Guitarra eléctrica Squier by Fender Affinity Series Stratocaster de álamo black brillante                                                      |786.028  |\n|Guitarra eléctrica Squier by Fender Affinity Series Stratocaster de álamo 2-color sunburst brillante con diapasón de arce                      |786.028  |\n|Guitarra eléctrica SX Vintage Series FST62 stratocaster de aliso black brillante con diapasón de palo de rosa                                  |393.730  |\n|Guitarra Eléctrica Squier Sonic Negra Brillante Telecaster Orientación De La Mano Diestro                                                      |472.783  |\n|Guitarra Eléctrica FENDER Squier Bullet Stratocaster HT de álamo Fiesta Red Brillante Mastil Laurel Indio                                      |453.639  |\n|Guitarra eléctrica Squier by Fender Affinity Series Telecaster Deluxe de álamo burgundy mist brillante con diapasón de laurel indio            |829.264  |\n|Guitarra Electrica Squier Affinity Telecaster Olympic White Orientación De La Mano Diestro Color Blanco                                        |598.357  |\n|Guitarra eléctrica Leonard LE362 stratocaster de aliso black con diapasón de palo de rosa                                                      |255.873  |\n|Guitarra eléctrica Squier by Fender Affinity Series Stratocaster de álamo 3-color sunburst brillante con diapasón de laurel indio              |683.506  |\n|Guitarra eléctrica Squier by Fender Affinity Series Stratocaster de álamo black brillante con diapasón de laurel indio                         |598.357  |\n|Guitarra eléctrica Squier by Fender Affinity Series Stratocaster de álamo brown sunburst brillante con diapasón de laurel indio                |683.502  |\n|Guitarra eléctrica Squier by Fender Telecaster de álamo slick silver laca poliuretánica con diapasón de laurel                                 |523.230  |\n|Guitarra eléctrica SX Vintage Series STL50+ de tilo butterscotch blonde brillante con diapasón de arce                                         |514.035  |\n|Squier By Fender Telecaster Affinity Guitarra Eléctrica                                                                                        |523.238  |\n|Guitarra Squier Bullet Stratocaster Hardtail La Plata Color Negro Orientación de la mano Diestro                                               |521.039  |\n|Squier Affinity Stratocaster Hh Guitarra Doble Humbucker                                                                                       |683.506  |\n|Guitarra Electrica Squier By Fender Stratocaster Bullet Lrl                                                                                    |521.039  |\n|Guitarra Electrica Squier By Fender Telecaster Bullet Lrl                                                                                      |453.077  |\n|Pack Guitarra Squier Telecaster Bullet Bk Ampli Accesorios                                                                                     |696.516  |\n|Guitarra eléctrica Squier by Fender Mini Jazzmaster HH mini jazzmaster de álamo surf green brillante con diapasón de arce                      |86.839   |\n|Guitarra Eléctrica Telecaster Squier Affinity Roja                                                                                             |544.998  |\n|Guitarra Eléctrica Squier - Telecaster Bullet Black Laca                                                                                       |597.498  |\n|Guitarra Eléctrica Telecaster Squier Bullet Sunburst                                                                                           |549.698  |\n|Guitarra Electrica Squier Contemporary Stratocaster Jumbo                                                                                      |1.001.315|\n|Guitarra eléctrica infantil Squier by Fender Mini stratocaster de álamo pink brillante con diapasón de laurel                                  |635.064  |\n|Guitarra Eléctrica Fender Squier Bullet Stratocaster *yulmar                                                                                   |599.000  |\n|Combo Guitarra Squier Bullet Telecaster Negra + Amplificador                                                                                   |605.666  |\n|Guitarra eléctrica Squier by Fender Telecaster de álamo race red brillante con diapasón de laurel indio                                        |626.747  |\n|Guitarra Squier Affinity Tele Deluxe Burgundy Mist                                                                                             |829.264  |\n|Guitarra eléctrica Squier by Fender Telecaster de álamo 2-color sunburst laca poliuretánica con diapasón de arce                               |547.408  |\n|Guitarra Eléctrica Affinity Series Stratocaster Mn Wpg                                                                                         |618.565  |\n|Guitarra Electrica Stratocaster Fender Squier Bullet Strat Color Red Fiesta Material Del Diapasón Palisandro Orientación De La Mano Diestro    |569.999  |\n|Guitarra Fender Paranormal Toronado Black                                                                                                      |1.337.175|\n|Guitarra Fender American Performer Stratocaster Placid Blue                                                                                    |5.175.147|\n|Guitarra eléctrica para zurdo Cort G Series G250 de tilo black con diapasón de jatoba                                                          |754.125  |\n|Guitarra eléctrica Squier by Fender Contemporary Telecaster HH de álamo dark metallic red brillante con diapasón de arce                       |184.825  |\n|Guitarra eléctrica Squier by Fender Telecaster de álamo butterscotch blonde laca poliuretánica con diapasón de arce                            |958.045  |\n|Guitarra Eléctrica FENDER Squier Mini Stratocaster Dakota Red                                                                                  |635.064  |\n|Guitarra Squier Paranormal Toronado Hh Prm                                                                                                     |1.537.751|\n|Guitarra Fender Standard Telecaster                                                                                                            |2.816.824|\n|Fender 0371001532 Guitarra Eléctrica Bullet Stratocaster Color Brown Sunburst Material Del Diapasón Laurel Indio Orientación De La Mano Diestro|569.999  |\n|Guitarra Squier Stratocaster Contempo Hh Mblack 037-0222-565 Color Negro Orientación de la mano Diestro                                        |945.307  |\n|Guitarra eléctrica Squier by Fender Bullet Stratocaster HSS de álamo/tilo brown sunburst poliuretano brillante con diapasón de laurel          |545.000  |\n|Guitarra eléctrica Jay Turser JT-300 double-cutaway de madera maciza metallic red brillante con diapasón de palo de rosa                       |407.071  |\n|Guitarra Eléctrica FENDER Squier Mini Stratocaster Black                                                                                       |597.498  |\n|Guitarra Eléctrica Squier Mini Jazzmaster Verde                                                                                                |477.998  |\n|Guitarra Squier Paranormal Toronado Hh                                                                                                         |1.337.175|\n|Guitarra eléctrica infantil Squier by Fender Mini stratocaster de álamo Shell pink brillante Diapasón de Laurel Indio                          |549.698  |\n|Guitarra eléctrica para zurdo Squier by Fender Mini stratocaster de álamo black brillante con diapasón de laurel indio                         |713.999  |\n|Guitarra Squier Affinity Telecaster Plateada Color Slick Silver Material Del Diapasón Laurel Orientación De La Mano Diestro                    |626.747  |\n|Guitarra eléctrica Squier by Fender Contemporary Telecaster HH de álamo pearl white brillante con diapasón de arce                             |899.997  |\n|Guitarra Squier Stratocaster Squier Tamaño Niño Color Rosa                                                                                     |626.747  |\n|Guitarra eléctrica Epiphone Modern Les Paul Les Paul Modern de arce/caoba faded pelham blue brillante con diapasón de ébano                    |2.199.586|\n|Guitarra Electrica Squier Contemporary Stratocaster Jumbo                                                                                      |833.770  |\n|Guitarra Eléctrica Squier Telecaster Bullet Negra                                                                                              |669.198  |\n|Guitarra Eléctrica FENDER Squier Mini Jazzmaster HH Olympic White brillante de álamo con diapasón de arce                                      |635.064  |\n|Guitarra eléctrica Squier by Fender Telecaster de álamo race green brillante con diapasón de laurel indio                                      |1.028.783|\n|Guitarra Eléctrica Squier By Fender Affinity Telecaster                                                                                        |860.202  |\n|Guitarra Electrica Squier By Fender Jazzmaster Mini Hh Lrl                                                                                     |453.077  |\n|Guitarra Electrica Squier By Fender Jazzmaster Mini Hh Lrl                                                                                     |453.077  |\n|Guitarra Eléctrica Squier Telecaster Affinity Butterscotch                                                                                     |721.099  |\n|Guitarra Eléctrica Squier Stratocaster Candy Red Tamaño Mini                                                                                   |716.998  |\n|Guitarra Eléctrica Squier Telecaster Bullet Negra Laurel                                                                                       |716.998  |\n|Guitarra eléctrica Squier by Fender Telecaster de álamo metallic red laca poliuretánica con diapasón de arce                                   |654.100  |\n|Guitarra Electrica Niño Squier By Fender Stratocaster Mini V                                                                                   |521.038  |\n|Guitarra Electrica Squier By Fender Stratocaster Affinity Se                                                                                   |683.502  |\n|Guitarra Eléctrica Squier Temporary Telecaster Hh Cuo                                                                                          |1.043.105|\n|Guitarra Squier Telecaster Serie Bullet Sunburst Álamo                                                                                         |716.998  |\n|Guitarra Electrica Squier Stratocaster Vintage Modified Surf                                                                                   |1.308.573|\n|Guitarra Eléctrica Squier - Telecaster Bullet                                                                                                  |549.698  |\n|Guitarra eléctrica Squier by Fender Telecaster de álamo butterscotch blonde laca poliuretánica con diapasón de arce                            |869.999  |\n|Guitarra Eléctrica Squier By Fender Mini V2 Stratocaster Cuo                                                                                   |635.064  |\n|Guitarra Electrica Telecaster Fender Squier Bullet Original                                                                                    |949.999  |\n|Guitarra Eléctrica Squier By Fender Telecaster Cuo                                                                                             |635.606  |\n|Guitarra Electrica Squier Stratocaster Vintage Modified Surf                                                                                   |1.137.888|\n|Guitarra Eléctrica Squier By Fender Mini V2 Stratocaster                                                                                       |570.206  |\n|Guitarra Electrica Stratocaster Squier Contemporary Hh                                                                                         |1.500.036|\n|Guitarra Eléctrica Squier Telecaster Affinity Special                                                                                          |1.193.566|\n|Guitarra Electrica Squier By Fender Jazzmaster Mini Hh Lrl P                                                                                   |521.038  |\n|Guitarra eléctrica PRS Guitars SE Standard 24 de caoba translucent blue multicapa con diapasón de palo de rosa                                 |1.988.903|\n|Guitarra Electrica Squier By Fender Stratocaster Affinity Se                                                                                   |683.502  |\n|Squier By Fender Telecaster Affinity Guitarra Eléctrica Dlx                                                                                    |788.681  |\n|Guitarra Squier Paranormal Toronado Hh                                                                                                         |1.203.457|\n|Guitarra eléctrica Squier by Fender Vintage Modified Telecaster Deluxe de tilo olympic white brillante con diapasón de arce                    |1.280.000|\n|Guitarra Electrica Squier By Fender Stratocaster Affinity Se                                                                                   |786.027  |\n|Guitarra Electrica Fender Squier Telecaster Affinity                                                                                           |749.999  |\n|Guitarra Eléctrica Squier Affinity Olympic White                                                                                               |721.099  |\n|Guitarra Eléctrica Squier By Fender Mini V2 Stratocaster                                                                                       |684.788  |\n|Guitarra Squier Telecaster Affinity Butterscotch Maple Neck                                                                                    |829.264  |\n|Guitarra Eléctrica Squier By Fender Telecaster Laurel Indio                                                                                    |685.373  |\n|Squier By Fender Telecaster Affinity Guitarra Eléctrica Dlx                                                                                    |906.984  |\n|Guitarra Eléctrica Mini Squier Infantil Negra Stratocaster                                                                                     |669.198  |\n|Guitarra Eléctrica Squier Affinity Stratocaster Cuot                                                                                           |958.045  |\n|Guitarra Eléctrica Squier Mini Stratocaster                                                                                                    |549.698  |\n|Guitarra Eléctrica Squier Telecaster Affinity Sunburst Maple                                                                                   |721.099  |\n|Guitarra Eléctrica Squier Affinity Telecaster White Cuo                                                                                        |958.045  |\n|Guitarra Squier By Fender Stratocaster Mini V2 Niño Prm                                                                                        |521.039  |\n|Guitarra Squier Stratocaster Affinity Negra Mástil De Maple                                                                                    |829.265  |\n|Guitarra Electrica Stratocaster Squier Contemporary Hh                                                                                         |1.350.032|\n|Guitarra Electrica Squier Sonic Telecaster Negro Brillante                                                                                     |690.263  |\n|Guitarra Electrica Squier By Fender Stratocaster Affinity Se                                                                                   |786.028  |\n|Guitarra Eléctrica Squier Telecaster Affinity Racing Red                                                                                       |626.747  |\n|Guitarra Eléctrica Squier Stratocaster Mini V2 Torino Red                                                                                      |549.698  |\n|Guitarra Eléctrica Squier Mini Stratocaster Laca                                                                                               |597.498  |\n|Guitarra Eléctrica Telecaster Fender Squier Affinity Lrl                                                                                       |785.399  |\n|Squier Vintage Modified Surf Strat Guitar By Fender Palermo                                                                                    |1.094.995|\n|Jay Turser Jt-lt-rw Guitarra Telecaster Harris  No Squier Sx                                                                                   |613.641  |\n|Guitarra Eléctrica Squier - Telecaster Bullet Sunburst                                                                                         |477.998  |\n|Guitarra Fender 037 0222 Squier Contemporary Strato 525                                                                                        |287.506  |\n|Guitarra Eléctrica Squier Mini Stratocaster Candy Red Niños                                                                                    |669.198  |\n|Guitarra Eléctrica Infantil Squier Mini Stratocaster Brillo                                                                                    |597.498  |\n|Guitarra Eléctrica Squier By Fender Bullet Stratocaster Cuo                                                                                    |566.035  |\n|Guitarra Eléctrica Squier Affinity Stratocaster Cuo                                                                                            |958.045  |\n|Guitarra Eléctrica EpiPhone Sg Custom Negra Color Negro Material del diapasón Ébano Orientación de la mano Diestro                             |1.972.735|\n|Guitarra Eléctrica Telecaster Fender Squier Affinity Lrl                                                                                       |869.549  |\n|Guitarra Eléctrica Squier Tele Affinity Butterscotch                                                                                           |829.264  |\n|Guitarra Eléctrica Squier Contemporary Telecaster                                                                                              |1.034.997|\n|Guitarra Squier Affinity Telecaster Deluxe Burgundy Mist                                                                                       |721.099  |\n|Guitarra eléctrica G&L Tribute Legacy de fresno/tilo surf green brillante con diapasón de jatoba                                               |2.525.750|\n|Guitarra Electrica Squier By Fender Telecaster Bullet Lrl                                                                                      |453.077  |\n|Guitarra Eléctrica Squier Stratocaster Contemporary Hh Negra                                                                                   |945.307  |\n|Guitarra Electrica Stratocaster Squier Contemporary Hh Prm                                                                                     |1.552.537|\n|Guitarra Eléctrica Squier Telecaster Affinity Sunburst                                                                                         |829.264  |\n|Guitarra Electrica Telecaster Ampli Fender Funda Afinador                                                                                      |1.234.999|\n|Guitarra Eléctrica Squier By Fender Affinity Stratocaster Cu                                                                                   |958.045  |\n|Guitarra Eléctrica Squier By Fender Telecaster Laurel Indio                                                                                    |570.693  |\n|Guitarra Electrica Telecaster Ampli Fender Funda Afinador                                                                                      |807.499  |\n|Guitarra Eléctrica Squier Contemporary Telecaster Negra Hh                                                                                     |899.997  |\n|Guitarra Electrica Squier By Fender Telecaster Bullet Lrl Pr                                                                                   |521.039  |\n|Guitarra Eléctrica Squier By Fender Affinity Stratocaster Bk                                                                                   |860.202  |\n|Guitarra Squier Affinity Telecaster Sunburst Mango De Maple                                                                                    |829.264  |\n|Guitarra Eléctrica Squier - Telecaster Bullet Black                                                                                            |477.998  |\n|Guitarra Electrica Niño Squier By Fender Stratocaster Mini V                                                                                   |453.077  |\n|Guitarra Squier Stratocaster Affinity Sunburst Laca                                                                                            |901.375  |\n|Guitarra Eléctrica Squier - Telecaster Bullet Laca                                                                                             |597.498  |\n|Guitarra Electrica Squier Telecaster Contemporary Hh Mn Prm                                                                                    |1.108.955|\n|Guitarra Electrica Squier Telecaster Contemporary Hh Mn                                                                                        |964.308  |\n|Guitarra Squier Stratocaster Affinity Sunburst Laurel Sss                                                                                      |829.265  |\n|Guitarra Electrica  Stratocaster Fender  Squier Affinity Hh                                                                                    |683.502  |\n|Guitarra eléctrica Fender Player Telecaster HH de aliso 3-color sunburst brillante con diapasón de granadillo brasileño                        |2.270.982|\n|Guitarra Eléctrica Squier By Fender Bullet Stratocaster                                                                                        |508.227  |\n|Guitarra Eléctrica Squier Contemporary Stratocaster Cuo                                                                                        |928.607  |\n|Guitarra Squier Mini Stratocaster Rosa Diapasón Laurel                                                                                         |716.998  |\n|Guitarra Eléctrica Infantil Squier Mini Jazzmaster Blanca                                                                                      |477.998  |\n|Guitarra Eléctrica Squier Stratocaster Mini Para Niños Negra                                                                                   |549.698  |\n|Guitarra Eléctrica Squier Affinity Olympic Blanca                                                                                              |829.264  |\n|Guitarra Eléctrica Squier Contemporary Telecaster Hh Laca                                                                                      |1.124.997|\n|Guitarra Eléctrica Squier Stratocaster Affinity Negra Maple                                                                                    |829.265  |\n|Guitarra Squier Stratocaster Affinity Eléctrica Sunburst                                                                                       |721.100  |\n|Guitarra Eléctrica Telecaster Fender Squier Affinity Lrl                                                                                       |560.999  |\n|Guitarra eléctrica Fender Player Stratocaster de aliso 2010 sonic red brillante con diapasón de granadillo brasileño                           |4.145.373|\n|Guitarra Eléctrica Mini Squier Para Niño Strato                                                                                                |549.698  |\n|Guitarra Electrica Squier By Fender Contemporary Telecaster                                                                                    |1.124.778|\n|Guitarra Eléctrica Squier Affinity Stratocaster 037-8051-569                                                                                   |1.033.058|\n|Guitarra Eléctrica Mini Squier Para Niño Strato Laca                                                                                           |597.498  |\n|Guitarra Eléctrica Squier Affinity Stratocaster 037-8051-569                                                                                   |860.202  |\n|Guitarra Electrica Fender Squier Stratocaster Affinity                                                                                         |1.399.349|\n|Guitarra Eléctrica Squier By Fender Affinity Telecaster Whit                                                                                   |860.202  |\n|Guitarra Electrica Squier By Fender Stratocaster Bullet Lrl                                                                                    |453.077  |\n|Guitarra Electrica Squier By Fender Stratocaster Bullet Lrl                                                                                    |521.038  |\n|Guitarra Squier By Fender Stratocaster Mini V2 Niño                                                                                            |453.077  |\n|Guitarra Electrica Fender Squier Stratocaster Affinity                                                                                         |998.970  |\n|Guitarra Electrica Fender Squier Telecaster Affinity                                                                                           |1.044.999|\n|Guitarra Eléctrica Squier Jazzmaster Mini Hh Pickguard Cuo                                                                                     |635.064  |\n|Guitarra Squier Affinity Stratocaster Humbuckers                                                                                               |721.100  |\n|Guitarra Eléctrica Squier Mini Jazzmaster Laca                                                                                                 |597.498  |\n|Guitarra Electrica Fender Squier Stratocaster Affinity                                                                                         |1.082.951|\n|Guitarra Eléctrica Squier Mini Stratocaster Roja                                                                                               |477.998  |\n|Guitarra Eléctrica Squier Contemporary Telecaster Roja                                                                                         |899.997  |\n|Guitarra Electrica Fender Squier Stratocaster Affinity                                                                                         |1.517.855|\n|Guitarra Eléctrica Infantil Squier Mini Stratocaster                                                                                           |549.698  |\n|Guitarra Electrica Fender Squier Telecaster Affinity                                                                                           |1.329.999|\n|Squier Affinity Stratocaster Hh Charcoal Frost Metallic                                                                                        |829.265  |\n|Guitarra Eléctrica Squier Affinity Telecaster Deluxe Borgoña                                                                                   |829.264  |\n|Guitarra Electrica Fender Squier Telecaster Affinity                                                                                           |1.443.359|\n|Guitarra Electrica Squier Stratocaster Vintage Modified Surf                                                                                   |1.264.321|\n|Guitarra Eléctrica Mini Squier Para Niño Negra Strato                                                                                          |477.998  |\n|Guitarra Eléctrica Squier By Fender Affinity Telecaster Cuo                                                                                    |958.045  |\n|Guitarra Stratocaster Squier Affinity Special Sunburst Cuota                                                                                   |1.193.566|\n|Guitarra Electrica Telecaster Fender Squier Bullet Original                                                                                    |620.927  |\n|Guitarra Eléctrica Squier Fender Mini Stratocaster Cuo                                                                                         |635.064  |\n|Pack Guitarra Squier Telecaster Bullet Sunburst Amplificador                                                                                   |696.516  |\n|Guitarra Electrica Stratocaster Fender Squier Bullet Strat                                                                                     |866.015  |\n|Guitarra Squier Telecaster Thinline Classic Vibe Outlet Prm                                                                                    |1.872.902|\n|Combo Guitarra Squier Tele Bullet Sunburst Amplificador                                                                                        |605.666  |\n|Guitarra Electrica Squier Affinity Telcaster Musicapilar                                                                                       |983.545  |\n|Guitarra Squier Stratocaster Affinity Negra Mástil Maple                                                                                       |721.100  |\n|Guitarra Eléctrica Squier Mini Jazzmaster                                                                                                      |549.698  |\n|Guitarra Electrica Squier By Fender Jazzmaster Mini Hh Lrl P                                                                                   |521.039  |\n|Guitarra Electrica Fender Squier Affinity Stratocaster Negra                                                                                   |721.100  |\n|Guitarra Squier Telecaster Affinity Mástil Maple Outlet                                                                                        |361.609  |\n|Guitarra Squier Telecaster Thinline Classic Vibe Outlet                                                                                        |1.140.028|\n|Guitarra Eléctrica Infantil Squier Mini Jazzmaster Laca                                                                                        |597.498  |\n|Guitarra eléctrica para zurdo Cort G Series G250 de tilo black con diapasón de jatoba                                                          |754.125  |\n|Guitarra Squier Telecaster Thinline Classic Vibe Outlet                                                                                        |1.628.611|\n|Guitarra Squier Telecaster Thinline Classic Vibe Outlet Prm                                                                                    |1.447.835|\n|Guitarra Eléctrica Infantil Squier Mini Jazzmaster                                                                                             |549.698  |\n|Guitarra Electrica Squier Mini V2 Lr Roja Musicapilar                                                                                          |348.720  |\n|Guitarra Electrica Squier Telecaster Affinitty Musicapilar                                                                                     |970.815  |\n|Guitarra eléctrica Squier by Fender Bullet Stratocaster HSS de álamo/tilo black poliuretano brillante con diapasón de laurel                   |669.116  |\n|Guitarra Eléctrica Squier Affinity Telecaster Plateada                                                                                         |544.998  |\n|Guitarra Electrica Squier Affinity Telecaster                                                                                                  |729.980  |\n|Guitarra Electrica Squier 030-2100-505 Jazzmaster Vintage                                                                                      |1.739.080|\n|Guitarra Eléctrica Fender Squier Sonic H Telecaster Blanco                                                                                     |748.999  |\n|Squier By Fender Telecaster Affinity Guitarra Eléctrica Prm                                                                                    |601.724  |\n|Classic Vibe Bass Vi Squier Color Negro Material Del Diapasón Indian Laurel Orientación De La Mano Diestro                                     |3.249.159|\n|Guitarra eléctrica Squier by Fender Classic Vibe Stratocaster '60s de nato candy apple red brillante con diapasón de laurel indio              |1.659.000|\n|Guitarra eléctrica Squier by Fender Classic Vibe '70s Stratocaster de arce natural brillante con diapasón de laurel indio                      |1.652.000|\n|Guitarra eléctrica Squier by Fender Classic Vibe '50s Telecaster de pino butterscotch blonde brillante con diapasón de arce                    |1.666.000|\n|Guitarra Eléctrica Squier Mini Stratocaster Rosa                                                                                               |669.198  |\n|Guitarra Squier Paranormal Toronado Hh Prm                                                                                                     |1.537.751|\n|Guitarra Eléctrica Squier - Telecaster Bullet                                                                                                  |549.698  |\n|Guitarra Squier Telecaster Thinline Classic Vibe Outlet                                                                                        |1.628.611|\n|Guitarra Squier Telecaster Thinline Classic Vibe Outlet Prm                                                                                    |1.872.902|\n|Guitarra eléctrica Schecter Banshee Extreme Banshee-6 Extreme de caoba black cherry burst con diapasón de palo de rosa                         |1.283.457|\n+-----------------------------------------------------------------------------------------------------------------------------------------------+---------+\n\n"
     ]
    }
   ],
   "source": [
    "# observo la cantidad y el data frame por arriba \n",
    "squier_count = df_squier.count()\n",
    "print(squier_count)\n",
    "df_squier.show(squier_count,False)"
   ]
  },
  {
   "cell_type": "code",
   "execution_count": 0,
   "metadata": {
    "application/vnd.databricks.v1+cell": {
     "cellMetadata": {
      "byteLimit": 2048000,
      "rowLimit": 10000
     },
     "inputWidgets": {},
     "nuid": "24700138-1c5e-4c50-a30f-cad8c09c4e3a",
     "showTitle": false,
     "tableResultSettingsMap": {},
     "title": ""
    }
   },
   "outputs": [],
   "source": [
    "# declaro las listas con las palabras clave\n",
    "guitar_type = [\"eléctrica\",\"electrica\"]\n",
    "\n",
    "brand = [\"squier\"]\n",
    "\n",
    "squier_model = [\n",
    "    \"telecaster\", \"stratocaster\", \"jazzmaster\", \"jaguar hh\"\n",
    "]\n",
    "\n",
    "squier_series = [\n",
    "    \"affinity\", \"bullet\", \"classic vibe\", \"contemporary\", \"contemporary jaguar hh\"\n",
    "]\n",
    "\n",
    "# creo las UDF\n",
    "extract_type_udf = extract_from_list_udf_creator(guitar_type)\n",
    "extract_brand_udf = extract_from_list_udf_creator(brand)\n",
    "extract_model_udf = extract_from_list_udf_creator(squier_model)\n",
    "extract_series_udf = extract_from_list_udf_creator(squier_series)\n",
    "\n",
    "# hago las transformaciones\n",
    "df_squier = df_squier.withColumn(\"title_lower\", lower(col(\"title\"))) \\\n",
    "    .withColumn(\"type\", extract_type_udf(col(\"title_lower\"))) \\\n",
    "    .withColumn(\"brand\", extract_brand_udf(col(\"title_lower\"))) \\\n",
    "    .withColumn(\"model\", extract_model_udf(col(\"title_lower\"))) \\\n",
    "    .withColumn(\"series\", extract_series_udf(col(\"title_lower\"))) "
   ]
  },
  {
   "cell_type": "markdown",
   "metadata": {
    "application/vnd.databricks.v1+cell": {
     "cellMetadata": {
      "byteLimit": 2048000,
      "rowLimit": 10000
     },
     "inputWidgets": {},
     "nuid": "f1cc69f8-c844-48a5-b438-df34cebee18b",
     "showTitle": false,
     "tableResultSettingsMap": {},
     "title": ""
    }
   },
   "source": [
    "### Observo los valores nulos"
   ]
  },
  {
   "cell_type": "code",
   "execution_count": 0,
   "metadata": {
    "application/vnd.databricks.v1+cell": {
     "cellMetadata": {
      "byteLimit": 2048000,
      "rowLimit": 10000
     },
     "inputWidgets": {},
     "nuid": "a063ab47-f160-46e4-ae1a-d6e47d616121",
     "showTitle": false,
     "tableResultSettingsMap": {},
     "title": ""
    }
   },
   "outputs": [
    {
     "output_type": "stream",
     "name": "stdout",
     "output_type": "stream",
     "text": [
      "+-----------------------------------------------------------------------------------------------------------------------------------------------+------+---------+------------+------------+\n|title_lower                                                                                                                                    |brand |type     |series      |model       |\n+-----------------------------------------------------------------------------------------------------------------------------------------------+------+---------+------------+------------+\n|guitarra eléctrica fender squier bullet telecaster black mástil laurel indio                                                                   |squier|eléctrica|bullet      |telecaster  |\n|guitarra eléctrica squier by fender bullet stratocaster ht de álamo black brillante con diapasón de laurel indio                               |squier|eléctrica|bullet      |stratocaster|\n|guitarra eléctrica squier by fender bullet stratocaster ht de álamo brown sunburst brillante con diapasón de laurel indio                      |squier|eléctrica|bullet      |stratocaster|\n|guitarra eléctrica squier by fender affinity series stratocaster hh de álamo charcoal frost metallic brillante diapasón de laurel indio        |squier|eléctrica|affinity    |stratocaster|\n|guitarra eléctrica squier by fender bullet telecaster de álamo brown sunburst poliuretano brillante                                            |squier|eléctrica|bullet      |telecaster  |\n|guitarra eléctrica squier by fender contemporary telecaster hh de álamo black metallic brillante con diapasón de arce                          |squier|eléctrica|contemporary|telecaster  |\n|guitarra eléctrica squier by fender affinity series stratocaster de álamo black brillante                                                      |squier|eléctrica|affinity    |stratocaster|\n|guitarra eléctrica squier by fender affinity series stratocaster de álamo 2-color sunburst brillante con diapasón de arce                      |squier|eléctrica|affinity    |stratocaster|\n|guitarra eléctrica sx vintage series fst62 stratocaster de aliso black brillante con diapasón de palo de rosa                                  |null  |eléctrica|null        |stratocaster|\n|guitarra eléctrica squier sonic negra brillante telecaster orientación de la mano diestro                                                      |squier|eléctrica|null        |telecaster  |\n|guitarra eléctrica fender squier bullet stratocaster ht de álamo fiesta red brillante mastil laurel indio                                      |squier|eléctrica|bullet      |stratocaster|\n|guitarra eléctrica squier by fender affinity series telecaster deluxe de álamo burgundy mist brillante con diapasón de laurel indio            |squier|eléctrica|affinity    |telecaster  |\n|guitarra electrica squier affinity telecaster olympic white orientación de la mano diestro color blanco                                        |squier|electrica|affinity    |telecaster  |\n|guitarra eléctrica leonard le362 stratocaster de aliso black con diapasón de palo de rosa                                                      |null  |eléctrica|null        |stratocaster|\n|guitarra eléctrica squier by fender affinity series stratocaster de álamo 3-color sunburst brillante con diapasón de laurel indio              |squier|eléctrica|affinity    |stratocaster|\n|guitarra eléctrica squier by fender affinity series stratocaster de álamo black brillante con diapasón de laurel indio                         |squier|eléctrica|affinity    |stratocaster|\n|guitarra eléctrica squier by fender affinity series stratocaster de álamo brown sunburst brillante con diapasón de laurel indio                |squier|eléctrica|affinity    |stratocaster|\n|guitarra eléctrica squier by fender telecaster de álamo slick silver laca poliuretánica con diapasón de laurel                                 |squier|eléctrica|null        |telecaster  |\n|guitarra eléctrica sx vintage series stl50+ de tilo butterscotch blonde brillante con diapasón de arce                                         |null  |eléctrica|null        |null        |\n|squier by fender telecaster affinity guitarra eléctrica                                                                                        |squier|eléctrica|affinity    |telecaster  |\n|guitarra squier bullet stratocaster hardtail la plata color negro orientación de la mano diestro                                               |squier|null     |bullet      |stratocaster|\n|squier affinity stratocaster hh guitarra doble humbucker                                                                                       |squier|null     |affinity    |stratocaster|\n|guitarra electrica squier by fender stratocaster bullet lrl                                                                                    |squier|electrica|bullet      |stratocaster|\n|guitarra electrica squier by fender telecaster bullet lrl                                                                                      |squier|electrica|bullet      |telecaster  |\n|pack guitarra squier telecaster bullet bk ampli accesorios                                                                                     |squier|null     |bullet      |telecaster  |\n|guitarra eléctrica squier by fender mini jazzmaster hh mini jazzmaster de álamo surf green brillante con diapasón de arce                      |squier|eléctrica|null        |jazzmaster  |\n|guitarra eléctrica telecaster squier affinity roja                                                                                             |squier|eléctrica|affinity    |telecaster  |\n|guitarra eléctrica squier - telecaster bullet black laca                                                                                       |squier|eléctrica|bullet      |telecaster  |\n|guitarra eléctrica telecaster squier bullet sunburst                                                                                           |squier|eléctrica|bullet      |telecaster  |\n|guitarra electrica squier contemporary stratocaster jumbo                                                                                      |squier|electrica|contemporary|stratocaster|\n|guitarra eléctrica infantil squier by fender mini stratocaster de álamo pink brillante con diapasón de laurel                                  |squier|eléctrica|null        |stratocaster|\n|guitarra eléctrica fender squier bullet stratocaster *yulmar                                                                                   |squier|eléctrica|bullet      |stratocaster|\n|combo guitarra squier bullet telecaster negra + amplificador                                                                                   |squier|null     |bullet      |telecaster  |\n|guitarra eléctrica squier by fender telecaster de álamo race red brillante con diapasón de laurel indio                                        |squier|eléctrica|null        |telecaster  |\n|guitarra squier affinity tele deluxe burgundy mist                                                                                             |squier|null     |affinity    |null        |\n|guitarra eléctrica squier by fender telecaster de álamo 2-color sunburst laca poliuretánica con diapasón de arce                               |squier|eléctrica|null        |telecaster  |\n|guitarra eléctrica affinity series stratocaster mn wpg                                                                                         |null  |eléctrica|affinity    |stratocaster|\n|guitarra electrica stratocaster fender squier bullet strat color red fiesta material del diapasón palisandro orientación de la mano diestro    |squier|electrica|bullet      |stratocaster|\n|guitarra fender paranormal toronado black                                                                                                      |null  |null     |null        |null        |\n|guitarra fender american performer stratocaster placid blue                                                                                    |null  |null     |null        |stratocaster|\n|guitarra eléctrica para zurdo cort g series g250 de tilo black con diapasón de jatoba                                                          |null  |eléctrica|null        |null        |\n|guitarra eléctrica squier by fender contemporary telecaster hh de álamo dark metallic red brillante con diapasón de arce                       |squier|eléctrica|contemporary|telecaster  |\n|guitarra eléctrica squier by fender telecaster de álamo butterscotch blonde laca poliuretánica con diapasón de arce                            |squier|eléctrica|null        |telecaster  |\n|guitarra eléctrica fender squier mini stratocaster dakota red                                                                                  |squier|eléctrica|null        |stratocaster|\n|guitarra squier paranormal toronado hh prm                                                                                                     |squier|null     |null        |null        |\n|guitarra fender standard telecaster                                                                                                            |null  |null     |null        |telecaster  |\n|fender 0371001532 guitarra eléctrica bullet stratocaster color brown sunburst material del diapasón laurel indio orientación de la mano diestro|null  |eléctrica|bullet      |stratocaster|\n|guitarra squier stratocaster contempo hh mblack 037-0222-565 color negro orientación de la mano diestro                                        |squier|null     |null        |stratocaster|\n|guitarra eléctrica squier by fender bullet stratocaster hss de álamo/tilo brown sunburst poliuretano brillante con diapasón de laurel          |squier|eléctrica|bullet      |stratocaster|\n|guitarra eléctrica jay turser jt-300 double-cutaway de madera maciza metallic red brillante con diapasón de palo de rosa                       |null  |eléctrica|null        |null        |\n|guitarra eléctrica fender squier mini stratocaster black                                                                                       |squier|eléctrica|null        |stratocaster|\n|guitarra eléctrica squier mini jazzmaster verde                                                                                                |squier|eléctrica|null        |jazzmaster  |\n|guitarra squier paranormal toronado hh                                                                                                         |squier|null     |null        |null        |\n|guitarra eléctrica infantil squier by fender mini stratocaster de álamo shell pink brillante diapasón de laurel indio                          |squier|eléctrica|null        |stratocaster|\n|guitarra eléctrica para zurdo squier by fender mini stratocaster de álamo black brillante con diapasón de laurel indio                         |squier|eléctrica|null        |stratocaster|\n|guitarra squier affinity telecaster plateada color slick silver material del diapasón laurel orientación de la mano diestro                    |squier|null     |affinity    |telecaster  |\n|guitarra eléctrica squier by fender contemporary telecaster hh de álamo pearl white brillante con diapasón de arce                             |squier|eléctrica|contemporary|telecaster  |\n|guitarra squier stratocaster squier tamaño niño color rosa                                                                                     |squier|null     |null        |stratocaster|\n|guitarra eléctrica epiphone modern les paul les paul modern de arce/caoba faded pelham blue brillante con diapasón de ébano                    |null  |eléctrica|null        |null        |\n|guitarra electrica squier contemporary stratocaster jumbo                                                                                      |squier|electrica|contemporary|stratocaster|\n|guitarra eléctrica squier telecaster bullet negra                                                                                              |squier|eléctrica|bullet      |telecaster  |\n|guitarra eléctrica fender squier mini jazzmaster hh olympic white brillante de álamo con diapasón de arce                                      |squier|eléctrica|null        |jazzmaster  |\n|guitarra eléctrica squier by fender telecaster de álamo race green brillante con diapasón de laurel indio                                      |squier|eléctrica|null        |telecaster  |\n|guitarra eléctrica squier by fender affinity telecaster                                                                                        |squier|eléctrica|affinity    |telecaster  |\n|guitarra electrica squier by fender jazzmaster mini hh lrl                                                                                     |squier|electrica|null        |jazzmaster  |\n|guitarra electrica squier by fender jazzmaster mini hh lrl                                                                                     |squier|electrica|null        |jazzmaster  |\n|guitarra eléctrica squier telecaster affinity butterscotch                                                                                     |squier|eléctrica|affinity    |telecaster  |\n|guitarra eléctrica squier stratocaster candy red tamaño mini                                                                                   |squier|eléctrica|null        |stratocaster|\n|guitarra eléctrica squier telecaster bullet negra laurel                                                                                       |squier|eléctrica|bullet      |telecaster  |\n|guitarra eléctrica squier by fender telecaster de álamo metallic red laca poliuretánica con diapasón de arce                                   |squier|eléctrica|null        |telecaster  |\n|guitarra electrica niño squier by fender stratocaster mini v                                                                                   |squier|electrica|null        |stratocaster|\n|guitarra electrica squier by fender stratocaster affinity se                                                                                   |squier|electrica|affinity    |stratocaster|\n|guitarra eléctrica squier temporary telecaster hh cuo                                                                                          |squier|eléctrica|null        |telecaster  |\n|guitarra squier telecaster serie bullet sunburst álamo                                                                                         |squier|null     |bullet      |telecaster  |\n|guitarra electrica squier stratocaster vintage modified surf                                                                                   |squier|electrica|null        |stratocaster|\n|guitarra eléctrica squier - telecaster bullet                                                                                                  |squier|eléctrica|bullet      |telecaster  |\n|guitarra eléctrica squier by fender telecaster de álamo butterscotch blonde laca poliuretánica con diapasón de arce                            |squier|eléctrica|null        |telecaster  |\n|guitarra eléctrica squier by fender mini v2 stratocaster cuo                                                                                   |squier|eléctrica|null        |stratocaster|\n|guitarra electrica telecaster fender squier bullet original                                                                                    |squier|electrica|bullet      |telecaster  |\n|guitarra eléctrica squier by fender telecaster cuo                                                                                             |squier|eléctrica|null        |telecaster  |\n|guitarra electrica squier stratocaster vintage modified surf                                                                                   |squier|electrica|null        |stratocaster|\n|guitarra eléctrica squier by fender mini v2 stratocaster                                                                                       |squier|eléctrica|null        |stratocaster|\n|guitarra electrica stratocaster squier contemporary hh                                                                                         |squier|electrica|contemporary|stratocaster|\n|guitarra eléctrica squier telecaster affinity special                                                                                          |squier|eléctrica|affinity    |telecaster  |\n|guitarra electrica squier by fender jazzmaster mini hh lrl p                                                                                   |squier|electrica|null        |jazzmaster  |\n|guitarra eléctrica prs guitars se standard 24 de caoba translucent blue multicapa con diapasón de palo de rosa                                 |null  |eléctrica|null        |null        |\n|guitarra electrica squier by fender stratocaster affinity se                                                                                   |squier|electrica|affinity    |stratocaster|\n|squier by fender telecaster affinity guitarra eléctrica dlx                                                                                    |squier|eléctrica|affinity    |telecaster  |\n|guitarra squier paranormal toronado hh                                                                                                         |squier|null     |null        |null        |\n|guitarra eléctrica squier by fender vintage modified telecaster deluxe de tilo olympic white brillante con diapasón de arce                    |squier|eléctrica|null        |telecaster  |\n|guitarra electrica squier by fender stratocaster affinity se                                                                                   |squier|electrica|affinity    |stratocaster|\n|guitarra electrica fender squier telecaster affinity                                                                                           |squier|electrica|affinity    |telecaster  |\n|guitarra eléctrica squier affinity olympic white                                                                                               |squier|eléctrica|affinity    |null        |\n|guitarra eléctrica squier by fender mini v2 stratocaster                                                                                       |squier|eléctrica|null        |stratocaster|\n|guitarra squier telecaster affinity butterscotch maple neck                                                                                    |squier|null     |affinity    |telecaster  |\n|guitarra eléctrica squier by fender telecaster laurel indio                                                                                    |squier|eléctrica|null        |telecaster  |\n|squier by fender telecaster affinity guitarra eléctrica dlx                                                                                    |squier|eléctrica|affinity    |telecaster  |\n|guitarra eléctrica mini squier infantil negra stratocaster                                                                                     |squier|eléctrica|null        |stratocaster|\n|guitarra eléctrica squier affinity stratocaster cuot                                                                                           |squier|eléctrica|affinity    |stratocaster|\n|guitarra eléctrica squier mini stratocaster                                                                                                    |squier|eléctrica|null        |stratocaster|\n|guitarra eléctrica squier telecaster affinity sunburst maple                                                                                   |squier|eléctrica|affinity    |telecaster  |\n|guitarra eléctrica squier affinity telecaster white cuo                                                                                        |squier|eléctrica|affinity    |telecaster  |\n|guitarra squier by fender stratocaster mini v2 niño prm                                                                                        |squier|null     |null        |stratocaster|\n|guitarra squier stratocaster affinity negra mástil de maple                                                                                    |squier|null     |affinity    |stratocaster|\n|guitarra electrica stratocaster squier contemporary hh                                                                                         |squier|electrica|contemporary|stratocaster|\n|guitarra electrica squier sonic telecaster negro brillante                                                                                     |squier|electrica|null        |telecaster  |\n|guitarra electrica squier by fender stratocaster affinity se                                                                                   |squier|electrica|affinity    |stratocaster|\n|guitarra eléctrica squier telecaster affinity racing red                                                                                       |squier|eléctrica|affinity    |telecaster  |\n|guitarra eléctrica squier stratocaster mini v2 torino red                                                                                      |squier|eléctrica|null        |stratocaster|\n|guitarra eléctrica squier mini stratocaster laca                                                                                               |squier|eléctrica|null        |stratocaster|\n|guitarra eléctrica telecaster fender squier affinity lrl                                                                                       |squier|eléctrica|affinity    |telecaster  |\n|squier vintage modified surf strat guitar by fender palermo                                                                                    |squier|null     |null        |null        |\n|jay turser jt-lt-rw guitarra telecaster harris  no squier sx                                                                                   |squier|null     |null        |telecaster  |\n|guitarra eléctrica squier - telecaster bullet sunburst                                                                                         |squier|eléctrica|bullet      |telecaster  |\n|guitarra fender 037 0222 squier contemporary strato 525                                                                                        |squier|null     |contemporary|null        |\n|guitarra eléctrica squier mini stratocaster candy red niños                                                                                    |squier|eléctrica|null        |stratocaster|\n|guitarra eléctrica infantil squier mini stratocaster brillo                                                                                    |squier|eléctrica|null        |stratocaster|\n|guitarra eléctrica squier by fender bullet stratocaster cuo                                                                                    |squier|eléctrica|bullet      |stratocaster|\n|guitarra eléctrica squier affinity stratocaster cuo                                                                                            |squier|eléctrica|affinity    |stratocaster|\n|guitarra eléctrica epiphone sg custom negra color negro material del diapasón ébano orientación de la mano diestro                             |null  |eléctrica|null        |null        |\n|guitarra eléctrica telecaster fender squier affinity lrl                                                                                       |squier|eléctrica|affinity    |telecaster  |\n|guitarra eléctrica squier tele affinity butterscotch                                                                                           |squier|eléctrica|affinity    |null        |\n|guitarra eléctrica squier contemporary telecaster                                                                                              |squier|eléctrica|contemporary|telecaster  |\n|guitarra squier affinity telecaster deluxe burgundy mist                                                                                       |squier|null     |affinity    |telecaster  |\n|guitarra eléctrica g&l tribute legacy de fresno/tilo surf green brillante con diapasón de jatoba                                               |null  |eléctrica|null        |null        |\n|guitarra electrica squier by fender telecaster bullet lrl                                                                                      |squier|electrica|bullet      |telecaster  |\n|guitarra eléctrica squier stratocaster contemporary hh negra                                                                                   |squier|eléctrica|contemporary|stratocaster|\n|guitarra electrica stratocaster squier contemporary hh prm                                                                                     |squier|electrica|contemporary|stratocaster|\n|guitarra eléctrica squier telecaster affinity sunburst                                                                                         |squier|eléctrica|affinity    |telecaster  |\n|guitarra electrica telecaster ampli fender funda afinador                                                                                      |null  |electrica|null        |telecaster  |\n|guitarra eléctrica squier by fender affinity stratocaster cu                                                                                   |squier|eléctrica|affinity    |stratocaster|\n|guitarra eléctrica squier by fender telecaster laurel indio                                                                                    |squier|eléctrica|null        |telecaster  |\n|guitarra electrica telecaster ampli fender funda afinador                                                                                      |null  |electrica|null        |telecaster  |\n|guitarra eléctrica squier contemporary telecaster negra hh                                                                                     |squier|eléctrica|contemporary|telecaster  |\n|guitarra electrica squier by fender telecaster bullet lrl pr                                                                                   |squier|electrica|bullet      |telecaster  |\n|guitarra eléctrica squier by fender affinity stratocaster bk                                                                                   |squier|eléctrica|affinity    |stratocaster|\n|guitarra squier affinity telecaster sunburst mango de maple                                                                                    |squier|null     |affinity    |telecaster  |\n|guitarra eléctrica squier - telecaster bullet black                                                                                            |squier|eléctrica|bullet      |telecaster  |\n|guitarra electrica niño squier by fender stratocaster mini v                                                                                   |squier|electrica|null        |stratocaster|\n|guitarra squier stratocaster affinity sunburst laca                                                                                            |squier|null     |affinity    |stratocaster|\n|guitarra eléctrica squier - telecaster bullet laca                                                                                             |squier|eléctrica|bullet      |telecaster  |\n|guitarra electrica squier telecaster contemporary hh mn prm                                                                                    |squier|electrica|contemporary|telecaster  |\n|guitarra electrica squier telecaster contemporary hh mn                                                                                        |squier|electrica|contemporary|telecaster  |\n|guitarra squier stratocaster affinity sunburst laurel sss                                                                                      |squier|null     |affinity    |stratocaster|\n|guitarra electrica  stratocaster fender  squier affinity hh                                                                                    |squier|electrica|affinity    |stratocaster|\n|guitarra eléctrica fender player telecaster hh de aliso 3-color sunburst brillante con diapasón de granadillo brasileño                        |null  |eléctrica|null        |telecaster  |\n|guitarra eléctrica squier by fender bullet stratocaster                                                                                        |squier|eléctrica|bullet      |stratocaster|\n|guitarra eléctrica squier contemporary stratocaster cuo                                                                                        |squier|eléctrica|contemporary|stratocaster|\n|guitarra squier mini stratocaster rosa diapasón laurel                                                                                         |squier|null     |null        |stratocaster|\n|guitarra eléctrica infantil squier mini jazzmaster blanca                                                                                      |squier|eléctrica|null        |jazzmaster  |\n|guitarra eléctrica squier stratocaster mini para niños negra                                                                                   |squier|eléctrica|null        |stratocaster|\n|guitarra eléctrica squier affinity olympic blanca                                                                                              |squier|eléctrica|affinity    |null        |\n|guitarra eléctrica squier contemporary telecaster hh laca                                                                                      |squier|eléctrica|contemporary|telecaster  |\n|guitarra eléctrica squier stratocaster affinity negra maple                                                                                    |squier|eléctrica|affinity    |stratocaster|\n|guitarra squier stratocaster affinity eléctrica sunburst                                                                                       |squier|eléctrica|affinity    |stratocaster|\n|guitarra eléctrica telecaster fender squier affinity lrl                                                                                       |squier|eléctrica|affinity    |telecaster  |\n|guitarra eléctrica fender player stratocaster de aliso 2010 sonic red brillante con diapasón de granadillo brasileño                           |null  |eléctrica|null        |stratocaster|\n|guitarra eléctrica mini squier para niño strato                                                                                                |squier|eléctrica|null        |null        |\n|guitarra electrica squier by fender contemporary telecaster                                                                                    |squier|electrica|contemporary|telecaster  |\n|guitarra eléctrica squier affinity stratocaster 037-8051-569                                                                                   |squier|eléctrica|affinity    |stratocaster|\n|guitarra eléctrica mini squier para niño strato laca                                                                                           |squier|eléctrica|null        |null        |\n|guitarra eléctrica squier affinity stratocaster 037-8051-569                                                                                   |squier|eléctrica|affinity    |stratocaster|\n|guitarra electrica fender squier stratocaster affinity                                                                                         |squier|electrica|affinity    |stratocaster|\n|guitarra eléctrica squier by fender affinity telecaster whit                                                                                   |squier|eléctrica|affinity    |telecaster  |\n|guitarra electrica squier by fender stratocaster bullet lrl                                                                                    |squier|electrica|bullet      |stratocaster|\n|guitarra electrica squier by fender stratocaster bullet lrl                                                                                    |squier|electrica|bullet      |stratocaster|\n|guitarra squier by fender stratocaster mini v2 niño                                                                                            |squier|null     |null        |stratocaster|\n|guitarra electrica fender squier stratocaster affinity                                                                                         |squier|electrica|affinity    |stratocaster|\n|guitarra electrica fender squier telecaster affinity                                                                                           |squier|electrica|affinity    |telecaster  |\n|guitarra eléctrica squier jazzmaster mini hh pickguard cuo                                                                                     |squier|eléctrica|null        |jazzmaster  |\n|guitarra squier affinity stratocaster humbuckers                                                                                               |squier|null     |affinity    |stratocaster|\n|guitarra eléctrica squier mini jazzmaster laca                                                                                                 |squier|eléctrica|null        |jazzmaster  |\n|guitarra electrica fender squier stratocaster affinity                                                                                         |squier|electrica|affinity    |stratocaster|\n|guitarra eléctrica squier mini stratocaster roja                                                                                               |squier|eléctrica|null        |stratocaster|\n|guitarra eléctrica squier contemporary telecaster roja                                                                                         |squier|eléctrica|contemporary|telecaster  |\n|guitarra electrica fender squier stratocaster affinity                                                                                         |squier|electrica|affinity    |stratocaster|\n|guitarra eléctrica infantil squier mini stratocaster                                                                                           |squier|eléctrica|null        |stratocaster|\n|guitarra electrica fender squier telecaster affinity                                                                                           |squier|electrica|affinity    |telecaster  |\n|squier affinity stratocaster hh charcoal frost metallic                                                                                        |squier|null     |affinity    |stratocaster|\n|guitarra eléctrica squier affinity telecaster deluxe borgoña                                                                                   |squier|eléctrica|affinity    |telecaster  |\n|guitarra electrica fender squier telecaster affinity                                                                                           |squier|electrica|affinity    |telecaster  |\n|guitarra electrica squier stratocaster vintage modified surf                                                                                   |squier|electrica|null        |stratocaster|\n|guitarra eléctrica mini squier para niño negra strato                                                                                          |squier|eléctrica|null        |null        |\n|guitarra eléctrica squier by fender affinity telecaster cuo                                                                                    |squier|eléctrica|affinity    |telecaster  |\n|guitarra stratocaster squier affinity special sunburst cuota                                                                                   |squier|null     |affinity    |stratocaster|\n|guitarra electrica telecaster fender squier bullet original                                                                                    |squier|electrica|bullet      |telecaster  |\n|guitarra eléctrica squier fender mini stratocaster cuo                                                                                         |squier|eléctrica|null        |stratocaster|\n|pack guitarra squier telecaster bullet sunburst amplificador                                                                                   |squier|null     |bullet      |telecaster  |\n|guitarra electrica stratocaster fender squier bullet strat                                                                                     |squier|electrica|bullet      |stratocaster|\n|guitarra squier telecaster thinline classic vibe outlet prm                                                                                    |squier|null     |classic vibe|telecaster  |\n|combo guitarra squier tele bullet sunburst amplificador                                                                                        |squier|null     |bullet      |null        |\n|guitarra electrica squier affinity telcaster musicapilar                                                                                       |squier|electrica|affinity    |null        |\n|guitarra squier stratocaster affinity negra mástil maple                                                                                       |squier|null     |affinity    |stratocaster|\n|guitarra eléctrica squier mini jazzmaster                                                                                                      |squier|eléctrica|null        |jazzmaster  |\n|guitarra electrica squier by fender jazzmaster mini hh lrl p                                                                                   |squier|electrica|null        |jazzmaster  |\n|guitarra electrica fender squier affinity stratocaster negra                                                                                   |squier|electrica|affinity    |stratocaster|\n|guitarra squier telecaster affinity mástil maple outlet                                                                                        |squier|null     |affinity    |telecaster  |\n|guitarra squier telecaster thinline classic vibe outlet                                                                                        |squier|null     |classic vibe|telecaster  |\n|guitarra eléctrica infantil squier mini jazzmaster laca                                                                                        |squier|eléctrica|null        |jazzmaster  |\n|guitarra eléctrica para zurdo cort g series g250 de tilo black con diapasón de jatoba                                                          |null  |eléctrica|null        |null        |\n|guitarra squier telecaster thinline classic vibe outlet                                                                                        |squier|null     |classic vibe|telecaster  |\n|guitarra squier telecaster thinline classic vibe outlet prm                                                                                    |squier|null     |classic vibe|telecaster  |\n|guitarra eléctrica infantil squier mini jazzmaster                                                                                             |squier|eléctrica|null        |jazzmaster  |\n|guitarra electrica squier mini v2 lr roja musicapilar                                                                                          |squier|electrica|null        |null        |\n|guitarra electrica squier telecaster affinitty musicapilar                                                                                     |squier|electrica|null        |telecaster  |\n|guitarra eléctrica squier by fender bullet stratocaster hss de álamo/tilo black poliuretano brillante con diapasón de laurel                   |squier|eléctrica|bullet      |stratocaster|\n|guitarra eléctrica squier affinity telecaster plateada                                                                                         |squier|eléctrica|affinity    |telecaster  |\n|guitarra electrica squier affinity telecaster                                                                                                  |squier|electrica|affinity    |telecaster  |\n|guitarra electrica squier 030-2100-505 jazzmaster vintage                                                                                      |squier|electrica|null        |jazzmaster  |\n|guitarra eléctrica fender squier sonic h telecaster blanco                                                                                     |squier|eléctrica|null        |telecaster  |\n|squier by fender telecaster affinity guitarra eléctrica prm                                                                                    |squier|eléctrica|affinity    |telecaster  |\n|classic vibe bass vi squier color negro material del diapasón indian laurel orientación de la mano diestro                                     |squier|null     |classic vibe|null        |\n|guitarra eléctrica squier by fender classic vibe stratocaster '60s de nato candy apple red brillante con diapasón de laurel indio              |squier|eléctrica|classic vibe|stratocaster|\n|guitarra eléctrica squier by fender classic vibe '70s stratocaster de arce natural brillante con diapasón de laurel indio                      |squier|eléctrica|classic vibe|stratocaster|\n|guitarra eléctrica squier by fender classic vibe '50s telecaster de pino butterscotch blonde brillante con diapasón de arce                    |squier|eléctrica|classic vibe|telecaster  |\n|guitarra eléctrica squier mini stratocaster rosa                                                                                               |squier|eléctrica|null        |stratocaster|\n|guitarra squier paranormal toronado hh prm                                                                                                     |squier|null     |null        |null        |\n|guitarra eléctrica squier - telecaster bullet                                                                                                  |squier|eléctrica|bullet      |telecaster  |\n|guitarra squier telecaster thinline classic vibe outlet                                                                                        |squier|null     |classic vibe|telecaster  |\n|guitarra squier telecaster thinline classic vibe outlet prm                                                                                    |squier|null     |classic vibe|telecaster  |\n|guitarra eléctrica schecter banshee extreme banshee-6 extreme de caoba black cherry burst con diapasón de palo de rosa                         |null  |eléctrica|null        |null        |\n+-----------------------------------------------------------------------------------------------------------------------------------------------+------+---------+------------+------------+\n\n"
     ]
    }
   ],
   "source": [
    "df_squier.select('title_lower','brand','type','series','model').show(300,False)"
   ]
  },
  {
   "cell_type": "code",
   "execution_count": 0,
   "metadata": {
    "application/vnd.databricks.v1+cell": {
     "cellMetadata": {
      "byteLimit": 2048000,
      "rowLimit": 10000
     },
     "inputWidgets": {},
     "nuid": "f1e74ed1-9023-47cc-9175-43f054086e25",
     "showTitle": false,
     "tableResultSettingsMap": {},
     "title": ""
    }
   },
   "outputs": [
    {
     "output_type": "stream",
     "name": "stdout",
     "output_type": "stream",
     "text": [
      "null brand: 20\nnull types: 42\nnull series: 88\nnull models: 27\nresultados sin nulos en type o series: 105\nde 221 resultados\n"
     ]
    }
   ],
   "source": [
    "nulos_brand = df_squier.filter(col(\"brand\").isNull()).count()\n",
    "\n",
    "nulos_tipo = df_squier.filter(col(\"type\").isNull()).count()\n",
    "\n",
    "nulos_serie = df_squier.filter(col(\"series\").isNull()).count()\n",
    "\n",
    "nulos_modelo = df_squier.filter(col(\"model\").isNull()).count()\n",
    "\n",
    "print(f\"null brand: {nulos_brand}\")\n",
    "print(f\"null types: {nulos_tipo}\")\n",
    "print(f\"null series: {nulos_serie}\")\n",
    "print(f\"null models: {nulos_modelo}\")\n",
    "print(f\"resultados sin nulos en type o series: {df_squier.filter(col('type').isNotNull() & col('series').isNotNull()).count()}\")\n",
    "print(f\"de {df_squier.count()} resultados\")"
   ]
  },
  {
   "cell_type": "markdown",
   "metadata": {
    "application/vnd.databricks.v1+cell": {
     "cellMetadata": {
      "byteLimit": 2048000,
      "rowLimit": 10000
     },
     "inputWidgets": {},
     "nuid": "bf062e2c-a850-4ae6-bec7-ce9ff1442717",
     "showTitle": false,
     "tableResultSettingsMap": {},
     "title": ""
    }
   },
   "source": [
    "### Problema 1: Demasiados valore nulos en 'series' y 'types'"
   ]
  },
  {
   "cell_type": "code",
   "execution_count": 0,
   "metadata": {
    "application/vnd.databricks.v1+cell": {
     "cellMetadata": {
      "byteLimit": 2048000,
      "rowLimit": 10000
     },
     "inputWidgets": {},
     "nuid": "5eda3d52-a55e-49c3-b31e-90740fa443c4",
     "showTitle": false,
     "tableResultSettingsMap": {},
     "title": ""
    }
   },
   "outputs": [
    {
     "output_type": "stream",
     "name": "stdout",
     "output_type": "stream",
     "text": [
      "+---------------------------------------------------------------------------------------------------------------------------+----+------+------------+\n|title_lower                                                                                                                |type|brand |series      |\n+---------------------------------------------------------------------------------------------------------------------------+----+------+------------+\n|guitarra squier bullet stratocaster hardtail la plata color negro orientación de la mano diestro                           |null|squier|bullet      |\n|squier affinity stratocaster hh guitarra doble humbucker                                                                   |null|squier|affinity    |\n|pack guitarra squier telecaster bullet bk ampli accesorios                                                                 |null|squier|bullet      |\n|combo guitarra squier bullet telecaster negra + amplificador                                                               |null|squier|bullet      |\n|guitarra squier affinity tele deluxe burgundy mist                                                                         |null|squier|affinity    |\n|guitarra squier affinity telecaster plateada color slick silver material del diapasón laurel orientación de la mano diestro|null|squier|affinity    |\n|guitarra squier telecaster serie bullet sunburst álamo                                                                     |null|squier|bullet      |\n|guitarra squier telecaster affinity butterscotch maple neck                                                                |null|squier|affinity    |\n|guitarra squier stratocaster affinity negra mástil de maple                                                                |null|squier|affinity    |\n|guitarra fender 037 0222 squier contemporary strato 525                                                                    |null|squier|contemporary|\n|guitarra squier affinity telecaster deluxe burgundy mist                                                                   |null|squier|affinity    |\n|guitarra squier affinity telecaster sunburst mango de maple                                                                |null|squier|affinity    |\n|guitarra squier stratocaster affinity sunburst laca                                                                        |null|squier|affinity    |\n|guitarra squier stratocaster affinity sunburst laurel sss                                                                  |null|squier|affinity    |\n|guitarra squier affinity stratocaster humbuckers                                                                           |null|squier|affinity    |\n|squier affinity stratocaster hh charcoal frost metallic                                                                    |null|squier|affinity    |\n|guitarra stratocaster squier affinity special sunburst cuota                                                               |null|squier|affinity    |\n|pack guitarra squier telecaster bullet sunburst amplificador                                                               |null|squier|bullet      |\n|guitarra squier telecaster thinline classic vibe outlet prm                                                                |null|squier|classic vibe|\n|combo guitarra squier tele bullet sunburst amplificador                                                                    |null|squier|bullet      |\n|guitarra squier stratocaster affinity negra mástil maple                                                                   |null|squier|affinity    |\n|guitarra squier telecaster affinity mástil maple outlet                                                                    |null|squier|affinity    |\n|guitarra squier telecaster thinline classic vibe outlet                                                                    |null|squier|classic vibe|\n|guitarra squier telecaster thinline classic vibe outlet                                                                    |null|squier|classic vibe|\n|guitarra squier telecaster thinline classic vibe outlet prm                                                                |null|squier|classic vibe|\n|classic vibe bass vi squier color negro material del diapasón indian laurel orientación de la mano diestro                 |null|squier|classic vibe|\n|guitarra squier telecaster thinline classic vibe outlet                                                                    |null|squier|classic vibe|\n|guitarra squier telecaster thinline classic vibe outlet prm                                                                |null|squier|classic vibe|\n+---------------------------------------------------------------------------------------------------------------------------+----+------+------------+\n\n"
     ]
    }
   ],
   "source": [
    "# los casos donde la serie no es null pero si el type podemos resolverlos ya que sabemos que van a ser guitarras eléctricas\n",
    "# veamos si encontramos casos asi\n",
    "\n",
    "df_squier.filter(col('type').isNull() & col('series').isNotNull()).select('title_lower','type','brand','series').show(300,False)"
   ]
  },
  {
   "cell_type": "code",
   "execution_count": 0,
   "metadata": {
    "application/vnd.databricks.v1+cell": {
     "cellMetadata": {
      "byteLimit": 2048000,
      "rowLimit": 10000
     },
     "inputWidgets": {},
     "nuid": "fc70475f-6b12-4317-8b84-a4b008ad1a69",
     "showTitle": false,
     "tableResultSettingsMap": {},
     "title": ""
    }
   },
   "outputs": [],
   "source": [
    "df_squier = df_squier.withColumn(\n",
    "    'type',\n",
    "    when(col('series').isNotNull() & col('type').isNull(),'electric').otherwise(col('type'))\n",
    ")"
   ]
  },
  {
   "cell_type": "code",
   "execution_count": 0,
   "metadata": {
    "application/vnd.databricks.v1+cell": {
     "cellMetadata": {
      "byteLimit": 2048000,
      "rowLimit": 10000
     },
     "inputWidgets": {},
     "nuid": "fcea5e3a-6cc0-45d2-b5a5-1eaa7c3bfeb9",
     "showTitle": false,
     "tableResultSettingsMap": {},
     "title": ""
    }
   },
   "outputs": [
    {
     "output_type": "stream",
     "name": "stdout",
     "output_type": "stream",
     "text": [
      "null types: 14\nresultados sin nulos en type o series: 133\nde 221 resultados\n"
     ]
    }
   ],
   "source": [
    "# vemos la diferencia\n",
    "nulos_tipo = df_squier.filter(col(\"type\").isNull()).count()\n",
    "print(f\"null types: {nulos_tipo}\")\n",
    "print(f\"resultados sin nulos en type o series: {df_squier.filter(col('type').isNotNull() & col('series').isNotNull()).count()}\")\n",
    "print(f\"de {df_squier.count()} resultados\")"
   ]
  },
  {
   "cell_type": "code",
   "execution_count": 0,
   "metadata": {
    "application/vnd.databricks.v1+cell": {
     "cellMetadata": {
      "byteLimit": 2048000,
      "rowLimit": 10000
     },
     "inputWidgets": {},
     "nuid": "5b008c4e-65ae-4c66-830b-bd7a008d3824",
     "showTitle": false,
     "tableResultSettingsMap": {},
     "title": ""
    }
   },
   "outputs": [
    {
     "output_type": "stream",
     "name": "stdout",
     "output_type": "stream",
     "text": [
      "+--------------------+---------+--------------------+---------+------+------------+------------+\n|               title|    price|         title_lower|     type| brand|       model|      series|\n+--------------------+---------+--------------------+---------+------+------------+------------+\n|Guitarra Eléctric...|  521.039|guitarra eléctric...|eléctrica|squier|  telecaster|      bullet|\n|Guitarra eléctric...|  453.077|guitarra eléctric...|eléctrica|squier|stratocaster|      bullet|\n|Guitarra eléctric...|  453.077|guitarra eléctric...|eléctrica|squier|stratocaster|      bullet|\n|Guitarra eléctric...|  786.028|guitarra eléctric...|eléctrica|squier|stratocaster|    affinity|\n|Guitarra eléctric...|  521.039|guitarra eléctric...|eléctrica|squier|  telecaster|      bullet|\n|Guitarra eléctric...|  184.825|guitarra eléctric...|eléctrica|squier|  telecaster|contemporary|\n|Guitarra eléctric...|  786.028|guitarra eléctric...|eléctrica|squier|stratocaster|    affinity|\n|Guitarra eléctric...|  786.028|guitarra eléctric...|eléctrica|squier|stratocaster|    affinity|\n|Guitarra eléctric...|  393.730|guitarra eléctric...|eléctrica|  null|stratocaster|        null|\n|Guitarra Eléctric...|  472.783|guitarra eléctric...|eléctrica|squier|  telecaster|        null|\n|Guitarra Eléctric...|  453.639|guitarra eléctric...|eléctrica|squier|stratocaster|      bullet|\n|Guitarra eléctric...|  829.264|guitarra eléctric...|eléctrica|squier|  telecaster|    affinity|\n|Guitarra Electric...|  598.357|guitarra electric...|electrica|squier|  telecaster|    affinity|\n|Guitarra eléctric...|  255.873|guitarra eléctric...|eléctrica|  null|stratocaster|        null|\n|Guitarra eléctric...|  683.506|guitarra eléctric...|eléctrica|squier|stratocaster|    affinity|\n|Guitarra eléctric...|  598.357|guitarra eléctric...|eléctrica|squier|stratocaster|    affinity|\n|Guitarra eléctric...|  683.502|guitarra eléctric...|eléctrica|squier|stratocaster|    affinity|\n|Guitarra eléctric...|  523.230|guitarra eléctric...|eléctrica|squier|  telecaster|        null|\n|Guitarra eléctric...|  514.035|guitarra eléctric...|eléctrica|  null|        null|        null|\n|Squier By Fender ...|  523.238|squier by fender ...|eléctrica|squier|  telecaster|    affinity|\n|Guitarra Squier B...|  521.039|guitarra squier b...| electric|squier|stratocaster|      bullet|\n|Squier Affinity S...|  683.506|squier affinity s...| electric|squier|stratocaster|    affinity|\n|Guitarra Electric...|  521.039|guitarra electric...|electrica|squier|stratocaster|      bullet|\n|Guitarra Electric...|  453.077|guitarra electric...|electrica|squier|  telecaster|      bullet|\n|Pack Guitarra Squ...|  696.516|pack guitarra squ...| electric|squier|  telecaster|      bullet|\n|Guitarra eléctric...|   86.839|guitarra eléctric...|eléctrica|squier|  jazzmaster|        null|\n|Guitarra Eléctric...|  544.998|guitarra eléctric...|eléctrica|squier|  telecaster|    affinity|\n|Guitarra Eléctric...|  597.498|guitarra eléctric...|eléctrica|squier|  telecaster|      bullet|\n|Guitarra Eléctric...|  549.698|guitarra eléctric...|eléctrica|squier|  telecaster|      bullet|\n|Guitarra Electric...|1.001.315|guitarra electric...|electrica|squier|stratocaster|contemporary|\n|Guitarra eléctric...|  635.064|guitarra eléctric...|eléctrica|squier|stratocaster|        null|\n|Guitarra Eléctric...|  599.000|guitarra eléctric...|eléctrica|squier|stratocaster|      bullet|\n|Combo Guitarra Sq...|  605.666|combo guitarra sq...| electric|squier|  telecaster|      bullet|\n|Guitarra eléctric...|  626.747|guitarra eléctric...|eléctrica|squier|  telecaster|        null|\n|Guitarra Squier A...|  829.264|guitarra squier a...| electric|squier|        null|    affinity|\n|Guitarra eléctric...|  547.408|guitarra eléctric...|eléctrica|squier|  telecaster|        null|\n|Guitarra Eléctric...|  618.565|guitarra eléctric...|eléctrica|  null|stratocaster|    affinity|\n|Guitarra Electric...|  569.999|guitarra electric...|electrica|squier|stratocaster|      bullet|\n|Guitarra Fender P...|1.337.175|guitarra fender p...|     null|  null|        null|        null|\n|Guitarra Fender A...|5.175.147|guitarra fender a...|     null|  null|stratocaster|        null|\n|Guitarra eléctric...|  754.125|guitarra eléctric...|eléctrica|  null|        null|        null|\n|Guitarra eléctric...|  184.825|guitarra eléctric...|eléctrica|squier|  telecaster|contemporary|\n|Guitarra eléctric...|  958.045|guitarra eléctric...|eléctrica|squier|  telecaster|        null|\n|Guitarra Eléctric...|  635.064|guitarra eléctric...|eléctrica|squier|stratocaster|        null|\n|Guitarra Squier P...|1.537.751|guitarra squier p...|     null|squier|        null|        null|\n|Guitarra Fender S...|2.816.824|guitarra fender s...|     null|  null|  telecaster|        null|\n|Fender 0371001532...|  569.999|fender 0371001532...|eléctrica|  null|stratocaster|      bullet|\n|Guitarra Squier S...|  945.307|guitarra squier s...|     null|squier|stratocaster|        null|\n|Guitarra eléctric...|  545.000|guitarra eléctric...|eléctrica|squier|stratocaster|      bullet|\n|Guitarra eléctric...|  407.071|guitarra eléctric...|eléctrica|  null|        null|        null|\n|Guitarra Eléctric...|  597.498|guitarra eléctric...|eléctrica|squier|stratocaster|        null|\n|Guitarra Eléctric...|  477.998|guitarra eléctric...|eléctrica|squier|  jazzmaster|        null|\n|Guitarra Squier P...|1.337.175|guitarra squier p...|     null|squier|        null|        null|\n|Guitarra eléctric...|  549.698|guitarra eléctric...|eléctrica|squier|stratocaster|        null|\n|Guitarra eléctric...|  713.999|guitarra eléctric...|eléctrica|squier|stratocaster|        null|\n|Guitarra Squier A...|  626.747|guitarra squier a...| electric|squier|  telecaster|    affinity|\n|Guitarra eléctric...|  899.997|guitarra eléctric...|eléctrica|squier|  telecaster|contemporary|\n|Guitarra Squier S...|  626.747|guitarra squier s...|     null|squier|stratocaster|        null|\n|Guitarra eléctric...|2.199.586|guitarra eléctric...|eléctrica|  null|        null|        null|\n|Guitarra Electric...|  833.770|guitarra electric...|electrica|squier|stratocaster|contemporary|\n|Guitarra Eléctric...|  669.198|guitarra eléctric...|eléctrica|squier|  telecaster|      bullet|\n|Guitarra Eléctric...|  635.064|guitarra eléctric...|eléctrica|squier|  jazzmaster|        null|\n|Guitarra eléctric...|1.028.783|guitarra eléctric...|eléctrica|squier|  telecaster|        null|\n|Guitarra Eléctric...|  860.202|guitarra eléctric...|eléctrica|squier|  telecaster|    affinity|\n|Guitarra Electric...|  453.077|guitarra electric...|electrica|squier|  jazzmaster|        null|\n|Guitarra Electric...|  453.077|guitarra electric...|electrica|squier|  jazzmaster|        null|\n|Guitarra Eléctric...|  721.099|guitarra eléctric...|eléctrica|squier|  telecaster|    affinity|\n|Guitarra Eléctric...|  716.998|guitarra eléctric...|eléctrica|squier|stratocaster|        null|\n|Guitarra Eléctric...|  716.998|guitarra eléctric...|eléctrica|squier|  telecaster|      bullet|\n|Guitarra eléctric...|  654.100|guitarra eléctric...|eléctrica|squier|  telecaster|        null|\n|Guitarra Electric...|  521.038|guitarra electric...|electrica|squier|stratocaster|        null|\n|Guitarra Electric...|  683.502|guitarra electric...|electrica|squier|stratocaster|    affinity|\n|Guitarra Eléctric...|1.043.105|guitarra eléctric...|eléctrica|squier|  telecaster|        null|\n|Guitarra Squier T...|  716.998|guitarra squier t...| electric|squier|  telecaster|      bullet|\n|Guitarra Electric...|1.308.573|guitarra electric...|electrica|squier|stratocaster|        null|\n|Guitarra Eléctric...|  549.698|guitarra eléctric...|eléctrica|squier|  telecaster|      bullet|\n|Guitarra eléctric...|  869.999|guitarra eléctric...|eléctrica|squier|  telecaster|        null|\n|Guitarra Eléctric...|  635.064|guitarra eléctric...|eléctrica|squier|stratocaster|        null|\n|Guitarra Electric...|  949.999|guitarra electric...|electrica|squier|  telecaster|      bullet|\n|Guitarra Eléctric...|  635.606|guitarra eléctric...|eléctrica|squier|  telecaster|        null|\n|Guitarra Electric...|1.137.888|guitarra electric...|electrica|squier|stratocaster|        null|\n|Guitarra Eléctric...|  570.206|guitarra eléctric...|eléctrica|squier|stratocaster|        null|\n|Guitarra Electric...|1.500.036|guitarra electric...|electrica|squier|stratocaster|contemporary|\n|Guitarra Eléctric...|1.193.566|guitarra eléctric...|eléctrica|squier|  telecaster|    affinity|\n|Guitarra Electric...|  521.038|guitarra electric...|electrica|squier|  jazzmaster|        null|\n|Guitarra eléctric...|1.988.903|guitarra eléctric...|eléctrica|  null|        null|        null|\n|Guitarra Electric...|  683.502|guitarra electric...|electrica|squier|stratocaster|    affinity|\n|Squier By Fender ...|  788.681|squier by fender ...|eléctrica|squier|  telecaster|    affinity|\n|Guitarra Squier P...|1.203.457|guitarra squier p...|     null|squier|        null|        null|\n|Guitarra eléctric...|1.280.000|guitarra eléctric...|eléctrica|squier|  telecaster|        null|\n|Guitarra Electric...|  786.027|guitarra electric...|electrica|squier|stratocaster|    affinity|\n|Guitarra Electric...|  749.999|guitarra electric...|electrica|squier|  telecaster|    affinity|\n|Guitarra Eléctric...|  721.099|guitarra eléctric...|eléctrica|squier|        null|    affinity|\n|Guitarra Eléctric...|  684.788|guitarra eléctric...|eléctrica|squier|stratocaster|        null|\n|Guitarra Squier T...|  829.264|guitarra squier t...| electric|squier|  telecaster|    affinity|\n|Guitarra Eléctric...|  685.373|guitarra eléctric...|eléctrica|squier|  telecaster|        null|\n|Squier By Fender ...|  906.984|squier by fender ...|eléctrica|squier|  telecaster|    affinity|\n|Guitarra Eléctric...|  669.198|guitarra eléctric...|eléctrica|squier|stratocaster|        null|\n|Guitarra Eléctric...|  958.045|guitarra eléctric...|eléctrica|squier|stratocaster|    affinity|\n|Guitarra Eléctric...|  549.698|guitarra eléctric...|eléctrica|squier|stratocaster|        null|\n|Guitarra Eléctric...|  721.099|guitarra eléctric...|eléctrica|squier|  telecaster|    affinity|\n|Guitarra Eléctric...|  958.045|guitarra eléctric...|eléctrica|squier|  telecaster|    affinity|\n|Guitarra Squier B...|  521.039|guitarra squier b...|     null|squier|stratocaster|        null|\n|Guitarra Squier S...|  829.265|guitarra squier s...| electric|squier|stratocaster|    affinity|\n|Guitarra Electric...|1.350.032|guitarra electric...|electrica|squier|stratocaster|contemporary|\n|Guitarra Electric...|  690.263|guitarra electric...|electrica|squier|  telecaster|        null|\n|Guitarra Electric...|  786.028|guitarra electric...|electrica|squier|stratocaster|    affinity|\n|Guitarra Eléctric...|  626.747|guitarra eléctric...|eléctrica|squier|  telecaster|    affinity|\n|Guitarra Eléctric...|  549.698|guitarra eléctric...|eléctrica|squier|stratocaster|        null|\n|Guitarra Eléctric...|  597.498|guitarra eléctric...|eléctrica|squier|stratocaster|        null|\n|Guitarra Eléctric...|  785.399|guitarra eléctric...|eléctrica|squier|  telecaster|    affinity|\n|Squier Vintage Mo...|1.094.995|squier vintage mo...|     null|squier|        null|        null|\n|Jay Turser Jt-lt-...|  613.641|jay turser jt-lt-...|     null|squier|  telecaster|        null|\n|Guitarra Eléctric...|  477.998|guitarra eléctric...|eléctrica|squier|  telecaster|      bullet|\n|Guitarra Fender 0...|  287.506|guitarra fender 0...| electric|squier|        null|contemporary|\n|Guitarra Eléctric...|  669.198|guitarra eléctric...|eléctrica|squier|stratocaster|        null|\n|Guitarra Eléctric...|  597.498|guitarra eléctric...|eléctrica|squier|stratocaster|        null|\n|Guitarra Eléctric...|  566.035|guitarra eléctric...|eléctrica|squier|stratocaster|      bullet|\n|Guitarra Eléctric...|  958.045|guitarra eléctric...|eléctrica|squier|stratocaster|    affinity|\n|Guitarra Eléctric...|1.972.735|guitarra eléctric...|eléctrica|  null|        null|        null|\n|Guitarra Eléctric...|  869.549|guitarra eléctric...|eléctrica|squier|  telecaster|    affinity|\n|Guitarra Eléctric...|  829.264|guitarra eléctric...|eléctrica|squier|        null|    affinity|\n|Guitarra Eléctric...|1.034.997|guitarra eléctric...|eléctrica|squier|  telecaster|contemporary|\n|Guitarra Squier A...|  721.099|guitarra squier a...| electric|squier|  telecaster|    affinity|\n|Guitarra eléctric...|2.525.750|guitarra eléctric...|eléctrica|  null|        null|        null|\n|Guitarra Electric...|  453.077|guitarra electric...|electrica|squier|  telecaster|      bullet|\n|Guitarra Eléctric...|  945.307|guitarra eléctric...|eléctrica|squier|stratocaster|contemporary|\n|Guitarra Electric...|1.552.537|guitarra electric...|electrica|squier|stratocaster|contemporary|\n|Guitarra Eléctric...|  829.264|guitarra eléctric...|eléctrica|squier|  telecaster|    affinity|\n|Guitarra Electric...|1.234.999|guitarra electric...|electrica|  null|  telecaster|        null|\n|Guitarra Eléctric...|  958.045|guitarra eléctric...|eléctrica|squier|stratocaster|    affinity|\n|Guitarra Eléctric...|  570.693|guitarra eléctric...|eléctrica|squier|  telecaster|        null|\n|Guitarra Electric...|  807.499|guitarra electric...|electrica|  null|  telecaster|        null|\n|Guitarra Eléctric...|  899.997|guitarra eléctric...|eléctrica|squier|  telecaster|contemporary|\n|Guitarra Electric...|  521.039|guitarra electric...|electrica|squier|  telecaster|      bullet|\n|Guitarra Eléctric...|  860.202|guitarra eléctric...|eléctrica|squier|stratocaster|    affinity|\n|Guitarra Squier A...|  829.264|guitarra squier a...| electric|squier|  telecaster|    affinity|\n|Guitarra Eléctric...|  477.998|guitarra eléctric...|eléctrica|squier|  telecaster|      bullet|\n|Guitarra Electric...|  453.077|guitarra electric...|electrica|squier|stratocaster|        null|\n|Guitarra Squier S...|  901.375|guitarra squier s...| electric|squier|stratocaster|    affinity|\n|Guitarra Eléctric...|  597.498|guitarra eléctric...|eléctrica|squier|  telecaster|      bullet|\n|Guitarra Electric...|1.108.955|guitarra electric...|electrica|squier|  telecaster|contemporary|\n|Guitarra Electric...|  964.308|guitarra electric...|electrica|squier|  telecaster|contemporary|\n|Guitarra Squier S...|  829.265|guitarra squier s...| electric|squier|stratocaster|    affinity|\n|Guitarra Electric...|  683.502|guitarra electric...|electrica|squier|stratocaster|    affinity|\n|Guitarra eléctric...|2.270.982|guitarra eléctric...|eléctrica|  null|  telecaster|        null|\n|Guitarra Eléctric...|  508.227|guitarra eléctric...|eléctrica|squier|stratocaster|      bullet|\n|Guitarra Eléctric...|  928.607|guitarra eléctric...|eléctrica|squier|stratocaster|contemporary|\n|Guitarra Squier M...|  716.998|guitarra squier m...|     null|squier|stratocaster|        null|\n|Guitarra Eléctric...|  477.998|guitarra eléctric...|eléctrica|squier|  jazzmaster|        null|\n|Guitarra Eléctric...|  549.698|guitarra eléctric...|eléctrica|squier|stratocaster|        null|\n|Guitarra Eléctric...|  829.264|guitarra eléctric...|eléctrica|squier|        null|    affinity|\n|Guitarra Eléctric...|1.124.997|guitarra eléctric...|eléctrica|squier|  telecaster|contemporary|\n|Guitarra Eléctric...|  829.265|guitarra eléctric...|eléctrica|squier|stratocaster|    affinity|\n|Guitarra Squier S...|  721.100|guitarra squier s...|eléctrica|squier|stratocaster|    affinity|\n|Guitarra Eléctric...|  560.999|guitarra eléctric...|eléctrica|squier|  telecaster|    affinity|\n|Guitarra eléctric...|4.145.373|guitarra eléctric...|eléctrica|  null|stratocaster|        null|\n|Guitarra Eléctric...|  549.698|guitarra eléctric...|eléctrica|squier|        null|        null|\n|Guitarra Electric...|1.124.778|guitarra electric...|electrica|squier|  telecaster|contemporary|\n|Guitarra Eléctric...|1.033.058|guitarra eléctric...|eléctrica|squier|stratocaster|    affinity|\n|Guitarra Eléctric...|  597.498|guitarra eléctric...|eléctrica|squier|        null|        null|\n|Guitarra Eléctric...|  860.202|guitarra eléctric...|eléctrica|squier|stratocaster|    affinity|\n|Guitarra Electric...|1.399.349|guitarra electric...|electrica|squier|stratocaster|    affinity|\n|Guitarra Eléctric...|  860.202|guitarra eléctric...|eléctrica|squier|  telecaster|    affinity|\n|Guitarra Electric...|  453.077|guitarra electric...|electrica|squier|stratocaster|      bullet|\n|Guitarra Electric...|  521.038|guitarra electric...|electrica|squier|stratocaster|      bullet|\n|Guitarra Squier B...|  453.077|guitarra squier b...|     null|squier|stratocaster|        null|\n|Guitarra Electric...|  998.970|guitarra electric...|electrica|squier|stratocaster|    affinity|\n|Guitarra Electric...|1.044.999|guitarra electric...|electrica|squier|  telecaster|    affinity|\n|Guitarra Eléctric...|  635.064|guitarra eléctric...|eléctrica|squier|  jazzmaster|        null|\n|Guitarra Squier A...|  721.100|guitarra squier a...| electric|squier|stratocaster|    affinity|\n|Guitarra Eléctric...|  597.498|guitarra eléctric...|eléctrica|squier|  jazzmaster|        null|\n|Guitarra Electric...|1.082.951|guitarra electric...|electrica|squier|stratocaster|    affinity|\n|Guitarra Eléctric...|  477.998|guitarra eléctric...|eléctrica|squier|stratocaster|        null|\n|Guitarra Eléctric...|  899.997|guitarra eléctric...|eléctrica|squier|  telecaster|contemporary|\n|Guitarra Electric...|1.517.855|guitarra electric...|electrica|squier|stratocaster|    affinity|\n|Guitarra Eléctric...|  549.698|guitarra eléctric...|eléctrica|squier|stratocaster|        null|\n|Guitarra Electric...|1.329.999|guitarra electric...|electrica|squier|  telecaster|    affinity|\n|Squier Affinity S...|  829.265|squier affinity s...| electric|squier|stratocaster|    affinity|\n|Guitarra Eléctric...|  829.264|guitarra eléctric...|eléctrica|squier|  telecaster|    affinity|\n|Guitarra Electric...|1.443.359|guitarra electric...|electrica|squier|  telecaster|    affinity|\n|Guitarra Electric...|1.264.321|guitarra electric...|electrica|squier|stratocaster|        null|\n|Guitarra Eléctric...|  477.998|guitarra eléctric...|eléctrica|squier|        null|        null|\n|Guitarra Eléctric...|  958.045|guitarra eléctric...|eléctrica|squier|  telecaster|    affinity|\n|Guitarra Stratoca...|1.193.566|guitarra stratoca...| electric|squier|stratocaster|    affinity|\n|Guitarra Electric...|  620.927|guitarra electric...|electrica|squier|  telecaster|      bullet|\n|Guitarra Eléctric...|  635.064|guitarra eléctric...|eléctrica|squier|stratocaster|        null|\n|Pack Guitarra Squ...|  696.516|pack guitarra squ...| electric|squier|  telecaster|      bullet|\n|Guitarra Electric...|  866.015|guitarra electric...|electrica|squier|stratocaster|      bullet|\n|Guitarra Squier T...|1.872.902|guitarra squier t...| electric|squier|  telecaster|classic vibe|\n|Combo Guitarra Sq...|  605.666|combo guitarra sq...| electric|squier|        null|      bullet|\n|Guitarra Electric...|  983.545|guitarra electric...|electrica|squier|        null|    affinity|\n|Guitarra Squier S...|  721.100|guitarra squier s...| electric|squier|stratocaster|    affinity|\n|Guitarra Eléctric...|  549.698|guitarra eléctric...|eléctrica|squier|  jazzmaster|        null|\n|Guitarra Electric...|  521.039|guitarra electric...|electrica|squier|  jazzmaster|        null|\n|Guitarra Electric...|  721.100|guitarra electric...|electrica|squier|stratocaster|    affinity|\n|Guitarra Squier T...|  361.609|guitarra squier t...| electric|squier|  telecaster|    affinity|\n|Guitarra Squier T...|1.140.028|guitarra squier t...| electric|squier|  telecaster|classic vibe|\n|Guitarra Eléctric...|  597.498|guitarra eléctric...|eléctrica|squier|  jazzmaster|        null|\n|Guitarra eléctric...|  754.125|guitarra eléctric...|eléctrica|  null|        null|        null|\n|Guitarra Squier T...|1.628.611|guitarra squier t...| electric|squier|  telecaster|classic vibe|\n|Guitarra Squier T...|1.447.835|guitarra squier t...| electric|squier|  telecaster|classic vibe|\n|Guitarra Eléctric...|  549.698|guitarra eléctric...|eléctrica|squier|  jazzmaster|        null|\n|Guitarra Electric...|  348.720|guitarra electric...|electrica|squier|        null|        null|\n|Guitarra Electric...|  970.815|guitarra electric...|electrica|squier|  telecaster|        null|\n|Guitarra eléctric...|  669.116|guitarra eléctric...|eléctrica|squier|stratocaster|      bullet|\n|Guitarra Eléctric...|  544.998|guitarra eléctric...|eléctrica|squier|  telecaster|    affinity|\n|Guitarra Electric...|  729.980|guitarra electric...|electrica|squier|  telecaster|    affinity|\n|Guitarra Electric...|1.739.080|guitarra electric...|electrica|squier|  jazzmaster|        null|\n|Guitarra Eléctric...|  748.999|guitarra eléctric...|eléctrica|squier|  telecaster|        null|\n|Squier By Fender ...|  601.724|squier by fender ...|eléctrica|squier|  telecaster|    affinity|\n|Classic Vibe Bass...|3.249.159|classic vibe bass...| electric|squier|        null|classic vibe|\n|Guitarra eléctric...|1.659.000|guitarra eléctric...|eléctrica|squier|stratocaster|classic vibe|\n|Guitarra eléctric...|1.652.000|guitarra eléctric...|eléctrica|squier|stratocaster|classic vibe|\n|Guitarra eléctric...|1.666.000|guitarra eléctric...|eléctrica|squier|  telecaster|classic vibe|\n|Guitarra Eléctric...|  669.198|guitarra eléctric...|eléctrica|squier|stratocaster|        null|\n|Guitarra Squier P...|1.537.751|guitarra squier p...|     null|squier|        null|        null|\n|Guitarra Eléctric...|  549.698|guitarra eléctric...|eléctrica|squier|  telecaster|      bullet|\n|Guitarra Squier T...|1.628.611|guitarra squier t...| electric|squier|  telecaster|classic vibe|\n|Guitarra Squier T...|1.872.902|guitarra squier t...| electric|squier|  telecaster|classic vibe|\n|Guitarra eléctric...|1.283.457|guitarra eléctric...|eléctrica|  null|        null|        null|\n+--------------------+---------+--------------------+---------+------+------------+------------+\n\n"
     ]
    }
   ],
   "source": [
    "df_squier.show(300)"
   ]
  },
  {
   "cell_type": "markdown",
   "metadata": {
    "application/vnd.databricks.v1+cell": {
     "cellMetadata": {
      "byteLimit": 2048000,
      "rowLimit": 10000
     },
     "inputWidgets": {},
     "nuid": "22d8c7d8-03da-4147-a46b-8d5f7bb1187a",
     "showTitle": false,
     "tableResultSettingsMap": {},
     "title": ""
    }
   },
   "source": [
    "### Problemas que solucionamos en el Data Frame de Cort\n",
    "- Mismas formas de referirse al tipo de guitarra\n",
    "- Pasar el tipo de string a float en la columna price"
   ]
  },
  {
   "cell_type": "code",
   "execution_count": 0,
   "metadata": {
    "application/vnd.databricks.v1+cell": {
     "cellMetadata": {
      "byteLimit": 2048000,
      "rowLimit": 10000
     },
     "inputWidgets": {},
     "nuid": "dda6162a-f311-4026-b42a-5934874f7df3",
     "showTitle": false,
     "tableResultSettingsMap": {},
     "title": ""
    }
   },
   "outputs": [
    {
     "output_type": "stream",
     "name": "stdout",
     "output_type": "stream",
     "text": [
      "131\n+--------------------+---------+--------------------+---------+------+------------+------------+\n|               title|    price|         title_lower|     type| brand|       model|      series|\n+--------------------+---------+--------------------+---------+------+------------+------------+\n|Guitarra Eléctric...|  521.039|guitarra eléctric...|eléctrica|squier|  telecaster|      bullet|\n|Guitarra eléctric...|  453.077|guitarra eléctric...|eléctrica|squier|stratocaster|      bullet|\n|Guitarra eléctric...|  453.077|guitarra eléctric...|eléctrica|squier|stratocaster|      bullet|\n|Guitarra eléctric...|  786.028|guitarra eléctric...|eléctrica|squier|stratocaster|    affinity|\n|Guitarra eléctric...|  521.039|guitarra eléctric...|eléctrica|squier|  telecaster|      bullet|\n|Guitarra eléctric...|  184.825|guitarra eléctric...|eléctrica|squier|  telecaster|contemporary|\n|Guitarra eléctric...|  786.028|guitarra eléctric...|eléctrica|squier|stratocaster|    affinity|\n|Guitarra eléctric...|  786.028|guitarra eléctric...|eléctrica|squier|stratocaster|    affinity|\n|Guitarra Eléctric...|  453.639|guitarra eléctric...|eléctrica|squier|stratocaster|      bullet|\n|Guitarra eléctric...|  829.264|guitarra eléctric...|eléctrica|squier|  telecaster|    affinity|\n|Guitarra Electric...|  598.357|guitarra electric...|electrica|squier|  telecaster|    affinity|\n|Guitarra eléctric...|  683.506|guitarra eléctric...|eléctrica|squier|stratocaster|    affinity|\n|Guitarra eléctric...|  598.357|guitarra eléctric...|eléctrica|squier|stratocaster|    affinity|\n|Guitarra eléctric...|  683.502|guitarra eléctric...|eléctrica|squier|stratocaster|    affinity|\n|Squier By Fender ...|  523.238|squier by fender ...|eléctrica|squier|  telecaster|    affinity|\n|Guitarra Squier B...|  521.039|guitarra squier b...| electric|squier|stratocaster|      bullet|\n|Squier Affinity S...|  683.506|squier affinity s...| electric|squier|stratocaster|    affinity|\n|Guitarra Electric...|  521.039|guitarra electric...|electrica|squier|stratocaster|      bullet|\n|Guitarra Electric...|  453.077|guitarra electric...|electrica|squier|  telecaster|      bullet|\n|Pack Guitarra Squ...|  696.516|pack guitarra squ...| electric|squier|  telecaster|      bullet|\n|Guitarra Eléctric...|  544.998|guitarra eléctric...|eléctrica|squier|  telecaster|    affinity|\n|Guitarra Eléctric...|  597.498|guitarra eléctric...|eléctrica|squier|  telecaster|      bullet|\n|Guitarra Eléctric...|  549.698|guitarra eléctric...|eléctrica|squier|  telecaster|      bullet|\n|Guitarra Electric...|1.001.315|guitarra electric...|electrica|squier|stratocaster|contemporary|\n|Guitarra Eléctric...|  599.000|guitarra eléctric...|eléctrica|squier|stratocaster|      bullet|\n|Combo Guitarra Sq...|  605.666|combo guitarra sq...| electric|squier|  telecaster|      bullet|\n|Guitarra Squier A...|  829.264|guitarra squier a...| electric|squier|        null|    affinity|\n|Guitarra Electric...|  569.999|guitarra electric...|electrica|squier|stratocaster|      bullet|\n|Guitarra eléctric...|  184.825|guitarra eléctric...|eléctrica|squier|  telecaster|contemporary|\n|Guitarra eléctric...|  545.000|guitarra eléctric...|eléctrica|squier|stratocaster|      bullet|\n|Guitarra Squier A...|  626.747|guitarra squier a...| electric|squier|  telecaster|    affinity|\n|Guitarra eléctric...|  899.997|guitarra eléctric...|eléctrica|squier|  telecaster|contemporary|\n|Guitarra Electric...|  833.770|guitarra electric...|electrica|squier|stratocaster|contemporary|\n|Guitarra Eléctric...|  669.198|guitarra eléctric...|eléctrica|squier|  telecaster|      bullet|\n|Guitarra Eléctric...|  860.202|guitarra eléctric...|eléctrica|squier|  telecaster|    affinity|\n|Guitarra Eléctric...|  721.099|guitarra eléctric...|eléctrica|squier|  telecaster|    affinity|\n|Guitarra Eléctric...|  716.998|guitarra eléctric...|eléctrica|squier|  telecaster|      bullet|\n|Guitarra Electric...|  683.502|guitarra electric...|electrica|squier|stratocaster|    affinity|\n|Guitarra Squier T...|  716.998|guitarra squier t...| electric|squier|  telecaster|      bullet|\n|Guitarra Eléctric...|  549.698|guitarra eléctric...|eléctrica|squier|  telecaster|      bullet|\n|Guitarra Electric...|  949.999|guitarra electric...|electrica|squier|  telecaster|      bullet|\n|Guitarra Electric...|1.500.036|guitarra electric...|electrica|squier|stratocaster|contemporary|\n|Guitarra Eléctric...|1.193.566|guitarra eléctric...|eléctrica|squier|  telecaster|    affinity|\n|Guitarra Electric...|  683.502|guitarra electric...|electrica|squier|stratocaster|    affinity|\n|Squier By Fender ...|  788.681|squier by fender ...|eléctrica|squier|  telecaster|    affinity|\n|Guitarra Electric...|  786.027|guitarra electric...|electrica|squier|stratocaster|    affinity|\n|Guitarra Electric...|  749.999|guitarra electric...|electrica|squier|  telecaster|    affinity|\n|Guitarra Eléctric...|  721.099|guitarra eléctric...|eléctrica|squier|        null|    affinity|\n|Guitarra Squier T...|  829.264|guitarra squier t...| electric|squier|  telecaster|    affinity|\n|Squier By Fender ...|  906.984|squier by fender ...|eléctrica|squier|  telecaster|    affinity|\n|Guitarra Eléctric...|  958.045|guitarra eléctric...|eléctrica|squier|stratocaster|    affinity|\n|Guitarra Eléctric...|  721.099|guitarra eléctric...|eléctrica|squier|  telecaster|    affinity|\n|Guitarra Eléctric...|  958.045|guitarra eléctric...|eléctrica|squier|  telecaster|    affinity|\n|Guitarra Squier S...|  829.265|guitarra squier s...| electric|squier|stratocaster|    affinity|\n|Guitarra Electric...|1.350.032|guitarra electric...|electrica|squier|stratocaster|contemporary|\n|Guitarra Electric...|  786.028|guitarra electric...|electrica|squier|stratocaster|    affinity|\n|Guitarra Eléctric...|  626.747|guitarra eléctric...|eléctrica|squier|  telecaster|    affinity|\n|Guitarra Eléctric...|  785.399|guitarra eléctric...|eléctrica|squier|  telecaster|    affinity|\n|Guitarra Eléctric...|  477.998|guitarra eléctric...|eléctrica|squier|  telecaster|      bullet|\n|Guitarra Fender 0...|  287.506|guitarra fender 0...| electric|squier|        null|contemporary|\n|Guitarra Eléctric...|  566.035|guitarra eléctric...|eléctrica|squier|stratocaster|      bullet|\n|Guitarra Eléctric...|  958.045|guitarra eléctric...|eléctrica|squier|stratocaster|    affinity|\n|Guitarra Eléctric...|  869.549|guitarra eléctric...|eléctrica|squier|  telecaster|    affinity|\n|Guitarra Eléctric...|  829.264|guitarra eléctric...|eléctrica|squier|        null|    affinity|\n|Guitarra Eléctric...|1.034.997|guitarra eléctric...|eléctrica|squier|  telecaster|contemporary|\n|Guitarra Squier A...|  721.099|guitarra squier a...| electric|squier|  telecaster|    affinity|\n|Guitarra Electric...|  453.077|guitarra electric...|electrica|squier|  telecaster|      bullet|\n|Guitarra Eléctric...|  945.307|guitarra eléctric...|eléctrica|squier|stratocaster|contemporary|\n|Guitarra Electric...|1.552.537|guitarra electric...|electrica|squier|stratocaster|contemporary|\n|Guitarra Eléctric...|  829.264|guitarra eléctric...|eléctrica|squier|  telecaster|    affinity|\n|Guitarra Eléctric...|  958.045|guitarra eléctric...|eléctrica|squier|stratocaster|    affinity|\n|Guitarra Eléctric...|  899.997|guitarra eléctric...|eléctrica|squier|  telecaster|contemporary|\n|Guitarra Electric...|  521.039|guitarra electric...|electrica|squier|  telecaster|      bullet|\n|Guitarra Eléctric...|  860.202|guitarra eléctric...|eléctrica|squier|stratocaster|    affinity|\n|Guitarra Squier A...|  829.264|guitarra squier a...| electric|squier|  telecaster|    affinity|\n|Guitarra Eléctric...|  477.998|guitarra eléctric...|eléctrica|squier|  telecaster|      bullet|\n|Guitarra Squier S...|  901.375|guitarra squier s...| electric|squier|stratocaster|    affinity|\n|Guitarra Eléctric...|  597.498|guitarra eléctric...|eléctrica|squier|  telecaster|      bullet|\n|Guitarra Electric...|1.108.955|guitarra electric...|electrica|squier|  telecaster|contemporary|\n|Guitarra Electric...|  964.308|guitarra electric...|electrica|squier|  telecaster|contemporary|\n|Guitarra Squier S...|  829.265|guitarra squier s...| electric|squier|stratocaster|    affinity|\n|Guitarra Electric...|  683.502|guitarra electric...|electrica|squier|stratocaster|    affinity|\n|Guitarra Eléctric...|  508.227|guitarra eléctric...|eléctrica|squier|stratocaster|      bullet|\n|Guitarra Eléctric...|  928.607|guitarra eléctric...|eléctrica|squier|stratocaster|contemporary|\n|Guitarra Eléctric...|  829.264|guitarra eléctric...|eléctrica|squier|        null|    affinity|\n|Guitarra Eléctric...|1.124.997|guitarra eléctric...|eléctrica|squier|  telecaster|contemporary|\n|Guitarra Eléctric...|  829.265|guitarra eléctric...|eléctrica|squier|stratocaster|    affinity|\n|Guitarra Squier S...|  721.100|guitarra squier s...|eléctrica|squier|stratocaster|    affinity|\n|Guitarra Eléctric...|  560.999|guitarra eléctric...|eléctrica|squier|  telecaster|    affinity|\n|Guitarra Electric...|1.124.778|guitarra electric...|electrica|squier|  telecaster|contemporary|\n|Guitarra Eléctric...|1.033.058|guitarra eléctric...|eléctrica|squier|stratocaster|    affinity|\n|Guitarra Eléctric...|  860.202|guitarra eléctric...|eléctrica|squier|stratocaster|    affinity|\n|Guitarra Electric...|1.399.349|guitarra electric...|electrica|squier|stratocaster|    affinity|\n|Guitarra Eléctric...|  860.202|guitarra eléctric...|eléctrica|squier|  telecaster|    affinity|\n|Guitarra Electric...|  453.077|guitarra electric...|electrica|squier|stratocaster|      bullet|\n|Guitarra Electric...|  521.038|guitarra electric...|electrica|squier|stratocaster|      bullet|\n|Guitarra Electric...|  998.970|guitarra electric...|electrica|squier|stratocaster|    affinity|\n|Guitarra Electric...|1.044.999|guitarra electric...|electrica|squier|  telecaster|    affinity|\n|Guitarra Squier A...|  721.100|guitarra squier a...| electric|squier|stratocaster|    affinity|\n|Guitarra Electric...|1.082.951|guitarra electric...|electrica|squier|stratocaster|    affinity|\n|Guitarra Eléctric...|  899.997|guitarra eléctric...|eléctrica|squier|  telecaster|contemporary|\n|Guitarra Electric...|1.517.855|guitarra electric...|electrica|squier|stratocaster|    affinity|\n|Guitarra Electric...|1.329.999|guitarra electric...|electrica|squier|  telecaster|    affinity|\n|Squier Affinity S...|  829.265|squier affinity s...| electric|squier|stratocaster|    affinity|\n|Guitarra Eléctric...|  829.264|guitarra eléctric...|eléctrica|squier|  telecaster|    affinity|\n|Guitarra Electric...|1.443.359|guitarra electric...|electrica|squier|  telecaster|    affinity|\n|Guitarra Eléctric...|  958.045|guitarra eléctric...|eléctrica|squier|  telecaster|    affinity|\n|Guitarra Stratoca...|1.193.566|guitarra stratoca...| electric|squier|stratocaster|    affinity|\n|Guitarra Electric...|  620.927|guitarra electric...|electrica|squier|  telecaster|      bullet|\n|Pack Guitarra Squ...|  696.516|pack guitarra squ...| electric|squier|  telecaster|      bullet|\n|Guitarra Electric...|  866.015|guitarra electric...|electrica|squier|stratocaster|      bullet|\n|Guitarra Squier T...|1.872.902|guitarra squier t...| electric|squier|  telecaster|classic vibe|\n|Combo Guitarra Sq...|  605.666|combo guitarra sq...| electric|squier|        null|      bullet|\n|Guitarra Electric...|  983.545|guitarra electric...|electrica|squier|        null|    affinity|\n|Guitarra Squier S...|  721.100|guitarra squier s...| electric|squier|stratocaster|    affinity|\n|Guitarra Electric...|  721.100|guitarra electric...|electrica|squier|stratocaster|    affinity|\n|Guitarra Squier T...|  361.609|guitarra squier t...| electric|squier|  telecaster|    affinity|\n|Guitarra Squier T...|1.140.028|guitarra squier t...| electric|squier|  telecaster|classic vibe|\n|Guitarra Squier T...|1.628.611|guitarra squier t...| electric|squier|  telecaster|classic vibe|\n|Guitarra Squier T...|1.447.835|guitarra squier t...| electric|squier|  telecaster|classic vibe|\n|Guitarra eléctric...|  669.116|guitarra eléctric...|eléctrica|squier|stratocaster|      bullet|\n|Guitarra Eléctric...|  544.998|guitarra eléctric...|eléctrica|squier|  telecaster|    affinity|\n|Guitarra Electric...|  729.980|guitarra electric...|electrica|squier|  telecaster|    affinity|\n|Squier By Fender ...|  601.724|squier by fender ...|eléctrica|squier|  telecaster|    affinity|\n|Classic Vibe Bass...|3.249.159|classic vibe bass...| electric|squier|        null|classic vibe|\n|Guitarra eléctric...|1.659.000|guitarra eléctric...|eléctrica|squier|stratocaster|classic vibe|\n|Guitarra eléctric...|1.652.000|guitarra eléctric...|eléctrica|squier|stratocaster|classic vibe|\n|Guitarra eléctric...|1.666.000|guitarra eléctric...|eléctrica|squier|  telecaster|classic vibe|\n|Guitarra Eléctric...|  549.698|guitarra eléctric...|eléctrica|squier|  telecaster|      bullet|\n|Guitarra Squier T...|1.628.611|guitarra squier t...| electric|squier|  telecaster|classic vibe|\n|Guitarra Squier T...|1.872.902|guitarra squier t...| electric|squier|  telecaster|classic vibe|\n+--------------------+---------+--------------------+---------+------+------------+------------+\n\n"
     ]
    }
   ],
   "source": [
    "# observo que en los casos nulos que nos quedan en la publicacion no corresponde con lo buscado, por lo que:\n",
    "# eliminamos estas filas con null\n",
    "# convertimos el precio a una columna de tipo float \n",
    "# pasamos los casos de 'electrica' o 'eléctrica' a electric\n",
    "\n",
    "df_squier_clean = df_squier.filter(col('brand').isNotNull() & col('series').isNotNull() & col('type').isNotNull())\n",
    "\n",
    "print(df_squier_clean.count())\n",
    "df_squier_clean.show(200)"
   ]
  },
  {
   "cell_type": "code",
   "execution_count": 0,
   "metadata": {
    "application/vnd.databricks.v1+cell": {
     "cellMetadata": {
      "byteLimit": 2048000,
      "rowLimit": 10000
     },
     "inputWidgets": {},
     "nuid": "5ba8e160-0a30-4c0e-a551-9a054f6f2053",
     "showTitle": false,
     "tableResultSettingsMap": {},
     "title": ""
    }
   },
   "outputs": [],
   "source": [
    "# en este caso sabemos que todas las guitarras son eléctricas\n",
    "df_squier_clean = df_squier_clean.withColumn(\n",
    "    'type',lit('electric')\n",
    ")"
   ]
  },
  {
   "cell_type": "code",
   "execution_count": 0,
   "metadata": {
    "application/vnd.databricks.v1+cell": {
     "cellMetadata": {
      "byteLimit": 2048000,
      "rowLimit": 10000
     },
     "inputWidgets": {},
     "nuid": "af0a21f0-d5d8-41f7-a26f-d2cc2c979778",
     "showTitle": false,
     "tableResultSettingsMap": {},
     "title": ""
    }
   },
   "outputs": [],
   "source": [
    "#Transformamos la columna precio en una columna de tipo flotante, primero quitando el punto del string.\n",
    "\n",
    "df_squier_clean = df_squier_clean.withColumn(\"price\", regexp_replace(col(\"price\"), \"\\\\.\", \"\").cast(\"float\"))"
   ]
  },
  {
   "cell_type": "markdown",
   "metadata": {
    "application/vnd.databricks.v1+cell": {
     "cellMetadata": {
      "byteLimit": 2048000,
      "rowLimit": 10000
     },
     "inputWidgets": {},
     "nuid": "1eaf75fe-44bb-4a17-9584-492ccb23d7d7",
     "showTitle": false,
     "tableResultSettingsMap": {},
     "title": ""
    }
   },
   "source": [
    "### Data Frame final"
   ]
  },
  {
   "cell_type": "code",
   "execution_count": 0,
   "metadata": {
    "application/vnd.databricks.v1+cell": {
     "cellMetadata": {
      "byteLimit": 2048000,
      "rowLimit": 10000
     },
     "inputWidgets": {},
     "nuid": "e891b8f0-6ca6-48ed-b09d-8a92f1919833",
     "showTitle": false,
     "tableResultSettingsMap": {},
     "title": ""
    }
   },
   "outputs": [
    {
     "output_type": "stream",
     "name": "stdout",
     "output_type": "stream",
     "text": [
      "de: 221 quedaron: 131\n+------+--------+------------+------------+---------+\n|brand |type    |series      |model       |price    |\n+------+--------+------------+------------+---------+\n|squier|electric|bullet      |telecaster  |521039.0 |\n|squier|electric|bullet      |stratocaster|453077.0 |\n|squier|electric|bullet      |stratocaster|453077.0 |\n|squier|electric|affinity    |stratocaster|786028.0 |\n|squier|electric|bullet      |telecaster  |521039.0 |\n|squier|electric|contemporary|telecaster  |184825.0 |\n|squier|electric|affinity    |stratocaster|786028.0 |\n|squier|electric|affinity    |stratocaster|786028.0 |\n|squier|electric|bullet      |stratocaster|453639.0 |\n|squier|electric|affinity    |telecaster  |829264.0 |\n|squier|electric|affinity    |telecaster  |598357.0 |\n|squier|electric|affinity    |stratocaster|683506.0 |\n|squier|electric|affinity    |stratocaster|598357.0 |\n|squier|electric|affinity    |stratocaster|683502.0 |\n|squier|electric|affinity    |telecaster  |523238.0 |\n|squier|electric|bullet      |stratocaster|521039.0 |\n|squier|electric|affinity    |stratocaster|683506.0 |\n|squier|electric|bullet      |stratocaster|521039.0 |\n|squier|electric|bullet      |telecaster  |453077.0 |\n|squier|electric|bullet      |telecaster  |696516.0 |\n|squier|electric|affinity    |telecaster  |544998.0 |\n|squier|electric|bullet      |telecaster  |597498.0 |\n|squier|electric|bullet      |telecaster  |549698.0 |\n|squier|electric|contemporary|stratocaster|1001315.0|\n|squier|electric|bullet      |stratocaster|599000.0 |\n|squier|electric|bullet      |telecaster  |605666.0 |\n|squier|electric|affinity    |null        |829264.0 |\n|squier|electric|bullet      |stratocaster|569999.0 |\n|squier|electric|contemporary|telecaster  |184825.0 |\n|squier|electric|bullet      |stratocaster|545000.0 |\n|squier|electric|affinity    |telecaster  |626747.0 |\n|squier|electric|contemporary|telecaster  |899997.0 |\n|squier|electric|contemporary|stratocaster|833770.0 |\n|squier|electric|bullet      |telecaster  |669198.0 |\n|squier|electric|affinity    |telecaster  |860202.0 |\n|squier|electric|affinity    |telecaster  |721099.0 |\n|squier|electric|bullet      |telecaster  |716998.0 |\n|squier|electric|affinity    |stratocaster|683502.0 |\n|squier|electric|bullet      |telecaster  |716998.0 |\n|squier|electric|bullet      |telecaster  |549698.0 |\n|squier|electric|bullet      |telecaster  |949999.0 |\n|squier|electric|contemporary|stratocaster|1500036.0|\n|squier|electric|affinity    |telecaster  |1193566.0|\n|squier|electric|affinity    |stratocaster|683502.0 |\n|squier|electric|affinity    |telecaster  |788681.0 |\n|squier|electric|affinity    |stratocaster|786027.0 |\n|squier|electric|affinity    |telecaster  |749999.0 |\n|squier|electric|affinity    |null        |721099.0 |\n|squier|electric|affinity    |telecaster  |829264.0 |\n|squier|electric|affinity    |telecaster  |906984.0 |\n|squier|electric|affinity    |stratocaster|958045.0 |\n|squier|electric|affinity    |telecaster  |721099.0 |\n|squier|electric|affinity    |telecaster  |958045.0 |\n|squier|electric|affinity    |stratocaster|829265.0 |\n|squier|electric|contemporary|stratocaster|1350032.0|\n|squier|electric|affinity    |stratocaster|786028.0 |\n|squier|electric|affinity    |telecaster  |626747.0 |\n|squier|electric|affinity    |telecaster  |785399.0 |\n|squier|electric|bullet      |telecaster  |477998.0 |\n|squier|electric|contemporary|null        |287506.0 |\n|squier|electric|bullet      |stratocaster|566035.0 |\n|squier|electric|affinity    |stratocaster|958045.0 |\n|squier|electric|affinity    |telecaster  |869549.0 |\n|squier|electric|affinity    |null        |829264.0 |\n|squier|electric|contemporary|telecaster  |1034997.0|\n|squier|electric|affinity    |telecaster  |721099.0 |\n|squier|electric|bullet      |telecaster  |453077.0 |\n|squier|electric|contemporary|stratocaster|945307.0 |\n|squier|electric|contemporary|stratocaster|1552537.0|\n|squier|electric|affinity    |telecaster  |829264.0 |\n|squier|electric|affinity    |stratocaster|958045.0 |\n|squier|electric|contemporary|telecaster  |899997.0 |\n|squier|electric|bullet      |telecaster  |521039.0 |\n|squier|electric|affinity    |stratocaster|860202.0 |\n|squier|electric|affinity    |telecaster  |829264.0 |\n|squier|electric|bullet      |telecaster  |477998.0 |\n|squier|electric|affinity    |stratocaster|901375.0 |\n|squier|electric|bullet      |telecaster  |597498.0 |\n|squier|electric|contemporary|telecaster  |1108955.0|\n|squier|electric|contemporary|telecaster  |964308.0 |\n|squier|electric|affinity    |stratocaster|829265.0 |\n|squier|electric|affinity    |stratocaster|683502.0 |\n|squier|electric|bullet      |stratocaster|508227.0 |\n|squier|electric|contemporary|stratocaster|928607.0 |\n|squier|electric|affinity    |null        |829264.0 |\n|squier|electric|contemporary|telecaster  |1124997.0|\n|squier|electric|affinity    |stratocaster|829265.0 |\n|squier|electric|affinity    |stratocaster|721100.0 |\n|squier|electric|affinity    |telecaster  |560999.0 |\n|squier|electric|contemporary|telecaster  |1124778.0|\n|squier|electric|affinity    |stratocaster|1033058.0|\n|squier|electric|affinity    |stratocaster|860202.0 |\n|squier|electric|affinity    |stratocaster|1399349.0|\n|squier|electric|affinity    |telecaster  |860202.0 |\n|squier|electric|bullet      |stratocaster|453077.0 |\n|squier|electric|bullet      |stratocaster|521038.0 |\n|squier|electric|affinity    |stratocaster|998970.0 |\n|squier|electric|affinity    |telecaster  |1044999.0|\n|squier|electric|affinity    |stratocaster|721100.0 |\n|squier|electric|affinity    |stratocaster|1082951.0|\n|squier|electric|contemporary|telecaster  |899997.0 |\n|squier|electric|affinity    |stratocaster|1517855.0|\n|squier|electric|affinity    |telecaster  |1329999.0|\n|squier|electric|affinity    |stratocaster|829265.0 |\n|squier|electric|affinity    |telecaster  |829264.0 |\n|squier|electric|affinity    |telecaster  |1443359.0|\n|squier|electric|affinity    |telecaster  |958045.0 |\n|squier|electric|affinity    |stratocaster|1193566.0|\n|squier|electric|bullet      |telecaster  |620927.0 |\n|squier|electric|bullet      |telecaster  |696516.0 |\n|squier|electric|bullet      |stratocaster|866015.0 |\n|squier|electric|classic vibe|telecaster  |1872902.0|\n|squier|electric|bullet      |null        |605666.0 |\n|squier|electric|affinity    |null        |983545.0 |\n|squier|electric|affinity    |stratocaster|721100.0 |\n|squier|electric|affinity    |stratocaster|721100.0 |\n|squier|electric|affinity    |telecaster  |361609.0 |\n|squier|electric|classic vibe|telecaster  |1140028.0|\n|squier|electric|classic vibe|telecaster  |1628611.0|\n|squier|electric|classic vibe|telecaster  |1447835.0|\n|squier|electric|bullet      |stratocaster|669116.0 |\n|squier|electric|affinity    |telecaster  |544998.0 |\n|squier|electric|affinity    |telecaster  |729980.0 |\n|squier|electric|affinity    |telecaster  |601724.0 |\n|squier|electric|classic vibe|null        |3249159.0|\n|squier|electric|classic vibe|stratocaster|1659000.0|\n|squier|electric|classic vibe|stratocaster|1652000.0|\n|squier|electric|classic vibe|telecaster  |1666000.0|\n|squier|electric|bullet      |telecaster  |549698.0 |\n|squier|electric|classic vibe|telecaster  |1628611.0|\n|squier|electric|classic vibe|telecaster  |1872902.0|\n+------+--------+------------+------------+---------+\n\n"
     ]
    }
   ],
   "source": [
    "# Observo el data frame ahora ya procesado y cuantas filas me quedaron\n",
    "print(f\"de: {df_squier.count()} quedaron: {df_squier_clean.count()}\")\n",
    "df_squier_final = df_squier_clean.select(\"brand\",\"type\",\"series\",\"model\",\"price\")\n",
    "df_squier_final.show(df_squier_clean.count(),False)"
   ]
  },
  {
   "cell_type": "markdown",
   "metadata": {
    "application/vnd.databricks.v1+cell": {
     "cellMetadata": {
      "byteLimit": 2048000,
      "rowLimit": 10000
     },
     "inputWidgets": {},
     "nuid": "1ac5de35-0fa1-43bf-a448-86c7eae2c771",
     "showTitle": false,
     "tableResultSettingsMap": {},
     "title": ""
    }
   },
   "source": [
    "## 3. Guitarras marca 'Epiphone'"
   ]
  },
  {
   "cell_type": "code",
   "execution_count": 0,
   "metadata": {
    "application/vnd.databricks.v1+cell": {
     "cellMetadata": {
      "byteLimit": 2048000,
      "rowLimit": 10000
     },
     "inputWidgets": {},
     "nuid": "2846902a-5532-4f27-bda2-10b17a3d991f",
     "showTitle": false,
     "tableResultSettingsMap": {},
     "title": ""
    }
   },
   "outputs": [
    {
     "output_type": "stream",
     "name": "stdout",
     "output_type": "stream",
     "text": [
      "524\n+--------------------------------------------------------------------------------------------------------------------------------------------------------+---------+\n|title                                                                                                                                                   |price    |\n+--------------------------------------------------------------------------------------------------------------------------------------------------------+---------+\n|Guitarra eléctrica Epiphone Les Paul Special VE de álamo vintage sunburst con diapasón de palo de rosa                                                  |474.048  |\n|Guitarra eléctrica Epiphone Slash “AFD” Les Paul Special II Outfit les paul special-ii de okoume appetite amber con diapasón de palo de rosa            |122.590  |\n|Guitarra eléctrica Epiphone Original Collection Les Paul Standard 60s de caoba iced tea níquel con diapasón de laurel indio                             |2.199.586|\n|Guitarra eléctrica Epiphone Les Paul Melody Maker E1 de álamo ebony con diapasón de palo de rosa                                                        |431.582  |\n|Guitarra eléctrica Epiphone Original Collection Casino Worn de arce blue denim desgastado con diapasón de laurel indio                                  |165.423  |\n|Guitarra eléctrica Epiphone Original Collection Les Paul Standard 60s de caoba ebony níquel con diapasón de laurel indio                                |214.803  |\n|Guitarra eléctrica Epiphone Les Paul Special VE de álamo cherry sunburst con diapasón de palo de rosa                                                   |545.156  |\n|Guitarra eléctrica Epiphone Les Paul Studio LT E1 de caoba violin sunburst con diapasón de palo de rosa                                                 |808.043  |\n|Guitarra eléctrica Epiphone Modern Les Paul Muse de caoba radio blue metallic metalizado con diapasón de laurel indio                                   |165.423  |\n|Guitarra eléctrica Epiphone Les Paul Studio LT E1 de caoba ebony con diapasón de palo de rosa                                                           |632.065  |\n|Guitarra eléctrica Epiphone Les Paul Studio LT E1 de caoba heritage cherry sunburst con diapasón de palo de rosa                                        |742.676  |\n|Guitarra eléctrica Epiphone Les Paul Melody Maker E1 de álamo pacific blue con diapasón de palo de rosa                                                 |375.288  |\n|Guitarra Electrica EpiPhone Slash Afd Lp Special Ii Prm                                                                                                 |772.305  |\n|Guitarra EpiPhone Slash Afd Lp Special Funda Accesorios                                                                                                 |671.569  |\n|Guitarra EpiPhone Crestwood Custom Tremotone Cherry                                                                                                     |1.590.039|\n|Guitarra eléctrica Epiphone Modern SG SG Muse de caoba scarlet red metallic metalizado con diapasón de laurel indio                                     |1.466.391|\n|Guitarra eléctrica Epiphone Les Paul Melody Maker E1 de álamo sunset yellow con diapasón de palo de rosa                                                |480.368  |\n|Guitarra eléctrica Epiphone Les Paul Melody Maker E1 de álamo vintage sunburst con diapasón de palo de rosa                                             |375.288  |\n|Combo Guitarra EpiPhone Les Paul Ve Funda Encordado Gratis                                                                                              |479.822  |\n|Guitarra EpiPhone Les Paul Special I Color Pelham Blue                                                                                                  |856.675  |\n|Guitarra eléctrica Epiphone Les Paul Special VE de álamo ebony con diapasón de palo de rosa                                                             |606.781  |\n|Guitarra Eléctrica EpiPhone Les Paul Special Ve Cherry Burst                                                                                            |474.048  |\n|Kit Guitarra EpiPhone Les Paul Ve Con Funda Encordado Gratis                                                                                            |551.795  |\n|Guitarra eléctrica Epiphone Modern Les Paul Muse de caoba scarlet red metallic metalizado con diapasón de laurel indio                                  |165.423  |\n|Guitarra eléctrica Epiphone Slash Collection Les Paul Standard de caoba gold brillante con diapasón de laurel indio                                     |3.261.456|\n|Guitarra eléctrica Epiphone Modern Les Paul Les Paul Modern de arce/caoba vintage sparkling burgundy brillante con diapasón de ébano                    |329.365  |\n|Guitarra eléctrica Epiphone Original Collection Les Paul Special de caoba tv yellow brillante con diapasón de laurel indio                              |1.528.597|\n|Guitarra eléctrica Epiphone Inspired by Gibson Les Paul Standard 50s de caoba metallic gold brillante con diapasón de laurel indio                      |2.199.586|\n|Guitarra eléctrica Epiphone Les Paul Studio EILTKHNH1 de caoba smokehouse burst brillante con diapasón de laurel indio                                  |1.529.597|\n|Guitarra EpiPhone Casino Worn Denim Eléctrica Hollow Body                                                                                               |1.323.386|\n|Guitarra EpiPhone Flying V Ebony Vintage inspirada en Gibson Cor Preto                                                                                  |2.250.942|\n|Combo Guitarra EpiPhone Les Paul Sv Funda Encordado Gratis                                                                                              |479.822  |\n|Combo Guitarra EpiPhone Les Paul Ve Satinada                                                                                                            |719.733  |\n|Guitarra Flying V EpiPhone Prophecy Black Aged Gloss                                                                                                    |3.075.145|\n|Guitarra EpiPhone Sheraton Vintage Sunburst                                                                                                             |2.962.806|\n|EpiPhone Coronet Ebo Guitarra Eléctrica Pastilla P-90 Orientación De La Mano Diestro                                                                    |229.041  |\n|Guitarra EpiPhone Sg 1961 Standard Aged Classic White                                                                                                   |2.882.216|\n|Guitarra eléctrica Epiphone Slash Collection Les Paul Standard de caoba appetite burst brillante con diapasón de laurel indio                           |2.548.013|\n|Guitarra Semi-acústica EpiPhone Es 335 Dot Vintage Sunburst                                                                                             |1.590.039|\n|Guitarra eléctrica Epiphone Inspired by Gibson Les Paul Standard 50s de caoba vintage sunburst brillante con diapasón de laurel indio                   |214.803  |\n|Guitarra EpiPhone Wilshire P90s Cherry                                                                                                                  |1.744.499|\n|EpiPhone Guitarra Eléctrica Es-335 Semi Hollow Body Color Vintage Sunburst                                                                              |2.035.249|\n|Guitarra Eléctrica Epiphone Inspired by Gibson SG Standard Madera Caoba                                                                                 |165.423  |\n|Guitarra eléctrica Epiphone Modern Les Paul Muse de caoba pearl white metallic metalizado con diapasón de laurel indio                                  |154.395  |\n|Guitarra EpiPhone Sg 1961 Standard Aged Classic White                                                                                                   |2.882.216|\n|Guitarra EpiPhone Wilshire P90s Cherry                                                                                                                  |290.749  |\n|Guitarra eléctrica Epiphone Inspired by Gibson SG Standard de caoba alpine white brillante con diapasón de laurel indio                                 |282.322  |\n|Guitarra eléctrica Epiphone Original ES ES-335 de arce cherry níquel con diapasón de laurel indio                                                       |2.009.519|\n|Guitarra eléctrica Epiphone Slash Collection Les Paul Standard de caoba november burst brillante con diapasón de laurel indio                           |2.548.013|\n|Guitarra eléctrica Epiphone Modern Les Paul Les Paul Modern de arce/caoba faded pelham blue brillante con diapasón de ébano                             |2.199.586|\n|Guitarra eléctrica Epiphone Modern Les Paul Muse de caoba purple passion metallic metalizado con diapasón de laurel indio                               |1.693.934|\n|Guitarra eléctrica para zurdo Epiphone Archtop Casino de arce vintage sunburst brillante con diapasón de granadillo brasileño                           |2.376.564|\n|Guitarra eléctrica Epiphone Inspired by Gibson ES-335 Figured de arce blueberry burst brillante con diapasón de laurel indio                            |1.718.427|\n|Guitarra eléctrica Epiphone Archtop Riviera de arce royal tan brillante con diapasón de laurel indio                                                    |2.561.418|\n|Guitarra eléctrica Epiphone Archtop Sheraton-II PRO de arce vintage sunburst brillante con diapasón de granadillo brasileño                             |1.985.080|\n|Guitarra eléctrica Epiphone Les Paul Melody Maker E1 de álamo turquoise con diapasón de palo de rosa                                                    |431.582  |\n|Guitarra Eléctrica EpiPhone Coronet Mic P90 Color Cherry                                                                                                |254.932  |\n|Guitarra EpiPhone Slash Afd Lp Special Funda Accesorios C                                                                                               |859.608  |\n|Guitarra eléctrica Epiphone Modern Les Paul Muse de caoba scarlet red metallic metalizado con diapasón de laurel indio                                  |253.649  |\n|EpiPhone Billie Joe Armstrong, Les Paul Junior Player Pack Material Del Diapasón Maple Orientación De La Mano Diestro                                   |1.335.685|\n|Guitarra eléctrica Epiphone Archtop Broadway hollow body de abeto/arce vintage natural con diapasón de granadillo brasileño                             |447.621  |\n|Guitarra eléctrica Epiphone Modern Les Paul Muse de caoba smoked almond metallic metalizado con diapasón de laurel indio                                |1.733.485|\n|Guitarra eléctrica Epiphone Collection Uptown Kat ES archtop                                                                                            |366.597  |\n|Guitarra Electrica EpiPhone Casino Vintage Sunburst Color Marrón Orientación De La Mano Diestro                                                         |2.376.564|\n|Guitarra eléctrica Epiphone Modern Les Paul Muse de caoba wanderlust metallic green metalizado con diapasón de laurel indio                             |1.733.485|\n|Guitarra EpiPhone Les Paul Special Sunburst Vintage                                                                                                     |663.668  |\n|Guitarra Eléctrica EpiPhone Sg Custom Negra Color Negro Material del diapasón Ébano Orientación de la mano Diestro                                      |1.972.735|\n|Guitarra EpiPhone Wilshire P90 Cherry                                                                                                                   |1.362.890|\n|Guitarra Electrica EpiPhone Les Paul Modern Muse - Roja                                                                                                 |1.323.386|\n|Guitarra eléctrica Epiphone Archtop Riviera de arce sparkling burgundy brillante con diapasón de laurel indio                                           |2.502.977|\n|Guitarra eléctrica Epiphone Les Paul Melody Maker                                                                                                       |637.990  |\n|Guitarra eléctrica Epiphone Les Paul Studio EILTKHNH1 de caoba smokehouse burst brillante con diapasón de laurel indio                                  |254.932  |\n|Guitarra eléctrica Epiphone Archtop Casino de arce vintage sunburst brillante con diapasón de granadillo brasileño                                      |396.094  |\n|Guitarra Eléctrica Epiphone Flying V Ebony                                                                                                              |2.198.586|\n|Guitarra EpiPhone Les Paul Studio Lt Heritage Sunburst                                                                                                  |632.065  |\n|Guitarra EpiPhone Les Paul Sl Ebony                                                                                                                     |376.288  |\n|Guitarra Electrica EpiPhone Es1pplpfbnh1 Lp Power Players                                                                                               |823.116  |\n|Guitarra eléctrica Epiphone Slash Collection Les Paul Standard de caoba vermillion burst brillante con diapasón de laurel indio                         |543.576  |\n|Guitarra eléctrica EpiPhone Les Paul Sl Cherry Sunburst                                                                                                 |474.297  |\n|Guitarra eléctrica para zurdo Epiphone Inspired by Gibson Les Paul Standard 50s de caoba heritage cherry sunburst brillante con diapasón de laurel indio|1.718.427|\n|Guitarra Eléctrica EpiPhone Coronet Cherry Con P90                                                                                                      |1.194.998|\n|Guitarra EpiPhone Les Paul Special Sunburst Vintage Edition                                                                                             |474.048  |\n|Guitarra EpiPhone Les Paul Sl Sunset Yellow                                                                                                             |480.368  |\n|Guitarra Electrica EpiPhone Les Paul Muse Prm                                                                                                           |1.521.895|\n|Guitarra eléctrica Epiphone Modern SG SG Muse de caoba purple passion metallic metalizado con diapasón de laurel indio                                  |242.726  |\n|Guitarra EpiPhone Riviera Sparkling Burgundy                                                                                                            |1.956.451|\n|Guitarra Electrica EpiPhone Les Paul 3/4 Niño Con Accesorios                                                                                            |780.205  |\n|Guitarra eléctrica Epiphone Modern SG SG Muse de caoba radio blue metallic metalizado con diapasón de laurel indio                                      |244.398  |\n|Guitarra eléctrica Epiphone Modern SG SG Muse de caoba jet black metallic metalizado con diapasón de laurel indio                                       |1.145.618|\n|Guitarra EpiPhone Riviera Sparkling Burgundy                                                                                                            |1.956.451|\n|Guitarra Electrica EpiPhone Les Paul 3/4 Niño Con Accesorios                                                                                            |780.205  |\n|Guitarra EpiPhone Sheraton Natural                                                                                                                      |3.319.794|\n|EpiPhone Billie Joe Armstrong, Les Paul Junior Player Pack Material Del Diapasón Maple Orientación De La Mano Diestro                                   |1.335.685|\n|Guitarra EpiPhone Coronet Ebony Con Mic P90                                                                                                             |1.194.998|\n|Guitarra eléctrica Epiphone Modern SG SG Muse de caoba smoked almond metallic metalizado con diapasón de laurel indio                                   |143.202  |\n|Guitarra EpiPhone Les Paul Studio Lt Hcs                                                                                                                |809.043  |\n|EpiPhone Les Paul Modern Figured, Magma Orange Fade Color Naranja Orientación De La Mano Diestro                                                        |2.376.564|\n|Guitarra Electrica EpiPhone Les Paul Lp Modern Figure Color Caribbean Blue Fade Material Del Diapasón Ébano                                             |2.376.564|\n|Guitarra Eléctrica Epiphone Flying V Ebony                                                                                                              |2.198.586|\n|Guitarra Eléctrica EpiPhone Les Paul Special Ve Vs                                                                                                      |606.782  |\n|Guitarra eléctrica Epiphone Original Collection Emperor Swingster de arce forest green metallic metalizado con diapasón de laurel indio                 |1.973.357|\n|EpiPhone Les Paul Standard Slash Vermillion Burst                                                                                                       |2.548.013|\n|Guitarra EpiPhone Les Paul Standard 50 Vintage Sunburst C                                                                                               |2.199.586|\n|Guitarra EpiPhone Les Paul Modern Figured Magma Orange Fade                                                                                             |1.856.691|\n|Combo Guitarra EpiPhone Lp Sl Celeste Funda Encordado                                                                                                   |579.007  |\n|Guitarra Eléctrica EpiPhone Les Paul Standard 60 S Bourbon C                                                                                            |2.184.538|\n|Guitarra EpiPhone Riviera Royal Tan Semi Hollow                                                                                                         |1.955.451|\n|Guitarra Eléctrica EpiPhone Les Paul Special Ve Vs                                                                                                      |474.048  |\n|Guitarra eléctrica Epiphone Modern SG SG Muse de caoba purple passion metallic metalizado con diapasón de laurel indio                                  |143.202  |\n|Guitarra EpiPhone Sg Standard Alpine White                                                                                                              |1.693.934|\n|Guitarra Eléctrica EpiPhone Coronet Mic P90                                                                                                             |1.374.249|\n|Guitarra EpiPhone Les Paul Muse Scarlet Red Metallic                                                                                                    |1.693.934|\n|Guitarra EpiPhone Les Paul Sl Turquoise                                                                                                                 |480.368  |\n|Guitarra Eléctrica EpiPhone Les Paul Standard 60 S Ebony C                                                                                              |2.199.586|\n|Guitarra Eléctrica EpiPhone Les Paul Sl Vintage Sunburst                                                                                                |416.598  |\n|Guitarra Eléctrica EpiPhone Les Paul Junior Tobacco Burst                                                                                               |1.145.618|\n|Guitarra Electrica Les Paul EpiPhone Radio Blue Metallic                                                                                                |1.323.386|\n|Guitarra EpiPhone Les Paul Sl Ebony                                                                                                                     |480.368  |\n|Guitarra EpiPhone Coronet Cherry P90 Reissue 2020 Color Rojo Material Del Diapasón Laurel Indio                                                         |1.374.248|\n|Guitarra eléctrica Epiphone Collection Uptown Kat ES archtop                                                                                            |2.199.586|\n|Guitarra Eléctrica EpiPhone Les Paul Muse Blanco Perla                                                                                                  |1.323.386|\n|Guitarra Electrica EpiPhone Les Paul Lp Modern Figure                                                                                                   |1.856.691|\n|Guitarra EpiPhone Les Paul Jared James Nichols Blues Power                                                                                              |3.792.391|\n|Guitar Eléct EpiPhone Riviera Royal Arce Eorrtnh1 Cuota                                                                                                 |2.561.418|\n|Guitarra EpiPhone Les Paul Studio Smokehouse Burst                                                                                                      |1.529.597|\n|Guitarra Eléctrica EpiPhone Les Paul Standard 60 S Ice Tea C                                                                                            |2.199.586|\n|Guitarra EpiPhone Wilshire P90  Ebony                                                                                                                   |1.744.499|\n|Guitarra Eléctrica EpiPhone Lp Modern Figured Om Cuota                                                                                                  |2.432.053|\n|Guitarra Eléctrica EpiPhone Les Paul Sl Vint Sunburst Cuota                                                                                             |474.297  |\n|Guitarra eléctrica Epiphone Les Paul Prophecy de caoba olive tiger brillante con diapasón de ébano                                                      |3.514.282|\n|Guitarra EpiPhone Les Paul Sl Sunset Yellow                                                                                                             |376.288  |\n|Guitarra EpiPhone Marty Schwartz Es-335 Sixties Cherry                                                                                                  |2.429.500|\n|Guitarra Eléctrica EpiPhone Flying V Ebony - Eifvebnh1                                                                                                  |1.976.191|\n|Guitarra Electrica EpiPhone Sg Tamaño 3/4 Niños Y Accesorios Color Celeste Material Del Diapasón Laurel Orientación De La Mano Diestro                  |998.662  |\n|EpiPhone Les Paul Standard Slash Appetite Burst                                                                                                         |2.548.013|\n|Guitarra EpiPhone Sg Special P90 Sparkling Burgundy                                                                                                     |1.519.132|\n|Guitarra eléctrica Epiphone Collection Uptown Kat ES archtop                                                                                            |2.199.586|\n|Guitarra EpiPhone Sg Prophecy Blue Tiger Aged Gloss                                                                                                     |2.804.789|\n|Guitarra EpiPhone Les Paul Special De Caoba Tv Yellow                                                                                                   |1.528.597|\n|Guitarra Electrica EpiPhone Les Paul 3/4 Niño Con Accesorios Color Celeste Material Del Diapasón Laurel Orientación De La Mano Diestro                  |998.662  |\n|Guitarra EpiPhone Les Paul Modern Sparkling Burgundy                                                                                                    |2.199.586|\n|Guitarra EpiPhone Broadway Hollow Body Vintage Natural                                                                                                  |2.430.488|\n|Guitarra EpiPhone Modern Les Paul Muse Radio Blue Metallic                                                                                              |1.693.934|\n|Guitarra EpiPhone Les Paul Modern Figured Caribbean Blue                                                                                                |1.856.691|\n|Guitarra EpiPhone Les Paul Muse Smoked Almon Metallic                                                                                                   |1.693.934|\n|Guitarra EpiPhone Les Paul Jared James Nichols Blues Power                                                                                              |2.962.806|\n|Guitarra EpiPhone Les Paul Power Player Niño Lava Red                                                                                                   |780.205  |\n|Guitarra EpiPhone Crestwood Custom Tremotone Polaris White                                                                                              |1.590.039|\n|Guitarra eléctrica Epiphone Les Paul Prophecy de caoba black brillante con diapa\n\n*** WARNING: max output size exceeded, skipping output. ***\n\n                                                                        |395.288  |\n|Guitarra eléctrica Epiphone Les Paul -100 de arce/caoba vintage sunburst con diapasón de palo de rosa                                                   |1.679.990|\n|Guitarra Electrica EpiPhone Les Paul Studio Lt Dist Oficial                                                                                             |632.065  |\n|Guitarra Eléctrica EpiPhone Les Paul Standard 60s Iced Tea                                                                                              |1.718.427|\n|Guitarra eléctrica Epiphone Modern Les Paul Les Paul Special Satin E1 de caoba vintage sunburst brillante con diapasón de laurel indio                  |1.119.990|\n|Guitarra Eléctrica EpiPhone Les Paul Express 3/4 Viaje.                                                                                                 |719.990  |\n|Guitarra Electrica EpiPhone Les Paul Studio Lt Dist Oficial.                                                                                            |839.990  |\n|Guitarra Eléctrica EpiPhone Les Paul Special Ii Limited Hcs.                                                                                            |1.389.990|\n|Guitarra Eléctrica EpiPhone Les Paul Standard 60s Iced Tea.                                                                                             |2.249.990|\n|Guitarra Eléctrica EpiPhone Les Paul Studio Alpine White                                                                                                |1.326.534|\n|EpiPhone Casino Worn 335 Guitarra Semi Hollow Jazz                                                                                                      |1.323.386|\n|Guitarra Eléctrica EpiPhone Prophecy Flying V Ebony Cuota                                                                                               |2.250.942|\n|Guitarra Electrica EpiPhone Riviera Caja Humbucker - Bordo                                                                                              |1.955.451|\n|Guitarra Electrica EpiPhone Les Paul Lp Modern Figure   Prm                                                                                             |2.135.194|\n|EpiPhone Extura Prophecy Pta Guitarra Eléctrica Activa Color Violeta Material Del Diapasón Ébano Orientación De La Mano Diestro                         |3.544.741|\n|Guitarra EpiPhone Les Paul Special Ii Plus Top Heritage Ch                                                                                              |908.598  |\n|Guitarra Eléctrica EpiPhone Crestwood Custom Cherry, Trémolo                                                                                            |1.828.545|\n|Guitarra Eléctrica EpiPhone Les Paul Studio Blanca                                                                                                      |1.374.248|\n|Guitarra EpiPhone Sg Prophecy Black Aged Gloss                                                                                                          |3.590.129|\n|Guitarra Electrica EpiPhone Sg Power Player Kit Junior 3/4 N                                                                                            |780.206  |\n|Guitarra Eléctrica EpiPhone Gibson Les Paul Standard Brillo                                                                                             |2.405.798|\n|Guitarra EpiPhone Sg Special P-90 Roja                                                                                                                  |1.194.998|\n|Guitarra Eléctrica Para Diestro Epiphone Special I Les Paul Caoba Color Amarillo                                                                        |93.116   |\n|Guitarra Eléctrica EpiPhone Sg Muse Negra                                                                                                               |1.317.461|\n|Guitarra EpiPhone Les Paul Studio Lt Color Negro Caoba                                                                                                  |726.875  |\n|Guitarra Eléctrica EpiPhone Les Paul Special Ii Plus Hch                                                                                                |987.606  |\n|Guitarra Eléctrica EpiPhone Les Paul Special I P90 Amarilla                                                                                             |856.675  |\n|Guitarra Electrica EpiPhone Es1ppsgfbnh1 Sg Power Player Cuo                                                                                            |916.741  |\n|Guitarra eléctrica Epiphone Designer Collection Wilshire P-90 double cut/symmetrical epiphone wilshire                                                  |1.362.890|\n|Guitarra Electrica EpiPhone Sg Modern Muse - Negro                                                                                                      |1.145.618|\n|Guitarra EpiPhone Les Paul Special I Caoba P-90 Pro.                                                                                                    |744.934  |\n|EpiPhone Les Paul Standard Slash Appetite Burst                                                                                                         |3.261.456|\n|Guitarra Electrica EpiPhone Explorer Ebony Negra  Bk                                                                                                    |1.976.191|\n|Guitarra Electrica EpiPhone Les Paul Lp-100 Dist Oficial                                                                                                |1.272.888|\n|Guitarra Electrica 3/4 EpiPhone Les Paul Niño Con Accesorios                                                                                            |780.205  |\n|Guitarra EpiPhone Sg Muse Pearl Wanderlust Green Metallic Cu                                                                                            |1.466.391|\n|Guitarra Electrica 3/4 EpiPhone Les Paul Niños Y Accesorios                                                                                             |897.236  |\n|Guitarra Eléctrica EpiPhone Casino Sunburst Cuerpo Hueco                                                                                                |1.856.691|\n|Guitarra Eléctrica EpiPhone Les Paul Muse Scarlet Red Metal                                                                                             |1.323.386|\n|Guitarra EpiPhone Sg Power Players Lava Red                                                                                                             |780.205  |\n|Guitarra Eléctrica EpiPhone Sg Prophecy Red Tiger                                                                                                       |2.804.789|\n|Guitarra Electrica EpiPhone Les Paul Muse                                                                                                               |1.323.387|\n|Guitarra EpiPhone Sg Standard Negra Ebony                                                                                                               |1.323.386|\n|Guitarra Eléctrica EpiPhone Les Paul Sl Heritage Sunburst                                                                                               |416.598  |\n|Guitarra EpiPhone Les Paul Standard 60 Ebony Zurda                                                                                                      |2.148.034|\n|Guitarra Eléctrica EpiPhone Les Paul Studio Lt Negra                                                                                                    |632.065  |\n|Guitarra EpiPhone Sg Standard Color Blanco Alpine White                                                                                                 |1.521.894|\n|Guitarra EpiPhone Sg Special P90 Sparkling Burgundy                                                                                                     |1.194.998|\n|Guitarra Eléctrica EpiPhone Iges339vsnh1 Es-339 Vs Semi H                                                                                               |1.542.041|\n|Guitarra Eléctrica EpiPhone Les Paul Special Ii Limited Hcs                                                                                             |1.055.903|\n|Guitarra Electrica EpiPhone Les Paul Sl Ebony Negra                                                                                                     |525.404  |\n|Guitarra EpiPhone Les Paul Standard Jay Jay French.                                                                                                     |2.299.990|\n|Guitarra Eléctrica EpiPhone Lp Standard 50s Vintage                                                                                                     |2.405.798|\n|Guitarra EpiPhone Sg Muse White Pearl                                                                                                                   |1.317.461|\n|Guitarra Eléctrica EpiPhone Lp Standard 50s Vintage Sunburst                                                                                            |1.718.427|\n|Guitarra Eléctrica EpiPhone Es-335 Blueberry Burst                                                                                                      |2.405.798|\n|Guitarra Eléctrica EpiPhone Flying V Ebony                                                                                                              |1.718.427|\n|Guitarra Eléctrica EpiPhone Sg Custom Negra                                                                                                             |1.678.923|\n|Guitarra EpiPhone Les Paul Special Ii Heritage Cherry                                                                                                   |902.949  |\n|Guitarra EpiPhone Sg Standard Alpine White                                                                                                              |1.325.386|\n|Guitarra Electrica Sg EpiPhone Muse Radio Blue Metalli                                                                                                  |1.317.461|\n|Guitarra EpiPhone Les Paul Standard 60s Negra Zurda                                                                                                     |1.718.427|\n|Guitarra Eléctrica EpiPhone Les Paul Special I Azul                                                                                                     |931.168  |\n|Guitarra EpiPhone Les Paul Studio Alpine                                                                                                                |1.672.997|\n|Guitarra EpiPhone Casino Vintage Sunburst Archtop                                                                                                       |2.135.195|\n|Guitarra Eléctrica EpiPhone Les Paul Special Pelham Blue                                                                                                |744.934  |\n|Guitarra Eléctrica EpiPhone Extura Prophecy Purple Tiger                                                                                                |3.113.519|\n|Guitarra Eléctrica EpiPhone Sg Muse Purple Passion                                                                                                      |1.145.618|\n|Guitarra Eléctrica EpiPhone Les Paul Studio Smokehouse Burst                                                                                            |1.326.534|\n|Guitarra Eléctrica EpiPhone Les Paul Express 3/4 Viaje                                                                                                  |547.990  |\n|Guitarra Eléctrica EpiPhone Casino Natural Semi Hollow Cuota                                                                                            |2.346.519|\n|Guitarra Eléctrica EpiPhone Les Paul Standard 60's Bb                                                                                                   |1.907.578|\n|Guitarra Eléctrica EpiPhone Casino Marron Claro                                                                                                         |2.599.368|\n|Guitarra Electrica EpiPhone Enpthsnh1 Les Paul Studio Lt Cuo                                                                                            |742.676  |\n|Guitarra Eléctrica EpiPhone Sg Special 90s Verde                                                                                                        |1.194.998|\n|Guitarra Eléctrica EpiPhone Les Paul Muse Jet Black Cuota                                                                                               |1.672.519|\n|Guitarra Electrica EpiPhone Les Paul Standard 50s Vs                                                                                                    |1.976.191|\n|Guitarra Eléctrica EpiPhone Sg Muse Purple Passion                                                                                                      |1.145.618|\n|Guitarra Eléctrica EpiPhone Les Paul Studio Smokehouse Burst                                                                                            |1.326.534|\n|Guitarra Eléctrica EpiPhone Les Paul Express 3/4 Viaje                                                                                                  |547.990  |\n|Guitarra Eléctrica EpiPhone Casino Natural Semi Hollow Cuota                                                                                            |2.346.519|\n|Guitarra Eléctrica EpiPhone Les Paul Standard 60's Bb                                                                                                   |1.907.578|\n|Guitarra Eléctrica EpiPhone Casino Marron Claro                                                                                                         |2.599.368|\n|Guitarra Electrica EpiPhone Enpthsnh1 Les Paul Studio Lt Cuo                                                                                            |742.676  |\n|Guitarra Eléctrica EpiPhone Sg Special 90s Verde                                                                                                        |1.194.998|\n|Guitarra EpiPhone Sg Power Players Ice Blue                                                                                                             |780.205  |\n|Guitarra Electrica EpiPhone Les Paul Lp-100 Dist Oficial..                                                                                              |1.679.990|\n|Guitarra Eléctrica EpiPhone Les Paul Muse Jet Black Cuota                                                                                               |1.672.519|\n|Guitarra Electrica EpiPhone Les Paul Standard 50s Vs                                                                                                    |1.976.191|\n|Guitarra Electrica  EpiPhone Explorer Detalle Musicapilar                                                                                               |647.600  |\n|Guitarra Eléctrica EpiPhone Prophecy Flying V Ebony Negra                                                                                               |1.907.578|\n|Guitarra Eléctrica EpiPhone Eiscebgh1 Sg Custom Eb Black                                                                                                |1.771.264|\n|Guitarra Eléctrica EpiPhone Crestwood Custom Encolada                                                                                                   |2.226.054|\n|Guitarra Electrica EpiPhone Sg Power Player Kit Junior 3/4 N                                                                                            |897.237  |\n|Guitarra Eléctrica EpiPhone Etcavsch1 Casino Vs Sunburst Cuo                                                                                            |2.181.612|\n|Guitarra Eléctrica EpiPhone Casino Natural Semi Hollow                                                                                                  |2.061.062|\n|Guitarra Eléctrica EpiPhone Les Paul Standard 60 Zurda Ebony                                                                                            |2.405.798|\n|Guitarra EpiPhone Les Paul Studio Alpine Blanca Solida                                                                                                  |1.792.497|\n|Guitarra EpiPhone Flying V Dave Mustaine Ebony                                                                                                          |3.654.127|\n|Guitarra EpiPhone Les Paul Negra Standard 60s Zurda                                                                                                     |2.577.641|\n|Guitarra Eléctrica EpiPhone Les Paul Special I P90 Tv Yellow                                                                                            |931.168  |\n|Combo Guitarra EpiPhone Les Paul Ve Funda Encordado Gratis                                                                                              |599.777  |\n|Guitarra EpiPhone Ena2aanh3 Lp Special Ii Slash Afd Cuo                                                                                                 |789.094  |\n|Guitarra EpiPhone Sg Special P-90 Pelham Blue                                                                                                           |1.374.248|\n|Guitarra Eléctrica EpiPhone Modern Sg Muse Smoked Almond                                                                                                |1.317.461|\n|Guitarra EpiPhone Adam Jones Les Paul Custom The Berserker                                                                                              |4.424.456|\n|Guitarra Eléctrica EpiPhone Sg Muse Radio Blue Metallic                                                                                                 |1.145.618|\n|Guitarra Eléctrica EpiPhone Sg Custom Negra Brillo                                                                                                      |2.350.492|\n|Combo Guitarra EpiPhone Lp Sl Celeste Funda Encordado Gratis                                                                                            |386.005  |\n|Guitarra Electrica EpiPhone Casino Natural Semi Hollow                                                                                                  |2.599.368|\n|Guitarra Eléctrica EpiPhone Sg Muse Wanderlust Green                                                                                                    |1.317.461|\n|Guitarra EpiPhone Sg Special P-90 Roja Brillo                                                                                                           |1.672.997|\n|Guitarra EpiPhone Firebird Vintage Sunburst Envío                                                                                                       |1.976.191|\n|Guitarra Eléctrica EpiPhone Les Paul Standard 60's Bb Cuota                                                                                             |2.171.778|\n|Guitarra Eléctrica EpiPhone Iges339vsnh1 Es-339 Vs Semi H Cu                                                                                            |1.717.439|\n|Guitarra Eléctrica EpiPhone Sg Special P-90 Roja Mics P90                                                                                               |1.374.248|\n|Guitarra Eléctrica EpiPhone Crestwood Custom Cherry                                                                                                     |1.590.039|\n|Guitarra EpiPhone Emperor Swingster Black Aged Gloss                                                                                                    |1.777.683|\n|Guitarra Eléctrica EpiPhone Sg Muse Smoked Almond Metallic                                                                                              |1.145.618|\n|Guitarra EpiPhone Les Paul Standard 50s Vintage Laca                                                                                                    |2.577.641|\n|Guitarra EpiPhone Sheraton Pro 2 Negra Eb Dealer Autorizado                                                                                             |3.374.636|\n|Guitarra EpiPhone Les Paul Standard 60s Ebony Para Zurdos                                                                                               |1.976.191|\n|Guitarra EpiPhone Les Paul Standard 50s Vintage                                                                                                         |2.405.798|\n|Guitarra EpiPhone Casino Natural Dealer Autorizado                                                                                                      |3.156.375|\n|Guitarra EpiPhone Sg Prophecy Series Roja Diapasón De Ébano                                                                                             |3.225.508|\n|Guitarra Eléctrica EpiPhone Sg Standard Color Blanco                                                                                                    |1.323.386|\n|Guitarra Eléctrica EpiPhone Es-335 Blueberry Burst                                                                                                      |2.577.641|\n|Guitarra Eléctrica EpiPhone Eivybagbnh1 Flyingv Prophecy Bag                                                                                            |2.761.088|\n|Guitarra Electrica EpiPhone Les Paul Std 60s Iced Tea Eils6i                                                                                            |1.835.157|\n|Guitarra Electrica EpiPhone Les Paul Lp-100 Pink..                                                                                                      |1.829.990|\n|Guitarra Electrica EpiPhone Casino Caja + Mic P90 - Natural                                                                                             |1.856.691|\n|Guitarra Eléctrica  EpiPhone Es Riviera Sparkling Burgundy                                                                                              |2.248.769|\n|Guitarra Eléctrica EpiPhone Eilmfclfnh1 Lp Modern Figure Cuo                                                                                            |2.181.612|\n|Guitarra Eléctrica EpiPhone Sg Standard Ebony Color Negra                                                                                               |1.521.894|\n|Guitarra Electrica EpiPhone Sheraton 2 Pro 2020 Prm                                                                                                     |2.282.843|\n|Guitarra EpiPhone Casino Worn Denim Acabado Satinado                                                                                                    |1.521.894|\n|Guitarra Eléctrica EpiPhone Archtop Casino De Arce Natural B                                                                                            |2.346.519|\n|Guitarra Eléctrica EpiPhone Es-335 Azul Burst                                                                                                           |1.718.427|\n|Guitarra EpiPhone Flying V Prophecy Yellow Tiger Aged Gloss                                                                                             |3.327.026|\n|Guitarra Electrica EpiPhone Joe Pass Emperor Ii Pro Vs Prm                                                                                              |2.135.196|\n|Guitarra EpiPhone Es-335 Blue Berry Burst                                                                                                               |2.148.034|\n|Guitarra EpiPhone Les Paul Standard 50s Vintage Sunburst                                                                                                |1.718.427|\n|Guitarra Eléctrica EpiPhone Eivybagbnh1 Flyingv Prophecy Cuo                                                                                            |3.075.145|\n|Guitarra EpiPhone Les Paul Special Sunburst Vintage Satin                                                                                               |711.073  |\n|Guitarra Eléctrica EpiPhone Es-335 Blue Burst Semi Hueca                                                                                                |1.976.191|\n|Guitarra Eléctrica EpiPhone Casino Natural Hueca                                                                                                        |1.856.691|\n|Guitarra EpiPhone Les Paul Special I Amarilla P90s Laurel                                                                                               |1.042.908|\n|Guitarra Electrica EpiPhone Les Paul Lp-100 Pink Nueva                                                                                                  |1.401.909|\n|Guitarra Electrica EpiPhone Flying V Ebony Grey Music                                                                                                   |1.902.545|\n|Guitarra Eléctrica EpiPhone Sheraton Ii Pro                                                                                                             |2.136.886|\n|Guitarra EpiPhone Les Paul Special Ii Cherry Sunburst                                                                                                   |722.359  |\n+--------------------------------------------------------------------------------------------------------------------------------------------------------+---------+\n\n"
     ]
    }
   ],
   "source": [
    "# observo la cantidad y el data frame por arriba \n",
    "epi_count = df_epiphone.count()\n",
    "print(epi_count)\n",
    "df_epiphone.show(epi_count,False)"
   ]
  },
  {
   "cell_type": "code",
   "execution_count": 0,
   "metadata": {
    "application/vnd.databricks.v1+cell": {
     "cellMetadata": {
      "byteLimit": 2048000,
      "rowLimit": 10000
     },
     "inputWidgets": {},
     "nuid": "e516d734-fb9a-4d58-9f2d-0ef4dec418d2",
     "showTitle": false,
     "tableResultSettingsMap": {},
     "title": ""
    }
   },
   "outputs": [],
   "source": [
    "# declaro las listas con las palabras clave\n",
    "guitar_type = [\"eléctrica\",\"electrica\"]\n",
    "\n",
    "brand = [\"epiphone\"]\n",
    "\n",
    "epi_model = [\n",
    "    \"les paul\", \"sg\", \"sheraton II pro\"\n",
    "]\n",
    "\n",
    "epi_series = [\n",
    "    \" special I/II \", \"studio\", \"standard\", \"custom\", \"modern\", \"melody maker\",\n",
    "    \"special\", \"sheraton\",\"es-335\"\n",
    "]\n",
    "\n",
    "# creo las UDF\n",
    "extract_type_udf = extract_from_list_udf_creator(guitar_type)\n",
    "extract_brand_udf = extract_from_list_udf_creator(brand)\n",
    "extract_model_udf = extract_from_list_udf_creator(epi_model)\n",
    "extract_series_udf = extract_from_list_udf_creator(epi_series)\n",
    "\n",
    "# hago las transformaciones\n",
    "df_epiphone = df_epiphone.withColumn(\"title_lower\", lower(col(\"title\"))) \\\n",
    "    .withColumn(\"type\", extract_type_udf(col(\"title_lower\"))) \\\n",
    "    .withColumn(\"brand\", extract_brand_udf(col(\"title_lower\"))) \\\n",
    "    .withColumn(\"model\", extract_model_udf(col(\"title_lower\"))) \\\n",
    "    .withColumn(\"series\", extract_series_udf(col(\"title_lower\"))) "
   ]
  },
  {
   "cell_type": "markdown",
   "metadata": {
    "application/vnd.databricks.v1+cell": {
     "cellMetadata": {
      "byteLimit": 2048000,
      "rowLimit": 10000
     },
     "inputWidgets": {},
     "nuid": "e49b2244-f560-4dff-93b8-67efdbd08b4d",
     "showTitle": false,
     "tableResultSettingsMap": {},
     "title": ""
    }
   },
   "source": [
    "### Observo la cantidad de valores nulos"
   ]
  },
  {
   "cell_type": "code",
   "execution_count": 0,
   "metadata": {
    "application/vnd.databricks.v1+cell": {
     "cellMetadata": {
      "byteLimit": 2048000,
      "rowLimit": 10000
     },
     "inputWidgets": {},
     "nuid": "b988d626-9571-4601-9f32-ace41283ccd8",
     "showTitle": false,
     "tableResultSettingsMap": {},
     "title": ""
    }
   },
   "outputs": [
    {
     "output_type": "stream",
     "name": "stdout",
     "output_type": "stream",
     "text": [
      "+--------+---------+------------+--------+\n|brand   |type     |series      |model   |\n+--------+---------+------------+--------+\n|epiphone|eléctrica|special     |les paul|\n|epiphone|eléctrica|special     |les paul|\n|epiphone|eléctrica|standard    |les paul|\n|epiphone|eléctrica|melody maker|les paul|\n|epiphone|eléctrica|null        |sg      |\n|epiphone|eléctrica|standard    |les paul|\n|epiphone|eléctrica|special     |les paul|\n|epiphone|eléctrica|studio      |les paul|\n|epiphone|eléctrica|modern      |les paul|\n|epiphone|eléctrica|studio      |les paul|\n|epiphone|eléctrica|studio      |les paul|\n|epiphone|eléctrica|melody maker|les paul|\n|epiphone|electrica|special     |null    |\n|epiphone|null     |special     |null    |\n|epiphone|null     |custom      |null    |\n|epiphone|eléctrica|modern      |sg      |\n|epiphone|eléctrica|melody maker|les paul|\n|epiphone|eléctrica|melody maker|les paul|\n|epiphone|null     |null        |les paul|\n|epiphone|null     |special     |les paul|\n|epiphone|eléctrica|special     |les paul|\n|epiphone|eléctrica|special     |les paul|\n|epiphone|null     |null        |les paul|\n|epiphone|eléctrica|modern      |les paul|\n|epiphone|eléctrica|standard    |les paul|\n|epiphone|eléctrica|modern      |les paul|\n|epiphone|eléctrica|special     |les paul|\n|epiphone|eléctrica|standard    |les paul|\n|epiphone|eléctrica|studio      |les paul|\n|epiphone|eléctrica|null        |null    |\n|epiphone|null     |null        |null    |\n|epiphone|null     |null        |les paul|\n|epiphone|null     |null        |les paul|\n|epiphone|null     |null        |null    |\n|epiphone|null     |sheraton    |null    |\n|epiphone|eléctrica|null        |null    |\n|epiphone|null     |standard    |sg      |\n|epiphone|eléctrica|standard    |les paul|\n|epiphone|null     |null        |null    |\n|epiphone|eléctrica|standard    |les paul|\n|epiphone|null     |null        |null    |\n|epiphone|eléctrica|es-335      |null    |\n|epiphone|eléctrica|standard    |sg      |\n|epiphone|eléctrica|modern      |les paul|\n|epiphone|null     |standard    |sg      |\n|epiphone|null     |null        |null    |\n|epiphone|eléctrica|standard    |sg      |\n|epiphone|eléctrica|es-335      |null    |\n|epiphone|eléctrica|standard    |les paul|\n|epiphone|eléctrica|modern      |les paul|\n|epiphone|eléctrica|modern      |les paul|\n|epiphone|eléctrica|null        |null    |\n|epiphone|eléctrica|es-335      |null    |\n|epiphone|eléctrica|null        |null    |\n|epiphone|eléctrica|sheraton    |null    |\n|epiphone|eléctrica|melody maker|les paul|\n|epiphone|eléctrica|null        |null    |\n|epiphone|null     |special     |null    |\n|epiphone|eléctrica|modern      |les paul|\n|epiphone|null     |null        |les paul|\n|epiphone|eléctrica|null        |null    |\n|epiphone|eléctrica|modern      |les paul|\n|epiphone|eléctrica|null        |null    |\n|epiphone|electrica|null        |null    |\n|epiphone|eléctrica|modern      |les paul|\n|epiphone|null     |special     |les paul|\n|epiphone|eléctrica|custom      |sg      |\n|epiphone|null     |null        |null    |\n|epiphone|electrica|modern      |les paul|\n|epiphone|eléctrica|null        |null    |\n|epiphone|eléctrica|melody maker|les paul|\n|epiphone|eléctrica|studio      |les paul|\n|epiphone|eléctrica|null        |null    |\n|epiphone|eléctrica|null        |null    |\n|epiphone|null     |studio      |les paul|\n|epiphone|null     |null        |les paul|\n|epiphone|electrica|null        |null    |\n|epiphone|eléctrica|standard    |les paul|\n|epiphone|eléctrica|null        |les paul|\n|epiphone|eléctrica|standard    |les paul|\n|epiphone|eléctrica|null        |null    |\n|epiphone|null     |special     |les paul|\n|epiphone|null     |null        |les paul|\n|epiphone|electrica|null        |les paul|\n|epiphone|eléctrica|modern      |sg      |\n|epiphone|null     |null        |null    |\n|epiphone|electrica|null        |les paul|\n|epiphone|eléctrica|modern      |sg      |\n|epiphone|eléctrica|modern      |sg      |\n|epiphone|null     |null        |null    |\n|epiphone|electrica|null        |les paul|\n|epiphone|null     |sheraton    |null    |\n|epiphone|null     |null        |les paul|\n|epiphone|null     |null        |null    |\n|epiphone|eléctrica|modern      |sg      |\n|epiphone|null     |studio      |les paul|\n|epiphone|null     |modern      |les paul|\n|epiphone|electrica|modern      |les paul|\n|epiphone|eléctrica|null        |null    |\n|epiphone|eléctrica|special     |les paul|\n|epiphone|eléctrica|null        |null    |\n|epiphone|null     |standard    |les paul|\n|epiphone|null     |standard    |les paul|\n|epiphone|null     |modern      |les paul|\n|epiphone|null     |null        |null    |\n|epiphone|eléctrica|standard    |les paul|\n|epiphone|null     |null        |null    |\n|epiphone|eléctrica|special     |les paul|\n|epiphone|eléctrica|modern      |sg      |\n|epiphone|null     |standard    |sg      |\n|epiphone|eléctrica|null        |null    |\n|epiphone|null     |null        |les paul|\n|epiphone|null     |null        |les paul|\n|epiphone|eléctrica|standard    |les paul|\n|epiphone|eléctrica|null        |les paul|\n|epiphone|eléctrica|null        |les paul|\n|epiphone|electrica|null        |les paul|\n|epiphone|null     |null        |les paul|\n|epiphone|null     |null        |null    |\n|epiphone|eléctrica|null        |null    |\n|epiphone|eléctrica|null        |les paul|\n|epiphone|electrica|modern      |les paul|\n|epiphone|null     |null        |les paul|\n|epiphone|null     |null        |null    |\n|epiphone|null     |studio      |les paul|\n|epiphone|eléctrica|standard    |les paul|\n|epiphone|null     |null        |null    |\n|epiphone|eléctrica|modern      |null    |\n|epiphone|eléctrica|null        |les paul|\n|epiphone|eléctrica|null        |les paul|\n|epiphone|null     |null        |les paul|\n|epiphone|null     |es-335      |null    |\n|epiphone|eléctrica|null        |null    |\n|epiphone|electrica|null        |sg      |\n|epiphone|null     |standard    |les paul|\n|epiphone|null     |special     |sg      |\n|epiphone|eléctrica|null        |null    |\n|epiphone|null     |null        |sg      |\n|epiphone|null     |special     |les paul|\n|epiphone|electrica|null        |les paul|\n|epiphone|null     |modern      |les paul|\n|epiphone|null     |null        |null    |\n|epiphone|null     |modern      |les paul|\n|epiphone|null     |modern      |les paul|\n|epiphone|null     |null        |les paul|\n|epiphone|null     |null        |les paul|\n|epiphone|null     |null        |les paul|\n|epiphone|null     |custom      |null    |\n|epiphone|eléctrica|null        |les paul|\n|epiphone|null     |null        |null    |\n|epiphone|eléctrica|null        |null    |\n|epiphone|eléctrica|null        |null    |\n|epiphone|null     |null        |les paul|\n|epiphone|eléctrica|null        |null    |\n|epiphone|null     |modern      |les paul|\n|epiphone|eléctrica|standard    |les paul|\n|epiphone|null     |null        |null    |\n|epiphone|eléctrica|null        |null    |\n|epiphone|eléctrica|null        |null    |\n|epiphone|null     |studio      |les paul|\n|epiphone|eléctrica|null        |null    |\n|epiphone|eléctrica|null        |les paul|\n|epiphone|null     |modern      |les paul|\n|epiphone|null     |special     |les paul|\n|epiphone|eléctrica|special     |sg      |\n|epiphone|null     |null        |null    |\n|epiphone|null     |null        |null    |\n|epiphone|null     |null        |les paul|\n|epiphone|null     |null        |les paul|\n|epiphone|null     |custom      |null    |\n|epiphone|eléctrica|null        |null    |\n|epiphone|eléctrica|null        |null    |\n|epiphone|null     |null        |null    |\n|epiphone|null     |null        |les paul|\n|epiphone|null     |null        |null    |\n|epiphone|null     |null        |les paul|\n|epiphone|null     |null        |null    |\n|epiphone|null     |null        |null    |\n|epiphone|null     |null        |null    |\n|epiphone|eléctrica|null        |les paul|\n|epiphone|electrica|modern      |les paul|\n|epiphone|eléctrica|null        |les paul|\n|epiphone|eléctrica|modern      |les paul|\n|epiphone|eléctrica|modern      |sg      |\n|epiphone|null     |null        |les paul|\n|epiphone|eléctrica|null        |null    |\n|epiphone|null     |studio      |les paul|\n|epiphone|null     |standard    |les paul|\n|epiphone|eléctrica|null        |les paul|\n|epiphone|null     |standard    |les paul|\n|epiphone|electrica|studio      |les paul|\n|epiphone|eléctrica|special     |sg      |\n|epiphone|eléctrica|null        |null    |\n|epiphone|null     |null        |null    |\n|epiphone|electrica|null        |null    |\n|epiphone|eléctrica|null        |les paul|\n|epiphone|null     |null        |sg      |\n|epiphone|eléctrica|null        |les paul|\n|epiphone|eléctrica|null        |les paul|\n|epiphone|eléctrica|null        |les paul|\n|epiphone|electrica|modern      |les paul|\n|epiphone|electrica|modern      |les paul|\n|epiphone|eléctrica|sheraton    |null    |\n|epiphone|null     |studio      |les paul|\n|epiphone|electrica|modern      |les paul|\n|epiphone|eléctrica|studio      |les paul|\n|epiphone|eléctrica|modern      |sg      |\n|epiphone|eléctrica|es-335      |null    |\n|epiphone|electrica|null        |null    |\n|epiphone|null     |studio      |les paul|\n|epiphone|null     |special     |null    |\n|epiphone|eléctrica|null        |les paul|\n|epiphone|eléctrica|null        |les paul|\n|epiphone|eléctrica|null        |sg      |\n|epiphone|null     |null        |les paul|\n|epiphone|eléctrica|null        |null    |\n|epiphone|electrica|studio      |les paul|\n|epiphone|eléctrica|null        |null    |\n|epiphone|eléctrica|modern      |les paul|\n|epiphone|null     |custom      |null    |\n|epiphone|eléctrica|studio      |les paul|\n|epiphone|null     |null        |sg      |\n|epiphone|eléctrica|standard    |les paul|\n|epiphone|null     |null        |null    |\n|epiphone|electrica|null        |les paul|\n|epiphone|eléctrica|null        |les paul|\n|epiphone|electrica|null        |null    |\n|epiphone|electrica|null        |null    |\n|epiphone|eléctrica|standard    |les paul|\n|epiphone|electrica|null        |null    |\n|epiphone|null     |es-335      |null    |\n|epiphone|eléctrica|null        |les paul|\n|epiphone|null     |studio      |les paul|\n|epiphone|null     |null        |null    |\n|epiphone|null     |null        |sg      |\n|epiphone|null     |studio      |les paul|\n|epiphone|null     |null        |sg      |\n|epiphone|eléctrica|null        |null    |\n|epiphone|eléctrica|null        |null    |\n|epiphone|null     |null        |null    |\n|epiphone|eléctrica|melody maker|les paul|\n|epiphone|null     |special     |les paul|\n|epiphone|null     |null        |les paul|\n|epiphone|null     |special     |les paul|\n|epiphone|eléctrica|null        |null    |\n|epiphone|electrica|null        |les paul|\n|epiphone|null     |studio      |les paul|\n|epiphone|null     |null        |null    |\n|epiphone|electrica|null        |les paul|\n|epiphone|electrica|null        |les paul|\n|epiphone|null     |null        |sg      |\n|epiphone|null     |null        |null    |\n|epiphone|eléctrica|null        |null    |\n|epiphone|eléctrica|null        |les paul|\n|epiphone|electrica|melody maker|les paul|\n|epiphone|null     |custom      |les paul|\n|epiphone|null     |standard    |les paul|\n|epiphone|eléctrica|standard    |les paul|\n|epiphone|null     |null        |sg      |\n|epiphone|eléctrica|special     |les paul|\n|epiphone|null     |custom      |null    |\n|null    |null     |standard    |les paul|\n|epiphone|null     |standard    |les paul|\n|epiphone|null     |standard    |sg      |\n|epiphone|null     |custom      |null    |\n|epiphone|eléctrica|null        |sg      |\n|epiphone|electrica|melody maker|les paul|\n|epiphone|electrica|special     |les paul|\n|epiphone|null     |null        |les paul|\n|epiphone|electrica|modern      |les paul|\n|epiphone|electrica|modern      |sg      |\n|epiphone|eléctrica|null        |les paul|\n|epiphone|null     |null        |sg      |\n|epiphone|null     |null        |null    |\n|epiphone|null     |null        |null    |\n|epiphone|null     |null        |sg      |\n|epiphone|null     |modern      |les paul|\n|epiphone|electrica|studio      |les paul|\n|epiphone|null     |null        |sg      |\n|epiphone|null     |null        |les paul|\n|epiphone|null     |null        |sg      |\n|epiphone|null     |sheraton    |null    |\n|epiphone|eléctrica|melody maker|null    |\n|epiphone|null     |null        |les paul|\n|epiphone|eléctrica|null        |null    |\n|epiphone|electrica|null        |null    |\n|epiphone|eléctrica|studio      |les paul|\n|epiphone|null     |null        |sg      |\n|epiphone|null     |null        |les paul|\n|epiphone|eléctrica|modern      |sg      |\n|epiphone|eléctrica|null        |null    |\n|epiphone|electrica|modern      |sg      |\n|epiphone|null     |null        |sg      |\n|epiphone|null     |null        |null    |\n|epiphone|null     |studio      |les paul|\n|epiphone|null     |standard    |les paul|\n|epiphone|null     |null        |null    |\n|epiphone|eléctrica|null        |les paul|\n|epiphone|null     |special     |null    |\n|epiphone|null     |special     |sg      |\n|epiphone|null     |null        |les paul|\n|epiphone|null     |modern      |les paul|\n|epiphone|electrica|null        |les paul|\n|epiphone|electrica|null        |les paul|\n|epiphone|electrica|null        |null    |\n|epiphone|electrica|null        |les paul|\n|epiphone|electrica|special     |les paul|\n|epiphone|electrica|modern      |les paul|\n|epiphone|eléctrica|null        |sg      |\n|epiphone|null     |null        |les paul|\n|epiphone|electrica|null        |null    |\n|epiphone|null     |null        |null    |\n|epiphone|null     |null        |null    |\n|epiphone|null     |standard    |les paul|\n|epiphone|null     |null        |null    |\n|epiphone|null     |null        |null    |\n|epiphone|eléctrica|null        |null    |\n|epiphone|null     |null        |les paul|\n|epiphone|eléctrica|modern      |null    |\n|epiphone|null     |null        |null    |\n|epiphone|null     |null        |null    |\n|epiphone|null     |null        |null    |\n|epiphone|electrica|modern      |les paul|\n|epiphone|null     |special     |les paul|\n|epiphone|electrica|null        |null    |\n|epiphone|electrica|null        |les paul|\n|epiphone|eléctrica|null        |null    |\n|epiphone|electrica|null        |null    |\n|epiphone|null     |null        |null    |\n|epiphone|null     |null        |les paul|\n|epiphone|electrica|modern      |les paul|\n|epiphone|eléctrica|standard    |les paul|\n|epiphone|null     |null        |sg      |\n|epiphone|null     |null        |les paul|\n|epiphone|null     |null        |null    |\n|epiphone|null     |standard    |les paul|\n|epiphone|eléctrica|special     |les paul|\n|epiphone|null     |null        |null    |\n|epiphone|electrica|null        |les paul|\n|epiphone|null     |null        |null    |\n|epiphone|electrica|null        |null    |\n|epiphone|null     |null        |null    |\n|epiphone|null     |custom      |les paul|\n|epiphone|null     |custom      |null    |\n|epiphone|eléctrica|null        |null    |\n|epiphone|eléctrica|special     |les paul|\n|epiphone|null     |null        |sg      |\n|epiphone|eléctrica|special     |les paul|\n|epiphone|eléctrica|null        |null    |\n|epiphone|eléctrica|null        |sg      |\n|epiphone|eléctrica|null        |sg      |\n|epiphone|eléctrica|custom      |sg      |\n|epiphone|null     |null        |les paul|\n|epiphone|eléctrica|null        |sg      |\n|epiphone|electrica|sheraton    |null    |\n|epiphone|eléctrica|null        |sg      |\n|epiphone|electrica|null        |null    |\n|epiphone|null     |custom      |les paul|\n|epiphone|null     |null        |sg      |\n|epiphone|null     |null        |sg      |\n|epiphone|electrica|null        |sg      |\n|epiphone|null     |standard    |les paul|\n|epiphone|null     |null        |les paul|\n|epiphone|eléctrica|special     |les paul|\n|epiphone|null     |null        |sg      |\n|epiphone|null     |special     |les paul|\n|epiphone|null     |special     |les paul|\n|epiphone|electrica|special     |null    |\n|epiphone|eléctrica|standard    |sg      |\n|epiphone|eléctrica|special     |les paul|\n|epiphone|null     |null        |null    |\n|epiphone|electrica|null        |les paul|\n|epiphone|eléctrica|special     |les paul|\n|epiphone|eléctrica|null        |les paul|\n|epiphone|eléctrica|null        |les paul|\n|epiphone|electrica|studio      |les paul|\n|epiphone|eléctrica|standard    |les paul|\n|epiphone|eléctrica|modern      |les paul|\n|epiphone|eléctrica|null        |les paul|\n|epiphone|electrica|studio      |les paul|\n|epiphone|eléctrica|special     |les paul|\n|epiphone|eléctrica|standard    |les paul|\n|epiphone|eléctrica|studio      |les paul|\n|epiphone|null     |null        |null    |\n|epiphone|eléctrica|null        |null    |\n|epiphone|electrica|null        |null    |\n|epiphone|electrica|modern      |les paul|\n|epiphone|eléctrica|null        |null    |\n|epiphone|null     |special     |les paul|\n|epiphone|eléctrica|custom      |null    |\n|epiphone|eléctrica|studio      |les paul|\n|epiphone|null     |null        |sg      |\n|epiphone|electrica|null        |sg      |\n|epiphone|eléctrica|standard    |les paul|\n|epiphone|null     |special     |sg      |\n|epiphone|eléctrica|special     |les paul|\n|epiphone|eléctrica|null        |sg      |\n|epiphone|null     |studio      |les paul|\n|epiphone|eléctrica|special     |les paul|\n|epiphone|eléctrica|special     |les paul|\n|epiphone|electrica|null        |sg      |\n|epiphone|eléctrica|null        |null    |\n|epiphone|electrica|modern      |sg      |\n|epiphone|null     |special     |les paul|\n|epiphone|null     |standard    |les paul|\n|epiphone|electrica|null        |null    |\n|epiphone|electrica|null        |les paul|\n|epiphone|electrica|null        |les paul|\n|epiphone|null     |null        |sg      |\n|epiphone|electrica|null        |les paul|\n|epiphone|eléctrica|null        |null    |\n|epiphone|eléctrica|null        |les paul|\n|epiphone|null     |null        |sg      |\n|epiphone|eléctrica|null        |sg      |\n|epiphone|electrica|null        |les paul|\n|epiphone|null     |standard    |sg      |\n|epiphone|eléctrica|null        |les paul|\n|epiphone|null     |standard    |les paul|\n|epiphone|eléctrica|studio      |les paul|\n|epiphone|null     |standard    |sg      |\n|epiphone|null     |special     |sg      |\n|epiphone|eléctrica|null        |null    |\n|epiphone|eléctrica|special     |les paul|\n|epiphone|electrica|null        |les paul|\n|epiphone|null     |standard    |les paul|\n|epiphone|eléctrica|standard    |null    |\n|epiphone|null     |null        |sg      |\n|epiphone|eléctrica|standard    |null    |\n|epiphone|eléctrica|es-335      |null    |\n|epiphone|eléctrica|null        |null    |\n|epiphone|eléctrica|custom      |sg      |\n|epiphone|null     |special     |les paul|\n|epiphone|null     |standard    |sg      |\n|epiphone|electrica|null        |sg      |\n|epiphone|null     |standard    |les paul|\n|epiphone|eléctrica|special     |les paul|\n|epiphone|null     |studio      |les paul|\n|epiphone|null     |null        |null    |\n|epiphone|eléctrica|special     |les paul|\n|epiphone|eléctrica|null        |null    |\n|epiphone|eléctrica|null        |sg      |\n|epiphone|eléctrica|studio      |les paul|\n|epiphone|eléctrica|null        |les paul|\n|epiphone|eléctrica|null        |null    |\n|epiphone|eléctrica|standard    |les paul|\n|epiphone|eléctrica|null        |null    |\n|epiphone|electrica|studio      |les paul|\n|epiphone|eléctrica|special     |sg      |\n|epiphone|eléctrica|null        |les paul|\n|epiphone|electrica|standard    |les paul|\n|epiphone|eléctrica|null        |sg      |\n|epiphone|eléctrica|studio      |les paul|\n|epiphone|eléctrica|null        |les paul|\n|epiphone|eléctrica|null        |null    |\n|epiphone|eléctrica|standard    |les paul|\n|epiphone|eléctrica|null        |null    |\n|epiphone|electrica|studio      |les paul|\n|epiphone|eléctrica|special     |sg      |\n|epiphone|null     |null        |sg      |\n|epiphone|electrica|null        |les paul|\n|epiphone|eléctrica|null        |les paul|\n|epiphone|electrica|standard    |les paul|\n|epiphone|electrica|null        |null    |\n|epiphone|eléctrica|null        |null    |\n|epiphone|eléctrica|custom      |sg      |\n|epiphone|eléctrica|custom      |null    |\n|epiphone|electrica|null        |sg      |\n|epiphone|eléctrica|null        |null    |\n|epiphone|eléctrica|null        |null    |\n|epiphone|eléctrica|standard    |les paul|\n|epiphone|null     |studio      |les paul|\n|epiphone|null     |null        |null    |\n|epiphone|null     |standard    |les paul|\n|epiphone|eléctrica|special     |les paul|\n|epiphone|null     |null        |les paul|\n|epiphone|null     |special     |null    |\n|epiphone|null     |special     |sg      |\n|epiphone|eléctrica|modern      |sg      |\n|epiphone|null     |custom      |les paul|\n|epiphone|eléctrica|null        |sg      |\n|epiphone|eléctrica|custom      |sg      |\n|epiphone|null     |null        |null    |\n|epiphone|electrica|null        |null    |\n|epiphone|eléctrica|null        |sg      |\n|epiphone|null     |special     |sg      |\n|epiphone|null     |null        |null    |\n|epiphone|eléctrica|standard    |les paul|\n|epiphone|eléctrica|null        |null    |\n|epiphone|eléctrica|special     |sg      |\n|epiphone|eléctrica|custom      |null    |\n|epiphone|null     |null        |null    |\n|epiphone|eléctrica|null        |sg      |\n|epiphone|null     |standard    |les paul|\n|epiphone|null     |sheraton    |null    |\n|epiphone|null     |standard    |les paul|\n|epiphone|null     |standard    |les paul|\n|epiphone|null     |null        |null    |\n|epiphone|null     |null        |sg      |\n|epiphone|eléctrica|standard    |sg      |\n|epiphone|eléctrica|es-335      |null    |\n+--------+---------+------------+--------+\nonly showing top 500 rows\n\n"
     ]
    }
   ],
   "source": [
    "df_epiphone.select('brand','type','series','model').show(500,False)"
   ]
  },
  {
   "cell_type": "code",
   "execution_count": 0,
   "metadata": {
    "application/vnd.databricks.v1+cell": {
     "cellMetadata": {
      "byteLimit": 2048000,
      "rowLimit": 10000
     },
     "inputWidgets": {},
     "nuid": "ca392b01-f1ff-4c26-846b-cd7917dbff6e",
     "showTitle": false,
     "tableResultSettingsMap": {},
     "title": ""
    }
   },
   "outputs": [
    {
     "output_type": "stream",
     "name": "stdout",
     "output_type": "stream",
     "text": [
      "null brand: 1\nnull types: 212\nnull series: 272\nnull models: 179\nresultados sin nulos en type o series: 156\nde 524 resultados\n"
     ]
    }
   ],
   "source": [
    "# contamos los datos nulos\n",
    "\n",
    "nulos_brand = df_epiphone.filter(col(\"brand\").isNull()).count()\n",
    "\n",
    "nulos_tipo = df_epiphone.filter(col(\"type\").isNull()).count()\n",
    "\n",
    "nulos_serie = df_epiphone.filter(col(\"series\").isNull()).count()\n",
    "\n",
    "nulos_modelo = df_epiphone.filter(col(\"model\").isNull()).count()\n",
    "\n",
    "print(f\"null brand: {nulos_brand}\")\n",
    "print(f\"null types: {nulos_tipo}\")\n",
    "print(f\"null series: {nulos_serie}\")\n",
    "print(f\"null models: {nulos_modelo}\")\n",
    "print(f\"resultados sin nulos en type o series: {df_epiphone.filter(col('type').isNotNull() & col('series').isNotNull()).count()}\")\n",
    "print(f\"de {df_epiphone.count()} resultados\")"
   ]
  },
  {
   "cell_type": "markdown",
   "metadata": {
    "application/vnd.databricks.v1+cell": {
     "cellMetadata": {
      "byteLimit": 2048000,
      "rowLimit": 10000
     },
     "inputWidgets": {},
     "nuid": "f17ab29e-91ea-4795-914c-fc672addfd69",
     "showTitle": false,
     "tableResultSettingsMap": {},
     "title": ""
    }
   },
   "source": [
    "### Problema 1: Demasiados nulos en 'series'"
   ]
  },
  {
   "cell_type": "code",
   "execution_count": 0,
   "metadata": {
    "application/vnd.databricks.v1+cell": {
     "cellMetadata": {
      "byteLimit": 2048000,
      "rowLimit": 10000
     },
     "inputWidgets": {},
     "nuid": "f1ec74bb-bfd8-4b9c-8515-19c24ed3e1ae",
     "showTitle": false,
     "tableResultSettingsMap": {},
     "title": ""
    }
   },
   "outputs": [
    {
     "output_type": "stream",
     "name": "stdout",
     "output_type": "stream",
     "text": [
      "+---------------------------------------------------------------------------------------------------------------------------------------+------+--------+\n|title_lower                                                                                                                            |series|model   |\n+---------------------------------------------------------------------------------------------------------------------------------------+------+--------+\n|guitarra eléctrica epiphone original collection casino worn de arce blue denim desgastado con diapasón de laurel indio                 |null  |sg      |\n|combo guitarra epiphone les paul ve funda encordado gratis                                                                             |null  |les paul|\n|kit guitarra epiphone les paul ve con funda encordado gratis                                                                           |null  |les paul|\n|guitarra epiphone casino worn denim eléctrica hollow body                                                                              |null  |null    |\n|guitarra epiphone flying v ebony vintage inspirada en gibson cor preto                                                                 |null  |null    |\n|combo guitarra epiphone les paul sv funda encordado gratis                                                                             |null  |les paul|\n|combo guitarra epiphone les paul ve satinada                                                                                           |null  |les paul|\n|guitarra flying v epiphone prophecy black aged gloss                                                                                   |null  |null    |\n|epiphone coronet ebo guitarra eléctrica pastilla p-90 orientación de la mano diestro                                                   |null  |null    |\n|guitarra semi-acústica epiphone es 335 dot vintage sunburst                                                                            |null  |null    |\n|guitarra epiphone wilshire p90s cherry                                                                                                 |null  |null    |\n|guitarra epiphone wilshire p90s cherry                                                                                                 |null  |null    |\n|guitarra eléctrica para zurdo epiphone archtop casino de arce vintage sunburst brillante con diapasón de granadillo brasileño          |null  |null    |\n|guitarra eléctrica epiphone archtop riviera de arce royal tan brillante con diapasón de laurel indio                                   |null  |null    |\n|guitarra eléctrica epiphone coronet mic p90 color cherry                                                                               |null  |null    |\n|epiphone billie joe armstrong, les paul junior player pack material del diapasón maple orientación de la mano diestro                  |null  |les paul|\n|guitarra eléctrica epiphone archtop broadway hollow body de abeto/arce vintage natural con diapasón de granadillo brasileño            |null  |null    |\n|guitarra eléctrica epiphone collection uptown kat es archtop                                                                           |null  |null    |\n|guitarra electrica epiphone casino vintage sunburst color marrón orientación de la mano diestro                                        |null  |null    |\n|guitarra epiphone wilshire p90 cherry                                                                                                  |null  |null    |\n|guitarra eléctrica epiphone archtop riviera de arce sparkling burgundy brillante con diapasón de laurel indio                          |null  |null    |\n|guitarra eléctrica epiphone archtop casino de arce vintage sunburst brillante con diapasón de granadillo brasileño                     |null  |null    |\n|guitarra eléctrica epiphone flying v ebony                                                                                             |null  |null    |\n|guitarra epiphone les paul sl ebony                                                                                                    |null  |les paul|\n|guitarra electrica epiphone es1pplpfbnh1 lp power players                                                                              |null  |null    |\n|guitarra eléctrica epiphone les paul sl cherry sunburst                                                                                |null  |les paul|\n|guitarra eléctrica epiphone coronet cherry con p90                                                                                     |null  |null    |\n|guitarra epiphone les paul sl sunset yellow                                                                                            |null  |les paul|\n|guitarra electrica epiphone les paul muse prm                                                                                          |null  |les paul|\n|guitarra epiphone riviera sparkling burgundy                                                                                           |null  |null    |\n|guitarra electrica epiphone les paul 3/4 niño con accesorios                                                                           |null  |les paul|\n|guitarra epiphone riviera sparkling burgundy                                                                                           |null  |null    |\n|guitarra electrica epiphone les paul 3/4 niño con accesorios                                                                           |null  |les paul|\n|epiphone billie joe armstrong, les paul junior player pack material del diapasón maple orientación de la mano diestro                  |null  |les paul|\n|guitarra epiphone coronet ebony con mic p90                                                                                            |null  |null    |\n|guitarra eléctrica epiphone flying v ebony                                                                                             |null  |null    |\n|guitarra eléctrica epiphone original collection emperor swingster de arce forest green metallic metalizado con diapasón de laurel indio|null  |null    |\n|combo guitarra epiphone lp sl celeste funda encordado                                                                                  |null  |null    |\n|guitarra epiphone riviera royal tan semi hollow                                                                                        |null  |null    |\n|guitarra eléctrica epiphone coronet mic p90                                                                                            |null  |null    |\n|guitarra epiphone les paul muse scarlet red metallic                                                                                   |null  |les paul|\n|guitarra epiphone les paul sl turquoise                                                                                                |null  |les paul|\n|guitarra eléctrica epiphone les paul sl vintage sunburst                                                                               |null  |les paul|\n|guitarra eléctrica epiphone les paul junior tobacco burst                                                                              |null  |les paul|\n|guitarra electrica les paul epiphone radio blue metallic                                                                               |null  |les paul|\n|guitarra epiphone les paul sl ebony                                                                                                    |null  |les paul|\n|guitarra epiphone coronet cherry p90 reissue 2020 color rojo material del diapasón laurel indio                                        |null  |null    |\n|guitarra eléctrica epiphone collection uptown kat es archtop                                                                           |null  |null    |\n|guitarra eléctrica epiphone les paul muse blanco perla                                                                                 |null  |les paul|\n|guitarra epiphone les paul jared james nichols blues power                                                                             |null  |les paul|\n|guitar eléct epiphone riviera royal arce eorrtnh1 cuota                                                                                |null  |null    |\n|guitarra epiphone wilshire p90  ebony                                                                                                  |null  |null    |\n|guitarra eléctrica epiphone les paul sl vint sunburst cuota                                                                            |null  |les paul|\n|guitarra eléctrica epiphone les paul prophecy de caoba olive tiger brillante con diapasón de ébano                                     |null  |les paul|\n|guitarra epiphone les paul sl sunset yellow                                                                                            |null  |les paul|\n|guitarra eléctrica epiphone flying v ebony - eifvebnh1                                                                                 |null  |null    |\n|guitarra electrica epiphone sg tamaño 3/4 niños y accesorios color celeste material del diapasón laurel orientación de la mano diestro |null  |sg      |\n|guitarra eléctrica epiphone collection uptown kat es archtop                                                                           |null  |null    |\n|guitarra epiphone sg prophecy blue tiger aged gloss                                                                                    |null  |sg      |\n|guitarra electrica epiphone les paul 3/4 niño con accesorios color celeste material del diapasón laurel orientación de la mano diestro |null  |les paul|\n|guitarra epiphone broadway hollow body vintage natural                                                                                 |null  |null    |\n|guitarra epiphone les paul muse smoked almon metallic                                                                                  |null  |les paul|\n|guitarra epiphone les paul jared james nichols blues power                                                                             |null  |les paul|\n|guitarra epiphone les paul power player niño lava red                                                                                  |null  |les paul|\n|guitarra eléctrica epiphone les paul prophecy de caoba black brillante con diapasón de ébano                                           |null  |les paul|\n|guitarra epiphone coronet cherry                                                                                                       |null  |null    |\n|guitarra eléctrica epiphone collection uptown kat es archtop                                                                           |null  |null    |\n|guitarra eléctrica epiphone collection uptown kat es archtop                                                                           |null  |null    |\n|guitarra epiphone les paul muse pearl wanderlust green                                                                                 |null  |les paul|\n|guitarra eléctrica epiphone original collection emperor swingster de arce delta blue metallic metalizado con diapasón de laurel indio  |null  |null    |\n|guitarra epiphone coronet cherry                                                                                                       |null  |null    |\n|guitarra eléctrica epiphone broadway vintage natural                                                                                   |null  |null    |\n|guitarra eléctrica epiphone original collection emperor swingster de arce black aged gloss brillante con diapasón de laurel indio      |null  |null    |\n|guitarra eléctrica epiphone prophecy extura de arce/caoba black aged gloss brillante con diapasón de ébano                             |null  |null    |\n|guitarra eléctrica epiphone electric travel les paul express de caoba vintage sunburst níquel con diapasón de granadillo brasileño     |null  |les paul|\n|guitarra epiphone uptown kat es topaz gold metallic                                                                                    |null  |null    |\n|guitarra epiphone coronet ebony                                                                                                        |null  |null    |\n|guitarra epiphone les paul muse pearl wanderlust green cuota                                                                           |null  |les paul|\n|guitarra epiphone les paul prophecy olive tiger aged gloss                                                                             |null  |les paul|\n|guitarra eléctrica epiphone original collection emperor swin                                                                           |null  |null    |\n|guitarra eléctrica epiphone coronet mic p90                                                                                            |null  |null    |\n|guitarra epiphone uptown kat es ruby red metallic                                                                                      |null  |null    |\n|guitarra epiphone les paul muse purple passion metallic cuot                                                                           |null  |les paul|\n|guitarra epiphone coronet ebony                                                                                                        |null  |null    |\n|guitarra epiphone les paul prophecy black aged gloss                                                                                   |null  |les paul|\n|guitarra epiphone uptown kat es topaz gold metallic                                                                                    |null  |null    |\n|guitarra epiphone uptown kat es sapphire emerald green                                                                                 |null  |null    |\n|guitarra epiphone uptown kat es ruby red metallic                                                                                      |null  |null    |\n|guitarra eléctrica epiphone les paul sl turquoise celeste                                                                              |null  |les paul|\n|guitarra epiphone les paul muse eléctrica white pearl                                                                                  |null  |les paul|\n|guitarra epiphone billy joe armstrong les paul junior pack                                                                             |null  |les paul|\n|guitarra eléctrica epiphone coronet cherry con p90                                                                                     |null  |null    |\n|guitarra eléctrica epiphone les paul junior tobacco burst                                                                              |null  |les paul|\n|guitarra eléctrica epiphone emperor swingster fmg cuota                                                                                |null  |null    |\n|guitarra epiphone firebird vintage sunburst                                                                                            |null  |null    |\n|guitarra electrica epiphone uptown kat es archtop blue azul                                                                            |null  |null    |\n|guitarra eléctrica epiphone les paul muse smoked almond                                                                                |null  |les paul|\n|guitarra epiphone sg muse almond metallic                                                                                              |null  |sg      |\n|guitarra eléctrica epiphone les paul muse wander green cuota                                                                           |null  |les paul|\n|guitarra eléctrica epiphone les paul muse smoked almon cuota                                                                           |null  |les paul|\n|guitarra eléctrica epiphone les paul muse wanderlust green                                                                             |null  |les paul|\n|guitarra electrica epiphone es1pplpfbnh1 lp power player cuo                                                                           |null  |null    |\n|guitarra eléctrica epiphone les paul sl de álamo 2017 turquo                                                                           |null  |les paul|\n|guitarra eléctrica epiphone les paul muse perlada                                                                                      |null  |les paul|\n|guitarra eléctrica epiphone sg muse blanco perla                                                                                       |null  |sg      |\n|guitarra epiphone les paul power player niño lava red                                                                                  |null  |les paul|\n|guitarra eléctrica epiphone original collection explorer designer de caoba ebony brillante con diapasón de laurel indio                |null  |null    |\n|guitarra eléctrica epiphone archtop broadway hollow body                                                                               |null  |null    |\n|guitarra epiphone sg prophecy red tiger aged gloss                                                                                     |null  |sg      |\n|guitarra epiphone riviera royal tan semi hollow                                                                                        |null  |null    |\n|guitarra electrica epiphone les paul sl ebony                                                                                          |null  |les paul|\n|guitarra eléctrica epiphone les paul muse scarlet rojo metal                                                                           |null  |les paul|\n|guitarra electrica epiphone emperor swingster                                                                                          |null  |null    |\n|guitarra electrica epiphone explorer ebony negra                                                                                       |null  |null    |\n|guitarra electrica epiphone emperor swingster prm                                                                                      |null  |null    |\n|guitarra eléctrica les paul epiphone scarlet red meatllic                                                                              |null  |les paul|\n|guitarra epiphone es 335 figured blueberry burst                                                                                       |null  |null    |\n|guitarra epiphone sg prophecy red tiger aged gloss 10030774                                                                            |null  |sg      |\n|guitarra epiphone sg muse scarlet red metallic                                                                                         |null  |sg      |\n|guitarra eléctrica epiphone explorer ebony                                                                                             |null  |null    |\n|guitarra eléctrica epiphone coronet negra mic p90                                                                                      |null  |null    |\n|guitarra zurdo epiphone archtop casino vintage sunburst                                                                                |null  |null    |\n|guitarra epiphone les paul sl turquesa                                                                                                 |null  |les paul|\n|guitarra eléctrica epiphone casino natural                                                                                             |null  |null    |\n|guitarra electrica epiphone les paul sl negra                                                                                          |null  |les paul|\n|guitarra epiphone firebird vintage sunburst                                                                                            |null  |null    |\n|guitarra electrica les paul epiphone prophecy red tiger                                                                                |null  |les paul|\n|guitarra electrica les paul epiphone radio azul                                                                                        |null  |les paul|\n|guitarra epiphone sg muse púrpura metalizado                                                                                           |null  |sg      |\n|guitarra epiphone uptown kat es natural                                                                                                |null  |null    |\n|guitarra eléctrica epiphone 335 vintage sunburst                                                                                       |null  |null    |\n|guitarra eléctrica epiphone les paul muse radio metallic                                                                               |null  |les paul|\n|guitarra epiphone sg muse rade blue metallic                                                                                           |null  |sg      |\n|guitarra eléctrica epiphone sg muse radio azul metallic                                                                                |null  |sg      |\n|guitarra epiphone les paul express vintage sunburst                                                                                    |null  |les paul|\n|guitarra eléctrica epiphone les paul sl de álamo 2017 vintag                                                                           |null  |les paul|\n|guitarra epiphone sg power players ice blue                                                                                            |null  |sg      |\n|guitarra epiphone extura prophecy                                                                                                      |null  |null    |\n|guitarra epiphone es 339 vintage sunburst                                                                                              |null  |null    |\n|guitarra epiphone sg muse pearl wanderlust green metallic                                                                              |null  |sg      |\n|guitarra epiphone sg muse purple passion                                                                                               |null  |sg      |\n|guitarra epiphone les paul muse pearl white metallic                                                                                   |null  |les paul|\n|guitarra epiphone sg muse almond metallic                                                                                              |null  |sg      |\n|guitarra epiphone les paul muse scarlet red metallic                                                                                   |null  |les paul|\n|guitarra eléctrica epiphone uptown kat es hollow body                                                                                  |null  |null    |\n|guitarra electrica epiphone riviera semi hueca                                                                                         |null  |null    |\n|guitarra epiphone sg muse scarlet red metallic                                                                                         |null  |sg      |\n|guitarra epiphone les paul muse pearl white metallic                                                                                   |null  |les paul|\n|guitarra eléctrica epiphone uptown kat es archtop azul                                                                                 |null  |null    |\n|guitarra epiphone sg power players lava red                                                                                            |null  |sg      |\n|kit guitarra epiphone lp sl celeste funda encordado gratis                                                                             |null  |null    |\n|guitarra epiphone original collection uptown kat es archtop                                                                            |null  |null    |\n|guitarra eléctrica epiphone les paul sl turquoise cuota                                                                                |null  |les paul|\n|guitarra epiphone les paul sl turquoise                                                                                                |null  |les paul|\n|guitarra electrica epiphone les paul muse                                                                                              |null  |les paul|\n|guitarra electrica epiphone les paul power players ice blue                                                                            |null  |les paul|\n|guitarra electrica epiphone emperor swingster prm                                                                                      |null  |null    |\n|guitarra electrica epiphone les paul muse prm                                                                                          |null  |les paul|\n|guitarra eléctrica epiphone sg muse wanderlust green                                                                                   |null  |sg      |\n|kit guitarra epiphone les paul bk funda y encordado gratis                                                                             |null  |les paul|\n|guitarra electrica epiphone riviera semi hueca                                                                                         |null  |null    |\n|guitarra epiphone riviera royal tan semi hollow eorrtnh1                                                                               |null  |null    |\n|guitarra epiphone wilshire p90 cherry laqueada brillante                                                                               |null  |null    |\n|guitarra epiphone uptown kat es sapphire blue metallic                                                                                 |null  |null    |\n|guitarra epiphone flying v prophecy bag                                                                                                |null  |null    |\n|guitarra eléctrica epiphone firebird vintage sunburst                                                                                  |null  |null    |\n|kit guitarra epiphone les paul sv con funda encordado gratis                                                                           |null  |les paul|\n|guitarra epiphone 335 figured raspberry tea burst                                                                                      |null  |null    |\n|guitarra epiphone emperor swingster delta blue metallic                                                                                |null  |null    |\n|pack guitarra epiphone lp sl celeste funda encordado gratis                                                                            |null  |null    |\n|guitarra electrica epiphone emperor swingster bigsby - azul                                                                            |null  |null    |\n|guitarra electrica epiphone les paul prophecy roja                                                                                     |null  |les paul|\n|guitarra eléctrica epiphone casino vintage sunburst                                                                                    |null  |null    |\n|guitarra electrica epiphone joe pass emperor ii pro vs                                                                                 |null  |null    |\n|guitarra epiphone wilshire p90 cherry brillante                                                                                        |null  |null    |\n|combo guitarra epiphone les paul sv mas funda y encordado                                                                              |null  |les paul|\n|guitarra epiphone sg classic worn p90 worn cherry                                                                                      |null  |sg      |\n|combo guitarra epiphone les paul sv funda y encordado                                                                                  |null  |les paul|\n|guitarra epiphone 335 figured blueberry burst                                                                                          |null  |null    |\n|guitarra epiphone uptown kat es sapphire emerald green                                                                                 |null  |null    |\n|guitarra electrica epiphone les paul sl ebony                                                                                          |null  |les paul|\n|guitarra epiphone flying v prophecy yellow tiger aged gloss                                                                            |null  |null    |\n|guitarra electrica epiphone casino vintage sunburst color marrón orientación de la mano diestro                                        |null  |null    |\n|guitarra epiphone flying v dave mustaine ebony                                                                                         |null  |null    |\n|guitarra epiphone casino natural eléctrica caja hueca                                                                                  |null  |null    |\n|guitarra epiphone sg prophecy red tiger aged gloss                                                                                     |null  |sg      |\n|guitarra eléctrica epiphone etcavsch1 casino vs sunburst                                                                               |null  |null    |\n|guitarra eléctrica epiphone sg muse smoked almond                                                                                      |null  |sg      |\n|guitarra eléctrica epiphone sg classic worn p90s cherry                                                                                |null  |sg      |\n|combo guitarra epiphone les paul bk funda y encordado gratis                                                                           |null  |les paul|\n|guitarra eléctrica epiphone sg muse passion                                                                                            |null  |sg      |\n|guitarra eléctrica epiphone sg prophecy red tiger laca                                                                                 |null  |sg      |\n|guitarra electrica epiphone riviera sparkling burgundy                                                                                 |null  |null    |\n|guitarra epiphone sg muse purple passion                                                                                               |null  |sg      |\n|guitarra epiphone sg prophecy blue tiger aged gloss                                                                                    |null  |sg      |\n|guitarra electrica sg 3/4 epiphone sg power player - rojo                                                                              |null  |sg      |\n|combo guitarra epiphone les paul sv funda encordado gratis                                                                             |null  |les paul|\n|guitarra epiphone sg muse jet black metallic                                                                                           |null  |sg      |\n|guitarra epiphone wilshire p90 cherry                                                                                                  |null  |null    |\n|guitarra electrica epiphone les paul prophecy red tiger                                                                                |null  |les paul|\n|guitarra eléctrica epiphone les paul sl distribuidor oficial                                                                           |null  |les paul|\n|guitarra eléctrica epiphone les paul -100 de arce/caoba vintage sunburst con diapasón de palo de rosa                                  |null  |les paul|\n|guitarra eléctrica epiphone les paul express 3/4 viaje.                                                                                |null  |les paul|\n|epiphone casino worn 335 guitarra semi hollow jazz                                                                                     |null  |null    |\n|guitarra eléctrica epiphone prophecy flying v ebony cuota                                                                              |null  |null    |\n|guitarra electrica epiphone riviera caja humbucker - bordo                                                                             |null  |null    |\n|epiphone extura prophecy pta guitarra eléctrica activa color violeta material del diapasón ébano orientación de la mano diestro        |null  |null    |\n|guitarra epiphone sg prophecy black aged gloss                                                                                         |null  |sg      |\n|guitarra electrica epiphone sg power player kit junior 3/4 n                                                                           |null  |sg      |\n|guitarra eléctrica epiphone sg muse negra                                                                                              |null  |sg      |\n|guitarra electrica epiphone es1ppsgfbnh1 sg power player cuo                                                                           |null  |sg      |\n|guitarra eléctrica epiphone designer collection wilshire p-90 double cut/symmetrical epiphone wilshire                                 |null  |null    |\n|guitarra electrica epiphone explorer ebony negra  bk                                                                                   |null  |null    |\n|guitarra electrica epiphone les paul lp-100 dist oficial                                                                               |null  |les paul|\n|guitarra electrica 3/4 epiphone les paul niño con accesorios                                                                           |null  |les paul|\n|guitarra epiphone sg muse pearl wanderlust green metallic cu                                                                           |null  |sg      |\n|guitarra electrica 3/4 epiphone les paul niños y accesorios                                                                            |null  |les paul|\n|guitarra eléctrica epiphone casino sunburst cuerpo hueco                                                                               |null  |null    |\n|guitarra eléctrica epiphone les paul muse scarlet red metal                                                                            |null  |les paul|\n|guitarra epiphone sg power players lava red                                                                                            |null  |sg      |\n|guitarra eléctrica epiphone sg prophecy red tiger                                                                                      |null  |sg      |\n|guitarra electrica epiphone les paul muse                                                                                              |null  |les paul|\n|guitarra eléctrica epiphone les paul sl heritage sunburst                                                                              |null  |les paul|\n|guitarra eléctrica epiphone iges339vsnh1 es-339 vs semi h                                                                              |null  |null    |\n|guitarra electrica epiphone les paul sl ebony negra                                                                                    |null  |les paul|\n|guitarra epiphone sg muse white pearl                                                                                                  |null  |sg      |\n|guitarra eléctrica epiphone flying v ebony                                                                                             |null  |null    |\n|guitarra electrica sg epiphone muse radio blue metalli                                                                                 |null  |sg      |\n|guitarra epiphone casino vintage sunburst archtop                                                                                      |null  |null    |\n|guitarra eléctrica epiphone extura prophecy purple tiger                                                                               |null  |null    |\n|guitarra eléctrica epiphone sg muse purple passion                                                                                     |null  |sg      |\n|guitarra eléctrica epiphone les paul express 3/4 viaje                                                                                 |null  |les paul|\n|guitarra eléctrica epiphone casino natural semi hollow cuota                                                                           |null  |null    |\n|guitarra eléctrica epiphone casino marron claro                                                                                        |null  |null    |\n|guitarra eléctrica epiphone les paul muse jet black cuota                                                                              |null  |les paul|\n|guitarra eléctrica epiphone sg muse purple passion                                                                                     |null  |sg      |\n|guitarra eléctrica epiphone les paul express 3/4 viaje                                                                                 |null  |les paul|\n|guitarra eléctrica epiphone casino natural semi hollow cuota                                                                           |null  |null    |\n|guitarra eléctrica epiphone casino marron claro                                                                                        |null  |null    |\n|guitarra epiphone sg power players ice blue                                                                                            |null  |sg      |\n|guitarra electrica epiphone les paul lp-100 dist oficial..                                                                             |null  |les paul|\n|guitarra eléctrica epiphone les paul muse jet black cuota                                                                              |null  |les paul|\n|guitarra electrica  epiphone explorer detalle musicapilar                                                                              |null  |null    |\n|guitarra eléctrica epiphone prophecy flying v ebony negra                                                                              |null  |null    |\n|guitarra electrica epiphone sg power player kit junior 3/4 n                                                                           |null  |sg      |\n|guitarra eléctrica epiphone etcavsch1 casino vs sunburst cuo                                                                           |null  |null    |\n|guitarra eléctrica epiphone casino natural semi hollow                                                                                 |null  |null    |\n|guitarra epiphone flying v dave mustaine ebony                                                                                         |null  |null    |\n|combo guitarra epiphone les paul ve funda encordado gratis                                                                             |null  |les paul|\n|guitarra eléctrica epiphone sg muse radio blue metallic                                                                                |null  |sg      |\n|combo guitarra epiphone lp sl celeste funda encordado gratis                                                                           |null  |null    |\n|guitarra electrica epiphone casino natural semi hollow                                                                                 |null  |null    |\n|guitarra eléctrica epiphone sg muse wanderlust green                                                                                   |null  |sg      |\n|guitarra epiphone firebird vintage sunburst envío                                                                                      |null  |null    |\n|guitarra eléctrica epiphone iges339vsnh1 es-339 vs semi h cu                                                                           |null  |null    |\n|guitarra epiphone emperor swingster black aged gloss                                                                                   |null  |null    |\n|guitarra eléctrica epiphone sg muse smoked almond metallic                                                                             |null  |sg      |\n|guitarra epiphone casino natural dealer autorizado                                                                                     |null  |null    |\n|guitarra epiphone sg prophecy series roja diapasón de ébano                                                                            |null  |sg      |\n|guitarra eléctrica epiphone eivybagbnh1 flyingv prophecy bag                                                                           |null  |null    |\n|guitarra electrica epiphone les paul std 60s iced tea eils6i                                                                           |null  |les paul|\n|guitarra electrica epiphone les paul lp-100 pink..                                                                                     |null  |les paul|\n|guitarra electrica epiphone casino caja + mic p90 - natural                                                                            |null  |null    |\n|guitarra eléctrica  epiphone es riviera sparkling burgundy                                                                             |null  |null    |\n|guitarra epiphone casino worn denim acabado satinado                                                                                   |null  |null    |\n|guitarra eléctrica epiphone archtop casino de arce natural b                                                                           |null  |null    |\n|guitarra epiphone flying v prophecy yellow tiger aged gloss                                                                            |null  |null    |\n|guitarra electrica epiphone joe pass emperor ii pro vs prm                                                                             |null  |null    |\n|guitarra eléctrica epiphone eivybagbnh1 flyingv prophecy cuo                                                                           |null  |null    |\n|guitarra eléctrica epiphone casino natural hueca                                                                                       |null  |null    |\n|guitarra electrica epiphone les paul lp-100 pink nueva                                                                                 |null  |les paul|\n|guitarra electrica epiphone flying v ebony grey music                                                                                  |null  |null    |\n+---------------------------------------------------------------------------------------------------------------------------------------+------+--------+\n\n"
     ]
    }
   ],
   "source": [
    "# intento analizar los casos donde 'series' es null para ver si se puede hacer algo al respecto\n",
    "\n",
    "df_epiphone.filter(col('series').isNull()).select('title_lower','series','model').show(350,False)"
   ]
  },
  {
   "cell_type": "code",
   "execution_count": 0,
   "metadata": {
    "application/vnd.databricks.v1+cell": {
     "cellMetadata": {
      "byteLimit": 2048000,
      "rowLimit": 10000
     },
     "inputWidgets": {},
     "nuid": "d20efcc3-eedf-4493-9356-e7ae262cf52b",
     "showTitle": false,
     "tableResultSettingsMap": {},
     "title": ""
    }
   },
   "outputs": [
    {
     "output_type": "stream",
     "name": "stdout",
     "output_type": "stream",
     "text": [
      "+---------+------------+--------+---------+\n|type     |series      |model   |price    |\n+---------+------------+--------+---------+\n|eléctrica|special     |les paul|474.048  |\n|eléctrica|special     |les paul|122.590  |\n|eléctrica|standard    |les paul|2.199.586|\n|eléctrica|melody maker|les paul|431.582  |\n|eléctrica|standard    |les paul|214.803  |\n|eléctrica|special     |les paul|545.156  |\n|eléctrica|studio      |les paul|808.043  |\n|eléctrica|modern      |les paul|165.423  |\n|eléctrica|studio      |les paul|632.065  |\n|eléctrica|studio      |les paul|742.676  |\n|eléctrica|melody maker|les paul|375.288  |\n|electrica|special     |null    |772.305  |\n|null     |special     |null    |671.569  |\n|null     |custom      |null    |1.590.039|\n|eléctrica|modern      |sg      |1.466.391|\n|eléctrica|melody maker|les paul|480.368  |\n|eléctrica|melody maker|les paul|375.288  |\n|null     |special     |les paul|856.675  |\n|eléctrica|special     |les paul|606.781  |\n|eléctrica|special     |les paul|474.048  |\n|eléctrica|modern      |les paul|165.423  |\n|eléctrica|standard    |les paul|3.261.456|\n|eléctrica|modern      |les paul|329.365  |\n|eléctrica|special     |les paul|1.528.597|\n|eléctrica|standard    |les paul|2.199.586|\n|eléctrica|studio      |les paul|1.529.597|\n|null     |sheraton    |null    |2.962.806|\n|null     |standard    |sg      |2.882.216|\n|eléctrica|standard    |les paul|2.548.013|\n|eléctrica|standard    |les paul|214.803  |\n|eléctrica|es-335      |null    |2.035.249|\n|eléctrica|standard    |sg      |165.423  |\n|eléctrica|modern      |les paul|154.395  |\n|null     |standard    |sg      |2.882.216|\n|eléctrica|standard    |sg      |282.322  |\n|eléctrica|es-335      |null    |2.009.519|\n|eléctrica|standard    |les paul|2.548.013|\n|eléctrica|modern      |les paul|2.199.586|\n|eléctrica|modern      |les paul|1.693.934|\n|eléctrica|es-335      |null    |1.718.427|\n|eléctrica|sheraton    |null    |1.985.080|\n|eléctrica|melody maker|les paul|431.582  |\n|null     |special     |null    |859.608  |\n|eléctrica|modern      |les paul|253.649  |\n|eléctrica|modern      |les paul|1.733.485|\n|eléctrica|modern      |les paul|1.733.485|\n|null     |special     |les paul|663.668  |\n|eléctrica|custom      |sg      |1.972.735|\n|electrica|modern      |les paul|1.323.386|\n|eléctrica|melody maker|les paul|637.990  |\n|eléctrica|studio      |les paul|254.932  |\n|null     |studio      |les paul|632.065  |\n|eléctrica|standard    |les paul|543.576  |\n|eléctrica|standard    |les paul|1.718.427|\n|null     |special     |les paul|474.048  |\n|eléctrica|modern      |sg      |242.726  |\n|eléctrica|modern      |sg      |244.398  |\n|eléctrica|modern      |sg      |1.145.618|\n|null     |sheraton    |null    |3.319.794|\n|eléctrica|modern      |sg      |143.202  |\n|null     |studio      |les paul|809.043  |\n|null     |modern      |les paul|2.376.564|\n|electrica|modern      |les paul|2.376.564|\n|eléctrica|special     |les paul|606.782  |\n|null     |standard    |les paul|2.548.013|\n|null     |standard    |les paul|2.199.586|\n|null     |modern      |les paul|1.856.691|\n|eléctrica|standard    |les paul|2.184.538|\n|eléctrica|special     |les paul|474.048  |\n|eléctrica|modern      |sg      |143.202  |\n|null     |standard    |sg      |1.693.934|\n|eléctrica|standard    |les paul|2.199.586|\n|electrica|modern      |les paul|1.856.691|\n|null     |studio      |les paul|1.529.597|\n|eléctrica|standard    |les paul|2.199.586|\n|eléctrica|modern      |null    |2.432.053|\n|null     |es-335      |null    |2.429.500|\n|null     |standard    |les paul|2.548.013|\n|null     |special     |sg      |1.519.132|\n|null     |special     |les paul|1.528.597|\n|null     |modern      |les paul|2.199.586|\n|null     |modern      |les paul|1.693.934|\n|null     |modern      |les paul|1.856.691|\n|null     |custom      |null    |1.590.039|\n|null     |modern      |les paul|2.376.564|\n|eléctrica|standard    |les paul|1.718.427|\n|null     |studio      |les paul|1.194.998|\n|null     |modern      |les paul|2.376.564|\n|null     |special     |les paul|606.781  |\n|eléctrica|special     |sg      |1.529.597|\n|null     |custom      |null    |2.035.249|\n|electrica|modern      |les paul|1.718.428|\n|eléctrica|modern      |les paul|2.250.942|\n|eléctrica|modern      |sg      |143.202  |\n|null     |studio      |les paul|1.529.597|\n|null     |standard    |les paul|2.199.586|\n|null     |standard    |les paul|3.261.456|\n|electrica|studio      |les paul|632.065  |\n|eléctrica|special     |sg      |149.374  |\n|electrica|modern      |les paul|1.323.386|\n|electrica|modern      |les paul|1.323.386|\n|eléctrica|sheraton    |null    |1.985.080|\n|null     |studio      |les paul|808.043  |\n|electrica|modern      |les paul|1.856.692|\n|eléctrica|studio      |les paul|1.194.998|\n|eléctrica|modern      |sg      |2.035.249|\n|eléctrica|es-335      |null    |2.199.586|\n|null     |studio      |les paul|1.194.998|\n|null     |special     |null    |708.505  |\n|electrica|studio      |les paul|632.065  |\n|eléctrica|modern      |les paul|1.907.578|\n|null     |custom      |null    |196.684  |\n|eléctrica|studio      |les paul|1.672.997|\n|eléctrica|standard    |les paul|1.719.427|\n|eléctrica|standard    |les paul|1.718.427|\n|null     |es-335      |null    |3.109.760|\n|null     |studio      |les paul|632.065  |\n|null     |studio      |les paul|1.194.998|\n|eléctrica|melody maker|les paul|416.598  |\n|null     |special     |les paul|545.156  |\n|null     |special     |les paul|1.185.128|\n|null     |studio      |les paul|632.065  |\n|electrica|melody maker|les paul|375.288  |\n|null     |custom      |les paul|3.456.607|\n|null     |standard    |les paul|1.718.427|\n|eléctrica|standard    |les paul|1.718.427|\n|eléctrica|special     |les paul|526.229  |\n|null     |custom      |null    |2.035.249|\n|null     |standard    |les paul|2.882.216|\n|null     |standard    |les paul|1.718.427|\n|null     |standard    |sg      |1.852.741|\n|null     |custom      |null    |3.456.607|\n|electrica|melody maker|les paul|375.288  |\n|electrica|special     |les paul|524.839  |\n|electrica|modern      |les paul|2.135.196|\n|electrica|modern      |sg      |1.145.618|\n|null     |modern      |les paul|1.323.386|\n|electrica|studio      |les paul|666.828  |\n|null     |sheraton    |null    |3.583.715|\n|eléctrica|melody maker|null    |491.586  |\n|eléctrica|studio      |les paul|1.510.259|\n|eléctrica|modern      |sg      |141.967  |\n|electrica|modern      |sg      |1.145.618|\n|null     |studio      |les paul|1.374.248|\n|null     |standard    |les paul|3.261.456|\n|null     |special     |null    |557.007  |\n|null     |special     |sg      |1.194.998|\n|null     |modern      |les paul|1.718.427|\n|electrica|special     |les paul|1.276.172|\n|electrica|modern      |les paul|1.323.386|\n|null     |standard    |les paul|2.548.013|\n|eléctrica|modern      |null    |1.958.809|\n|electrica|modern      |les paul|1.323.386|\n|null     |special     |les paul|545.156  |\n|electrica|modern      |les paul|1.323.386|\n|eléctrica|standard    |les paul|1.976.191|\n|null     |standard    |les paul|2.199.586|\n|eléctrica|special     |les paul|711.073  |\n|null     |custom      |les paul|3.456.607|\n|null     |custom      |null    |4.424.456|\n|eléctrica|special     |les paul|663.668  |\n|eléctrica|special     |les paul|1.117.402|\n|eléctrica|custom      |sg      |1.972.735|\n|electrica|sheraton    |null    |1.985.081|\n|null     |custom      |les paul|4.424.456|\n|null     |standard    |les paul|3.261.456|\n|eléctrica|special     |les paul|1.042.908|\n|null     |special     |les paul|790.085  |\n|null     |special     |les paul|1.106.119|\n|electrica|special     |null    |671.570  |\n|eléctrica|standard    |sg      |1.852.741|\n|eléctrica|special     |les paul|830.713  |\n|eléctrica|special     |les paul|1.389.990|\n|electrica|studio      |les paul|632.065  |\n|eléctrica|standard    |les paul|1.718.427|\n|eléctrica|modern      |les paul|1.119.990|\n|electrica|studio      |les paul|839.990  |\n|eléctrica|special     |les paul|1.389.990|\n|eléctrica|standard    |les paul|2.249.990|\n|eléctrica|studio      |les paul|1.326.534|\n|electrica|modern      |les paul|2.135.194|\n|null     |special     |les paul|908.598  |\n|eléctrica|custom      |null    |1.828.545|\n|eléctrica|studio      |les paul|1.374.248|\n|eléctrica|standard    |les paul|2.405.798|\n|null     |special     |sg      |1.194.998|\n|eléctrica|special     |les paul|93.116   |\n|null     |studio      |les paul|726.875  |\n|eléctrica|special     |les paul|987.606  |\n|eléctrica|special     |les paul|856.675  |\n|electrica|modern      |sg      |1.145.618|\n|null     |special     |les paul|744.934  |\n|null     |standard    |les paul|3.261.456|\n|null     |standard    |sg      |1.323.386|\n|null     |standard    |les paul|2.148.034|\n|eléctrica|studio      |les paul|632.065  |\n|null     |standard    |sg      |1.521.894|\n|null     |special     |sg      |1.194.998|\n|eléctrica|special     |les paul|1.055.903|\n|null     |standard    |les paul|2.299.990|\n|eléctrica|standard    |null    |2.405.798|\n|eléctrica|standard    |null    |1.718.427|\n|eléctrica|es-335      |null    |2.405.798|\n|eléctrica|custom      |sg      |1.678.923|\n|null     |special     |les paul|902.949  |\n|null     |standard    |sg      |1.325.386|\n|null     |standard    |les paul|1.718.427|\n|eléctrica|special     |les paul|931.168  |\n|null     |studio      |les paul|1.672.997|\n|eléctrica|special     |les paul|744.934  |\n|eléctrica|studio      |les paul|1.326.534|\n|eléctrica|standard    |les paul|1.907.578|\n|electrica|studio      |les paul|742.676  |\n|eléctrica|special     |sg      |1.194.998|\n|electrica|standard    |les paul|1.976.191|\n|eléctrica|studio      |les paul|1.326.534|\n|eléctrica|standard    |les paul|1.907.578|\n|electrica|studio      |les paul|742.676  |\n|eléctrica|special     |sg      |1.194.998|\n|electrica|standard    |les paul|1.976.191|\n|eléctrica|custom      |sg      |1.771.264|\n|eléctrica|custom      |null    |2.226.054|\n|eléctrica|standard    |les paul|2.405.798|\n|null     |studio      |les paul|1.792.497|\n|null     |standard    |les paul|2.577.641|\n|eléctrica|special     |les paul|931.168  |\n|null     |special     |null    |789.094  |\n|null     |special     |sg      |1.374.248|\n|eléctrica|modern      |sg      |1.317.461|\n|null     |custom      |les paul|4.424.456|\n|eléctrica|custom      |sg      |2.350.492|\n|null     |special     |sg      |1.672.997|\n|eléctrica|standard    |les paul|2.171.778|\n|eléctrica|special     |sg      |1.374.248|\n|eléctrica|custom      |null    |1.590.039|\n|null     |standard    |les paul|2.577.641|\n|null     |sheraton    |null    |3.374.636|\n|null     |standard    |les paul|1.976.191|\n|null     |standard    |les paul|2.405.798|\n|eléctrica|standard    |sg      |1.323.386|\n|eléctrica|es-335      |null    |2.577.641|\n|eléctrica|modern      |null    |2.181.612|\n|eléctrica|standard    |sg      |1.521.894|\n|electrica|sheraton    |null    |2.282.843|\n|eléctrica|es-335      |null    |1.718.427|\n|null     |es-335      |null    |2.148.034|\n|null     |standard    |les paul|1.718.427|\n|null     |special     |les paul|711.073  |\n|eléctrica|es-335      |null    |1.976.191|\n|null     |special     |les paul|1.042.908|\n|eléctrica|sheraton    |null    |2.136.886|\n|null     |special     |les paul|722.359  |\n+---------+------------+--------+---------+\n\n"
     ]
    }
   ],
   "source": [
    "# No reconozco una forma de obtener los modelos que faltan o de identifiarlos entre los nombres, asi que solamente me voy a quedar con los que fueron claramente identificados\n",
    "\n",
    "df_epiphone_clean = df_epiphone.filter(col('series').isNotNull())\n",
    "\n",
    "# Observo el data frame resultante y veo que falta completar el tipo en algunas filas\n",
    "\n",
    "df_epiphone_clean.select('type','series','model','price').show(df_epiphone_clean.count(),False)"
   ]
  },
  {
   "cell_type": "markdown",
   "metadata": {
    "application/vnd.databricks.v1+cell": {
     "cellMetadata": {
      "byteLimit": 2048000,
      "rowLimit": 10000
     },
     "inputWidgets": {},
     "nuid": "4fcfbbcc-22a4-437e-a295-c988c8fd6a97",
     "showTitle": false,
     "tableResultSettingsMap": {},
     "title": ""
    }
   },
   "source": []
  },
  {
   "cell_type": "markdown",
   "metadata": {
    "application/vnd.databricks.v1+cell": {
     "cellMetadata": {
      "byteLimit": 2048000,
      "rowLimit": 10000
     },
     "inputWidgets": {},
     "nuid": "e99a9207-b7b4-44c6-9f30-6ab69d050c59",
     "showTitle": false,
     "tableResultSettingsMap": {},
     "title": ""
    }
   },
   "source": [
    "### Problemas que solucionamos en el Data Frame de Cort\n",
    "- Mismas formas de referirse al tipo de guitarra\n",
    "- Pasar el tipo de string a float en la columna price"
   ]
  },
  {
   "cell_type": "code",
   "execution_count": 0,
   "metadata": {
    "application/vnd.databricks.v1+cell": {
     "cellMetadata": {
      "byteLimit": 2048000,
      "rowLimit": 10000
     },
     "inputWidgets": {},
     "nuid": "42f40e06-2340-4b9b-b57c-2357eada9f2a",
     "showTitle": false,
     "tableResultSettingsMap": {},
     "title": ""
    }
   },
   "outputs": [],
   "source": [
    "# completo las filas de type con 'electric' porque se que son guitarras electricas y paso la columna 'price' a flotante\n",
    "\n",
    "df_epiphone_clean = df_epiphone_clean.withColumn(\n",
    "    'type',lit('electric')\n",
    ")\n",
    "\n",
    "df_epiphone_clean = df_epiphone_clean.withColumn(\"price\", regexp_replace(col(\"price\"), \"\\\\.\", \"\").cast(\"float\"))"
   ]
  },
  {
   "cell_type": "code",
   "execution_count": 0,
   "metadata": {
    "application/vnd.databricks.v1+cell": {
     "cellMetadata": {
      "byteLimit": 2048000,
      "rowLimit": 10000
     },
     "inputWidgets": {},
     "nuid": "d2aa90ab-e423-476e-809b-9074d605a865",
     "showTitle": false,
     "tableResultSettingsMap": {},
     "title": ""
    }
   },
   "outputs": [
    {
     "output_type": "stream",
     "name": "stdout",
     "output_type": "stream",
     "text": [
      "+--------+--------+\n|   model|   price|\n+--------+--------+\n|les paul| 93116.0|\n|les paul|122590.0|\n|      sg|141967.0|\n|      sg|143202.0|\n|      sg|143202.0|\n|      sg|143202.0|\n|      sg|149374.0|\n|les paul|154395.0|\n|les paul|165423.0|\n|les paul|165423.0|\n+--------+--------+\nonly showing top 10 rows\n\n"
     ]
    }
   ],
   "source": [
    "df_epiphone_clean.select('model','price').orderBy('price').show(10)"
   ]
  },
  {
   "cell_type": "markdown",
   "metadata": {
    "application/vnd.databricks.v1+cell": {
     "cellMetadata": {
      "byteLimit": 2048000,
      "rowLimit": 10000
     },
     "inputWidgets": {},
     "nuid": "2af0fd83-821f-4301-83a7-ba235c28daca",
     "showTitle": false,
     "tableResultSettingsMap": {},
     "title": ""
    }
   },
   "source": [
    "### Buscamos nulos en brand y los eliminamos"
   ]
  },
  {
   "cell_type": "code",
   "execution_count": 0,
   "metadata": {
    "application/vnd.databricks.v1+cell": {
     "cellMetadata": {
      "byteLimit": 2048000,
      "rowLimit": 10000
     },
     "inputWidgets": {},
     "nuid": "4022170a-efd8-4a25-9236-30f71e727a6a",
     "showTitle": false,
     "tableResultSettingsMap": {},
     "title": ""
    }
   },
   "outputs": [
    {
     "output_type": "stream",
     "name": "stdout",
     "output_type": "stream",
     "text": [
      "+--------------------+---------+--------------------+--------+-----+--------+--------+\n|               title|    price|         title_lower|    type|brand|   model|  series|\n+--------------------+---------+--------------------+--------+-----+--------+--------+\n|Guitarra Les Paul...|2882216.0|guitarra les paul...|electric| null|les paul|standard|\n+--------------------+---------+--------------------+--------+-----+--------+--------+\n\n"
     ]
    }
   ],
   "source": [
    "df_epiphone_clean.filter(col(\"brand\").isNull()).show()"
   ]
  },
  {
   "cell_type": "code",
   "execution_count": 0,
   "metadata": {
    "application/vnd.databricks.v1+cell": {
     "cellMetadata": {
      "byteLimit": 2048000,
      "rowLimit": 10000
     },
     "inputWidgets": {},
     "nuid": "2205eb9a-2d3a-44b5-a2a7-7498e21f2aac",
     "showTitle": false,
     "tableResultSettingsMap": {},
     "title": ""
    }
   },
   "outputs": [],
   "source": [
    "df_epiphone_clean = df_epiphone_clean.filter(col(\"brand\").isNotNull())"
   ]
  },
  {
   "cell_type": "markdown",
   "metadata": {
    "application/vnd.databricks.v1+cell": {
     "cellMetadata": {
      "byteLimit": 2048000,
      "rowLimit": 10000
     },
     "inputWidgets": {},
     "nuid": "2cfde160-7927-4aa2-8d87-ac2156965af4",
     "showTitle": false,
     "tableResultSettingsMap": {},
     "title": ""
    }
   },
   "source": [
    "### Data Frame final"
   ]
  },
  {
   "cell_type": "code",
   "execution_count": 0,
   "metadata": {
    "application/vnd.databricks.v1+cell": {
     "cellMetadata": {
      "byteLimit": 2048000,
      "rowLimit": 10000
     },
     "inputWidgets": {},
     "nuid": "8c9ae937-52bb-4c1b-a92d-d7b820fc7f96",
     "showTitle": false,
     "tableResultSettingsMap": {},
     "title": ""
    }
   },
   "outputs": [
    {
     "output_type": "stream",
     "name": "stdout",
     "output_type": "stream",
     "text": [
      "de: 524 quedaron: 251\n+--------+--------+------------+--------+---------+\n|brand   |type    |series      |model   |price    |\n+--------+--------+------------+--------+---------+\n|epiphone|electric|special     |les paul|93116.0  |\n|epiphone|electric|special     |les paul|122590.0 |\n|epiphone|electric|modern      |sg      |141967.0 |\n|epiphone|electric|modern      |sg      |143202.0 |\n|epiphone|electric|modern      |sg      |143202.0 |\n|epiphone|electric|modern      |sg      |143202.0 |\n|epiphone|electric|special     |sg      |149374.0 |\n|epiphone|electric|modern      |les paul|154395.0 |\n|epiphone|electric|modern      |les paul|165423.0 |\n|epiphone|electric|modern      |les paul|165423.0 |\n|epiphone|electric|standard    |sg      |165423.0 |\n|epiphone|electric|custom      |null    |196684.0 |\n|epiphone|electric|standard    |les paul|214803.0 |\n|epiphone|electric|standard    |les paul|214803.0 |\n|epiphone|electric|modern      |sg      |242726.0 |\n|epiphone|electric|modern      |sg      |244398.0 |\n|epiphone|electric|modern      |les paul|253649.0 |\n|epiphone|electric|studio      |les paul|254932.0 |\n|epiphone|electric|standard    |sg      |282322.0 |\n|epiphone|electric|modern      |les paul|329365.0 |\n|epiphone|electric|melody maker|les paul|375288.0 |\n|epiphone|electric|melody maker|les paul|375288.0 |\n|epiphone|electric|melody maker|les paul|375288.0 |\n|epiphone|electric|melody maker|les paul|375288.0 |\n|epiphone|electric|melody maker|les paul|416598.0 |\n|epiphone|electric|melody maker|les paul|431582.0 |\n|epiphone|electric|melody maker|les paul|431582.0 |\n|epiphone|electric|special     |les paul|474048.0 |\n|epiphone|electric|special     |les paul|474048.0 |\n|epiphone|electric|special     |les paul|474048.0 |\n|epiphone|electric|special     |les paul|474048.0 |\n|epiphone|electric|melody maker|les paul|480368.0 |\n|epiphone|electric|melody maker|null    |491586.0 |\n|epiphone|electric|special     |les paul|524839.0 |\n|epiphone|electric|special     |les paul|526229.0 |\n|epiphone|electric|standard    |les paul|543576.0 |\n|epiphone|electric|special     |les paul|545156.0 |\n|epiphone|electric|special     |les paul|545156.0 |\n|epiphone|electric|special     |les paul|545156.0 |\n|epiphone|electric|special     |null    |557007.0 |\n|epiphone|electric|special     |les paul|606781.0 |\n|epiphone|electric|special     |les paul|606781.0 |\n|epiphone|electric|special     |les paul|606782.0 |\n|epiphone|electric|studio      |les paul|632065.0 |\n|epiphone|electric|studio      |les paul|632065.0 |\n|epiphone|electric|studio      |les paul|632065.0 |\n|epiphone|electric|studio      |les paul|632065.0 |\n|epiphone|electric|studio      |les paul|632065.0 |\n|epiphone|electric|studio      |les paul|632065.0 |\n|epiphone|electric|studio      |les paul|632065.0 |\n|epiphone|electric|studio      |les paul|632065.0 |\n|epiphone|electric|melody maker|les paul|637990.0 |\n|epiphone|electric|special     |les paul|663668.0 |\n|epiphone|electric|special     |les paul|663668.0 |\n|epiphone|electric|studio      |les paul|666828.0 |\n|epiphone|electric|special     |null    |671569.0 |\n|epiphone|electric|special     |null    |671570.0 |\n|epiphone|electric|special     |null    |708505.0 |\n|epiphone|electric|special     |les paul|711073.0 |\n|epiphone|electric|special     |les paul|711073.0 |\n|epiphone|electric|special     |les paul|722359.0 |\n|epiphone|electric|studio      |les paul|726875.0 |\n|epiphone|electric|studio      |les paul|742676.0 |\n|epiphone|electric|studio      |les paul|742676.0 |\n|epiphone|electric|studio      |les paul|742676.0 |\n|epiphone|electric|special     |les paul|744934.0 |\n|epiphone|electric|special     |les paul|744934.0 |\n|epiphone|electric|special     |null    |772305.0 |\n|epiphone|electric|special     |null    |789094.0 |\n|epiphone|electric|special     |les paul|790085.0 |\n|epiphone|electric|studio      |les paul|808043.0 |\n|epiphone|electric|studio      |les paul|808043.0 |\n|epiphone|electric|studio      |les paul|809043.0 |\n|epiphone|electric|special     |les paul|830713.0 |\n|epiphone|electric|studio      |les paul|839990.0 |\n|epiphone|electric|special     |les paul|856675.0 |\n|epiphone|electric|special     |les paul|856675.0 |\n|epiphone|electric|special     |null    |859608.0 |\n|epiphone|electric|special     |les paul|902949.0 |\n|epiphone|electric|special     |les paul|908598.0 |\n|epiphone|electric|special     |les paul|931168.0 |\n|epiphone|electric|special     |les paul|931168.0 |\n|epiphone|electric|special     |les paul|987606.0 |\n|epiphone|electric|special     |les paul|1042908.0|\n|epiphone|electric|special     |les paul|1042908.0|\n|epiphone|electric|special     |les paul|1055903.0|\n|epiphone|electric|special     |les paul|1106119.0|\n|epiphone|electric|special     |les paul|1117402.0|\n|epiphone|electric|modern      |les paul|1119990.0|\n|epiphone|electric|modern      |sg      |1145618.0|\n|epiphone|electric|modern      |sg      |1145618.0|\n|epiphone|electric|modern      |sg      |1145618.0|\n|epiphone|electric|modern      |sg      |1145618.0|\n|epiphone|electric|special     |les paul|1185128.0|\n|epiphone|electric|studio      |les paul|1194998.0|\n|epiphone|electric|studio      |les paul|1194998.0|\n|epiphone|electric|studio      |les paul|1194998.0|\n|epiphone|electric|studio      |les paul|1194998.0|\n|epiphone|electric|special     |sg      |1194998.0|\n|epiphone|electric|special     |sg      |1194998.0|\n|epiphone|electric|special     |sg      |1194998.0|\n|epiphone|electric|special     |sg      |1194998.0|\n|epiphone|electric|special     |sg      |1194998.0|\n|epiphone|electric|special     |les paul|1276172.0|\n|epiphone|electric|modern      |sg      |1317461.0|\n|epiphone|electric|modern      |les paul|1323386.0|\n|epiphone|electric|modern      |les paul|1323386.0|\n|epiphone|electric|modern      |les paul|1323386.0|\n|epiphone|electric|modern      |les paul|1323386.0|\n|epiphone|electric|modern      |les paul|1323386.0|\n|epiphone|electric|modern      |les paul|1323386.0|\n|epiphone|electric|modern      |les paul|1323386.0|\n|epiphone|electric|standard    |sg      |1323386.0|\n|epiphone|electric|standard    |sg      |1323386.0|\n|epiphone|electric|standard    |sg      |1325386.0|\n|epiphone|electric|studio      |les paul|1326534.0|\n|epiphone|electric|studio      |les paul|1326534.0|\n|epiphone|electric|studio      |les paul|1326534.0|\n|epiphone|electric|studio      |les paul|1374248.0|\n|epiphone|electric|studio      |les paul|1374248.0|\n|epiphone|electric|special     |sg      |1374248.0|\n|epiphone|electric|special     |sg      |1374248.0|\n|epiphone|electric|special     |les paul|1389990.0|\n|epiphone|electric|special     |les paul|1389990.0|\n|epiphone|electric|modern      |sg      |1466391.0|\n|epiphone|electric|studio      |les paul|1510259.0|\n|epiphone|electric|special     |sg      |1519132.0|\n|epiphone|electric|standard    |sg      |1521894.0|\n|epiphone|electric|standard    |sg      |1521894.0|\n|epiphone|electric|special     |les paul|1528597.0|\n|epiphone|electric|special     |les paul|1528597.0|\n|epiphone|electric|studio      |les paul|1529597.0|\n|epiphone|electric|studio      |les paul|1529597.0|\n|epiphone|electric|special     |sg      |1529597.0|\n|epiphone|electric|studio      |les paul|1529597.0|\n|epiphone|electric|custom      |null    |1590039.0|\n|epiphone|electric|custom      |null    |1590039.0|\n|epiphone|electric|custom      |null    |1590039.0|\n|epiphone|electric|studio      |les paul|1672997.0|\n|epiphone|electric|studio      |les paul|1672997.0|\n|epiphone|electric|special     |sg      |1672997.0|\n|epiphone|electric|custom      |sg      |1678923.0|\n|epiphone|electric|modern      |les paul|1693934.0|\n|epiphone|electric|standard    |sg      |1693934.0|\n|epiphone|electric|modern      |les paul|1693934.0|\n|epiphone|electric|es-335      |null    |1718427.0|\n|epiphone|electric|standard    |les paul|1718427.0|\n|epiphone|electric|standard    |les paul|1718427.0|\n|epiphone|electric|standard    |les paul|1718427.0|\n|epiphone|electric|standard    |les paul|1718427.0|\n|epiphone|electric|standard    |les paul|1718427.0|\n|epiphone|electric|standard    |les paul|1718427.0|\n|epiphone|electric|modern      |les paul|1718427.0|\n|epiphone|electric|standard    |les paul|1718427.0|\n|epiphone|electric|standard    |null    |1718427.0|\n|epiphone|electric|standard    |les paul|1718427.0|\n|epiphone|electric|es-335      |null    |1718427.0|\n|epiphone|electric|standard    |les paul|1718427.0|\n|epiphone|electric|modern      |les paul|1718428.0|\n|epiphone|electric|standard    |les paul|1719427.0|\n|epiphone|electric|modern      |les paul|1733485.0|\n|epiphone|electric|modern      |les paul|1733485.0|\n|epiphone|electric|custom      |sg      |1771264.0|\n|epiphone|electric|studio      |les paul|1792497.0|\n|epiphone|electric|custom      |null    |1828545.0|\n|epiphone|electric|standard    |sg      |1852741.0|\n|epiphone|electric|standard    |sg      |1852741.0|\n|epiphone|electric|modern      |les paul|1856691.0|\n|epiphone|electric|modern      |les paul|1856691.0|\n|epiphone|electric|modern      |les paul|1856691.0|\n|epiphone|electric|modern      |les paul|1856692.0|\n|epiphone|electric|modern      |les paul|1907578.0|\n|epiphone|electric|standard    |les paul|1907578.0|\n|epiphone|electric|standard    |les paul|1907578.0|\n|epiphone|electric|modern      |null    |1958809.0|\n|epiphone|electric|custom      |sg      |1972735.0|\n|epiphone|electric|custom      |sg      |1972735.0|\n|epiphone|electric|standard    |les paul|1976191.0|\n|epiphone|electric|standard    |les paul|1976191.0|\n|epiphone|electric|standard    |les paul|1976191.0|\n|epiphone|electric|standard    |les paul|1976191.0|\n|epiphone|electric|es-335      |null    |1976191.0|\n|epiphone|electric|sheraton    |null    |1985080.0|\n|epiphone|electric|sheraton    |null    |1985080.0|\n|epiphone|electric|sheraton    |null    |1985081.0|\n|epiphone|electric|es-335      |null    |2009519.0|\n|epiphone|electric|es-335      |null    |2035249.0|\n|epiphone|electric|custom      |null    |2035249.0|\n|epiphone|electric|modern      |sg      |2035249.0|\n|epiphone|electric|custom      |null    |2035249.0|\n|epiphone|electric|modern      |les paul|2135194.0|\n|epiphone|electric|modern      |les paul|2135196.0|\n|epiphone|electric|sheraton    |null    |2136886.0|\n|epiphone|electric|standard    |les paul|2148034.0|\n|epiphone|electric|es-335      |null    |2148034.0|\n|epiphone|electric|standard    |les paul|2171778.0|\n|epiphone|electric|modern      |null    |2181612.0|\n|epiphone|electric|standard    |les paul|2184538.0|\n|epiphone|electric|standard    |les paul|2199586.0|\n|epiphone|electric|standard    |les paul|2199586.0|\n|epiphone|electric|modern      |les paul|2199586.0|\n|epiphone|electric|standard    |les paul|2199586.0|\n|epiphone|electric|standard    |les paul|2199586.0|\n|epiphone|electric|standard    |les paul|2199586.0|\n|epiphone|electric|modern      |les paul|2199586.0|\n|epiphone|electric|standard    |les paul|2199586.0|\n|epiphone|electric|es-335      |null    |2199586.0|\n|epiphone|electric|standard    |les paul|2199586.0|\n|epiphone|electric|custom      |null    |2226054.0|\n|epiphone|electric|standard    |les paul|2249990.0|\n|epiphone|electric|modern      |les paul|2250942.0|\n|epiphone|electric|sheraton    |null    |2282843.0|\n|epiphone|electric|standard    |les paul|2299990.0|\n|epiphone|electric|custom      |sg      |2350492.0|\n|epiphone|electric|modern      |les paul|2376564.0|\n|epiphone|electric|modern      |les paul|2376564.0|\n|epiphone|electric|modern      |les paul|2376564.0|\n|epiphone|electric|modern      |les paul|2376564.0|\n|epiphone|electric|standard    |les paul|2405798.0|\n|epiphone|electric|standard    |null    |2405798.0|\n|epiphone|electric|es-335      |null    |2405798.0|\n|epiphone|electric|standard    |les paul|2405798.0|\n|epiphone|electric|standard    |les paul|2405798.0|\n|epiphone|electric|es-335      |null    |2429500.0|\n|epiphone|electric|modern      |null    |2432053.0|\n|epiphone|electric|standard    |les paul|2548013.0|\n|epiphone|electric|standard    |les paul|2548013.0|\n|epiphone|electric|standard    |les paul|2548013.0|\n|epiphone|electric|standard    |les paul|2548013.0|\n|epiphone|electric|standard    |les paul|2548013.0|\n|epiphone|electric|standard    |les paul|2577641.0|\n|epiphone|electric|standard    |les paul|2577641.0|\n|epiphone|electric|es-335      |null    |2577641.0|\n|epiphone|electric|standard    |sg      |2882216.0|\n|epiphone|electric|standard    |sg      |2882216.0|\n|epiphone|electric|sheraton    |null    |2962806.0|\n|epiphone|electric|es-335      |null    |3109760.0|\n|epiphone|electric|standard    |les paul|3261456.0|\n|epiphone|electric|standard    |les paul|3261456.0|\n|epiphone|electric|standard    |les paul|3261456.0|\n|epiphone|electric|standard    |les paul|3261456.0|\n|epiphone|electric|standard    |les paul|3261456.0|\n|epiphone|electric|sheraton    |null    |3319794.0|\n|epiphone|electric|sheraton    |null    |3374636.0|\n|epiphone|electric|custom      |les paul|3456607.0|\n|epiphone|electric|custom      |null    |3456607.0|\n|epiphone|electric|custom      |les paul|3456607.0|\n|epiphone|electric|sheraton    |null    |3583715.0|\n|epiphone|electric|custom      |null    |4424456.0|\n|epiphone|electric|custom      |les paul|4424456.0|\n|epiphone|electric|custom      |les paul|4424456.0|\n+--------+--------+------------+--------+---------+\n\n"
     ]
    }
   ],
   "source": [
    "# Observo el data frame ahora ya procesado y cuantas filas me quedaron\n",
    "print(f\"de: {df_epiphone.count()} quedaron: {df_epiphone_clean.count()}\")\n",
    "df_epiphone_final = df_epiphone_clean.select(\"brand\",\"type\",\"series\",\"model\",\"price\").orderBy('price')\n",
    "df_epiphone_final.show(df_epiphone_clean.count(),False)"
   ]
  },
  {
   "cell_type": "markdown",
   "metadata": {
    "application/vnd.databricks.v1+cell": {
     "cellMetadata": {
      "byteLimit": 2048000,
      "rowLimit": 10000
     },
     "inputWidgets": {},
     "nuid": "77ee1746-bf98-4be3-885b-7223eafc0c9e",
     "showTitle": false,
     "tableResultSettingsMap": {},
     "title": ""
    }
   },
   "source": [
    "## 4. Guitarras marca 'Yamaha'"
   ]
  },
  {
   "cell_type": "code",
   "execution_count": 0,
   "metadata": {
    "application/vnd.databricks.v1+cell": {
     "cellMetadata": {
      "byteLimit": 2048000,
      "rowLimit": 10000
     },
     "inputWidgets": {},
     "nuid": "714831f8-4917-4629-884f-d3e1817d91df",
     "showTitle": false,
     "tableResultSettingsMap": {},
     "title": ""
    }
   },
   "outputs": [
    {
     "output_type": "stream",
     "name": "stdout",
     "output_type": "stream",
     "text": [
      "379\n+--------------------+---------+\n|               title|    price|\n+--------------------+---------+\n|Guitarra criolla ...|  298.000|\n|Guitarra eléctric...|  538.012|\n|Guitarra Electroa...|  370.955|\n|Yamaha C40 Guitar...|  234.797|\n|Guitarra Eléctric...|1.110.833|\n|Guitarra Electroa...|  620.831|\n|Guitarra criolla ...|  329.352|\n|Guitarra eléctric...|  642.015|\n|Guitarra Acustica...|  577.862|\n|Guitarra criolla ...|  318.044|\n|Guitarra criolla ...|  251.265|\n|Guitarra eléctric...|  625.965|\n|Guitarra Clasica ...|  234.797|\n|Guitarra Electroa...|  499.988|\n|Guitarra Criolla ...|  260.000|\n|Yamaha Pacifica 1...|1.110.833|\n|Guitarra Criolla ...|  259.855|\n|Guitarra acústica...|  589.326|\n|Guitarra Clasica ...|  244.000|\n|Guitarra Acústica...|  537.017|\n|Yamaha Paquete De...|  771.775|\n|Guitarra acústica...|  606.784|\n|Guitarra criolla ...|  559.999|\n|Guitarra Electroa...|1.128.589|\n|Guitarra criolla ...|2.218.085|\n|Guitarra eléctric...|  535.013|\n|Guitarra Yamaha N...|2.655.962|\n|Guitarra Criolla ...|  371.058|\n|Guitarra eléctric...|2.316.481|\n|Guitarra Electroa...|  896.060|\n|Guitarra Criolla ...|  358.044|\n|Guitarra Clásica ...|  293.496|\n|Guitarra Clásica ...|  278.000|\n|Guitarra Criolla ...|  515.179|\n|Cuerdas de guitar...|2.557.904|\n|Guitarra Electro ...|2.391.756|\n|Guitarra eléctric...|  625.965|\n|Guitarra acústica...|  153.767|\n|Guitarra Clásica ...|  329.352|\n|Guitarra Acústica...|  598.900|\n|Guitarra eléctric...|  104.327|\n|Guitarra Electroa...|  990.774|\n|Yamaha Revstar Rs...|2.316.481|\n|Guitarra Criolla ...|  451.722|\n|Guitarra eléctric...|  100.221|\n|Guitarra Acustica...|  607.321|\n|Guitarra Criolla ...|  322.659|\n|Guitarra Electric...|  535.013|\n|Guitarra Electroc...|1.991.557|\n|Guitarra Electroa...|1.144.193|\n|Guitarra Electric...|6.108.056|\n|Guitarra acústica...|  118.322|\n|Guitarra criolla ...|  629.401|\n|Guitarra Yamaha A...|  593.326|\n|Guitarra eléctric...|  991.664|\n|Guitarra Criolla ...|  483.988|\n|Guitarra Electroa...|  165.129|\n|Guitarra Criolla ...|  254.300|\n|Guitarra Electroa...|  781.984|\n|Guitarra Yamaha E...|1.000.875|\n|Guitarra criolla ...|1.991.557|\n|Guitarra Criolla ...|  234.797|\n|Guitarra Electroa...|  781.984|\n|Guitarra Criolla ...|  234.800|\n|Guitarra Electroa...|  914.921|\n|Guitarra Electroa...|  990.774|\n|Guitarra Criolla ...|  403.323|\n|Guitarra Electric...|1.134.929|\n|Guitarra Acústica...|  530.126|\n|Guitarra Clásica ...|1.028.721|\n|Guitarra Eléctric...|1.371.589|\n|Cuerdas de guitar...|1.891.732|\n|Guitarra Clásica ...|  333.000|\n|Guitarra eléctric...|2.933.109|\n|Guitarra Transacu...|3.253.954|\n|Guitarra Acustica...|  753.734|\n|Guitarra Eléctric...|3.474.721|\n|Guitarra eléctric...|1.304.705|\n|Guitarra Electric...|1.528.366|\n|Guitarra Yamaha E...|  781.984|\n|Guitarra Electro ...|2.218.085|\n|Guitarra eléctric...|1.013.891|\n|Guitarra Acustica...|  703.485|\n|Guitarra acústica...|  589.326|\n|Guitarra Electroa...|  991.666|\n|Guitarra Clásica ...|  270.017|\n|Guitarra Criolla ...|  318.100|\n|Guitarra Electroa...|  914.921|\n|Guitarra Eléctric...|2.443.887|\n|Guitarra Criolla ...|  371.058|\n|Guitarra Criolla ...|  619.990|\n|Guitarra Electroa...|  640.157|\n|Guitarra Criolla ...|  465.509|\n|Guitarra Electric...|2.721.865|\n|Guitarra Criolla ...|  469.990|\n|Yamaha Revstar Rs...|2.895.601|\n|Guitarra acústica...|1.207.352|\n|Guitarra Yamaha E...|  974.642|\n|Guitalele Yamaha ...|  328.094|\n|Guitarra eléctric...|1.013.891|\n|Guitarra Electro ...|1.155.589|\n|Guitarra acústica...|  795.776|\n|Guitarra Transacu...|3.508.732|\n|Guitarra Clasica ...|  923.660|\n|Guitarra eléctric...|1.132.600|\n|Guitarra Electroc...|2.218.085|\n|Guitarra Acustica...|  530.126|\n|Guitarra Folk Yam...|  571.977|\n|Guitarra Electro ...|  875.507|\n|Guitarra eléctric...|2.721.865|\n|Guitarra Folk Yam...|  696.320|\n|Guitarra acústica...|1.207.352|\n|Guitarra Clasica ...|  373.468|\n|Guitarra Electric...|1.362.988|\n|Guitarra Electric...|2.934.981|\n|Guitarra Electroa...|1.971.121|\n|Guitarra Eléctric...|2.721.865|\n|Yamaha C40 Natura...|  333.000|\n|Guitarra Electric...|2.443.887|\n| Guitarra Acustic...|  530.126|\n|Pack Yamaha Eg-11...|  881.673|\n|Pack Guitarra Sup...|  798.048|\n|Guitarra Acústica...|  447.514|\n|Guitarra Electric...|1.362.990|\n|Guitarra acústica...|1.207.352|\n|Guitarra Electroa...|1.769.815|\n|Yamaha Guitarra E...|  611.199|\n|Guitarra Acústica...|  671.272|\n|Guitarra Electroa...|  918.831|\n|Guitarra Electric...|2.934.981|\n|Guitarra Electroa...|1.052.204|\n|Guitarra Eléctric...|  991.664|\n|Pack Guitarra Sup...|  964.342|\n|Yamaha Revstar Rs...|2.316.481|\n|Guitarra acústica...|1.904.603|\n|Guitarra Stratoca...|  547.407|\n|Guitarra Yamaha N...|  946.720|\n|Guitarra Electro ...|  713.602|\n|Guitarra Electric...|2.443.887|\n|Guitarra Acustica...|  636.654|\n|Guitarra Electroa...|2.125.455|\n|Guitarra Eléctric...|  818.588|\n|Guitarra Yamaha A...|  577.862|\n|Guitarra Acustica...|  511.236|\n|Guitarra Yamaha A...|  502.489|\n|Guitarra Yamaha A...|  628.111|\n|Guitarra Yamaha A...|  703.485|\n|Guitarra eléctric...|1.132.600|\n|Guitarra Yamaha A...|  753.734|\n|Yamaha F310p Guit...|  497.371|\n|Guitarra Elect. Z...|  849.652|\n|Guitarra Electroa...|1.991.557|\n|Guitarra Electroa...|1.124.069|\n|Guitarra Acústica...|  559.393|\n|Guitarra Electric...|7.335.457|\n|Guitarra acústica...|  500.372|\n|Guitarra Eléctric...|1.264.018|\n|Guitarra Electric...|1.835.488|\n|Guitarra Electro ...|  902.498|\n|Guitarra  Yamaha ...|3.243.073|\n|Guitarra Electric...|6.802.811|\n|Guitarra Electroa...|  750.919|\n|Guitarra Electroa...|1.511.552|\n|Guitarra Eléctric...|2.663.953|\n|Guitarra Electroa...|1.124.060|\n|Guitarra Electro ...|  640.723|\n|Guitarra Acústica...|  590.425|\n|Guitarra Stratoca...|  662.007|\n|Guitarra Electroa...|1.971.121|\n|Guitarra Eléctric...|2.721.865|\n|Guitarra Eléctric...|2.895.601|\n|Guitarra eléctric...|1.558.142|\n|Guitarra Eléctric...|1.264.020|\n|Guitarra Eléctric...|1.528.366|\n|Guitarra Folk Yam...|  621.714|\n|Guitarra Electroa...|  625.859|\n|Guitarra Acustica...|  502.489|\n|Guitarra Electroa...|2.125.455|\n|Guitarra Eléctric...|1.835.488|\n|Guitarra Acustica...|  590.425|\n|Guitarra Eléctric...|1.371.589|\n|Guitarra Acustica...|  628.111|\n|Guitarra Eléctric...|1.047.589|\n|Kit Guitarra Ampl...|  782.403|\n|Guitarra Electroc...|1.320.760|\n|Guitarra Eléctric...|1.371.589|\n|Guitarra Acústica...|  525.830|\n|Guitarra Electroa...|  824.993|\n|Guitarra Electric...|1.702.209|\n|Guitarra Electro ...|1.904.603|\n| Guitarra Acustic...|  590.425|\n|Guitarra Eléctric...|2.316.481|\n|Guitarra Electroa...|  868.967|\n|Guitarra Electroa...|  863.151|\n|Guitarra Eléctric...|1.702.209|\n|Guitarra Electroa...|  750.919|\n|Guitarra Electroa...|2.218.085|\n|Yamaha F310 Folk ...|  447.514|\n|Guitarra Electric...|  535.013|\n|Guitarra Electroa...|  768.795|\n|Guitarra Yamaha A...|1.474.843|\n|Guitarra Acústica...|  590.425|\n|Kit Guitarra Ampl...|  949.553|\n|Guitarra Electroa...|1.200.016|\n|Guitarra Acustica...|  530.126|\n|Guitarra Electroa...|  640.723|\n|Guitarra Acústica...|  626.520|\n|Guitarra Eléctric...|  701.119|\n|Guitarra Folk Yam...|  746.057|\n|Guitarra Electroa...|1.144.193|\n|Guitarra Electroa...|1.511.590|\n|Guitarra Electroa...|  713.602|\n|Guitarra Elect. Z...|1.030.768|\n|Yamaha F370 Guita...|  502.489|\n|Guitarra Electroa...|  824.993|\n|Guitarra Electroa...|  990.774|\n|Guitarra Yamaha A...|  799.165|\n|Guitarra Electroa...|1.052.204|\n|Guitarra Electroa...|1.128.589|\n|Guitarra electroa...|1.248.590|\n|Guitarra Electroa...|  606.784|\n|Guitarra Electroa...|  781.984|\n|Guitarra Electro ...|2.445.109|\n|Guitarra Electro ...|1.128.589|\n|Guitarra electroa...|1.128.589|\n|Guitarra Electro ...|  855.449|\n|Guitarra Acústica...|  497.371|\n|Guitarra Electro ...|1.677.012|\n|Guitarra Acústica...|  447.514|\n|Guitarra Electro ...|2.198.869|\n|Guitarra Electro ...|1.128.589|\n|Guitarra Electro ...|1.128.589|\n|Guitarra Acústica...|  595.990|\n|Guitarra Electro ...|1.432.476|\n|Guitarra Electro ...|2.198.869|\n|Guitarra Electro ...|1.128.589|\n|Guitarra Electro ...|1.677.012|\n|Guitarra Acústica...|  664.189|\n|Guitarra Electro ...|1.248.590|\n|Guitarra Electro ...|1.878.752|\n|Guitarra Electro ...|1.779.829|\n|Guitarra Silent Y...|1.887.732|\n|Guitarra Electroa...|  789.984|\n|Guitarra Electroa...|  607.321|\n|Guitarra Electroa...|1.117.789|\n|Guitarra Electroa...|  640.723|\n|Guitarra Electroa...|2.218.085|\n|Guitarra Electric...|  991.664|\n|Guitarra Criolla ...|  286.576|\n|Guitarra Criolla ...|  325.000|\n|Guitarra Electroa...|1.991.557|\n|Yamaha Guitalele ...|  296.458|\n|Guitarra Acustica...|  502.489|\n|Guitarra Acústica...|  447.514|\n|Guitarra Acustica...|  552.227|\n|Guitarra electroa...|  781.983|\n|Guitarra Acústica...|  502.839|\n|Guitarra Electro ...|1.005.152|\n|Guitarra Yamaha E...|  781.984|\n|Yamaha | F310 Gui...|  455.802|\n|Guitarra Yamaha C...|1.342.759|\n|Guitarra Acústica...|  447.514|\n|Guitarra Yamaha E...|1.737.776|\n|Guitarra Eléctric...|1.120.720|\n|Guitarra Yamaha S...|1.887.732|\n|Guitarra Yamaha A...|1.738.285|\n|Guitarra Acustica...|  447.514|\n|Guitarra acústica...|1.372.789|\n|Guitarra Yamaha E...|1.056.740|\n|Guitarra Acústica...|1.372.789|\n|Guitarra Yamaha A...|3.001.389|\n|Guitarra Electro ...|2.594.990|\n|Guitarra Eléctric...|  656.806|\n|Guitarra Yamaha E...|2.227.166|\n|Guitarra Yamaha E...|1.485.420|\n|Guitarra Electro ...|1.681.012|\n|Guitarra Yamaha E...|1.144.193|\n|Guitarra Yamaha A...|1.207.352|\n|Guitarra eléctric...|1.796.446|\n|Guitarra Yamaha P...|2.993.000|\n|Guitarra Yamaha P...|1.032.475|\n|Guitarra Yamaha E...|  711.488|\n|Guitarra Eléctric...|3.397.304|\n|Guitarra Yamaha A...|  868.718|\n|Guitarra criolla ...|  463.318|\n|Guitarra Yamaha A...|  506.524|\n|Guitarra Yamaha E...|2.016.116|\n|Pack Yamaha Guita...|  775.200|\n|Guitarra Yamaha E...|1.153.220|\n|Guitarra Electro ...|1.677.549|\n|Guitarra Yamaha A...|1.188.920|\n|Guitarra Eléctric...|2.320.600|\n|Guitarra Yamaha E...|  855.449|\n|Guitarra Eléctric...|  538.012|\n|Guitarra Yamaha E...|  816.200|\n|Guitarra Clasica ...|  449.676|\n|Guitarra Criolla ...|  705.329|\n|Guitarra Yamaha E...|1.414.219|\n|Guitarra Yamaha A...|  789.699|\n|Guitarra Eléctric...|  726.873|\n|Guitarra Electro ...|2.594.304|\n|Guitarra Yamaha E...|  785.984|\n|Guitarra Yamaha E...|1.436.479|\n|Guitarra Yamaha A...|2.202.000|\n|Guitarra Yamaha E...|  819.668|\n|Guitarra Yamaha E...|1.195.601|\n|Guitarra Electroa...|  855.449|\n|Guitarra Yamaha P...|1.036.861|\n|Guitarra Eléctric...|2.320.600|\n|Guitarra Electro ...|2.291.003|\n|Guitarra Eléctric...|3.578.090|\n|Guitarra Acústica...|  819.963|\n|Guitarra Yamaha E...|  896.060|\n|Guitarra Acústica...|1.383.911|\n|Guitarra Acústica...|  931.180|\n|Guitarra Acústica...|  671.965|\n|Guitarra Yamaha E...|  958.131|\n|Guitarra Electroa...|1.879.422|\n|Guitarra Yamaha E...|1.306.800|\n|Guitarra Eléctric...|2.240.934|\n|Guitarra Electroa...|1.181.800|\n|Guitarra Yamaha E...|1.511.552|\n|Guitarra Acústica...|2.390.323|\n|Guitarra Acústica...|1.245.137|\n|Guitarra Criolla ...|  341.070|\n|Guitarra Eléctric...|  901.994|\n|Guitarra eléctric...|1.340.900|\n|Guitarra Electroa...|1.181.800|\n|Guitarra Eléctric...|1.304.705|\n|Guitarra Yamaha P...|  774.776|\n|Guitarra Yamaha A...|  795.776|\n|Guitarra Yamaha R...|2.240.934|\n|Guitarra Electric...|1.171.459|\n|Guitarra Eléctric...|1.448.690|\n|Guitarra Criolla ...|  465.509|\n|Guitarra Eléctric...|1.259.324|\n|Guitarra Electroa...|2.245.336|\n|Guitarra Criolla ...|1.168.240|\n|Guitarlele Guital...|  465.980|\n|Guitarra Electric...|1.134.927|\n|Guitarra Yamaha P...|4.057.900|\n|Guitarra Electric...|  688.673|\n|Guitarlele Guital...|  300.458|\n|Guitarra Yamaha E...|1.677.549|\n|Guitarra Electric...|2.721.865|\n|Guitarra Yamaha A...|  789.699|\n|Guitarra Yamaha E...|1.419.475|\n|Guitarra Yamaha E...|2.220.135|\n|Guitarra Electro ...|2.227.166|\n|Guitarra Electroa...|1.879.422|\n|Guitarra Yamaha A...|  894.000|\n|Guitarra Acústica...|  610.195|\n|Guitarra Electroa...|1.415.471|\n|Guitarra Yamaha C...|1.447.717|\n|Guitarra Criolla ...|  450.426|\n|Guitarra Yamaha C...|  850.212|\n|Guitarra Criolla ...|  465.509|\n|Guitarra Clasica ...|  329.352|\n|Guitarra Criolla ...|  723.250|\n|Guitarra Yamaha C...|1.082.990|\n|Guitarra Yamaha C...|  632.402|\n|Guitarra Yamaha E...|  607.321|\n|Guitarra Eléctric...|2.242.309|\n|Guitarra Eléctric...|3.578.090|\n|Guitarra Electro ...|1.677.549|\n|Guitarra Yamaha C...|1.006.452|\n|Guitarra Criolla ...|1.671.108|\n|Guitarra Yamaha E...|  606.784|\n|Guitarra Criolla ...|  389.720|\n|Guitarra Eléctric...|  625.965|\n|Guitarra Clásica ...|2.557.904|\n|Guitarra Acústica...|  450.515|\n|Guitarra Clásica ...|1.891.732|\n|Guitarra Criolla ...|  432.700|\n|Guitarra Criolla ...|  627.260|\n|Yamaha C40m Guita...|  348.824|\n|Guitarra Electro ...|2.152.580|\n|Guitarra Eléctric...|1.304.705|\n|Pack Yamaha De Gu...|  832.704|\n+--------------------+---------+\n\n"
     ]
    }
   ],
   "source": [
    "# observo la cantidad filas y los datos\n",
    "\n",
    "print(df_yamaha.count())\n",
    "df_yamaha.show(380)"
   ]
  },
  {
   "cell_type": "code",
   "execution_count": 0,
   "metadata": {
    "application/vnd.databricks.v1+cell": {
     "cellMetadata": {
      "byteLimit": 2048000,
      "rowLimit": 10000
     },
     "inputWidgets": {},
     "nuid": "60aff157-9214-4014-be6a-124dc6748cd8",
     "showTitle": false,
     "tableResultSettingsMap": {},
     "title": ""
    }
   },
   "outputs": [],
   "source": [
    "# declaro las listas con las palabras clave\n",
    "guitar_type = [\"criolla\", \"acustica\", \"eléctrica\", \"clasica\", \"clásica\", \"electrica\", \"acústica\", \"concierto\", \"classic\", \"electric\", \"acustic\", \"electrocriolla\", \"electroacústica\", \"electroacustica\"]\n",
    "\n",
    "brand = [\"yamaha\"]\n",
    "\n",
    "yamaha_model = [\n",
    "    \"fg800\", \"fg830\", \"fgx800c\", \n",
    "    \"fg5\", \"fs800\", \"fsx800c\", \n",
    "    \"apx600\", \"apx1200ii\", \"012\", \n",
    "    \"112v\", \"611hfm\", \"element\", \n",
    "    \"professional\",\"c40\",\"c80\",\"c70\",\"apx700ii\",\"apx700\",\n",
    "    \"apx-700\",\"apx-600\", \"fx370\",\"fx310\",\"f370\",\"f310\"\n",
    "]\n",
    "\n",
    "yamaha_series = [\n",
    "    \"fg\", \"fs\", \"apx\", \"pacifica\", \"cpx\",\n",
    "    \"revstar\",\"pac\",\"fx\"\n",
    "]\n",
    "\n",
    "# creo las UDF\n",
    "extract_type_udf = extract_from_list_udf_creator(guitar_type)\n",
    "extract_brand_udf = extract_from_list_udf_creator(brand)\n",
    "extract_model_udf = extract_from_list_udf_creator(yamaha_model)\n",
    "extract_series_udf = extract_from_list_udf_creator(yamaha_series)\n",
    "\n",
    "# hago las transformaciones\n",
    "df_yamaha = df_yamaha.withColumn(\"title_lower\", lower(col(\"title\"))) \\\n",
    "    .withColumn(\"type\", extract_type_udf(col(\"title_lower\"))) \\\n",
    "    .withColumn(\"brand\", extract_brand_udf(col(\"title_lower\"))) \\\n",
    "    .withColumn(\"model\", extract_model_udf(col(\"title_lower\"))) \\\n",
    "    .withColumn(\"series\", extract_series_udf(col(\"title_lower\"))) "
   ]
  },
  {
   "cell_type": "markdown",
   "metadata": {
    "application/vnd.databricks.v1+cell": {
     "cellMetadata": {
      "byteLimit": 2048000,
      "rowLimit": 10000
     },
     "inputWidgets": {},
     "nuid": "42d207e9-14ab-4025-9ebb-ea8f22b6aaaf",
     "showTitle": false,
     "tableResultSettingsMap": {},
     "title": ""
    }
   },
   "source": [
    "### Observo la cantidad de valores nulos"
   ]
  },
  {
   "cell_type": "code",
   "execution_count": 0,
   "metadata": {
    "application/vnd.databricks.v1+cell": {
     "cellMetadata": {
      "byteLimit": 2048000,
      "rowLimit": 10000
     },
     "inputWidgets": {},
     "nuid": "6e19ac3a-29f2-47e2-89de-2bacb191f82a",
     "showTitle": false,
     "tableResultSettingsMap": {},
     "title": ""
    }
   },
   "outputs": [
    {
     "output_type": "stream",
     "name": "stdout",
     "output_type": "stream",
     "text": [
      "+--------------------------------------------------+------+---------+--------+------------+\n|substring(title_lower, 1, 50)                     |brand |type     |series  |model       |\n+--------------------------------------------------+------+---------+--------+------------+\n|guitarra criolla clásica yamaha c40 para diestros |yamaha|criolla  |null    |c40         |\n|guitarra eléctrica yamaha pac012/100 series 012 st|yamaha|eléctrica|pac     |012         |\n|guitarra electroacústica yamaha cx40 para diestros|yamaha|acústica |null    |null        |\n|yamaha c40 guitarra clasica criolla de estudio pro|yamaha|criolla  |null    |c40         |\n|guitarra eléctrica yamaha pac112v superstrato - pl|yamaha|eléctrica|pac     |112v        |\n|guitarra electroacústica yamaha fsx315c natural - |yamaha|acústica |fs      |null        |\n|guitarra criolla clásica yamaha c70 para diestros |yamaha|criolla  |null    |c70         |\n|guitarra eléctrica yamaha pac012/100 series 012 st|yamaha|eléctrica|pac     |012         |\n|guitarra acustica folk yamaha f370 tapa solida    |yamaha|acustica |null    |f370        |\n|guitarra criolla clásica yamaha c40 para diestros |yamaha|criolla  |null    |c40         |\n|guitarra criolla clásica yamaha c40m para diestros|yamaha|criolla  |null    |c40         |\n|guitarra eléctrica yamaha pac012/100 series 012 st|yamaha|eléctrica|pac     |012         |\n|guitarra clasica criolla yamaha c40 natural       |yamaha|criolla  |null    |c40         |\n|guitarra electroacustica 12 cuerdas deviser pre fi|null  |acustica |null    |null        |\n|guitarra criolla clásica yamaha c40m natural satin|yamaha|criolla  |null    |c40         |\n|yamaha pacifica 112v yns guitarra electrica       |yamaha|electrica|pacifica|112v        |\n|guitarra criolla yamaha c40 clasica con trastes de|yamaha|criolla  |pac     |c40         |\n|guitarra acústica yamaha fg/fgx fs800 para diestro|yamaha|acústica |fg      |fs800       |\n|guitarra clasica yamaha c40 natural               |yamaha|clasica  |null    |c40         |\n|guitarra acústica yamaha f310tbs tabacco brown sun|yamaha|acústica |null    |f310        |\n|yamaha paquete de guitarra electrica eg112gpiibl b|yamaha|electrica|null    |null        |\n|guitarra acústica yamaha fx310aii para diestros na|yamaha|acústica |fx      |fx310       |\n|guitarra criolla clásica yamaha c80 para diestros |yamaha|criolla  |null    |c80         |\n|guitarra electroacústica yamaha apx600 acero - neg|yamaha|acústica |apx     |apx600      |\n|guitarra criolla clásica yamaha slg200n para diest|yamaha|criolla  |null    |null        |\n|guitarra eléctrica yamaha pac012/100 series 012 st|yamaha|eléctrica|pac     |012         |\n|guitarra yamaha ncx3 de nailon macizo con funda, p|yamaha|null     |null    |null        |\n|guitarra criolla yamaha cgs102a escolar tamaño med|yamaha|criolla  |null    |null        |\n|guitarra eléctrica yamaha revstar standard rss20 d|yamaha|eléctrica|revstar |null        |\n|guitarra electroacústica yamaha fgx800c para diest|yamaha|acústica |fg      |fgx800c     |\n|guitarra criolla clásica yamaha c40 bl negro distr|yamaha|criolla  |null    |c40         |\n|guitarra clásica yamaha c40 natural 4/4 brillante |yamaha|clásica  |null    |c40         |\n|guitarra clásica yamaha c40 cuerdas de nylon  crio|yamaha|criolla  |null    |c40         |\n|guitarra criolla clasica yamaha c80 tapa de picea |yamaha|criolla  |null    |c80         |\n|cuerdas de guitarra silenciosas en acero slg 200s |yamaha|null     |null    |null        |\n|guitarra electro criolla yamaha silent slg200 ntbs|yamaha|criolla  |null    |null        |\n|guitarra eléctrica yamaha pac012/100 series 012 st|yamaha|eléctrica|pac     |012         |\n|guitarra acústica yamaha fg/fgx fg830 para diestro|yamaha|acústica |fg      |fg830       |\n|guitarra clásica yamaha c70 color natural orientac|yamaha|clásica  |null    |c70         |\n|guitarra acústica yamaha f310p para diestros natur|yamaha|acústica |null    |f310        |\n|guitarra eléctrica yamaha pac012/100 series 012 st|yamaha|eléctrica|pac     |012         |\n|guitarra electroacústica yamaha fx370c para diestr|yamaha|acústica |fx      |fx370       |\n|yamaha revstar rss20 vw guitarra eléctrica materia|yamaha|eléctrica|revstar |null        |\n|guitarra criolla yamaha cgs102a escolar tamaño med|yamaha|criolla  |null    |null        |\n|guitarra eléctrica yamaha pac012/100 series pacifi|yamaha|eléctrica|pacifica|012         |\n|guitarra acustica c/ecualizador yamaha fsx315c nat|yamaha|acustica |fs      |null        |\n|guitarra criolla clásica yamaha cgs102a tamaño 1/2|yamaha|criolla  |null    |null        |\n|guitarra electrica pacífica yamaha pac012rm       |yamaha|electrica|pac     |012         |\n|guitarra electrocriolla yamaha slg200n silent con |yamaha|criolla  |null    |null        |\n|guitarra electroacústica yamaha apx600fm tbs o mab|yamaha|acústica |apx     |apx600      |\n|guitarra electrica yamaha rsp02t revstar professio|yamaha|electrica|revstar |professional|\n|guitarra acústica yamaha fx310aii para diestros na|yamaha|acústica |fx      |fx310       |\n|guitarra criolla clásica yamaha cg122ms para diest|yamaha|criolla  |null    |null        |\n|guitarra yamaha acústica fg800 sb                 |yamaha|acústica |fg      |fg800       |\n|guitarra eléctrica para zurdo yamaha pac012/100 se|yamaha|eléctrica|pacifica|012         |\n|guitarra criolla clásica yamaha cgs102a escolar 1/|yamaha|criolla  |null    |null        |\n|guitarra electroacústica yamaha fx370c para diestr|yamaha|acústica |fx      |fx370       |\n|guitarra criolla clasica yamaha c40m nylon estudio|yamaha|criolla  |null    |c40         |\n|guitarra electroacústica yamaha fx370c para diestr|yamaha|acústica |fx      |fx370       |\n|guitarra yamaha elec/acústica apx600-nt natural c/|yamaha|acústica |apx     |apx600      |\n|guitarra criolla clásica yamaha slg200n para diest|yamaha|criolla  |null    |null        |\n|guitarra criolla clásica yamaha c40 para diestros |yamaha|criolla  |null    |c40         |\n|guitarra electroacústica yamaha fx370c para diestr|yamaha|acústica |fx      |fx370       |\n|guitarra criolla clasica yamaha c40 c-40 clasica n|yamaha|criolla  |null    |c40         |\n|guitarra electroacústica yamaha fx370c para diestr|yamaha|acústica |fx      |fx370       |\n|guitarra electroacústica yamaha fx370c tbs tobacco|yamaha|acústica |fx      |fx370       |\n|guitarra criolla yamaha cgs102a 1/2 escolar       |yamaha|criolla  |null    |null        |\n|guitarra electrica yamaha pacifica pac120 hvw humb|yamaha|electrica|pacifica|null        |\n|guitarra acústica tipo folk yamaha f370 natural   |yamaha|acústica |null    |f370        |\n|guitarra clásica criolla yamaha cgx102 con afinado|yamaha|criolla  |null    |null        |\n|guitarra eléctrica yamaha pacifica pac120h negro c|yamaha|eléctrica|pacifica|null        |\n|cuerdas de guitarra silenciosas en acero slg 200s |yamaha|null     |null    |null        |\n|guitarra clásica yamaha c40 color natural orientac|yamaha|clásica  |null    |c40         |\n|guitarra eléctrica yamaha serie 600 pac612viifmx d|yamaha|eléctrica|pac     |null        |\n|guitarra transacustica yamaha sunburst amplificada|yamaha|acustica |null    |null        |\n|guitarra acustica folk yamaha f370 tapa picea soli|yamaha|acustica |null    |f370        |\n|guitarra eléctrica yamaha revstar rss20 vintage wh|yamaha|eléctrica|revstar |null        |\n|guitarra eléctrica yamaha pac012/100 series 112v d|yamaha|eléctrica|pac     |012         |\n|guitarra electrica yamaha rse20 revstar element   |yamaha|electrica|revstar |element     |\n|guitarra yamaha electroacústica fx370 cnt serie fo|yamaha|acústica |fx      |fx370       |\n|guitarra electro criolla yamaha silent slg200 ntbs|yamaha|criolla  |null    |null        |\n|guitarra eléctrica yamaha pac012/100 series 112v d|yamaha|eléctrica|pac     |012         |\n|guitarra acustica folk yamaha f370 tapa picea negr|yamaha|acustica |null    |f370        |\n|guitarra acústica yamaha fg/fgx fs800 para diestro|yamaha|acústica |fg      |fs800       |\n|guitarra electroacústica yamaha fgx800c para diest|yamaha|acústica |fg      |fgx800c     |\n|guitarra clásica criolla yamaha c40 natural       |yamaha|criolla  |null    |c40         |\n|guitarra criolla clasica yamaha c40bl c-40 nylon c|yamaha|criolla  |null    |c40         |\n|guitarra electroacústica yamaha fx370c para diestr|yamaha|acústica |fx      |fx370       |\n|guitarra eléctrica yamaha rss20fg revstar std flas|yamaha|eléctrica|fg      |null        |\n|guitarra criolla yamaha cgs102a 1/2 viaje niños   |yamaha|criolla  |null    |null        |\n|guitarra criolla clasica yamaha c80 natural.      |yamaha|criolla  |null    |c80         |\n|guitarra electroacustica yamaha fx310a folk electr|yamaha|acustica |fx      |fx310       |\n|guitarra criolla clasica yamaha c80 natural       |yamaha|criolla  |null    |c80         |\n|guitarra electrica yamaha rss02t revstar standart |yamaha|electrica|revstar |null        |\n|guitarra criolla clásica yamaha c40 bl negro dist.|yamaha|criolla  |null    |c40         |\n|yamaha revstar rss20 vw guitarra eléctrica vintage|yamaha|eléctrica|revstar |null        |\n|guitarra acústica yamaha fg/fgx fsx800c para diest|yamaha|acústica |fg      |fsx800c     |\n|guitarra yamaha electro acústica apxt2 cuo        |yamaha|acústica |apx     |null        |\n|guitalele yamaha gl1tbs mini guitarra tobacco brow|yamaha|null     |null    |null        |\n|guitarra eléctrica yamaha pac012/100 series 112v d|yamaha|eléctrica|pac     |012         |\n|guitarra electro criolla clásica yamaha cgx102 dis|yamaha|criolla  |null    |null        |\n|guitarra acústica yamaha fg/fgx fs800 para diestro|yamaha|acústica |fg      |fs800       |\n|guitarra transacustica yamaha lltabs sunburst ampl|yamaha|acustica |null    |null        |\n|guitarra clasica criolla yamaha cgx102 con afinado|yamaha|criolla  |null    |null        |\n|guitarra eléctrica yamaha pac012/100 series 112v d|yamaha|eléctrica|pac     |012         |\n|guitarra electrocriolla yamaha slg200n silent fund|yamaha|criolla  |null    |null        |\n|guitarra acustica folk yamaha f310 tapa abeto caja|yamaha|acustica |null    |f310        |\n|guitarra folk yamaha f310 cherry color sunburst la|yamaha|null     |null    |f310        |\n|guitarra electro criolla clásica yamaha cgx102 dis|yamaha|criolla  |null    |null        |\n|guitarra eléctrica yamaha revstar standard rss20 d|yamaha|eléctrica|revstar |null        |\n|guitarra folk yamaha f310 cherry sunburst laqueada|yamaha|null     |null    |f310        |\n|guitarra acústica yamaha fg/fgx fsx800c para diest|yamaha|acústica |fg      |fsx800c     |\n|guitarra clasica yamaha c70 color natural clavijas|yamaha|clasica  |null    |c70         |\n|guitarra electrica yamaha pacifica pac120 htbs tob|yamaha|electrica|pacifica|null        |\n|guitarra electrica yamaha rss20 revstar standart f|yamaha|electrica|revstar |null        |\n|guitarra electroacústica yamaha fs-ta transacousti|yamaha|acústica |fs      |null        |\n|guitarra eléctrica yamaha rss20fg revstar std flas|yamaha|eléctrica|fg      |null        |\n|yamaha c40 natural diestro clásica                |yamaha|clásica  |null    |c40         |\n|guitarra electrica yamaha rss20 revstar standart f|yamaha|electrica|revstar |null        |\n| guitarra acustica folk yamaha f370 tapa picea caj|yamaha|acustica |null    |f370        |\n|pack yamaha eg-112gpii bl guitarra amplificador y |yamaha|null     |pac     |null        |\n|pack guitarra superstrato ampli yamaha erg121gpii |yamaha|null     |pac     |null        |\n|guitarra acústica yamaha f310 dreadnought natural |yamaha|acústica |null    |f310        |\n|guitarra electrica yamaha pacifica pac120 hvw humb|yamaha|electrica|pacifica|null        |\n|guitarra acústica yamaha fg/fgx fsx800c para diest|yamaha|acústica |fg      |fsx800c     |\n|guitarra electroacústica yamaha fg-ta transacousti|yamaha|acústica |fg      |null        |\n|yamaha guitarra eléctrica pacifica super strato hs|yamaha|eléctrica|pacifica|012         |\n|guitarra acústica yamaha f310 dreadnought beige   |yamaha|acústica |null    |f310        |\n|guitarra electroacústica yamaha fx370c natural con|yamaha|acústica |fx      |fx370       |\n|guitarra electrica yamaha rss02t revstar standart |yamaha|electrica|revstar |null        |\n|guitarra electroacústica c/corte yamaha apx600 bla|yamaha|acústica |apx     |apx600      |\n|guitarra eléctrica yamaha pac112v superstrato - pl|yamaha|eléctrica|pac     |112v        |\n|pack guitarra superstrato ampli yamaha erg121gpii |yamaha|null     |pac     |null        |\n|yamaha revstar rss20 vw guitarra eléctrica        |yamaha|eléctrica|revstar |null        |\n|guitarra acústica yamaha apx700ii 12 strings para |yamaha|acústica |apx     |apx700ii    |\n|guitarra stratocater eléctrica yamaha pacifica 012|yamaha|eléctrica|pacifica|012         |\n|guitarra yamaha nt electroacústica modelo apx 600 |yamaha|acústica |apx     |null        |\n|guitarra electro acústica yamaha fsx315c tbs folk |yamaha|acústica |fs      |null        |\n|guitarra electrica yamaha rss02t revstar standart |yamaha|electrica|revstar |null        |\n|guitarra acustica folk yamaha f310 tapa abeto caja|yamaha|acustica |null    |f310        |\n|guitarra electroacústica yamaha fg-ta transacousti|yamaha|acústica |fg      |null        |\n|guitarra eléctrica yamaha pac112v superstrato - od|yamaha|eléctrica|pac     |112v        |\n|guitarra yamaha acustica f370tbs tobacco          |yamaha|acustica |null    |f370        |\n|guitarra acustica yamaha f310 folk serie f natural|yamaha|acustica |null    |f310        |\n|guitarra yamaha acustica f370tbs                  |yamaha|acustica |null    |f370        |\n|guitarra yamaha acustica f370tbs sunburts         |yamaha|acustica |null    |f370        |\n|guitarra yamaha acustica f370tbs folk             |yamaha|acustica |null    |f370        |\n|guitarra eléctrica yamaha pac012/100 series 112v d|yamaha|eléctrica|pac     |012         |\n|guitarra yamaha acustica f370tbs folk tobacco     |yamaha|acustica |null    |f370        |\n|yamaha f310p guit acústica f310 natural pack de ac|yamaha|acústica |pac     |f310        |\n|guitarra elect. zurda yamaha pacifica 112 funda dl|yamaha|null     |pacifica|null        |\n|guitarra electroacustica yamaha slg200s silent con|yamaha|acustica |null    |null        |\n|guitarra electroacústica yamaha cpx600-ov color su|yamaha|acústica |cpx     |null        |\n|guitarra acústica yamaha f310 dreadnought marron  |yamaha|acústica |null    |f310        |\n|guitarra electrica yamaha rsp02t revstar professio|yamaha|electrica|revstar |professional|\n|guitarra acústica yamaha f310p para diestros cherr|yamaha|acústica |null    |f310        |\n|guitarra eléctrica yamaha pacifica pac120 htbs tob|yamaha|eléctrica|pacifica|null        |\n|guitarra electrica yamaha rse20 revstar element   |yamaha|electrica|revstar |element     |\n|guitarra electro acústica yamaha apx600 serie apx |yamaha|acústica |apx     |apx600      |\n|guitarra  yamaha revstar bk electrica rss20       |yamaha|electrica|revstar |null        |\n|guitarra electrica yamaha rsp02t revstar professio|yamaha|electrica|revstar |professional|\n|guitarra electroacústica yamaha fsx315c natural - |yamaha|acústica |fs      |null        |\n|guitarra electroacústica yamaha apx700ii 12 cuerda|yamaha|acústica |apx     |apx700ii    |\n|guitarra eléctrica yamaha revstar standard rss20 b|yamaha|eléctrica|revstar |null        |\n|guitarra electroacústica yamaha cpx600-bk color ne|yamaha|acústica |cpx     |null        |\n|guitarra electro acústica yamaha fsx315c tbs folk |yamaha|acústica |fs      |null        |\n|guitarra acústica folk yamaha f310 tapa abeto cuo |yamaha|acústica |null    |f310        |\n|guitarra stratocater eléctrica yamaha pacifica 012|yamaha|eléctrica|pacifica|012         |\n|guitarra electroacústica yamaha fg-ta transacousti|yamaha|acústica |fg      |null        |\n|guitarra eléctrica yamaha rss20fg revstar std hot |yamaha|eléctrica|fg      |null        |\n|guitarra eléctrica yamaha revstar black bl rss20  |yamaha|eléctrica|revstar |null        |\n|guitarra eléctrica yamaha apx700ii natural apx-700|yamaha|eléctrica|apx     |apx700ii    |\n|guitarra eléctrica yamaha pacifica pac120 hvw humb|yamaha|eléctrica|pacifica|null        |\n|guitarra eléctrica yamaha rse20vw revstar element |yamaha|eléctrica|revstar |element     |\n|guitarra folk yamaha f310 cherry color sunburst br|yamaha|null     |null    |f310        |\n|guitarra electroacustica yamaha fsx315c con corte |yamaha|acustica |fs      |null        |\n|guitarra acustica folk yamaha f370 tapa picea caja|yamaha|acustica |null    |f370        |\n|guitarra electroacústica yamaha fs-ta transacousti|yamaha|acústica |fs      |null        |\n|guitarra eléctrica yamaha rse20vw revstar element |yamaha|eléctrica|revstar |element     |\n|guitarra acustica yamaha f370 flok 4/4 tobacco sun|yamaha|acustica |null    |f370        |\n|guitarra eléctrica yamaha pacifica pac120h bl negr|yamaha|eléctrica|pacifica|null        |\n|guitarra acustica folk yamaha f370 tapa solida neg|yamaha|acustica |null    |f370        |\n|guitarra eléctrica yamaha pacifica pac120h yns yel|yamaha|eléctrica|pacifica|null        |\n|kit guitarra ampli accesorios yamaha gigmaker eg11|yamaha|null     |null    |null        |\n|guitarra electrocústica yamaha fsx800c-sb sand bur|yamaha|null     |fs      |fsx800c     |\n|guitarra eléctrica yamaha pacifica pac120h yns yel|yamaha|eléctrica|pacifica|null        |\n|guitarra acústica yamaha f310 folk en caja        |yamaha|acústica |null    |f310        |\n|guitarra electroacústica yamaha fx370c tbs tobacco|yamaha|acústica |fx      |fx370       |\n|guitarra electrica yamaha rse20 revstar element cu|yamaha|electrica|revstar |element     |\n|guitarra electro acustica 12 cuerdas - yamaha apx |yamaha|acustica |apx     |null        |\n| guitarra acustica folk yamaha f370 tapa picea caj|yamaha|acustica |null    |f370        |\n|guitarra eléctrica yamaha revstar standard rss20  |yamaha|eléctrica|revstar |null        |\n|guitarra electroacústica c/corte yamaha apx600 bk |yamaha|acústica |apx     |apx600      |\n|guitarra electroacustica yamaha apx600 natural - o|yamaha|acustica |apx     |apx600      |\n|guitarra eléctrica yamaha rse20vw revstar element |yamaha|eléctrica|revstar |element     |\n|guitarra electroacustica yamaha fsx315c c/corte - |yamaha|acustica |fs      |null        |\n|guitarra electroacústica yamaha silent slg200snt c|yamaha|acústica |null    |null        |\n|yamaha f310 folk - natural - en belgrano!         |yamaha|null     |null    |f310        |\n|guitarra electrica yamaha pacifica 012 colores var|yamaha|electrica|pacifica|012         |\n|guitarra electroacustica yamaha fx310a folk electr|yamaha|acustica |fx      |fx310       |\n|guitarra yamaha a1mtbs acustica c/ ecualizador tbs|yamaha|acustica |null    |null        |\n|guitarra acústica tipo folk yamaha f370 natural cu|yamaha|acústica |null    |f370        |\n|kit guitarra ampli accesorios yamaha gigmaker eg11|yamaha|null     |null    |null        |\n|guitarra electroacustica yamaha modelo apx 600 bla|yamaha|acustica |apx     |null        |\n|guitarra acustica yamaha f370 flok 4/4 tobacco sun|yamaha|acustica |null    |f370        |\n|guitarra electroacustica yamaha fsx 315 ecualizado|yamaha|acustica |fs      |null        |\n|guitarra acústica yamaha f310 dreadnought color ma|yamaha|acústica |null    |f310        |\n|guitarra eléctrica yamaha pacifica + funda deluxe |yamaha|eléctrica|pacifica|null        |\n|guitarra folk yamaha f310 cherry sunburst laca bri|yamaha|null     |null    |f310        |\n|guitarra electroacústica yamaha apx600fm para dies|yamaha|acústica |apx     |apx600      |\n|guitarra electroacustica 12 cuerdas yamaha apx 700|yamaha|acustica |apx     |null        |\n|guitarra electroacustica yamaha fsx315c natural cu|yamaha|acustica |fs      |null        |\n|guitarra elect. zurda yamaha pacifica 112 funda dl|yamaha|null     |pacifica|null        |\n|yamaha f370 guitarra acustica natural dist. ofic. |yamaha|acustica |null    |f370        |\n|guitarra electroacústica yamaha fx370c natural con|yamaha|acústica |fx      |fx370       |\n|guitarra electroacústica yamaha fx370c natural con|yamaha|acústica |fx      |fx370       |\n|guitarra yamaha acústica fg800 mnt cuo            |yamaha|acústica |fg      |fg800       |\n|guitarra electroacustica yamaha apx600 - plus     |yamaha|acustica |apx     |apx600      |\n|guitarra electroacústica yamaha apx600 o. blue bur|yamaha|acústica |apx     |apx600      |\n|guitarra electroacústica yamaha apx600 vintage whi|yamaha|acústica |apx     |apx600      |\n|guitarra electroacústica yamaha fx310-a ii nat dis|yamaha|acústica |fx      |fx310       |\n|guitarra electroacústica yamaha fx370c serie folk |yamaha|acústica |fx      |fx370       |\n|guitarra electro acústica yamaha apx700ii 12 cuerd|yamaha|acústica |apx     |apx700ii    |\n|guitarra electro acústica yamaha apx600 bl black n|yamaha|acústica |apx     |apx600      |\n|guitarra electroacústica yamaha apx600m ns de acer|yamaha|acústica |apx     |apx600      |\n|guitarra electro acústica yamaha apx600 ovs old v.|yamaha|acústica |apx     |apx600      |\n|guitarra acústica folk yamaha f310-p tbs funda y a|yamaha|acústica |null    |f310        |\n|guitarra electro acústica yamaha ac1r distribuidor|yamaha|acústica |null    |null        |\n|guitarra acústica folk yamaha f310 dreadnought nat|yamaha|acústica |null    |f310        |\n|guitarra electro acústica yamaha a1m tbs dist ofic|yamaha|acústica |null    |null        |\n|guitarra electro acústica yamaha apx600 obb o. blu|yamaha|acústica |apx     |apx600      |\n|guitarra electro acústica yamaha apx600 ovs old v.|yamaha|acústica |apx     |apx600      |\n|guitarra acústica folk yamaha f310 dreadnought nat|yamaha|acústica |null    |f310        |\n|guitarra electro acústica yamaha cpx700ii dist. of|yamaha|acústica |cpx     |null        |\n|guitarra electro acústica yamaha ac1r dist oficial|yamaha|acústica |null    |null        |\n|guitarra electro acústica yamaha apx600 nt natural|yamaha|acústica |apx     |apx600      |\n|guitarra electro acústica yamaha a1m tbs distr ofi|yamaha|acústica |null    |null        |\n|guitarra acústica folk yamaha f310p tbs funda y ac|yamaha|acústica |null    |f310        |\n|guitarra electro acústica yamaha apx600 vb vintage|yamaha|acústica |apx     |apx600      |\n|guitarra electro acústica yamaha apx-700-ii 12 cue|yamaha|acústica |apx     |apx-700     |\n|guitarra electro acústica yamaha cpx700ii dist. of|yamaha|acústica |cpx     |null        |\n|guitarra silent yamaha slg200stbl                 |yamaha|null     |null    |null        |\n|guitarra electroacustica yamaha fx370 tbs linea 20|yamaha|acustica |fx      |fx370       |\n|guitarra electroacústica yamaha fsx315 cuerdas ace|yamaha|acústica |fs      |null        |\n|guitarra electroacústica yamaha fx370c serie folk |yamaha|acústica |fx      |fx370       |\n|guitarra electroacustica yamaha fsx315c natural   |yamaha|acustica |fs      |null        |\n|guitarra electroacústica yamaha slg200s silent fun|yamaha|acústica |null    |null        |\n|guitarra electrica zurda yamaha pacifica 112 - plu|yamaha|electrica|pacifica|null        |\n|guitarra criolla clasica yamaha cs40              |yamaha|criolla  |null    |null        |\n|guitarra criolla clásica yamaha c40 nylon estudio |yamaha|criolla  |null    |c40         |\n|guitarra electroacustica yamaha silent slg200snt  |yamaha|acustica |null    |null        |\n|yamaha guitalele gl1 6 cuerdas funda original dist|yamaha|null     |null    |null        |\n|guitarra acustica folk yamaha f370 !! consultar co|yamaha|acustica |null    |f370        |\n|guitarra acústica folk yamaha f310 sunburst dist o|yamaha|acústica |null    |f310        |\n|guitarra acustica con funda y accesorios yamaha mu|yamaha|acustica |null    |null        |\n|guitarra electroacústica yamaha fx370c bl folk con|yamaha|acústica |fx      |fx370       |\n|guitarra acústica yamaha f310tbs con funda musicap|yamaha|acústica |null    |f310        |\n|guitarra electro acústica yamaha apx600 serie apx |yamaha|acústica |apx     |apx600      |\n|guitarra yamaha electroacustica folk fx 370c tbs  |yamaha|acustica |fx      |null        |\n|yamaha | f310 guitarra acústica folk              |yamaha|acústica |null    |f310        |\n|guitarra yamaha cgx-122 msnt cuo                  |yamaha|null     |null    |null        |\n|guitarra acústica folk yamaha f310                |yamaha|acústica |null    |f310        |\n|guitarra yamaha electro acústica fsx820 c bs cuo  |yamaha|acústica |fs      |null        |\n|guitarra eléctrica yamaha pacifica pac-120h       |yamaha|eléctrica|pacifica|null        |\n|guitarra yamaha silent slg200 n nt nylon con funda|yamaha|null     |null    |null        |\n|guitarra yamaha apx700ii electroacústica de 12 cue|yamaha|acústica |apx     |apx700ii    |\n|guitarra acustica folk yamaha f310 / preguntar por|yamaha|acustica |null    |f310        |\n|guitarra acústica yamaha fg/fgx fg820-12 para dies|yamaha|acústica |fg      |null        |\n|guitarra yamaha electroacustica folk fx 370c tbs c|yamaha|acustica |fx      |null        |\n|guitarra acústica yamaha  fg820 - 12 cuerdas cuo  |yamaha|acústica |fg      |null        |\n|guitarra yamaha a3 m vnt acustica cuo             |yamaha|acustica |null    |null        |\n|guitarra electro acústica yamaha fgctavt transacou|yamaha|acústica |fg      |null        |\n|guitarra eléctrica yamaha pacifica pac 112 stratoc|yamaha|eléctrica|pacifica|null        |\n|guitarra yamaha electro acústica transacústica fsc|yamaha|acústica |fs      |null        |\n|guitarra yamaha electroacústica cpx-600 envío grat|yamaha|acústica |cpx     |null        |\n|guitarra electro acustica yamaha a1 rosewood      |yamaha|acustica |null    |null        |\n|guitarra yamaha electroacústica apx-600 cuo       |yamaha|acústica |apx     |apx-600     |\n|guitarra yamaha acústica fsxc800 cuo              |yamaha|acústica |fs      |c80         |\n|guitarra eléctrica yamaha pac012/100 series 112v d|yamaha|eléctrica|pac     |012         |\n|guitarra yamaha pacifica pacs + 12sb color azul ma|yamaha|null     |pacifica|null        |\n|guitarra yamaha pack egr 121 gp ii mb cuo         |yamaha|null     |pac     |null        |\n|guitarra yamaha electro acústica apxt2            |yamaha|acústica |apx     |null        |\n|guitarra eléctrica yamaha revstar rs-820cr cuo    |yamaha|eléctrica|revstar |null        |\n|guitarra yamaha acústica fg800 sb cuo             |yamaha|acústica |fg      |fg800       |\n|guitarra criolla clásica yamaha cg/cgx cg102 para |yamaha|criolla  |null    |null        |\n|guitarra yamaha acustica f370                     |yamaha|acustica |null    |f370        |\n|guitarra yamaha electroacústica apx-700 ii 12 cuer|yamaha|acústica |apx     |apx-700     |\n|pack yamaha guitarra electrica egr121 ampli acceso|yamaha|electrica|pac     |null        |\n|guitarra yamaha electroacústica apx-600 cuo       |yamaha|acústica |apx     |apx-600     |\n|guitarra electro acústica yamaha fgctavt transacou|yamaha|acústica |fg      |null        |\n|guitarra yamaha acústica fs820 nt o tq cuo        |yamaha|acústica |fs      |null        |\n|guitarra eléctrica yamaha rss20lsb zurda revstar s|yamaha|eléctrica|revstar |null        |\n|guitarra yamaha electroacústica apx-600           |yamaha|acústica |apx     |apx-600     |\n|guitarra eléctrica yamaha pacifica pac 012 stratoc|yamaha|eléctrica|pacifica|012         |\n|guitarra yamaha electro acústica fx 310aii con afi|yamaha|acústica |fx      |null        |\n|guitarra clasica yamaha c70 criolla cuerdas de nyl|yamaha|criolla  |null    |c70         |\n|guitarra criolla clásica yamaha cg142s nylon      |yamaha|criolla  |null    |null        |\n|guitarra yamaha electroacustica folk fx 370c bl cu|yamaha|acustica |fx      |null        |\n|guitarra yamaha acustica f370 cuo                 |yamaha|acustica |null    |f370        |\n|guitarra eléctrica yamaha pacifica pac 012 stratoc|yamaha|eléctrica|pacifica|012         |\n|guitarra electro acustica yamaha a1 rosewood cuo  |yamaha|acustica |null    |null        |\n|guitarra yamaha electroacustica folk fx 370c bl   |yamaha|acustica |fx      |null        |\n|guitarra yamaha electroacústica cpx-700ii         |yamaha|acústica |cpx     |null        |\n|guitarra yamaha a3 m vnt acustica                 |yamaha|acustica |null    |null        |\n|guitarra yamaha electroacustica folk fsx 315 cuo  |yamaha|acustica |fs      |null        |\n|guitarra yamaha electro acústica fgx800 c cuo     |yamaha|acústica |fg      |null        |\n|guitarra electroacústica yamaha apx600fm tbs o mab|yamaha|acústica |apx     |apx600      |\n|guitarra yamaha pack eg112gpii electrica cuo      |yamaha|electrica|pac     |null        |\n|guitarra eléctrica yamaha revstar rss20 vintage wh|yamaha|eléctrica|revstar |null        |\n|guitarra electro acustica yamaha ac1m cuo         |yamaha|acustica |null    |null        |\n|guitarra eléctrica yamaha revstar rss20 vintage wh|yamaha|eléctrica|revstar |null        |\n|guitarra acústica yamaha f310 cuota               |yamaha|acústica |null    |f310        |\n|guitarra yamaha electro acústica fgx800 c         |yamaha|acústica |fg      |null        |\n|guitarra acústica yamaha fg830 cuo                |yamaha|acústica |fg      |fg830       |\n|guitarra acústica yamaha fg820                    |yamaha|acústica |fg      |null        |\n|guitarra acústica yamaha f310p + pack accesorios c|yamaha|acústica |pac     |f310        |\n|guitarra yamaha electroacústica cpx-600 envío grat|yamaha|acústica |cpx     |null        |\n|guitarra electroacústica yamaha apx700iibl cuo    |yamaha|acústica |apx     |apx700ii    |\n|guitarra yamaha electro acústica fsx820 c bs      |yamaha|acústica |fs      |null        |\n|guitarra eléctrica yamaha rse20 revstar cuo       |yamaha|eléctrica|revstar |null        |\n|guitarra electroacustica yamaha storia i natural  |yamaha|acustica |null    |null        |\n|guitarra yamaha electroacústica apx-700 ii 12 cuer|yamaha|acústica |apx     |apx-700     |\n|guitarra acústica yamaha a1m caoba cuo            |yamaha|acústica |null    |null        |\n|guitarra acústica yamaha fg820 cuo                |yamaha|acústica |fg      |null        |\n|guitarra criolla clásica 3/4 yamaha cgs 103a nylon|yamaha|criolla  |null    |null        |\n|guitarra eléctrica yamaha pacifica pac 112j strato|yamaha|eléctrica|pacifica|null        |\n|guitarra eléctrica yamaha revstar rse20swb 2022   |yamaha|eléctrica|revstar |null        |\n|guitarra electroacustica yamaha storia i cuo      |yamaha|acustica |null    |null        |\n|guitarra eléctrica yamaha pacifica 112v cuo       |yamaha|eléctrica|pacifica|112v        |\n|guitarra yamaha pack eg112gpii electrica          |yamaha|electrica|pac     |null        |\n|guitarra yamaha acústica fs800 cuo                |yamaha|acústica |fs      |fs800       |\n|guitarra yamaha rse20 rc revstar element red coppe|yamaha|null     |revstar |element     |\n|guitarra electrica yamaha pacifica 112v           |yamaha|electrica|pacifica|112v        |\n|guitarra eléctrica yamaha revstar rse20l zurda    |yamaha|eléctrica|revstar |null        |\n|guitarra criolla yamaha c80 española guitarras cue|yamaha|criolla  |null    |c80         |\n|guitarra eléctrica yamaha pacifica pac-112jl zurda|yamaha|eléctrica|pacifica|null        |\n|guitarra electroacustica yamaha apx700iivsb electr|yamaha|acustica |apx     |apx700ii    |\n|guitarra criolla clasica yamaha cg182c clasica nyl|yamaha|criolla  |null    |null        |\n|guitarlele guitalele guitarra viajera yamaha gl-1 |yamaha|null     |null    |null        |\n|guitarra electrica yamaha pacifica pac120 htbs tob|yamaha|electrica|pacifica|null        |\n|guitarra yamaha pacifica pacs + 12sb cuo          |yamaha|null     |pacifica|null        |\n|guitarra electrica yamaha pac112j yns pacifica    |yamaha|electrica|pacifica|null        |\n|guitarlele guitalele guitarra viajera yamaha gl-1 |yamaha|null     |null    |null        |\n|guitarra yamaha electro acústica transacústica fsc|yamaha|acústica |fs      |null        |\n|guitarra electrica yamaha rss20 revstar standart  |yamaha|electrica|revstar |null        |\n|guitarra yamaha acustica f370tbs cuo              |yamaha|acustica |null    |f370        |\n|guitarra yamaha electroacústica apx-700 ii bs     |yamaha|acústica |apx     |apx-700     |\n|guitarra yamaha electroacústica cpx-700ii nt cuo  |yamaha|acústica |cpx     |null        |\n|guitarra electro acústica yamaha fgtavt transacous|yamaha|acústica |fg      |null        |\n|guitarra electroacústica yamaha apx700ii cuo      |yamaha|acústica |apx     |apx700ii    |\n|guitarra yamaha acústica fs820 nt o tq            |yamaha|acústica |fs      |null        |\n|guitarra acústica yamaha f310 cuo                 |yamaha|acústica |null    |f310        |\n|guitarra electroacústica yamaha apx700ii          |yamaha|acústica |apx     |apx700ii    |\n|guitarra yamaha clásica cg162s nylon cuot         |yamaha|clásica  |null    |null        |\n|guitarra criolla clásica 3/4 yamaha cgs 103a nylon|yamaha|criolla  |null    |null        |\n|guitarra yamaha clásica cg122ms cuo               |yamaha|clásica  |null    |null        |\n|guitarra criolla clasica yamaha c80 nylon estudio |yamaha|criolla  |null    |c80         |\n|guitarra clasica yamaha c70 criolla cuerdas de nyl|yamaha|criolla  |null    |c70         |\n|guitarra criolla clásica yamaha cg102 nylon cuo   |yamaha|criolla  |null    |null        |\n|guitarra yamaha clásica cg162s                    |yamaha|clásica  |null    |null        |\n|guitarra yamaha clásica cg122ms                   |yamaha|clásica  |null    |null        |\n|guitarra yamaha electroacustica folk fsx 315cnt na|yamaha|acustica |fs      |null        |\n|guitarra eléctrica yamaha revstar rse20l zurda cuo|yamaha|eléctrica|revstar |null        |\n|guitarra eléctrica yamaha revstar rss20 cuo       |yamaha|eléctrica|revstar |null        |\n|guitarra electro acústica yamaha fgtavt transacous|yamaha|acústica |fg      |null        |\n|guitarra yamaha cgx-122 msnt                      |yamaha|null     |null    |null        |\n|guitarra criolla clasica yamaha cg182c clasica cuo|yamaha|criolla  |null    |null        |\n|guitarra yamaha electro acustica acustica fx 310ai|yamaha|acustica |fx      |null        |\n|guitarra criolla clasica yamaha cs40 cuo          |yamaha|criolla  |null    |null        |\n|guitarra eléctrica stratocaster yamaha pacifica 01|yamaha|eléctrica|pacifica|012         |\n|guitarra clásica yamaha silent slg200n cuo        |yamaha|clásica  |null    |null        |\n|guitarra acústica yamaha f310                     |yamaha|acústica |null    |f310        |\n|guitarra clásica yamaha silent slg200n            |yamaha|clásica  |null    |null        |\n|guitarra criolla clasica yamaha c40bl c-40 nylon c|yamaha|criolla  |null    |c40         |\n|guitarra criolla clasica yamaha c80 nylon estudio |yamaha|criolla  |null    |c80         |\n|yamaha c40m guitarra acústica clásica natural mate|yamaha|clásica  |null    |c40         |\n|guitarra electro criolla yamaha silent slg200 stoc|yamaha|criolla  |null    |null        |\n|guitarra eléctrica yamaha pacifica 112v cuo       |yamaha|eléctrica|pacifica|112v        |\n|pack yamaha de guitarra electrica y amplificador e|yamaha|electrica|pac     |null        |\n+--------------------------------------------------+------+---------+--------+------------+\n\n"
     ]
    }
   ],
   "source": [
    "df_yamaha.select(substring(col('title_lower'),1,50),'brand','type','series','model').show(380,False)"
   ]
  },
  {
   "cell_type": "code",
   "execution_count": 0,
   "metadata": {
    "application/vnd.databricks.v1+cell": {
     "cellMetadata": {
      "byteLimit": 2048000,
      "rowLimit": 10000
     },
     "inputWidgets": {},
     "nuid": "2e3dd2c1-a23e-4ef0-ba99-523b782801bd",
     "showTitle": false,
     "tableResultSettingsMap": {},
     "title": ""
    }
   },
   "outputs": [
    {
     "output_type": "stream",
     "name": "stdout",
     "output_type": "stream",
     "text": [
      "null brand: 1\nnull types: 28\nnull series: 152\nnull models: 181\nresultados sin nulos en type o series: 217\nde 379 resultados\n"
     ]
    }
   ],
   "source": [
    "nulos_brand = df_yamaha.filter(col(\"brand\").isNull()).count()\n",
    "\n",
    "nulos_tipo = df_yamaha.filter(col(\"type\").isNull()).count()\n",
    "\n",
    "nulos_serie = df_yamaha.filter(col(\"series\").isNull()).count()\n",
    "\n",
    "nulos_modelo = df_yamaha.filter(col(\"model\").isNull()).count()\n",
    "\n",
    "print(f\"null brand: {nulos_brand}\")\n",
    "print(f\"null types: {nulos_tipo}\")\n",
    "print(f\"null series: {nulos_serie}\")\n",
    "print(f\"null models: {nulos_modelo}\")\n",
    "print(f\"resultados sin nulos en type o series: {df_yamaha.filter(col('type').isNotNull() & col('series').isNotNull()).count()}\")\n",
    "print(f\"de {df_yamaha.count()} resultados\")"
   ]
  },
  {
   "cell_type": "markdown",
   "metadata": {
    "application/vnd.databricks.v1+cell": {
     "cellMetadata": {
      "byteLimit": 2048000,
      "rowLimit": 10000
     },
     "inputWidgets": {},
     "nuid": "5a6b8f22-3134-47ae-86a0-36e5d87dd879",
     "showTitle": false,
     "tableResultSettingsMap": {},
     "title": ""
    }
   },
   "source": [
    "### Problema 1. Null en 'series' pero no en modelo\n",
    "Hay casos donde el modelo C40 o C80 esta en la columna model, siendo de serie 'C', pero no esta este modelo, ya que con el método que usamos es complicado asilar la 'C'. \n",
    "Por lo que a esos modelos les vamos a agregar la serie manualmente."
   ]
  },
  {
   "cell_type": "code",
   "execution_count": 0,
   "metadata": {
    "application/vnd.databricks.v1+cell": {
     "cellMetadata": {
      "byteLimit": 2048000,
      "rowLimit": 10000
     },
     "inputWidgets": {},
     "nuid": "21dc7c6c-589f-48b3-9277-68a0140c5638",
     "showTitle": false,
     "tableResultSettingsMap": {},
     "title": ""
    }
   },
   "outputs": [
    {
     "output_type": "stream",
     "name": "stdout",
     "output_type": "stream",
     "text": [
      "+--------------------+---------+--------------------+---------+------+------------+--------+\n|               title|    price|         title_lower|     type| brand|       model|  series|\n+--------------------+---------+--------------------+---------+------+------------+--------+\n|Guitarra criolla ...|  298.000|guitarra criolla ...|  criolla|yamaha|         c40|       c|\n|Guitarra eléctric...|  538.012|guitarra eléctric...|eléctrica|yamaha|         012|     pac|\n|Guitarra Electroa...|  370.955|guitarra electroa...| acústica|yamaha|        null|    null|\n|Yamaha C40 Guitar...|  234.797|yamaha c40 guitar...|  criolla|yamaha|         c40|       c|\n|Guitarra Eléctric...|1.110.833|guitarra eléctric...|eléctrica|yamaha|        112v|     pac|\n|Guitarra Electroa...|  620.831|guitarra electroa...| acústica|yamaha|        null|      fs|\n|Guitarra criolla ...|  329.352|guitarra criolla ...|  criolla|yamaha|         c70|       c|\n|Guitarra eléctric...|  642.015|guitarra eléctric...|eléctrica|yamaha|         012|     pac|\n|Guitarra Acustica...|  577.862|guitarra acustica...| acustica|yamaha|        f370|    null|\n|Guitarra criolla ...|  318.044|guitarra criolla ...|  criolla|yamaha|         c40|       c|\n|Guitarra criolla ...|  251.265|guitarra criolla ...|  criolla|yamaha|         c40|       c|\n|Guitarra eléctric...|  625.965|guitarra eléctric...|eléctrica|yamaha|         012|     pac|\n|Guitarra Clasica ...|  234.797|guitarra clasica ...|  criolla|yamaha|         c40|       c|\n|Guitarra Electroa...|  499.988|guitarra electroa...| acustica|  null|        null|    null|\n|Guitarra Criolla ...|  260.000|guitarra criolla ...|  criolla|yamaha|         c40|       c|\n|Yamaha Pacifica 1...|1.110.833|yamaha pacifica 1...|electrica|yamaha|        112v|pacifica|\n|Guitarra Criolla ...|  259.855|guitarra criolla ...|  criolla|yamaha|         c40|       c|\n|Guitarra acústica...|  589.326|guitarra acústica...| acústica|yamaha|       fs800|      fg|\n|Guitarra Clasica ...|  244.000|guitarra clasica ...|  clasica|yamaha|         c40|       c|\n|Guitarra Acústica...|  537.017|guitarra acústica...| acústica|yamaha|        f310|    null|\n|Yamaha Paquete De...|  771.775|yamaha paquete de...|electrica|yamaha|        null|    null|\n|Guitarra acústica...|  606.784|guitarra acústica...| acústica|yamaha|       fx310|      fx|\n|Guitarra criolla ...|  559.999|guitarra criolla ...|  criolla|yamaha|         c80|       c|\n|Guitarra Electroa...|1.128.589|guitarra electroa...| acústica|yamaha|      apx600|     apx|\n|Guitarra criolla ...|2.218.085|guitarra criolla ...|  criolla|yamaha|        null|    null|\n|Guitarra eléctric...|  535.013|guitarra eléctric...|eléctrica|yamaha|         012|     pac|\n|Guitarra Yamaha N...|2.655.962|guitarra yamaha n...|     null|yamaha|        null|    null|\n|Guitarra Criolla ...|  371.058|guitarra criolla ...|  criolla|yamaha|        null|    null|\n|Guitarra eléctric...|2.316.481|guitarra eléctric...|eléctrica|yamaha|        null| revstar|\n|Guitarra Electroa...|  896.060|guitarra electroa...| acústica|yamaha|     fgx800c|      fg|\n|Guitarra Criolla ...|  358.044|guitarra criolla ...|  criolla|yamaha|         c40|       c|\n|Guitarra Clásica ...|  293.496|guitarra clásica ...|  clásica|yamaha|         c40|       c|\n|Guitarra Clásica ...|  278.000|guitarra clásica ...|  criolla|yamaha|         c40|       c|\n|Guitarra Criolla ...|  515.179|guitarra criolla ...|  criolla|yamaha|         c80|       c|\n|Cuerdas de guitar...|2.557.904|cuerdas de guitar...|     null|yamaha|        null|    null|\n|Guitarra Electro ...|2.391.756|guitarra electro ...|  criolla|yamaha|        null|    null|\n|Guitarra eléctric...|  625.965|guitarra eléctric...|eléctrica|yamaha|         012|     pac|\n|Guitarra acústica...|  153.767|guitarra acústica...| acústica|yamaha|       fg830|      fg|\n|Guitarra Clásica ...|  329.352|guitarra clásica ...|  clásica|yamaha|         c70|       c|\n|Guitarra Acústica...|  598.900|guitarra acústica...| acústica|yamaha|        f310|    null|\n|Guitarra eléctric...|  104.327|guitarra eléctric...|eléctrica|yamaha|         012|     pac|\n|Guitarra Electroa...|  990.774|guitarra electroa...| acústica|yamaha|       fx370|      fx|\n|Yamaha Revstar Rs...|2.316.481|yamaha revstar rs...|eléctrica|yamaha|        null| revstar|\n|Guitarra Criolla ...|  451.722|guitarra criolla ...|  criolla|yamaha|        null|    null|\n|Guitarra eléctric...|  100.221|guitarra eléctric...|eléctrica|yamaha|         012|pacifica|\n|Guitarra Acustica...|  607.321|guitarra acustica...| acustica|yamaha|        null|      fs|\n|Guitarra Criolla ...|  322.659|guitarra criolla ...|  criolla|yamaha|        null|    null|\n|Guitarra Electric...|  535.013|guitarra electric...|electrica|yamaha|         012|     pac|\n|Guitarra Electroc...|1.991.557|guitarra electroc...|  criolla|yamaha|        null|    null|\n|Guitarra Electroa...|1.144.193|guitarra electroa...| acústica|yamaha|      apx600|     apx|\n|Guitarra Electric...|6.108.056|guitarra electric...|electrica|yamaha|professional| revstar|\n|Guitarra acústica...|  118.322|guitarra acústica...| acústica|yamaha|       fx310|      fx|\n|Guitarra criolla ...|  629.401|guitarra criolla ...|  criolla|yamaha|        null|    null|\n|Guitarra Yamaha A...|  593.326|guitarra yamaha a...| acústica|yamaha|       fg800|      fg|\n|Guitarra eléctric...|  991.664|guitarra eléctric...|eléctrica|yamaha|         012|pacifica|\n|Guitarra Criolla ...|  483.988|guitarra criolla ...|  criolla|yamaha|        null|    null|\n|Guitarra Electroa...|  165.129|guitarra electroa...| acústica|yamaha|       fx370|      fx|\n|Guitarra Criolla ...|  254.300|guitarra criolla ...|  criolla|yamaha|         c40|       c|\n|Guitarra Electroa...|  781.984|guitarra electroa...| acústica|yamaha|       fx370|      fx|\n|Guitarra Yamaha E...|1.000.875|guitarra yamaha e...| acústica|yamaha|      apx600|     apx|\n|Guitarra criolla ...|1.991.557|guitarra criolla ...|  criolla|yamaha|        null|    null|\n|Guitarra Criolla ...|  234.797|guitarra criolla ...|  criolla|yamaha|         c40|       c|\n|Guitarra Electroa...|  781.984|guitarra electroa...| acústica|yamaha|       fx370|      fx|\n|Guitarra Criolla ...|  234.800|guitarra criolla ...|  criolla|yamaha|         c40|       c|\n|Guitarra Electroa...|  914.921|guitarra electroa...| acústica|yamaha|       fx370|      fx|\n|Guitarra Electroa...|  990.774|guitarra electroa...| acústica|yamaha|       fx370|      fx|\n|Guitarra Criolla ...|  403.323|guitarra criolla ...|  criolla|yamaha|        null|    null|\n|Guitarra Electric...|1.134.929|guitarra electric...|electrica|yamaha|        null|pacifica|\n|Guitarra Acústica...|  530.126|guitarra acústica...| acústica|yamaha|        f370|    null|\n|Guitarra Clásica ...|1.028.721|guitarra clásica ...|  criolla|yamaha|        null|    null|\n|Guitarra Eléctric...|1.371.589|guitarra eléctric...|eléctrica|yamaha|        null|pacifica|\n|Cuerdas de guitar...|1.891.732|cuerdas de guitar...|     null|yamaha|        null|    null|\n|Guitarra Clásica ...|  333.000|guitarra clásica ...|  clásica|yamaha|         c40|       c|\n|Guitarra eléctric...|2.933.109|guitarra eléctric...|eléctrica|yamaha|        null|     pac|\n|Guitarra Transacu...|3.253.954|guitarra transacu...| acustica|yamaha|        null|    null|\n|Guitarra Acustica...|  753.734|guitarra acustica...| acustica|yamaha|        f370|    null|\n|Guitarra Eléctric...|3.474.721|guitarra eléctric...|eléctrica|yamaha|        null| revstar|\n|Guitarra eléctric...|1.304.705|guitarra eléctric...|eléctrica|yamaha|         012|     pac|\n|Guitarra Electric...|1.528.366|guitarra electric...|electrica|yamaha|     element| revstar|\n|Guitarra Yamaha E...|  781.984|guitarra yamaha e...| acústica|yamaha|       fx370|      fx|\n|Guitarra Electro ...|2.218.085|guitarra electro ...|  criolla|yamaha|        null|    null|\n|Guitarra eléctric...|1.013.891|guitarra eléctric...|eléctrica|yamaha|         012|     pac|\n|Guitarra Acustica...|  703.485|guitarra acustica...| acustica|yamaha|        f370|    null|\n|Guitarra acústica...|  589.326|guitarra acústica...| acústica|yamaha|       fs800|      fg|\n|Guitarra Electroa...|  991.666|guitarra electroa...| acústica|yamaha|     fgx800c|      fg|\n|Guitarra Clásica ...|  270.017|guitarra clásica ...|  criolla|yamaha|         c40|       c|\n|Guitarra Criolla ...|  318.100|guitarra criolla ...|  criolla|yamaha|         c40|       c|\n|Guitarra Electroa...|  914.921|guitarra electroa...| acústica|yamaha|       fx370|      fx|\n|Guitarra Eléctric...|2.443.887|guitarra eléctric...|eléctrica|yamaha|        null|      fg|\n|Guitarra Criolla ...|  371.058|guitarra criolla ...|  criolla|yamaha|        null|    null|\n|Guitarra Criolla ...|  619.990|guitarra criolla ...|  criolla|yamaha|         c80|       c|\n|Guitarra Electroa...|  640.157|guitarra electroa...| acustica|yamaha|       fx310|      fx|\n|Guitarra Criolla ...|  465.509|guitarra criolla ...|  criolla|yamaha|         c80|       c|\n|Guitarra Electric...|2.721.865|guitarra electric...|electrica|yamaha|        null| revstar|\n|Guitarra Criolla ...|  469.990|guitarra criolla ...|  criolla|yamaha|         c40|       c|\n|Yamaha Revstar Rs...|2.895.601|yamaha revstar rs...|eléctrica|yamaha|        null| revstar|\n|Guitarra acústica...|1.207.352|guitarra acústica...| acústica|yamaha|     fsx800c|      fg|\n|Guitarra Yamaha E...|  974.642|guitarra yamaha e...| acústica|yamaha|        null|     apx|\n|Guitalele Yamaha ...|  328.094|guitalele yamaha ...|     null|yamaha|        null|    null|\n|Guitarra eléctric...|1.013.891|guitarra eléctric...|eléctrica|yamaha|         012|     pac|\n|Guitarra Electro ...|1.155.589|guitarra electro ...|  criolla|yamaha|        null|    null|\n|Guitarra acústica...|  795.776|guitarra acústica...| acústica|yamaha|       fs800|      fg|\n|Guitarra Transacu...|3.508.732|guitarra transacu...| acustica|yamaha|        null|    null|\n|Guitarra Clasica ...|  923.660|guitarra clasica ...|  criolla|yamaha|        null|    null|\n|Guitarra eléctric...|1.132.600|guitarra eléctric...|eléctrica|yamaha|         012|     pac|\n|Guitarra Electroc...|2.218.085|guitarra electroc...|  criolla|yamaha|        null|    null|\n|Guitarra Acustica...|  530.126|guitarra acustica...| acustica|yamaha|        f310|    null|\n|Guitarra Folk Yam...|  571.977|guitarra folk yam...|     null|yamaha|        f310|    null|\n|Guitarra Electro ...|  875.507|guitarra electro ...|  criolla|yamaha|        null|    null|\n|Guitarra eléctric...|2.721.865|guitarra eléctric...|eléctrica|yamaha|        null| revstar|\n|Guitarra Folk Yam...|  696.320|guitarra folk yam...|     null|yamaha|        f310|    null|\n|Guitarra acústica...|1.207.352|guitarra acústica...| acústica|yamaha|     fsx800c|      fg|\n|Guitarra Clasica ...|  373.468|guitarra clasica ...|  clasica|yamaha|         c70|       c|\n|Guitarra Electric...|1.362.988|guitarra electric...|electrica|yamaha|        null|pacifica|\n|Guitarra Electric...|2.934.981|guitarra electric...|electrica|yamaha|        null| revstar|\n|Guitarra Electroa...|1.971.121|guitarra electroa...| acústica|yamaha|        null|      fs|\n|Guitarra Eléctric...|2.721.865|guitarra eléctric...|eléctrica|yamaha|        null|      fg|\n|Yamaha C40 Natura...|  333.000|yamaha c40 natura...|  clásica|yamaha|         c40|       c|\n|Guitarra Electric...|2.443.887|guitarra electric...|electrica|yamaha|        null| revstar|\n| Guitarra Acustic...|  530.126| guitarra acustic...| acustica|yamaha|        f370|    null|\n|Pack Yamaha Eg-11...|  881.673|pack yamaha eg-11...|     null|yamaha|        null|     pac|\n|Pack Guitarra Sup...|  798.048|pack guitarra sup...|     null|yamaha|        null|     pac|\n|Guitarra Acústica...|  447.514|guitarra acústica...| acústica|yamaha|        f310|    null|\n|Guitarra Electric...|1.362.990|guitarra electric...|electrica|yamaha|        null|pacifica|\n|Guitarra acústica...|1.207.352|guitarra acústica...| acústica|yamaha|     fsx800c|      fg|\n|Guitarra Electroa...|1.769.815|guitarra electroa...| acústica|yamaha|        null|      fg|\n|Yamaha Guitarra E...|  611.199|yamaha guitarra e...|eléctrica|yamaha|         012|pacifica|\n|Guitarra Acústica...|  671.272|guitarra acústica...| acústica|yamaha|        f310|    null|\n|Guitarra Electroa...|  918.831|guitarra electroa...| acústica|yamaha|       fx370|      fx|\n|Guitarra Electric...|2.934.981|guitarra electric...|electrica|yamaha|        null| revstar|\n|Guitarra Electroa...|1.052.204|guitarra electroa...| acústica|yamaha|      apx600|     apx|\n|Guitarra Eléctric...|  991.664|guitarra eléctric...|eléctrica|yamaha|        112v|     pac|\n|Pack Guitarra Sup...|  964.342|pack guitarra sup...|     null|yamaha|        null|     pac|\n|Yamaha Revstar Rs...|2.316.481|yamaha revstar rs...|eléctrica|yamaha|        null| revstar|\n|Guitarra acústica...|1.904.603|guitarra acústica...| acústica|yamaha|    apx700ii|     apx|\n|Guitarra Stratoca...|  547.407|guitarra stratoca...|eléctrica|yamaha|         012|pacifica|\n|Guitarra Yamaha N...|  946.720|guitarra yamaha n...| acústica|yamaha|        null|     apx|\n|Guitarra Electro ...|  713.602|guitarra electro ...| acústica|yamaha|        null|      fs|\n|Guitarra Electric...|2.443.887|guitarra electric...|electrica|yamaha|        null| revstar|\n|Guitarra Acustica...|  636.654|guitarra acustica...| acustica|yamaha|        f310|    null|\n|Guitarra Electroa...|2.125.455|guitarra electroa...| acústica|yamaha|        null|      fg|\n|Guitarra Eléctric...|  818.588|guitarra eléctric...|eléctrica|yamaha|        112v|     pac|\n|Guitarra Yamaha A...|  577.862|guitarra yamaha a...| acustica|yamaha|        f370|    null|\n|Guitarra Acustica...|  511.236|guitarra acustica...| acustica|yamaha|        f310|    null|\n|Guitarra Yamaha A...|  502.489|guitarra yamaha a...| acustica|yamaha|        f370|    null|\n|Guitarra Yamaha A...|  628.111|guitarra yamaha a...| acustica|yamaha|        f370|    null|\n|Guitarra Yamaha A...|  703.485|guitarra yamaha a...| acustica|yamaha|        f370|    null|\n|Guitarra eléctric...|1.132.600|guitarra eléctric...|eléctrica|yamaha|         012|     pac|\n|Guitarra Yamaha A...|  753.734|guitarra yamaha a...| acustica|yamaha|        f370|    null|\n|Yamaha F310p Guit...|  497.371|yamaha f310p guit...| acústica|yamaha|        f310|     pac|\n|Guitarra Elect. Z...|  849.652|guitarra elect. z...|     null|yamaha|        null|pacifica|\n|Guitarra Electroa...|1.991.557|guitarra electroa...| acustica|yamaha|        null|    null|\n|Guitarra Electroa...|1.124.069|guitarra electroa...| acústica|yamaha|        null|     cpx|\n|Guitarra Acústica...|  559.393|guitarra acústica...| acústica|yamaha|        f310|    null|\n|Guitarra Electric...|7.335.457|guitarra electric...|electrica|yamaha|professional| revstar|\n|Guitarra acústica...|  500.372|guitarra acústica...| acústica|yamaha|        f310|    null|\n|Guitarra Eléctric...|1.264.018|guitarra eléctric...|eléctrica|yamaha|        null|pacifica|\n|Guitarra Electric...|1.835.488|guitarra electric...|electrica|yamaha|     element| revstar|\n|Guitarra Electro ...|  902.498|guitarra electro ...| acústica|yamaha|      apx600|     apx|\n|Guitarra  Yamaha ...|3.243.073|guitarra  yamaha ...|electrica|yamaha|        null| revstar|\n|Guitarra Electric...|6.802.811|guitarra electric...|electrica|yamaha|professional| revstar|\n|Guitarra Electroa...|  750.919|guitarra electroa...| acústica|yamaha|        null|      fs|\n|Guitarra Electroa...|1.511.552|guitarra electroa...| acústica|yamaha|    apx700ii|     apx|\n|Guitarra Eléctric...|2.663.953|guitarra eléctric...|eléctrica|yamaha|        null| revstar|\n|Guitarra Electroa...|1.124.060|guitarra electroa...| acústica|yamaha|        null|     cpx|\n|Guitarra Electro ...|  640.723|guitarra electro ...| acústica|yamaha|        null|      fs|\n|Guitarra Acústica...|  590.425|guitarra acústica...| acústica|yamaha|        f310|    null|\n|Guitarra Stratoca...|  662.007|guitarra stratoca...|eléctrica|yamaha|         012|pacifica|\n|Guitarra Electroa...|1.971.121|guitarra electroa...| acústica|yamaha|        null|      fg|\n|Guitarra Eléctric...|2.721.865|guitarra eléctric...|eléctrica|yamaha|        null|      fg|\n|Guitarra Eléctric...|2.895.601|guitarra eléctric...|eléctrica|yamaha|        null| revstar|\n|Guitarra eléctric...|1.558.142|guitarra eléctric...|eléctrica|yamaha|    apx700ii|     apx|\n|Guitarra Eléctric...|1.264.020|guitarra eléctric...|eléctrica|yamaha|        null|pacifica|\n|Guitarra Eléctric...|1.528.366|guitarra eléctric...|eléctrica|yamaha|     element| revstar|\n|Guitarra Folk Yam...|  621.714|guitarra folk yam...|     null|yamaha|        f310|    null|\n|Guitarra Electroa...|  625.859|guitarra electroa...| acustica|yamaha|        null|      fs|\n|Guitarra Acustica...|  502.489|guitarra acustica...| acustica|yamaha|        f370|    null|\n|Guitarra Electroa...|2.125.455|guitarra electroa...| acústica|yamaha|        null|      fs|\n|Guitarra Eléctric...|1.835.488|guitarra eléctric...|eléctrica|yamaha|     element| revstar|\n|Guitarra Acustica...|  590.425|guitarra acustica...| acustica|yamaha|        f370|    null|\n|Guitarra Eléctric...|1.371.589|guitarra eléctric...|eléctrica|yamaha|        null|pacifica|\n|Guitarra Acustica...|  628.111|guitarra acustica...| acustica|yamaha|        f370|    null|\n|Guitarra Eléctric...|1.047.589|guitarra eléctric...|eléctrica|yamaha|        null|pacifica|\n|Kit Guitarra Ampl...|  782.403|kit guitarra ampl...|     null|yamaha|        null|    null|\n|Guitarra Electroc...|1.320.760|guitarra electroc...|     null|yamaha|     fsx800c|      fs|\n|Guitarra Eléctric...|1.371.589|guitarra eléctric...|eléctrica|yamaha|        null|pacifica|\n|Guitarra Acústica...|  525.830|guitarra acústica...| acústica|yamaha|        f310|    null|\n|Guitarra Electroa...|  824.993|guitarra electroa...| acústica|yamaha|       fx370|      fx|\n|Guitarra Electric...|1.702.209|guitarra electric...|electrica|yamaha|     element| revstar|\n|Guitarra Electro ...|1.904.603|guitarra electro ...| acustica|yamaha|        null|     apx|\n| Guitarra Acustic...|  590.425| guitarra acustic...| acustica|yamaha|        f370|    null|\n|Guitarra Eléctric...|2.316.481|guitarra eléctric...|eléctrica|yamaha|        null| revstar|\n|Guitarra Electroa...|  868.967|guitarra electroa...| acústica|yamaha|      apx600|     apx|\n|Guitarra Electroa...|  863.151|guitarra electroa...| acustica|yamaha|      apx600|     apx|\n|Guitarra Eléctric...|1.702.209|guitarra eléctric...|eléctrica|yamaha|     element| revstar|\n|Guitarra Electroa...|  750.919|guitarra electroa...| acustica|yamaha|        null|      fs|\n|Guitarra Electroa...|2.218.085|guitarra electroa...| acústica|yamaha|        null|    null|\n|Yamaha F310 Folk ...|  447.514|yamaha f310 folk ...|     null|yamaha|        f310|    null|\n|Guitarra Electric...|  535.013|guitarra electric...|electrica|yamaha|         012|pacifica|\n|Guitarra Electroa...|  768.795|guitarra electroa...| acustica|yamaha|       fx310|      fx|\n|Guitarra Yamaha A...|1.474.843|guitarra yamaha a...| acustica|yamaha|        null|    null|\n|Guitarra Acústica...|  590.425|guitarra acústica...| acústica|yamaha|        f370|    null|\n|Kit Guitarra Ampl...|  949.553|kit guitarra ampl...|     null|yamaha|        null|    null|\n|Guitarra Electroa...|1.200.016|guitarra electroa...| acustica|yamaha|        null|     apx|\n|Guitarra Acustica...|  530.126|guitarra acustica...| acustica|yamaha|        f370|    null|\n|Guitarra Electroa...|  640.723|guitarra electroa...| acustica|yamaha|        null|      fs|\n|Guitarra Acústica...|  626.520|guitarra acústica...| acústica|yamaha|        f310|    null|\n|Guitarra Eléctric...|  701.119|guitarra eléctric...|eléctrica|yamaha|        null|pacifica|\n|Guitarra Folk Yam...|  746.057|guitarra folk yam...|     null|yamaha|        f310|    null|\n|Guitarra Electroa...|1.144.193|guitarra electroa...| acústica|yamaha|      apx600|     apx|\n|Guitarra Electroa...|1.511.590|guitarra electroa...| acustica|yamaha|        null|     apx|\n|Guitarra Electroa...|  713.602|guitarra electroa...| acustica|yamaha|        null|      fs|\n|Guitarra Elect. Z...|1.030.768|guitarra elect. z...|     null|yamaha|        null|pacifica|\n|Yamaha F370 Guita...|  502.489|yamaha f370 guita...| acustica|yamaha|        f370|    null|\n|Guitarra Electroa...|  824.993|guitarra electroa...| acústica|yamaha|       fx370|      fx|\n|Guitarra Electroa...|  990.774|guitarra electroa...| acústica|yamaha|       fx370|      fx|\n|Guitarra Yamaha A...|  799.165|guitarra yamaha a...| acústica|yamaha|       fg800|      fg|\n|Guitarra Electroa...|1.052.204|guitarra electroa...| acustica|yamaha|      apx600|     apx|\n|Guitarra Electroa...|1.128.589|guitarra electroa...| acústica|yamaha|      apx600|     apx|\n|Guitarra electroa...|1.248.590|guitarra electroa...| acústica|yamaha|      apx600|     apx|\n|Guitarra Electroa...|  606.784|guitarra electroa...| acústica|yamaha|       fx310|      fx|\n|Guitarra Electroa...|  781.984|guitarra electroa...| acústica|yamaha|       fx370|      fx|\n|Guitarra Electro ...|2.445.109|guitarra electro ...| acústica|yamaha|    apx700ii|     apx|\n|Guitarra Electro ...|1.128.589|guitarra electro ...| acústica|yamaha|      apx600|     apx|\n|Guitarra electroa...|1.128.589|guitarra electroa...| acústica|yamaha|      apx600|     apx|\n|Guitarra Electro ...|  855.449|guitarra electro ...| acústica|yamaha|      apx600|     apx|\n|Guitarra Acústica...|  497.371|guitarra acústica...| acústica|yamaha|        f310|    null|\n|Guitarra Electro ...|1.677.012|guitarra electro ...| acústica|yamaha|        null|    null|\n|Guitarra Acústica...|  447.514|guitarra acústica...| acústica|yamaha|        f310|    null|\n|Guitarra Electro ...|2.198.869|guitarra electro ...| acústica|yamaha|        null|    null|\n|Guitarra Electro ...|1.128.589|guitarra electro ...| acústica|yamaha|      apx600|     apx|\n|Guitarra Electro ...|1.128.589|guitarra electro ...| acústica|yamaha|      apx600|     apx|\n|Guitarra Acústica...|  595.990|guitarra acústica...| acústica|yamaha|        f310|    null|\n|Guitarra Electro ...|1.432.476|guitarra electro ...| acústica|yamaha|        null|     cpx|\n|Guitarra Electro ...|2.198.869|guitarra electro ...| acústica|yamaha|        null|    null|\n|Guitarra Electro ...|1.128.589|guitarra electro ...| acústica|yamaha|      apx600|     apx|\n|Guitarra Electro ...|1.677.012|guitarra electro ...| acústica|yamaha|        null|    null|\n|Guitarra Acústica...|  664.189|guitarra acústica...| acústica|yamaha|        f310|    null|\n|Guitarra Electro ...|1.248.590|guitarra electro ...| acústica|yamaha|      apx600|     apx|\n|Guitarra Electro ...|1.878.752|guitarra electro ...| acústica|yamaha|     apx-700|     apx|\n|Guitarra Electro ...|1.779.829|guitarra electro ...| acústica|yamaha|        null|     cpx|\n|Guitarra Silent Y...|1.887.732|guitarra silent y...|     null|yamaha|        null|    null|\n|Guitarra Electroa...|  789.984|guitarra electroa...| acustica|yamaha|       fx370|      fx|\n|Guitarra Electroa...|  607.321|guitarra electroa...| acústica|yamaha|        null|      fs|\n|Guitarra Electroa...|1.117.789|guitarra electroa...| acústica|yamaha|       fx370|      fx|\n|Guitarra Electroa...|  640.723|guitarra electroa...| acustica|yamaha|        null|      fs|\n|Guitarra Electroa...|2.218.085|guitarra electroa...| acústica|yamaha|        null|    null|\n|Guitarra Electric...|  991.664|guitarra electric...|electrica|yamaha|        null|pacifica|\n|Guitarra Criolla ...|  286.576|guitarra criolla ...|  criolla|yamaha|        null|    null|\n|Guitarra Criolla ...|  325.000|guitarra criolla ...|  criolla|yamaha|         c40|       c|\n|Guitarra Electroa...|1.991.557|guitarra electroa...| acustica|yamaha|        null|    null|\n|Yamaha Guitalele ...|  296.458|yamaha guitalele ...|     null|yamaha|        null|    null|\n|Guitarra Acustica...|  502.489|guitarra acustica...| acustica|yamaha|        f370|    null|\n|Guitarra Acústica...|  447.514|guitarra acústica...| acústica|yamaha|        f310|    null|\n|Guitarra Acustica...|  552.227|guitarra acustica...| acustica|yamaha|        null|    null|\n|Guitarra electroa...|  781.983|guitarra electroa...| acústica|yamaha|       fx370|      fx|\n|Guitarra Acústica...|  502.839|guitarra acústica...| acústica|yamaha|        f310|    null|\n|Guitarra Electro ...|1.005.152|guitarra electro ...| acústica|yamaha|      apx600|     apx|\n|Guitarra Yamaha E...|  781.984|guitarra yamaha e...| acustica|yamaha|        null|      fx|\n|Yamaha | F310 Gui...|  455.802|yamaha | f310 gui...| acústica|yamaha|        f310|    null|\n|Guitarra Yamaha C...|1.342.759|guitarra yamaha c...|     null|yamaha|        null|    null|\n|Guitarra Acústica...|  447.514|guitarra acústica...| acústica|yamaha|        f310|    null|\n|Guitarra Yamaha E...|1.737.776|guitarra yamaha e...| acústica|yamaha|        null|      fs|\n|Guitarra Eléctric...|1.120.720|guitarra eléctric...|eléctrica|yamaha|        null|pacifica|\n|Guitarra Yamaha S...|1.887.732|guitarra yamaha s...|     null|yamaha|        null|    null|\n|Guitarra Yamaha A...|1.738.285|guitarra yamaha a...| acústica|yamaha|    apx700ii|     apx|\n|Guitarra Acustica...|  447.514|guitarra acustica...| acustica|yamaha|        f310|    null|\n|Guitarra acústica...|1.372.789|guitarra acústica...| acústica|yamaha|        null|      fg|\n|Guitarra Yamaha E...|1.056.740|guitarra yamaha e...| acustica|yamaha|        null|      fx|\n|Guitarra Acústica...|1.372.789|guitarra acústica...| acústica|yamaha|        null|      fg|\n|Guitarra Yamaha A...|3.001.389|guitarra yamaha a...| acustica|yamaha|        null|    null|\n|Guitarra Electro ...|2.594.990|guitarra electro ...| acústica|yamaha|        null|      fg|\n|Guitarra Eléctric...|  656.806|guitarra eléctric...|eléctrica|yamaha|        null|pacifica|\n|Guitarra Yamaha E...|2.227.166|guitarra yamaha e...| acústica|yamaha|        null|      fs|\n|Guitarra Yamaha E...|1.485.420|guitarra yamaha e...| acústica|yamaha|        null|     cpx|\n|Guitarra Electro ...|1.681.012|guitarra electro ...| acustica|yamaha|        null|    null|\n|Guitarra Yamaha E...|1.144.193|guitarra yamaha e...| acústica|yamaha|     apx-600|     apx|\n|Guitarra Yamaha A...|1.207.352|guitarra yamaha a...| acústica|yamaha|         c80|       c|\n|Guitarra eléctric...|1.796.446|guitarra eléctric...|eléctrica|yamaha|         012|     pac|\n|Guitarra Yamaha P...|2.993.000|guitarra yamaha p...|     null|yamaha|        null|pacifica|\n|Guitarra Yamaha P...|1.032.475|guitarra yamaha p...|     null|yamaha|        null|     pac|\n|Guitarra Yamaha E...|  711.488|guitarra yamaha e...| acústica|yamaha|        null|     apx|\n|Guitarra Eléctric...|3.397.304|guitarra eléctric...|eléctrica|yamaha|        null| revstar|\n|Guitarra Yamaha A...|  868.718|guitarra yamaha a...| acústica|yamaha|       fg800|      fg|\n|Guitarra criolla ...|  463.318|guitarra criolla ...|  criolla|yamaha|        null|    null|\n|Guitarra Yamaha A...|  506.524|guitarra yamaha a...| acustica|yamaha|        f370|    null|\n|Guitarra Yamaha E...|2.016.116|guitarra yamaha e...| acústica|yamaha|     apx-700|     apx|\n|Pack Yamaha Guita...|  775.200|pack yamaha guita...|electrica|yamaha|        null|     pac|\n|Guitarra Yamaha E...|1.153.220|guitarra yamaha e...| acústica|yamaha|     apx-600|     apx|\n|Guitarra Electro ...|1.677.549|guitarra electro ...| acústica|yamaha|        null|      fg|\n|Guitarra Yamaha A...|1.188.920|guitarra yamaha a...| acústica|yamaha|        null|      fs|\n|Guitarra Eléctric...|2.320.600|guitarra eléctric...|eléctrica|yamaha|        null| revstar|\n|Guitarra Yamaha E...|  855.449|guitarra yamaha e...| acústica|yamaha|     apx-600|     apx|\n|Guitarra Eléctric...|  538.012|guitarra eléctric...|eléctrica|yamaha|         012|pacifica|\n|Guitarra Yamaha E...|  816.200|guitarra yamaha e...| acústica|yamaha|        null|      fx|\n|Guitarra Clasica ...|  449.676|guitarra clasica ...|  criolla|yamaha|         c70|       c|\n|Guitarra Criolla ...|  705.329|guitarra criolla ...|  criolla|yamaha|        null|    null|\n|Guitarra Yamaha E...|1.414.219|guitarra yamaha e...| acustica|yamaha|        null|      fx|\n|Guitarra Yamaha A...|  789.699|guitarra yamaha a...| acustica|yamaha|        f370|    null|\n|Guitarra Eléctric...|  726.873|guitarra eléctric...|eléctrica|yamaha|         012|pacifica|\n+--------------------+---------+--------------------+---------+------+------------+--------+\nonly showing top 300 rows\n\n"
     ]
    }
   ],
   "source": [
    "df_yamaha = df_yamaha.withColumn('series',\n",
    "                     when(col('model').isin(\"c40\",\"c80\",\"c70\"),'c').otherwise(col('series')))\n",
    "\n",
    "df_yamaha.show(300)"
   ]
  },
  {
   "cell_type": "code",
   "execution_count": 0,
   "metadata": {
    "application/vnd.databricks.v1+cell": {
     "cellMetadata": {
      "byteLimit": 2048000,
      "rowLimit": 10000
     },
     "inputWidgets": {},
     "nuid": "60f63067-1cf1-4e8a-8829-8d541e9f0ba4",
     "showTitle": false,
     "tableResultSettingsMap": {},
     "title": ""
    }
   },
   "outputs": [
    {
     "output_type": "stream",
     "name": "stdout",
     "output_type": "stream",
     "text": [
      "+--------+------------+-----+\n|  series|       model|count|\n+--------+------------+-----+\n|    null|        null|   69|\n|    null|        f370|   21|\n|    null|        f310|   29|\n|     apx|        null|    6|\n|     apx|     apx-700|    4|\n|     apx|      apx600|   20|\n|     apx|    apx700ii|    9|\n|     apx|     apx-600|    3|\n|       c|         c70|    5|\n|       c|         c40|   22|\n|       c|         c80|    8|\n|     cpx|        null|    8|\n|      fg|     fsx800c|    3|\n|      fg|        null|   16|\n|      fg|       fg800|    3|\n|      fg|       fg830|    2|\n|      fg|       fs800|    3|\n|      fg|     fgx800c|    2|\n|      fs|     fsx800c|    1|\n|      fs|       fs800|    1|\n|      fs|        null|   21|\n|      fx|       fx310|    5|\n|      fx|        null|    6|\n|      fx|       fx370|   16|\n|     pac|        null|    9|\n|     pac|        f310|    2|\n|     pac|         012|   13|\n|     pac|        112v|    3|\n|pacifica|        null|   21|\n|pacifica|         012|    9|\n|pacifica|        112v|    4|\n| revstar|        null|   25|\n| revstar|     element|    7|\n| revstar|professional|    3|\n+--------+------------+-----+\n\n"
     ]
    }
   ],
   "source": [
    "# Quiero observar las series que obtuvimos a ver si hay nombres repetidos\n",
    "\n",
    "\n",
    "df_yamaha.groupBy('series','model').count().orderBy('series').show(100)"
   ]
  },
  {
   "cell_type": "markdown",
   "metadata": {
    "application/vnd.databricks.v1+cell": {
     "cellMetadata": {
      "byteLimit": 2048000,
      "rowLimit": 10000
     },
     "inputWidgets": {},
     "nuid": "0b224994-5564-4250-8084-cab182709a21",
     "showTitle": false,
     "tableResultSettingsMap": {},
     "title": ""
    }
   },
   "source": [
    "### Problema 2. Dos formas de decir lo mismo\n",
    "observo los resultados y veo que la serie 'pacifica' tiene dos formas de escribirse 'pacifica' y 'pac' "
   ]
  },
  {
   "cell_type": "code",
   "execution_count": 0,
   "metadata": {
    "application/vnd.databricks.v1+cell": {
     "cellMetadata": {
      "byteLimit": 2048000,
      "rowLimit": 10000
     },
     "inputWidgets": {},
     "nuid": "ef0acc8e-bd0e-4817-a57a-b75dcab92929",
     "showTitle": false,
     "tableResultSettingsMap": {},
     "title": ""
    }
   },
   "outputs": [
    {
     "output_type": "stream",
     "name": "stdout",
     "output_type": "stream",
     "text": [
      "+--------+---------+-----+\n|series  |type     |count|\n+--------+---------+-----+\n|null    |null     |18   |\n|null    |criolla  |27   |\n|null    |acustica |37   |\n|null    |electrica|1    |\n|null    |acústica |30   |\n|null    |clásica  |6    |\n|apx     |acústica |35   |\n|apx     |eléctrica|1    |\n|apx     |acustica |6    |\n|c       |clásica  |5    |\n|c       |acústica |1    |\n|c       |criolla  |27   |\n|c       |clasica  |2    |\n|cpx     |acústica |8    |\n|fg      |eléctrica|3    |\n|fg      |acústica |26   |\n|fs      |acústica |14   |\n|fs      |null     |1    |\n|fs      |acustica |8    |\n|fx      |acústica |19   |\n|fx      |acustica |8    |\n|pacifica|null     |8    |\n|pacifica|eléctrica|37   |\n|pacifica|acústica |2    |\n|pacifica|electrica|14   |\n|revstar |null     |1    |\n|revstar |eléctrica|21   |\n|revstar |electrica|13   |\n+--------+---------+-----+\n\n"
     ]
    }
   ],
   "source": [
    "# modifico las series 'pac' por 'pacifica' y en el modelo quito los numeros 'pac'\n",
    "# también las apx-600 / apx-700 en model, las deberia pasar a 'apx600' 'apx700'\n",
    "\n",
    "df_yamaha = df_yamaha.withColumn(\n",
    "    'series',\n",
    "    when(col('series').contains('pac'),'pacifica').otherwise(col('series')),\n",
    ")\n",
    "\n",
    "df_yamaha = df_yamaha.withColumn(\n",
    "    'model',\n",
    "    when(col('model').contains('apx-600'),'apx600').otherwise(col('model'))\n",
    ")\n",
    "    \n",
    "df_yamaha_2 = df_yamaha.withColumn(\n",
    "    'model',\n",
    "    when(col('model').contains('apx-700'),'apx700').otherwise(col('model'))\n",
    ")\n",
    "\n",
    "\n",
    "df_yamaha_2.groupBy('series','type').count().orderBy('series').show(100,False)"
   ]
  },
  {
   "cell_type": "markdown",
   "metadata": {
    "application/vnd.databricks.v1+cell": {
     "cellMetadata": {
      "byteLimit": 2048000,
      "rowLimit": 10000
     },
     "inputWidgets": {},
     "nuid": "39490e0b-20d9-41a1-aec9-16848a072dfe",
     "showTitle": false,
     "tableResultSettingsMap": {},
     "title": ""
    }
   },
   "source": [
    "### Problema 3. Datos Erroneos\n",
    "\n",
    "Puedo observar que 'pacifica' a pesar de ser solo guitarras electricas, tiene algunas muy pocas con tipo 'acústica' o 'criolla'.\n",
    "\n",
    "Lo mismo pasa con las 'fg' y las 'apx' solo hay acústicas. No eléctricas.\n"
   ]
  },
  {
   "cell_type": "code",
   "execution_count": 0,
   "metadata": {
    "application/vnd.databricks.v1+cell": {
     "cellMetadata": {
      "byteLimit": 2048000,
      "rowLimit": 10000
     },
     "inputWidgets": {},
     "nuid": "7cc493aa-267d-46e7-961b-a3739480b9f1",
     "showTitle": false,
     "tableResultSettingsMap": {},
     "title": ""
    }
   },
   "outputs": [],
   "source": [
    "# podemos ver que si son datos erroneos, ya que no son guitarras de serie 'pacifica'.\n",
    "\n",
    "df_yamaha_2 = df_yamaha_2.where(~((col('series').contains('pacifica')) & (col('type').isin('acústica', 'acustica', 'criolla'))) | col('series').isNull() | col('type').isNull())\n"
   ]
  },
  {
   "cell_type": "code",
   "execution_count": 0,
   "metadata": {
    "application/vnd.databricks.v1+cell": {
     "cellMetadata": {
      "byteLimit": 2048000,
      "rowLimit": 10000
     },
     "inputWidgets": {},
     "nuid": "c6817bdd-7b67-4b94-9ad0-ed223bec0905",
     "showTitle": false,
     "tableResultSettingsMap": {},
     "title": ""
    }
   },
   "outputs": [
    {
     "output_type": "stream",
     "name": "stdout",
     "output_type": "stream",
     "text": [
      "+------------------------------------------------------------+------+\n|title                                                       |series|\n+------------------------------------------------------------+------+\n|Guitarra Eléctrica Yamaha Rss20fg Revstar Std Flash Green   |fg    |\n|Guitarra Eléctrica Yamaha Rss20fg Revstar Std Flash Green Cu|fg    |\n|Guitarra Eléctrica Yamaha Rss20fg Revstar Std Hot Merlot Cuo|fg    |\n+------------------------------------------------------------+------+\n\n"
     ]
    }
   ],
   "source": [
    "df_yamaha_2.where(((col('series').contains('fg')) & (col('type').isin('electric','electrica','eléctrica')))).select('title','series').show(100,False)"
   ]
  },
  {
   "cell_type": "markdown",
   "metadata": {
    "application/vnd.databricks.v1+cell": {
     "cellMetadata": {
      "byteLimit": 2048000,
      "rowLimit": 10000
     },
     "inputWidgets": {},
     "nuid": "7b2b7ba2-c6a4-49b2-95eb-4603fd0bc3cc",
     "showTitle": false,
     "tableResultSettingsMap": {},
     "title": ""
    }
   },
   "source": [
    "en este caso es más conveniente directamente cambiar la series a 'revstar'"
   ]
  },
  {
   "cell_type": "code",
   "execution_count": 0,
   "metadata": {
    "application/vnd.databricks.v1+cell": {
     "cellMetadata": {
      "byteLimit": 2048000,
      "rowLimit": 10000
     },
     "inputWidgets": {},
     "nuid": "745ab9d6-1166-424d-912a-0718458a3621",
     "showTitle": false,
     "tableResultSettingsMap": {},
     "title": ""
    }
   },
   "outputs": [
    {
     "output_type": "stream",
     "name": "stdout",
     "output_type": "stream",
     "text": [
      "+------+--------+\n|series|type    |\n+------+--------+\n|fg    |acústica|\n|fg    |acústica|\n|fg    |acústica|\n|fg    |acústica|\n|fg    |acústica|\n|fg    |acústica|\n|fg    |acústica|\n|fg    |acústica|\n|fg    |acústica|\n|fg    |acústica|\n|fg    |acústica|\n|fg    |acústica|\n|fg    |acústica|\n|fg    |acústica|\n|fg    |acústica|\n|fg    |acústica|\n|fg    |acústica|\n|fg    |acústica|\n|fg    |acústica|\n|fg    |acústica|\n|fg    |acústica|\n|fg    |acústica|\n|fg    |acústica|\n|fg    |acústica|\n|fg    |acústica|\n|fg    |acústica|\n+------+--------+\n\n"
     ]
    }
   ],
   "source": [
    "fg_bool = (col('series').contains('fg')) & (col('type').isin('electric','electrica','eléctrica'))\n",
    "\n",
    "df_yamaha3 = df_yamaha_2.withColumn('series',when(fg_bool,'revstar').otherwise(col('series')))\n",
    "\n",
    "df_yamaha3.filter(col('series').contains('fg')).select('series','type').show(100,False)"
   ]
  },
  {
   "cell_type": "code",
   "execution_count": 0,
   "metadata": {
    "application/vnd.databricks.v1+cell": {
     "cellMetadata": {
      "byteLimit": 2048000,
      "rowLimit": 10000
     },
     "inputWidgets": {},
     "nuid": "82b46b5d-9181-43e0-a8d2-ed449fe3dc7b",
     "showTitle": false,
     "tableResultSettingsMap": {},
     "title": ""
    }
   },
   "outputs": [
    {
     "output_type": "stream",
     "name": "stdout",
     "output_type": "stream",
     "text": [
      "+---------------------------------------------------------+------+---------+\n|title                                                    |series|type     |\n+---------------------------------------------------------+------+---------+\n|Guitarra eléctrica Yamaha Apx700ii Natural Apx-700 Apx700|apx   |eléctrica|\n+---------------------------------------------------------+------+---------+\n\n"
     ]
    }
   ],
   "source": [
    "# ahora veo cual es el caso de la apx\n",
    "df_yamaha3.where(((col('series').contains('apx')) & (col('type').isin('electric','electrica','eléctrica')))).select('title','series','type').show(100,False)"
   ]
  },
  {
   "cell_type": "code",
   "execution_count": 0,
   "metadata": {
    "application/vnd.databricks.v1+cell": {
     "cellMetadata": {
      "byteLimit": 2048000,
      "rowLimit": 10000
     },
     "inputWidgets": {},
     "nuid": "59a7b6db-7cef-4500-9efe-39185895fb0e",
     "showTitle": false,
     "tableResultSettingsMap": {},
     "title": ""
    }
   },
   "outputs": [],
   "source": [
    "# vemos que solamente esta mal el tipo asi que lo corregimos\n",
    "\n",
    "df_yamaha3 = df_yamaha3.withColumn('type',when(col('series').contains('apx'),'acustic').otherwise(col('type')))"
   ]
  },
  {
   "cell_type": "code",
   "execution_count": 0,
   "metadata": {
    "application/vnd.databricks.v1+cell": {
     "cellMetadata": {
      "byteLimit": 2048000,
      "rowLimit": 10000
     },
     "inputWidgets": {},
     "nuid": "2cfe1e02-6c69-433b-b4f2-d25dd5ceb42a",
     "showTitle": false,
     "tableResultSettingsMap": {},
     "title": ""
    }
   },
   "outputs": [
    {
     "output_type": "stream",
     "name": "stdout",
     "output_type": "stream",
     "text": [
      "+------+-----+\n|match1|count|\n+------+-----+\n+------+-----+\n\n"
     ]
    }
   ],
   "source": [
    "## CON ESTE CÓDIGO PUDE ENCONTRAR EN LA COLUMNA TITLE UN MODELO Y MARCA QUE ANTES ERA NULL, AL VERLO LO AGREGUE A LA LISTA DE MODELOS Y MARCAS.\n",
    "\n",
    "df_yamaha3.filter(col('type').isNull() | col('series').isNull())\\\n",
    "    .select(\n",
    "        regexp_extract(col('title_lower'),r\"\\bfx\\w{3}\",0).alias('match1'),\n",
    "        regexp_extract(col('title_lower'),r\"\\bf\\w{3}\",0).alias('match2')\n",
    "        ).filter((col('match1') != \"\")).groupBy('match1').count().show(100)\n"
   ]
  },
  {
   "cell_type": "code",
   "execution_count": 0,
   "metadata": {
    "application/vnd.databricks.v1+cell": {
     "cellMetadata": {
      "byteLimit": 2048000,
      "rowLimit": 10000
     },
     "inputWidgets": {},
     "nuid": "dcfb44f0-b68b-489c-9b15-3f122b2795f7",
     "showTitle": false,
     "tableResultSettingsMap": {},
     "title": ""
    }
   },
   "outputs": [
    {
     "output_type": "stream",
     "name": "stdout",
     "output_type": "stream",
     "text": [
      "+----------------------------------------+-------+--------+-------+\n|substring(title_lower, 1, 40)           |series |type    |model  |\n+----------------------------------------+-------+--------+-------+\n|guitarra acustica folk yamaha f370 tapa |null   |acustica|f370   |\n|guitarra acústica yamaha f310tbs tabacco|null   |acústica|f310   |\n|guitarra acústica yamaha f310p para dies|null   |acústica|f310   |\n|guitarra acústica tipo folk yamaha f370 |null   |acústica|f370   |\n|guitarra acustica folk yamaha f370 tapa |null   |acustica|f370   |\n|guitarra acustica folk yamaha f370 tapa |null   |acustica|f370   |\n|guitarra acustica folk yamaha f310 tapa |null   |acustica|f310   |\n|guitarra folk yamaha f310 cherry color s|null   |null    |f310   |\n|guitarra folk yamaha f310 cherry sunburs|null   |null    |f310   |\n| guitarra acustica folk yamaha f370 tapa|null   |acustica|f370   |\n|guitarra acústica yamaha f310 dreadnough|null   |acústica|f310   |\n|guitarra acústica yamaha f310 dreadnough|null   |acústica|f310   |\n|guitarra acustica folk yamaha f310 tapa |null   |acustica|f310   |\n|guitarra yamaha acustica f370tbs tobacco|null   |acustica|f370   |\n|guitarra acustica yamaha f310 folk serie|null   |acustica|f310   |\n|guitarra yamaha acustica f370tbs        |null   |acustica|f370   |\n|guitarra yamaha acustica f370tbs sunburt|null   |acustica|f370   |\n|guitarra yamaha acustica f370tbs folk   |null   |acustica|f370   |\n|guitarra yamaha acustica f370tbs folk to|null   |acustica|f370   |\n|guitarra acústica yamaha f310 dreadnough|null   |acústica|f310   |\n|guitarra acústica yamaha f310p para dies|null   |acústica|f310   |\n|guitarra acústica folk yamaha f310 tapa |null   |acústica|f310   |\n|guitarra folk yamaha f310 cherry color s|null   |null    |f310   |\n|guitarra acustica folk yamaha f370 tapa |null   |acustica|f370   |\n|guitarra acustica yamaha f370 flok 4/4 t|null   |acustica|f370   |\n|guitarra acustica folk yamaha f370 tapa |null   |acustica|f370   |\n|guitarra electrocústica yamaha fsx800c-s|fs     |null    |fsx800c|\n|guitarra acústica yamaha f310 folk en ca|null   |acústica|f310   |\n| guitarra acustica folk yamaha f370 tapa|null   |acustica|f370   |\n|yamaha f310 folk - natural - en belgrano|null   |null    |f310   |\n|guitarra acústica tipo folk yamaha f370 |null   |acústica|f370   |\n|guitarra acustica yamaha f370 flok 4/4 t|null   |acustica|f370   |\n|guitarra acústica yamaha f310 dreadnough|null   |acústica|f310   |\n|guitarra folk yamaha f310 cherry sunburs|null   |null    |f310   |\n|yamaha f370 guitarra acustica natural di|null   |acustica|f370   |\n|guitarra acústica folk yamaha f310-p tbs|null   |acústica|f310   |\n|guitarra acústica folk yamaha f310 dread|null   |acústica|f310   |\n|guitarra acústica folk yamaha f310 dread|null   |acústica|f310   |\n|guitarra acústica folk yamaha f310p tbs |null   |acústica|f310   |\n|guitarra acustica folk yamaha f370 !! co|null   |acustica|f370   |\n|guitarra acústica folk yamaha f310 sunbu|null   |acústica|f310   |\n|guitarra acústica yamaha f310tbs con fun|null   |acústica|f310   |\n|yamaha | f310 guitarra acústica folk    |null   |acústica|f310   |\n|guitarra acústica folk yamaha f310      |null   |acústica|f310   |\n|guitarra acustica folk yamaha f310 / pre|null   |acustica|f310   |\n|guitarra yamaha acustica f370           |null   |acustica|f370   |\n|guitarra yamaha acustica f370 cuo       |null   |acustica|f370   |\n|guitarra acústica yamaha f310 cuota     |null   |acústica|f310   |\n|guitarra yamaha rse20 rc revstar element|revstar|null    |element|\n|guitarra yamaha acustica f370tbs cuo    |null   |acustica|f370   |\n|guitarra acústica yamaha f310 cuo       |null   |acústica|f310   |\n|guitarra acústica yamaha f310           |null   |acústica|f310   |\n+----------------------------------------+-------+--------+-------+\n\n"
     ]
    }
   ],
   "source": [
    "# vemos cuales son los casos con null en 'series' o 'type', pero no el modelo, a ver si podemos obtener información\n",
    "\n",
    "df_yamaha3.filter((col('type').isNull() | col('series').isNull()) & col('model').isNotNull()).select(col('title_lower').substr(1,40),'series','type','model').show(300,False)"
   ]
  },
  {
   "cell_type": "code",
   "execution_count": 0,
   "metadata": {
    "application/vnd.databricks.v1+cell": {
     "cellMetadata": {
      "byteLimit": 2048000,
      "rowLimit": 10000
     },
     "inputWidgets": {},
     "nuid": "98eb6328-89aa-464d-b4ef-944da284243f",
     "showTitle": false,
     "tableResultSettingsMap": {},
     "title": ""
    }
   },
   "outputs": [
    {
     "output_type": "stream",
     "name": "stdout",
     "output_type": "stream",
     "text": [
      "+-------+------+\n|   type|series|\n+-------+------+\n|acustic|     f|\n|acustic|     f|\n|acustic|     f|\n|acustic|     f|\n|acustic|     f|\n|acustic|     f|\n|acustic|     f|\n|acustic|     f|\n|acustic|     f|\n|acustic|     f|\n|acustic|     f|\n|acustic|     f|\n|acustic|     f|\n|acustic|     f|\n|acustic|     f|\n|acustic|     f|\n|acustic|     f|\n|acustic|     f|\n|acustic|     f|\n|acustic|     f|\n|acustic|     f|\n|acustic|     f|\n|acustic|     f|\n|acustic|     f|\n|acustic|     f|\n|acustic|     f|\n|acustic|     f|\n|acustic|     f|\n|acustic|     f|\n|acustic|     f|\n|acustic|     f|\n|acustic|     f|\n|acustic|     f|\n|acustic|     f|\n|acustic|     f|\n|acustic|     f|\n|acustic|     f|\n|acustic|     f|\n|acustic|     f|\n|acustic|     f|\n|acustic|     f|\n|acustic|     f|\n|acustic|     f|\n|acustic|     f|\n|acustic|     f|\n|acustic|     f|\n|acustic|     f|\n|acustic|     f|\n|acustic|     f|\n|acustic|     f|\n+-------+------+\n\n"
     ]
    }
   ],
   "source": [
    "# Podemos observar que hay un monton de guitarras modelo f370 que son serie f y tipo acústica que podemos ajustar\n",
    "\n",
    "df_yamaha_t = df_yamaha3.withColumn('series',\n",
    "                      when(col('model').isin('f370','f310'),'f').otherwise(col('series'))\n",
    "                      )\n",
    "\n",
    "df_yamaha_4 = df_yamaha_t.withColumn('type',\n",
    "                      when(col('model').isin('f370','f310'),'acustic').otherwise(col('type'))\n",
    "                      )\n",
    "\n",
    "df_yamaha_4.filter(col('model').isin('f370','f310')).select('type','series').show(100)"
   ]
  },
  {
   "cell_type": "code",
   "execution_count": 0,
   "metadata": {
    "application/vnd.databricks.v1+cell": {
     "cellMetadata": {
      "byteLimit": 2048000,
      "rowLimit": 10000
     },
     "inputWidgets": {},
     "nuid": "dca467d6-7d64-412c-b0d4-7b2171c580e7",
     "showTitle": false,
     "tableResultSettingsMap": {},
     "title": ""
    }
   },
   "outputs": [
    {
     "output_type": "stream",
     "name": "stdout",
     "output_type": "stream",
     "text": [
      "+--------+-----+\n|  series|count|\n+--------+-----+\n|pacifica|    8|\n| revstar|    1|\n|    null|   13|\n|      fs|    1|\n+--------+-----+\n\n"
     ]
    }
   ],
   "source": [
    "# analizo las que tienen como 'type' null\n",
    "\n",
    "df_yamaha_4.filter(col('type').isNull()).select('type','series','model').groupBy('series').count().show(100)"
   ]
  },
  {
   "cell_type": "code",
   "execution_count": 0,
   "metadata": {
    "application/vnd.databricks.v1+cell": {
     "cellMetadata": {
      "byteLimit": 2048000,
      "rowLimit": 10000
     },
     "inputWidgets": {},
     "nuid": "3408c2dd-7de2-4fe8-ad1b-3514fd3287f9",
     "showTitle": false,
     "tableResultSettingsMap": {},
     "title": ""
    }
   },
   "outputs": [
    {
     "output_type": "stream",
     "name": "stdout",
     "output_type": "stream",
     "text": [
      "+------+-----+\n|series|count|\n+------+-----+\n|  null|   13|\n+------+-----+\n\n"
     ]
    }
   ],
   "source": [
    "# podemos ver que varias son 'pacifica' o 'revstar' es decir de tipo electrica, mientras que 'fs' es de tipo acústica\n",
    "\n",
    "df_yamaha_t = df_yamaha_4.withColumn('type',when(col('series').isin('pacifica','revstar'),'electric').otherwise(col('type')))\n",
    "\n",
    "df_yamaha_5 = df_yamaha_t.withColumn('type',when(col('series').isin('fs'),'acustic').otherwise(col('type')))\n",
    "\n",
    "df_yamaha_5.filter(col('type').isNull()).select('type','series','model').groupBy('series').count().show(100)"
   ]
  },
  {
   "cell_type": "markdown",
   "metadata": {
    "application/vnd.databricks.v1+cell": {
     "cellMetadata": {
      "byteLimit": 2048000,
      "rowLimit": 10000
     },
     "inputWidgets": {},
     "nuid": "a41b6297-4d41-4137-a98a-d02a27d06290",
     "showTitle": false,
     "tableResultSettingsMap": {},
     "title": ""
    }
   },
   "source": [
    "### Filtramos los nulos restantes"
   ]
  },
  {
   "cell_type": "code",
   "execution_count": 0,
   "metadata": {
    "application/vnd.databricks.v1+cell": {
     "cellMetadata": {
      "byteLimit": 2048000,
      "rowLimit": 10000
     },
     "inputWidgets": {},
     "nuid": "f11f27f6-277b-4729-be82-088a8f6a0959",
     "showTitle": false,
     "tableResultSettingsMap": {},
     "title": ""
    }
   },
   "outputs": [
    {
     "output_type": "stream",
     "name": "stdout",
     "output_type": "stream",
     "text": [
      "+------+--------+--------+------------+---------+\n| brand|    type|  series|       model|    price|\n+------+--------+--------+------------+---------+\n|yamaha| criolla|       c|         c40|  298.000|\n|yamaha|electric|pacifica|         012|  538.012|\n|yamaha| criolla|       c|         c40|  234.797|\n|yamaha|electric|pacifica|        112v|1.110.833|\n|yamaha| acustic|      fs|        null|  620.831|\n|yamaha| criolla|       c|         c70|  329.352|\n|yamaha|electric|pacifica|         012|  642.015|\n|yamaha| acustic|       f|        f370|  577.862|\n|yamaha| criolla|       c|         c40|  318.044|\n|yamaha| criolla|       c|         c40|  251.265|\n|yamaha|electric|pacifica|         012|  625.965|\n|yamaha| criolla|       c|         c40|  234.797|\n|yamaha| criolla|       c|         c40|  260.000|\n|yamaha|electric|pacifica|        112v|1.110.833|\n|yamaha| criolla|       c|         c40|  259.855|\n|yamaha|acústica|      fg|       fs800|  589.326|\n|yamaha| clasica|       c|         c40|  244.000|\n|yamaha| acustic|       f|        f310|  537.017|\n|yamaha|acústica|      fx|       fx310|  606.784|\n|yamaha| criolla|       c|         c80|  559.999|\n|yamaha| acustic|     apx|      apx600|1.128.589|\n|yamaha|electric|pacifica|         012|  535.013|\n|yamaha|electric| revstar|        null|2.316.481|\n|yamaha|acústica|      fg|     fgx800c|  896.060|\n|yamaha| criolla|       c|         c40|  358.044|\n|yamaha| clásica|       c|         c40|  293.496|\n|yamaha| criolla|       c|         c40|  278.000|\n|yamaha| criolla|       c|         c80|  515.179|\n|yamaha|electric|pacifica|         012|  625.965|\n|yamaha|acústica|      fg|       fg830|  153.767|\n|yamaha| clásica|       c|         c70|  329.352|\n|yamaha| acustic|       f|        f310|  598.900|\n|yamaha|electric|pacifica|         012|  104.327|\n|yamaha|acústica|      fx|       fx370|  990.774|\n|yamaha|electric| revstar|        null|2.316.481|\n|yamaha|electric|pacifica|         012|  100.221|\n|yamaha| acustic|      fs|        null|  607.321|\n|yamaha|electric|pacifica|         012|  535.013|\n|yamaha| acustic|     apx|      apx600|1.144.193|\n|yamaha|electric| revstar|professional|6.108.056|\n|yamaha|acústica|      fx|       fx310|  118.322|\n|yamaha|acústica|      fg|       fg800|  593.326|\n|yamaha|electric|pacifica|         012|  991.664|\n|yamaha|acústica|      fx|       fx370|  165.129|\n|yamaha| criolla|       c|         c40|  254.300|\n|yamaha|acústica|      fx|       fx370|  781.984|\n|yamaha| acustic|     apx|      apx600|1.000.875|\n|yamaha| criolla|       c|         c40|  234.797|\n|yamaha|acústica|      fx|       fx370|  781.984|\n|yamaha| criolla|       c|         c40|  234.800|\n|yamaha|acústica|      fx|       fx370|  914.921|\n|yamaha|acústica|      fx|       fx370|  990.774|\n|yamaha|electric|pacifica|        null|1.134.929|\n|yamaha| acustic|       f|        f370|  530.126|\n|yamaha|electric|pacifica|        null|1.371.589|\n|yamaha| clásica|       c|         c40|  333.000|\n|yamaha|electric|pacifica|        null|2.933.109|\n|yamaha| acustic|       f|        f370|  753.734|\n|yamaha|electric| revstar|        null|3.474.721|\n|yamaha|electric|pacifica|         012|1.304.705|\n|yamaha|electric| revstar|     element|1.528.366|\n|yamaha|acústica|      fx|       fx370|  781.984|\n|yamaha|electric|pacifica|         012|1.013.891|\n|yamaha| acustic|       f|        f370|  703.485|\n|yamaha|acústica|      fg|       fs800|  589.326|\n|yamaha|acústica|      fg|     fgx800c|  991.666|\n|yamaha| criolla|       c|         c40|  270.017|\n|yamaha| criolla|       c|         c40|  318.100|\n|yamaha|acústica|      fx|       fx370|  914.921|\n|yamaha|electric| revstar|        null|2.443.887|\n|yamaha| criolla|       c|         c80|  619.990|\n|yamaha|acustica|      fx|       fx310|  640.157|\n|yamaha| criolla|       c|         c80|  465.509|\n|yamaha|electric| revstar|        null|2.721.865|\n|yamaha| criolla|       c|         c40|  469.990|\n|yamaha|electric| revstar|        null|2.895.601|\n|yamaha|acústica|      fg|     fsx800c|1.207.352|\n|yamaha| acustic|     apx|        null|  974.642|\n|yamaha|electric|pacifica|         012|1.013.891|\n|yamaha|acústica|      fg|       fs800|  795.776|\n|yamaha|electric|pacifica|         012|1.132.600|\n|yamaha| acustic|       f|        f310|  530.126|\n|yamaha| acustic|       f|        f310|  571.977|\n|yamaha|electric| revstar|        null|2.721.865|\n|yamaha| acustic|       f|        f310|  696.320|\n|yamaha|acústica|      fg|     fsx800c|1.207.352|\n|yamaha| clasica|       c|         c70|  373.468|\n|yamaha|electric|pacifica|        null|1.362.988|\n|yamaha|electric| revstar|        null|2.934.981|\n|yamaha| acustic|      fs|        null|1.971.121|\n|yamaha|electric| revstar|        null|2.721.865|\n|yamaha| clásica|       c|         c40|  333.000|\n|yamaha|electric| revstar|        null|2.443.887|\n|yamaha| acustic|       f|        f370|  530.126|\n|yamaha|electric|pacifica|        null|  881.673|\n|yamaha|electric|pacifica|        null|  798.048|\n|yamaha| acustic|       f|        f310|  447.514|\n|yamaha|electric|pacifica|        null|1.362.990|\n|yamaha|acústica|      fg|     fsx800c|1.207.352|\n|yamaha|acústica|      fg|        null|1.769.815|\n|yamaha|electric|pacifica|         012|  611.199|\n|yamaha| acustic|       f|        f310|  671.272|\n|yamaha|acústica|      fx|       fx370|  918.831|\n|yamaha|electric| revstar|        null|2.934.981|\n|yamaha| acustic|     apx|      apx600|1.052.204|\n|yamaha|electric|pacifica|        112v|  991.664|\n|yamaha|electric|pacifica|        null|  964.342|\n|yamaha|electric| revstar|        null|2.316.481|\n|yamaha| acustic|     apx|    apx700ii|1.904.603|\n|yamaha|electric|pacifica|         012|  547.407|\n|yamaha| acustic|     apx|        null|  946.720|\n|yamaha| acustic|      fs|        null|  713.602|\n|yamaha|electric| revstar|        null|2.443.887|\n|yamaha| acustic|       f|        f310|  636.654|\n|yamaha|acústica|      fg|        null|2.125.455|\n|yamaha|electric|pacifica|        112v|  818.588|\n|yamaha| acustic|       f|        f370|  577.862|\n|yamaha| acustic|       f|        f310|  511.236|\n|yamaha| acustic|       f|        f370|  502.489|\n|yamaha| acustic|       f|        f370|  628.111|\n|yamaha| acustic|       f|        f370|  703.485|\n|yamaha|electric|pacifica|         012|1.132.600|\n|yamaha| acustic|       f|        f370|  753.734|\n|yamaha|electric|pacifica|        null|  849.652|\n|yamaha|acústica|     cpx|        null|1.124.069|\n|yamaha| acustic|       f|        f310|  559.393|\n|yamaha|electric| revstar|professional|7.335.457|\n|yamaha| acustic|       f|        f310|  500.372|\n|yamaha|electric|pacifica|        null|1.264.018|\n|yamaha|electric| revstar|     element|1.835.488|\n|yamaha| acustic|     apx|      apx600|  902.498|\n|yamaha|electric| revstar|        null|3.243.073|\n|yamaha|electric| revstar|professional|6.802.811|\n|yamaha| acustic|      fs|        null|  750.919|\n|yamaha| acustic|     apx|    apx700ii|1.511.552|\n|yamaha|electric| revstar|        null|2.663.953|\n|yamaha|acústica|     cpx|        null|1.124.060|\n|yamaha| acustic|      fs|        null|  640.723|\n|yamaha| acustic|       f|        f310|  590.425|\n|yamaha|electric|pacifica|         012|  662.007|\n|yamaha|acústica|      fg|        null|1.971.121|\n|yamaha|electric| revstar|        null|2.721.865|\n|yamaha|electric| revstar|        null|2.895.601|\n|yamaha| acustic|     apx|    apx700ii|1.558.142|\n|yamaha|electric|pacifica|        null|1.264.020|\n|yamaha|electric| revstar|     element|1.528.366|\n|yamaha| acustic|       f|        f310|  621.714|\n|yamaha| acustic|      fs|        null|  625.859|\n|yamaha| acustic|       f|        f370|  502.489|\n|yamaha| acustic|      fs|        null|2.125.455|\n|yamaha|electric| revstar|     element|1.835.488|\n|yamaha| acustic|       f|        f370|  590.425|\n|yamaha|electric|pacifica|        null|1.371.589|\n|yamaha| acustic|       f|        f370|  628.111|\n|yamaha|electric|pacifica|        null|1.047.589|\n|yamaha| acustic|      fs|     fsx800c|1.320.760|\n|yamaha|electric|pacifica|        null|1.371.589|\n|yamaha| acustic|       f|        f310|  525.830|\n|yamaha|acústica|      fx|       fx370|  824.993|\n|yamaha|electric| revstar|     element|1.702.209|\n|yamaha| acustic|     apx|        null|1.904.603|\n|yamaha| acustic|       f|        f370|  590.425|\n|yamaha|electric| revstar|        null|2.316.481|\n|yamaha| acustic|     apx|      apx600|  868.967|\n|yamaha| acustic|     apx|      apx600|  863.151|\n|yamaha|electric| revstar|     element|1.702.209|\n|yamaha| acustic|      fs|        null|  750.919|\n|yamaha| acustic|       f|        f310|  447.514|\n|yamaha|electric|pacifica|         012|  535.013|\n|yamaha|acustica|      fx|       fx310|  768.795|\n|yamaha| acustic|       f|        f370|  590.425|\n|yamaha| acustic|     apx|        null|1.200.016|\n|yamaha| acustic|       f|        f370|  530.126|\n|yamaha| acustic|      fs|        null|  640.723|\n|yamaha| acustic|       f|        f310|  626.520|\n|yamaha|electric|pacifica|        null|  701.119|\n|yamaha| acustic|       f|        f310|  746.057|\n|yamaha| acustic|     apx|      apx600|1.144.193|\n|yamaha| acustic|     apx|        null|1.511.590|\n|yamaha| acustic|      fs|        null|  713.602|\n|yamaha|electric|pacifica|        null|1.030.768|\n|yamaha| acustic|       f|        f370|  502.489|\n|yamaha|acústica|      fx|       fx370|  824.993|\n|yamaha|acústica|      fx|       fx370|  990.774|\n|yamaha|acústica|      fg|       fg800|  799.165|\n|yamaha| acustic|     apx|      apx600|1.052.204|\n|yamaha| acustic|     apx|      apx600|1.128.589|\n|yamaha| acustic|     apx|      apx600|1.248.590|\n|yamaha|acústica|      fx|       fx310|  606.784|\n|yamaha|acústica|      fx|       fx370|  781.984|\n|yamaha| acustic|     apx|    apx700ii|2.445.109|\n|yamaha| acustic|     apx|      apx600|1.128.589|\n|yamaha| acustic|     apx|      apx600|1.128.589|\n|yamaha| acustic|     apx|      apx600|  855.449|\n|yamaha| acustic|       f|        f310|  497.371|\n|yamaha| acustic|       f|        f310|  447.514|\n|yamaha| acustic|     apx|      apx600|1.128.589|\n|yamaha| acustic|     apx|      apx600|1.128.589|\n|yamaha| acustic|       f|        f310|  595.990|\n|yamaha|acústica|     cpx|        null|1.432.476|\n|yamaha| acustic|     apx|      apx600|1.128.589|\n|yamaha| acustic|       f|        f310|  664.189|\n|yamaha| acustic|     apx|      apx600|1.248.590|\n|yamaha| acustic|     apx|      apx700|1.878.752|\n|yamaha|acústica|     cpx|        null|1.779.829|\n|yamaha|acustica|      fx|       fx370|  789.984|\n|yamaha| acustic|      fs|        null|  607.321|\n|yamaha|acústica|      fx|       fx370|1.117.789|\n|yamaha| acustic|      fs|        null|  640.723|\n|yamaha|electric|pacifica|        null|  991.664|\n|yamaha| criolla|       c|         c40|  325.000|\n|yamaha| acustic|       f|        f370|  502.489|\n|yamaha| acustic|       f|        f310|  447.514|\n|yamaha|acústica|      fx|       fx370|  781.983|\n|yamaha| acustic|       f|        f310|  502.839|\n|yamaha| acustic|     apx|      apx600|1.005.152|\n|yamaha|acustica|      fx|        null|  781.984|\n|yamaha| acustic|       f|        f310|  455.802|\n|yamaha| acustic|       f|        f310|  447.514|\n|yamaha| acustic|      fs|        null|1.737.776|\n|yamaha|electric|pacifica|        null|1.120.720|\n|yamaha| acustic|     apx|    apx700ii|1.738.285|\n|yamaha| acustic|       f|        f310|  447.514|\n|yamaha|acústica|      fg|        null|1.372.789|\n|yamaha|acustica|      fx|        null|1.056.740|\n|yamaha|acústica|      fg|        null|1.372.789|\n|yamaha|acústica|      fg|        null|2.594.990|\n|yamaha|electric|pacifica|        null|  656.806|\n|yamaha| acustic|      fs|        null|2.227.166|\n|yamaha|acústica|     cpx|        null|1.485.420|\n|yamaha| acustic|     apx|      apx600|1.144.193|\n|yamaha|acústica|       c|         c80|1.207.352|\n|yamaha|electric|pacifica|         012|1.796.446|\n|yamaha|electric|pacifica|        null|2.993.000|\n|yamaha|electric|pacifica|        null|1.032.475|\n|yamaha| acustic|     apx|        null|  711.488|\n|yamaha|electric| revstar|        null|3.397.304|\n|yamaha|acústica|      fg|       fg800|  868.718|\n|yamaha| acustic|       f|        f370|  506.524|\n|yamaha| acustic|     apx|      apx700|2.016.116|\n|yamaha|electric|pacifica|        null|  775.200|\n|yamaha| acustic|     apx|      apx600|1.153.220|\n|yamaha|acústica|      fg|        null|1.677.549|\n|yamaha| acustic|      fs|        null|1.188.920|\n|yamaha|electric| revstar|        null|2.320.600|\n|yamaha| acustic|     apx|      apx600|  855.449|\n|yamaha|electric|pacifica|         012|  538.012|\n|yamaha|acústica|      fx|        null|  816.200|\n|yamaha| criolla|       c|         c70|  449.676|\n|yamaha|acustica|      fx|        null|1.414.219|\n|yamaha| acustic|       f|        f370|  789.699|\n|yamaha|electric|pacifica|         012|  726.873|\n|yamaha|acustica|      fx|        null|  785.984|\n|yamaha|acústica|     cpx|        null|1.436.479|\n|yamaha| acustic|      fs|        null|  819.668|\n|yamaha|acústica|      fg|        null|1.195.601|\n|yamaha| acustic|     apx|      apx600|  855.449|\n|yamaha|electric|pacifica|        null|1.036.861|\n|yamaha|electric| revstar|        null|2.320.600|\n|yamaha|electric| revstar|        null|3.578.090|\n|yamaha| acustic|       f|        f310|  819.963|\n|yamaha|acústica|      fg|        null|  896.060|\n|yamaha|acústica|      fg|       fg830|1.383.911|\n|yamaha|acústica|      fg|        null|  931.180|\n|yamaha|acústica|     cpx|        null|  958.131|\n|yamaha| acustic|     apx|    apx700ii|1.879.422|\n|yamaha| acustic|      fs|        null|1.306.800|\n|yamaha|electric| revstar|        null|2.240.934|\n|yamaha| acustic|     apx|      apx700|1.511.552|\n|yamaha|acústica|      fg|        null|1.245.137|\n|yamaha|electric|pacifica|        null|  901.994|\n|yamaha|electric| revstar|        null|1.340.900|\n|yamaha|electric|pacifica|        112v|1.304.705|\n|yamaha|electric|pacifica|        null|  774.776|\n|yamaha| acustic|      fs|       fs800|  795.776|\n|yamaha|electric| revstar|     element|2.240.934|\n|yamaha|electric|pacifica|        112v|1.171.459|\n|yamaha|electric| revstar|        null|1.448.690|\n|yamaha| criolla|       c|         c80|  465.509|\n|yamaha|electric|pacifica|        null|1.259.324|\n|yamaha| acustic|     apx|    apx700ii|2.245.336|\n|yamaha|electric|pacifica|        null|1.134.927|\n|yamaha|electric|pacifica|        null|4.057.900|\n|yamaha|electric|pacifica|        null|  688.673|\n|yamaha| acustic|      fs|        null|1.677.549|\n|yamaha|electric| revstar|        null|2.721.865|\n|yamaha| acustic|       f|        f370|  789.699|\n|yamaha| acustic|     apx|      apx700|1.419.475|\n|yamaha|acústica|     cpx|        null|2.220.135|\n|yamaha|acústica|      fg|        null|2.227.166|\n|yamaha| acustic|     apx|    apx700ii|1.879.422|\n|yamaha| acustic|      fs|        null|  894.000|\n|yamaha| acustic|       f|        f310|  610.195|\n|yamaha| acustic|     apx|    apx700ii|1.415.471|\n|yamaha| criolla|       c|         c80|  465.509|\n|yamaha| criolla|       c|         c70|  329.352|\n|yamaha| acustic|      fs|        null|  607.321|\n|yamaha|electric| revstar|        null|2.242.309|\n|yamaha|electric| revstar|        null|3.578.090|\n|yamaha|acústica|      fg|        null|1.677.549|\n|yamaha|acustica|      fx|        null|  606.784|\n|yamaha|electric|pacifica|         012|  625.965|\n|yamaha| acustic|       f|        f310|  450.515|\n|yamaha| criolla|       c|         c40|  432.700|\n|yamaha| criolla|       c|         c80|  627.260|\n|yamaha| clásica|       c|         c40|  348.824|\n|yamaha|electric|pacifica|        112v|1.304.705|\n|yamaha|electric|pacifica|        null|  832.704|\n+------+--------+--------+------------+---------+\n\n"
     ]
    }
   ],
   "source": [
    "\n",
    "\n",
    "df_yamaha_t = df_yamaha_5.select('brand','type','series','model','price')\n",
    "df_yamaha_clean = df_yamaha_t.filter(col('brand').isNotNull() & col('type').isNotNull() & col('series').isNotNull())\n",
    "\n",
    "df_yamaha_clean.show(df_yamaha_clean.count())"
   ]
  },
  {
   "cell_type": "markdown",
   "metadata": {
    "application/vnd.databricks.v1+cell": {
     "cellMetadata": {
      "byteLimit": 2048000,
      "rowLimit": 10000
     },
     "inputWidgets": {},
     "nuid": "3257eca7-1dc3-42b3-9a58-68e1f7a2ec36",
     "showTitle": false,
     "tableResultSettingsMap": {},
     "title": ""
    }
   },
   "source": [
    "### Problemas que solucionamos en el Data Frame de Cort\n",
    "- Mismas formas de referirse al tipo de guitarra\n",
    "- Pasar el tipo de string a float en la columna price"
   ]
  },
  {
   "cell_type": "code",
   "execution_count": 0,
   "metadata": {
    "application/vnd.databricks.v1+cell": {
     "cellMetadata": {
      "byteLimit": 2048000,
      "rowLimit": 10000
     },
     "inputWidgets": {},
     "nuid": "2a884efa-95e9-4520-90a0-a647c766924a",
     "showTitle": false,
     "tableResultSettingsMap": {},
     "title": ""
    }
   },
   "outputs": [
    {
     "output_type": "stream",
     "name": "stdout",
     "output_type": "stream",
     "text": [
      "+--------+-----+\n|    type|count|\n+--------+-----+\n| acustic|  115|\n|acustica|    8|\n|acústica|   54|\n| clasica|    2|\n| clásica|    5|\n| criolla|   27|\n|electric|   97|\n+--------+-----+\n\n"
     ]
    }
   ],
   "source": [
    "# busco las variaciones\n",
    "df_yamaha_clean.groupBy('type').count().orderBy(col('type')).show()"
   ]
  },
  {
   "cell_type": "code",
   "execution_count": 0,
   "metadata": {
    "application/vnd.databricks.v1+cell": {
     "cellMetadata": {
      "byteLimit": 2048000,
      "rowLimit": 10000
     },
     "inputWidgets": {},
     "nuid": "236a3f32-9079-49c7-92ee-d0a9c43b46bc",
     "showTitle": false,
     "tableResultSettingsMap": {},
     "title": ""
    }
   },
   "outputs": [],
   "source": [
    "# modifico las variaciones\n",
    "\n",
    "df_yamaha_clean = df_yamaha_clean.withColumn(\n",
    "    \"type\",\n",
    "    when(col('type').isin(\"criolla\",\"clásica\",\"clasica\"),\"classic\")\n",
    "    .when(col('type').isin(\"acústica\",\"acustica\"),\"acustic\")\n",
    "    .otherwise(col('type'))\n",
    ")"
   ]
  },
  {
   "cell_type": "code",
   "execution_count": 0,
   "metadata": {
    "application/vnd.databricks.v1+cell": {
     "cellMetadata": {
      "byteLimit": 2048000,
      "rowLimit": 10000
     },
     "inputWidgets": {},
     "nuid": "f1c1229e-a481-4ab3-b1f1-0ab53e58ef60",
     "showTitle": false,
     "tableResultSettingsMap": {},
     "title": ""
    }
   },
   "outputs": [],
   "source": [
    "# paso el price de string a float\n",
    "df_yamaha_clean = df_yamaha_clean.withColumn(\"price\", regexp_replace(col(\"price\"), \"\\\\.\", \"\").cast(\"float\"))"
   ]
  },
  {
   "cell_type": "markdown",
   "metadata": {
    "application/vnd.databricks.v1+cell": {
     "cellMetadata": {
      "byteLimit": 2048000,
      "rowLimit": 10000
     },
     "inputWidgets": {},
     "nuid": "62863d35-a5c2-4f9c-84c3-1ece6f81aa61",
     "showTitle": false,
     "tableResultSettingsMap": {},
     "title": ""
    }
   },
   "source": [
    "### Data Frame Final"
   ]
  },
  {
   "cell_type": "code",
   "execution_count": 0,
   "metadata": {
    "application/vnd.databricks.v1+cell": {
     "cellMetadata": {
      "byteLimit": 2048000,
      "rowLimit": 10000
     },
     "inputWidgets": {},
     "nuid": "3f6c8565-c714-4492-ab6e-71605d2214b7",
     "showTitle": false,
     "tableResultSettingsMap": {},
     "title": ""
    }
   },
   "outputs": [
    {
     "output_type": "stream",
     "name": "stdout",
     "output_type": "stream",
     "text": [
      "+------+--------+--------+------------+---------+\n| brand|    type|  series|       model|    price|\n+------+--------+--------+------------+---------+\n|yamaha| classic|       c|         c40| 298000.0|\n|yamaha|electric|pacifica|         012| 538012.0|\n|yamaha| classic|       c|         c40| 234797.0|\n|yamaha|electric|pacifica|        112v|1110833.0|\n|yamaha| acustic|      fs|        null| 620831.0|\n|yamaha| classic|       c|         c70| 329352.0|\n|yamaha|electric|pacifica|         012| 642015.0|\n|yamaha| acustic|       f|        f370| 577862.0|\n|yamaha| classic|       c|         c40| 318044.0|\n|yamaha| classic|       c|         c40| 251265.0|\n|yamaha|electric|pacifica|         012| 625965.0|\n|yamaha| classic|       c|         c40| 234797.0|\n|yamaha| classic|       c|         c40| 260000.0|\n|yamaha|electric|pacifica|        112v|1110833.0|\n|yamaha| classic|       c|         c40| 259855.0|\n|yamaha| acustic|      fg|       fs800| 589326.0|\n|yamaha| classic|       c|         c40| 244000.0|\n|yamaha| acustic|       f|        f310| 537017.0|\n|yamaha| acustic|      fx|       fx310| 606784.0|\n|yamaha| classic|       c|         c80| 559999.0|\n|yamaha| acustic|     apx|      apx600|1128589.0|\n|yamaha|electric|pacifica|         012| 535013.0|\n|yamaha|electric| revstar|        null|2316481.0|\n|yamaha| acustic|      fg|     fgx800c| 896060.0|\n|yamaha| classic|       c|         c40| 358044.0|\n|yamaha| classic|       c|         c40| 293496.0|\n|yamaha| classic|       c|         c40| 278000.0|\n|yamaha| classic|       c|         c80| 515179.0|\n|yamaha|electric|pacifica|         012| 625965.0|\n|yamaha| acustic|      fg|       fg830| 153767.0|\n|yamaha| classic|       c|         c70| 329352.0|\n|yamaha| acustic|       f|        f310| 598900.0|\n|yamaha|electric|pacifica|         012| 104327.0|\n|yamaha| acustic|      fx|       fx370| 990774.0|\n|yamaha|electric| revstar|        null|2316481.0|\n|yamaha|electric|pacifica|         012| 100221.0|\n|yamaha| acustic|      fs|        null| 607321.0|\n|yamaha|electric|pacifica|         012| 535013.0|\n|yamaha| acustic|     apx|      apx600|1144193.0|\n|yamaha|electric| revstar|professional|6108056.0|\n|yamaha| acustic|      fx|       fx310| 118322.0|\n|yamaha| acustic|      fg|       fg800| 593326.0|\n|yamaha|electric|pacifica|         012| 991664.0|\n|yamaha| acustic|      fx|       fx370| 165129.0|\n|yamaha| classic|       c|         c40| 254300.0|\n|yamaha| acustic|      fx|       fx370| 781984.0|\n|yamaha| acustic|     apx|      apx600|1000875.0|\n|yamaha| classic|       c|         c40| 234797.0|\n|yamaha| acustic|      fx|       fx370| 781984.0|\n|yamaha| classic|       c|         c40| 234800.0|\n|yamaha| acustic|      fx|       fx370| 914921.0|\n|yamaha| acustic|      fx|       fx370| 990774.0|\n|yamaha|electric|pacifica|        null|1134929.0|\n|yamaha| acustic|       f|        f370| 530126.0|\n|yamaha|electric|pacifica|        null|1371589.0|\n|yamaha| classic|       c|         c40| 333000.0|\n|yamaha|electric|pacifica|        null|2933109.0|\n|yamaha| acustic|       f|        f370| 753734.0|\n|yamaha|electric| revstar|        null|3474721.0|\n|yamaha|electric|pacifica|         012|1304705.0|\n|yamaha|electric| revstar|     element|1528366.0|\n|yamaha| acustic|      fx|       fx370| 781984.0|\n|yamaha|electric|pacifica|         012|1013891.0|\n|yamaha| acustic|       f|        f370| 703485.0|\n|yamaha| acustic|      fg|       fs800| 589326.0|\n|yamaha| acustic|      fg|     fgx800c| 991666.0|\n|yamaha| classic|       c|         c40| 270017.0|\n|yamaha| classic|       c|         c40| 318100.0|\n|yamaha| acustic|      fx|       fx370| 914921.0|\n|yamaha|electric| revstar|        null|2443887.0|\n|yamaha| classic|       c|         c80| 619990.0|\n|yamaha| acustic|      fx|       fx310| 640157.0|\n|yamaha| classic|       c|         c80| 465509.0|\n|yamaha|electric| revstar|        null|2721865.0|\n|yamaha| classic|       c|         c40| 469990.0|\n|yamaha|electric| revstar|        null|2895601.0|\n|yamaha| acustic|      fg|     fsx800c|1207352.0|\n|yamaha| acustic|     apx|        null| 974642.0|\n|yamaha|electric|pacifica|         012|1013891.0|\n|yamaha| acustic|      fg|       fs800| 795776.0|\n|yamaha|electric|pacifica|         012|1132600.0|\n|yamaha| acustic|       f|        f310| 530126.0|\n|yamaha| acustic|       f|        f310| 571977.0|\n|yamaha|electric| revstar|        null|2721865.0|\n|yamaha| acustic|       f|        f310| 696320.0|\n|yamaha| acustic|      fg|     fsx800c|1207352.0|\n|yamaha| classic|       c|         c70| 373468.0|\n|yamaha|electric|pacifica|        null|1362988.0|\n|yamaha|electric| revstar|        null|2934981.0|\n|yamaha| acustic|      fs|        null|1971121.0|\n|yamaha|electric| revstar|        null|2721865.0|\n|yamaha| classic|       c|         c40| 333000.0|\n|yamaha|electric| revstar|        null|2443887.0|\n|yamaha| acustic|       f|        f370| 530126.0|\n|yamaha|electric|pacifica|        null| 881673.0|\n|yamaha|electric|pacifica|        null| 798048.0|\n|yamaha| acustic|       f|        f310| 447514.0|\n|yamaha|electric|pacifica|        null|1362990.0|\n|yamaha| acustic|      fg|     fsx800c|1207352.0|\n|yamaha| acustic|      fg|        null|1769815.0|\n|yamaha|electric|pacifica|         012| 611199.0|\n|yamaha| acustic|       f|        f310| 671272.0|\n|yamaha| acustic|      fx|       fx370| 918831.0|\n|yamaha|electric| revstar|        null|2934981.0|\n|yamaha| acustic|     apx|      apx600|1052204.0|\n|yamaha|electric|pacifica|        112v| 991664.0|\n|yamaha|electric|pacifica|        null| 964342.0|\n|yamaha|electric| revstar|        null|2316481.0|\n|yamaha| acustic|     apx|    apx700ii|1904603.0|\n|yamaha|electric|pacifica|         012| 547407.0|\n|yamaha| acustic|     apx|        null| 946720.0|\n|yamaha| acustic|      fs|        null| 713602.0|\n|yamaha|electric| revstar|        null|2443887.0|\n|yamaha| acustic|       f|        f310| 636654.0|\n|yamaha| acustic|      fg|        null|2125455.0|\n|yamaha|electric|pacifica|        112v| 818588.0|\n|yamaha| acustic|       f|        f370| 577862.0|\n|yamaha| acustic|       f|        f310| 511236.0|\n|yamaha| acustic|       f|        f370| 502489.0|\n|yamaha| acustic|       f|        f370| 628111.0|\n|yamaha| acustic|       f|        f370| 703485.0|\n|yamaha|electric|pacifica|         012|1132600.0|\n|yamaha| acustic|       f|        f370| 753734.0|\n|yamaha|electric|pacifica|        null| 849652.0|\n|yamaha| acustic|     cpx|        null|1124069.0|\n|yamaha| acustic|       f|        f310| 559393.0|\n|yamaha|electric| revstar|professional|7335457.0|\n|yamaha| acustic|       f|        f310| 500372.0|\n|yamaha|electric|pacifica|        null|1264018.0|\n|yamaha|electric| revstar|     element|1835488.0|\n|yamaha| acustic|     apx|      apx600| 902498.0|\n|yamaha|electric| revstar|        null|3243073.0|\n|yamaha|electric| revstar|professional|6802811.0|\n|yamaha| acustic|      fs|        null| 750919.0|\n|yamaha| acustic|     apx|    apx700ii|1511552.0|\n|yamaha|electric| revstar|        null|2663953.0|\n|yamaha| acustic|     cpx|        null|1124060.0|\n|yamaha| acustic|      fs|        null| 640723.0|\n|yamaha| acustic|       f|        f310| 590425.0|\n|yamaha|electric|pacifica|         012| 662007.0|\n|yamaha| acustic|      fg|        null|1971121.0|\n|yamaha|electric| revstar|        null|2721865.0|\n|yamaha|electric| revstar|        null|2895601.0|\n|yamaha| acustic|     apx|    apx700ii|1558142.0|\n|yamaha|electric|pacifica|        null|1264020.0|\n|yamaha|electric| revstar|     element|1528366.0|\n|yamaha| acustic|       f|        f310| 621714.0|\n|yamaha| acustic|      fs|        null| 625859.0|\n|yamaha| acustic|       f|        f370| 502489.0|\n|yamaha| acustic|      fs|        null|2125455.0|\n|yamaha|electric| revstar|     element|1835488.0|\n|yamaha| acustic|       f|        f370| 590425.0|\n|yamaha|electric|pacifica|        null|1371589.0|\n|yamaha| acustic|       f|        f370| 628111.0|\n|yamaha|electric|pacifica|        null|1047589.0|\n|yamaha| acustic|      fs|     fsx800c|1320760.0|\n|yamaha|electric|pacifica|        null|1371589.0|\n|yamaha| acustic|       f|        f310| 525830.0|\n|yamaha| acustic|      fx|       fx370| 824993.0|\n|yamaha|electric| revstar|     element|1702209.0|\n|yamaha| acustic|     apx|        null|1904603.0|\n|yamaha| acustic|       f|        f370| 590425.0|\n|yamaha|electric| revstar|        null|2316481.0|\n|yamaha| acustic|     apx|      apx600| 868967.0|\n|yamaha| acustic|     apx|      apx600| 863151.0|\n|yamaha|electric| revstar|     element|1702209.0|\n|yamaha| acustic|      fs|        null| 750919.0|\n|yamaha| acustic|       f|        f310| 447514.0|\n|yamaha|electric|pacifica|         012| 535013.0|\n|yamaha| acustic|      fx|       fx310| 768795.0|\n|yamaha| acustic|       f|        f370| 590425.0|\n|yamaha| acustic|     apx|        null|1200016.0|\n|yamaha| acustic|       f|        f370| 530126.0|\n|yamaha| acustic|      fs|        null| 640723.0|\n|yamaha| acustic|       f|        f310| 626520.0|\n|yamaha|electric|pacifica|        null| 701119.0|\n|yamaha| acustic|       f|        f310| 746057.0|\n|yamaha| acustic|     apx|      apx600|1144193.0|\n|yamaha| acustic|     apx|        null|1511590.0|\n|yamaha| acustic|      fs|        null| 713602.0|\n|yamaha|electric|pacifica|        null|1030768.0|\n|yamaha| acustic|       f|        f370| 502489.0|\n|yamaha| acustic|      fx|       fx370| 824993.0|\n|yamaha| acustic|      fx|       fx370| 990774.0|\n|yamaha| acustic|      fg|       fg800| 799165.0|\n|yamaha| acustic|     apx|      apx600|1052204.0|\n|yamaha| acustic|     apx|      apx600|1128589.0|\n|yamaha| acustic|     apx|      apx600|1248590.0|\n|yamaha| acustic|      fx|       fx310| 606784.0|\n|yamaha| acustic|      fx|       fx370| 781984.0|\n|yamaha| acustic|     apx|    apx700ii|2445109.0|\n|yamaha| acustic|     apx|      apx600|1128589.0|\n|yamaha| acustic|     apx|      apx600|1128589.0|\n|yamaha| acustic|     apx|      apx600| 855449.0|\n|yamaha| acustic|       f|        f310| 497371.0|\n|yamaha| acustic|       f|        f310| 447514.0|\n|yamaha| acustic|     apx|      apx600|1128589.0|\n|yamaha| acustic|     apx|      apx600|1128589.0|\n|yamaha| acustic|       f|        f310| 595990.0|\n|yamaha| acustic|     cpx|        null|1432476.0|\n|yamaha| acustic|     apx|      apx600|1128589.0|\n|yamaha| acustic|       f|        f310| 664189.0|\n|yamaha| acustic|     apx|      apx600|1248590.0|\n|yamaha| acustic|     apx|      apx700|1878752.0|\n|yamaha| acustic|     cpx|        null|1779829.0|\n|yamaha| acustic|      fx|       fx370| 789984.0|\n|yamaha| acustic|      fs|        null| 607321.0|\n|yamaha| acustic|      fx|       fx370|1117789.0|\n|yamaha| acustic|      fs|        null| 640723.0|\n|yamaha|electric|pacifica|        null| 991664.0|\n|yamaha| classic|       c|         c40| 325000.0|\n|yamaha| acustic|       f|        f370| 502489.0|\n|yamaha| acustic|       f|        f310| 447514.0|\n|yamaha| acustic|      fx|       fx370| 781983.0|\n|yamaha| acustic|       f|        f310| 502839.0|\n|yamaha| acustic|     apx|      apx600|1005152.0|\n|yamaha| acustic|      fx|        null| 781984.0|\n|yamaha| acustic|       f|        f310| 455802.0|\n|yamaha| acustic|       f|        f310| 447514.0|\n|yamaha| acustic|      fs|        null|1737776.0|\n|yamaha|electric|pacifica|        null|1120720.0|\n|yamaha| acustic|     apx|    apx700ii|1738285.0|\n|yamaha| acustic|       f|        f310| 447514.0|\n|yamaha| acustic|      fg|        null|1372789.0|\n|yamaha| acustic|      fx|        null|1056740.0|\n|yamaha| acustic|      fg|        null|1372789.0|\n|yamaha| acustic|      fg|        null|2594990.0|\n|yamaha|electric|pacifica|        null| 656806.0|\n|yamaha| acustic|      fs|        null|2227166.0|\n|yamaha| acustic|     cpx|        null|1485420.0|\n|yamaha| acustic|     apx|      apx600|1144193.0|\n|yamaha| acustic|       c|         c80|1207352.0|\n|yamaha|electric|pacifica|         012|1796446.0|\n|yamaha|electric|pacifica|        null|2993000.0|\n|yamaha|electric|pacifica|        null|1032475.0|\n|yamaha| acustic|     apx|        null| 711488.0|\n|yamaha|electric| revstar|        null|3397304.0|\n|yamaha| acustic|      fg|       fg800| 868718.0|\n|yamaha| acustic|       f|        f370| 506524.0|\n|yamaha| acustic|     apx|      apx700|2016116.0|\n|yamaha|electric|pacifica|        null| 775200.0|\n|yamaha| acustic|     apx|      apx600|1153220.0|\n|yamaha| acustic|      fg|        null|1677549.0|\n|yamaha| acustic|      fs|        null|1188920.0|\n|yamaha|electric| revstar|        null|2320600.0|\n|yamaha| acustic|     apx|      apx600| 855449.0|\n|yamaha|electric|pacifica|         012| 538012.0|\n|yamaha| acustic|      fx|        null| 816200.0|\n|yamaha| classic|       c|         c70| 449676.0|\n|yamaha| acustic|      fx|        null|1414219.0|\n|yamaha| acustic|       f|        f370| 789699.0|\n|yamaha|electric|pacifica|         012| 726873.0|\n|yamaha| acustic|      fx|        null| 785984.0|\n|yamaha| acustic|     cpx|        null|1436479.0|\n|yamaha| acustic|      fs|        null| 819668.0|\n|yamaha| acustic|      fg|        null|1195601.0|\n|yamaha| acustic|     apx|      apx600| 855449.0|\n|yamaha|electric|pacifica|        null|1036861.0|\n|yamaha|electric| revstar|        null|2320600.0|\n|yamaha|electric| revstar|        null|3578090.0|\n|yamaha| acustic|       f|        f310| 819963.0|\n|yamaha| acustic|      fg|        null| 896060.0|\n|yamaha| acustic|      fg|       fg830|1383911.0|\n|yamaha| acustic|      fg|        null| 931180.0|\n|yamaha| acustic|     cpx|        null| 958131.0|\n|yamaha| acustic|     apx|    apx700ii|1879422.0|\n|yamaha| acustic|      fs|        null|1306800.0|\n|yamaha|electric| revstar|        null|2240934.0|\n|yamaha| acustic|     apx|      apx700|1511552.0|\n|yamaha| acustic|      fg|        null|1245137.0|\n|yamaha|electric|pacifica|        null| 901994.0|\n|yamaha|electric| revstar|        null|1340900.0|\n|yamaha|electric|pacifica|        112v|1304705.0|\n|yamaha|electric|pacifica|        null| 774776.0|\n|yamaha| acustic|      fs|       fs800| 795776.0|\n|yamaha|electric| revstar|     element|2240934.0|\n|yamaha|electric|pacifica|        112v|1171459.0|\n|yamaha|electric| revstar|        null|1448690.0|\n|yamaha| classic|       c|         c80| 465509.0|\n|yamaha|electric|pacifica|        null|1259324.0|\n|yamaha| acustic|     apx|    apx700ii|2245336.0|\n|yamaha|electric|pacifica|        null|1134927.0|\n|yamaha|electric|pacifica|        null|4057900.0|\n|yamaha|electric|pacifica|        null| 688673.0|\n|yamaha| acustic|      fs|        null|1677549.0|\n|yamaha|electric| revstar|        null|2721865.0|\n|yamaha| acustic|       f|        f370| 789699.0|\n|yamaha| acustic|     apx|      apx700|1419475.0|\n|yamaha| acustic|     cpx|        null|2220135.0|\n|yamaha| acustic|      fg|        null|2227166.0|\n|yamaha| acustic|     apx|    apx700ii|1879422.0|\n|yamaha| acustic|      fs|        null| 894000.0|\n|yamaha| acustic|       f|        f310| 610195.0|\n|yamaha| acustic|     apx|    apx700ii|1415471.0|\n|yamaha| classic|       c|         c80| 465509.0|\n|yamaha| classic|       c|         c70| 329352.0|\n|yamaha| acustic|      fs|        null| 607321.0|\n|yamaha|electric| revstar|        null|2242309.0|\n|yamaha|electric| revstar|        null|3578090.0|\n|yamaha| acustic|      fg|        null|1677549.0|\n|yamaha| acustic|      fx|        null| 606784.0|\n|yamaha|electric|pacifica|         012| 625965.0|\n|yamaha| acustic|       f|        f310| 450515.0|\n|yamaha| classic|       c|         c40| 432700.0|\n|yamaha| classic|       c|         c80| 627260.0|\n|yamaha| classic|       c|         c40| 348824.0|\n|yamaha|electric|pacifica|        112v|1304705.0|\n|yamaha|electric|pacifica|        null| 832704.0|\n+------+--------+--------+------------+---------+\n\n"
     ]
    }
   ],
   "source": [
    "df_yamaha_final = df_yamaha_clean\n",
    "df_yamaha_final.show(df_yamaha_final.count())"
   ]
  },
  {
   "cell_type": "markdown",
   "metadata": {
    "application/vnd.databricks.v1+cell": {
     "cellMetadata": {
      "byteLimit": 2048000,
      "rowLimit": 10000
     },
     "inputWidgets": {},
     "nuid": "916473d3-ccf1-45eb-92be-99893710c417",
     "showTitle": false,
     "tableResultSettingsMap": {},
     "title": ""
    }
   },
   "source": [
    "# Uno todos los Data Frames en uno"
   ]
  },
  {
   "cell_type": "code",
   "execution_count": 0,
   "metadata": {
    "application/vnd.databricks.v1+cell": {
     "cellMetadata": {
      "byteLimit": 2048000,
      "rowLimit": 10000
     },
     "inputWidgets": {},
     "nuid": "0a7193c7-ba1b-4b0e-9435-7644a447bbb8",
     "showTitle": false,
     "tableResultSettingsMap": {},
     "title": ""
    }
   },
   "outputs": [
    {
     "output_type": "stream",
     "name": "stdout",
     "output_type": "stream",
     "text": [
      "Puede obtener los datos de: 1115 guitarras\n+--------+--------+------------+------------+---------+\n|brand   |type    |series      |model       |price    |\n+--------+--------+------------+------------+---------+\n|yamaha  |classic |c           |c40         |298000.0 |\n|yamaha  |electric|pacifica    |012         |538012.0 |\n|yamaha  |classic |c           |c40         |234797.0 |\n|yamaha  |electric|pacifica    |112v        |1110833.0|\n|yamaha  |acustic |fs          |null        |620831.0 |\n|yamaha  |classic |c           |c70         |329352.0 |\n|yamaha  |electric|pacifica    |012         |642015.0 |\n|yamaha  |acustic |f           |f370        |577862.0 |\n|yamaha  |classic |c           |c40         |318044.0 |\n|yamaha  |classic |c           |c40         |251265.0 |\n|yamaha  |electric|pacifica    |012         |625965.0 |\n|yamaha  |classic |c           |c40         |234797.0 |\n|yamaha  |classic |c           |c40         |260000.0 |\n|yamaha  |electric|pacifica    |112v        |1110833.0|\n|yamaha  |classic |c           |c40         |259855.0 |\n|yamaha  |acustic |fg          |fs800       |589326.0 |\n|yamaha  |classic |c           |c40         |244000.0 |\n|yamaha  |acustic |f           |f310        |537017.0 |\n|yamaha  |acustic |fx          |fx310       |606784.0 |\n|yamaha  |classic |c           |c80         |559999.0 |\n|yamaha  |acustic |apx         |apx600      |1128589.0|\n|yamaha  |electric|pacifica    |012         |535013.0 |\n|yamaha  |electric|revstar     |null        |2316481.0|\n|yamaha  |acustic |fg          |fgx800c     |896060.0 |\n|yamaha  |classic |c           |c40         |358044.0 |\n|yamaha  |classic |c           |c40         |293496.0 |\n|yamaha  |classic |c           |c40         |278000.0 |\n|yamaha  |classic |c           |c80         |515179.0 |\n|yamaha  |electric|pacifica    |012         |625965.0 |\n|yamaha  |acustic |fg          |fg830       |153767.0 |\n|yamaha  |classic |c           |c70         |329352.0 |\n|yamaha  |acustic |f           |f310        |598900.0 |\n|yamaha  |electric|pacifica    |012         |104327.0 |\n|yamaha  |acustic |fx          |fx370       |990774.0 |\n|yamaha  |electric|revstar     |null        |2316481.0|\n|yamaha  |electric|pacifica    |012         |100221.0 |\n|yamaha  |acustic |fs          |null        |607321.0 |\n|yamaha  |electric|pacifica    |012         |535013.0 |\n|yamaha  |acustic |apx         |apx600      |1144193.0|\n|yamaha  |electric|revstar     |professional|6108056.0|\n|yamaha  |acustic |fx          |fx310       |118322.0 |\n|yamaha  |acustic |fg          |fg800       |593326.0 |\n|yamaha  |electric|pacifica    |012         |991664.0 |\n|yamaha  |acustic |fx          |fx370       |165129.0 |\n|yamaha  |classic |c           |c40         |254300.0 |\n|yamaha  |acustic |fx          |fx370       |781984.0 |\n|yamaha  |acustic |apx         |apx600      |1000875.0|\n|yamaha  |classic |c           |c40         |234797.0 |\n|yamaha  |acustic |fx          |fx370       |781984.0 |\n|yamaha  |classic |c           |c40         |234800.0 |\n|yamaha  |acustic |fx          |fx370       |914921.0 |\n|yamaha  |acustic |fx          |fx370       |990774.0 |\n|yamaha  |electric|pacifica    |null        |1134929.0|\n|yamaha  |acustic |f           |f370        |530126.0 |\n|yamaha  |electric|pacifica    |null        |1371589.0|\n|yamaha  |classic |c           |c40         |333000.0 |\n|yamaha  |electric|pacifica    |null        |2933109.0|\n|yamaha  |acustic |f           |f370        |753734.0 |\n|yamaha  |electric|revstar     |null        |3474721.0|\n|yamaha  |electric|pacifica    |012         |1304705.0|\n|yamaha  |electric|revstar     |element     |1528366.0|\n|yamaha  |acustic |fx          |fx370       |781984.0 |\n|yamaha  |electric|pacifica    |012         |1013891.0|\n|yamaha  |acustic |f           |f370        |703485.0 |\n|yamaha  |acustic |fg          |fs800       |589326.0 |\n|yamaha  |acustic |fg          |fgx800c     |991666.0 |\n|yamaha  |classic |c           |c40         |270017.0 |\n|yamaha  |classic |c           |c40         |318100.0 |\n|yamaha  |acustic |fx          |fx370       |914921.0 |\n|yamaha  |electric|revstar     |null        |2443887.0|\n|yamaha  |classic |c           |c80         |619990.0 |\n|yamaha  |acustic |fx          |fx310       |640157.0 |\n|yamaha  |classic |c           |c80         |465509.0 |\n|yamaha  |electric|revstar     |null        |2721865.0|\n|yamaha  |classic |c           |c40         |469990.0 |\n|yamaha  |electric|revstar     |null        |2895601.0|\n|yamaha  |acustic |fg          |fsx800c     |1207352.0|\n|yamaha  |acustic |apx         |null        |974642.0 |\n|yamaha  |electric|pacifica    |012         |1013891.0|\n|yamaha  |acustic |fg          |fs800       |795776.0 |\n|yamaha  |electric|pacifica    |012         |1132600.0|\n|yamaha  |acustic |f           |f310        |530126.0 |\n|yamaha  |acustic |f           |f310        |571977.0 |\n|yamaha  |electric|revstar     |null        |2721865.0|\n|yamaha  |acustic |f           |f310        |696320.0 |\n|yamaha  |acustic |fg          |fsx800c     |1207352.0|\n|yamaha  |classic |c           |c70         |373468.0 |\n|yamaha  |electric|pacifica    |null        |1362988.0|\n|yamaha  |electric|revstar     |null        |2934981.0|\n|yamaha  |acustic |fs          |null        |1971121.0|\n|yamaha  |electric|revstar     |null        |2721865.0|\n|yamaha  |classic |c           |c40         |333000.0 |\n|yamaha  |electric|revstar     |null        |2443887.0|\n|yamaha  |acustic |f           |f370        |530126.0 |\n|yamaha  |electric|pacifica    |null        |881673.0 |\n|yamaha  |electric|pacifica    |null        |798048.0 |\n|yamaha  |acustic |f           |f310        |447514.0 |\n|yamaha  |electric|pacifica    |null        |1362990.0|\n|yamaha  |acustic |fg          |fsx800c     |1207352.0|\n|yamaha  |acustic |fg          |null        |1769815.0|\n|yamaha  |electric|pacifica    |012         |611199.0 |\n|yamaha  |acustic |f           |f310        |671272.0 |\n|yamaha  |acustic |fx          |fx370       |918831.0 |\n|yamaha  |electric|revstar     |null        |2934981.0|\n|yamaha  |acustic |apx         |apx600      |1052204.0|\n|yamaha  |electric|pacifica    |112v        |991664.0 |\n|yamaha  |electric|pacifica    |null        |964342.0 |\n|yamaha  |electric|revstar     |null        |2316481.0|\n|yamaha  |acustic |apx         |apx700ii    |1904603.0|\n|yamaha  |electric|pacifica    |012         |547407.0 |\n|yamaha  |acustic |apx         |null        |946720.0 |\n|yamaha  |acustic |fs          |null        |713602.0 |\n|yamaha  |electric|revstar     |null        |2443887.0|\n|yamaha  |acustic |f           |f310        |636654.0 |\n|yamaha  |acustic |fg          |null        |2125455.0|\n|yamaha  |electric|pacifica    |112v        |818588.0 |\n|yamaha  |acustic |f           |f370        |577862.0 |\n|yamaha  |acustic |f           |f310        |511236.0 |\n|yamaha  |acustic |f           |f370        |502489.0 |\n|yamaha  |acustic |f           |f370        |628111.0 |\n|yamaha  |acustic |f           |f370        |703485.0 |\n|yamaha  |electric|pacifica    |012         |1132600.0|\n|yamaha  |acustic |f           |f370        |753734.0 |\n|yamaha  |electric|pacifica    |null        |849652.0 |\n|yamaha  |acustic |cpx         |null        |1124069.0|\n|yamaha  |acustic |f           |f310        |559393.0 |\n|yamaha  |electric|revstar     |professional|7335457.0|\n|yamaha  |acustic |f           |f310        |500372.0 |\n|yamaha  |electric|pacifica    |null        |1264018.0|\n|yamaha  |electric|revstar     |element     |1835488.0|\n|yamaha  |acustic |apx         |apx600      |902498.0 |\n|yamaha  |electric|revstar     |null        |3243073.0|\n|yamaha  |electric|revstar     |professional|6802811.0|\n|yamaha  |acustic |fs          |null        |750919.0 |\n|yamaha  |acustic |apx         |apx700ii    |1511552.0|\n|yamaha  |electric|revstar     |null        |2663953.0|\n|yamaha  |acustic |cpx         |null        |1124060.0|\n|yamaha  |acustic |fs          |null        |640723.0 |\n|yamaha  |acustic |f           |f310        |590425.0 |\n|yamaha  |electric|pacifica    |012         |662007.0 |\n|yamaha  |acustic |fg          |null        |1971121.0|\n|yamaha  |electric|revstar     |null        |2721865.0|\n|yamaha  |electric|revstar     |null        |2895601.0|\n|yamaha  |acustic |apx         |apx700ii    |1558142.0|\n|yamaha  |electric|pacifica    |null        |1264020.0|\n|yamaha  |electric|revstar     |element     |1528366.0|\n|yamaha  |acustic |f           |f310        |621714.0 |\n|yamaha  |acustic |fs          |null        |625859.0 |\n|yamaha  |acustic |f           |f370        |502489.0 |\n|yamaha  |acustic |fs          |null        |2125455.0|\n|yamaha  |electric|revstar     |element     |1835488.0|\n|yamaha  |acustic |f           |f370        |590425.0 |\n|yamaha  |electric|pacifica    |null        |1371589.0|\n|yamaha  |acustic |f           |f370        |628111.0 |\n|yamaha  |electric|pacifica    |null        |1047589.0|\n|yamaha  |acustic |fs          |fsx800c     |1320760.0|\n|yamaha  |electric|pacifica    |null        |1371589.0|\n|yamaha  |acustic |f           |f310        |525830.0 |\n|yamaha  |acustic |fx          |fx370       |824993.0 |\n|yamaha  |electric|revstar     |element     |1702209.0|\n|yamaha  |acustic |apx         |null        |1904603.0|\n|yamaha  |acustic |f           |f370        |590425.0 |\n|yamaha  |electric|revstar     |null        |2316481.0|\n|yamaha  |acustic |apx         |apx600      |868967.0 |\n|yamaha  |acustic |apx         |apx600      |863151.0 |\n|yamaha  |electric|revstar     |element     |1702209.0|\n|yamaha  |acustic |fs          |null        |750919.0 |\n|yamaha  |acustic |f           |f310        |447514.0 |\n|yamaha  |electric|pacifica    |012         |535013.0 |\n|yamaha  |acustic |fx          |fx310       |768795.0 |\n|yamaha  |acustic |f           |f370        |590425.0 |\n|yamaha  |acustic |apx         |null        |1200016.0|\n|yamaha  |acustic |f           |f370        |530126.0 |\n|yamaha  |acustic |fs          |null        |640723.0 |\n|yamaha  |acustic |f           |f310        |626520.0 |\n|yamaha  |electric|pacifica    |null        |701119.0 |\n|yamaha  |acustic |f           |f310        |746057.0 |\n|yamaha  |acustic |apx         |apx600      |1144193.0|\n|yamaha  |acustic |apx         |null        |1511590.0|\n|yamaha  |acustic |fs          |null        |713602.0 |\n|yamaha  |electric|pacifica    |null        |1030768.0|\n|yamaha  |acustic |f           |f370        |502489.0 |\n|yamaha  |acustic |fx          |fx370       |824993.0 |\n|yamaha  |acustic |fx          |fx370       |990774.0 |\n|yamaha  |acustic |fg          |fg800       |799165.0 |\n|yamaha  |acustic |apx         |apx600      |1052204.0|\n|yamaha  |acustic |apx         |apx600      |1128589.0|\n|yamaha  |acustic |apx         |apx600      |1248590.0|\n|yamaha  |acustic |fx          |fx310       |606784.0 |\n|yamaha  |acustic |fx          |fx370       |781984.0 |\n|yamaha  |acustic |apx         |apx700ii    |2445109.0|\n|yamaha  |acustic |apx         |apx600      |1128589.0|\n|yamaha  |acustic |apx         |apx600      |1128589.0|\n|yamaha  |acustic |apx         |apx600      |855449.0 |\n|yamaha  |acustic |f           |f310        |497371.0 |\n|yamaha  |acustic |f           |f310        |447514.0 |\n|yamaha  |acustic |apx         |apx600      |1128589.0|\n|yamaha  |acustic |apx         |apx600      |1128589.0|\n|yamaha  |acustic |f           |f310        |595990.0 |\n|yamaha  |acustic |cpx         |null        |1432476.0|\n|yamaha  |acustic |apx         |apx600      |1128589.0|\n|yamaha  |acustic |f           |f310        |664189.0 |\n|yamaha  |acustic |apx         |apx600      |1248590.0|\n|yamaha  |acustic |apx         |apx700      |1878752.0|\n|yamaha  |acustic |cpx         |null        |1779829.0|\n|yamaha  |acustic |fx          |fx370       |789984.0 |\n|yamaha  |acustic |fs          |null        |607321.0 |\n|yamaha  |acustic |fx          |fx370       |1117789.0|\n|yamaha  |acustic |fs          |null        |640723.0 |\n|yamaha  |electric|pacifica    |null        |991664.0 |\n|yamaha  |classic |c           |c40         |325000.0 |\n|yamaha  |acustic |f           |f370        |502489.0 |\n|yamaha  |acustic |f           |f310        |447514.0 |\n|yamaha  |acustic |fx          |fx370       |781983.0 |\n|yamaha  |acustic |f           |f310        |502839.0 |\n|yamaha  |acustic |apx         |apx600      |1005152.0|\n|yamaha  |acustic |fx          |null        |781984.0 |\n|yamaha  |acustic |f           |f310        |455802.0 |\n|yamaha  |acustic |f           |f310        |447514.0 |\n|yamaha  |acustic |fs          |null        |1737776.0|\n|yamaha  |electric|pacifica    |null        |1120720.0|\n|yamaha  |acustic |apx         |apx700ii    |1738285.0|\n|yamaha  |acustic |f           |f310        |447514.0 |\n|yamaha  |acustic |fg          |null        |1372789.0|\n|yamaha  |acustic |fx          |null        |1056740.0|\n|yamaha  |acustic |fg          |null        |1372789.0|\n|yamaha  |acustic |fg          |null        |2594990.0|\n|yamaha  |electric|pacifica    |null        |656806.0 |\n|yamaha  |acustic |fs          |null        |2227166.0|\n|yamaha  |acustic |cpx         |null        |1485420.0|\n|yamaha  |acustic |apx         |apx600      |1144193.0|\n|yamaha  |acustic |c           |c80         |1207352.0|\n|yamaha  |electric|pacifica    |012         |1796446.0|\n|yamaha  |electric|pacifica    |null        |2993000.0|\n|yamaha  |electric|pacifica    |null        |1032475.0|\n|yamaha  |acustic |apx         |null        |711488.0 |\n|yamaha  |electric|revstar     |null        |3397304.0|\n|yamaha  |acustic |fg          |fg800       |868718.0 |\n|yamaha  |acustic |f           |f370        |506524.0 |\n|yamaha  |acustic |apx         |apx700      |2016116.0|\n|yamaha  |electric|pacifica    |null        |775200.0 |\n|yamaha  |acustic |apx         |apx600      |1153220.0|\n|yamaha  |acustic |fg          |null        |1677549.0|\n|yamaha  |acustic |fs          |null        |1188920.0|\n|yamaha  |electric|revstar     |null        |2320600.0|\n|yamaha  |acustic |apx         |apx600      |855449.0 |\n|yamaha  |electric|pacifica    |012         |538012.0 |\n|yamaha  |acustic |fx          |null        |816200.0 |\n|yamaha  |classic |c           |c70         |449676.0 |\n|yamaha  |acustic |fx          |null        |1414219.0|\n|yamaha  |acustic |f           |f370        |789699.0 |\n|yamaha  |electric|pacifica    |012         |726873.0 |\n|yamaha  |acustic |fx          |null        |785984.0 |\n|yamaha  |acustic |cpx         |null        |1436479.0|\n|yamaha  |acustic |fs          |null        |819668.0 |\n|yamaha  |acustic |fg          |null        |1195601.0|\n|yamaha  |acustic |apx         |apx600      |855449.0 |\n|yamaha  |electric|pacifica    |null        |1036861.0|\n|yamaha  |electric|revstar     |null        |2320600.0|\n|yamaha  |electric|revstar     |null        |3578090.0|\n|yamaha  |acustic |f           |f310        |819963.0 |\n|yamaha  |acustic |fg          |null        |896060.0 |\n|yamaha  |acustic |fg          |fg830       |1383911.0|\n|yamaha  |acustic |fg          |null        |931180.0 |\n|yamaha  |acustic |cpx         |null        |958131.0 |\n|yamaha  |acustic |apx         |apx700ii    |1879422.0|\n|yamaha  |acustic |fs          |null        |1306800.0|\n|yamaha  |electric|revstar     |null        |2240934.0|\n|yamaha  |acustic |apx         |apx700      |1511552.0|\n|yamaha  |acustic |fg          |null        |1245137.0|\n|yamaha  |electric|pacifica    |null        |901994.0 |\n|yamaha  |electric|revstar     |null        |1340900.0|\n|yamaha  |electric|pacifica    |112v        |1304705.0|\n|yamaha  |electric|pacifica    |null        |774776.0 |\n|yamaha  |acustic |fs          |fs800       |795776.0 |\n|yamaha  |electric|revstar     |element     |2240934.0|\n|yamaha  |electric|pacifica    |112v        |1171459.0|\n|yamaha  |electric|revstar     |null        |1448690.0|\n|yamaha  |classic |c           |c80         |465509.0 |\n|yamaha  |electric|pacifica    |null        |1259324.0|\n|yamaha  |acustic |apx         |apx700ii    |2245336.0|\n|yamaha  |electric|pacifica    |null        |1134927.0|\n|yamaha  |electric|pacifica    |null        |4057900.0|\n|yamaha  |electric|pacifica    |null        |688673.0 |\n|yamaha  |acustic |fs          |null        |1677549.0|\n|yamaha  |electric|revstar     |null        |2721865.0|\n|yamaha  |acustic |f           |f370        |789699.0 |\n|yamaha  |acustic |apx         |apx700      |1419475.0|\n|yamaha  |acustic |cpx         |null        |2220135.0|\n|yamaha  |acustic |fg          |null        |2227166.0|\n|yamaha  |acustic |apx         |apx700ii    |1879422.0|\n|yamaha  |acustic |fs          |null        |894000.0 |\n|yamaha  |acustic |f           |f310        |610195.0 |\n|yamaha  |acustic |apx         |apx700ii    |1415471.0|\n|yamaha  |classic |c           |c80         |465509.0 |\n|yamaha  |classic |c           |c70         |329352.0 |\n|yamaha  |acustic |fs          |null        |607321.0 |\n|yamaha  |electric|revstar     |null        |2242309.0|\n|yamaha  |electric|revstar     |null        |3578090.0|\n|yamaha  |acustic |fg          |null        |1677549.0|\n|yamaha  |acustic |fx          |null        |606784.0 |\n|yamaha  |electric|pacifica    |012         |625965.0 |\n|yamaha  |acustic |f           |f310        |450515.0 |\n|yamaha  |classic |c           |c40         |432700.0 |\n|yamaha  |classic |c           |c80         |627260.0 |\n|yamaha  |classic |c           |c40         |348824.0 |\n|yamaha  |electric|pacifica    |112v        |1304705.0|\n|yamaha  |electric|pacifica    |null        |832704.0 |\n|epiphone|electric|special     |les paul    |93116.0  |\n|epiphone|electric|special     |les paul    |122590.0 |\n|epiphone|electric|modern      |sg          |141967.0 |\n|epiphone|electric|modern      |sg          |143202.0 |\n|epiphone|electric|modern      |sg          |143202.0 |\n|epiphone|electric|modern      |sg          |143202.0 |\n|epiphone|electric|special     |sg          |149374.0 |\n|epiphone|electric|modern      |les paul    |154395.0 |\n|epiphone|electric|modern      |les paul    |165423.0 |\n|epiphone|electric|modern      |les paul    |165423.0 |\n|epiphone|electric|standard    |sg          |165423.0 |\n|epiphone|electric|custom      |null        |196684.0 |\n|epiphone|electric|standard    |les paul    |214803.0 |\n|epiphone|electric|standard    |les paul    |214803.0 |\n|epiphone|electric|modern      |sg          |242726.0 |\n|epiphone|electric|modern      |sg          |244398.0 |\n|epiphone|electric|modern      |les paul    |253649.0 |\n|epiphone|electric|studio      |les paul    |254932.0 |\n|epiphone|electric|standard    |sg          |282322.0 |\n|epiphone|electric|modern      |les paul    |329365.0 |\n|epiphone|electric|melody maker|les paul    |375288.0 |\n|epiphone|electric|melody maker|les paul    |375288.0 |\n|epiphone|electric|melody maker|les paul    |375288.0 |\n|epiphone|electric|melody maker|les paul    |375288.0 |\n|epiphone|electric|melody maker|les paul    |416598.0 |\n|epiphone|electric|melody maker|les paul    |431582.0 |\n|epiphone|electric|melody maker|les paul    |431582.0 |\n|epiphone|electric|special     |les paul    |474048.0 |\n|epiphone|electric|special     |les paul    |474048.0 |\n|epiphone|electric|special     |les paul    |474048.0 |\n|epiphone|electric|special     |les paul    |474048.0 |\n|epiphone|electric|melody maker|les paul    |480368.0 |\n|epiphone|electric|melody maker|null        |491586.0 |\n|epiphone|electric|special     |les paul    |524839.0 |\n|epiphone|electric|special     |les paul    |526229.0 |\n|epiphone|electric|standard    |les paul    |543576.0 |\n|epiphone|electric|special     |les paul    |545156.0 |\n|epiphone|electric|special     |les paul    |545156.0 |\n|epiphone|electric|special     |les paul    |545156.0 |\n|epiphone|electric|special     |null        |557007.0 |\n|epiphone|electric|special     |les paul    |606781.0 |\n|epiphone|electric|special     |les paul    |606781.0 |\n|epiphone|electric|special     |les paul    |606782.0 |\n|epiphone|electric|studio      |les paul    |632065.0 |\n|epiphone|electric|studio      |les paul    |632065.0 |\n|epiphone|electric|studio      |les paul    |632065.0 |\n|epiphone|electric|studio      |les paul    |632065.0 |\n|epiphone|electric|studio      |les paul    |632065.0 |\n|epiphone|electric|studio      |les paul    |632065.0 |\n|epiphone|electric|studio      |les paul    |632065.0 |\n|epiphone|electric|studio      |les paul    |632065.0 |\n|epiphone|electric|melody maker|les paul    |637990.0 |\n|epiphone|electric|special     |les paul    |663668.0 |\n|epiphone|electric|special     |les paul    |663668.0 |\n|epiphone|electric|studio      |les paul    |666828.0 |\n|epiphone|electric|special     |null        |671569.0 |\n|epiphone|electric|special     |null        |671570.0 |\n|epiphone|electric|special     |null        |708505.0 |\n|epiphone|electric|special     |les paul    |711073.0 |\n|epiphone|electric|special     |les paul    |711073.0 |\n|epiphone|electric|special     |les paul    |722359.0 |\n|epiphone|electric|studio      |les paul    |726875.0 |\n|epiphone|electric|studio      |les paul    |742676.0 |\n|epiphone|electric|studio      |les paul    |742676.0 |\n|epiphone|electric|studio      |les paul    |742676.0 |\n|epiphone|electric|special     |les paul    |744934.0 |\n|epiphone|electric|special     |les paul    |744934.0 |\n|epiphone|electric|special     |null        |772305.0 |\n|epiphone|electric|special     |null        |789094.0 |\n|epiphone|electric|special     |les paul    |790085.0 |\n|epiphone|electric|studio      |les paul    |808043.0 |\n|epiphone|electric|studio      |les paul    |808043.0 |\n|epiphone|electric|studio      |les paul    |809043.0 |\n|epiphone|electric|special     |les paul    |830713.0 |\n|epiphone|electric|studio      |les paul    |839990.0 |\n|epiphone|electric|special     |les paul    |856675.0 |\n|epiphone|electric|special     |les paul    |856675.0 |\n|epiphone|electric|special     |null        |859608.0 |\n|epiphone|electric|special     |les paul    |902949.0 |\n|epiphone|electric|special     |les paul    |908598.0 |\n|epiphone|electric|special     |les paul    |931168.0 |\n|epiphone|electric|special     |les paul    |931168.0 |\n|epiphone|electric|special     |les paul    |987606.0 |\n|epiphone|electric|special     |les paul    |1042908.0|\n|epiphone|electric|special     |les paul    |1042908.0|\n|epiphone|electric|special     |les paul    |1055903.0|\n|epiphone|electric|special     |les paul    |1106119.0|\n|epiphone|electric|special     |les paul    |1117402.0|\n|epiphone|electric|modern      |les paul    |1119990.0|\n|epiphone|electric|modern      |sg          |1145618.0|\n|epiphone|electric|modern      |sg          |1145618.0|\n|epiphone|electric|modern      |sg          |1145618.0|\n|epiphone|electric|modern      |sg          |1145618.0|\n|epiphone|electric|special     |les paul    |1185128.0|\n|epiphone|electric|studio      |les paul    |1194998.0|\n|epiphone|electric|studio      |les paul    |1194998.0|\n|epiphone|electric|studio      |les paul    |1194998.0|\n|epiphone|electric|studio      |les paul    |1194998.0|\n|epiphone|electric|special     |sg          |1194998.0|\n|epiphone|electric|special     |sg          |1194998.0|\n|epiphone|electric|special     |sg          |1194998.0|\n|epiphone|electric|special     |sg          |1194998.0|\n|epiphone|electric|special     |sg          |1194998.0|\n|epiphone|electric|special     |les paul    |1276172.0|\n|epiphone|electric|modern      |sg          |1317461.0|\n|epiphone|electric|modern      |les paul    |1323386.0|\n|epiphone|electric|modern      |les paul    |1323386.0|\n|epiphone|electric|modern      |les paul    |1323386.0|\n|epiphone|electric|modern      |les paul    |1323386.0|\n|epiphone|electric|modern      |les paul    |1323386.0|\n|epiphone|electric|modern      |les paul    |1323386.0|\n|epiphone|electric|modern      |les paul    |1323386.0|\n|epiphone|electric|standard    |sg          |1323386.0|\n|epiphone|electric|standard    |sg          |1323386.0|\n|epiphone|electric|standard    |sg          |1325386.0|\n|epiphone|electric|studio      |les paul    |1326534.0|\n|epiphone|electric|studio      |les paul    |1326534.0|\n|epiphone|electric|studio      |les paul    |1326534.0|\n|epiphone|electric|studio      |les paul    |1374248.0|\n|epiphone|electric|studio      |les paul    |1374248.0|\n|epiphone|electric|special     |sg          |1374248.0|\n|epiphone|electric|special     |sg          |1374248.0|\n|epiphone|electric|special     |les paul    |1389990.0|\n|epiphone|electric|special     |les paul    |1389990.0|\n|epiphone|electric|modern      |sg          |1466391.0|\n|epiphone|electric|studio      |les paul    |1510259.0|\n|epiphone|electric|special     |sg          |1519132.0|\n|epiphone|electric|standard    |sg          |1521894.0|\n|epiphone|electric|standard    |sg          |1521894.0|\n|epiphone|electric|special     |les paul    |1528597.0|\n|epiphone|electric|special     |les paul    |1528597.0|\n|epiphone|electric|studio      |les paul    |1529597.0|\n|epiphone|electric|studio      |les paul    |1529597.0|\n|epiphone|electric|special     |sg          |1529597.0|\n|epiphone|electric|studio      |les p\n\n*** WARNING: max output size exceeded, skipping output. ***\n\nc100       |315045.0 |\n|cort    |electric|kx          |kx300       |1289412.0|\n|cort    |acustic |ad          |ad810       |546768.0 |\n|cort    |electric|g           |null        |1870912.0|\n|cort    |electric|kx          |kx100       |617161.0 |\n|cort    |electric|g           |g260        |871649.0 |\n|cort    |electric|g           |g110        |397509.0 |\n|cort    |electric|g           |g260        |859213.0 |\n|cort    |electric|kx          |kx100       |474048.0 |\n|cort    |acustic |mr          |mr600       |923854.0 |\n|cort    |electric|g           |g260        |859213.0 |\n|cort    |electric|g           |g200        |493801.0 |\n|cort    |acustic |ad          |ad810       |437413.0 |\n|cort    |electric|kx          |kx300       |831452.0 |\n|cort    |acustic |earth       |null        |608362.0 |\n|cort    |electric|cr          |cr250       |1174500.0|\n|cort    |electric|kx          |kx100       |474048.0 |\n|cort    |acustic |mr          |mr710       |965381.0 |\n|cort    |electric|g           |g260        |1052519.0|\n|cort    |classic |ac          |ac100       |400472.0 |\n|cort    |electric|kx          |kx300       |831452.0 |\n|cort    |electric|cr          |cr250       |978740.0 |\n|cort    |acustic |earth       |null        |375288.0 |\n|cort    |electric|cr          |cr250       |1108611.0|\n|cort    |electric|g           |g200        |610222.0 |\n|cort    |electric|g           |g200        |632065.0 |\n|cort    |electric|x           |x300        |937728.0 |\n|cort    |electric|g           |g110        |354781.0 |\n|cort    |classic |ac          |ac200       |432364.0 |\n|cort    |electric|g           |g250        |754125.0 |\n|cort    |electric|g           |g260        |859213.0 |\n|cort    |electric|kx          |kx100       |606782.0 |\n|cort    |electric|kx          |kx100       |500121.0 |\n|cort    |acustic |earth       |null        |614073.0 |\n|cort    |electric|g           |g290        |1185122.0|\n|cort    |electric|cr          |cr250       |978740.0 |\n|cort    |electric|kx          |kx100       |481766.0 |\n|cort    |acustic |af          |af510       |317672.0 |\n|cort    |electric|kx          |kx100       |583348.0 |\n|cort    |electric|g           |g260        |1009273.0|\n|cort    |electric|kx          |kx100       |508617.0 |\n|cort    |electric|kx          |kx507       |2022608.0|\n|cort    |electric|kx          |kx100       |508617.0 |\n|cort    |electric|kx          |kx100       |617161.0 |\n|cort    |electric|g           |g200        |632065.0 |\n|cort    |acustic |earth       |null        |474739.0 |\n|cort    |electric|kx          |kx300       |1008354.0|\n|cort    |electric|kx          |kx300       |788106.0 |\n|cort    |electric|cr          |cr200       |862140.0 |\n|cort    |electric|kx          |kx500       |1669047.0|\n|cort    |acustic |af          |af510       |333563.0 |\n|cort    |acustic |af          |af510       |396045.0 |\n|cort    |electric|kx          |kx300       |926025.0 |\n|cort    |electric|g           |g300        |1838044.0|\n|cort    |electric|kx          |kx500       |2136380.0|\n|cort    |electric|g           |g250        |572809.0 |\n|cort    |classic |ac          |ac200       |537397.0 |\n|cort    |electric|kx          |kx100       |481766.0 |\n|cort    |electric|kx          |kx500       |2136380.0|\n|cort    |electric|g           |g290        |1516956.0|\n|cort    |electric|g           |g290        |1186122.0|\n|cort    |electric|kx          |kx100       |474048.0 |\n|cort    |classic |ac          |ac200       |355535.0 |\n|cort    |electric|g           |g260        |810579.0 |\n|cort    |electric|kx          |kx700       |2654673.0|\n|cort    |electric|g           |g250        |706101.0 |\n|cort    |electric|g           |g300        |1435972.0|\n|cort    |electric|cr          |cr250       |1108611.0|\n|cort    |electric|kx          |kx100       |557007.0 |\n|cort    |electric|kx          |kx500       |1461650.0|\n|cort    |acustic |earth       |null        |395743.0 |\n|cort    |electric|kx          |kx700       |2073964.0|\n|cort    |electric|g           |g250        |572809.0 |\n|cort    |electric|kx          |kx700       |2190378.0|\n|cort    |electric|g           |g110        |345560.0 |\n|cort    |electric|g           |g250        |658730.0 |\n|cort    |acustic |ad          |ad810       |480419.0 |\n|cort    |electric|kx          |kx300       |1008354.0|\n|cort    |acustic |af          |af510       |314388.0 |\n|cort    |acustic |earth       |null        |608362.0 |\n|cort    |classic |ac          |ac200       |444747.0 |\n|cort    |electric|g           |g280        |1116661.0|\n|cort    |acustic |ad          |ad810       |437400.0 |\n|cort    |acustic |earth       |null        |528405.0 |\n|cort    |classic |ac          |ac200       |445862.0 |\n|cort    |electric|kx          |kx500       |1547979.0|\n|cort    |electric|kx          |kx300       |802415.0 |\n|cort    |electric|g           |g110        |428851.0 |\n|cort    |electric|x           |x700        |2086178.0|\n|cort    |acustic |ac          |ac250       |125183.0 |\n|cort    |acustic |mr          |mr710       |839460.0 |\n|cort    |electric|g           |g300        |1411312.0|\n|cort    |electric|kx          |kx507       |1580163.0|\n|cort    |acustic |earth       |null        |699617.0 |\n|cort    |acustic |af          |af590       |493801.0 |\n|cort    |acustic |earth       |null        |423367.0 |\n|cort    |acustic |earth       |null        |548213.0 |\n|cort    |electric|g           |g300        |1448180.0|\n|cort    |electric|g           |g290        |1197327.0|\n|cort    |electric|g           |g260        |859222.0 |\n|cort    |electric|g           |g290        |1240994.0|\n|cort    |acustic |earth       |null        |511894.0 |\n|cort    |electric|g           |g290        |1274505.0|\n|cort    |electric|kx          |kx300       |798650.0 |\n|cort    |acustic |af          |af510       |362301.0 |\n|cort    |electric|x           |x700        |1977540.0|\n|cort    |electric|x           |x500        |1669065.0|\n|cort    |electric|g           |g280        |1118318.0|\n|cort    |electric|g           |g260        |871414.0 |\n|cort    |electric|x           |x700        |2086178.0|\n|cort    |electric|kx          |kx300       |1017900.0|\n|cort    |electric|x           |x700        |1977540.0|\n|cort    |electric|g           |g260        |871414.0 |\n|cort    |electric|kx          |kx300       |1073890.0|\n|cort    |electric|g           |g250        |572809.0 |\n|cort    |acustic |ad          |ad810       |463381.0 |\n|cort    |electric|g           |g290        |1185122.0|\n|cort    |acustic |ad          |ad810       |463381.0 |\n|cort    |acustic |earth       |null        |478284.0 |\n|cort    |acustic |ad          |ad810       |418537.0 |\n|cort    |acustic |l           |l300        |1106114.0|\n|cort    |classic |ac          |ac120       |607611.0 |\n|cort    |acustic |earth       |null        |385164.0 |\n|cort    |acustic |ad          |ad810       |418545.0 |\n|cort    |acustic |earth       |null        |480368.0 |\n|cort    |acustic |af          |af510       |386571.0 |\n|cort    |acustic |mr          |mr730       |1643368.0|\n|cort    |classic |ac          |ac100       |315045.0 |\n|cort    |acustic |af          |af510       |423681.0 |\n|cort    |acustic |earth       |null        |608362.0 |\n|cort    |acustic |ad          |ad880       |523416.0 |\n|cort    |acustic |af          |af510       |304181.0 |\n|cort    |acustic |ad          |ad880       |666616.0 |\n|cort    |acustic |af          |af510       |315045.0 |\n|cort    |acustic |af          |af510       |405516.0 |\n|cort    |acustic |af          |af510       |390567.0 |\n|cort    |acustic |af          |af590       |634040.0 |\n|cort    |acustic |af          |af510       |576645.0 |\n|cort    |acustic |af          |af510       |537411.0 |\n|cort    |acustic |earth       |null        |493010.0 |\n|cort    |acustic |ad          |ad810       |422239.0 |\n|cort    |acustic |ad          |ad810       |556015.0 |\n|cort    |acustic |ad          |ad810       |437408.0 |\n|cort    |acustic |mr          |mr710       |839461.0 |\n|cort    |acustic |af          |af510       |418545.0 |\n|cort    |acustic |grand regal |null        |1213564.0|\n|cort    |classic |ac          |ac100       |315045.0 |\n|cort    |acustic |earth       |null        |778703.0 |\n|cort    |classic |ac          |ac100       |400472.0 |\n|cort    |acustic |ad          |ad810       |331170.0 |\n|cort    |acustic |l           |l450        |967849.0 |\n|cort    |acustic |l           |l100        |619661.0 |\n|cort    |acustic |earth       |null        |733626.0 |\n|cort    |classic |ac          |ac100       |400472.0 |\n|cort    |acustic |earth       |null        |511827.0 |\n|cort    |acustic |af          |af510       |444865.0 |\n|cort    |acustic |ad          |ad810       |418500.0 |\n|cort    |acustic |af          |af510       |418537.0 |\n|cort    |acustic |mr          |mr500       |691320.0 |\n|cort    |acustic |ad          |ad880       |434464.0 |\n|cort    |acustic |af          |af510       |348822.0 |\n|cort    |acustic |af          |af510       |469106.0 |\n|cort    |acustic |af          |af510       |463420.0 |\n|cort    |acustic |ad          |ad810       |367783.0 |\n|cort    |acustic |earth       |null        |412817.0 |\n|cort    |acustic |earth       |null        |998794.0 |\n|cort    |acustic |ad          |ad810       |503026.0 |\n|cort    |acustic |ad          |ad810       |546768.0 |\n|cort    |classic |ac          |ac120       |485673.0 |\n|cort    |acustic |af          |af510       |439465.0 |\n|cort    |acustic |ad          |ad810       |437400.0 |\n|cort    |acustic |ad          |ad810       |313307.0 |\n|cort    |classic |ac          |ac160       |631599.0 |\n|cort    |classic |ac          |ac160       |765404.0 |\n|cort    |acustic |ad          |ad880       |404769.0 |\n|cort    |acustic |ad          |ad810       |344571.0 |\n|cort    |acustic |earth       |null        |601028.0 |\n|cort    |acustic |ad          |ad880       |647339.0 |\n|cort    |acustic |earth       |null        |397569.0 |\n|cort    |acustic |l           |l450        |744319.0 |\n|cort    |acustic |af          |af510       |429095.0 |\n|cort    |acustic |ad          |ad880       |536790.0 |\n|cort    |acustic |af          |af510       |515908.0 |\n|cort    |acustic |earth       |null        |728282.0 |\n|cort    |classic |ac          |ac120       |477998.0 |\n|cort    |acustic |earth       |null        |614073.0 |\n|cort    |acustic |ad          |ad810       |415755.0 |\n|cort    |acustic |af          |af510       |526883.0 |\n|cort    |acustic |earth       |null        |725342.0 |\n|cort    |classic |ac          |ac100       |394934.0 |\n|cort    |acustic |af          |af510       |436088.0 |\n|cort    |acustic |earth       |null        |466314.0 |\n|cort    |classic |ac          |ac200       |537397.0 |\n|cort    |acustic |l           |l450        |900925.0 |\n|cort    |acustic |earth       |null        |670124.0 |\n|cort    |classic |ac          |ac250       |620736.0 |\n|cort    |acustic |earth       |null        |390132.0 |\n|cort    |classic |ac          |ac200       |497219.0 |\n|cort    |acustic |mr          |mr730       |1476465.0|\n|cort    |acustic |mr          |mr730       |1283882.0|\n|cort    |acustic |earth       |null        |712620.0 |\n|cort    |acustic |earth       |null        |540568.0 |\n|cort    |acustic |earth       |null        |474740.0 |\n|cort    |classic |ac          |ac200       |445862.0 |\n|cort    |acustic |af          |af510       |598509.0 |\n|cort    |acustic |af          |af510       |423680.0 |\n|cort    |acustic |ad          |ad810       |439465.0 |\n|cort    |acustic |af          |af510       |317101.0 |\n|cort    |acustic |ad          |ad810       |598509.0 |\n|cort    |acustic |af          |af510       |605864.0 |\n|cort    |acustic |af          |af510       |431861.0 |\n|cort    |acustic |af          |af510       |393806.0 |\n|cort    |acustic |ad          |ad810       |332169.0 |\n|cort    |acustic |ad          |ad810       |415212.0 |\n|cort    |acustic |ad          |ad810       |360308.0 |\n|cort    |classic |ac          |ac150       |465798.0 |\n|cort    |classic |ac          |ac150       |465798.0 |\n|cort    |acustic |earth       |null        |543181.0 |\n|cort    |acustic |earth       |null        |624658.0 |\n|cort    |classic |ac          |ac150       |405041.0 |\n|cort    |acustic |earth       |null        |540568.0 |\n|cort    |acustic |af          |af590       |493800.0 |\n|cort    |acustic |ad          |ad810       |330544.0 |\n|cort    |acustic |l           |l100        |638649.0 |\n|cort    |acustic |ad          |ad810       |330544.0 |\n|cort    |acustic |ad          |ad810       |368141.0 |\n|cort    |classic |ac          |ac250       |752213.0 |\n|cort    |acustic |af          |af510       |320911.0 |\n|cort    |acustic |ad          |ad810       |368141.0 |\n|cort    |acustic |earth       |null        |714826.0 |\n|cort    |acustic |earth       |null        |641822.0 |\n|cort    |acustic |earth       |null        |770795.0 |\n|cort    |acustic |ad          |ad810       |396966.0 |\n|cort    |acustic |ad          |ad810       |535064.0 |\n|cort    |acustic |af          |af510       |357413.0 |\n|cort    |acustic |earth       |null        |412817.0 |\n|cort    |acustic |earth       |null        |744436.0 |\n|cort    |acustic |earth       |null        |412818.0 |\n|cort    |acustic |earth       |null        |670124.0 |\n|cort    |acustic |l           |l450        |1238847.0|\n|cort    |classic |ac          |ac160       |762463.0 |\n|cort    |acustic |mr          |mr710       |1074510.0|\n|cort    |acustic |af          |af510       |441557.0 |\n|cort    |acustic |af          |af510       |302008.0 |\n|cort    |classic |ac          |ac150       |405041.0 |\n|cort    |acustic |earth       |null        |385164.0 |\n|cort    |acustic |af          |af590       |493800.0 |\n|cort    |classic |ac          |ac200       |432364.0 |\n|cort    |acustic |mr          |mr710       |965380.0 |\n|cort    |acustic |earth       |null        |442938.0 |\n|cort    |acustic |earth       |null        |699616.0 |\n|cort    |acustic |mr          |mr710       |1074510.0|\n|cort    |acustic |ad          |ad810       |437414.0 |\n|cort    |acustic |earth       |null        |998794.0 |\n|cort    |acustic |earth       |null        |812990.0 |\n|cort    |acustic |ad          |ad810       |549990.0 |\n|cort    |acustic |ad          |ad810       |332169.0 |\n|cort    |acustic |mr          |mr710       |839461.0 |\n|cort    |acustic |af          |af510       |304181.0 |\n|cort    |acustic |ad          |ad810       |418538.0 |\n|cort    |acustic |earth       |null        |998794.0 |\n|cort    |acustic |earth       |null        |812990.0 |\n|cort    |acustic |ad          |ad810       |549990.0 |\n|cort    |acustic |ad          |ad810       |332169.0 |\n|cort    |acustic |mr          |mr710       |839461.0 |\n|cort    |acustic |af          |af510       |304181.0 |\n|cort    |acustic |ad          |ad810       |418538.0 |\n|cort    |acustic |earth       |null        |768610.0 |\n|cort    |acustic |mr          |mr710       |1120990.0|\n|cort    |acustic |earth       |null        |997990.0 |\n|cort    |acustic |ad          |ad810       |584990.0 |\n|cort    |acustic |ad          |ad810       |423990.0 |\n|cort    |acustic |af          |af590       |622188.0 |\n|cort    |acustic |earth       |null        |768610.0 |\n|cort    |acustic |earth       |null        |608362.0 |\n|cort    |acustic |earth       |null        |608362.0 |\n|cort    |acustic |earth       |null        |812990.0 |\n|cort    |acustic |earth       |null        |998794.0 |\n|cort    |acustic |ad          |ad810       |449990.0 |\n|cort    |acustic |ad          |ad810       |313312.0 |\n|cort    |acustic |ad          |ad810       |423990.0 |\n|cort    |acustic |af          |af510       |315045.0 |\n|cort    |acustic |af          |af510       |428990.0 |\n|cort    |acustic |af          |af510       |417990.0 |\n|cort    |acustic |ad          |ad810       |335784.0 |\n|cort    |acustic |ad          |ad810       |313312.0 |\n|cort    |acustic |earth       |null        |768610.0 |\n|cort    |acustic |earth       |null        |812990.0 |\n|cort    |acustic |earth       |null        |540568.0 |\n|cort    |acustic |ad          |ad810       |360308.0 |\n|cort    |acustic |earth       |null        |412817.0 |\n|cort    |acustic |mr          |mr600       |763005.0 |\n|cort    |acustic |mr          |mr710       |839461.0 |\n|cort    |acustic |ad          |ad810       |518996.0 |\n|cort    |acustic |ad          |ad810       |418500.0 |\n|cort    |acustic |ad          |ad880       |437409.0 |\n|cort    |acustic |ad          |ad880       |614810.0 |\n|cort    |acustic |af          |af510       |520297.0 |\n|cort    |acustic |ad          |ad810       |388500.0 |\n|cort    |acustic |ad          |ad810       |418545.0 |\n|cort    |acustic |th          |th100       |608362.0 |\n|cort    |acustic |mr          |mr730       |246077.0 |\n|cort    |acustic |ad          |ad810       |418538.0 |\n|cort    |acustic |af          |af510       |491782.0 |\n|cort    |acustic |earth       |null        |385164.0 |\n|cort    |acustic |earth       |null        |470059.0 |\n|cort    |acustic |earth       |null        |480109.0 |\n|cort    |acustic |earth       |null        |442939.0 |\n|cort    |acustic |ad          |ad810       |313312.0 |\n|cort    |acustic |earth       |null        |767457.0 |\n|cort    |acustic |af          |af510       |347301.0 |\n|cort    |acustic |ad          |ad810       |368031.0 |\n|cort    |acustic |earth       |null        |819513.0 |\n|cort    |acustic |af          |af510       |374491.0 |\n|cort    |acustic |earth       |null        |474740.0 |\n|squier  |electric|bullet      |telecaster  |521039.0 |\n|squier  |electric|bullet      |stratocaster|453077.0 |\n|squier  |electric|bullet      |stratocaster|453077.0 |\n|squier  |electric|affinity    |stratocaster|786028.0 |\n|squier  |electric|bullet      |telecaster  |521039.0 |\n|squier  |electric|contemporary|telecaster  |184825.0 |\n|squier  |electric|affinity    |stratocaster|786028.0 |\n|squier  |electric|affinity    |stratocaster|786028.0 |\n|squier  |electric|bullet      |stratocaster|453639.0 |\n|squier  |electric|affinity    |telecaster  |829264.0 |\n|squier  |electric|affinity    |telecaster  |598357.0 |\n|squier  |electric|affinity    |stratocaster|683506.0 |\n|squier  |electric|affinity    |stratocaster|598357.0 |\n|squier  |electric|affinity    |stratocaster|683502.0 |\n|squier  |electric|affinity    |telecaster  |523238.0 |\n|squier  |electric|bullet      |stratocaster|521039.0 |\n|squier  |electric|affinity    |stratocaster|683506.0 |\n|squier  |electric|bullet      |stratocaster|521039.0 |\n|squier  |electric|bullet      |telecaster  |453077.0 |\n|squier  |electric|bullet      |telecaster  |696516.0 |\n|squier  |electric|affinity    |telecaster  |544998.0 |\n|squier  |electric|bullet      |telecaster  |597498.0 |\n|squier  |electric|bullet      |telecaster  |549698.0 |\n|squier  |electric|contemporary|stratocaster|1001315.0|\n|squier  |electric|bullet      |stratocaster|599000.0 |\n|squier  |electric|bullet      |telecaster  |605666.0 |\n|squier  |electric|affinity    |null        |829264.0 |\n|squier  |electric|bullet      |stratocaster|569999.0 |\n|squier  |electric|contemporary|telecaster  |184825.0 |\n|squier  |electric|bullet      |stratocaster|545000.0 |\n|squier  |electric|affinity    |telecaster  |626747.0 |\n|squier  |electric|contemporary|telecaster  |899997.0 |\n|squier  |electric|contemporary|stratocaster|833770.0 |\n|squier  |electric|bullet      |telecaster  |669198.0 |\n|squier  |electric|affinity    |telecaster  |860202.0 |\n|squier  |electric|affinity    |telecaster  |721099.0 |\n|squier  |electric|bullet      |telecaster  |716998.0 |\n|squier  |electric|affinity    |stratocaster|683502.0 |\n|squier  |electric|bullet      |telecaster  |716998.0 |\n|squier  |electric|bullet      |telecaster  |549698.0 |\n|squier  |electric|bullet      |telecaster  |949999.0 |\n|squier  |electric|contemporary|stratocaster|1500036.0|\n|squier  |electric|affinity    |telecaster  |1193566.0|\n|squier  |electric|affinity    |stratocaster|683502.0 |\n|squier  |electric|affinity    |telecaster  |788681.0 |\n|squier  |electric|affinity    |stratocaster|786027.0 |\n|squier  |electric|affinity    |telecaster  |749999.0 |\n|squier  |electric|affinity    |null        |721099.0 |\n|squier  |electric|affinity    |telecaster  |829264.0 |\n|squier  |electric|affinity    |telecaster  |906984.0 |\n|squier  |electric|affinity    |stratocaster|958045.0 |\n|squier  |electric|affinity    |telecaster  |721099.0 |\n|squier  |electric|affinity    |telecaster  |958045.0 |\n|squier  |electric|affinity    |stratocaster|829265.0 |\n|squier  |electric|contemporary|stratocaster|1350032.0|\n|squier  |electric|affinity    |stratocaster|786028.0 |\n|squier  |electric|affinity    |telecaster  |626747.0 |\n|squier  |electric|affinity    |telecaster  |785399.0 |\n|squier  |electric|bullet      |telecaster  |477998.0 |\n|squier  |electric|contemporary|null        |287506.0 |\n|squier  |electric|bullet      |stratocaster|566035.0 |\n|squier  |electric|affinity    |stratocaster|958045.0 |\n|squier  |electric|affinity    |telecaster  |869549.0 |\n|squier  |electric|affinity    |null        |829264.0 |\n|squier  |electric|contemporary|telecaster  |1034997.0|\n|squier  |electric|affinity    |telecaster  |721099.0 |\n|squier  |electric|bullet      |telecaster  |453077.0 |\n|squier  |electric|contemporary|stratocaster|945307.0 |\n|squier  |electric|contemporary|stratocaster|1552537.0|\n|squier  |electric|affinity    |telecaster  |829264.0 |\n|squier  |electric|affinity    |stratocaster|958045.0 |\n|squier  |electric|contemporary|telecaster  |899997.0 |\n|squier  |electric|bullet      |telecaster  |521039.0 |\n|squier  |electric|affinity    |stratocaster|860202.0 |\n|squier  |electric|affinity    |telecaster  |829264.0 |\n|squier  |electric|bullet      |telecaster  |477998.0 |\n|squier  |electric|affinity    |stratocaster|901375.0 |\n|squier  |electric|bullet      |telecaster  |597498.0 |\n|squier  |electric|contemporary|telecaster  |1108955.0|\n|squier  |electric|contemporary|telecaster  |964308.0 |\n|squier  |electric|affinity    |stratocaster|829265.0 |\n|squier  |electric|affinity    |stratocaster|683502.0 |\n|squier  |electric|bullet      |stratocaster|508227.0 |\n|squier  |electric|contemporary|stratocaster|928607.0 |\n|squier  |electric|affinity    |null        |829264.0 |\n|squier  |electric|contemporary|telecaster  |1124997.0|\n|squier  |electric|affinity    |stratocaster|829265.0 |\n|squier  |electric|affinity    |stratocaster|721100.0 |\n|squier  |electric|affinity    |telecaster  |560999.0 |\n|squier  |electric|contemporary|telecaster  |1124778.0|\n|squier  |electric|affinity    |stratocaster|1033058.0|\n|squier  |electric|affinity    |stratocaster|860202.0 |\n|squier  |electric|affinity    |stratocaster|1399349.0|\n|squier  |electric|affinity    |telecaster  |860202.0 |\n|squier  |electric|bullet      |stratocaster|453077.0 |\n|squier  |electric|bullet      |stratocaster|521038.0 |\n|squier  |electric|affinity    |stratocaster|998970.0 |\n|squier  |electric|affinity    |telecaster  |1044999.0|\n|squier  |electric|affinity    |stratocaster|721100.0 |\n|squier  |electric|affinity    |stratocaster|1082951.0|\n|squier  |electric|contemporary|telecaster  |899997.0 |\n|squier  |electric|affinity    |stratocaster|1517855.0|\n|squier  |electric|affinity    |telecaster  |1329999.0|\n|squier  |electric|affinity    |stratocaster|829265.0 |\n|squier  |electric|affinity    |telecaster  |829264.0 |\n|squier  |electric|affinity    |telecaster  |1443359.0|\n|squier  |electric|affinity    |telecaster  |958045.0 |\n|squier  |electric|affinity    |stratocaster|1193566.0|\n|squier  |electric|bullet      |telecaster  |620927.0 |\n|squier  |electric|bullet      |telecaster  |696516.0 |\n|squier  |electric|bullet      |stratocaster|866015.0 |\n|squier  |electric|classic vibe|telecaster  |1872902.0|\n|squier  |electric|bullet      |null        |605666.0 |\n|squier  |electric|affinity    |null        |983545.0 |\n|squier  |electric|affinity    |stratocaster|721100.0 |\n|squier  |electric|affinity    |stratocaster|721100.0 |\n|squier  |electric|affinity    |telecaster  |361609.0 |\n|squier  |electric|classic vibe|telecaster  |1140028.0|\n|squier  |electric|classic vibe|telecaster  |1628611.0|\n|squier  |electric|classic vibe|telecaster  |1447835.0|\n|squier  |electric|bullet      |stratocaster|669116.0 |\n|squier  |electric|affinity    |telecaster  |544998.0 |\n|squier  |electric|affinity    |telecaster  |729980.0 |\n|squier  |electric|affinity    |telecaster  |601724.0 |\n|squier  |electric|classic vibe|null        |3249159.0|\n|squier  |electric|classic vibe|stratocaster|1659000.0|\n|squier  |electric|classic vibe|stratocaster|1652000.0|\n|squier  |electric|classic vibe|telecaster  |1666000.0|\n|squier  |electric|bullet      |telecaster  |549698.0 |\n|squier  |electric|classic vibe|telecaster  |1628611.0|\n|squier  |electric|classic vibe|telecaster  |1872902.0|\n+--------+--------+------------+------------+---------+\n\n"
     ]
    }
   ],
   "source": [
    "df_guitars = df_cort_final.union(df_squier_final)\n",
    "df_guitars = df_epiphone_final.union(df_guitars)\n",
    "df_guitars = df_yamaha_final.union(df_guitars)\n",
    "print(f\"Puede obtener los datos de: {df_guitars.count()} guitarras\")\n",
    "df_guitars.show(df_guitars.count(),False)"
   ]
  },
  {
   "cell_type": "code",
   "execution_count": 0,
   "metadata": {
    "application/vnd.databricks.v1+cell": {
     "cellMetadata": {
      "byteLimit": 2048000,
      "rowLimit": 10000
     },
     "inputWidgets": {},
     "nuid": "fd850fcf-a254-48ca-8566-50b8dd2d420a",
     "showTitle": false,
     "tableResultSettingsMap": {},
     "title": ""
    }
   },
   "outputs": [],
   "source": [
    "# descargo el data frame final a través de una consulta en SQL\n",
    "df_guitars.createOrReplaceTempView(\"guitars_view\")\n"
   ]
  },
  {
   "cell_type": "code",
   "execution_count": 0,
   "metadata": {
    "application/vnd.databricks.v1+cell": {
     "cellMetadata": {
      "byteLimit": 2048000,
      "implicitDf": true,
      "rowLimit": 10000
     },
     "inputWidgets": {},
     "nuid": "e14a7eaf-f0ba-4f2b-ae15-a189e0eb6755",
     "showTitle": false,
     "tableResultSettingsMap": {},
     "title": ""
    }
   },
   "outputs": [
    {
     "output_type": "display_data",
     "data": {
      "text/html": [
       "<style scoped>\n",
       "  .table-result-container {\n",
       "    max-height: 300px;\n",
       "    overflow: auto;\n",
       "  }\n",
       "  table, th, td {\n",
       "    border: 1px solid black;\n",
       "    border-collapse: collapse;\n",
       "  }\n",
       "  th, td {\n",
       "    padding: 5px;\n",
       "  }\n",
       "  th {\n",
       "    text-align: left;\n",
       "  }\n",
       "</style><div class='table-result-container'><table class='table-result'><thead style='background-color: white'><tr><th>brand</th><th>type</th><th>series</th><th>model</th><th>price</th></tr></thead><tbody><tr><td>yamaha</td><td>classic</td><td>c</td><td>c40</td><td>298000.0</td></tr><tr><td>yamaha</td><td>electric</td><td>pacifica</td><td>012</td><td>538012.0</td></tr><tr><td>yamaha</td><td>classic</td><td>c</td><td>c40</td><td>234797.0</td></tr><tr><td>yamaha</td><td>electric</td><td>pacifica</td><td>112v</td><td>1110833.0</td></tr><tr><td>yamaha</td><td>acustic</td><td>fs</td><td>null</td><td>620831.0</td></tr><tr><td>yamaha</td><td>classic</td><td>c</td><td>c70</td><td>329352.0</td></tr><tr><td>yamaha</td><td>electric</td><td>pacifica</td><td>012</td><td>642015.0</td></tr><tr><td>yamaha</td><td>acustic</td><td>f</td><td>f370</td><td>577862.0</td></tr><tr><td>yamaha</td><td>classic</td><td>c</td><td>c40</td><td>318044.0</td></tr><tr><td>yamaha</td><td>classic</td><td>c</td><td>c40</td><td>251265.0</td></tr><tr><td>yamaha</td><td>electric</td><td>pacifica</td><td>012</td><td>625965.0</td></tr><tr><td>yamaha</td><td>classic</td><td>c</td><td>c40</td><td>234797.0</td></tr><tr><td>yamaha</td><td>classic</td><td>c</td><td>c40</td><td>260000.0</td></tr><tr><td>yamaha</td><td>electric</td><td>pacifica</td><td>112v</td><td>1110833.0</td></tr><tr><td>yamaha</td><td>classic</td><td>c</td><td>c40</td><td>259855.0</td></tr><tr><td>yamaha</td><td>acustic</td><td>fg</td><td>fs800</td><td>589326.0</td></tr><tr><td>yamaha</td><td>classic</td><td>c</td><td>c40</td><td>244000.0</td></tr><tr><td>yamaha</td><td>acustic</td><td>f</td><td>f310</td><td>537017.0</td></tr><tr><td>yamaha</td><td>acustic</td><td>fx</td><td>fx310</td><td>606784.0</td></tr><tr><td>yamaha</td><td>classic</td><td>c</td><td>c80</td><td>559999.0</td></tr><tr><td>yamaha</td><td>acustic</td><td>apx</td><td>apx600</td><td>1128589.0</td></tr><tr><td>yamaha</td><td>electric</td><td>pacifica</td><td>012</td><td>535013.0</td></tr><tr><td>yamaha</td><td>electric</td><td>revstar</td><td>null</td><td>2316481.0</td></tr><tr><td>yamaha</td><td>acustic</td><td>fg</td><td>fgx800c</td><td>896060.0</td></tr><tr><td>yamaha</td><td>classic</td><td>c</td><td>c40</td><td>358044.0</td></tr><tr><td>yamaha</td><td>classic</td><td>c</td><td>c40</td><td>293496.0</td></tr><tr><td>yamaha</td><td>classic</td><td>c</td><td>c40</td><td>278000.0</td></tr><tr><td>yamaha</td><td>classic</td><td>c</td><td>c80</td><td>515179.0</td></tr><tr><td>yamaha</td><td>electric</td><td>pacifica</td><td>012</td><td>625965.0</td></tr><tr><td>yamaha</td><td>acustic</td><td>fg</td><td>fg830</td><td>153767.0</td></tr><tr><td>yamaha</td><td>classic</td><td>c</td><td>c70</td><td>329352.0</td></tr><tr><td>yamaha</td><td>acustic</td><td>f</td><td>f310</td><td>598900.0</td></tr><tr><td>yamaha</td><td>electric</td><td>pacifica</td><td>012</td><td>104327.0</td></tr><tr><td>yamaha</td><td>acustic</td><td>fx</td><td>fx370</td><td>990774.0</td></tr><tr><td>yamaha</td><td>electric</td><td>revstar</td><td>null</td><td>2316481.0</td></tr><tr><td>yamaha</td><td>electric</td><td>pacifica</td><td>012</td><td>100221.0</td></tr><tr><td>yamaha</td><td>acustic</td><td>fs</td><td>null</td><td>607321.0</td></tr><tr><td>yamaha</td><td>electric</td><td>pacifica</td><td>012</td><td>535013.0</td></tr><tr><td>yamaha</td><td>acustic</td><td>apx</td><td>apx600</td><td>1144193.0</td></tr><tr><td>yamaha</td><td>electric</td><td>revstar</td><td>professional</td><td>6108056.0</td></tr><tr><td>yamaha</td><td>acustic</td><td>fx</td><td>fx310</td><td>118322.0</td></tr><tr><td>yamaha</td><td>acustic</td><td>fg</td><td>fg800</td><td>593326.0</td></tr><tr><td>yamaha</td><td>electric</td><td>pacifica</td><td>012</td><td>991664.0</td></tr><tr><td>yamaha</td><td>acustic</td><td>fx</td><td>fx370</td><td>165129.0</td></tr><tr><td>yamaha</td><td>classic</td><td>c</td><td>c40</td><td>254300.0</td></tr><tr><td>yamaha</td><td>acustic</td><td>fx</td><td>fx370</td><td>781984.0</td></tr><tr><td>yamaha</td><td>acustic</td><td>apx</td><td>apx600</td><td>1000875.0</td></tr><tr><td>yamaha</td><td>classic</td><td>c</td><td>c40</td><td>234797.0</td></tr><tr><td>yamaha</td><td>acustic</td><td>fx</td><td>fx370</td><td>781984.0</td></tr><tr><td>yamaha</td><td>classic</td><td>c</td><td>c40</td><td>234800.0</td></tr><tr><td>yamaha</td><td>acustic</td><td>fx</td><td>fx370</td><td>914921.0</td></tr><tr><td>yamaha</td><td>acustic</td><td>fx</td><td>fx370</td><td>990774.0</td></tr><tr><td>yamaha</td><td>electric</td><td>pacifica</td><td>null</td><td>1134929.0</td></tr><tr><td>yamaha</td><td>acustic</td><td>f</td><td>f370</td><td>530126.0</td></tr><tr><td>yamaha</td><td>electric</td><td>pacifica</td><td>null</td><td>1371589.0</td></tr><tr><td>yamaha</td><td>classic</td><td>c</td><td>c40</td><td>333000.0</td></tr><tr><td>yamaha</td><td>electric</td><td>pacifica</td><td>null</td><td>2933109.0</td></tr><tr><td>yamaha</td><td>acustic</td><td>f</td><td>f370</td><td>753734.0</td></tr><tr><td>yamaha</td><td>electric</td><td>revstar</td><td>null</td><td>3474721.0</td></tr><tr><td>yamaha</td><td>electric</td><td>pacifica</td><td>012</td><td>1304705.0</td></tr><tr><td>yamaha</td><td>electric</td><td>revstar</td><td>element</td><td>1528366.0</td></tr><tr><td>yamaha</td><td>acustic</td><td>fx</td><td>fx370</td><td>781984.0</td></tr><tr><td>yamaha</td><td>electric</td><td>pacifica</td><td>012</td><td>1013891.0</td></tr><tr><td>yamaha</td><td>acustic</td><td>f</td><td>f370</td><td>703485.0</td></tr><tr><td>yamaha</td><td>acustic</td><td>fg</td><td>fs800</td><td>589326.0</td></tr><tr><td>yamaha</td><td>acustic</td><td>fg</td><td>fgx800c</td><td>991666.0</td></tr><tr><td>yamaha</td><td>classic</td><td>c</td><td>c40</td><td>270017.0</td></tr><tr><td>yamaha</td><td>classic</td><td>c</td><td>c40</td><td>318100.0</td></tr><tr><td>yamaha</td><td>acustic</td><td>fx</td><td>fx370</td><td>914921.0</td></tr><tr><td>yamaha</td><td>electric</td><td>revstar</td><td>null</td><td>2443887.0</td></tr><tr><td>yamaha</td><td>classic</td><td>c</td><td>c80</td><td>619990.0</td></tr><tr><td>yamaha</td><td>acustic</td><td>fx</td><td>fx310</td><td>640157.0</td></tr><tr><td>yamaha</td><td>classic</td><td>c</td><td>c80</td><td>465509.0</td></tr><tr><td>yamaha</td><td>electric</td><td>revstar</td><td>null</td><td>2721865.0</td></tr><tr><td>yamaha</td><td>classic</td><td>c</td><td>c40</td><td>469990.0</td></tr><tr><td>yamaha</td><td>electric</td><td>revstar</td><td>null</td><td>2895601.0</td></tr><tr><td>yamaha</td><td>acustic</td><td>fg</td><td>fsx800c</td><td>1207352.0</td></tr><tr><td>yamaha</td><td>acustic</td><td>apx</td><td>null</td><td>974642.0</td></tr><tr><td>yamaha</td><td>electric</td><td>pacifica</td><td>012</td><td>1013891.0</td></tr><tr><td>yamaha</td><td>acustic</td><td>fg</td><td>fs800</td><td>795776.0</td></tr><tr><td>yamaha</td><td>electric</td><td>pacifica</td><td>012</td><td>1132600.0</td></tr><tr><td>yamaha</td><td>acustic</td><td>f</td><td>f310</td><td>530126.0</td></tr><tr><td>yamaha</td><td>acustic</td><td>f</td><td>f310</td><td>571977.0</td></tr><tr><td>yamaha</td><td>electric</td><td>revstar</td><td>null</td><td>2721865.0</td></tr><tr><td>yamaha</td><td>acustic</td><td>f</td><td>f310</td><td>696320.0</td></tr><tr><td>yamaha</td><td>acustic</td><td>fg</td><td>fsx800c</td><td>1207352.0</td></tr><tr><td>yamaha</td><td>classic</td><td>c</td><td>c70</td><td>373468.0</td></tr><tr><td>yamaha</td><td>electric</td><td>pacifica</td><td>null</td><td>1362988.0</td></tr><tr><td>yamaha</td><td>electric</td><td>revstar</td><td>null</td><td>2934981.0</td></tr><tr><td>yamaha</td><td>acustic</td><td>fs</td><td>null</td><td>1971121.0</td></tr><tr><td>yamaha</td><td>electric</td><td>revstar</td><td>null</td><td>2721865.0</td></tr><tr><td>yamaha</td><td>classic</td><td>c</td><td>c40</td><td>333000.0</td></tr><tr><td>yamaha</td><td>electric</td><td>revstar</td><td>null</td><td>2443887.0</td></tr><tr><td>yamaha</td><td>acustic</td><td>f</td><td>f370</td><td>530126.0</td></tr><tr><td>yamaha</td><td>electric</td><td>pacifica</td><td>null</td><td>881673.0</td></tr><tr><td>yamaha</td><td>electric</td><td>pacifica</td><td>null</td><td>798048.0</td></tr><tr><td>yamaha</td><td>acustic</td><td>f</td><td>f310</td><td>447514.0</td></tr><tr><td>yamaha</td><td>electric</td><td>pacifica</td><td>null</td><td>1362990.0</td></tr><tr><td>yamaha</td><td>acustic</td><td>fg</td><td>fsx800c</td><td>1207352.0</td></tr><tr><td>yamaha</td><td>acustic</td><td>fg</td><td>null</td><td>1769815.0</td></tr><tr><td>yamaha</td><td>electric</td><td>pacifica</td><td>012</td><td>611199.0</td></tr><tr><td>yamaha</td><td>acustic</td><td>f</td><td>f310</td><td>671272.0</td></tr><tr><td>yamaha</td><td>acustic</td><td>fx</td><td>fx370</td><td>918831.0</td></tr><tr><td>yamaha</td><td>electric</td><td>revstar</td><td>null</td><td>2934981.0</td></tr><tr><td>yamaha</td><td>acustic</td><td>apx</td><td>apx600</td><td>1052204.0</td></tr><tr><td>yamaha</td><td>electric</td><td>pacifica</td><td>112v</td><td>991664.0</td></tr><tr><td>yamaha</td><td>electric</td><td>pacifica</td><td>null</td><td>964342.0</td></tr><tr><td>yamaha</td><td>electric</td><td>revstar</td><td>null</td><td>2316481.0</td></tr><tr><td>yamaha</td><td>acustic</td><td>apx</td><td>apx700ii</td><td>1904603.0</td></tr><tr><td>yamaha</td><td>electric</td><td>pacifica</td><td>012</td><td>547407.0</td></tr><tr><td>yamaha</td><td>acustic</td><td>apx</td><td>null</td><td>946720.0</td></tr><tr><td>yamaha</td><td>acustic</td><td>fs</td><td>null</td><td>713602.0</td></tr><tr><td>yamaha</td><td>electric</td><td>revstar</td><td>null</td><td>2443887.0</td></tr><tr><td>yamaha</td><td>acustic</td><td>f</td><td>f310</td><td>636654.0</td></tr><tr><td>yamaha</td><td>acustic</td><td>fg</td><td>null</td><td>2125455.0</td></tr><tr><td>yamaha</td><td>electric</td><td>pacifica</td><td>112v</td><td>818588.0</td></tr><tr><td>yamaha</td><td>acustic</td><td>f</td><td>f370</td><td>577862.0</td></tr><tr><td>yamaha</td><td>acustic</td><td>f</td><td>f310</td><td>511236.0</td></tr><tr><td>yamaha</td><td>acustic</td><td>f</td><td>f370</td><td>502489.0</td></tr><tr><td>yamaha</td><td>acustic</td><td>f</td><td>f370</td><td>628111.0</td></tr><tr><td>yamaha</td><td>acustic</td><td>f</td><td>f370</td><td>703485.0</td></tr><tr><td>yamaha</td><td>electric</td><td>pacifica</td><td>012</td><td>1132600.0</td></tr><tr><td>yamaha</td><td>acustic</td><td>f</td><td>f370</td><td>753734.0</td></tr><tr><td>yamaha</td><td>electric</td><td>pacifica</td><td>null</td><td>849652.0</td></tr><tr><td>yamaha</td><td>acustic</td><td>cpx</td><td>null</td><td>1124069.0</td></tr><tr><td>yamaha</td><td>acustic</td><td>f</td><td>f310</td><td>559393.0</td></tr><tr><td>yamaha</td><td>electric</td><td>revstar</td><td>professional</td><td>7335457.0</td></tr><tr><td>yamaha</td><td>acustic</td><td>f</td><td>f310</td><td>500372.0</td></tr><tr><td>yamaha</td><td>electric</td><td>pacifica</td><td>null</td><td>1264018.0</td></tr><tr><td>yamaha</td><td>electric</td><td>revstar</td><td>element</td><td>1835488.0</td></tr><tr><td>yamaha</td><td>acustic</td><td>apx</td><td>apx600</td><td>902498.0</td></tr><tr><td>yamaha</td><td>electric</td><td>revstar</td><td>null</td><td>3243073.0</td></tr><tr><td>yamaha</td><td>electric</td><td>revstar</td><td>professional</td><td>6802811.0</td></tr><tr><td>yamaha</td><td>acustic</td><td>fs</td><td>null</td><td>750919.0</td></tr><tr><td>yamaha</td><td>acustic</td><td>apx</td><td>apx700ii</td><td>1511552.0</td></tr><tr><td>yamaha</td><td>electric</td><td>revstar</td><td>null</td><td>2663953.0</td></tr><tr><td>yamaha</td><td>acustic</td><td>cpx</td><td>null</td><td>1124060.0</td></tr><tr><td>yamaha</td><td>acustic</td><td>fs</td><td>null</td><td>640723.0</td></tr><tr><td>yamaha</td><td>acustic</td><td>f</td><td>f310</td><td>590425.0</td></tr><tr><td>yamaha</td><td>electric</td><td>pacifica</td><td>012</td><td>662007.0</td></tr><tr><td>yamaha</td><td>acustic</td><td>fg</td><td>null</td><td>1971121.0</td></tr><tr><td>yamaha</td><td>electric</td><td>revstar</td><td>null</td><td>2721865.0</td></tr><tr><td>yamaha</td><td>electric</td><td>revstar</td><td>null</td><td>2895601.0</td></tr><tr><td>yamaha</td><td>acustic</td><td>apx</td><td>apx700ii</td><td>1558142.0</td></tr><tr><td>yamaha</td><td>electric</td><td>pacifica</td><td>null</td><td>1264020.0</td></tr><tr><td>yamaha</td><td>electric</td><td>revstar</td><td>element</td><td>1528366.0</td></tr><tr><td>yamaha</td><td>acustic</td><td>f</td><td>f310</td><td>621714.0</td></tr><tr><td>yamaha</td><td>acustic</td><td>fs</td><td>null</td><td>625859.0</td></tr><tr><td>yamaha</td><td>acustic</td><td>f</td><td>f370</td><td>502489.0</td></tr><tr><td>yamaha</td><td>acustic</td><td>fs</td><td>null</td><td>2125455.0</td></tr><tr><td>yamaha</td><td>electric</td><td>revstar</td><td>element</td><td>1835488.0</td></tr><tr><td>yamaha</td><td>acustic</td><td>f</td><td>f370</td><td>590425.0</td></tr><tr><td>yamaha</td><td>electric</td><td>pacifica</td><td>null</td><td>1371589.0</td></tr><tr><td>yamaha</td><td>acustic</td><td>f</td><td>f370</td><td>628111.0</td></tr><tr><td>yamaha</td><td>electric</td><td>pacifica</td><td>null</td><td>1047589.0</td></tr><tr><td>yamaha</td><td>acustic</td><td>fs</td><td>fsx800c</td><td>1320760.0</td></tr><tr><td>yamaha</td><td>electric</td><td>pacifica</td><td>null</td><td>1371589.0</td></tr><tr><td>yamaha</td><td>acustic</td><td>f</td><td>f310</td><td>525830.0</td></tr><tr><td>yamaha</td><td>acustic</td><td>fx</td><td>fx370</td><td>824993.0</td></tr><tr><td>yamaha</td><td>electric</td><td>revstar</td><td>element</td><td>1702209.0</td></tr><tr><td>yamaha</td><td>acustic</td><td>apx</td><td>null</td><td>1904603.0</td></tr><tr><td>yamaha</td><td>acustic</td><td>f</td><td>f370</td><td>590425.0</td></tr><tr><td>yamaha</td><td>electric</td><td>revstar</td><td>null</td><td>2316481.0</td></tr><tr><td>yamaha</td><td>acustic</td><td>apx</td><td>apx600</td><td>868967.0</td></tr><tr><td>yamaha</td><td>acustic</td><td>apx</td><td>apx600</td><td>863151.0</td></tr><tr><td>yamaha</td><td>electric</td><td>revstar</td><td>element</td><td>1702209.0</td></tr><tr><td>yamaha</td><td>acustic</td><td>fs</td><td>null</td><td>750919.0</td></tr><tr><td>yamaha</td><td>acustic</td><td>f</td><td>f310</td><td>447514.0</td></tr><tr><td>yamaha</td><td>electric</td><td>pacifica</td><td>012</td><td>535013.0</td></tr><tr><td>yamaha</td><td>acustic</td><td>fx</td><td>fx310</td><td>768795.0</td></tr><tr><td>yamaha</td><td>acustic</td><td>f</td><td>f370</td><td>590425.0</td></tr><tr><td>yamaha</td><td>acustic</td><td>apx</td><td>null</td><td>1200016.0</td></tr><tr><td>yamaha</td><td>acustic</td><td>f</td><td>f370</td><td>530126.0</td></tr><tr><td>yamaha</td><td>acustic</td><td>fs</td><td>null</td><td>640723.0</td></tr><tr><td>yamaha</td><td>acustic</td><td>f</td><td>f310</td><td>626520.0</td></tr><tr><td>yamaha</td><td>electric</td><td>pacifica</td><td>null</td><td>701119.0</td></tr><tr><td>yamaha</td><td>acustic</td><td>f</td><td>f310</td><td>746057.0</td></tr><tr><td>yamaha</td><td>acustic</td><td>apx</td><td>apx600</td><td>1144193.0</td></tr><tr><td>yamaha</td><td>acustic</td><td>apx</td><td>null</td><td>1511590.0</td></tr><tr><td>yamaha</td><td>acustic</td><td>fs</td><td>null</td><td>713602.0</td></tr><tr><td>yamaha</td><td>electric</td><td>pacifica</td><td>null</td><td>1030768.0</td></tr><tr><td>yamaha</td><td>acustic</td><td>f</td><td>f370</td><td>502489.0</td></tr><tr><td>yamaha</td><td>acustic</td><td>fx</td><td>fx370</td><td>824993.0</td></tr><tr><td>yamaha</td><td>acustic</td><td>fx</td><td>fx370</td><td>990774.0</td></tr><tr><td>yamaha</td><td>acustic</td><td>fg</td><td>fg800</td><td>799165.0</td></tr><tr><td>yamaha</td><td>acustic</td><td>apx</td><td>apx600</td><td>1052204.0</td></tr><tr><td>yamaha</td><td>acustic</td><td>apx</td><td>apx600</td><td>1128589.0</td></tr><tr><td>yamaha</td><td>acustic</td><td>apx</td><td>apx600</td><td>1248590.0</td></tr><tr><td>yamaha</td><td>acustic</td><td>fx</td><td>fx310</td><td>606784.0</td></tr><tr><td>yamaha</td><td>acustic</td><td>fx</td><td>fx370</td><td>781984.0</td></tr><tr><td>yamaha</td><td>acustic</td><td>apx</td><td>apx700ii</td><td>2445109.0</td></tr><tr><td>yamaha</td><td>acustic</td><td>apx</td><td>apx600</td><td>1128589.0</td></tr><tr><td>yamaha</td><td>acustic</td><td>apx</td><td>apx600</td><td>1128589.0</td></tr><tr><td>yamaha</td><td>acustic</td><td>apx</td><td>apx600</td><td>855449.0</td></tr><tr><td>yamaha</td><td>acustic</td><td>f</td><td>f310</td><td>497371.0</td></tr><tr><td>yamaha</td><td>acustic</td><td>f</td><td>f310</td><td>447514.0</td></tr><tr><td>yamaha</td><td>acustic</td><td>apx</td><td>apx600</td><td>1128589.0</td></tr><tr><td>yamaha</td><td>acustic</td><td>apx</td><td>apx600</td><td>1128589.0</td></tr><tr><td>yamaha</td><td>acustic</td><td>f</td><td>f310</td><td>595990.0</td></tr><tr><td>yamaha</td><td>acustic</td><td>cpx</td><td>null</td><td>1432476.0</td></tr><tr><td>yamaha</td><td>acustic</td><td>apx</td><td>apx600</td><td>1128589.0</td></tr><tr><td>yamaha</td><td>acustic</td><td>f</td><td>f310</td><td>664189.0</td></tr><tr><td>yamaha</td><td>acustic</td><td>apx</td><td>apx600</td><td>1248590.0</td></tr><tr><td>yamaha</td><td>acustic</td><td>apx</td><td>apx700</td><td>1878752.0</td></tr><tr><td>yamaha</td><td>acustic</td><td>cpx</td><td>null</td><td>1779829.0</td></tr><tr><td>yamaha</td><td>acustic</td><td>fx</td><td>fx370</td><td>789984.0</td></tr><tr><td>yamaha</td><td>acustic</td><td>fs</td><td>null</td><td>607321.0</td></tr><tr><td>yamaha</td><td>acustic</td><td>fx</td><td>fx370</td><td>1117789.0</td></tr><tr><td>yamaha</td><td>acustic</td><td>fs</td><td>null</td><td>640723.0</td></tr><tr><td>yamaha</td><td>electric</td><td>pacifica</td><td>null</td><td>991664.0</td></tr><tr><td>yamaha</td><td>classic</td><td>c</td><td>c40</td><td>325000.0</td></tr><tr><td>yamaha</td><td>acustic</td><td>f</td><td>f370</td><td>502489.0</td></tr><tr><td>yamaha</td><td>acustic</td><td>f</td><td>f310</td><td>447514.0</td></tr><tr><td>yamaha</td><td>acustic</td><td>fx</td><td>fx370</td><td>781983.0</td></tr><tr><td>yamaha</td><td>acustic</td><td>f</td><td>f310</td><td>502839.0</td></tr><tr><td>yamaha</td><td>acustic</td><td>apx</td><td>apx600</td><td>1005152.0</td></tr><tr><td>yamaha</td><td>acustic</td><td>fx</td><td>null</td><td>781984.0</td></tr><tr><td>yamaha</td><td>acustic</td><td>f</td><td>f310</td><td>455802.0</td></tr><tr><td>yamaha</td><td>acustic</td><td>f</td><td>f310</td><td>447514.0</td></tr><tr><td>yamaha</td><td>acustic</td><td>fs</td><td>null</td><td>1737776.0</td></tr><tr><td>yamaha</td><td>electric</td><td>pacifica</td><td>null</td><td>1120720.0</td></tr><tr><td>yamaha</td><td>acustic</td><td>apx</td><td>apx700ii</td><td>1738285.0</td></tr><tr><td>yamaha</td><td>acustic</td><td>f</td><td>f310</td><td>447514.0</td></tr><tr><td>yamaha</td><td>acustic</td><td>fg</td><td>null</td><td>1372789.0</td></tr><tr><td>yamaha</td><td>acustic</td><td>fx</td><td>null</td><td>1056740.0</td></tr><tr><td>yamaha</td><td>acustic</td><td>fg</td><td>null</td><td>1372789.0</td></tr><tr><td>yamaha</td><td>acustic</td><td>fg</td><td>null</td><td>2594990.0</td></tr><tr><td>yamaha</td><td>electric</td><td>pacifica</td><td>null</td><td>656806.0</td></tr><tr><td>yamaha</td><td>acustic</td><td>fs</td><td>null</td><td>2227166.0</td></tr><tr><td>yamaha</td><td>acustic</td><td>cpx</td><td>null</td><td>1485420.0</td></tr><tr><td>yamaha</td><td>acustic</td><td>apx</td><td>apx600</td><td>1144193.0</td></tr><tr><td>yamaha</td><td>acustic</td><td>c</td><td>c80</td><td>1207352.0</td></tr><tr><td>yamaha</td><td>electric</td><td>pacifica</td><td>012</td><td>1796446.0</td></tr><tr><td>yamaha</td><td>electric</td><td>pacifica</td><td>null</td><td>2993000.0</td></tr><tr><td>yamaha</td><td>electric</td><td>pacifica</td><td>null</td><td>1032475.0</td></tr><tr><td>yamaha</td><td>acustic</td><td>apx</td><td>null</td><td>711488.0</td></tr><tr><td>yamaha</td><td>electric</td><td>revstar</td><td>null</td><td>3397304.0</td></tr><tr><td>yamaha</td><td>acustic</td><td>fg</td><td>fg800</td><td>868718.0</td></tr><tr><td>yamaha</td><td>acustic</td><td>f</td><td>f370</td><td>506524.0</td></tr><tr><td>yamaha</td><td>acustic</td><td>apx</td><td>apx700</td><td>2016116.0</td></tr><tr><td>yamaha</td><td>electric</td><td>pacifica</td><td>null</td><td>775200.0</td></tr><tr><td>yamaha</td><td>acustic</td><td>apx</td><td>apx600</td><td>1153220.0</td></tr><tr><td>yamaha</td><td>acustic</td><td>fg</td><td>null</td><td>1677549.0</td></tr><tr><td>yamaha</td><td>acustic</td><td>fs</td><td>null</td><td>1188920.0</td></tr><tr><td>yamaha</td><td>electric</td><td>revstar</td><td>null</td><td>2320600.0</td></tr><tr><td>yamaha</td><td>acustic</td><td>apx</td><td>apx600</td><td>855449.0</td></tr><tr><td>yamaha</td><td>electric</td><td>pacifica</td><td>012</td><td>538012.0</td></tr><tr><td>yamaha</td><td>acustic</td><td>fx</td><td>null</td><td>816200.0</td></tr><tr><td>yamaha</td><td>classic</td><td>c</td><td>c70</td><td>449676.0</td></tr><tr><td>yamaha</td><td>acustic</td><td>fx</td><td>null</td><td>1414219.0</td></tr><tr><td>yamaha</td><td>acustic</td><td>f</td><td>f370</td><td>789699.0</td></tr><tr><td>yamaha</td><td>electric</td><td>pacifica</td><td>012</td><td>726873.0</td></tr><tr><td>yamaha</td><td>acustic</td><td>fx</td><td>null</td><td>785984.0</td></tr><tr><td>yamaha</td><td>acustic</td><td>cpx</td><td>null</td><td>1436479.0</td></tr><tr><td>yamaha</td><td>acustic</td><td>fs</td><td>null</td><td>819668.0</td></tr><tr><td>yamaha</td><td>acustic</td><td>fg</td><td>null</td><td>1195601.0</td></tr><tr><td>yamaha</td><td>acustic</td><td>apx</td><td>apx600</td><td>855449.0</td></tr><tr><td>yamaha</td><td>electric</td><td>pacifica</td><td>null</td><td>1036861.0</td></tr><tr><td>yamaha</td><td>electric</td><td>revstar</td><td>null</td><td>2320600.0</td></tr><tr><td>yamaha</td><td>electric</td><td>revstar</td><td>null</td><td>3578090.0</td></tr><tr><td>yamaha</td><td>acustic</td><td>f</td><td>f310</td><td>819963.0</td></tr><tr><td>yamaha</td><td>acustic</td><td>fg</td><td>null</td><td>896060.0</td></tr><tr><td>yamaha</td><td>acustic</td><td>fg</td><td>fg830</td><td>1383911.0</td></tr><tr><td>yamaha</td><td>acustic</td><td>fg</td><td>null</td><td>931180.0</td></tr><tr><td>yamaha</td><td>acustic</td><td>cpx</td><td>null</td><td>958131.0</td></tr><tr><td>yamaha</td><td>acustic</td><td>apx</td><td>apx700ii</td><td>1879422.0</td></tr><tr><td>yamaha</td><td>acustic</td><td>fs</td><td>null</td><td>1306800.0</td></tr><tr><td>yamaha</td><td>electric</td><td>revstar</td><td>null</td><td>2240934.0</td></tr><tr><td>yamaha</td><td>acustic</td><td>apx</td><td>apx700</td><td>1511552.0</td></tr><tr><td>yamaha</td><td>acustic</td><td>fg</td><td>null</td><td>1245137.0</td></tr><tr><td>yamaha</td><td>electric</td><td>pacifica</td><td>null</td><td>901994.0</td></tr><tr><td>yamaha</td><td>electric</td><td>revstar</td><td>null</td><td>1340900.0</td></tr><tr><td>yamaha</td><td>electric</td><td>pacifica</td><td>112v</td><td>1304705.0</td></tr><tr><td>yamaha</td><td>electric</td><td>pacifica</td><td>null</td><td>774776.0</td></tr><tr><td>yamaha</td><td>acustic</td><td>fs</td><td>fs800</td><td>795776.0</td></tr><tr><td>yamaha</td><td>electric</td><td>revstar</td><td>element</td><td>2240934.0</td></tr><tr><td>yamaha</td><td>electric</td><td>pacifica</td><td>112v</td><td>1171459.0</td></tr><tr><td>yamaha</td><td>electric</td><td>revstar</td><td>null</td><td>1448690.0</td></tr><tr><td>yamaha</td><td>classic</td><td>c</td><td>c80</td><td>465509.0</td></tr><tr><td>yamaha</td><td>electric</td><td>pacifica</td><td>null</td><td>1259324.0</td></tr><tr><td>yamaha</td><td>acustic</td><td>apx</td><td>apx700ii</td><td>2245336.0</td></tr><tr><td>yamaha</td><td>electric</td><td>pacifica</td><td>null</td><td>1134927.0</td></tr><tr><td>yamaha</td><td>electric</td><td>pacifica</td><td>null</td><td>4057900.0</td></tr><tr><td>yamaha</td><td>electric</td><td>pacifica</td><td>null</td><td>688673.0</td></tr><tr><td>yamaha</td><td>acustic</td><td>fs</td><td>null</td><td>1677549.0</td></tr><tr><td>yamaha</td><td>electric</td><td>revstar</td><td>null</td><td>2721865.0</td></tr><tr><td>yamaha</td><td>acustic</td><td>f</td><td>f370</td><td>789699.0</td></tr><tr><td>yamaha</td><td>acustic</td><td>apx</td><td>apx700</td><td>1419475.0</td></tr><tr><td>yamaha</td><td>acustic</td><td>cpx</td><td>null</td><td>2220135.0</td></tr><tr><td>yamaha</td><td>acustic</td><td>fg</td><td>null</td><td>2227166.0</td></tr><tr><td>yamaha</td><td>acustic</td><td>apx</td><td>apx700ii</td><td>1879422.0</td></tr><tr><td>yamaha</td><td>acustic</td><td>fs</td><td>null</td><td>894000.0</td></tr><tr><td>yamaha</td><td>acustic</td><td>f</td><td>f310</td><td>610195.0</td></tr><tr><td>yamaha</td><td>acustic</td><td>apx</td><td>apx700ii</td><td>1415471.0</td></tr><tr><td>yamaha</td><td>classic</td><td>c</td><td>c80</td><td>465509.0</td></tr><tr><td>yamaha</td><td>classic</td><td>c</td><td>c70</td><td>329352.0</td></tr><tr><td>yamaha</td><td>acustic</td><td>fs</td><td>null</td><td>607321.0</td></tr><tr><td>yamaha</td><td>electric</td><td>revstar</td><td>null</td><td>2242309.0</td></tr><tr><td>yamaha</td><td>electric</td><td>revstar</td><td>null</td><td>3578090.0</td></tr><tr><td>yamaha</td><td>acustic</td><td>fg</td><td>null</td><td>1677549.0</td></tr><tr><td>yamaha</td><td>acustic</td><td>fx</td><td>null</td><td>606784.0</td></tr><tr><td>yamaha</td><td>electric</td><td>pacifica</td><td>012</td><td>625965.0</td></tr><tr><td>yamaha</td><td>acustic</td><td>f</td><td>f310</td><td>450515.0</td></tr><tr><td>yamaha</td><td>classic</td><td>c</td><td>c40</td><td>432700.0</td></tr><tr><td>yamaha</td><td>classic</td><td>c</td><td>c80</td><td>627260.0</td></tr><tr><td>yamaha</td><td>classic</td><td>c</td><td>c40</td><td>348824.0</td></tr><tr><td>yamaha</td><td>electric</td><td>pacifica</td><td>112v</td><td>1304705.0</td></tr><tr><td>yamaha</td><td>electric</td><td>pacifica</td><td>null</td><td>832704.0</td></tr><tr><td>epiphone</td><td>electric</td><td>special</td><td>les paul</td><td>93116.0</td></tr><tr><td>epiphone</td><td>electric</td><td>special</td><td>les paul</td><td>122590.0</td></tr><tr><td>epiphone</td><td>electric</td><td>modern</td><td>sg</td><td>141967.0</td></tr><tr><td>epiphone</td><td>electric</td><td>modern</td><td>sg</td><td>143202.0</td></tr><tr><td>epiphone</td><td>electric</td><td>modern</td><td>sg</td><td>143202.0</td></tr><tr><td>epiphone</td><td>electric</td><td>modern</td><td>sg</td><td>143202.0</td></tr><tr><td>epiphone</td><td>electric</td><td>special</td><td>sg</td><td>149374.0</td></tr><tr><td>epiphone</td><td>electric</td><td>modern</td><td>les paul</td><td>154395.0</td></tr><tr><td>epiphone</td><td>electric</td><td>modern</td><td>les paul</td><td>165423.0</td></tr><tr><td>epiphone</td><td>electric</td><td>modern</td><td>les paul</td><td>165423.0</td></tr><tr><td>epiphone</td><td>electric</td><td>standard</td><td>sg</td><td>165423.0</td></tr><tr><td>epiphone</td><td>electric</td><td>custom</td><td>null</td><td>196684.0</td></tr><tr><td>epiphone</td><td>electric</td><td>standard</td><td>les paul</td><td>214803.0</td></tr><tr><td>epiphone</td><td>electric</td><td>standard</td><td>les paul</td><td>214803.0</td></tr><tr><td>epiphone</td><td>electric</td><td>modern</td><td>sg</td><td>242726.0</td></tr><tr><td>epiphone</td><td>electric</td><td>modern</td><td>sg</td><td>244398.0</td></tr><tr><td>epiphone</td><td>electric</td><td>modern</td><td>les paul</td><td>253649.0</td></tr><tr><td>epiphone</td><td>electric</td><td>studio</td><td>les paul</td><td>254932.0</td></tr><tr><td>epiphone</td><td>electric</td><td>standard</td><td>sg</td><td>282322.0</td></tr><tr><td>epiphone</td><td>electric</td><td>modern</td><td>les paul</td><td>329365.0</td></tr><tr><td>epiphone</td><td>electric</td><td>melody maker</td><td>les paul</td><td>375288.0</td></tr><tr><td>epiphone</td><td>electric</td><td>melody maker</td><td>les paul</td><td>375288.0</td></tr><tr><td>epiphone</td><td>electric</td><td>melody maker</td><td>les paul</td><td>375288.0</td></tr><tr><td>epiphone</td><td>electric</td><td>melody maker</td><td>les paul</td><td>375288.0</td></tr><tr><td>epiphone</td><td>electric</td><td>melody maker</td><td>les paul</td><td>416598.0</td></tr><tr><td>epiphone</td><td>electric</td><td>melody maker</td><td>les paul</td><td>431582.0</td></tr><tr><td>epiphone</td><td>electric</td><td>melody maker</td><td>les paul</td><td>431582.0</td></tr><tr><td>epiphone</td><td>electric</td><td>special</td><td>les paul</td><td>474048.0</td></tr><tr><td>epiphone</td><td>electric</td><td>special</td><td>les paul</td><td>474048.0</td></tr><tr><td>epiphone</td><td>electric</td><td>special</td><td>les paul</td><td>474048.0</td></tr><tr><td>epiphone</td><td>electric</td><td>special</td><td>les paul</td><td>474048.0</td></tr><tr><td>epiphone</td><td>electric</td><td>melody maker</td><td>les paul</td><td>480368.0</td></tr><tr><td>epiphone</td><td>electric</td><td>melody maker</td><td>null</td><td>491586.0</td></tr><tr><td>epiphone</td><td>electric</td><td>special</td><td>les paul</td><td>524839.0</td></tr><tr><td>epiphone</td><td>electric</td><td>special</td><td>les paul</td><td>526229.0</td></tr><tr><td>epiphone</td><td>electric</td><td>standard</td><td>les paul</td><td>543576.0</td></tr><tr><td>epiphone</td><td>electric</td><td>special</td><td>les paul</td><td>545156.0</td></tr><tr><td>epiphone</td><td>electric</td><td>special</td><td>les paul</td><td>545156.0</td></tr><tr><td>epiphone</td><td>electric</td><td>special</td><td>les paul</td><td>545156.0</td></tr><tr><td>epiphone</td><td>electric</td><td>special</td><td>null</td><td>557007.0</td></tr><tr><td>epiphone</td><td>electric</td><td>special</td><td>les paul</td><td>606781.0</td></tr><tr><td>epiphone</td><td>electric</td><td>special</td><td>les paul</td><td>606781.0</td></tr><tr><td>epiphone</td><td>electric</td><td>special</td><td>les paul</td><td>606782.0</td></tr><tr><td>epiphone</td><td>electric</td><td>studio</td><td>les paul</td><td>632065.0</td></tr><tr><td>epiphone</td><td>electric</td><td>studio</td><td>les paul</td><td>632065.0</td></tr><tr><td>epiphone</td><td>electric</td><td>studio</td><td>les paul</td><td>632065.0</td></tr><tr><td>epiphone</td><td>electric</td><td>studio</td><td>les paul</td><td>632065.0</td></tr><tr><td>epiphone</td><td>electric</td><td>studio</td><td>les paul</td><td>632065.0</td></tr><tr><td>epiphone</td><td>electric</td><td>studio</td><td>les paul</td><td>632065.0</td></tr><tr><td>epiphone</td><td>electric</td><td>studio</td><td>les paul</td><td>632065.0</td></tr><tr><td>epiphone</td><td>electric</td><td>studio</td><td>les paul</td><td>632065.0</td></tr><tr><td>epiphone</td><td>electric</td><td>melody maker</td><td>les paul</td><td>637990.0</td></tr><tr><td>epiphone</td><td>electric</td><td>special</td><td>les paul</td><td>663668.0</td></tr><tr><td>epiphone</td><td>electric</td><td>special</td><td>les paul</td><td>663668.0</td></tr><tr><td>epiphone</td><td>electric</td><td>studio</td><td>les paul</td><td>666828.0</td></tr><tr><td>epiphone</td><td>electric</td><td>special</td><td>null</td><td>671569.0</td></tr><tr><td>epiphone</td><td>electric</td><td>special</td><td>null</td><td>671570.0</td></tr><tr><td>epiphone</td><td>electric</td><td>special</td><td>null</td><td>708505.0</td></tr><tr><td>epiphone</td><td>electric</td><td>special</td><td>les paul</td><td>711073.0</td></tr><tr><td>epiphone</td><td>electric</td><td>special</td><td>les paul</td><td>711073.0</td></tr><tr><td>epiphone</td><td>electric</td><td>special</td><td>les paul</td><td>722359.0</td></tr><tr><td>epiphone</td><td>electric</td><td>studio</td><td>les paul</td><td>726875.0</td></tr><tr><td>epiphone</td><td>electric</td><td>studio</td><td>les paul</td><td>742676.0</td></tr><tr><td>epiphone</td><td>electric</td><td>studio</td><td>les paul</td><td>742676.0</td></tr><tr><td>epiphone</td><td>electric</td><td>studio</td><td>les paul</td><td>742676.0</td></tr><tr><td>epiphone</td><td>electric</td><td>special</td><td>les paul</td><td>744934.0</td></tr><tr><td>epiphone</td><td>electric</td><td>special</td><td>les paul</td><td>744934.0</td></tr><tr><td>epiphone</td><td>electric</td><td>special</td><td>null</td><td>772305.0</td></tr><tr><td>epiphone</td><td>electric</td><td>special</td><td>null</td><td>789094.0</td></tr><tr><td>epiphone</td><td>electric</td><td>special</td><td>les paul</td><td>790085.0</td></tr><tr><td>epiphone</td><td>electric</td><td>studio</td><td>les paul</td><td>808043.0</td></tr><tr><td>epiphone</td><td>electric</td><td>studio</td><td>les paul</td><td>808043.0</td></tr><tr><td>epiphone</td><td>electric</td><td>studio</td><td>les paul</td><td>809043.0</td></tr><tr><td>epiphone</td><td>electric</td><td>special</td><td>les paul</td><td>830713.0</td></tr><tr><td>epiphone</td><td>electric</td><td>studio</td><td>les paul</td><td>839990.0</td></tr><tr><td>epiphone</td><td>electric</td><td>special</td><td>les paul</td><td>856675.0</td></tr><tr><td>epiphone</td><td>electric</td><td>special</td><td>les paul</td><td>856675.0</td></tr><tr><td>epiphone</td><td>electric</td><td>special</td><td>null</td><td>859608.0</td></tr><tr><td>epiphone</td><td>electric</td><td>special</td><td>les paul</td><td>902949.0</td></tr><tr><td>epiphone</td><td>electric</td><td>special</td><td>les paul</td><td>908598.0</td></tr><tr><td>epiphone</td><td>electric</td><td>special</td><td>les paul</td><td>931168.0</td></tr><tr><td>epiphone</td><td>electric</td><td>special</td><td>les paul</td><td>931168.0</td></tr><tr><td>epiphone</td><td>electric</td><td>special</td><td>les paul</td><td>987606.0</td></tr><tr><td>epiphone</td><td>electric</td><td>special</td><td>les paul</td><td>1042908.0</td></tr><tr><td>epiphone</td><td>electric</td><td>special</td><td>les paul</td><td>1042908.0</td></tr><tr><td>epiphone</td><td>electric</td><td>special</td><td>les paul</td><td>1055903.0</td></tr><tr><td>epiphone</td><td>electric</td><td>special</td><td>les paul</td><td>1106119.0</td></tr><tr><td>epiphone</td><td>electric</td><td>special</td><td>les paul</td><td>1117402.0</td></tr><tr><td>epiphone</td><td>electric</td><td>modern</td><td>les paul</td><td>1119990.0</td></tr><tr><td>epiphone</td><td>electric</td><td>modern</td><td>sg</td><td>1145618.0</td></tr><tr><td>epiphone</td><td>electric</td><td>modern</td><td>sg</td><td>1145618.0</td></tr><tr><td>epiphone</td><td>electric</td><td>modern</td><td>sg</td><td>1145618.0</td></tr><tr><td>epiphone</td><td>electric</td><td>modern</td><td>sg</td><td>1145618.0</td></tr><tr><td>epiphone</td><td>electric</td><td>special</td><td>les paul</td><td>1185128.0</td></tr><tr><td>epiphone</td><td>electric</td><td>studio</td><td>les paul</td><td>1194998.0</td></tr><tr><td>epiphone</td><td>electric</td><td>studio</td><td>les paul</td><td>1194998.0</td></tr><tr><td>epiphone</td><td>electric</td><td>studio</td><td>les paul</td><td>1194998.0</td></tr><tr><td>epiphone</td><td>electric</td><td>studio</td><td>les paul</td><td>1194998.0</td></tr><tr><td>epiphone</td><td>electric</td><td>special</td><td>sg</td><td>1194998.0</td></tr><tr><td>epiphone</td><td>electric</td><td>special</td><td>sg</td><td>1194998.0</td></tr><tr><td>epiphone</td><td>electric</td><td>special</td><td>sg</td><td>1194998.0</td></tr><tr><td>epiphone</td><td>electric</td><td>special</td><td>sg</td><td>1194998.0</td></tr><tr><td>epiphone</td><td>electric</td><td>special</td><td>sg</td><td>1194998.0</td></tr><tr><td>epiphone</td><td>electric</td><td>special</td><td>les paul</td><td>1276172.0</td></tr><tr><td>epiphone</td><td>electric</td><td>modern</td><td>sg</td><td>1317461.0</td></tr><tr><td>epiphone</td><td>electric</td><td>modern</td><td>les paul</td><td>1323386.0</td></tr><tr><td>epiphone</td><td>electric</td><td>modern</td><td>les paul</td><td>1323386.0</td></tr><tr><td>epiphone</td><td>electric</td><td>modern</td><td>les paul</td><td>1323386.0</td></tr><tr><td>epiphone</td><td>electric</td><td>modern</td><td>les paul</td><td>1323386.0</td></tr><tr><td>epiphone</td><td>electric</td><td>modern</td><td>les paul</td><td>1323386.0</td></tr><tr><td>epiphone</td><td>electric</td><td>modern</td><td>les paul</td><td>1323386.0</td></tr><tr><td>epiphone</td><td>electric</td><td>modern</td><td>les paul</td><td>1323386.0</td></tr><tr><td>epiphone</td><td>electric</td><td>standard</td><td>sg</td><td>1323386.0</td></tr><tr><td>epiphone</td><td>electric</td><td>standard</td><td>sg</td><td>1323386.0</td></tr><tr><td>epiphone</td><td>electric</td><td>standard</td><td>sg</td><td>1325386.0</td></tr><tr><td>epiphone</td><td>electric</td><td>studio</td><td>les paul</td><td>1326534.0</td></tr><tr><td>epiphone</td><td>electric</td><td>studio</td><td>les paul</td><td>1326534.0</td></tr><tr><td>epiphone</td><td>electric</td><td>studio</td><td>les paul</td><td>1326534.0</td></tr><tr><td>epiphone</td><td>electric</td><td>studio</td><td>les paul</td><td>1374248.0</td></tr><tr><td>epiphone</td><td>electric</td><td>studio</td><td>les paul</td><td>1374248.0</td></tr><tr><td>epiphone</td><td>electric</td><td>special</td><td>sg</td><td>1374248.0</td></tr><tr><td>epiphone</td><td>electric</td><td>special</td><td>sg</td><td>1374248.0</td></tr><tr><td>epiphone</td><td>electric</td><td>special</td><td>les paul</td><td>1389990.0</td></tr><tr><td>epiphone</td><td>electric</td><td>special</td><td>les paul</td><td>1389990.0</td></tr><tr><td>epiphone</td><td>electric</td><td>modern</td><td>sg</td><td>1466391.0</td></tr><tr><td>epiphone</td><td>electric</td><td>studio</td><td>les paul</td><td>1510259.0</td></tr><tr><td>epiphone</td><td>electric</td><td>special</td><td>sg</td><td>1519132.0</td></tr><tr><td>epiphone</td><td>electric</td><td>standard</td><td>sg</td><td>1521894.0</td></tr><tr><td>epiphone</td><td>electric</td><td>standard</td><td>sg</td><td>1521894.0</td></tr><tr><td>epiphone</td><td>electric</td><td>special</td><td>les paul</td><td>1528597.0</td></tr><tr><td>epiphone</td><td>electric</td><td>special</td><td>les paul</td><td>1528597.0</td></tr><tr><td>epiphone</td><td>electric</td><td>studio</td><td>les paul</td><td>1529597.0</td></tr><tr><td>epiphone</td><td>electric</td><td>studio</td><td>les paul</td><td>1529597.0</td></tr><tr><td>epiphone</td><td>electric</td><td>special</td><td>sg</td><td>1529597.0</td></tr><tr><td>epiphone</td><td>electric</td><td>studio</td><td>les paul</td><td>1529597.0</td></tr><tr><td>epiphone</td><td>electric</td><td>custom</td><td>null</td><td>1590039.0</td></tr><tr><td>epiphone</td><td>electric</td><td>custom</td><td>null</td><td>1590039.0</td></tr><tr><td>epiphone</td><td>electric</td><td>custom</td><td>null</td><td>1590039.0</td></tr><tr><td>epiphone</td><td>electric</td><td>studio</td><td>les paul</td><td>1672997.0</td></tr><tr><td>epiphone</td><td>electric</td><td>studio</td><td>les paul</td><td>1672997.0</td></tr><tr><td>epiphone</td><td>electric</td><td>special</td><td>sg</td><td>1672997.0</td></tr><tr><td>epiphone</td><td>electric</td><td>custom</td><td>sg</td><td>1678923.0</td></tr><tr><td>epiphone</td><td>electric</td><td>modern</td><td>les paul</td><td>1693934.0</td></tr><tr><td>epiphone</td><td>electric</td><td>standard</td><td>sg</td><td>1693934.0</td></tr><tr><td>epiphone</td><td>electric</td><td>modern</td><td>les paul</td><td>1693934.0</td></tr><tr><td>epiphone</td><td>electric</td><td>es-335</td><td>null</td><td>1718427.0</td></tr><tr><td>epiphone</td><td>electric</td><td>standard</td><td>les paul</td><td>1718427.0</td></tr><tr><td>epiphone</td><td>electric</td><td>standard</td><td>les paul</td><td>1718427.0</td></tr><tr><td>epiphone</td><td>electric</td><td>standard</td><td>les paul</td><td>1718427.0</td></tr><tr><td>epiphone</td><td>electric</td><td>standard</td><td>les paul</td><td>1718427.0</td></tr><tr><td>epiphone</td><td>electric</td><td>standard</td><td>les paul</td><td>1718427.0</td></tr><tr><td>epiphone</td><td>electric</td><td>standard</td><td>les paul</td><td>1718427.0</td></tr><tr><td>epiphone</td><td>electric</td><td>modern</td><td>les paul</td><td>1718427.0</td></tr><tr><td>epiphone</td><td>electric</td><td>standard</td><td>les paul</td><td>1718427.0</td></tr><tr><td>epiphone</td><td>electric</td><td>standard</td><td>null</td><td>1718427.0</td></tr><tr><td>epiphone</td><td>electric</td><td>standard</td><td>les paul</td><td>1718427.0</td></tr><tr><td>epiphone</td><td>electric</td><td>es-335</td><td>null</td><td>1718427.0</td></tr><tr><td>epiphone</td><td>electric</td><td>standard</td><td>les paul</td><td>1718427.0</td></tr><tr><td>epiphone</td><td>electric</td><td>modern</td><td>les paul</td><td>1718428.0</td></tr><tr><td>epiphone</td><td>electric</td><td>standard</td><td>les paul</td><td>1719427.0</td></tr><tr><td>epiphone</td><td>electric</td><td>modern</td><td>les paul</td><td>1733485.0</td></tr><tr><td>epiphone</td><td>electric</td><td>modern</td><td>les paul</td><td>1733485.0</td></tr><tr><td>epiphone</td><td>electric</td><td>custom</td><td>sg</td><td>1771264.0</td></tr><tr><td>epiphone</td><td>electric</td><td>studio</td><td>les paul</td><td>1792497.0</td></tr><tr><td>epiphone</td><td>electric</td><td>custom</td><td>null</td><td>1828545.0</td></tr><tr><td>epiphone</td><td>electric</td><td>standard</td><td>sg</td><td>1852741.0</td></tr><tr><td>epiphone</td><td>electric</td><td>standard</td><td>sg</td><td>1852741.0</td></tr><tr><td>epiphone</td><td>electric</td><td>modern</td><td>les paul</td><td>1856691.0</td></tr><tr><td>epiphone</td><td>electric</td><td>modern</td><td>les paul</td><td>1856691.0</td></tr><tr><td>epiphone</td><td>electric</td><td>modern</td><td>les paul</td><td>1856691.0</td></tr><tr><td>epiphone</td><td>electric</td><td>modern</td><td>les paul</td><td>1856692.0</td></tr><tr><td>epiphone</td><td>electric</td><td>modern</td><td>les paul</td><td>1907578.0</td></tr><tr><td>epiphone</td><td>electric</td><td>standard</td><td>les paul</td><td>1907578.0</td></tr><tr><td>epiphone</td><td>electric</td><td>standard</td><td>les paul</td><td>1907578.0</td></tr><tr><td>epiphone</td><td>electric</td><td>modern</td><td>null</td><td>1958809.0</td></tr><tr><td>epiphone</td><td>electric</td><td>custom</td><td>sg</td><td>1972735.0</td></tr><tr><td>epiphone</td><td>electric</td><td>custom</td><td>sg</td><td>1972735.0</td></tr><tr><td>epiphone</td><td>electric</td><td>standard</td><td>les paul</td><td>1976191.0</td></tr><tr><td>epiphone</td><td>electric</td><td>standard</td><td>les paul</td><td>1976191.0</td></tr><tr><td>epiphone</td><td>electric</td><td>standard</td><td>les paul</td><td>1976191.0</td></tr><tr><td>epiphone</td><td>electric</td><td>standard</td><td>les paul</td><td>1976191.0</td></tr><tr><td>epiphone</td><td>electric</td><td>es-335</td><td>null</td><td>1976191.0</td></tr><tr><td>epiphone</td><td>electric</td><td>sheraton</td><td>null</td><td>1985080.0</td></tr><tr><td>epiphone</td><td>electric</td><td>sheraton</td><td>null</td><td>1985080.0</td></tr><tr><td>epiphone</td><td>electric</td><td>sheraton</td><td>null</td><td>1985081.0</td></tr><tr><td>epiphone</td><td>electric</td><td>es-335</td><td>null</td><td>2009519.0</td></tr><tr><td>epiphone</td><td>electric</td><td>es-335</td><td>null</td><td>2035249.0</td></tr><tr><td>epiphone</td><td>electric</td><td>custom</td><td>null</td><td>2035249.0</td></tr><tr><td>epiphone</td><td>electric</td><td>modern</td><td>sg</td><td>2035249.0</td></tr><tr><td>epiphone</td><td>electric</td><td>custom</td><td>null</td><td>2035249.0</td></tr><tr><td>epiphone</td><td>electric</td><td>modern</td><td>les paul</td><td>2135194.0</td></tr><tr><td>epiphone</td><td>electric</td><td>modern</td><td>les paul</td><td>2135196.0</td></tr><tr><td>epiphone</td><td>electric</td><td>sheraton</td><td>null</td><td>2136886.0</td></tr><tr><td>epiphone</td><td>electric</td><td>standard</td><td>les paul</td><td>2148034.0</td></tr><tr><td>epiphone</td><td>electric</td><td>es-335</td><td>null</td><td>2148034.0</td></tr><tr><td>epiphone</td><td>electric</td><td>standard</td><td>les paul</td><td>2171778.0</td></tr><tr><td>epiphone</td><td>electric</td><td>modern</td><td>null</td><td>2181612.0</td></tr><tr><td>epiphone</td><td>electric</td><td>standard</td><td>les paul</td><td>2184538.0</td></tr><tr><td>epiphone</td><td>electric</td><td>standard</td><td>les paul</td><td>2199586.0</td></tr><tr><td>epiphone</td><td>electric</td><td>standard</td><td>les paul</td><td>2199586.0</td></tr><tr><td>epiphone</td><td>electric</td><td>modern</td><td>les paul</td><td>2199586.0</td></tr><tr><td>epiphone</td><td>electric</td><td>standard</td><td>les paul</td><td>2199586.0</td></tr><tr><td>epiphone</td><td>electric</td><td>standard</td><td>les paul</td><td>2199586.0</td></tr><tr><td>epiphone</td><td>electric</td><td>standard</td><td>les paul</td><td>2199586.0</td></tr><tr><td>epiphone</td><td>electric</td><td>modern</td><td>les paul</td><td>2199586.0</td></tr><tr><td>epiphone</td><td>electric</td><td>standard</td><td>les paul</td><td>2199586.0</td></tr><tr><td>epiphone</td><td>electric</td><td>es-335</td><td>null</td><td>2199586.0</td></tr><tr><td>epiphone</td><td>electric</td><td>standard</td><td>les paul</td><td>2199586.0</td></tr><tr><td>epiphone</td><td>electric</td><td>custom</td><td>null</td><td>2226054.0</td></tr><tr><td>epiphone</td><td>electric</td><td>standard</td><td>les paul</td><td>2249990.0</td></tr><tr><td>epiphone</td><td>electric</td><td>modern</td><td>les paul</td><td>2250942.0</td></tr><tr><td>epiphone</td><td>electric</td><td>sheraton</td><td>null</td><td>2282843.0</td></tr><tr><td>epiphone</td><td>electric</td><td>standard</td><td>les paul</td><td>2299990.0</td></tr><tr><td>epiphone</td><td>electric</td><td>custom</td><td>sg</td><td>2350492.0</td></tr><tr><td>epiphone</td><td>electric</td><td>modern</td><td>les paul</td><td>2376564.0</td></tr><tr><td>epiphone</td><td>electric</td><td>modern</td><td>les paul</td><td>2376564.0</td></tr><tr><td>epiphone</td><td>electric</td><td>modern</td><td>les paul</td><td>2376564.0</td></tr><tr><td>epiphone</td><td>electric</td><td>modern</td><td>les paul</td><td>2376564.0</td></tr><tr><td>epiphone</td><td>electric</td><td>standard</td><td>les paul</td><td>2405798.0</td></tr><tr><td>epiphone</td><td>electric</td><td>standard</td><td>null</td><td>2405798.0</td></tr><tr><td>epiphone</td><td>electric</td><td>es-335</td><td>null</td><td>2405798.0</td></tr><tr><td>epiphone</td><td>electric</td><td>standard</td><td>les paul</td><td>2405798.0</td></tr><tr><td>epiphone</td><td>electric</td><td>standard</td><td>les paul</td><td>2405798.0</td></tr><tr><td>epiphone</td><td>electric</td><td>es-335</td><td>null</td><td>2429500.0</td></tr><tr><td>epiphone</td><td>electric</td><td>modern</td><td>null</td><td>2432053.0</td></tr><tr><td>epiphone</td><td>electric</td><td>standard</td><td>les paul</td><td>2548013.0</td></tr><tr><td>epiphone</td><td>electric</td><td>standard</td><td>les paul</td><td>2548013.0</td></tr><tr><td>epiphone</td><td>electric</td><td>standard</td><td>les paul</td><td>2548013.0</td></tr><tr><td>epiphone</td><td>electric</td><td>standard</td><td>les paul</td><td>2548013.0</td></tr><tr><td>epiphone</td><td>electric</td><td>standard</td><td>les paul</td><td>2548013.0</td></tr><tr><td>epiphone</td><td>electric</td><td>standard</td><td>les paul</td><td>2577641.0</td></tr><tr><td>epiphone</td><td>electric</td><td>standard</td><td>les paul</td><td>2577641.0</td></tr><tr><td>epiphone</td><td>electric</td><td>es-335</td><td>null</td><td>2577641.0</td></tr><tr><td>epiphone</td><td>electric</td><td>standard</td><td>sg</td><td>2882216.0</td></tr><tr><td>epiphone</td><td>electric</td><td>standard</td><td>sg</td><td>2882216.0</td></tr><tr><td>epiphone</td><td>electric</td><td>sheraton</td><td>null</td><td>2962806.0</td></tr><tr><td>epiphone</td><td>electric</td><td>es-335</td><td>null</td><td>3109760.0</td></tr><tr><td>epiphone</td><td>electric</td><td>standard</td><td>les paul</td><td>3261456.0</td></tr><tr><td>epiphone</td><td>electric</td><td>standard</td><td>les paul</td><td>3261456.0</td></tr><tr><td>epiphone</td><td>electric</td><td>standard</td><td>les paul</td><td>3261456.0</td></tr><tr><td>epiphone</td><td>electric</td><td>standard</td><td>les paul</td><td>3261456.0</td></tr><tr><td>epiphone</td><td>electric</td><td>standard</td><td>les paul</td><td>3261456.0</td></tr><tr><td>epiphone</td><td>electric</td><td>sheraton</td><td>null</td><td>3319794.0</td></tr><tr><td>epiphone</td><td>electric</td><td>sheraton</td><td>null</td><td>3374636.0</td></tr><tr><td>epiphone</td><td>electric</td><td>custom</td><td>les paul</td><td>3456607.0</td></tr><tr><td>epiphone</td><td>electric</td><td>custom</td><td>null</td><td>3456607.0</td></tr><tr><td>epiphone</td><td>electric</td><td>custom</td><td>les paul</td><td>3456607.0</td></tr><tr><td>epiphone</td><td>electric</td><td>sheraton</td><td>null</td><td>3583715.0</td></tr><tr><td>epiphone</td><td>electric</td><td>custom</td><td>null</td><td>4424456.0</td></tr><tr><td>epiphone</td><td>electric</td><td>custom</td><td>les paul</td><td>4424456.0</td></tr><tr><td>epiphone</td><td>electric</td><td>custom</td><td>les paul</td><td>4424456.0</td></tr><tr><td>cort</td><td>electric</td><td>x</td><td>x100</td><td>467727.0</td></tr><tr><td>cort</td><td>acustic</td><td>af</td><td>af515</td><td>356318.0</td></tr><tr><td>cort</td><td>electric</td><td>kx</td><td>kx507</td><td>1580162.0</td></tr><tr><td>cort</td><td>electric</td><td>g</td><td>g110</td><td>449350.0</td></tr><tr><td>cort</td><td>electric</td><td>x</td><td>x100</td><td>467727.0</td></tr><tr><td>cort</td><td>acustic</td><td>af</td><td>af510</td><td>349700.0</td></tr><tr><td>cort</td><td>electric</td><td>g</td><td>g260</td><td>1099793.0</td></tr><tr><td>cort</td><td>electric</td><td>g</td><td>g110</td><td>442445.0</td></tr><tr><td>cort</td><td>acustic</td><td>ad</td><td>ad810</td><td>381995.0</td></tr><tr><td>cort</td><td>electric</td><td>x</td><td>x100</td><td>467727.0</td></tr><tr><td>cort</td><td>electric</td><td>x</td><td>x700</td><td>2654673.0</td></tr><tr><td>cort</td><td>electric</td><td>g</td><td>g110</td><td>345664.0</td></tr><tr><td>cort</td><td>acustic</td><td>ad</td><td>ad880</td><td>614810.0</td></tr><tr><td>cort</td><td>electric</td><td>cr</td><td>cr200</td><td>862140.0</td></tr><tr><td>cort</td><td>electric</td><td>kx</td><td>kx100</td><td>474048.0</td></tr><tr><td>cort</td><td>acustic</td><td>ad</td><td>ad880</td><td>543181.0</td></tr><tr><td>cort</td><td>electric</td><td>kx</td><td>kx100</td><td>556840.0</td></tr><tr><td>cort</td><td>electric</td><td>kx</td><td>kx307</td><td>1036586.0</td></tr><tr><td>cort</td><td>acustic</td><td>af</td><td>af510</td><td>302001.0</td></tr><tr><td>cort</td><td>acustic</td><td>ad</td><td>ad810</td><td>388500.0</td></tr><tr><td>cort</td><td>electric</td><td>g</td><td>g110</td><td>428851.0</td></tr><tr><td>cort</td><td>electric</td><td>cr</td><td>cr100</td><td>589296.0</td></tr><tr><td>cort</td><td>electric</td><td>g</td><td>g110</td><td>462705.0</td></tr><tr><td>cort</td><td>acustic</td><td>af</td><td>af510</td><td>403662.0</td></tr><tr><td>cort</td><td>electric</td><td>g</td><td>g200</td><td>493801.0</td></tr><tr><td>cort</td><td>acustic</td><td>ad</td><td>ad810</td><td>313312.0</td></tr><tr><td>cort</td><td>acustic</td><td>af</td><td>af510</td><td>349808.0</td></tr><tr><td>cort</td><td>electric</td><td>cr</td><td>cr250</td><td>978740.0</td></tr><tr><td>cort</td><td>electric</td><td>g</td><td>g110</td><td>345660.0</td></tr><tr><td>cort</td><td>acustic</td><td>l</td><td>l450</td><td>935456.0</td></tr><tr><td>cort</td><td>electric</td><td>x</td><td>x700</td><td>2515618.0</td></tr><tr><td>cort</td><td>acustic</td><td>ad</td><td>ad810</td><td>403995.0</td></tr><tr><td>cort</td><td>electric</td><td>g</td><td>g200</td><td>633065.0</td></tr><tr><td>cort</td><td>electric</td><td>g</td><td>g250</td><td>109788.0</td></tr><tr><td>cort</td><td>electric</td><td>g</td><td>g250</td><td>736500.0</td></tr><tr><td>cort</td><td>electric</td><td>x</td><td>x300</td><td>1137716.0</td></tr><tr><td>cort</td><td>acustic</td><td>earth</td><td>null</td><td>608362.0</td></tr><tr><td>cort</td><td>electric</td><td>g</td><td>g250</td><td>577999.0</td></tr><tr><td>cort</td><td>electric</td><td>cr</td><td>cr250</td><td>1174500.0</td></tr><tr><td>cort</td><td>acustic</td><td>af</td><td>af510</td><td>375845.0</td></tr><tr><td>cort</td><td>electric</td><td>x</td><td>x700</td><td>2515618.0</td></tr><tr><td>cort</td><td>electric</td><td>g</td><td>g280</td><td>1415826.0</td></tr><tr><td>cort</td><td>acustic</td><td>af</td><td>af510</td><td>385397.0</td></tr><tr><td>cort</td><td>electric</td><td>cr</td><td>cr100</td><td>589246.0</td></tr><tr><td>cort</td><td>electric</td><td>x</td><td>x100</td><td>467727.0</td></tr><tr><td>cort</td><td>acustic</td><td>ad</td><td>ad810</td><td>360308.0</td></tr><tr><td>cort</td><td>acustic</td><td>ad</td><td>ad810</td><td>523172.0</td></tr><tr><td>cort</td><td>electric</td><td>kx</td><td>kx307</td><td>809833.0</td></tr><tr><td>cort</td><td>acustic</td><td>af</td><td>af510</td><td>315045.0</td></tr><tr><td>cort</td><td>acustic</td><td>ad</td><td>ad810</td><td>540259.0</td></tr><tr><td>cort</td><td>electric</td><td>g</td><td>g260</td><td>1052519.0</td></tr><tr><td>cort</td><td>electric</td><td>g</td><td>g110</td><td>442444.0</td></tr><tr><td>cort</td><td>acustic</td><td>ad</td><td>ad810</td><td>437414.0</td></tr><tr><td>cort</td><td>electric</td><td>g</td><td>g300</td><td>1435972.0</td></tr><tr><td>cort</td><td>electric</td><td>kx</td><td>kx307</td><td>1036586.0</td></tr><tr><td>cort</td><td>acustic</td><td>ad</td><td>ad810</td><td>481319.0</td></tr><tr><td>cort</td><td>electric</td><td>x</td><td>x300</td><td>888841.0</td></tr><tr><td>cort</td><td>electric</td><td>kx</td><td>kx300</td><td>1008774.0</td></tr><tr><td>cort</td><td>acustic</td><td>ad</td><td>ad810</td><td>313306.0</td></tr><tr><td>cort</td><td>acustic</td><td>ad</td><td>ad810</td><td>398262.0</td></tr><tr><td>cort</td><td>electric</td><td>kx</td><td>kx508</td><td>2199586.0</td></tr><tr><td>cort</td><td>electric</td><td>g</td><td>g250</td><td>658731.0</td></tr><tr><td>cort</td><td>acustic</td><td>af</td><td>af510</td><td>403662.0</td></tr><tr><td>cort</td><td>electric</td><td>g</td><td>g250</td><td>754125.0</td></tr><tr><td>cort</td><td>acustic</td><td>ad</td><td>ad810</td><td>551124.0</td></tr><tr><td>cort</td><td>electric</td><td>kx</td><td>kx300</td><td>788106.0</td></tr><tr><td>cort</td><td>electric</td><td>x</td><td>x100</td><td>467727.0</td></tr><tr><td>cort</td><td>electric</td><td>g</td><td>g260</td><td>1009273.0</td></tr><tr><td>cort</td><td>electric</td><td>kx</td><td>kx300</td><td>926025.0</td></tr><tr><td>cort</td><td>acustic</td><td>ad</td><td>ad810</td><td>418545.0</td></tr><tr><td>cort</td><td>electric</td><td>g</td><td>g250</td><td>733195.0</td></tr><tr><td>cort</td><td>electric</td><td>kx</td><td>kx500</td><td>1669047.0</td></tr><tr><td>cort</td><td>electric</td><td>cr</td><td>cr250</td><td>978740.0</td></tr><tr><td>cort</td><td>electric</td><td>x</td><td>x300</td><td>983442.0</td></tr><tr><td>cort</td><td>electric</td><td>x</td><td>x100</td><td>467727.0</td></tr><tr><td>cort</td><td>electric</td><td>g</td><td>g250</td><td>583357.0</td></tr><tr><td>cort</td><td>electric</td><td>kx</td><td>kx300</td><td>1008774.0</td></tr><tr><td>cort</td><td>acustic</td><td>ad</td><td>ad880</td><td>469999.0</td></tr><tr><td>cort</td><td>electric</td><td>g</td><td>g110</td><td>442444.0</td></tr><tr><td>cort</td><td>electric</td><td>g</td><td>g110</td><td>442445.0</td></tr><tr><td>cort</td><td>acustic</td><td>earth</td><td>null</td><td>744436.0</td></tr><tr><td>cort</td><td>electric</td><td>kx</td><td>kx508</td><td>1718427.0</td></tr><tr><td>cort</td><td>acustic</td><td>ad</td><td>ad880</td><td>460925.0</td></tr><tr><td>cort</td><td>electric</td><td>g</td><td>g250</td><td>572809.0</td></tr><tr><td>cort</td><td>electric</td><td>kx</td><td>kx100</td><td>606781.0</td></tr><tr><td>cort</td><td>electric</td><td>kx</td><td>kx300</td><td>831452.0</td></tr><tr><td>cort</td><td>electric</td><td>g</td><td>g110</td><td>442445.0</td></tr><tr><td>cort</td><td>electric</td><td>g</td><td>g250</td><td>734195.0</td></tr><tr><td>cort</td><td>classic</td><td>ac</td><td>ac120</td><td>477999.0</td></tr><tr><td>cort</td><td>electric</td><td>x</td><td>x300</td><td>1044389.0</td></tr><tr><td>cort</td><td>electric</td><td>g</td><td>g250</td><td>733195.0</td></tr><tr><td>cort</td><td>electric</td><td>kx</td><td>kx100</td><td>583348.0</td></tr><tr><td>cort</td><td>electric</td><td>cr</td><td>cr200</td><td>862140.0</td></tr><tr><td>cort</td><td>electric</td><td>g</td><td>g200</td><td>506180.0</td></tr><tr><td>cort</td><td>electric</td><td>x</td><td>x300</td><td>1137716.0</td></tr><tr><td>cort</td><td>electric</td><td>kx</td><td>kx500</td><td>1870912.0</td></tr><tr><td>cort</td><td>electric</td><td>g</td><td>null</td><td>1461650.0</td></tr><tr><td>cort</td><td>electric</td><td>g</td><td>g250</td><td>573809.0</td></tr><tr><td>cort</td><td>electric</td><td>g</td><td>g250</td><td>572809.0</td></tr><tr><td>cort</td><td>classic</td><td>ac</td><td>ac100</td><td>327424.0</td></tr><tr><td>cort</td><td>electric</td><td>x</td><td>x700</td><td>1965327.0</td></tr><tr><td>cort</td><td>electric</td><td>x</td><td>x700</td><td>2073964.0</td></tr><tr><td>cort</td><td>acustic</td><td>ad</td><td>ad880</td><td>488853.0</td></tr><tr><td>cort</td><td>electric</td><td>kx</td><td>kx300</td><td>1183641.0</td></tr><tr><td>cort</td><td>electric</td><td>g</td><td>g280</td><td>1106114.0</td></tr><tr><td>cort</td><td>electric</td><td>x</td><td>x700</td><td>2515618.0</td></tr><tr><td>cort</td><td>acustic</td><td>ad</td><td>ad810</td><td>531037.0</td></tr><tr><td>cort</td><td>electric</td><td>g</td><td>g290</td><td>1516956.0</td></tr><tr><td>cort</td><td>acustic</td><td>earth</td><td>null</td><td>607171.0</td></tr><tr><td>cort</td><td>electric</td><td>x</td><td>x700</td><td>2654673.0</td></tr><tr><td>cort</td><td>classic</td><td>ac</td><td>ac100</td><td>315045.0</td></tr><tr><td>cort</td><td>electric</td><td>kx</td><td>kx300</td><td>1289412.0</td></tr><tr><td>cort</td><td>acustic</td><td>ad</td><td>ad810</td><td>546768.0</td></tr><tr><td>cort</td><td>electric</td><td>g</td><td>null</td><td>1870912.0</td></tr><tr><td>cort</td><td>electric</td><td>kx</td><td>kx100</td><td>617161.0</td></tr><tr><td>cort</td><td>electric</td><td>g</td><td>g260</td><td>871649.0</td></tr><tr><td>cort</td><td>electric</td><td>g</td><td>g110</td><td>397509.0</td></tr><tr><td>cort</td><td>electric</td><td>g</td><td>g260</td><td>859213.0</td></tr><tr><td>cort</td><td>electric</td><td>kx</td><td>kx100</td><td>474048.0</td></tr><tr><td>cort</td><td>acustic</td><td>mr</td><td>mr600</td><td>923854.0</td></tr><tr><td>cort</td><td>electric</td><td>g</td><td>g260</td><td>859213.0</td></tr><tr><td>cort</td><td>electric</td><td>g</td><td>g200</td><td>493801.0</td></tr><tr><td>cort</td><td>acustic</td><td>ad</td><td>ad810</td><td>437413.0</td></tr><tr><td>cort</td><td>electric</td><td>kx</td><td>kx300</td><td>831452.0</td></tr><tr><td>cort</td><td>acustic</td><td>earth</td><td>null</td><td>608362.0</td></tr><tr><td>cort</td><td>electric</td><td>cr</td><td>cr250</td><td>1174500.0</td></tr><tr><td>cort</td><td>electric</td><td>kx</td><td>kx100</td><td>474048.0</td></tr><tr><td>cort</td><td>acustic</td><td>mr</td><td>mr710</td><td>965381.0</td></tr><tr><td>cort</td><td>electric</td><td>g</td><td>g260</td><td>1052519.0</td></tr><tr><td>cort</td><td>classic</td><td>ac</td><td>ac100</td><td>400472.0</td></tr><tr><td>cort</td><td>electric</td><td>kx</td><td>kx300</td><td>831452.0</td></tr><tr><td>cort</td><td>electric</td><td>cr</td><td>cr250</td><td>978740.0</td></tr><tr><td>cort</td><td>acustic</td><td>earth</td><td>null</td><td>375288.0</td></tr><tr><td>cort</td><td>electric</td><td>cr</td><td>cr250</td><td>1108611.0</td></tr><tr><td>cort</td><td>electric</td><td>g</td><td>g200</td><td>610222.0</td></tr><tr><td>cort</td><td>electric</td><td>g</td><td>g200</td><td>632065.0</td></tr><tr><td>cort</td><td>electric</td><td>x</td><td>x300</td><td>937728.0</td></tr><tr><td>cort</td><td>electric</td><td>g</td><td>g110</td><td>354781.0</td></tr><tr><td>cort</td><td>classic</td><td>ac</td><td>ac200</td><td>432364.0</td></tr><tr><td>cort</td><td>electric</td><td>g</td><td>g250</td><td>754125.0</td></tr><tr><td>cort</td><td>electric</td><td>g</td><td>g260</td><td>859213.0</td></tr><tr><td>cort</td><td>electric</td><td>kx</td><td>kx100</td><td>606782.0</td></tr><tr><td>cort</td><td>electric</td><td>kx</td><td>kx100</td><td>500121.0</td></tr><tr><td>cort</td><td>acustic</td><td>earth</td><td>null</td><td>614073.0</td></tr><tr><td>cort</td><td>electric</td><td>g</td><td>g290</td><td>1185122.0</td></tr><tr><td>cort</td><td>electric</td><td>cr</td><td>cr250</td><td>978740.0</td></tr><tr><td>cort</td><td>electric</td><td>kx</td><td>kx100</td><td>481766.0</td></tr><tr><td>cort</td><td>acustic</td><td>af</td><td>af510</td><td>317672.0</td></tr><tr><td>cort</td><td>electric</td><td>kx</td><td>kx100</td><td>583348.0</td></tr><tr><td>cort</td><td>electric</td><td>g</td><td>g260</td><td>1009273.0</td></tr><tr><td>cort</td><td>electric</td><td>kx</td><td>kx100</td><td>508617.0</td></tr><tr><td>cort</td><td>electric</td><td>kx</td><td>kx507</td><td>2022608.0</td></tr><tr><td>cort</td><td>electric</td><td>kx</td><td>kx100</td><td>508617.0</td></tr><tr><td>cort</td><td>electric</td><td>kx</td><td>kx100</td><td>617161.0</td></tr><tr><td>cort</td><td>electric</td><td>g</td><td>g200</td><td>632065.0</td></tr><tr><td>cort</td><td>acustic</td><td>earth</td><td>null</td><td>474739.0</td></tr><tr><td>cort</td><td>electric</td><td>kx</td><td>kx300</td><td>1008354.0</td></tr><tr><td>cort</td><td>electric</td><td>kx</td><td>kx300</td><td>788106.0</td></tr><tr><td>cort</td><td>electric</td><td>cr</td><td>cr200</td><td>862140.0</td></tr><tr><td>cort</td><td>electric</td><td>kx</td><td>kx500</td><td>1669047.0</td></tr><tr><td>cort</td><td>acustic</td><td>af</td><td>af510</td><td>333563.0</td></tr><tr><td>cort</td><td>acustic</td><td>af</td><td>af510</td><td>396045.0</td></tr><tr><td>cort</td><td>electric</td><td>kx</td><td>kx300</td><td>926025.0</td></tr><tr><td>cort</td><td>electric</td><td>g</td><td>g300</td><td>1838044.0</td></tr><tr><td>cort</td><td>electric</td><td>kx</td><td>kx500</td><td>2136380.0</td></tr><tr><td>cort</td><td>electric</td><td>g</td><td>g250</td><td>572809.0</td></tr><tr><td>cort</td><td>classic</td><td>ac</td><td>ac200</td><td>537397.0</td></tr><tr><td>cort</td><td>electric</td><td>kx</td><td>kx100</td><td>481766.0</td></tr><tr><td>cort</td><td>electric</td><td>kx</td><td>kx500</td><td>2136380.0</td></tr><tr><td>cort</td><td>electric</td><td>g</td><td>g290</td><td>1516956.0</td></tr><tr><td>cort</td><td>electric</td><td>g</td><td>g290</td><td>1186122.0</td></tr><tr><td>cort</td><td>electric</td><td>kx</td><td>kx100</td><td>474048.0</td></tr><tr><td>cort</td><td>classic</td><td>ac</td><td>ac200</td><td>355535.0</td></tr><tr><td>cort</td><td>electric</td><td>g</td><td>g260</td><td>810579.0</td></tr><tr><td>cort</td><td>electric</td><td>kx</td><td>kx700</td><td>2654673.0</td></tr><tr><td>cort</td><td>electric</td><td>g</td><td>g250</td><td>706101.0</td></tr><tr><td>cort</td><td>electric</td><td>g</td><td>g300</td><td>1435972.0</td></tr><tr><td>cort</td><td>electric</td><td>cr</td><td>cr250</td><td>1108611.0</td></tr><tr><td>cort</td><td>electric</td><td>kx</td><td>kx100</td><td>557007.0</td></tr><tr><td>cort</td><td>electric</td><td>kx</td><td>kx500</td><td>1461650.0</td></tr><tr><td>cort</td><td>acustic</td><td>earth</td><td>null</td><td>395743.0</td></tr><tr><td>cort</td><td>electric</td><td>kx</td><td>kx700</td><td>2073964.0</td></tr><tr><td>cort</td><td>electric</td><td>g</td><td>g250</td><td>572809.0</td></tr><tr><td>cort</td><td>electric</td><td>kx</td><td>kx700</td><td>2190378.0</td></tr><tr><td>cort</td><td>electric</td><td>g</td><td>g110</td><td>345560.0</td></tr><tr><td>cort</td><td>electric</td><td>g</td><td>g250</td><td>658730.0</td></tr><tr><td>cort</td><td>acustic</td><td>ad</td><td>ad810</td><td>480419.0</td></tr><tr><td>cort</td><td>electric</td><td>kx</td><td>kx300</td><td>1008354.0</td></tr><tr><td>cort</td><td>acustic</td><td>af</td><td>af510</td><td>314388.0</td></tr><tr><td>cort</td><td>acustic</td><td>earth</td><td>null</td><td>608362.0</td></tr><tr><td>cort</td><td>classic</td><td>ac</td><td>ac200</td><td>444747.0</td></tr><tr><td>cort</td><td>electric</td><td>g</td><td>g280</td><td>1116661.0</td></tr><tr><td>cort</td><td>acustic</td><td>ad</td><td>ad810</td><td>437400.0</td></tr><tr><td>cort</td><td>acustic</td><td>earth</td><td>null</td><td>528405.0</td></tr><tr><td>cort</td><td>classic</td><td>ac</td><td>ac200</td><td>445862.0</td></tr><tr><td>cort</td><td>electric</td><td>kx</td><td>kx500</td><td>1547979.0</td></tr><tr><td>cort</td><td>electric</td><td>kx</td><td>kx300</td><td>802415.0</td></tr><tr><td>cort</td><td>electric</td><td>g</td><td>g110</td><td>428851.0</td></tr><tr><td>cort</td><td>electric</td><td>x</td><td>x700</td><td>2086178.0</td></tr><tr><td>cort</td><td>acustic</td><td>ac</td><td>ac250</td><td>125183.0</td></tr><tr><td>cort</td><td>acustic</td><td>mr</td><td>mr710</td><td>839460.0</td></tr><tr><td>cort</td><td>electric</td><td>g</td><td>g300</td><td>1411312.0</td></tr><tr><td>cort</td><td>electric</td><td>kx</td><td>kx507</td><td>1580163.0</td></tr><tr><td>cort</td><td>acustic</td><td>earth</td><td>null</td><td>699617.0</td></tr><tr><td>cort</td><td>acustic</td><td>af</td><td>af590</td><td>493801.0</td></tr><tr><td>cort</td><td>acustic</td><td>earth</td><td>null</td><td>423367.0</td></tr><tr><td>cort</td><td>acustic</td><td>earth</td><td>null</td><td>548213.0</td></tr><tr><td>cort</td><td>electric</td><td>g</td><td>g300</td><td>1448180.0</td></tr><tr><td>cort</td><td>electric</td><td>g</td><td>g290</td><td>1197327.0</td></tr><tr><td>cort</td><td>electric</td><td>g</td><td>g260</td><td>859222.0</td></tr><tr><td>cort</td><td>electric</td><td>g</td><td>g290</td><td>1240994.0</td></tr><tr><td>cort</td><td>acustic</td><td>earth</td><td>null</td><td>511894.0</td></tr><tr><td>cort</td><td>electric</td><td>g</td><td>g290</td><td>1274505.0</td></tr><tr><td>cort</td><td>electric</td><td>kx</td><td>kx300</td><td>798650.0</td></tr><tr><td>cort</td><td>acustic</td><td>af</td><td>af510</td><td>362301.0</td></tr><tr><td>cort</td><td>electric</td><td>x</td><td>x700</td><td>1977540.0</td></tr><tr><td>cort</td><td>electric</td><td>x</td><td>x500</td><td>1669065.0</td></tr><tr><td>cort</td><td>electric</td><td>g</td><td>g280</td><td>1118318.0</td></tr><tr><td>cort</td><td>electric</td><td>g</td><td>g260</td><td>871414.0</td></tr><tr><td>cort</td><td>electric</td><td>x</td><td>x700</td><td>2086178.0</td></tr><tr><td>cort</td><td>electric</td><td>kx</td><td>kx300</td><td>1017900.0</td></tr><tr><td>cort</td><td>electric</td><td>x</td><td>x700</td><td>1977540.0</td></tr><tr><td>cort</td><td>electric</td><td>g</td><td>g260</td><td>871414.0</td></tr><tr><td>cort</td><td>electric</td><td>kx</td><td>kx300</td><td>1073890.0</td></tr><tr><td>cort</td><td>electric</td><td>g</td><td>g250</td><td>572809.0</td></tr><tr><td>cort</td><td>acustic</td><td>ad</td><td>ad810</td><td>463381.0</td></tr><tr><td>cort</td><td>electric</td><td>g</td><td>g290</td><td>1185122.0</td></tr><tr><td>cort</td><td>acustic</td><td>ad</td><td>ad810</td><td>463381.0</td></tr><tr><td>cort</td><td>acustic</td><td>earth</td><td>null</td><td>478284.0</td></tr><tr><td>cort</td><td>acustic</td><td>ad</td><td>ad810</td><td>418537.0</td></tr><tr><td>cort</td><td>acustic</td><td>l</td><td>l300</td><td>1106114.0</td></tr><tr><td>cort</td><td>classic</td><td>ac</td><td>ac120</td><td>607611.0</td></tr><tr><td>cort</td><td>acustic</td><td>earth</td><td>null</td><td>385164.0</td></tr><tr><td>cort</td><td>acustic</td><td>ad</td><td>ad810</td><td>418545.0</td></tr><tr><td>cort</td><td>acustic</td><td>earth</td><td>null</td><td>480368.0</td></tr><tr><td>cort</td><td>acustic</td><td>af</td><td>af510</td><td>386571.0</td></tr><tr><td>cort</td><td>acustic</td><td>mr</td><td>mr730</td><td>1643368.0</td></tr><tr><td>cort</td><td>classic</td><td>ac</td><td>ac100</td><td>315045.0</td></tr><tr><td>cort</td><td>acustic</td><td>af</td><td>af510</td><td>423681.0</td></tr><tr><td>cort</td><td>acustic</td><td>earth</td><td>null</td><td>608362.0</td></tr><tr><td>cort</td><td>acustic</td><td>ad</td><td>ad880</td><td>523416.0</td></tr><tr><td>cort</td><td>acustic</td><td>af</td><td>af510</td><td>304181.0</td></tr><tr><td>cort</td><td>acustic</td><td>ad</td><td>ad880</td><td>666616.0</td></tr><tr><td>cort</td><td>acustic</td><td>af</td><td>af510</td><td>315045.0</td></tr><tr><td>cort</td><td>acustic</td><td>af</td><td>af510</td><td>405516.0</td></tr><tr><td>cort</td><td>acustic</td><td>af</td><td>af510</td><td>390567.0</td></tr><tr><td>cort</td><td>acustic</td><td>af</td><td>af590</td><td>634040.0</td></tr><tr><td>cort</td><td>acustic</td><td>af</td><td>af510</td><td>576645.0</td></tr><tr><td>cort</td><td>acustic</td><td>af</td><td>af510</td><td>537411.0</td></tr><tr><td>cort</td><td>acustic</td><td>earth</td><td>null</td><td>493010.0</td></tr><tr><td>cort</td><td>acustic</td><td>ad</td><td>ad810</td><td>422239.0</td></tr><tr><td>cort</td><td>acustic</td><td>ad</td><td>ad810</td><td>556015.0</td></tr><tr><td>cort</td><td>acustic</td><td>ad</td><td>ad810</td><td>437408.0</td></tr><tr><td>cort</td><td>acustic</td><td>mr</td><td>mr710</td><td>839461.0</td></tr><tr><td>cort</td><td>acustic</td><td>af</td><td>af510</td><td>418545.0</td></tr><tr><td>cort</td><td>acustic</td><td>grand regal</td><td>null</td><td>1213564.0</td></tr><tr><td>cort</td><td>classic</td><td>ac</td><td>ac100</td><td>315045.0</td></tr><tr><td>cort</td><td>acustic</td><td>earth</td><td>null</td><td>778703.0</td></tr><tr><td>cort</td><td>classic</td><td>ac</td><td>ac100</td><td>400472.0</td></tr><tr><td>cort</td><td>acustic</td><td>ad</td><td>ad810</td><td>331170.0</td></tr><tr><td>cort</td><td>acustic</td><td>l</td><td>l450</td><td>967849.0</td></tr><tr><td>cort</td><td>acustic</td><td>l</td><td>l100</td><td>619661.0</td></tr><tr><td>cort</td><td>acustic</td><td>earth</td><td>null</td><td>733626.0</td></tr><tr><td>cort</td><td>classic</td><td>ac</td><td>ac100</td><td>400472.0</td></tr><tr><td>cort</td><td>acustic</td><td>earth</td><td>null</td><td>511827.0</td></tr><tr><td>cort</td><td>acustic</td><td>af</td><td>af510</td><td>444865.0</td></tr><tr><td>cort</td><td>acustic</td><td>ad</td><td>ad810</td><td>418500.0</td></tr><tr><td>cort</td><td>acustic</td><td>af</td><td>af510</td><td>418537.0</td></tr><tr><td>cort</td><td>acustic</td><td>mr</td><td>mr500</td><td>691320.0</td></tr><tr><td>cort</td><td>acustic</td><td>ad</td><td>ad880</td><td>434464.0</td></tr><tr><td>cort</td><td>acustic</td><td>af</td><td>af510</td><td>348822.0</td></tr><tr><td>cort</td><td>acustic</td><td>af</td><td>af510</td><td>469106.0</td></tr><tr><td>cort</td><td>acustic</td><td>af</td><td>af510</td><td>463420.0</td></tr><tr><td>cort</td><td>acustic</td><td>ad</td><td>ad810</td><td>367783.0</td></tr><tr><td>cort</td><td>acustic</td><td>earth</td><td>null</td><td>412817.0</td></tr><tr><td>cort</td><td>acustic</td><td>earth</td><td>null</td><td>998794.0</td></tr><tr><td>cort</td><td>acustic</td><td>ad</td><td>ad810</td><td>503026.0</td></tr><tr><td>cort</td><td>acustic</td><td>ad</td><td>ad810</td><td>546768.0</td></tr><tr><td>cort</td><td>classic</td><td>ac</td><td>ac120</td><td>485673.0</td></tr><tr><td>cort</td><td>acustic</td><td>af</td><td>af510</td><td>439465.0</td></tr><tr><td>cort</td><td>acustic</td><td>ad</td><td>ad810</td><td>437400.0</td></tr><tr><td>cort</td><td>acustic</td><td>ad</td><td>ad810</td><td>313307.0</td></tr><tr><td>cort</td><td>classic</td><td>ac</td><td>ac160</td><td>631599.0</td></tr><tr><td>cort</td><td>classic</td><td>ac</td><td>ac160</td><td>765404.0</td></tr><tr><td>cort</td><td>acustic</td><td>ad</td><td>ad880</td><td>404769.0</td></tr><tr><td>cort</td><td>acustic</td><td>ad</td><td>ad810</td><td>344571.0</td></tr><tr><td>cort</td><td>acustic</td><td>earth</td><td>null</td><td>601028.0</td></tr><tr><td>cort</td><td>acustic</td><td>ad</td><td>ad880</td><td>647339.0</td></tr><tr><td>cort</td><td>acustic</td><td>earth</td><td>null</td><td>397569.0</td></tr><tr><td>cort</td><td>acustic</td><td>l</td><td>l450</td><td>744319.0</td></tr><tr><td>cort</td><td>acustic</td><td>af</td><td>af510</td><td>429095.0</td></tr><tr><td>cort</td><td>acustic</td><td>ad</td><td>ad880</td><td>536790.0</td></tr><tr><td>cort</td><td>acustic</td><td>af</td><td>af510</td><td>515908.0</td></tr><tr><td>cort</td><td>acustic</td><td>earth</td><td>null</td><td>728282.0</td></tr><tr><td>cort</td><td>classic</td><td>ac</td><td>ac120</td><td>477998.0</td></tr><tr><td>cort</td><td>acustic</td><td>earth</td><td>null</td><td>614073.0</td></tr><tr><td>cort</td><td>acustic</td><td>ad</td><td>ad810</td><td>415755.0</td></tr><tr><td>cort</td><td>acustic</td><td>af</td><td>af510</td><td>526883.0</td></tr><tr><td>cort</td><td>acustic</td><td>earth</td><td>null</td><td>725342.0</td></tr><tr><td>cort</td><td>classic</td><td>ac</td><td>ac100</td><td>394934.0</td></tr><tr><td>cort</td><td>acustic</td><td>af</td><td>af510</td><td>436088.0</td></tr><tr><td>cort</td><td>acustic</td><td>earth</td><td>null</td><td>466314.0</td></tr><tr><td>cort</td><td>classic</td><td>ac</td><td>ac200</td><td>537397.0</td></tr><tr><td>cort</td><td>acustic</td><td>l</td><td>l450</td><td>900925.0</td></tr><tr><td>cort</td><td>acustic</td><td>earth</td><td>null</td><td>670124.0</td></tr><tr><td>cort</td><td>classic</td><td>ac</td><td>ac250</td><td>620736.0</td></tr><tr><td>cort</td><td>acustic</td><td>earth</td><td>null</td><td>390132.0</td></tr><tr><td>cort</td><td>classic</td><td>ac</td><td>ac200</td><td>497219.0</td></tr><tr><td>cort</td><td>acustic</td><td>mr</td><td>mr730</td><td>1476465.0</td></tr><tr><td>cort</td><td>acustic</td><td>mr</td><td>mr730</td><td>1283882.0</td></tr><tr><td>cort</td><td>acustic</td><td>earth</td><td>null</td><td>712620.0</td></tr><tr><td>cort</td><td>acustic</td><td>earth</td><td>null</td><td>540568.0</td></tr><tr><td>cort</td><td>acustic</td><td>earth</td><td>null</td><td>474740.0</td></tr><tr><td>cort</td><td>classic</td><td>ac</td><td>ac200</td><td>445862.0</td></tr><tr><td>cort</td><td>acustic</td><td>af</td><td>af510</td><td>598509.0</td></tr><tr><td>cort</td><td>acustic</td><td>af</td><td>af510</td><td>423680.0</td></tr><tr><td>cort</td><td>acustic</td><td>ad</td><td>ad810</td><td>439465.0</td></tr><tr><td>cort</td><td>acustic</td><td>af</td><td>af510</td><td>317101.0</td></tr><tr><td>cort</td><td>acustic</td><td>ad</td><td>ad810</td><td>598509.0</td></tr><tr><td>cort</td><td>acustic</td><td>af</td><td>af510</td><td>605864.0</td></tr><tr><td>cort</td><td>acustic</td><td>af</td><td>af510</td><td>431861.0</td></tr><tr><td>cort</td><td>acustic</td><td>af</td><td>af510</td><td>393806.0</td></tr><tr><td>cort</td><td>acustic</td><td>ad</td><td>ad810</td><td>332169.0</td></tr><tr><td>cort</td><td>acustic</td><td>ad</td><td>ad810</td><td>415212.0</td></tr><tr><td>cort</td><td>acustic</td><td>ad</td><td>ad810</td><td>360308.0</td></tr><tr><td>cort</td><td>classic</td><td>ac</td><td>ac150</td><td>465798.0</td></tr><tr><td>cort</td><td>classic</td><td>ac</td><td>ac150</td><td>465798.0</td></tr><tr><td>cort</td><td>acustic</td><td>earth</td><td>null</td><td>543181.0</td></tr><tr><td>cort</td><td>acustic</td><td>earth</td><td>null</td><td>624658.0</td></tr><tr><td>cort</td><td>classic</td><td>ac</td><td>ac150</td><td>405041.0</td></tr><tr><td>cort</td><td>acustic</td><td>earth</td><td>null</td><td>540568.0</td></tr><tr><td>cort</td><td>acustic</td><td>af</td><td>af590</td><td>493800.0</td></tr><tr><td>cort</td><td>acustic</td><td>ad</td><td>ad810</td><td>330544.0</td></tr><tr><td>cort</td><td>acustic</td><td>l</td><td>l100</td><td>638649.0</td></tr><tr><td>cort</td><td>acustic</td><td>ad</td><td>ad810</td><td>330544.0</td></tr><tr><td>cort</td><td>acustic</td><td>ad</td><td>ad810</td><td>368141.0</td></tr><tr><td>cort</td><td>classic</td><td>ac</td><td>ac250</td><td>752213.0</td></tr><tr><td>cort</td><td>acustic</td><td>af</td><td>af510</td><td>320911.0</td></tr><tr><td>cort</td><td>acustic</td><td>ad</td><td>ad810</td><td>368141.0</td></tr><tr><td>cort</td><td>acustic</td><td>earth</td><td>null</td><td>714826.0</td></tr><tr><td>cort</td><td>acustic</td><td>earth</td><td>null</td><td>641822.0</td></tr><tr><td>cort</td><td>acustic</td><td>earth</td><td>null</td><td>770795.0</td></tr><tr><td>cort</td><td>acustic</td><td>ad</td><td>ad810</td><td>396966.0</td></tr><tr><td>cort</td><td>acustic</td><td>ad</td><td>ad810</td><td>535064.0</td></tr><tr><td>cort</td><td>acustic</td><td>af</td><td>af510</td><td>357413.0</td></tr><tr><td>cort</td><td>acustic</td><td>earth</td><td>null</td><td>412817.0</td></tr><tr><td>cort</td><td>acustic</td><td>earth</td><td>null</td><td>744436.0</td></tr><tr><td>cort</td><td>acustic</td><td>earth</td><td>null</td><td>412818.0</td></tr><tr><td>cort</td><td>acustic</td><td>earth</td><td>null</td><td>670124.0</td></tr><tr><td>cort</td><td>acustic</td><td>l</td><td>l450</td><td>1238847.0</td></tr><tr><td>cort</td><td>classic</td><td>ac</td><td>ac160</td><td>762463.0</td></tr><tr><td>cort</td><td>acustic</td><td>mr</td><td>mr710</td><td>1074510.0</td></tr><tr><td>cort</td><td>acustic</td><td>af</td><td>af510</td><td>441557.0</td></tr><tr><td>cort</td><td>acustic</td><td>af</td><td>af510</td><td>302008.0</td></tr><tr><td>cort</td><td>classic</td><td>ac</td><td>ac150</td><td>405041.0</td></tr><tr><td>cort</td><td>acustic</td><td>earth</td><td>null</td><td>385164.0</td></tr><tr><td>cort</td><td>acustic</td><td>af</td><td>af590</td><td>493800.0</td></tr><tr><td>cort</td><td>classic</td><td>ac</td><td>ac200</td><td>432364.0</td></tr><tr><td>cort</td><td>acustic</td><td>mr</td><td>mr710</td><td>965380.0</td></tr><tr><td>cort</td><td>acustic</td><td>earth</td><td>null</td><td>442938.0</td></tr><tr><td>cort</td><td>acustic</td><td>earth</td><td>null</td><td>699616.0</td></tr><tr><td>cort</td><td>acustic</td><td>mr</td><td>mr710</td><td>1074510.0</td></tr><tr><td>cort</td><td>acustic</td><td>ad</td><td>ad810</td><td>437414.0</td></tr><tr><td>cort</td><td>acustic</td><td>earth</td><td>null</td><td>998794.0</td></tr><tr><td>cort</td><td>acustic</td><td>earth</td><td>null</td><td>812990.0</td></tr><tr><td>cort</td><td>acustic</td><td>ad</td><td>ad810</td><td>549990.0</td></tr><tr><td>cort</td><td>acustic</td><td>ad</td><td>ad810</td><td>332169.0</td></tr><tr><td>cort</td><td>acustic</td><td>mr</td><td>mr710</td><td>839461.0</td></tr><tr><td>cort</td><td>acustic</td><td>af</td><td>af510</td><td>304181.0</td></tr><tr><td>cort</td><td>acustic</td><td>ad</td><td>ad810</td><td>418538.0</td></tr><tr><td>cort</td><td>acustic</td><td>earth</td><td>null</td><td>998794.0</td></tr><tr><td>cort</td><td>acustic</td><td>earth</td><td>null</td><td>812990.0</td></tr><tr><td>cort</td><td>acustic</td><td>ad</td><td>ad810</td><td>549990.0</td></tr><tr><td>cort</td><td>acustic</td><td>ad</td><td>ad810</td><td>332169.0</td></tr><tr><td>cort</td><td>acustic</td><td>mr</td><td>mr710</td><td>839461.0</td></tr><tr><td>cort</td><td>acustic</td><td>af</td><td>af510</td><td>304181.0</td></tr><tr><td>cort</td><td>acustic</td><td>ad</td><td>ad810</td><td>418538.0</td></tr><tr><td>cort</td><td>acustic</td><td>earth</td><td>null</td><td>768610.0</td></tr><tr><td>cort</td><td>acustic</td><td>mr</td><td>mr710</td><td>1120990.0</td></tr><tr><td>cort</td><td>acustic</td><td>earth</td><td>null</td><td>997990.0</td></tr><tr><td>cort</td><td>acustic</td><td>ad</td><td>ad810</td><td>584990.0</td></tr><tr><td>cort</td><td>acustic</td><td>ad</td><td>ad810</td><td>423990.0</td></tr><tr><td>cort</td><td>acustic</td><td>af</td><td>af590</td><td>622188.0</td></tr><tr><td>cort</td><td>acustic</td><td>earth</td><td>null</td><td>768610.0</td></tr><tr><td>cort</td><td>acustic</td><td>earth</td><td>null</td><td>608362.0</td></tr><tr><td>cort</td><td>acustic</td><td>earth</td><td>null</td><td>608362.0</td></tr><tr><td>cort</td><td>acustic</td><td>earth</td><td>null</td><td>812990.0</td></tr><tr><td>cort</td><td>acustic</td><td>earth</td><td>null</td><td>998794.0</td></tr><tr><td>cort</td><td>acustic</td><td>ad</td><td>ad810</td><td>449990.0</td></tr><tr><td>cort</td><td>acustic</td><td>ad</td><td>ad810</td><td>313312.0</td></tr><tr><td>cort</td><td>acustic</td><td>ad</td><td>ad810</td><td>423990.0</td></tr><tr><td>cort</td><td>acustic</td><td>af</td><td>af510</td><td>315045.0</td></tr><tr><td>cort</td><td>acustic</td><td>af</td><td>af510</td><td>428990.0</td></tr><tr><td>cort</td><td>acustic</td><td>af</td><td>af510</td><td>417990.0</td></tr><tr><td>cort</td><td>acustic</td><td>ad</td><td>ad810</td><td>335784.0</td></tr><tr><td>cort</td><td>acustic</td><td>ad</td><td>ad810</td><td>313312.0</td></tr><tr><td>cort</td><td>acustic</td><td>earth</td><td>null</td><td>768610.0</td></tr><tr><td>cort</td><td>acustic</td><td>earth</td><td>null</td><td>812990.0</td></tr><tr><td>cort</td><td>acustic</td><td>earth</td><td>null</td><td>540568.0</td></tr><tr><td>cort</td><td>acustic</td><td>ad</td><td>ad810</td><td>360308.0</td></tr><tr><td>cort</td><td>acustic</td><td>earth</td><td>null</td><td>412817.0</td></tr><tr><td>cort</td><td>acustic</td><td>mr</td><td>mr600</td><td>763005.0</td></tr><tr><td>cort</td><td>acustic</td><td>mr</td><td>mr710</td><td>839461.0</td></tr><tr><td>cort</td><td>acustic</td><td>ad</td><td>ad810</td><td>518996.0</td></tr><tr><td>cort</td><td>acustic</td><td>ad</td><td>ad810</td><td>418500.0</td></tr><tr><td>cort</td><td>acustic</td><td>ad</td><td>ad880</td><td>437409.0</td></tr><tr><td>cort</td><td>acustic</td><td>ad</td><td>ad880</td><td>614810.0</td></tr><tr><td>cort</td><td>acustic</td><td>af</td><td>af510</td><td>520297.0</td></tr><tr><td>cort</td><td>acustic</td><td>ad</td><td>ad810</td><td>388500.0</td></tr><tr><td>cort</td><td>acustic</td><td>ad</td><td>ad810</td><td>418545.0</td></tr><tr><td>cort</td><td>acustic</td><td>th</td><td>th100</td><td>608362.0</td></tr><tr><td>cort</td><td>acustic</td><td>mr</td><td>mr730</td><td>246077.0</td></tr><tr><td>cort</td><td>acustic</td><td>ad</td><td>ad810</td><td>418538.0</td></tr><tr><td>cort</td><td>acustic</td><td>af</td><td>af510</td><td>491782.0</td></tr><tr><td>cort</td><td>acustic</td><td>earth</td><td>null</td><td>385164.0</td></tr><tr><td>cort</td><td>acustic</td><td>earth</td><td>null</td><td>470059.0</td></tr><tr><td>cort</td><td>acustic</td><td>earth</td><td>null</td><td>480109.0</td></tr><tr><td>cort</td><td>acustic</td><td>earth</td><td>null</td><td>442939.0</td></tr><tr><td>cort</td><td>acustic</td><td>ad</td><td>ad810</td><td>313312.0</td></tr><tr><td>cort</td><td>acustic</td><td>earth</td><td>null</td><td>767457.0</td></tr><tr><td>cort</td><td>acustic</td><td>af</td><td>af510</td><td>347301.0</td></tr><tr><td>cort</td><td>acustic</td><td>ad</td><td>ad810</td><td>368031.0</td></tr><tr><td>cort</td><td>acustic</td><td>earth</td><td>null</td><td>819513.0</td></tr><tr><td>cort</td><td>acustic</td><td>af</td><td>af510</td><td>374491.0</td></tr><tr><td>cort</td><td>acustic</td><td>earth</td><td>null</td><td>474740.0</td></tr><tr><td>squier</td><td>electric</td><td>bullet</td><td>telecaster</td><td>521039.0</td></tr><tr><td>squier</td><td>electric</td><td>bullet</td><td>stratocaster</td><td>453077.0</td></tr><tr><td>squier</td><td>electric</td><td>bullet</td><td>stratocaster</td><td>453077.0</td></tr><tr><td>squier</td><td>electric</td><td>affinity</td><td>stratocaster</td><td>786028.0</td></tr><tr><td>squier</td><td>electric</td><td>bullet</td><td>telecaster</td><td>521039.0</td></tr><tr><td>squier</td><td>electric</td><td>contemporary</td><td>telecaster</td><td>184825.0</td></tr><tr><td>squier</td><td>electric</td><td>affinity</td><td>stratocaster</td><td>786028.0</td></tr><tr><td>squier</td><td>electric</td><td>affinity</td><td>stratocaster</td><td>786028.0</td></tr><tr><td>squier</td><td>electric</td><td>bullet</td><td>stratocaster</td><td>453639.0</td></tr><tr><td>squier</td><td>electric</td><td>affinity</td><td>telecaster</td><td>829264.0</td></tr><tr><td>squier</td><td>electric</td><td>affinity</td><td>telecaster</td><td>598357.0</td></tr><tr><td>squier</td><td>electric</td><td>affinity</td><td>stratocaster</td><td>683506.0</td></tr><tr><td>squier</td><td>electric</td><td>affinity</td><td>stratocaster</td><td>598357.0</td></tr><tr><td>squier</td><td>electric</td><td>affinity</td><td>stratocaster</td><td>683502.0</td></tr><tr><td>squier</td><td>electric</td><td>affinity</td><td>telecaster</td><td>523238.0</td></tr><tr><td>squier</td><td>electric</td><td>bullet</td><td>stratocaster</td><td>521039.0</td></tr><tr><td>squier</td><td>electric</td><td>affinity</td><td>stratocaster</td><td>683506.0</td></tr><tr><td>squier</td><td>electric</td><td>bullet</td><td>stratocaster</td><td>521039.0</td></tr><tr><td>squier</td><td>electric</td><td>bullet</td><td>telecaster</td><td>453077.0</td></tr><tr><td>squier</td><td>electric</td><td>bullet</td><td>telecaster</td><td>696516.0</td></tr><tr><td>squier</td><td>electric</td><td>affinity</td><td>telecaster</td><td>544998.0</td></tr><tr><td>squier</td><td>electric</td><td>bullet</td><td>telecaster</td><td>597498.0</td></tr><tr><td>squier</td><td>electric</td><td>bullet</td><td>telecaster</td><td>549698.0</td></tr><tr><td>squier</td><td>electric</td><td>contemporary</td><td>stratocaster</td><td>1001315.0</td></tr><tr><td>squier</td><td>electric</td><td>bullet</td><td>stratocaster</td><td>599000.0</td></tr><tr><td>squier</td><td>electric</td><td>bullet</td><td>telecaster</td><td>605666.0</td></tr><tr><td>squier</td><td>electric</td><td>affinity</td><td>null</td><td>829264.0</td></tr><tr><td>squier</td><td>electric</td><td>bullet</td><td>stratocaster</td><td>569999.0</td></tr><tr><td>squier</td><td>electric</td><td>contemporary</td><td>telecaster</td><td>184825.0</td></tr><tr><td>squier</td><td>electric</td><td>bullet</td><td>stratocaster</td><td>545000.0</td></tr><tr><td>squier</td><td>electric</td><td>affinity</td><td>telecaster</td><td>626747.0</td></tr><tr><td>squier</td><td>electric</td><td>contemporary</td><td>telecaster</td><td>899997.0</td></tr><tr><td>squier</td><td>electric</td><td>contemporary</td><td>stratocaster</td><td>833770.0</td></tr><tr><td>squier</td><td>electric</td><td>bullet</td><td>telecaster</td><td>669198.0</td></tr><tr><td>squier</td><td>electric</td><td>affinity</td><td>telecaster</td><td>860202.0</td></tr><tr><td>squier</td><td>electric</td><td>affinity</td><td>telecaster</td><td>721099.0</td></tr><tr><td>squier</td><td>electric</td><td>bullet</td><td>telecaster</td><td>716998.0</td></tr><tr><td>squier</td><td>electric</td><td>affinity</td><td>stratocaster</td><td>683502.0</td></tr><tr><td>squier</td><td>electric</td><td>bullet</td><td>telecaster</td><td>716998.0</td></tr><tr><td>squier</td><td>electric</td><td>bullet</td><td>telecaster</td><td>549698.0</td></tr><tr><td>squier</td><td>electric</td><td>bullet</td><td>telecaster</td><td>949999.0</td></tr><tr><td>squier</td><td>electric</td><td>contemporary</td><td>stratocaster</td><td>1500036.0</td></tr><tr><td>squier</td><td>electric</td><td>affinity</td><td>telecaster</td><td>1193566.0</td></tr><tr><td>squier</td><td>electric</td><td>affinity</td><td>stratocaster</td><td>683502.0</td></tr><tr><td>squier</td><td>electric</td><td>affinity</td><td>telecaster</td><td>788681.0</td></tr><tr><td>squier</td><td>electric</td><td>affinity</td><td>stratocaster</td><td>786027.0</td></tr><tr><td>squier</td><td>electric</td><td>affinity</td><td>telecaster</td><td>749999.0</td></tr><tr><td>squier</td><td>electric</td><td>affinity</td><td>null</td><td>721099.0</td></tr><tr><td>squier</td><td>electric</td><td>affinity</td><td>telecaster</td><td>829264.0</td></tr><tr><td>squier</td><td>electric</td><td>affinity</td><td>telecaster</td><td>906984.0</td></tr><tr><td>squier</td><td>electric</td><td>affinity</td><td>stratocaster</td><td>958045.0</td></tr><tr><td>squier</td><td>electric</td><td>affinity</td><td>telecaster</td><td>721099.0</td></tr><tr><td>squier</td><td>electric</td><td>affinity</td><td>telecaster</td><td>958045.0</td></tr><tr><td>squier</td><td>electric</td><td>affinity</td><td>stratocaster</td><td>829265.0</td></tr><tr><td>squier</td><td>electric</td><td>contemporary</td><td>stratocaster</td><td>1350032.0</td></tr><tr><td>squier</td><td>electric</td><td>affinity</td><td>stratocaster</td><td>786028.0</td></tr><tr><td>squier</td><td>electric</td><td>affinity</td><td>telecaster</td><td>626747.0</td></tr><tr><td>squier</td><td>electric</td><td>affinity</td><td>telecaster</td><td>785399.0</td></tr><tr><td>squier</td><td>electric</td><td>bullet</td><td>telecaster</td><td>477998.0</td></tr><tr><td>squier</td><td>electric</td><td>contemporary</td><td>null</td><td>287506.0</td></tr><tr><td>squier</td><td>electric</td><td>bullet</td><td>stratocaster</td><td>566035.0</td></tr><tr><td>squier</td><td>electric</td><td>affinity</td><td>stratocaster</td><td>958045.0</td></tr><tr><td>squier</td><td>electric</td><td>affinity</td><td>telecaster</td><td>869549.0</td></tr><tr><td>squier</td><td>electric</td><td>affinity</td><td>null</td><td>829264.0</td></tr><tr><td>squier</td><td>electric</td><td>contemporary</td><td>telecaster</td><td>1034997.0</td></tr><tr><td>squier</td><td>electric</td><td>affinity</td><td>telecaster</td><td>721099.0</td></tr><tr><td>squier</td><td>electric</td><td>bullet</td><td>telecaster</td><td>453077.0</td></tr><tr><td>squier</td><td>electric</td><td>contemporary</td><td>stratocaster</td><td>945307.0</td></tr><tr><td>squier</td><td>electric</td><td>contemporary</td><td>stratocaster</td><td>1552537.0</td></tr><tr><td>squier</td><td>electric</td><td>affinity</td><td>telecaster</td><td>829264.0</td></tr><tr><td>squier</td><td>electric</td><td>affinity</td><td>stratocaster</td><td>958045.0</td></tr><tr><td>squier</td><td>electric</td><td>contemporary</td><td>telecaster</td><td>899997.0</td></tr><tr><td>squier</td><td>electric</td><td>bullet</td><td>telecaster</td><td>521039.0</td></tr><tr><td>squier</td><td>electric</td><td>affinity</td><td>stratocaster</td><td>860202.0</td></tr><tr><td>squier</td><td>electric</td><td>affinity</td><td>telecaster</td><td>829264.0</td></tr><tr><td>squier</td><td>electric</td><td>bullet</td><td>telecaster</td><td>477998.0</td></tr><tr><td>squier</td><td>electric</td><td>affinity</td><td>stratocaster</td><td>901375.0</td></tr><tr><td>squier</td><td>electric</td><td>bullet</td><td>telecaster</td><td>597498.0</td></tr><tr><td>squier</td><td>electric</td><td>contemporary</td><td>telecaster</td><td>1108955.0</td></tr><tr><td>squier</td><td>electric</td><td>contemporary</td><td>telecaster</td><td>964308.0</td></tr><tr><td>squier</td><td>electric</td><td>affinity</td><td>stratocaster</td><td>829265.0</td></tr><tr><td>squier</td><td>electric</td><td>affinity</td><td>stratocaster</td><td>683502.0</td></tr><tr><td>squier</td><td>electric</td><td>bullet</td><td>stratocaster</td><td>508227.0</td></tr><tr><td>squier</td><td>electric</td><td>contemporary</td><td>stratocaster</td><td>928607.0</td></tr><tr><td>squier</td><td>electric</td><td>affinity</td><td>null</td><td>829264.0</td></tr><tr><td>squier</td><td>electric</td><td>contemporary</td><td>telecaster</td><td>1124997.0</td></tr><tr><td>squier</td><td>electric</td><td>affinity</td><td>stratocaster</td><td>829265.0</td></tr><tr><td>squier</td><td>electric</td><td>affinity</td><td>stratocaster</td><td>721100.0</td></tr><tr><td>squier</td><td>electric</td><td>affinity</td><td>telecaster</td><td>560999.0</td></tr><tr><td>squier</td><td>electric</td><td>contemporary</td><td>telecaster</td><td>1124778.0</td></tr><tr><td>squier</td><td>electric</td><td>affinity</td><td>stratocaster</td><td>1033058.0</td></tr><tr><td>squier</td><td>electric</td><td>affinity</td><td>stratocaster</td><td>860202.0</td></tr><tr><td>squier</td><td>electric</td><td>affinity</td><td>stratocaster</td><td>1399349.0</td></tr><tr><td>squier</td><td>electric</td><td>affinity</td><td>telecaster</td><td>860202.0</td></tr><tr><td>squier</td><td>electric</td><td>bullet</td><td>stratocaster</td><td>453077.0</td></tr><tr><td>squier</td><td>electric</td><td>bullet</td><td>stratocaster</td><td>521038.0</td></tr><tr><td>squier</td><td>electric</td><td>affinity</td><td>stratocaster</td><td>998970.0</td></tr><tr><td>squier</td><td>electric</td><td>affinity</td><td>telecaster</td><td>1044999.0</td></tr><tr><td>squier</td><td>electric</td><td>affinity</td><td>stratocaster</td><td>721100.0</td></tr><tr><td>squier</td><td>electric</td><td>affinity</td><td>stratocaster</td><td>1082951.0</td></tr><tr><td>squier</td><td>electric</td><td>contemporary</td><td>telecaster</td><td>899997.0</td></tr><tr><td>squier</td><td>electric</td><td>affinity</td><td>stratocaster</td><td>1517855.0</td></tr><tr><td>squier</td><td>electric</td><td>affinity</td><td>telecaster</td><td>1329999.0</td></tr><tr><td>squier</td><td>electric</td><td>affinity</td><td>stratocaster</td><td>829265.0</td></tr><tr><td>squier</td><td>electric</td><td>affinity</td><td>telecaster</td><td>829264.0</td></tr><tr><td>squier</td><td>electric</td><td>affinity</td><td>telecaster</td><td>1443359.0</td></tr><tr><td>squier</td><td>electric</td><td>affinity</td><td>telecaster</td><td>958045.0</td></tr><tr><td>squier</td><td>electric</td><td>affinity</td><td>stratocaster</td><td>1193566.0</td></tr><tr><td>squier</td><td>electric</td><td>bullet</td><td>telecaster</td><td>620927.0</td></tr><tr><td>squier</td><td>electric</td><td>bullet</td><td>telecaster</td><td>696516.0</td></tr><tr><td>squier</td><td>electric</td><td>bullet</td><td>stratocaster</td><td>866015.0</td></tr><tr><td>squier</td><td>electric</td><td>classic vibe</td><td>telecaster</td><td>1872902.0</td></tr><tr><td>squier</td><td>electric</td><td>bullet</td><td>null</td><td>605666.0</td></tr><tr><td>squier</td><td>electric</td><td>affinity</td><td>null</td><td>983545.0</td></tr><tr><td>squier</td><td>electric</td><td>affinity</td><td>stratocaster</td><td>721100.0</td></tr><tr><td>squier</td><td>electric</td><td>affinity</td><td>stratocaster</td><td>721100.0</td></tr><tr><td>squier</td><td>electric</td><td>affinity</td><td>telecaster</td><td>361609.0</td></tr><tr><td>squier</td><td>electric</td><td>classic vibe</td><td>telecaster</td><td>1140028.0</td></tr><tr><td>squier</td><td>electric</td><td>classic vibe</td><td>telecaster</td><td>1628611.0</td></tr><tr><td>squier</td><td>electric</td><td>classic vibe</td><td>telecaster</td><td>1447835.0</td></tr><tr><td>squier</td><td>electric</td><td>bullet</td><td>stratocaster</td><td>669116.0</td></tr><tr><td>squier</td><td>electric</td><td>affinity</td><td>telecaster</td><td>544998.0</td></tr><tr><td>squier</td><td>electric</td><td>affinity</td><td>telecaster</td><td>729980.0</td></tr><tr><td>squier</td><td>electric</td><td>affinity</td><td>telecaster</td><td>601724.0</td></tr><tr><td>squier</td><td>electric</td><td>classic vibe</td><td>null</td><td>3249159.0</td></tr><tr><td>squier</td><td>electric</td><td>classic vibe</td><td>stratocaster</td><td>1659000.0</td></tr><tr><td>squier</td><td>electric</td><td>classic vibe</td><td>stratocaster</td><td>1652000.0</td></tr><tr><td>squier</td><td>electric</td><td>classic vibe</td><td>telecaster</td><td>1666000.0</td></tr><tr><td>squier</td><td>electric</td><td>bullet</td><td>telecaster</td><td>549698.0</td></tr><tr><td>squier</td><td>electric</td><td>classic vibe</td><td>telecaster</td><td>1628611.0</td></tr><tr><td>squier</td><td>electric</td><td>classic vibe</td><td>telecaster</td><td>1872902.0</td></tr></tbody></table></div>"
      ]
     },
     "metadata": {
      "application/vnd.databricks.v1+output": {
       "addedWidgets": {},
       "aggData": [],
       "aggError": "",
       "aggOverflow": false,
       "aggSchema": [],
       "aggSeriesLimitReached": false,
       "aggType": "",
       "arguments": {},
       "columnCustomDisplayInfos": {},
       "data": [
        [
         "yamaha",
         "classic",
         "c",
         "c40",
         298000.0
        ],
        [
         "yamaha",
         "electric",
         "pacifica",
         "012",
         538012.0
        ],
        [
         "yamaha",
         "classic",
         "c",
         "c40",
         234797.0
        ],
        [
         "yamaha",
         "electric",
         "pacifica",
         "112v",
         1110833.0
        ],
        [
         "yamaha",
         "acustic",
         "fs",
         null,
         620831.0
        ],
        [
         "yamaha",
         "classic",
         "c",
         "c70",
         329352.0
        ],
        [
         "yamaha",
         "electric",
         "pacifica",
         "012",
         642015.0
        ],
        [
         "yamaha",
         "acustic",
         "f",
         "f370",
         577862.0
        ],
        [
         "yamaha",
         "classic",
         "c",
         "c40",
         318044.0
        ],
        [
         "yamaha",
         "classic",
         "c",
         "c40",
         251265.0
        ],
        [
         "yamaha",
         "electric",
         "pacifica",
         "012",
         625965.0
        ],
        [
         "yamaha",
         "classic",
         "c",
         "c40",
         234797.0
        ],
        [
         "yamaha",
         "classic",
         "c",
         "c40",
         260000.0
        ],
        [
         "yamaha",
         "electric",
         "pacifica",
         "112v",
         1110833.0
        ],
        [
         "yamaha",
         "classic",
         "c",
         "c40",
         259855.0
        ],
        [
         "yamaha",
         "acustic",
         "fg",
         "fs800",
         589326.0
        ],
        [
         "yamaha",
         "classic",
         "c",
         "c40",
         244000.0
        ],
        [
         "yamaha",
         "acustic",
         "f",
         "f310",
         537017.0
        ],
        [
         "yamaha",
         "acustic",
         "fx",
         "fx310",
         606784.0
        ],
        [
         "yamaha",
         "classic",
         "c",
         "c80",
         559999.0
        ],
        [
         "yamaha",
         "acustic",
         "apx",
         "apx600",
         1128589.0
        ],
        [
         "yamaha",
         "electric",
         "pacifica",
         "012",
         535013.0
        ],
        [
         "yamaha",
         "electric",
         "revstar",
         null,
         2316481.0
        ],
        [
         "yamaha",
         "acustic",
         "fg",
         "fgx800c",
         896060.0
        ],
        [
         "yamaha",
         "classic",
         "c",
         "c40",
         358044.0
        ],
        [
         "yamaha",
         "classic",
         "c",
         "c40",
         293496.0
        ],
        [
         "yamaha",
         "classic",
         "c",
         "c40",
         278000.0
        ],
        [
         "yamaha",
         "classic",
         "c",
         "c80",
         515179.0
        ],
        [
         "yamaha",
         "electric",
         "pacifica",
         "012",
         625965.0
        ],
        [
         "yamaha",
         "acustic",
         "fg",
         "fg830",
         153767.0
        ],
        [
         "yamaha",
         "classic",
         "c",
         "c70",
         329352.0
        ],
        [
         "yamaha",
         "acustic",
         "f",
         "f310",
         598900.0
        ],
        [
         "yamaha",
         "electric",
         "pacifica",
         "012",
         104327.0
        ],
        [
         "yamaha",
         "acustic",
         "fx",
         "fx370",
         990774.0
        ],
        [
         "yamaha",
         "electric",
         "revstar",
         null,
         2316481.0
        ],
        [
         "yamaha",
         "electric",
         "pacifica",
         "012",
         100221.0
        ],
        [
         "yamaha",
         "acustic",
         "fs",
         null,
         607321.0
        ],
        [
         "yamaha",
         "electric",
         "pacifica",
         "012",
         535013.0
        ],
        [
         "yamaha",
         "acustic",
         "apx",
         "apx600",
         1144193.0
        ],
        [
         "yamaha",
         "electric",
         "revstar",
         "professional",
         6108056.0
        ],
        [
         "yamaha",
         "acustic",
         "fx",
         "fx310",
         118322.0
        ],
        [
         "yamaha",
         "acustic",
         "fg",
         "fg800",
         593326.0
        ],
        [
         "yamaha",
         "electric",
         "pacifica",
         "012",
         991664.0
        ],
        [
         "yamaha",
         "acustic",
         "fx",
         "fx370",
         165129.0
        ],
        [
         "yamaha",
         "classic",
         "c",
         "c40",
         254300.0
        ],
        [
         "yamaha",
         "acustic",
         "fx",
         "fx370",
         781984.0
        ],
        [
         "yamaha",
         "acustic",
         "apx",
         "apx600",
         1000875.0
        ],
        [
         "yamaha",
         "classic",
         "c",
         "c40",
         234797.0
        ],
        [
         "yamaha",
         "acustic",
         "fx",
         "fx370",
         781984.0
        ],
        [
         "yamaha",
         "classic",
         "c",
         "c40",
         234800.0
        ],
        [
         "yamaha",
         "acustic",
         "fx",
         "fx370",
         914921.0
        ],
        [
         "yamaha",
         "acustic",
         "fx",
         "fx370",
         990774.0
        ],
        [
         "yamaha",
         "electric",
         "pacifica",
         null,
         1134929.0
        ],
        [
         "yamaha",
         "acustic",
         "f",
         "f370",
         530126.0
        ],
        [
         "yamaha",
         "electric",
         "pacifica",
         null,
         1371589.0
        ],
        [
         "yamaha",
         "classic",
         "c",
         "c40",
         333000.0
        ],
        [
         "yamaha",
         "electric",
         "pacifica",
         null,
         2933109.0
        ],
        [
         "yamaha",
         "acustic",
         "f",
         "f370",
         753734.0
        ],
        [
         "yamaha",
         "electric",
         "revstar",
         null,
         3474721.0
        ],
        [
         "yamaha",
         "electric",
         "pacifica",
         "012",
         1304705.0
        ],
        [
         "yamaha",
         "electric",
         "revstar",
         "element",
         1528366.0
        ],
        [
         "yamaha",
         "acustic",
         "fx",
         "fx370",
         781984.0
        ],
        [
         "yamaha",
         "electric",
         "pacifica",
         "012",
         1013891.0
        ],
        [
         "yamaha",
         "acustic",
         "f",
         "f370",
         703485.0
        ],
        [
         "yamaha",
         "acustic",
         "fg",
         "fs800",
         589326.0
        ],
        [
         "yamaha",
         "acustic",
         "fg",
         "fgx800c",
         991666.0
        ],
        [
         "yamaha",
         "classic",
         "c",
         "c40",
         270017.0
        ],
        [
         "yamaha",
         "classic",
         "c",
         "c40",
         318100.0
        ],
        [
         "yamaha",
         "acustic",
         "fx",
         "fx370",
         914921.0
        ],
        [
         "yamaha",
         "electric",
         "revstar",
         null,
         2443887.0
        ],
        [
         "yamaha",
         "classic",
         "c",
         "c80",
         619990.0
        ],
        [
         "yamaha",
         "acustic",
         "fx",
         "fx310",
         640157.0
        ],
        [
         "yamaha",
         "classic",
         "c",
         "c80",
         465509.0
        ],
        [
         "yamaha",
         "electric",
         "revstar",
         null,
         2721865.0
        ],
        [
         "yamaha",
         "classic",
         "c",
         "c40",
         469990.0
        ],
        [
         "yamaha",
         "electric",
         "revstar",
         null,
         2895601.0
        ],
        [
         "yamaha",
         "acustic",
         "fg",
         "fsx800c",
         1207352.0
        ],
        [
         "yamaha",
         "acustic",
         "apx",
         null,
         974642.0
        ],
        [
         "yamaha",
         "electric",
         "pacifica",
         "012",
         1013891.0
        ],
        [
         "yamaha",
         "acustic",
         "fg",
         "fs800",
         795776.0
        ],
        [
         "yamaha",
         "electric",
         "pacifica",
         "012",
         1132600.0
        ],
        [
         "yamaha",
         "acustic",
         "f",
         "f310",
         530126.0
        ],
        [
         "yamaha",
         "acustic",
         "f",
         "f310",
         571977.0
        ],
        [
         "yamaha",
         "electric",
         "revstar",
         null,
         2721865.0
        ],
        [
         "yamaha",
         "acustic",
         "f",
         "f310",
         696320.0
        ],
        [
         "yamaha",
         "acustic",
         "fg",
         "fsx800c",
         1207352.0
        ],
        [
         "yamaha",
         "classic",
         "c",
         "c70",
         373468.0
        ],
        [
         "yamaha",
         "electric",
         "pacifica",
         null,
         1362988.0
        ],
        [
         "yamaha",
         "electric",
         "revstar",
         null,
         2934981.0
        ],
        [
         "yamaha",
         "acustic",
         "fs",
         null,
         1971121.0
        ],
        [
         "yamaha",
         "electric",
         "revstar",
         null,
         2721865.0
        ],
        [
         "yamaha",
         "classic",
         "c",
         "c40",
         333000.0
        ],
        [
         "yamaha",
         "electric",
         "revstar",
         null,
         2443887.0
        ],
        [
         "yamaha",
         "acustic",
         "f",
         "f370",
         530126.0
        ],
        [
         "yamaha",
         "electric",
         "pacifica",
         null,
         881673.0
        ],
        [
         "yamaha",
         "electric",
         "pacifica",
         null,
         798048.0
        ],
        [
         "yamaha",
         "acustic",
         "f",
         "f310",
         447514.0
        ],
        [
         "yamaha",
         "electric",
         "pacifica",
         null,
         1362990.0
        ],
        [
         "yamaha",
         "acustic",
         "fg",
         "fsx800c",
         1207352.0
        ],
        [
         "yamaha",
         "acustic",
         "fg",
         null,
         1769815.0
        ],
        [
         "yamaha",
         "electric",
         "pacifica",
         "012",
         611199.0
        ],
        [
         "yamaha",
         "acustic",
         "f",
         "f310",
         671272.0
        ],
        [
         "yamaha",
         "acustic",
         "fx",
         "fx370",
         918831.0
        ],
        [
         "yamaha",
         "electric",
         "revstar",
         null,
         2934981.0
        ],
        [
         "yamaha",
         "acustic",
         "apx",
         "apx600",
         1052204.0
        ],
        [
         "yamaha",
         "electric",
         "pacifica",
         "112v",
         991664.0
        ],
        [
         "yamaha",
         "electric",
         "pacifica",
         null,
         964342.0
        ],
        [
         "yamaha",
         "electric",
         "revstar",
         null,
         2316481.0
        ],
        [
         "yamaha",
         "acustic",
         "apx",
         "apx700ii",
         1904603.0
        ],
        [
         "yamaha",
         "electric",
         "pacifica",
         "012",
         547407.0
        ],
        [
         "yamaha",
         "acustic",
         "apx",
         null,
         946720.0
        ],
        [
         "yamaha",
         "acustic",
         "fs",
         null,
         713602.0
        ],
        [
         "yamaha",
         "electric",
         "revstar",
         null,
         2443887.0
        ],
        [
         "yamaha",
         "acustic",
         "f",
         "f310",
         636654.0
        ],
        [
         "yamaha",
         "acustic",
         "fg",
         null,
         2125455.0
        ],
        [
         "yamaha",
         "electric",
         "pacifica",
         "112v",
         818588.0
        ],
        [
         "yamaha",
         "acustic",
         "f",
         "f370",
         577862.0
        ],
        [
         "yamaha",
         "acustic",
         "f",
         "f310",
         511236.0
        ],
        [
         "yamaha",
         "acustic",
         "f",
         "f370",
         502489.0
        ],
        [
         "yamaha",
         "acustic",
         "f",
         "f370",
         628111.0
        ],
        [
         "yamaha",
         "acustic",
         "f",
         "f370",
         703485.0
        ],
        [
         "yamaha",
         "electric",
         "pacifica",
         "012",
         1132600.0
        ],
        [
         "yamaha",
         "acustic",
         "f",
         "f370",
         753734.0
        ],
        [
         "yamaha",
         "electric",
         "pacifica",
         null,
         849652.0
        ],
        [
         "yamaha",
         "acustic",
         "cpx",
         null,
         1124069.0
        ],
        [
         "yamaha",
         "acustic",
         "f",
         "f310",
         559393.0
        ],
        [
         "yamaha",
         "electric",
         "revstar",
         "professional",
         7335457.0
        ],
        [
         "yamaha",
         "acustic",
         "f",
         "f310",
         500372.0
        ],
        [
         "yamaha",
         "electric",
         "pacifica",
         null,
         1264018.0
        ],
        [
         "yamaha",
         "electric",
         "revstar",
         "element",
         1835488.0
        ],
        [
         "yamaha",
         "acustic",
         "apx",
         "apx600",
         902498.0
        ],
        [
         "yamaha",
         "electric",
         "revstar",
         null,
         3243073.0
        ],
        [
         "yamaha",
         "electric",
         "revstar",
         "professional",
         6802811.0
        ],
        [
         "yamaha",
         "acustic",
         "fs",
         null,
         750919.0
        ],
        [
         "yamaha",
         "acustic",
         "apx",
         "apx700ii",
         1511552.0
        ],
        [
         "yamaha",
         "electric",
         "revstar",
         null,
         2663953.0
        ],
        [
         "yamaha",
         "acustic",
         "cpx",
         null,
         1124060.0
        ],
        [
         "yamaha",
         "acustic",
         "fs",
         null,
         640723.0
        ],
        [
         "yamaha",
         "acustic",
         "f",
         "f310",
         590425.0
        ],
        [
         "yamaha",
         "electric",
         "pacifica",
         "012",
         662007.0
        ],
        [
         "yamaha",
         "acustic",
         "fg",
         null,
         1971121.0
        ],
        [
         "yamaha",
         "electric",
         "revstar",
         null,
         2721865.0
        ],
        [
         "yamaha",
         "electric",
         "revstar",
         null,
         2895601.0
        ],
        [
         "yamaha",
         "acustic",
         "apx",
         "apx700ii",
         1558142.0
        ],
        [
         "yamaha",
         "electric",
         "pacifica",
         null,
         1264020.0
        ],
        [
         "yamaha",
         "electric",
         "revstar",
         "element",
         1528366.0
        ],
        [
         "yamaha",
         "acustic",
         "f",
         "f310",
         621714.0
        ],
        [
         "yamaha",
         "acustic",
         "fs",
         null,
         625859.0
        ],
        [
         "yamaha",
         "acustic",
         "f",
         "f370",
         502489.0
        ],
        [
         "yamaha",
         "acustic",
         "fs",
         null,
         2125455.0
        ],
        [
         "yamaha",
         "electric",
         "revstar",
         "element",
         1835488.0
        ],
        [
         "yamaha",
         "acustic",
         "f",
         "f370",
         590425.0
        ],
        [
         "yamaha",
         "electric",
         "pacifica",
         null,
         1371589.0
        ],
        [
         "yamaha",
         "acustic",
         "f",
         "f370",
         628111.0
        ],
        [
         "yamaha",
         "electric",
         "pacifica",
         null,
         1047589.0
        ],
        [
         "yamaha",
         "acustic",
         "fs",
         "fsx800c",
         1320760.0
        ],
        [
         "yamaha",
         "electric",
         "pacifica",
         null,
         1371589.0
        ],
        [
         "yamaha",
         "acustic",
         "f",
         "f310",
         525830.0
        ],
        [
         "yamaha",
         "acustic",
         "fx",
         "fx370",
         824993.0
        ],
        [
         "yamaha",
         "electric",
         "revstar",
         "element",
         1702209.0
        ],
        [
         "yamaha",
         "acustic",
         "apx",
         null,
         1904603.0
        ],
        [
         "yamaha",
         "acustic",
         "f",
         "f370",
         590425.0
        ],
        [
         "yamaha",
         "electric",
         "revstar",
         null,
         2316481.0
        ],
        [
         "yamaha",
         "acustic",
         "apx",
         "apx600",
         868967.0
        ],
        [
         "yamaha",
         "acustic",
         "apx",
         "apx600",
         863151.0
        ],
        [
         "yamaha",
         "electric",
         "revstar",
         "element",
         1702209.0
        ],
        [
         "yamaha",
         "acustic",
         "fs",
         null,
         750919.0
        ],
        [
         "yamaha",
         "acustic",
         "f",
         "f310",
         447514.0
        ],
        [
         "yamaha",
         "electric",
         "pacifica",
         "012",
         535013.0
        ],
        [
         "yamaha",
         "acustic",
         "fx",
         "fx310",
         768795.0
        ],
        [
         "yamaha",
         "acustic",
         "f",
         "f370",
         590425.0
        ],
        [
         "yamaha",
         "acustic",
         "apx",
         null,
         1200016.0
        ],
        [
         "yamaha",
         "acustic",
         "f",
         "f370",
         530126.0
        ],
        [
         "yamaha",
         "acustic",
         "fs",
         null,
         640723.0
        ],
        [
         "yamaha",
         "acustic",
         "f",
         "f310",
         626520.0
        ],
        [
         "yamaha",
         "electric",
         "pacifica",
         null,
         701119.0
        ],
        [
         "yamaha",
         "acustic",
         "f",
         "f310",
         746057.0
        ],
        [
         "yamaha",
         "acustic",
         "apx",
         "apx600",
         1144193.0
        ],
        [
         "yamaha",
         "acustic",
         "apx",
         null,
         1511590.0
        ],
        [
         "yamaha",
         "acustic",
         "fs",
         null,
         713602.0
        ],
        [
         "yamaha",
         "electric",
         "pacifica",
         null,
         1030768.0
        ],
        [
         "yamaha",
         "acustic",
         "f",
         "f370",
         502489.0
        ],
        [
         "yamaha",
         "acustic",
         "fx",
         "fx370",
         824993.0
        ],
        [
         "yamaha",
         "acustic",
         "fx",
         "fx370",
         990774.0
        ],
        [
         "yamaha",
         "acustic",
         "fg",
         "fg800",
         799165.0
        ],
        [
         "yamaha",
         "acustic",
         "apx",
         "apx600",
         1052204.0
        ],
        [
         "yamaha",
         "acustic",
         "apx",
         "apx600",
         1128589.0
        ],
        [
         "yamaha",
         "acustic",
         "apx",
         "apx600",
         1248590.0
        ],
        [
         "yamaha",
         "acustic",
         "fx",
         "fx310",
         606784.0
        ],
        [
         "yamaha",
         "acustic",
         "fx",
         "fx370",
         781984.0
        ],
        [
         "yamaha",
         "acustic",
         "apx",
         "apx700ii",
         2445109.0
        ],
        [
         "yamaha",
         "acustic",
         "apx",
         "apx600",
         1128589.0
        ],
        [
         "yamaha",
         "acustic",
         "apx",
         "apx600",
         1128589.0
        ],
        [
         "yamaha",
         "acustic",
         "apx",
         "apx600",
         855449.0
        ],
        [
         "yamaha",
         "acustic",
         "f",
         "f310",
         497371.0
        ],
        [
         "yamaha",
         "acustic",
         "f",
         "f310",
         447514.0
        ],
        [
         "yamaha",
         "acustic",
         "apx",
         "apx600",
         1128589.0
        ],
        [
         "yamaha",
         "acustic",
         "apx",
         "apx600",
         1128589.0
        ],
        [
         "yamaha",
         "acustic",
         "f",
         "f310",
         595990.0
        ],
        [
         "yamaha",
         "acustic",
         "cpx",
         null,
         1432476.0
        ],
        [
         "yamaha",
         "acustic",
         "apx",
         "apx600",
         1128589.0
        ],
        [
         "yamaha",
         "acustic",
         "f",
         "f310",
         664189.0
        ],
        [
         "yamaha",
         "acustic",
         "apx",
         "apx600",
         1248590.0
        ],
        [
         "yamaha",
         "acustic",
         "apx",
         "apx700",
         1878752.0
        ],
        [
         "yamaha",
         "acustic",
         "cpx",
         null,
         1779829.0
        ],
        [
         "yamaha",
         "acustic",
         "fx",
         "fx370",
         789984.0
        ],
        [
         "yamaha",
         "acustic",
         "fs",
         null,
         607321.0
        ],
        [
         "yamaha",
         "acustic",
         "fx",
         "fx370",
         1117789.0
        ],
        [
         "yamaha",
         "acustic",
         "fs",
         null,
         640723.0
        ],
        [
         "yamaha",
         "electric",
         "pacifica",
         null,
         991664.0
        ],
        [
         "yamaha",
         "classic",
         "c",
         "c40",
         325000.0
        ],
        [
         "yamaha",
         "acustic",
         "f",
         "f370",
         502489.0
        ],
        [
         "yamaha",
         "acustic",
         "f",
         "f310",
         447514.0
        ],
        [
         "yamaha",
         "acustic",
         "fx",
         "fx370",
         781983.0
        ],
        [
         "yamaha",
         "acustic",
         "f",
         "f310",
         502839.0
        ],
        [
         "yamaha",
         "acustic",
         "apx",
         "apx600",
         1005152.0
        ],
        [
         "yamaha",
         "acustic",
         "fx",
         null,
         781984.0
        ],
        [
         "yamaha",
         "acustic",
         "f",
         "f310",
         455802.0
        ],
        [
         "yamaha",
         "acustic",
         "f",
         "f310",
         447514.0
        ],
        [
         "yamaha",
         "acustic",
         "fs",
         null,
         1737776.0
        ],
        [
         "yamaha",
         "electric",
         "pacifica",
         null,
         1120720.0
        ],
        [
         "yamaha",
         "acustic",
         "apx",
         "apx700ii",
         1738285.0
        ],
        [
         "yamaha",
         "acustic",
         "f",
         "f310",
         447514.0
        ],
        [
         "yamaha",
         "acustic",
         "fg",
         null,
         1372789.0
        ],
        [
         "yamaha",
         "acustic",
         "fx",
         null,
         1056740.0
        ],
        [
         "yamaha",
         "acustic",
         "fg",
         null,
         1372789.0
        ],
        [
         "yamaha",
         "acustic",
         "fg",
         null,
         2594990.0
        ],
        [
         "yamaha",
         "electric",
         "pacifica",
         null,
         656806.0
        ],
        [
         "yamaha",
         "acustic",
         "fs",
         null,
         2227166.0
        ],
        [
         "yamaha",
         "acustic",
         "cpx",
         null,
         1485420.0
        ],
        [
         "yamaha",
         "acustic",
         "apx",
         "apx600",
         1144193.0
        ],
        [
         "yamaha",
         "acustic",
         "c",
         "c80",
         1207352.0
        ],
        [
         "yamaha",
         "electric",
         "pacifica",
         "012",
         1796446.0
        ],
        [
         "yamaha",
         "electric",
         "pacifica",
         null,
         2993000.0
        ],
        [
         "yamaha",
         "electric",
         "pacifica",
         null,
         1032475.0
        ],
        [
         "yamaha",
         "acustic",
         "apx",
         null,
         711488.0
        ],
        [
         "yamaha",
         "electric",
         "revstar",
         null,
         3397304.0
        ],
        [
         "yamaha",
         "acustic",
         "fg",
         "fg800",
         868718.0
        ],
        [
         "yamaha",
         "acustic",
         "f",
         "f370",
         506524.0
        ],
        [
         "yamaha",
         "acustic",
         "apx",
         "apx700",
         2016116.0
        ],
        [
         "yamaha",
         "electric",
         "pacifica",
         null,
         775200.0
        ],
        [
         "yamaha",
         "acustic",
         "apx",
         "apx600",
         1153220.0
        ],
        [
         "yamaha",
         "acustic",
         "fg",
         null,
         1677549.0
        ],
        [
         "yamaha",
         "acustic",
         "fs",
         null,
         1188920.0
        ],
        [
         "yamaha",
         "electric",
         "revstar",
         null,
         2320600.0
        ],
        [
         "yamaha",
         "acustic",
         "apx",
         "apx600",
         855449.0
        ],
        [
         "yamaha",
         "electric",
         "pacifica",
         "012",
         538012.0
        ],
        [
         "yamaha",
         "acustic",
         "fx",
         null,
         816200.0
        ],
        [
         "yamaha",
         "classic",
         "c",
         "c70",
         449676.0
        ],
        [
         "yamaha",
         "acustic",
         "fx",
         null,
         1414219.0
        ],
        [
         "yamaha",
         "acustic",
         "f",
         "f370",
         789699.0
        ],
        [
         "yamaha",
         "electric",
         "pacifica",
         "012",
         726873.0
        ],
        [
         "yamaha",
         "acustic",
         "fx",
         null,
         785984.0
        ],
        [
         "yamaha",
         "acustic",
         "cpx",
         null,
         1436479.0
        ],
        [
         "yamaha",
         "acustic",
         "fs",
         null,
         819668.0
        ],
        [
         "yamaha",
         "acustic",
         "fg",
         null,
         1195601.0
        ],
        [
         "yamaha",
         "acustic",
         "apx",
         "apx600",
         855449.0
        ],
        [
         "yamaha",
         "electric",
         "pacifica",
         null,
         1036861.0
        ],
        [
         "yamaha",
         "electric",
         "revstar",
         null,
         2320600.0
        ],
        [
         "yamaha",
         "electric",
         "revstar",
         null,
         3578090.0
        ],
        [
         "yamaha",
         "acustic",
         "f",
         "f310",
         819963.0
        ],
        [
         "yamaha",
         "acustic",
         "fg",
         null,
         896060.0
        ],
        [
         "yamaha",
         "acustic",
         "fg",
         "fg830",
         1383911.0
        ],
        [
         "yamaha",
         "acustic",
         "fg",
         null,
         931180.0
        ],
        [
         "yamaha",
         "acustic",
         "cpx",
         null,
         958131.0
        ],
        [
         "yamaha",
         "acustic",
         "apx",
         "apx700ii",
         1879422.0
        ],
        [
         "yamaha",
         "acustic",
         "fs",
         null,
         1306800.0
        ],
        [
         "yamaha",
         "electric",
         "revstar",
         null,
         2240934.0
        ],
        [
         "yamaha",
         "acustic",
         "apx",
         "apx700",
         1511552.0
        ],
        [
         "yamaha",
         "acustic",
         "fg",
         null,
         1245137.0
        ],
        [
         "yamaha",
         "electric",
         "pacifica",
         null,
         901994.0
        ],
        [
         "yamaha",
         "electric",
         "revstar",
         null,
         1340900.0
        ],
        [
         "yamaha",
         "electric",
         "pacifica",
         "112v",
         1304705.0
        ],
        [
         "yamaha",
         "electric",
         "pacifica",
         null,
         774776.0
        ],
        [
         "yamaha",
         "acustic",
         "fs",
         "fs800",
         795776.0
        ],
        [
         "yamaha",
         "electric",
         "revstar",
         "element",
         2240934.0
        ],
        [
         "yamaha",
         "electric",
         "pacifica",
         "112v",
         1171459.0
        ],
        [
         "yamaha",
         "electric",
         "revstar",
         null,
         1448690.0
        ],
        [
         "yamaha",
         "classic",
         "c",
         "c80",
         465509.0
        ],
        [
         "yamaha",
         "electric",
         "pacifica",
         null,
         1259324.0
        ],
        [
         "yamaha",
         "acustic",
         "apx",
         "apx700ii",
         2245336.0
        ],
        [
         "yamaha",
         "electric",
         "pacifica",
         null,
         1134927.0
        ],
        [
         "yamaha",
         "electric",
         "pacifica",
         null,
         4057900.0
        ],
        [
         "yamaha",
         "electric",
         "pacifica",
         null,
         688673.0
        ],
        [
         "yamaha",
         "acustic",
         "fs",
         null,
         1677549.0
        ],
        [
         "yamaha",
         "electric",
         "revstar",
         null,
         2721865.0
        ],
        [
         "yamaha",
         "acustic",
         "f",
         "f370",
         789699.0
        ],
        [
         "yamaha",
         "acustic",
         "apx",
         "apx700",
         1419475.0
        ],
        [
         "yamaha",
         "acustic",
         "cpx",
         null,
         2220135.0
        ],
        [
         "yamaha",
         "acustic",
         "fg",
         null,
         2227166.0
        ],
        [
         "yamaha",
         "acustic",
         "apx",
         "apx700ii",
         1879422.0
        ],
        [
         "yamaha",
         "acustic",
         "fs",
         null,
         894000.0
        ],
        [
         "yamaha",
         "acustic",
         "f",
         "f310",
         610195.0
        ],
        [
         "yamaha",
         "acustic",
         "apx",
         "apx700ii",
         1415471.0
        ],
        [
         "yamaha",
         "classic",
         "c",
         "c80",
         465509.0
        ],
        [
         "yamaha",
         "classic",
         "c",
         "c70",
         329352.0
        ],
        [
         "yamaha",
         "acustic",
         "fs",
         null,
         607321.0
        ],
        [
         "yamaha",
         "electric",
         "revstar",
         null,
         2242309.0
        ],
        [
         "yamaha",
         "electric",
         "revstar",
         null,
         3578090.0
        ],
        [
         "yamaha",
         "acustic",
         "fg",
         null,
         1677549.0
        ],
        [
         "yamaha",
         "acustic",
         "fx",
         null,
         606784.0
        ],
        [
         "yamaha",
         "electric",
         "pacifica",
         "012",
         625965.0
        ],
        [
         "yamaha",
         "acustic",
         "f",
         "f310",
         450515.0
        ],
        [
         "yamaha",
         "classic",
         "c",
         "c40",
         432700.0
        ],
        [
         "yamaha",
         "classic",
         "c",
         "c80",
         627260.0
        ],
        [
         "yamaha",
         "classic",
         "c",
         "c40",
         348824.0
        ],
        [
         "yamaha",
         "electric",
         "pacifica",
         "112v",
         1304705.0
        ],
        [
         "yamaha",
         "electric",
         "pacifica",
         null,
         832704.0
        ],
        [
         "epiphone",
         "electric",
         "special",
         "les paul",
         93116.0
        ],
        [
         "epiphone",
         "electric",
         "special",
         "les paul",
         122590.0
        ],
        [
         "epiphone",
         "electric",
         "modern",
         "sg",
         141967.0
        ],
        [
         "epiphone",
         "electric",
         "modern",
         "sg",
         143202.0
        ],
        [
         "epiphone",
         "electric",
         "modern",
         "sg",
         143202.0
        ],
        [
         "epiphone",
         "electric",
         "modern",
         "sg",
         143202.0
        ],
        [
         "epiphone",
         "electric",
         "special",
         "sg",
         149374.0
        ],
        [
         "epiphone",
         "electric",
         "modern",
         "les paul",
         154395.0
        ],
        [
         "epiphone",
         "electric",
         "modern",
         "les paul",
         165423.0
        ],
        [
         "epiphone",
         "electric",
         "modern",
         "les paul",
         165423.0
        ],
        [
         "epiphone",
         "electric",
         "standard",
         "sg",
         165423.0
        ],
        [
         "epiphone",
         "electric",
         "custom",
         null,
         196684.0
        ],
        [
         "epiphone",
         "electric",
         "standard",
         "les paul",
         214803.0
        ],
        [
         "epiphone",
         "electric",
         "standard",
         "les paul",
         214803.0
        ],
        [
         "epiphone",
         "electric",
         "modern",
         "sg",
         242726.0
        ],
        [
         "epiphone",
         "electric",
         "modern",
         "sg",
         244398.0
        ],
        [
         "epiphone",
         "electric",
         "modern",
         "les paul",
         253649.0
        ],
        [
         "epiphone",
         "electric",
         "studio",
         "les paul",
         254932.0
        ],
        [
         "epiphone",
         "electric",
         "standard",
         "sg",
         282322.0
        ],
        [
         "epiphone",
         "electric",
         "modern",
         "les paul",
         329365.0
        ],
        [
         "epiphone",
         "electric",
         "melody maker",
         "les paul",
         375288.0
        ],
        [
         "epiphone",
         "electric",
         "melody maker",
         "les paul",
         375288.0
        ],
        [
         "epiphone",
         "electric",
         "melody maker",
         "les paul",
         375288.0
        ],
        [
         "epiphone",
         "electric",
         "melody maker",
         "les paul",
         375288.0
        ],
        [
         "epiphone",
         "electric",
         "melody maker",
         "les paul",
         416598.0
        ],
        [
         "epiphone",
         "electric",
         "melody maker",
         "les paul",
         431582.0
        ],
        [
         "epiphone",
         "electric",
         "melody maker",
         "les paul",
         431582.0
        ],
        [
         "epiphone",
         "electric",
         "special",
         "les paul",
         474048.0
        ],
        [
         "epiphone",
         "electric",
         "special",
         "les paul",
         474048.0
        ],
        [
         "epiphone",
         "electric",
         "special",
         "les paul",
         474048.0
        ],
        [
         "epiphone",
         "electric",
         "special",
         "les paul",
         474048.0
        ],
        [
         "epiphone",
         "electric",
         "melody maker",
         "les paul",
         480368.0
        ],
        [
         "epiphone",
         "electric",
         "melody maker",
         null,
         491586.0
        ],
        [
         "epiphone",
         "electric",
         "special",
         "les paul",
         524839.0
        ],
        [
         "epiphone",
         "electric",
         "special",
         "les paul",
         526229.0
        ],
        [
         "epiphone",
         "electric",
         "standard",
         "les paul",
         543576.0
        ],
        [
         "epiphone",
         "electric",
         "special",
         "les paul",
         545156.0
        ],
        [
         "epiphone",
         "electric",
         "special",
         "les paul",
         545156.0
        ],
        [
         "epiphone",
         "electric",
         "special",
         "les paul",
         545156.0
        ],
        [
         "epiphone",
         "electric",
         "special",
         null,
         557007.0
        ],
        [
         "epiphone",
         "electric",
         "special",
         "les paul",
         606781.0
        ],
        [
         "epiphone",
         "electric",
         "special",
         "les paul",
         606781.0
        ],
        [
         "epiphone",
         "electric",
         "special",
         "les paul",
         606782.0
        ],
        [
         "epiphone",
         "electric",
         "studio",
         "les paul",
         632065.0
        ],
        [
         "epiphone",
         "electric",
         "studio",
         "les paul",
         632065.0
        ],
        [
         "epiphone",
         "electric",
         "studio",
         "les paul",
         632065.0
        ],
        [
         "epiphone",
         "electric",
         "studio",
         "les paul",
         632065.0
        ],
        [
         "epiphone",
         "electric",
         "studio",
         "les paul",
         632065.0
        ],
        [
         "epiphone",
         "electric",
         "studio",
         "les paul",
         632065.0
        ],
        [
         "epiphone",
         "electric",
         "studio",
         "les paul",
         632065.0
        ],
        [
         "epiphone",
         "electric",
         "studio",
         "les paul",
         632065.0
        ],
        [
         "epiphone",
         "electric",
         "melody maker",
         "les paul",
         637990.0
        ],
        [
         "epiphone",
         "electric",
         "special",
         "les paul",
         663668.0
        ],
        [
         "epiphone",
         "electric",
         "special",
         "les paul",
         663668.0
        ],
        [
         "epiphone",
         "electric",
         "studio",
         "les paul",
         666828.0
        ],
        [
         "epiphone",
         "electric",
         "special",
         null,
         671569.0
        ],
        [
         "epiphone",
         "electric",
         "special",
         null,
         671570.0
        ],
        [
         "epiphone",
         "electric",
         "special",
         null,
         708505.0
        ],
        [
         "epiphone",
         "electric",
         "special",
         "les paul",
         711073.0
        ],
        [
         "epiphone",
         "electric",
         "special",
         "les paul",
         711073.0
        ],
        [
         "epiphone",
         "electric",
         "special",
         "les paul",
         722359.0
        ],
        [
         "epiphone",
         "electric",
         "studio",
         "les paul",
         726875.0
        ],
        [
         "epiphone",
         "electric",
         "studio",
         "les paul",
         742676.0
        ],
        [
         "epiphone",
         "electric",
         "studio",
         "les paul",
         742676.0
        ],
        [
         "epiphone",
         "electric",
         "studio",
         "les paul",
         742676.0
        ],
        [
         "epiphone",
         "electric",
         "special",
         "les paul",
         744934.0
        ],
        [
         "epiphone",
         "electric",
         "special",
         "les paul",
         744934.0
        ],
        [
         "epiphone",
         "electric",
         "special",
         null,
         772305.0
        ],
        [
         "epiphone",
         "electric",
         "special",
         null,
         789094.0
        ],
        [
         "epiphone",
         "electric",
         "special",
         "les paul",
         790085.0
        ],
        [
         "epiphone",
         "electric",
         "studio",
         "les paul",
         808043.0
        ],
        [
         "epiphone",
         "electric",
         "studio",
         "les paul",
         808043.0
        ],
        [
         "epiphone",
         "electric",
         "studio",
         "les paul",
         809043.0
        ],
        [
         "epiphone",
         "electric",
         "special",
         "les paul",
         830713.0
        ],
        [
         "epiphone",
         "electric",
         "studio",
         "les paul",
         839990.0
        ],
        [
         "epiphone",
         "electric",
         "special",
         "les paul",
         856675.0
        ],
        [
         "epiphone",
         "electric",
         "special",
         "les paul",
         856675.0
        ],
        [
         "epiphone",
         "electric",
         "special",
         null,
         859608.0
        ],
        [
         "epiphone",
         "electric",
         "special",
         "les paul",
         902949.0
        ],
        [
         "epiphone",
         "electric",
         "special",
         "les paul",
         908598.0
        ],
        [
         "epiphone",
         "electric",
         "special",
         "les paul",
         931168.0
        ],
        [
         "epiphone",
         "electric",
         "special",
         "les paul",
         931168.0
        ],
        [
         "epiphone",
         "electric",
         "special",
         "les paul",
         987606.0
        ],
        [
         "epiphone",
         "electric",
         "special",
         "les paul",
         1042908.0
        ],
        [
         "epiphone",
         "electric",
         "special",
         "les paul",
         1042908.0
        ],
        [
         "epiphone",
         "electric",
         "special",
         "les paul",
         1055903.0
        ],
        [
         "epiphone",
         "electric",
         "special",
         "les paul",
         1106119.0
        ],
        [
         "epiphone",
         "electric",
         "special",
         "les paul",
         1117402.0
        ],
        [
         "epiphone",
         "electric",
         "modern",
         "les paul",
         1119990.0
        ],
        [
         "epiphone",
         "electric",
         "modern",
         "sg",
         1145618.0
        ],
        [
         "epiphone",
         "electric",
         "modern",
         "sg",
         1145618.0
        ],
        [
         "epiphone",
         "electric",
         "modern",
         "sg",
         1145618.0
        ],
        [
         "epiphone",
         "electric",
         "modern",
         "sg",
         1145618.0
        ],
        [
         "epiphone",
         "electric",
         "special",
         "les paul",
         1185128.0
        ],
        [
         "epiphone",
         "electric",
         "studio",
         "les paul",
         1194998.0
        ],
        [
         "epiphone",
         "electric",
         "studio",
         "les paul",
         1194998.0
        ],
        [
         "epiphone",
         "electric",
         "studio",
         "les paul",
         1194998.0
        ],
        [
         "epiphone",
         "electric",
         "studio",
         "les paul",
         1194998.0
        ],
        [
         "epiphone",
         "electric",
         "special",
         "sg",
         1194998.0
        ],
        [
         "epiphone",
         "electric",
         "special",
         "sg",
         1194998.0
        ],
        [
         "epiphone",
         "electric",
         "special",
         "sg",
         1194998.0
        ],
        [
         "epiphone",
         "electric",
         "special",
         "sg",
         1194998.0
        ],
        [
         "epiphone",
         "electric",
         "special",
         "sg",
         1194998.0
        ],
        [
         "epiphone",
         "electric",
         "special",
         "les paul",
         1276172.0
        ],
        [
         "epiphone",
         "electric",
         "modern",
         "sg",
         1317461.0
        ],
        [
         "epiphone",
         "electric",
         "modern",
         "les paul",
         1323386.0
        ],
        [
         "epiphone",
         "electric",
         "modern",
         "les paul",
         1323386.0
        ],
        [
         "epiphone",
         "electric",
         "modern",
         "les paul",
         1323386.0
        ],
        [
         "epiphone",
         "electric",
         "modern",
         "les paul",
         1323386.0
        ],
        [
         "epiphone",
         "electric",
         "modern",
         "les paul",
         1323386.0
        ],
        [
         "epiphone",
         "electric",
         "modern",
         "les paul",
         1323386.0
        ],
        [
         "epiphone",
         "electric",
         "modern",
         "les paul",
         1323386.0
        ],
        [
         "epiphone",
         "electric",
         "standard",
         "sg",
         1323386.0
        ],
        [
         "epiphone",
         "electric",
         "standard",
         "sg",
         1323386.0
        ],
        [
         "epiphone",
         "electric",
         "standard",
         "sg",
         1325386.0
        ],
        [
         "epiphone",
         "electric",
         "studio",
         "les paul",
         1326534.0
        ],
        [
         "epiphone",
         "electric",
         "studio",
         "les paul",
         1326534.0
        ],
        [
         "epiphone",
         "electric",
         "studio",
         "les paul",
         1326534.0
        ],
        [
         "epiphone",
         "electric",
         "studio",
         "les paul",
         1374248.0
        ],
        [
         "epiphone",
         "electric",
         "studio",
         "les paul",
         1374248.0
        ],
        [
         "epiphone",
         "electric",
         "special",
         "sg",
         1374248.0
        ],
        [
         "epiphone",
         "electric",
         "special",
         "sg",
         1374248.0
        ],
        [
         "epiphone",
         "electric",
         "special",
         "les paul",
         1389990.0
        ],
        [
         "epiphone",
         "electric",
         "special",
         "les paul",
         1389990.0
        ],
        [
         "epiphone",
         "electric",
         "modern",
         "sg",
         1466391.0
        ],
        [
         "epiphone",
         "electric",
         "studio",
         "les paul",
         1510259.0
        ],
        [
         "epiphone",
         "electric",
         "special",
         "sg",
         1519132.0
        ],
        [
         "epiphone",
         "electric",
         "standard",
         "sg",
         1521894.0
        ],
        [
         "epiphone",
         "electric",
         "standard",
         "sg",
         1521894.0
        ],
        [
         "epiphone",
         "electric",
         "special",
         "les paul",
         1528597.0
        ],
        [
         "epiphone",
         "electric",
         "special",
         "les paul",
         1528597.0
        ],
        [
         "epiphone",
         "electric",
         "studio",
         "les paul",
         1529597.0
        ],
        [
         "epiphone",
         "electric",
         "studio",
         "les paul",
         1529597.0
        ],
        [
         "epiphone",
         "electric",
         "special",
         "sg",
         1529597.0
        ],
        [
         "epiphone",
         "electric",
         "studio",
         "les paul",
         1529597.0
        ],
        [
         "epiphone",
         "electric",
         "custom",
         null,
         1590039.0
        ],
        [
         "epiphone",
         "electric",
         "custom",
         null,
         1590039.0
        ],
        [
         "epiphone",
         "electric",
         "custom",
         null,
         1590039.0
        ],
        [
         "epiphone",
         "electric",
         "studio",
         "les paul",
         1672997.0
        ],
        [
         "epiphone",
         "electric",
         "studio",
         "les paul",
         1672997.0
        ],
        [
         "epiphone",
         "electric",
         "special",
         "sg",
         1672997.0
        ],
        [
         "epiphone",
         "electric",
         "custom",
         "sg",
         1678923.0
        ],
        [
         "epiphone",
         "electric",
         "modern",
         "les paul",
         1693934.0
        ],
        [
         "epiphone",
         "electric",
         "standard",
         "sg",
         1693934.0
        ],
        [
         "epiphone",
         "electric",
         "modern",
         "les paul",
         1693934.0
        ],
        [
         "epiphone",
         "electric",
         "es-335",
         null,
         1718427.0
        ],
        [
         "epiphone",
         "electric",
         "standard",
         "les paul",
         1718427.0
        ],
        [
         "epiphone",
         "electric",
         "standard",
         "les paul",
         1718427.0
        ],
        [
         "epiphone",
         "electric",
         "standard",
         "les paul",
         1718427.0
        ],
        [
         "epiphone",
         "electric",
         "standard",
         "les paul",
         1718427.0
        ],
        [
         "epiphone",
         "electric",
         "standard",
         "les paul",
         1718427.0
        ],
        [
         "epiphone",
         "electric",
         "standard",
         "les paul",
         1718427.0
        ],
        [
         "epiphone",
         "electric",
         "modern",
         "les paul",
         1718427.0
        ],
        [
         "epiphone",
         "electric",
         "standard",
         "les paul",
         1718427.0
        ],
        [
         "epiphone",
         "electric",
         "standard",
         null,
         1718427.0
        ],
        [
         "epiphone",
         "electric",
         "standard",
         "les paul",
         1718427.0
        ],
        [
         "epiphone",
         "electric",
         "es-335",
         null,
         1718427.0
        ],
        [
         "epiphone",
         "electric",
         "standard",
         "les paul",
         1718427.0
        ],
        [
         "epiphone",
         "electric",
         "modern",
         "les paul",
         1718428.0
        ],
        [
         "epiphone",
         "electric",
         "standard",
         "les paul",
         1719427.0
        ],
        [
         "epiphone",
         "electric",
         "modern",
         "les paul",
         1733485.0
        ],
        [
         "epiphone",
         "electric",
         "modern",
         "les paul",
         1733485.0
        ],
        [
         "epiphone",
         "electric",
         "custom",
         "sg",
         1771264.0
        ],
        [
         "epiphone",
         "electric",
         "studio",
         "les paul",
         1792497.0
        ],
        [
         "epiphone",
         "electric",
         "custom",
         null,
         1828545.0
        ],
        [
         "epiphone",
         "electric",
         "standard",
         "sg",
         1852741.0
        ],
        [
         "epiphone",
         "electric",
         "standard",
         "sg",
         1852741.0
        ],
        [
         "epiphone",
         "electric",
         "modern",
         "les paul",
         1856691.0
        ],
        [
         "epiphone",
         "electric",
         "modern",
         "les paul",
         1856691.0
        ],
        [
         "epiphone",
         "electric",
         "modern",
         "les paul",
         1856691.0
        ],
        [
         "epiphone",
         "electric",
         "modern",
         "les paul",
         1856692.0
        ],
        [
         "epiphone",
         "electric",
         "modern",
         "les paul",
         1907578.0
        ],
        [
         "epiphone",
         "electric",
         "standard",
         "les paul",
         1907578.0
        ],
        [
         "epiphone",
         "electric",
         "standard",
         "les paul",
         1907578.0
        ],
        [
         "epiphone",
         "electric",
         "modern",
         null,
         1958809.0
        ],
        [
         "epiphone",
         "electric",
         "custom",
         "sg",
         1972735.0
        ],
        [
         "epiphone",
         "electric",
         "custom",
         "sg",
         1972735.0
        ],
        [
         "epiphone",
         "electric",
         "standard",
         "les paul",
         1976191.0
        ],
        [
         "epiphone",
         "electric",
         "standard",
         "les paul",
         1976191.0
        ],
        [
         "epiphone",
         "electric",
         "standard",
         "les paul",
         1976191.0
        ],
        [
         "epiphone",
         "electric",
         "standard",
         "les paul",
         1976191.0
        ],
        [
         "epiphone",
         "electric",
         "es-335",
         null,
         1976191.0
        ],
        [
         "epiphone",
         "electric",
         "sheraton",
         null,
         1985080.0
        ],
        [
         "epiphone",
         "electric",
         "sheraton",
         null,
         1985080.0
        ],
        [
         "epiphone",
         "electric",
         "sheraton",
         null,
         1985081.0
        ],
        [
         "epiphone",
         "electric",
         "es-335",
         null,
         2009519.0
        ],
        [
         "epiphone",
         "electric",
         "es-335",
         null,
         2035249.0
        ],
        [
         "epiphone",
         "electric",
         "custom",
         null,
         2035249.0
        ],
        [
         "epiphone",
         "electric",
         "modern",
         "sg",
         2035249.0
        ],
        [
         "epiphone",
         "electric",
         "custom",
         null,
         2035249.0
        ],
        [
         "epiphone",
         "electric",
         "modern",
         "les paul",
         2135194.0
        ],
        [
         "epiphone",
         "electric",
         "modern",
         "les paul",
         2135196.0
        ],
        [
         "epiphone",
         "electric",
         "sheraton",
         null,
         2136886.0
        ],
        [
         "epiphone",
         "electric",
         "standard",
         "les paul",
         2148034.0
        ],
        [
         "epiphone",
         "electric",
         "es-335",
         null,
         2148034.0
        ],
        [
         "epiphone",
         "electric",
         "standard",
         "les paul",
         2171778.0
        ],
        [
         "epiphone",
         "electric",
         "modern",
         null,
         2181612.0
        ],
        [
         "epiphone",
         "electric",
         "standard",
         "les paul",
         2184538.0
        ],
        [
         "epiphone",
         "electric",
         "standard",
         "les paul",
         2199586.0
        ],
        [
         "epiphone",
         "electric",
         "standard",
         "les paul",
         2199586.0
        ],
        [
         "epiphone",
         "electric",
         "modern",
         "les paul",
         2199586.0
        ],
        [
         "epiphone",
         "electric",
         "standard",
         "les paul",
         2199586.0
        ],
        [
         "epiphone",
         "electric",
         "standard",
         "les paul",
         2199586.0
        ],
        [
         "epiphone",
         "electric",
         "standard",
         "les paul",
         2199586.0
        ],
        [
         "epiphone",
         "electric",
         "modern",
         "les paul",
         2199586.0
        ],
        [
         "epiphone",
         "electric",
         "standard",
         "les paul",
         2199586.0
        ],
        [
         "epiphone",
         "electric",
         "es-335",
         null,
         2199586.0
        ],
        [
         "epiphone",
         "electric",
         "standard",
         "les paul",
         2199586.0
        ],
        [
         "epiphone",
         "electric",
         "custom",
         null,
         2226054.0
        ],
        [
         "epiphone",
         "electric",
         "standard",
         "les paul",
         2249990.0
        ],
        [
         "epiphone",
         "electric",
         "modern",
         "les paul",
         2250942.0
        ],
        [
         "epiphone",
         "electric",
         "sheraton",
         null,
         2282843.0
        ],
        [
         "epiphone",
         "electric",
         "standard",
         "les paul",
         2299990.0
        ],
        [
         "epiphone",
         "electric",
         "custom",
         "sg",
         2350492.0
        ],
        [
         "epiphone",
         "electric",
         "modern",
         "les paul",
         2376564.0
        ],
        [
         "epiphone",
         "electric",
         "modern",
         "les paul",
         2376564.0
        ],
        [
         "epiphone",
         "electric",
         "modern",
         "les paul",
         2376564.0
        ],
        [
         "epiphone",
         "electric",
         "modern",
         "les paul",
         2376564.0
        ],
        [
         "epiphone",
         "electric",
         "standard",
         "les paul",
         2405798.0
        ],
        [
         "epiphone",
         "electric",
         "standard",
         null,
         2405798.0
        ],
        [
         "epiphone",
         "electric",
         "es-335",
         null,
         2405798.0
        ],
        [
         "epiphone",
         "electric",
         "standard",
         "les paul",
         2405798.0
        ],
        [
         "epiphone",
         "electric",
         "standard",
         "les paul",
         2405798.0
        ],
        [
         "epiphone",
         "electric",
         "es-335",
         null,
         2429500.0
        ],
        [
         "epiphone",
         "electric",
         "modern",
         null,
         2432053.0
        ],
        [
         "epiphone",
         "electric",
         "standard",
         "les paul",
         2548013.0
        ],
        [
         "epiphone",
         "electric",
         "standard",
         "les paul",
         2548013.0
        ],
        [
         "epiphone",
         "electric",
         "standard",
         "les paul",
         2548013.0
        ],
        [
         "epiphone",
         "electric",
         "standard",
         "les paul",
         2548013.0
        ],
        [
         "epiphone",
         "electric",
         "standard",
         "les paul",
         2548013.0
        ],
        [
         "epiphone",
         "electric",
         "standard",
         "les paul",
         2577641.0
        ],
        [
         "epiphone",
         "electric",
         "standard",
         "les paul",
         2577641.0
        ],
        [
         "epiphone",
         "electric",
         "es-335",
         null,
         2577641.0
        ],
        [
         "epiphone",
         "electric",
         "standard",
         "sg",
         2882216.0
        ],
        [
         "epiphone",
         "electric",
         "standard",
         "sg",
         2882216.0
        ],
        [
         "epiphone",
         "electric",
         "sheraton",
         null,
         2962806.0
        ],
        [
         "epiphone",
         "electric",
         "es-335",
         null,
         3109760.0
        ],
        [
         "epiphone",
         "electric",
         "standard",
         "les paul",
         3261456.0
        ],
        [
         "epiphone",
         "electric",
         "standard",
         "les paul",
         3261456.0
        ],
        [
         "epiphone",
         "electric",
         "standard",
         "les paul",
         3261456.0
        ],
        [
         "epiphone",
         "electric",
         "standard",
         "les paul",
         3261456.0
        ],
        [
         "epiphone",
         "electric",
         "standard",
         "les paul",
         3261456.0
        ],
        [
         "epiphone",
         "electric",
         "sheraton",
         null,
         3319794.0
        ],
        [
         "epiphone",
         "electric",
         "sheraton",
         null,
         3374636.0
        ],
        [
         "epiphone",
         "electric",
         "custom",
         "les paul",
         3456607.0
        ],
        [
         "epiphone",
         "electric",
         "custom",
         null,
         3456607.0
        ],
        [
         "epiphone",
         "electric",
         "custom",
         "les paul",
         3456607.0
        ],
        [
         "epiphone",
         "electric",
         "sheraton",
         null,
         3583715.0
        ],
        [
         "epiphone",
         "electric",
         "custom",
         null,
         4424456.0
        ],
        [
         "epiphone",
         "electric",
         "custom",
         "les paul",
         4424456.0
        ],
        [
         "epiphone",
         "electric",
         "custom",
         "les paul",
         4424456.0
        ],
        [
         "cort",
         "electric",
         "x",
         "x100",
         467727.0
        ],
        [
         "cort",
         "acustic",
         "af",
         "af515",
         356318.0
        ],
        [
         "cort",
         "electric",
         "kx",
         "kx507",
         1580162.0
        ],
        [
         "cort",
         "electric",
         "g",
         "g110",
         449350.0
        ],
        [
         "cort",
         "electric",
         "x",
         "x100",
         467727.0
        ],
        [
         "cort",
         "acustic",
         "af",
         "af510",
         349700.0
        ],
        [
         "cort",
         "electric",
         "g",
         "g260",
         1099793.0
        ],
        [
         "cort",
         "electric",
         "g",
         "g110",
         442445.0
        ],
        [
         "cort",
         "acustic",
         "ad",
         "ad810",
         381995.0
        ],
        [
         "cort",
         "electric",
         "x",
         "x100",
         467727.0
        ],
        [
         "cort",
         "electric",
         "x",
         "x700",
         2654673.0
        ],
        [
         "cort",
         "electric",
         "g",
         "g110",
         345664.0
        ],
        [
         "cort",
         "acustic",
         "ad",
         "ad880",
         614810.0
        ],
        [
         "cort",
         "electric",
         "cr",
         "cr200",
         862140.0
        ],
        [
         "cort",
         "electric",
         "kx",
         "kx100",
         474048.0
        ],
        [
         "cort",
         "acustic",
         "ad",
         "ad880",
         543181.0
        ],
        [
         "cort",
         "electric",
         "kx",
         "kx100",
         556840.0
        ],
        [
         "cort",
         "electric",
         "kx",
         "kx307",
         1036586.0
        ],
        [
         "cort",
         "acustic",
         "af",
         "af510",
         302001.0
        ],
        [
         "cort",
         "acustic",
         "ad",
         "ad810",
         388500.0
        ],
        [
         "cort",
         "electric",
         "g",
         "g110",
         428851.0
        ],
        [
         "cort",
         "electric",
         "cr",
         "cr100",
         589296.0
        ],
        [
         "cort",
         "electric",
         "g",
         "g110",
         462705.0
        ],
        [
         "cort",
         "acustic",
         "af",
         "af510",
         403662.0
        ],
        [
         "cort",
         "electric",
         "g",
         "g200",
         493801.0
        ],
        [
         "cort",
         "acustic",
         "ad",
         "ad810",
         313312.0
        ],
        [
         "cort",
         "acustic",
         "af",
         "af510",
         349808.0
        ],
        [
         "cort",
         "electric",
         "cr",
         "cr250",
         978740.0
        ],
        [
         "cort",
         "electric",
         "g",
         "g110",
         345660.0
        ],
        [
         "cort",
         "acustic",
         "l",
         "l450",
         935456.0
        ],
        [
         "cort",
         "electric",
         "x",
         "x700",
         2515618.0
        ],
        [
         "cort",
         "acustic",
         "ad",
         "ad810",
         403995.0
        ],
        [
         "cort",
         "electric",
         "g",
         "g200",
         633065.0
        ],
        [
         "cort",
         "electric",
         "g",
         "g250",
         109788.0
        ],
        [
         "cort",
         "electric",
         "g",
         "g250",
         736500.0
        ],
        [
         "cort",
         "electric",
         "x",
         "x300",
         1137716.0
        ],
        [
         "cort",
         "acustic",
         "earth",
         null,
         608362.0
        ],
        [
         "cort",
         "electric",
         "g",
         "g250",
         577999.0
        ],
        [
         "cort",
         "electric",
         "cr",
         "cr250",
         1174500.0
        ],
        [
         "cort",
         "acustic",
         "af",
         "af510",
         375845.0
        ],
        [
         "cort",
         "electric",
         "x",
         "x700",
         2515618.0
        ],
        [
         "cort",
         "electric",
         "g",
         "g280",
         1415826.0
        ],
        [
         "cort",
         "acustic",
         "af",
         "af510",
         385397.0
        ],
        [
         "cort",
         "electric",
         "cr",
         "cr100",
         589246.0
        ],
        [
         "cort",
         "electric",
         "x",
         "x100",
         467727.0
        ],
        [
         "cort",
         "acustic",
         "ad",
         "ad810",
         360308.0
        ],
        [
         "cort",
         "acustic",
         "ad",
         "ad810",
         523172.0
        ],
        [
         "cort",
         "electric",
         "kx",
         "kx307",
         809833.0
        ],
        [
         "cort",
         "acustic",
         "af",
         "af510",
         315045.0
        ],
        [
         "cort",
         "acustic",
         "ad",
         "ad810",
         540259.0
        ],
        [
         "cort",
         "electric",
         "g",
         "g260",
         1052519.0
        ],
        [
         "cort",
         "electric",
         "g",
         "g110",
         442444.0
        ],
        [
         "cort",
         "acustic",
         "ad",
         "ad810",
         437414.0
        ],
        [
         "cort",
         "electric",
         "g",
         "g300",
         1435972.0
        ],
        [
         "cort",
         "electric",
         "kx",
         "kx307",
         1036586.0
        ],
        [
         "cort",
         "acustic",
         "ad",
         "ad810",
         481319.0
        ],
        [
         "cort",
         "electric",
         "x",
         "x300",
         888841.0
        ],
        [
         "cort",
         "electric",
         "kx",
         "kx300",
         1008774.0
        ],
        [
         "cort",
         "acustic",
         "ad",
         "ad810",
         313306.0
        ],
        [
         "cort",
         "acustic",
         "ad",
         "ad810",
         398262.0
        ],
        [
         "cort",
         "electric",
         "kx",
         "kx508",
         2199586.0
        ],
        [
         "cort",
         "electric",
         "g",
         "g250",
         658731.0
        ],
        [
         "cort",
         "acustic",
         "af",
         "af510",
         403662.0
        ],
        [
         "cort",
         "electric",
         "g",
         "g250",
         754125.0
        ],
        [
         "cort",
         "acustic",
         "ad",
         "ad810",
         551124.0
        ],
        [
         "cort",
         "electric",
         "kx",
         "kx300",
         788106.0
        ],
        [
         "cort",
         "electric",
         "x",
         "x100",
         467727.0
        ],
        [
         "cort",
         "electric",
         "g",
         "g260",
         1009273.0
        ],
        [
         "cort",
         "electric",
         "kx",
         "kx300",
         926025.0
        ],
        [
         "cort",
         "acustic",
         "ad",
         "ad810",
         418545.0
        ],
        [
         "cort",
         "electric",
         "g",
         "g250",
         733195.0
        ],
        [
         "cort",
         "electric",
         "kx",
         "kx500",
         1669047.0
        ],
        [
         "cort",
         "electric",
         "cr",
         "cr250",
         978740.0
        ],
        [
         "cort",
         "electric",
         "x",
         "x300",
         983442.0
        ],
        [
         "cort",
         "electric",
         "x",
         "x100",
         467727.0
        ],
        [
         "cort",
         "electric",
         "g",
         "g250",
         583357.0
        ],
        [
         "cort",
         "electric",
         "kx",
         "kx300",
         1008774.0
        ],
        [
         "cort",
         "acustic",
         "ad",
         "ad880",
         469999.0
        ],
        [
         "cort",
         "electric",
         "g",
         "g110",
         442444.0
        ],
        [
         "cort",
         "electric",
         "g",
         "g110",
         442445.0
        ],
        [
         "cort",
         "acustic",
         "earth",
         null,
         744436.0
        ],
        [
         "cort",
         "electric",
         "kx",
         "kx508",
         1718427.0
        ],
        [
         "cort",
         "acustic",
         "ad",
         "ad880",
         460925.0
        ],
        [
         "cort",
         "electric",
         "g",
         "g250",
         572809.0
        ],
        [
         "cort",
         "electric",
         "kx",
         "kx100",
         606781.0
        ],
        [
         "cort",
         "electric",
         "kx",
         "kx300",
         831452.0
        ],
        [
         "cort",
         "electric",
         "g",
         "g110",
         442445.0
        ],
        [
         "cort",
         "electric",
         "g",
         "g250",
         734195.0
        ],
        [
         "cort",
         "classic",
         "ac",
         "ac120",
         477999.0
        ],
        [
         "cort",
         "electric",
         "x",
         "x300",
         1044389.0
        ],
        [
         "cort",
         "electric",
         "g",
         "g250",
         733195.0
        ],
        [
         "cort",
         "electric",
         "kx",
         "kx100",
         583348.0
        ],
        [
         "cort",
         "electric",
         "cr",
         "cr200",
         862140.0
        ],
        [
         "cort",
         "electric",
         "g",
         "g200",
         506180.0
        ],
        [
         "cort",
         "electric",
         "x",
         "x300",
         1137716.0
        ],
        [
         "cort",
         "electric",
         "kx",
         "kx500",
         1870912.0
        ],
        [
         "cort",
         "electric",
         "g",
         null,
         1461650.0
        ],
        [
         "cort",
         "electric",
         "g",
         "g250",
         573809.0
        ],
        [
         "cort",
         "electric",
         "g",
         "g250",
         572809.0
        ],
        [
         "cort",
         "classic",
         "ac",
         "ac100",
         327424.0
        ],
        [
         "cort",
         "electric",
         "x",
         "x700",
         1965327.0
        ],
        [
         "cort",
         "electric",
         "x",
         "x700",
         2073964.0
        ],
        [
         "cort",
         "acustic",
         "ad",
         "ad880",
         488853.0
        ],
        [
         "cort",
         "electric",
         "kx",
         "kx300",
         1183641.0
        ],
        [
         "cort",
         "electric",
         "g",
         "g280",
         1106114.0
        ],
        [
         "cort",
         "electric",
         "x",
         "x700",
         2515618.0
        ],
        [
         "cort",
         "acustic",
         "ad",
         "ad810",
         531037.0
        ],
        [
         "cort",
         "electric",
         "g",
         "g290",
         1516956.0
        ],
        [
         "cort",
         "acustic",
         "earth",
         null,
         607171.0
        ],
        [
         "cort",
         "electric",
         "x",
         "x700",
         2654673.0
        ],
        [
         "cort",
         "classic",
         "ac",
         "ac100",
         315045.0
        ],
        [
         "cort",
         "electric",
         "kx",
         "kx300",
         1289412.0
        ],
        [
         "cort",
         "acustic",
         "ad",
         "ad810",
         546768.0
        ],
        [
         "cort",
         "electric",
         "g",
         null,
         1870912.0
        ],
        [
         "cort",
         "electric",
         "kx",
         "kx100",
         617161.0
        ],
        [
         "cort",
         "electric",
         "g",
         "g260",
         871649.0
        ],
        [
         "cort",
         "electric",
         "g",
         "g110",
         397509.0
        ],
        [
         "cort",
         "electric",
         "g",
         "g260",
         859213.0
        ],
        [
         "cort",
         "electric",
         "kx",
         "kx100",
         474048.0
        ],
        [
         "cort",
         "acustic",
         "mr",
         "mr600",
         923854.0
        ],
        [
         "cort",
         "electric",
         "g",
         "g260",
         859213.0
        ],
        [
         "cort",
         "electric",
         "g",
         "g200",
         493801.0
        ],
        [
         "cort",
         "acustic",
         "ad",
         "ad810",
         437413.0
        ],
        [
         "cort",
         "electric",
         "kx",
         "kx300",
         831452.0
        ],
        [
         "cort",
         "acustic",
         "earth",
         null,
         608362.0
        ],
        [
         "cort",
         "electric",
         "cr",
         "cr250",
         1174500.0
        ],
        [
         "cort",
         "electric",
         "kx",
         "kx100",
         474048.0
        ],
        [
         "cort",
         "acustic",
         "mr",
         "mr710",
         965381.0
        ],
        [
         "cort",
         "electric",
         "g",
         "g260",
         1052519.0
        ],
        [
         "cort",
         "classic",
         "ac",
         "ac100",
         400472.0
        ],
        [
         "cort",
         "electric",
         "kx",
         "kx300",
         831452.0
        ],
        [
         "cort",
         "electric",
         "cr",
         "cr250",
         978740.0
        ],
        [
         "cort",
         "acustic",
         "earth",
         null,
         375288.0
        ],
        [
         "cort",
         "electric",
         "cr",
         "cr250",
         1108611.0
        ],
        [
         "cort",
         "electric",
         "g",
         "g200",
         610222.0
        ],
        [
         "cort",
         "electric",
         "g",
         "g200",
         632065.0
        ],
        [
         "cort",
         "electric",
         "x",
         "x300",
         937728.0
        ],
        [
         "cort",
         "electric",
         "g",
         "g110",
         354781.0
        ],
        [
         "cort",
         "classic",
         "ac",
         "ac200",
         432364.0
        ],
        [
         "cort",
         "electric",
         "g",
         "g250",
         754125.0
        ],
        [
         "cort",
         "electric",
         "g",
         "g260",
         859213.0
        ],
        [
         "cort",
         "electric",
         "kx",
         "kx100",
         606782.0
        ],
        [
         "cort",
         "electric",
         "kx",
         "kx100",
         500121.0
        ],
        [
         "cort",
         "acustic",
         "earth",
         null,
         614073.0
        ],
        [
         "cort",
         "electric",
         "g",
         "g290",
         1185122.0
        ],
        [
         "cort",
         "electric",
         "cr",
         "cr250",
         978740.0
        ],
        [
         "cort",
         "electric",
         "kx",
         "kx100",
         481766.0
        ],
        [
         "cort",
         "acustic",
         "af",
         "af510",
         317672.0
        ],
        [
         "cort",
         "electric",
         "kx",
         "kx100",
         583348.0
        ],
        [
         "cort",
         "electric",
         "g",
         "g260",
         1009273.0
        ],
        [
         "cort",
         "electric",
         "kx",
         "kx100",
         508617.0
        ],
        [
         "cort",
         "electric",
         "kx",
         "kx507",
         2022608.0
        ],
        [
         "cort",
         "electric",
         "kx",
         "kx100",
         508617.0
        ],
        [
         "cort",
         "electric",
         "kx",
         "kx100",
         617161.0
        ],
        [
         "cort",
         "electric",
         "g",
         "g200",
         632065.0
        ],
        [
         "cort",
         "acustic",
         "earth",
         null,
         474739.0
        ],
        [
         "cort",
         "electric",
         "kx",
         "kx300",
         1008354.0
        ],
        [
         "cort",
         "electric",
         "kx",
         "kx300",
         788106.0
        ],
        [
         "cort",
         "electric",
         "cr",
         "cr200",
         862140.0
        ],
        [
         "cort",
         "electric",
         "kx",
         "kx500",
         1669047.0
        ],
        [
         "cort",
         "acustic",
         "af",
         "af510",
         333563.0
        ],
        [
         "cort",
         "acustic",
         "af",
         "af510",
         396045.0
        ],
        [
         "cort",
         "electric",
         "kx",
         "kx300",
         926025.0
        ],
        [
         "cort",
         "electric",
         "g",
         "g300",
         1838044.0
        ],
        [
         "cort",
         "electric",
         "kx",
         "kx500",
         2136380.0
        ],
        [
         "cort",
         "electric",
         "g",
         "g250",
         572809.0
        ],
        [
         "cort",
         "classic",
         "ac",
         "ac200",
         537397.0
        ],
        [
         "cort",
         "electric",
         "kx",
         "kx100",
         481766.0
        ],
        [
         "cort",
         "electric",
         "kx",
         "kx500",
         2136380.0
        ],
        [
         "cort",
         "electric",
         "g",
         "g290",
         1516956.0
        ],
        [
         "cort",
         "electric",
         "g",
         "g290",
         1186122.0
        ],
        [
         "cort",
         "electric",
         "kx",
         "kx100",
         474048.0
        ],
        [
         "cort",
         "classic",
         "ac",
         "ac200",
         355535.0
        ],
        [
         "cort",
         "electric",
         "g",
         "g260",
         810579.0
        ],
        [
         "cort",
         "electric",
         "kx",
         "kx700",
         2654673.0
        ],
        [
         "cort",
         "electric",
         "g",
         "g250",
         706101.0
        ],
        [
         "cort",
         "electric",
         "g",
         "g300",
         1435972.0
        ],
        [
         "cort",
         "electric",
         "cr",
         "cr250",
         1108611.0
        ],
        [
         "cort",
         "electric",
         "kx",
         "kx100",
         557007.0
        ],
        [
         "cort",
         "electric",
         "kx",
         "kx500",
         1461650.0
        ],
        [
         "cort",
         "acustic",
         "earth",
         null,
         395743.0
        ],
        [
         "cort",
         "electric",
         "kx",
         "kx700",
         2073964.0
        ],
        [
         "cort",
         "electric",
         "g",
         "g250",
         572809.0
        ],
        [
         "cort",
         "electric",
         "kx",
         "kx700",
         2190378.0
        ],
        [
         "cort",
         "electric",
         "g",
         "g110",
         345560.0
        ],
        [
         "cort",
         "electric",
         "g",
         "g250",
         658730.0
        ],
        [
         "cort",
         "acustic",
         "ad",
         "ad810",
         480419.0
        ],
        [
         "cort",
         "electric",
         "kx",
         "kx300",
         1008354.0
        ],
        [
         "cort",
         "acustic",
         "af",
         "af510",
         314388.0
        ],
        [
         "cort",
         "acustic",
         "earth",
         null,
         608362.0
        ],
        [
         "cort",
         "classic",
         "ac",
         "ac200",
         444747.0
        ],
        [
         "cort",
         "electric",
         "g",
         "g280",
         1116661.0
        ],
        [
         "cort",
         "acustic",
         "ad",
         "ad810",
         437400.0
        ],
        [
         "cort",
         "acustic",
         "earth",
         null,
         528405.0
        ],
        [
         "cort",
         "classic",
         "ac",
         "ac200",
         445862.0
        ],
        [
         "cort",
         "electric",
         "kx",
         "kx500",
         1547979.0
        ],
        [
         "cort",
         "electric",
         "kx",
         "kx300",
         802415.0
        ],
        [
         "cort",
         "electric",
         "g",
         "g110",
         428851.0
        ],
        [
         "cort",
         "electric",
         "x",
         "x700",
         2086178.0
        ],
        [
         "cort",
         "acustic",
         "ac",
         "ac250",
         125183.0
        ],
        [
         "cort",
         "acustic",
         "mr",
         "mr710",
         839460.0
        ],
        [
         "cort",
         "electric",
         "g",
         "g300",
         1411312.0
        ],
        [
         "cort",
         "electric",
         "kx",
         "kx507",
         1580163.0
        ],
        [
         "cort",
         "acustic",
         "earth",
         null,
         699617.0
        ],
        [
         "cort",
         "acustic",
         "af",
         "af590",
         493801.0
        ],
        [
         "cort",
         "acustic",
         "earth",
         null,
         423367.0
        ],
        [
         "cort",
         "acustic",
         "earth",
         null,
         548213.0
        ],
        [
         "cort",
         "electric",
         "g",
         "g300",
         1448180.0
        ],
        [
         "cort",
         "electric",
         "g",
         "g290",
         1197327.0
        ],
        [
         "cort",
         "electric",
         "g",
         "g260",
         859222.0
        ],
        [
         "cort",
         "electric",
         "g",
         "g290",
         1240994.0
        ],
        [
         "cort",
         "acustic",
         "earth",
         null,
         511894.0
        ],
        [
         "cort",
         "electric",
         "g",
         "g290",
         1274505.0
        ],
        [
         "cort",
         "electric",
         "kx",
         "kx300",
         798650.0
        ],
        [
         "cort",
         "acustic",
         "af",
         "af510",
         362301.0
        ],
        [
         "cort",
         "electric",
         "x",
         "x700",
         1977540.0
        ],
        [
         "cort",
         "electric",
         "x",
         "x500",
         1669065.0
        ],
        [
         "cort",
         "electric",
         "g",
         "g280",
         1118318.0
        ],
        [
         "cort",
         "electric",
         "g",
         "g260",
         871414.0
        ],
        [
         "cort",
         "electric",
         "x",
         "x700",
         2086178.0
        ],
        [
         "cort",
         "electric",
         "kx",
         "kx300",
         1017900.0
        ],
        [
         "cort",
         "electric",
         "x",
         "x700",
         1977540.0
        ],
        [
         "cort",
         "electric",
         "g",
         "g260",
         871414.0
        ],
        [
         "cort",
         "electric",
         "kx",
         "kx300",
         1073890.0
        ],
        [
         "cort",
         "electric",
         "g",
         "g250",
         572809.0
        ],
        [
         "cort",
         "acustic",
         "ad",
         "ad810",
         463381.0
        ],
        [
         "cort",
         "electric",
         "g",
         "g290",
         1185122.0
        ],
        [
         "cort",
         "acustic",
         "ad",
         "ad810",
         463381.0
        ],
        [
         "cort",
         "acustic",
         "earth",
         null,
         478284.0
        ],
        [
         "cort",
         "acustic",
         "ad",
         "ad810",
         418537.0
        ],
        [
         "cort",
         "acustic",
         "l",
         "l300",
         1106114.0
        ],
        [
         "cort",
         "classic",
         "ac",
         "ac120",
         607611.0
        ],
        [
         "cort",
         "acustic",
         "earth",
         null,
         385164.0
        ],
        [
         "cort",
         "acustic",
         "ad",
         "ad810",
         418545.0
        ],
        [
         "cort",
         "acustic",
         "earth",
         null,
         480368.0
        ],
        [
         "cort",
         "acustic",
         "af",
         "af510",
         386571.0
        ],
        [
         "cort",
         "acustic",
         "mr",
         "mr730",
         1643368.0
        ],
        [
         "cort",
         "classic",
         "ac",
         "ac100",
         315045.0
        ],
        [
         "cort",
         "acustic",
         "af",
         "af510",
         423681.0
        ],
        [
         "cort",
         "acustic",
         "earth",
         null,
         608362.0
        ],
        [
         "cort",
         "acustic",
         "ad",
         "ad880",
         523416.0
        ],
        [
         "cort",
         "acustic",
         "af",
         "af510",
         304181.0
        ],
        [
         "cort",
         "acustic",
         "ad",
         "ad880",
         666616.0
        ],
        [
         "cort",
         "acustic",
         "af",
         "af510",
         315045.0
        ],
        [
         "cort",
         "acustic",
         "af",
         "af510",
         405516.0
        ],
        [
         "cort",
         "acustic",
         "af",
         "af510",
         390567.0
        ],
        [
         "cort",
         "acustic",
         "af",
         "af590",
         634040.0
        ],
        [
         "cort",
         "acustic",
         "af",
         "af510",
         576645.0
        ],
        [
         "cort",
         "acustic",
         "af",
         "af510",
         537411.0
        ],
        [
         "cort",
         "acustic",
         "earth",
         null,
         493010.0
        ],
        [
         "cort",
         "acustic",
         "ad",
         "ad810",
         422239.0
        ],
        [
         "cort",
         "acustic",
         "ad",
         "ad810",
         556015.0
        ],
        [
         "cort",
         "acustic",
         "ad",
         "ad810",
         437408.0
        ],
        [
         "cort",
         "acustic",
         "mr",
         "mr710",
         839461.0
        ],
        [
         "cort",
         "acustic",
         "af",
         "af510",
         418545.0
        ],
        [
         "cort",
         "acustic",
         "grand regal",
         null,
         1213564.0
        ],
        [
         "cort",
         "classic",
         "ac",
         "ac100",
         315045.0
        ],
        [
         "cort",
         "acustic",
         "earth",
         null,
         778703.0
        ],
        [
         "cort",
         "classic",
         "ac",
         "ac100",
         400472.0
        ],
        [
         "cort",
         "acustic",
         "ad",
         "ad810",
         331170.0
        ],
        [
         "cort",
         "acustic",
         "l",
         "l450",
         967849.0
        ],
        [
         "cort",
         "acustic",
         "l",
         "l100",
         619661.0
        ],
        [
         "cort",
         "acustic",
         "earth",
         null,
         733626.0
        ],
        [
         "cort",
         "classic",
         "ac",
         "ac100",
         400472.0
        ],
        [
         "cort",
         "acustic",
         "earth",
         null,
         511827.0
        ],
        [
         "cort",
         "acustic",
         "af",
         "af510",
         444865.0
        ],
        [
         "cort",
         "acustic",
         "ad",
         "ad810",
         418500.0
        ],
        [
         "cort",
         "acustic",
         "af",
         "af510",
         418537.0
        ],
        [
         "cort",
         "acustic",
         "mr",
         "mr500",
         691320.0
        ],
        [
         "cort",
         "acustic",
         "ad",
         "ad880",
         434464.0
        ],
        [
         "cort",
         "acustic",
         "af",
         "af510",
         348822.0
        ],
        [
         "cort",
         "acustic",
         "af",
         "af510",
         469106.0
        ],
        [
         "cort",
         "acustic",
         "af",
         "af510",
         463420.0
        ],
        [
         "cort",
         "acustic",
         "ad",
         "ad810",
         367783.0
        ],
        [
         "cort",
         "acustic",
         "earth",
         null,
         412817.0
        ],
        [
         "cort",
         "acustic",
         "earth",
         null,
         998794.0
        ],
        [
         "cort",
         "acustic",
         "ad",
         "ad810",
         503026.0
        ],
        [
         "cort",
         "acustic",
         "ad",
         "ad810",
         546768.0
        ],
        [
         "cort",
         "classic",
         "ac",
         "ac120",
         485673.0
        ],
        [
         "cort",
         "acustic",
         "af",
         "af510",
         439465.0
        ],
        [
         "cort",
         "acustic",
         "ad",
         "ad810",
         437400.0
        ],
        [
         "cort",
         "acustic",
         "ad",
         "ad810",
         313307.0
        ],
        [
         "cort",
         "classic",
         "ac",
         "ac160",
         631599.0
        ],
        [
         "cort",
         "classic",
         "ac",
         "ac160",
         765404.0
        ],
        [
         "cort",
         "acustic",
         "ad",
         "ad880",
         404769.0
        ],
        [
         "cort",
         "acustic",
         "ad",
         "ad810",
         344571.0
        ],
        [
         "cort",
         "acustic",
         "earth",
         null,
         601028.0
        ],
        [
         "cort",
         "acustic",
         "ad",
         "ad880",
         647339.0
        ],
        [
         "cort",
         "acustic",
         "earth",
         null,
         397569.0
        ],
        [
         "cort",
         "acustic",
         "l",
         "l450",
         744319.0
        ],
        [
         "cort",
         "acustic",
         "af",
         "af510",
         429095.0
        ],
        [
         "cort",
         "acustic",
         "ad",
         "ad880",
         536790.0
        ],
        [
         "cort",
         "acustic",
         "af",
         "af510",
         515908.0
        ],
        [
         "cort",
         "acustic",
         "earth",
         null,
         728282.0
        ],
        [
         "cort",
         "classic",
         "ac",
         "ac120",
         477998.0
        ],
        [
         "cort",
         "acustic",
         "earth",
         null,
         614073.0
        ],
        [
         "cort",
         "acustic",
         "ad",
         "ad810",
         415755.0
        ],
        [
         "cort",
         "acustic",
         "af",
         "af510",
         526883.0
        ],
        [
         "cort",
         "acustic",
         "earth",
         null,
         725342.0
        ],
        [
         "cort",
         "classic",
         "ac",
         "ac100",
         394934.0
        ],
        [
         "cort",
         "acustic",
         "af",
         "af510",
         436088.0
        ],
        [
         "cort",
         "acustic",
         "earth",
         null,
         466314.0
        ],
        [
         "cort",
         "classic",
         "ac",
         "ac200",
         537397.0
        ],
        [
         "cort",
         "acustic",
         "l",
         "l450",
         900925.0
        ],
        [
         "cort",
         "acustic",
         "earth",
         null,
         670124.0
        ],
        [
         "cort",
         "classic",
         "ac",
         "ac250",
         620736.0
        ],
        [
         "cort",
         "acustic",
         "earth",
         null,
         390132.0
        ],
        [
         "cort",
         "classic",
         "ac",
         "ac200",
         497219.0
        ],
        [
         "cort",
         "acustic",
         "mr",
         "mr730",
         1476465.0
        ],
        [
         "cort",
         "acustic",
         "mr",
         "mr730",
         1283882.0
        ],
        [
         "cort",
         "acustic",
         "earth",
         null,
         712620.0
        ],
        [
         "cort",
         "acustic",
         "earth",
         null,
         540568.0
        ],
        [
         "cort",
         "acustic",
         "earth",
         null,
         474740.0
        ],
        [
         "cort",
         "classic",
         "ac",
         "ac200",
         445862.0
        ],
        [
         "cort",
         "acustic",
         "af",
         "af510",
         598509.0
        ],
        [
         "cort",
         "acustic",
         "af",
         "af510",
         423680.0
        ],
        [
         "cort",
         "acustic",
         "ad",
         "ad810",
         439465.0
        ],
        [
         "cort",
         "acustic",
         "af",
         "af510",
         317101.0
        ],
        [
         "cort",
         "acustic",
         "ad",
         "ad810",
         598509.0
        ],
        [
         "cort",
         "acustic",
         "af",
         "af510",
         605864.0
        ],
        [
         "cort",
         "acustic",
         "af",
         "af510",
         431861.0
        ],
        [
         "cort",
         "acustic",
         "af",
         "af510",
         393806.0
        ],
        [
         "cort",
         "acustic",
         "ad",
         "ad810",
         332169.0
        ],
        [
         "cort",
         "acustic",
         "ad",
         "ad810",
         415212.0
        ],
        [
         "cort",
         "acustic",
         "ad",
         "ad810",
         360308.0
        ],
        [
         "cort",
         "classic",
         "ac",
         "ac150",
         465798.0
        ],
        [
         "cort",
         "classic",
         "ac",
         "ac150",
         465798.0
        ],
        [
         "cort",
         "acustic",
         "earth",
         null,
         543181.0
        ],
        [
         "cort",
         "acustic",
         "earth",
         null,
         624658.0
        ],
        [
         "cort",
         "classic",
         "ac",
         "ac150",
         405041.0
        ],
        [
         "cort",
         "acustic",
         "earth",
         null,
         540568.0
        ],
        [
         "cort",
         "acustic",
         "af",
         "af590",
         493800.0
        ],
        [
         "cort",
         "acustic",
         "ad",
         "ad810",
         330544.0
        ],
        [
         "cort",
         "acustic",
         "l",
         "l100",
         638649.0
        ],
        [
         "cort",
         "acustic",
         "ad",
         "ad810",
         330544.0
        ],
        [
         "cort",
         "acustic",
         "ad",
         "ad810",
         368141.0
        ],
        [
         "cort",
         "classic",
         "ac",
         "ac250",
         752213.0
        ],
        [
         "cort",
         "acustic",
         "af",
         "af510",
         320911.0
        ],
        [
         "cort",
         "acustic",
         "ad",
         "ad810",
         368141.0
        ],
        [
         "cort",
         "acustic",
         "earth",
         null,
         714826.0
        ],
        [
         "cort",
         "acustic",
         "earth",
         null,
         641822.0
        ],
        [
         "cort",
         "acustic",
         "earth",
         null,
         770795.0
        ],
        [
         "cort",
         "acustic",
         "ad",
         "ad810",
         396966.0
        ],
        [
         "cort",
         "acustic",
         "ad",
         "ad810",
         535064.0
        ],
        [
         "cort",
         "acustic",
         "af",
         "af510",
         357413.0
        ],
        [
         "cort",
         "acustic",
         "earth",
         null,
         412817.0
        ],
        [
         "cort",
         "acustic",
         "earth",
         null,
         744436.0
        ],
        [
         "cort",
         "acustic",
         "earth",
         null,
         412818.0
        ],
        [
         "cort",
         "acustic",
         "earth",
         null,
         670124.0
        ],
        [
         "cort",
         "acustic",
         "l",
         "l450",
         1238847.0
        ],
        [
         "cort",
         "classic",
         "ac",
         "ac160",
         762463.0
        ],
        [
         "cort",
         "acustic",
         "mr",
         "mr710",
         1074510.0
        ],
        [
         "cort",
         "acustic",
         "af",
         "af510",
         441557.0
        ],
        [
         "cort",
         "acustic",
         "af",
         "af510",
         302008.0
        ],
        [
         "cort",
         "classic",
         "ac",
         "ac150",
         405041.0
        ],
        [
         "cort",
         "acustic",
         "earth",
         null,
         385164.0
        ],
        [
         "cort",
         "acustic",
         "af",
         "af590",
         493800.0
        ],
        [
         "cort",
         "classic",
         "ac",
         "ac200",
         432364.0
        ],
        [
         "cort",
         "acustic",
         "mr",
         "mr710",
         965380.0
        ],
        [
         "cort",
         "acustic",
         "earth",
         null,
         442938.0
        ],
        [
         "cort",
         "acustic",
         "earth",
         null,
         699616.0
        ],
        [
         "cort",
         "acustic",
         "mr",
         "mr710",
         1074510.0
        ],
        [
         "cort",
         "acustic",
         "ad",
         "ad810",
         437414.0
        ],
        [
         "cort",
         "acustic",
         "earth",
         null,
         998794.0
        ],
        [
         "cort",
         "acustic",
         "earth",
         null,
         812990.0
        ],
        [
         "cort",
         "acustic",
         "ad",
         "ad810",
         549990.0
        ],
        [
         "cort",
         "acustic",
         "ad",
         "ad810",
         332169.0
        ],
        [
         "cort",
         "acustic",
         "mr",
         "mr710",
         839461.0
        ],
        [
         "cort",
         "acustic",
         "af",
         "af510",
         304181.0
        ],
        [
         "cort",
         "acustic",
         "ad",
         "ad810",
         418538.0
        ],
        [
         "cort",
         "acustic",
         "earth",
         null,
         998794.0
        ],
        [
         "cort",
         "acustic",
         "earth",
         null,
         812990.0
        ],
        [
         "cort",
         "acustic",
         "ad",
         "ad810",
         549990.0
        ],
        [
         "cort",
         "acustic",
         "ad",
         "ad810",
         332169.0
        ],
        [
         "cort",
         "acustic",
         "mr",
         "mr710",
         839461.0
        ],
        [
         "cort",
         "acustic",
         "af",
         "af510",
         304181.0
        ],
        [
         "cort",
         "acustic",
         "ad",
         "ad810",
         418538.0
        ],
        [
         "cort",
         "acustic",
         "earth",
         null,
         768610.0
        ],
        [
         "cort",
         "acustic",
         "mr",
         "mr710",
         1120990.0
        ],
        [
         "cort",
         "acustic",
         "earth",
         null,
         997990.0
        ],
        [
         "cort",
         "acustic",
         "ad",
         "ad810",
         584990.0
        ],
        [
         "cort",
         "acustic",
         "ad",
         "ad810",
         423990.0
        ],
        [
         "cort",
         "acustic",
         "af",
         "af590",
         622188.0
        ],
        [
         "cort",
         "acustic",
         "earth",
         null,
         768610.0
        ],
        [
         "cort",
         "acustic",
         "earth",
         null,
         608362.0
        ],
        [
         "cort",
         "acustic",
         "earth",
         null,
         608362.0
        ],
        [
         "cort",
         "acustic",
         "earth",
         null,
         812990.0
        ],
        [
         "cort",
         "acustic",
         "earth",
         null,
         998794.0
        ],
        [
         "cort",
         "acustic",
         "ad",
         "ad810",
         449990.0
        ],
        [
         "cort",
         "acustic",
         "ad",
         "ad810",
         313312.0
        ],
        [
         "cort",
         "acustic",
         "ad",
         "ad810",
         423990.0
        ],
        [
         "cort",
         "acustic",
         "af",
         "af510",
         315045.0
        ],
        [
         "cort",
         "acustic",
         "af",
         "af510",
         428990.0
        ],
        [
         "cort",
         "acustic",
         "af",
         "af510",
         417990.0
        ],
        [
         "cort",
         "acustic",
         "ad",
         "ad810",
         335784.0
        ],
        [
         "cort",
         "acustic",
         "ad",
         "ad810",
         313312.0
        ],
        [
         "cort",
         "acustic",
         "earth",
         null,
         768610.0
        ],
        [
         "cort",
         "acustic",
         "earth",
         null,
         812990.0
        ],
        [
         "cort",
         "acustic",
         "earth",
         null,
         540568.0
        ],
        [
         "cort",
         "acustic",
         "ad",
         "ad810",
         360308.0
        ],
        [
         "cort",
         "acustic",
         "earth",
         null,
         412817.0
        ],
        [
         "cort",
         "acustic",
         "mr",
         "mr600",
         763005.0
        ],
        [
         "cort",
         "acustic",
         "mr",
         "mr710",
         839461.0
        ],
        [
         "cort",
         "acustic",
         "ad",
         "ad810",
         518996.0
        ],
        [
         "cort",
         "acustic",
         "ad",
         "ad810",
         418500.0
        ],
        [
         "cort",
         "acustic",
         "ad",
         "ad880",
         437409.0
        ],
        [
         "cort",
         "acustic",
         "ad",
         "ad880",
         614810.0
        ],
        [
         "cort",
         "acustic",
         "af",
         "af510",
         520297.0
        ],
        [
         "cort",
         "acustic",
         "ad",
         "ad810",
         388500.0
        ],
        [
         "cort",
         "acustic",
         "ad",
         "ad810",
         418545.0
        ],
        [
         "cort",
         "acustic",
         "th",
         "th100",
         608362.0
        ],
        [
         "cort",
         "acustic",
         "mr",
         "mr730",
         246077.0
        ],
        [
         "cort",
         "acustic",
         "ad",
         "ad810",
         418538.0
        ],
        [
         "cort",
         "acustic",
         "af",
         "af510",
         491782.0
        ],
        [
         "cort",
         "acustic",
         "earth",
         null,
         385164.0
        ],
        [
         "cort",
         "acustic",
         "earth",
         null,
         470059.0
        ],
        [
         "cort",
         "acustic",
         "earth",
         null,
         480109.0
        ],
        [
         "cort",
         "acustic",
         "earth",
         null,
         442939.0
        ],
        [
         "cort",
         "acustic",
         "ad",
         "ad810",
         313312.0
        ],
        [
         "cort",
         "acustic",
         "earth",
         null,
         767457.0
        ],
        [
         "cort",
         "acustic",
         "af",
         "af510",
         347301.0
        ],
        [
         "cort",
         "acustic",
         "ad",
         "ad810",
         368031.0
        ],
        [
         "cort",
         "acustic",
         "earth",
         null,
         819513.0
        ],
        [
         "cort",
         "acustic",
         "af",
         "af510",
         374491.0
        ],
        [
         "cort",
         "acustic",
         "earth",
         null,
         474740.0
        ],
        [
         "squier",
         "electric",
         "bullet",
         "telecaster",
         521039.0
        ],
        [
         "squier",
         "electric",
         "bullet",
         "stratocaster",
         453077.0
        ],
        [
         "squier",
         "electric",
         "bullet",
         "stratocaster",
         453077.0
        ],
        [
         "squier",
         "electric",
         "affinity",
         "stratocaster",
         786028.0
        ],
        [
         "squier",
         "electric",
         "bullet",
         "telecaster",
         521039.0
        ],
        [
         "squier",
         "electric",
         "contemporary",
         "telecaster",
         184825.0
        ],
        [
         "squier",
         "electric",
         "affinity",
         "stratocaster",
         786028.0
        ],
        [
         "squier",
         "electric",
         "affinity",
         "stratocaster",
         786028.0
        ],
        [
         "squier",
         "electric",
         "bullet",
         "stratocaster",
         453639.0
        ],
        [
         "squier",
         "electric",
         "affinity",
         "telecaster",
         829264.0
        ],
        [
         "squier",
         "electric",
         "affinity",
         "telecaster",
         598357.0
        ],
        [
         "squier",
         "electric",
         "affinity",
         "stratocaster",
         683506.0
        ],
        [
         "squier",
         "electric",
         "affinity",
         "stratocaster",
         598357.0
        ],
        [
         "squier",
         "electric",
         "affinity",
         "stratocaster",
         683502.0
        ],
        [
         "squier",
         "electric",
         "affinity",
         "telecaster",
         523238.0
        ],
        [
         "squier",
         "electric",
         "bullet",
         "stratocaster",
         521039.0
        ],
        [
         "squier",
         "electric",
         "affinity",
         "stratocaster",
         683506.0
        ],
        [
         "squier",
         "electric",
         "bullet",
         "stratocaster",
         521039.0
        ],
        [
         "squier",
         "electric",
         "bullet",
         "telecaster",
         453077.0
        ],
        [
         "squier",
         "electric",
         "bullet",
         "telecaster",
         696516.0
        ],
        [
         "squier",
         "electric",
         "affinity",
         "telecaster",
         544998.0
        ],
        [
         "squier",
         "electric",
         "bullet",
         "telecaster",
         597498.0
        ],
        [
         "squier",
         "electric",
         "bullet",
         "telecaster",
         549698.0
        ],
        [
         "squier",
         "electric",
         "contemporary",
         "stratocaster",
         1001315.0
        ],
        [
         "squier",
         "electric",
         "bullet",
         "stratocaster",
         599000.0
        ],
        [
         "squier",
         "electric",
         "bullet",
         "telecaster",
         605666.0
        ],
        [
         "squier",
         "electric",
         "affinity",
         null,
         829264.0
        ],
        [
         "squier",
         "electric",
         "bullet",
         "stratocaster",
         569999.0
        ],
        [
         "squier",
         "electric",
         "contemporary",
         "telecaster",
         184825.0
        ],
        [
         "squier",
         "electric",
         "bullet",
         "stratocaster",
         545000.0
        ],
        [
         "squier",
         "electric",
         "affinity",
         "telecaster",
         626747.0
        ],
        [
         "squier",
         "electric",
         "contemporary",
         "telecaster",
         899997.0
        ],
        [
         "squier",
         "electric",
         "contemporary",
         "stratocaster",
         833770.0
        ],
        [
         "squier",
         "electric",
         "bullet",
         "telecaster",
         669198.0
        ],
        [
         "squier",
         "electric",
         "affinity",
         "telecaster",
         860202.0
        ],
        [
         "squier",
         "electric",
         "affinity",
         "telecaster",
         721099.0
        ],
        [
         "squier",
         "electric",
         "bullet",
         "telecaster",
         716998.0
        ],
        [
         "squier",
         "electric",
         "affinity",
         "stratocaster",
         683502.0
        ],
        [
         "squier",
         "electric",
         "bullet",
         "telecaster",
         716998.0
        ],
        [
         "squier",
         "electric",
         "bullet",
         "telecaster",
         549698.0
        ],
        [
         "squier",
         "electric",
         "bullet",
         "telecaster",
         949999.0
        ],
        [
         "squier",
         "electric",
         "contemporary",
         "stratocaster",
         1500036.0
        ],
        [
         "squier",
         "electric",
         "affinity",
         "telecaster",
         1193566.0
        ],
        [
         "squier",
         "electric",
         "affinity",
         "stratocaster",
         683502.0
        ],
        [
         "squier",
         "electric",
         "affinity",
         "telecaster",
         788681.0
        ],
        [
         "squier",
         "electric",
         "affinity",
         "stratocaster",
         786027.0
        ],
        [
         "squier",
         "electric",
         "affinity",
         "telecaster",
         749999.0
        ],
        [
         "squier",
         "electric",
         "affinity",
         null,
         721099.0
        ],
        [
         "squier",
         "electric",
         "affinity",
         "telecaster",
         829264.0
        ],
        [
         "squier",
         "electric",
         "affinity",
         "telecaster",
         906984.0
        ],
        [
         "squier",
         "electric",
         "affinity",
         "stratocaster",
         958045.0
        ],
        [
         "squier",
         "electric",
         "affinity",
         "telecaster",
         721099.0
        ],
        [
         "squier",
         "electric",
         "affinity",
         "telecaster",
         958045.0
        ],
        [
         "squier",
         "electric",
         "affinity",
         "stratocaster",
         829265.0
        ],
        [
         "squier",
         "electric",
         "contemporary",
         "stratocaster",
         1350032.0
        ],
        [
         "squier",
         "electric",
         "affinity",
         "stratocaster",
         786028.0
        ],
        [
         "squier",
         "electric",
         "affinity",
         "telecaster",
         626747.0
        ],
        [
         "squier",
         "electric",
         "affinity",
         "telecaster",
         785399.0
        ],
        [
         "squier",
         "electric",
         "bullet",
         "telecaster",
         477998.0
        ],
        [
         "squier",
         "electric",
         "contemporary",
         null,
         287506.0
        ],
        [
         "squier",
         "electric",
         "bullet",
         "stratocaster",
         566035.0
        ],
        [
         "squier",
         "electric",
         "affinity",
         "stratocaster",
         958045.0
        ],
        [
         "squier",
         "electric",
         "affinity",
         "telecaster",
         869549.0
        ],
        [
         "squier",
         "electric",
         "affinity",
         null,
         829264.0
        ],
        [
         "squier",
         "electric",
         "contemporary",
         "telecaster",
         1034997.0
        ],
        [
         "squier",
         "electric",
         "affinity",
         "telecaster",
         721099.0
        ],
        [
         "squier",
         "electric",
         "bullet",
         "telecaster",
         453077.0
        ],
        [
         "squier",
         "electric",
         "contemporary",
         "stratocaster",
         945307.0
        ],
        [
         "squier",
         "electric",
         "contemporary",
         "stratocaster",
         1552537.0
        ],
        [
         "squier",
         "electric",
         "affinity",
         "telecaster",
         829264.0
        ],
        [
         "squier",
         "electric",
         "affinity",
         "stratocaster",
         958045.0
        ],
        [
         "squier",
         "electric",
         "contemporary",
         "telecaster",
         899997.0
        ],
        [
         "squier",
         "electric",
         "bullet",
         "telecaster",
         521039.0
        ],
        [
         "squier",
         "electric",
         "affinity",
         "stratocaster",
         860202.0
        ],
        [
         "squier",
         "electric",
         "affinity",
         "telecaster",
         829264.0
        ],
        [
         "squier",
         "electric",
         "bullet",
         "telecaster",
         477998.0
        ],
        [
         "squier",
         "electric",
         "affinity",
         "stratocaster",
         901375.0
        ],
        [
         "squier",
         "electric",
         "bullet",
         "telecaster",
         597498.0
        ],
        [
         "squier",
         "electric",
         "contemporary",
         "telecaster",
         1108955.0
        ],
        [
         "squier",
         "electric",
         "contemporary",
         "telecaster",
         964308.0
        ],
        [
         "squier",
         "electric",
         "affinity",
         "stratocaster",
         829265.0
        ],
        [
         "squier",
         "electric",
         "affinity",
         "stratocaster",
         683502.0
        ],
        [
         "squier",
         "electric",
         "bullet",
         "stratocaster",
         508227.0
        ],
        [
         "squier",
         "electric",
         "contemporary",
         "stratocaster",
         928607.0
        ],
        [
         "squier",
         "electric",
         "affinity",
         null,
         829264.0
        ],
        [
         "squier",
         "electric",
         "contemporary",
         "telecaster",
         1124997.0
        ],
        [
         "squier",
         "electric",
         "affinity",
         "stratocaster",
         829265.0
        ],
        [
         "squier",
         "electric",
         "affinity",
         "stratocaster",
         721100.0
        ],
        [
         "squier",
         "electric",
         "affinity",
         "telecaster",
         560999.0
        ],
        [
         "squier",
         "electric",
         "contemporary",
         "telecaster",
         1124778.0
        ],
        [
         "squier",
         "electric",
         "affinity",
         "stratocaster",
         1033058.0
        ],
        [
         "squier",
         "electric",
         "affinity",
         "stratocaster",
         860202.0
        ],
        [
         "squier",
         "electric",
         "affinity",
         "stratocaster",
         1399349.0
        ],
        [
         "squier",
         "electric",
         "affinity",
         "telecaster",
         860202.0
        ],
        [
         "squier",
         "electric",
         "bullet",
         "stratocaster",
         453077.0
        ],
        [
         "squier",
         "electric",
         "bullet",
         "stratocaster",
         521038.0
        ],
        [
         "squier",
         "electric",
         "affinity",
         "stratocaster",
         998970.0
        ],
        [
         "squier",
         "electric",
         "affinity",
         "telecaster",
         1044999.0
        ],
        [
         "squier",
         "electric",
         "affinity",
         "stratocaster",
         721100.0
        ],
        [
         "squier",
         "electric",
         "affinity",
         "stratocaster",
         1082951.0
        ],
        [
         "squier",
         "electric",
         "contemporary",
         "telecaster",
         899997.0
        ],
        [
         "squier",
         "electric",
         "affinity",
         "stratocaster",
         1517855.0
        ],
        [
         "squier",
         "electric",
         "affinity",
         "telecaster",
         1329999.0
        ],
        [
         "squier",
         "electric",
         "affinity",
         "stratocaster",
         829265.0
        ],
        [
         "squier",
         "electric",
         "affinity",
         "telecaster",
         829264.0
        ],
        [
         "squier",
         "electric",
         "affinity",
         "telecaster",
         1443359.0
        ],
        [
         "squier",
         "electric",
         "affinity",
         "telecaster",
         958045.0
        ],
        [
         "squier",
         "electric",
         "affinity",
         "stratocaster",
         1193566.0
        ],
        [
         "squier",
         "electric",
         "bullet",
         "telecaster",
         620927.0
        ],
        [
         "squier",
         "electric",
         "bullet",
         "telecaster",
         696516.0
        ],
        [
         "squier",
         "electric",
         "bullet",
         "stratocaster",
         866015.0
        ],
        [
         "squier",
         "electric",
         "classic vibe",
         "telecaster",
         1872902.0
        ],
        [
         "squier",
         "electric",
         "bullet",
         null,
         605666.0
        ],
        [
         "squier",
         "electric",
         "affinity",
         null,
         983545.0
        ],
        [
         "squier",
         "electric",
         "affinity",
         "stratocaster",
         721100.0
        ],
        [
         "squier",
         "electric",
         "affinity",
         "stratocaster",
         721100.0
        ],
        [
         "squier",
         "electric",
         "affinity",
         "telecaster",
         361609.0
        ],
        [
         "squier",
         "electric",
         "classic vibe",
         "telecaster",
         1140028.0
        ],
        [
         "squier",
         "electric",
         "classic vibe",
         "telecaster",
         1628611.0
        ],
        [
         "squier",
         "electric",
         "classic vibe",
         "telecaster",
         1447835.0
        ],
        [
         "squier",
         "electric",
         "bullet",
         "stratocaster",
         669116.0
        ],
        [
         "squier",
         "electric",
         "affinity",
         "telecaster",
         544998.0
        ],
        [
         "squier",
         "electric",
         "affinity",
         "telecaster",
         729980.0
        ],
        [
         "squier",
         "electric",
         "affinity",
         "telecaster",
         601724.0
        ],
        [
         "squier",
         "electric",
         "classic vibe",
         null,
         3249159.0
        ],
        [
         "squier",
         "electric",
         "classic vibe",
         "stratocaster",
         1659000.0
        ],
        [
         "squier",
         "electric",
         "classic vibe",
         "stratocaster",
         1652000.0
        ],
        [
         "squier",
         "electric",
         "classic vibe",
         "telecaster",
         1666000.0
        ],
        [
         "squier",
         "electric",
         "bullet",
         "telecaster",
         549698.0
        ],
        [
         "squier",
         "electric",
         "classic vibe",
         "telecaster",
         1628611.0
        ],
        [
         "squier",
         "electric",
         "classic vibe",
         "telecaster",
         1872902.0
        ]
       ],
       "datasetInfos": [],
       "dbfsResultPath": null,
       "isJsonSchema": true,
       "metadata": {},
       "overflow": false,
       "plotOptions": {
        "customPlotOptions": {},
        "displayType": "table",
        "pivotAggregation": null,
        "pivotColumns": null,
        "xColumns": null,
        "yColumns": null
       },
       "removedWidgets": [],
       "schema": [
        {
         "metadata": "{}",
         "name": "brand",
         "type": "\"string\""
        },
        {
         "metadata": "{}",
         "name": "type",
         "type": "\"string\""
        },
        {
         "metadata": "{}",
         "name": "series",
         "type": "\"string\""
        },
        {
         "metadata": "{}",
         "name": "model",
         "type": "\"string\""
        },
        {
         "metadata": "{}",
         "name": "price",
         "type": "\"float\""
        }
       ],
       "type": "table"
      }
     },
     "output_type": "display_data"
    }
   ],
   "source": [
    "%sql \n",
    "\n",
    "SELECT * FROM guitars_view"
   ]
  },
  {
   "cell_type": "markdown",
   "metadata": {
    "application/vnd.databricks.v1+cell": {
     "cellMetadata": {
      "byteLimit": 2048000,
      "rowLimit": 10000
     },
     "inputWidgets": {},
     "nuid": "1ab49c6d-3f4f-4257-ba5e-c82cb34dd77a",
     "showTitle": false,
     "tableResultSettingsMap": {},
     "title": ""
    }
   },
   "source": [
    "# Paso de un esquema relacional a un esquema estrella\n"
   ]
  },
  {
   "cell_type": "code",
   "execution_count": 0,
   "metadata": {
    "application/vnd.databricks.v1+cell": {
     "cellMetadata": {
      "byteLimit": 2048000,
      "rowLimit": 10000
     },
     "inputWidgets": {},
     "nuid": "842fa212-cf34-47eb-af7d-b828dc7f8794",
     "showTitle": false,
     "tableResultSettingsMap": {},
     "title": ""
    }
   },
   "outputs": [],
   "source": [
    "from pyspark.sql.functions import monotonically_increasing_id"
   ]
  },
  {
   "cell_type": "code",
   "execution_count": 0,
   "metadata": {
    "application/vnd.databricks.v1+cell": {
     "cellMetadata": {
      "byteLimit": 2048000,
      "rowLimit": 10000
     },
     "inputWidgets": {},
     "nuid": "f61663fe-5845-472e-ac36-45bc34c5b330",
     "showTitle": false,
     "tableResultSettingsMap": {},
     "title": ""
    }
   },
   "outputs": [],
   "source": [
    "# Dimensiones\n",
    "dim_brand = df_guitars.select(\"brand\").distinct().withColumn(\"id_brand\", monotonically_increasing_id())\n",
    "dim_type = df_guitars.select(\"type\").distinct().withColumn(\"id_type\", monotonically_increasing_id())\n",
    "dim_series = df_guitars.select(\"series\").distinct().withColumn(\"id_series\", monotonically_increasing_id())\n",
    "\n",
    "# Agregar IDs a df\n",
    "df = df_guitars.join(dim_brand, on=\"brand\") \\\n",
    "       .join(dim_type, on=\"type\") \\\n",
    "       .join(dim_series, on=\"series\")\n",
    "\n",
    "# Crear dim_modelo\n",
    "dim_model = df.select(\"model\", \"id_brand\", \"id_type\", \"id_series\").distinct() \\\n",
    "               .withColumn(\"id_model\", monotonically_increasing_id())\n",
    "\n",
    "# Tabla de hechos\n",
    "fact_guitar = df.join(dim_model, on=[\"model\", \"id_brand\", \"id_type\", \"id_series\"]) \\\n",
    "                   .select(\"id_model\", \"price\")"
   ]
  },
  {
   "cell_type": "markdown",
   "metadata": {
    "application/vnd.databricks.v1+cell": {
     "cellMetadata": {
      "byteLimit": 2048000,
      "rowLimit": 10000
     },
     "inputWidgets": {},
     "nuid": "a9bb4119-0502-46b5-90b3-3f294d19fb9d",
     "showTitle": false,
     "tableResultSettingsMap": {},
     "title": ""
    }
   },
   "source": [
    "# Creo la base de datos en databricks"
   ]
  },
  {
   "cell_type": "code",
   "execution_count": 0,
   "metadata": {
    "application/vnd.databricks.v1+cell": {
     "cellMetadata": {
      "byteLimit": 2048000,
      "rowLimit": 10000
     },
     "inputWidgets": {},
     "nuid": "0bb743c7-652d-43e6-a99c-f6aa7637cfac",
     "showTitle": false,
     "tableResultSettingsMap": {},
     "title": ""
    }
   },
   "outputs": [
    {
     "output_type": "stream",
     "name": "stdout",
     "output_type": "stream",
     "text": [
      "Out[70]: DataFrame[]"
     ]
    }
   ],
   "source": [
    "spark.sql(\"CREATE DATABASE IF NOT EXISTS guitar_db\")"
   ]
  },
  {
   "cell_type": "code",
   "execution_count": 0,
   "metadata": {
    "application/vnd.databricks.v1+cell": {
     "cellMetadata": {
      "byteLimit": 2048000,
      "rowLimit": 10000
     },
     "inputWidgets": {},
     "nuid": "c5c47b70-4ab1-49c5-bf2c-6dc3ff965bd8",
     "showTitle": false,
     "tableResultSettingsMap": {},
     "title": ""
    }
   },
   "outputs": [],
   "source": [
    "dim_brand.write.mode(\"overwrite\").saveAsTable(\"guitar_db.dim_brand\")\n",
    "dim_type.write.mode(\"overwrite\").saveAsTable(\"guitar_db.dim_type\")\n",
    "dim_series.write.mode(\"overwrite\").saveAsTable(\"guitar_db.dim_series\")\n",
    "dim_model.write.mode(\"overwrite\").saveAsTable(\"guitar_db.dim_model\")\n",
    "fact_guitar.write.mode(\"overwrite\").saveAsTable(\"guitar_db.fact_guitar\")\n"
   ]
  },
  {
   "cell_type": "code",
   "execution_count": 0,
   "metadata": {
    "application/vnd.databricks.v1+cell": {
     "cellMetadata": {
      "byteLimit": 2048000,
      "implicitDf": true,
      "rowLimit": 10000
     },
     "inputWidgets": {},
     "nuid": "16cb4e16-5994-4258-8409-00dea98096bd",
     "showTitle": false,
     "tableResultSettingsMap": {},
     "title": ""
    }
   },
   "outputs": [
    {
     "output_type": "display_data",
     "data": {
      "text/html": [
       "<style scoped>\n",
       "  .table-result-container {\n",
       "    max-height: 300px;\n",
       "    overflow: auto;\n",
       "  }\n",
       "  table, th, td {\n",
       "    border: 1px solid black;\n",
       "    border-collapse: collapse;\n",
       "  }\n",
       "  th, td {\n",
       "    padding: 5px;\n",
       "  }\n",
       "  th {\n",
       "    text-align: left;\n",
       "  }\n",
       "</style><div class='table-result-container'><table class='table-result'><thead style='background-color: white'><tr><th>database</th><th>tableName</th><th>isTemporary</th></tr></thead><tbody><tr><td>guitar_db</td><td>dim_brand</td><td>false</td></tr><tr><td>guitar_db</td><td>dim_model</td><td>false</td></tr><tr><td>guitar_db</td><td>dim_series</td><td>false</td></tr><tr><td>guitar_db</td><td>dim_type</td><td>false</td></tr><tr><td>guitar_db</td><td>fact_guitar</td><td>false</td></tr></tbody></table></div>"
      ]
     },
     "metadata": {
      "application/vnd.databricks.v1+output": {
       "addedWidgets": {},
       "aggData": [],
       "aggError": "",
       "aggOverflow": false,
       "aggSchema": [],
       "aggSeriesLimitReached": false,
       "aggType": "",
       "arguments": {},
       "columnCustomDisplayInfos": {},
       "data": [
        [
         "guitar_db",
         "dim_brand",
         false
        ],
        [
         "guitar_db",
         "dim_model",
         false
        ],
        [
         "guitar_db",
         "dim_series",
         false
        ],
        [
         "guitar_db",
         "dim_type",
         false
        ],
        [
         "guitar_db",
         "fact_guitar",
         false
        ]
       ],
       "datasetInfos": [],
       "dbfsResultPath": null,
       "isJsonSchema": true,
       "metadata": {},
       "overflow": false,
       "plotOptions": {
        "customPlotOptions": {},
        "displayType": "table",
        "pivotAggregation": null,
        "pivotColumns": null,
        "xColumns": null,
        "yColumns": null
       },
       "removedWidgets": [],
       "schema": [
        {
         "metadata": "{}",
         "name": "database",
         "type": "\"string\""
        },
        {
         "metadata": "{}",
         "name": "tableName",
         "type": "\"string\""
        },
        {
         "metadata": "{}",
         "name": "isTemporary",
         "type": "\"boolean\""
        }
       ],
       "type": "table"
      }
     },
     "output_type": "display_data"
    }
   ],
   "source": [
    "%sql\n",
    "SHOW DATABASES;\n",
    "SHOW TABLES IN guitar_db;"
   ]
  },
  {
   "cell_type": "markdown",
   "metadata": {
    "application/vnd.databricks.v1+cell": {
     "cellMetadata": {
      "byteLimit": 2048000,
      "rowLimit": 10000
     },
     "inputWidgets": {},
     "nuid": "7dbaaffe-7cab-4e8b-8efd-7c94bc2355c4",
     "showTitle": false,
     "tableResultSettingsMap": {},
     "title": ""
    }
   },
   "source": [
    "Luego, en otro notebook realizo las consultas en SQL para hacer la comparación de todos los datos"
   ]
  }
 ],
 "metadata": {
  "application/vnd.databricks.v1+notebook": {
   "computePreferences": null,
   "dashboards": [],
   "environmentMetadata": {
    "base_environment": "",
    "environment_version": "1"
   },
   "inputWidgetPreferences": null,
   "language": "python",
   "notebookMetadata": {
    "mostRecentlyExecutedCommandWithImplicitDF": {
     "commandId": 2907620608859817,
     "dataframes": [
      "_sqldf"
     ]
    },
    "pythonIndentUnit": 4
   },
   "notebookName": "Limpieza de los Datos",
   "widgets": {}
  }
 },
 "nbformat": 4,
 "nbformat_minor": 0
}